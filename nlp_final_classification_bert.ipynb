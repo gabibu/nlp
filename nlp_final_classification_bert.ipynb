{
  "nbformat": 4,
  "nbformat_minor": 0,
  "metadata": {
    "colab": {
      "name": "nlp_final.ipynb",
      "provenance": [],
      "toc_visible": true
    },
    "kernelspec": {
      "name": "python3",
      "display_name": "Python 3"
    },
    "language_info": {
      "name": "python"
    },
    "accelerator": "GPU",
    "widgets": {
      "application/vnd.jupyter.widget-state+json": {
        "a8c8c5a2845f402da04ec496d766570a": {
          "model_module": "@jupyter-widgets/controls",
          "model_name": "HBoxModel",
          "model_module_version": "1.5.0",
          "state": {
            "_view_name": "HBoxView",
            "_dom_classes": [],
            "_model_name": "HBoxModel",
            "_view_module": "@jupyter-widgets/controls",
            "_model_module_version": "1.5.0",
            "_view_count": null,
            "_view_module_version": "1.5.0",
            "box_style": "",
            "layout": "IPY_MODEL_c06d633da4b84149b23c8e11c7cb7afc",
            "_model_module": "@jupyter-widgets/controls",
            "children": [
              "IPY_MODEL_0163fe8a21d24c3b928a62fbc5a69e09",
              "IPY_MODEL_f2f5eaab8b4e477baa143ca754746a77"
            ]
          }
        },
        "c06d633da4b84149b23c8e11c7cb7afc": {
          "model_module": "@jupyter-widgets/base",
          "model_name": "LayoutModel",
          "model_module_version": "1.2.0",
          "state": {
            "_view_name": "LayoutView",
            "grid_template_rows": null,
            "right": null,
            "justify_content": null,
            "_view_module": "@jupyter-widgets/base",
            "overflow": null,
            "_model_module_version": "1.2.0",
            "_view_count": null,
            "flex_flow": null,
            "width": null,
            "min_width": null,
            "border": null,
            "align_items": null,
            "bottom": null,
            "_model_module": "@jupyter-widgets/base",
            "top": null,
            "grid_column": null,
            "overflow_y": null,
            "overflow_x": null,
            "grid_auto_flow": null,
            "grid_area": null,
            "grid_template_columns": null,
            "flex": null,
            "_model_name": "LayoutModel",
            "justify_items": null,
            "grid_row": null,
            "max_height": null,
            "align_content": null,
            "visibility": null,
            "align_self": null,
            "height": null,
            "min_height": null,
            "padding": null,
            "grid_auto_rows": null,
            "grid_gap": null,
            "max_width": null,
            "order": null,
            "_view_module_version": "1.2.0",
            "grid_template_areas": null,
            "object_position": null,
            "object_fit": null,
            "grid_auto_columns": null,
            "margin": null,
            "display": null,
            "left": null
          }
        },
        "0163fe8a21d24c3b928a62fbc5a69e09": {
          "model_module": "@jupyter-widgets/controls",
          "model_name": "FloatProgressModel",
          "model_module_version": "1.5.0",
          "state": {
            "_view_name": "ProgressView",
            "style": "IPY_MODEL_2f16bc55cd114308a532536b344bc346",
            "_dom_classes": [],
            "description": "Downloading: 100%",
            "_model_name": "FloatProgressModel",
            "bar_style": "success",
            "max": 440473133,
            "_view_module": "@jupyter-widgets/controls",
            "_model_module_version": "1.5.0",
            "value": 440473133,
            "_view_count": null,
            "_view_module_version": "1.5.0",
            "orientation": "horizontal",
            "min": 0,
            "description_tooltip": null,
            "_model_module": "@jupyter-widgets/controls",
            "layout": "IPY_MODEL_8eb44bde87a5485f9572f7fb8b0d89bc"
          }
        },
        "f2f5eaab8b4e477baa143ca754746a77": {
          "model_module": "@jupyter-widgets/controls",
          "model_name": "HTMLModel",
          "model_module_version": "1.5.0",
          "state": {
            "_view_name": "HTMLView",
            "style": "IPY_MODEL_d24c7a68c4b1460dbbfa488e317ec0c1",
            "_dom_classes": [],
            "description": "",
            "_model_name": "HTMLModel",
            "placeholder": "​",
            "_view_module": "@jupyter-widgets/controls",
            "_model_module_version": "1.5.0",
            "value": " 440M/440M [02:18&lt;00:00, 3.19MB/s]",
            "_view_count": null,
            "_view_module_version": "1.5.0",
            "description_tooltip": null,
            "_model_module": "@jupyter-widgets/controls",
            "layout": "IPY_MODEL_32d92db219a04ce3bb3fff24ce3c8865"
          }
        },
        "2f16bc55cd114308a532536b344bc346": {
          "model_module": "@jupyter-widgets/controls",
          "model_name": "ProgressStyleModel",
          "model_module_version": "1.5.0",
          "state": {
            "_view_name": "StyleView",
            "_model_name": "ProgressStyleModel",
            "description_width": "initial",
            "_view_module": "@jupyter-widgets/base",
            "_model_module_version": "1.5.0",
            "_view_count": null,
            "_view_module_version": "1.2.0",
            "bar_color": null,
            "_model_module": "@jupyter-widgets/controls"
          }
        },
        "8eb44bde87a5485f9572f7fb8b0d89bc": {
          "model_module": "@jupyter-widgets/base",
          "model_name": "LayoutModel",
          "model_module_version": "1.2.0",
          "state": {
            "_view_name": "LayoutView",
            "grid_template_rows": null,
            "right": null,
            "justify_content": null,
            "_view_module": "@jupyter-widgets/base",
            "overflow": null,
            "_model_module_version": "1.2.0",
            "_view_count": null,
            "flex_flow": null,
            "width": null,
            "min_width": null,
            "border": null,
            "align_items": null,
            "bottom": null,
            "_model_module": "@jupyter-widgets/base",
            "top": null,
            "grid_column": null,
            "overflow_y": null,
            "overflow_x": null,
            "grid_auto_flow": null,
            "grid_area": null,
            "grid_template_columns": null,
            "flex": null,
            "_model_name": "LayoutModel",
            "justify_items": null,
            "grid_row": null,
            "max_height": null,
            "align_content": null,
            "visibility": null,
            "align_self": null,
            "height": null,
            "min_height": null,
            "padding": null,
            "grid_auto_rows": null,
            "grid_gap": null,
            "max_width": null,
            "order": null,
            "_view_module_version": "1.2.0",
            "grid_template_areas": null,
            "object_position": null,
            "object_fit": null,
            "grid_auto_columns": null,
            "margin": null,
            "display": null,
            "left": null
          }
        },
        "d24c7a68c4b1460dbbfa488e317ec0c1": {
          "model_module": "@jupyter-widgets/controls",
          "model_name": "DescriptionStyleModel",
          "model_module_version": "1.5.0",
          "state": {
            "_view_name": "StyleView",
            "_model_name": "DescriptionStyleModel",
            "description_width": "",
            "_view_module": "@jupyter-widgets/base",
            "_model_module_version": "1.5.0",
            "_view_count": null,
            "_view_module_version": "1.2.0",
            "_model_module": "@jupyter-widgets/controls"
          }
        },
        "32d92db219a04ce3bb3fff24ce3c8865": {
          "model_module": "@jupyter-widgets/base",
          "model_name": "LayoutModel",
          "model_module_version": "1.2.0",
          "state": {
            "_view_name": "LayoutView",
            "grid_template_rows": null,
            "right": null,
            "justify_content": null,
            "_view_module": "@jupyter-widgets/base",
            "overflow": null,
            "_model_module_version": "1.2.0",
            "_view_count": null,
            "flex_flow": null,
            "width": null,
            "min_width": null,
            "border": null,
            "align_items": null,
            "bottom": null,
            "_model_module": "@jupyter-widgets/base",
            "top": null,
            "grid_column": null,
            "overflow_y": null,
            "overflow_x": null,
            "grid_auto_flow": null,
            "grid_area": null,
            "grid_template_columns": null,
            "flex": null,
            "_model_name": "LayoutModel",
            "justify_items": null,
            "grid_row": null,
            "max_height": null,
            "align_content": null,
            "visibility": null,
            "align_self": null,
            "height": null,
            "min_height": null,
            "padding": null,
            "grid_auto_rows": null,
            "grid_gap": null,
            "max_width": null,
            "order": null,
            "_view_module_version": "1.2.0",
            "grid_template_areas": null,
            "object_position": null,
            "object_fit": null,
            "grid_auto_columns": null,
            "margin": null,
            "display": null,
            "left": null
          }
        }
      }
    }
  },
  "cells": [
    {
      "cell_type": "code",
      "metadata": {
        "id": "Cq7vz0__2J7K",
        "colab": {
          "base_uri": "https://localhost:8080/"
        },
        "outputId": "719daf3b-b3c5-4b30-96cc-701f554679cf"
      },
      "source": [
        "!pip install -q kaggle\n",
        "!pip install transformers\n",
        "!pip install unidecode\n",
        "!pip install torch\n",
        "!pip install tqdm\n",
        "!pip install transformers\n"
      ],
      "execution_count": 1,
      "outputs": [
        {
          "output_type": "stream",
          "text": [
            "Collecting transformers\n",
            "  Downloading transformers-4.9.2-py3-none-any.whl (2.6 MB)\n",
            "\u001b[K     |████████████████████████████████| 2.6 MB 12.4 MB/s \n",
            "\u001b[?25hRequirement already satisfied: filelock in /usr/local/lib/python3.7/dist-packages (from transformers) (3.0.12)\n",
            "Collecting sacremoses\n",
            "  Downloading sacremoses-0.0.45-py3-none-any.whl (895 kB)\n",
            "\u001b[K     |████████████████████████████████| 895 kB 43.5 MB/s \n",
            "\u001b[?25hRequirement already satisfied: tqdm>=4.27 in /usr/local/lib/python3.7/dist-packages (from transformers) (4.41.1)\n",
            "Collecting tokenizers<0.11,>=0.10.1\n",
            "  Downloading tokenizers-0.10.3-cp37-cp37m-manylinux_2_5_x86_64.manylinux1_x86_64.manylinux_2_12_x86_64.manylinux2010_x86_64.whl (3.3 MB)\n",
            "\u001b[K     |████████████████████████████████| 3.3 MB 37.9 MB/s \n",
            "\u001b[?25hRequirement already satisfied: regex!=2019.12.17 in /usr/local/lib/python3.7/dist-packages (from transformers) (2019.12.20)\n",
            "Requirement already satisfied: requests in /usr/local/lib/python3.7/dist-packages (from transformers) (2.23.0)\n",
            "Collecting huggingface-hub==0.0.12\n",
            "  Downloading huggingface_hub-0.0.12-py3-none-any.whl (37 kB)\n",
            "Collecting pyyaml>=5.1\n",
            "  Downloading PyYAML-5.4.1-cp37-cp37m-manylinux1_x86_64.whl (636 kB)\n",
            "\u001b[K     |████████████████████████████████| 636 kB 42.0 MB/s \n",
            "\u001b[?25hRequirement already satisfied: packaging in /usr/local/lib/python3.7/dist-packages (from transformers) (21.0)\n",
            "Requirement already satisfied: numpy>=1.17 in /usr/local/lib/python3.7/dist-packages (from transformers) (1.19.5)\n",
            "Requirement already satisfied: importlib-metadata in /usr/local/lib/python3.7/dist-packages (from transformers) (4.6.1)\n",
            "Requirement already satisfied: typing-extensions in /usr/local/lib/python3.7/dist-packages (from huggingface-hub==0.0.12->transformers) (3.7.4.3)\n",
            "Requirement already satisfied: pyparsing>=2.0.2 in /usr/local/lib/python3.7/dist-packages (from packaging->transformers) (2.4.7)\n",
            "Requirement already satisfied: zipp>=0.5 in /usr/local/lib/python3.7/dist-packages (from importlib-metadata->transformers) (3.5.0)\n",
            "Requirement already satisfied: certifi>=2017.4.17 in /usr/local/lib/python3.7/dist-packages (from requests->transformers) (2021.5.30)\n",
            "Requirement already satisfied: chardet<4,>=3.0.2 in /usr/local/lib/python3.7/dist-packages (from requests->transformers) (3.0.4)\n",
            "Requirement already satisfied: urllib3!=1.25.0,!=1.25.1,<1.26,>=1.21.1 in /usr/local/lib/python3.7/dist-packages (from requests->transformers) (1.24.3)\n",
            "Requirement already satisfied: idna<3,>=2.5 in /usr/local/lib/python3.7/dist-packages (from requests->transformers) (2.10)\n",
            "Requirement already satisfied: six in /usr/local/lib/python3.7/dist-packages (from sacremoses->transformers) (1.15.0)\n",
            "Requirement already satisfied: joblib in /usr/local/lib/python3.7/dist-packages (from sacremoses->transformers) (1.0.1)\n",
            "Requirement already satisfied: click in /usr/local/lib/python3.7/dist-packages (from sacremoses->transformers) (7.1.2)\n",
            "Installing collected packages: tokenizers, sacremoses, pyyaml, huggingface-hub, transformers\n",
            "  Attempting uninstall: pyyaml\n",
            "    Found existing installation: PyYAML 3.13\n",
            "    Uninstalling PyYAML-3.13:\n",
            "      Successfully uninstalled PyYAML-3.13\n",
            "Successfully installed huggingface-hub-0.0.12 pyyaml-5.4.1 sacremoses-0.0.45 tokenizers-0.10.3 transformers-4.9.2\n",
            "Collecting unidecode\n",
            "  Downloading Unidecode-1.2.0-py2.py3-none-any.whl (241 kB)\n",
            "\u001b[K     |████████████████████████████████| 241 kB 12.2 MB/s \n",
            "\u001b[?25hInstalling collected packages: unidecode\n",
            "Successfully installed unidecode-1.2.0\n",
            "Requirement already satisfied: torch in /usr/local/lib/python3.7/dist-packages (1.9.0+cu102)\n",
            "Requirement already satisfied: typing-extensions in /usr/local/lib/python3.7/dist-packages (from torch) (3.7.4.3)\n",
            "Requirement already satisfied: tqdm in /usr/local/lib/python3.7/dist-packages (4.41.1)\n",
            "Requirement already satisfied: transformers in /usr/local/lib/python3.7/dist-packages (4.9.2)\n",
            "Requirement already satisfied: packaging in /usr/local/lib/python3.7/dist-packages (from transformers) (21.0)\n",
            "Requirement already satisfied: numpy>=1.17 in /usr/local/lib/python3.7/dist-packages (from transformers) (1.19.5)\n",
            "Requirement already satisfied: sacremoses in /usr/local/lib/python3.7/dist-packages (from transformers) (0.0.45)\n",
            "Requirement already satisfied: requests in /usr/local/lib/python3.7/dist-packages (from transformers) (2.23.0)\n",
            "Requirement already satisfied: tqdm>=4.27 in /usr/local/lib/python3.7/dist-packages (from transformers) (4.41.1)\n",
            "Requirement already satisfied: pyyaml>=5.1 in /usr/local/lib/python3.7/dist-packages (from transformers) (5.4.1)\n",
            "Requirement already satisfied: regex!=2019.12.17 in /usr/local/lib/python3.7/dist-packages (from transformers) (2019.12.20)\n",
            "Requirement already satisfied: huggingface-hub==0.0.12 in /usr/local/lib/python3.7/dist-packages (from transformers) (0.0.12)\n",
            "Requirement already satisfied: importlib-metadata in /usr/local/lib/python3.7/dist-packages (from transformers) (4.6.1)\n",
            "Requirement already satisfied: tokenizers<0.11,>=0.10.1 in /usr/local/lib/python3.7/dist-packages (from transformers) (0.10.3)\n",
            "Requirement already satisfied: filelock in /usr/local/lib/python3.7/dist-packages (from transformers) (3.0.12)\n",
            "Requirement already satisfied: typing-extensions in /usr/local/lib/python3.7/dist-packages (from huggingface-hub==0.0.12->transformers) (3.7.4.3)\n",
            "Requirement already satisfied: pyparsing>=2.0.2 in /usr/local/lib/python3.7/dist-packages (from packaging->transformers) (2.4.7)\n",
            "Requirement already satisfied: zipp>=0.5 in /usr/local/lib/python3.7/dist-packages (from importlib-metadata->transformers) (3.5.0)\n",
            "Requirement already satisfied: idna<3,>=2.5 in /usr/local/lib/python3.7/dist-packages (from requests->transformers) (2.10)\n",
            "Requirement already satisfied: chardet<4,>=3.0.2 in /usr/local/lib/python3.7/dist-packages (from requests->transformers) (3.0.4)\n",
            "Requirement already satisfied: certifi>=2017.4.17 in /usr/local/lib/python3.7/dist-packages (from requests->transformers) (2021.5.30)\n",
            "Requirement already satisfied: urllib3!=1.25.0,!=1.25.1,<1.26,>=1.21.1 in /usr/local/lib/python3.7/dist-packages (from requests->transformers) (1.24.3)\n",
            "Requirement already satisfied: joblib in /usr/local/lib/python3.7/dist-packages (from sacremoses->transformers) (1.0.1)\n",
            "Requirement already satisfied: click in /usr/local/lib/python3.7/dist-packages (from sacremoses->transformers) (7.1.2)\n",
            "Requirement already satisfied: six in /usr/local/lib/python3.7/dist-packages (from sacremoses->transformers) (1.15.0)\n"
          ],
          "name": "stdout"
        }
      ]
    },
    {
      "cell_type": "code",
      "metadata": {
        "id": "SEFtL-QINrpe",
        "outputId": "aabdf968-7c38-461d-95b7-d4236da5a707",
        "colab": {
          "base_uri": "https://localhost:8080/"
        }
      },
      "source": [
        "!pip install livelossplot==0.5.4\n"
      ],
      "execution_count": 71,
      "outputs": [
        {
          "output_type": "stream",
          "text": [
            "Collecting livelossplot==0.5.4\n",
            "  Downloading livelossplot-0.5.4-py3-none-any.whl (22 kB)\n",
            "Requirement already satisfied: bokeh in /usr/local/lib/python3.7/dist-packages (from livelossplot==0.5.4) (2.3.3)\n",
            "Requirement already satisfied: ipython in /usr/local/lib/python3.7/dist-packages (from livelossplot==0.5.4) (5.5.0)\n",
            "Requirement already satisfied: matplotlib in /usr/local/lib/python3.7/dist-packages (from livelossplot==0.5.4) (3.2.2)\n",
            "Requirement already satisfied: python-dateutil>=2.1 in /usr/local/lib/python3.7/dist-packages (from bokeh->livelossplot==0.5.4) (2.8.1)\n",
            "Requirement already satisfied: PyYAML>=3.10 in /usr/local/lib/python3.7/dist-packages (from bokeh->livelossplot==0.5.4) (5.4.1)\n",
            "Requirement already satisfied: tornado>=5.1 in /usr/local/lib/python3.7/dist-packages (from bokeh->livelossplot==0.5.4) (5.1.1)\n",
            "Requirement already satisfied: typing-extensions>=3.7.4 in /usr/local/lib/python3.7/dist-packages (from bokeh->livelossplot==0.5.4) (3.7.4.3)\n",
            "Requirement already satisfied: Jinja2>=2.9 in /usr/local/lib/python3.7/dist-packages (from bokeh->livelossplot==0.5.4) (2.11.3)\n",
            "Requirement already satisfied: numpy>=1.11.3 in /usr/local/lib/python3.7/dist-packages (from bokeh->livelossplot==0.5.4) (1.19.5)\n",
            "Requirement already satisfied: packaging>=16.8 in /usr/local/lib/python3.7/dist-packages (from bokeh->livelossplot==0.5.4) (21.0)\n",
            "Requirement already satisfied: pillow>=7.1.0 in /usr/local/lib/python3.7/dist-packages (from bokeh->livelossplot==0.5.4) (7.1.2)\n",
            "Requirement already satisfied: MarkupSafe>=0.23 in /usr/local/lib/python3.7/dist-packages (from Jinja2>=2.9->bokeh->livelossplot==0.5.4) (2.0.1)\n",
            "Requirement already satisfied: pyparsing>=2.0.2 in /usr/local/lib/python3.7/dist-packages (from packaging>=16.8->bokeh->livelossplot==0.5.4) (2.4.7)\n",
            "Requirement already satisfied: six>=1.5 in /usr/local/lib/python3.7/dist-packages (from python-dateutil>=2.1->bokeh->livelossplot==0.5.4) (1.15.0)\n",
            "Requirement already satisfied: traitlets>=4.2 in /usr/local/lib/python3.7/dist-packages (from ipython->livelossplot==0.5.4) (5.0.5)\n",
            "Requirement already satisfied: pickleshare in /usr/local/lib/python3.7/dist-packages (from ipython->livelossplot==0.5.4) (0.7.5)\n",
            "Requirement already satisfied: prompt-toolkit<2.0.0,>=1.0.4 in /usr/local/lib/python3.7/dist-packages (from ipython->livelossplot==0.5.4) (1.0.18)\n",
            "Requirement already satisfied: simplegeneric>0.8 in /usr/local/lib/python3.7/dist-packages (from ipython->livelossplot==0.5.4) (0.8.1)\n",
            "Requirement already satisfied: pygments in /usr/local/lib/python3.7/dist-packages (from ipython->livelossplot==0.5.4) (2.6.1)\n",
            "Requirement already satisfied: setuptools>=18.5 in /usr/local/lib/python3.7/dist-packages (from ipython->livelossplot==0.5.4) (57.2.0)\n",
            "Requirement already satisfied: decorator in /usr/local/lib/python3.7/dist-packages (from ipython->livelossplot==0.5.4) (4.4.2)\n",
            "Requirement already satisfied: pexpect in /usr/local/lib/python3.7/dist-packages (from ipython->livelossplot==0.5.4) (4.8.0)\n",
            "Requirement already satisfied: wcwidth in /usr/local/lib/python3.7/dist-packages (from prompt-toolkit<2.0.0,>=1.0.4->ipython->livelossplot==0.5.4) (0.2.5)\n",
            "Requirement already satisfied: ipython-genutils in /usr/local/lib/python3.7/dist-packages (from traitlets>=4.2->ipython->livelossplot==0.5.4) (0.2.0)\n",
            "Requirement already satisfied: cycler>=0.10 in /usr/local/lib/python3.7/dist-packages (from matplotlib->livelossplot==0.5.4) (0.10.0)\n",
            "Requirement already satisfied: kiwisolver>=1.0.1 in /usr/local/lib/python3.7/dist-packages (from matplotlib->livelossplot==0.5.4) (1.3.1)\n",
            "Requirement already satisfied: ptyprocess>=0.5 in /usr/local/lib/python3.7/dist-packages (from pexpect->ipython->livelossplot==0.5.4) (0.7.0)\n",
            "Installing collected packages: livelossplot\n",
            "Successfully installed livelossplot-0.5.4\n"
          ],
          "name": "stdout"
        }
      ]
    },
    {
      "cell_type": "code",
      "metadata": {
        "id": "m2H9Z4iZ2XPb",
        "colab": {
          "base_uri": "https://localhost:8080/"
        },
        "outputId": "9369e9ee-6308-4173-8dd5-947174ae3ca9"
      },
      "source": [
        "from google.colab import files\n",
        "from tqdm import tqdm\n",
        "tqdm.pandas()"
      ],
      "execution_count": 2,
      "outputs": [
        {
          "output_type": "stream",
          "text": [
            "/usr/local/lib/python3.7/dist-packages/tqdm/std.py:658: FutureWarning: The Panel class is removed from pandas. Accessing it from the top-level namespace will also be removed in the next version\n",
            "  from pandas import Panel\n"
          ],
          "name": "stderr"
        }
      ]
    },
    {
      "cell_type": "code",
      "metadata": {
        "colab": {
          "resources": {
            "http://localhost:8080/nbextensions/google.colab/files.js": {
              "data": "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",
              "ok": true,
              "headers": [
                [
                  "content-type",
                  "application/javascript"
                ]
              ],
              "status": 200,
              "status_text": ""
            }
          },
          "base_uri": "https://localhost:8080/",
          "height": 89
        },
        "id": "h0uiWBjK2jtU",
        "outputId": "fe0a3347-67a2-4293-cf67-a5282f940739"
      },
      "source": [
        "files.upload()"
      ],
      "execution_count": 11,
      "outputs": [
        {
          "output_type": "display_data",
          "data": {
            "text/html": [
              "\n",
              "     <input type=\"file\" id=\"files-9666e513-9fc2-4f02-9ee2-5dacd1ba3fb7\" name=\"files[]\" multiple disabled\n",
              "        style=\"border:none\" />\n",
              "     <output id=\"result-9666e513-9fc2-4f02-9ee2-5dacd1ba3fb7\">\n",
              "      Upload widget is only available when the cell has been executed in the\n",
              "      current browser session. Please rerun this cell to enable.\n",
              "      </output>\n",
              "      <script src=\"/nbextensions/google.colab/files.js\"></script> "
            ],
            "text/plain": [
              "<IPython.core.display.HTML object>"
            ]
          },
          "metadata": {
            "tags": []
          }
        },
        {
          "output_type": "stream",
          "text": [
            "Saving kaggle.json to kaggle.json\n"
          ],
          "name": "stdout"
        },
        {
          "output_type": "execute_result",
          "data": {
            "text/plain": [
              "{'kaggle.json': b'{\"username\":\"gabib3b\",\"key\":\"817d7e169db4cbef867b22907320144c\"}'}"
            ]
          },
          "metadata": {
            "tags": []
          },
          "execution_count": 11
        }
      ]
    },
    {
      "cell_type": "code",
      "metadata": {
        "id": "JYFkqZ-42pXt",
        "colab": {
          "base_uri": "https://localhost:8080/"
        },
        "outputId": "bc9b5830-06e8-46c8-b44d-0e0ecd6a4ba1"
      },
      "source": [
        "! mkdir ~/.kaggle\n",
        "! cp kaggle.json ~/.kaggle/\n",
        "! chmod 600 ~/.kaggle/kaggle.json\n",
        "! kaggle competitions download -c home-depot-product-search-relevance"
      ],
      "execution_count": 12,
      "outputs": [
        {
          "output_type": "stream",
          "text": [
            "mkdir: cannot create directory ‘/root/.kaggle’: File exists\n",
            "Warning: Looks like you're using an outdated API Version, please consider updating (server 1.5.12 / client 1.5.4)\n",
            "Downloading sample_submission.csv.zip to /content\n",
            "  0% 0.00/227k [00:00<?, ?B/s]\n",
            "100% 227k/227k [00:00<00:00, 34.2MB/s]\n",
            "Downloading test.csv.zip to /content\n",
            "100% 4.74M/4.74M [00:00<00:00, 11.4MB/s]\n",
            "\n",
            "Downloading attributes.csv.zip to /content\n",
            " 37% 10.0M/27.2M [00:00<00:01, 9.88MB/s]\n",
            "100% 27.2M/27.2M [00:00<00:00, 31.1MB/s]\n",
            "Downloading relevance_instructions.docx to /content\n",
            "  0% 0.00/105k [00:00<?, ?B/s]\n",
            "100% 105k/105k [00:00<00:00, 94.0MB/s]\n",
            "Downloading train.csv.zip to /content\n",
            "  0% 0.00/2.51M [00:00<?, ?B/s]\n",
            "100% 2.51M/2.51M [00:00<00:00, 83.6MB/s]\n",
            "Downloading product_descriptions.csv.zip to /content\n",
            " 95% 33.0M/34.8M [00:01<00:00, 16.5MB/s]\n",
            "100% 34.8M/34.8M [00:01<00:00, 21.2MB/s]\n"
          ],
          "name": "stdout"
        }
      ]
    },
    {
      "cell_type": "code",
      "metadata": {
        "id": "uc3SPuZR366P",
        "colab": {
          "base_uri": "https://localhost:8080/"
        },
        "outputId": "612cf6e3-4336-4d3a-f807-de2ffa245aca"
      },
      "source": [
        "import pandas as pd\n",
        "import numpy as np\n",
        "from transformers import BertTokenizer\n",
        "import nltk \n",
        "import unidecode\n",
        "import re\n",
        "nltk.download('punkt')\n",
        "nltk.download('stopwords')\n",
        "from nltk.corpus import stopwords\n",
        "import string\n",
        "import seaborn as sns\n"
      ],
      "execution_count": 13,
      "outputs": [
        {
          "output_type": "stream",
          "text": [
            "[nltk_data] Downloading package punkt to /root/nltk_data...\n",
            "[nltk_data]   Package punkt is already up-to-date!\n",
            "[nltk_data] Downloading package stopwords to /root/nltk_data...\n",
            "[nltk_data]   Package stopwords is already up-to-date!\n"
          ],
          "name": "stdout"
        }
      ]
    },
    {
      "cell_type": "code",
      "metadata": {
        "colab": {
          "base_uri": "https://localhost:8080/"
        },
        "id": "2FTp4EQn3Ai5",
        "outputId": "49ae129c-fc5d-49ee-fba7-146cbf1d4ae7"
      },
      "source": [
        "!ls"
      ],
      "execution_count": 14,
      "outputs": [
        {
          "output_type": "stream",
          "text": [
            "attributes.csv.zip  product_descriptions.csv.zip  sample_submission.csv.zip\n",
            "GabiBurabia.pdf     relevance_instructions.docx   test.csv.zip\n",
            "kaggle.json\t    sample_data\t\t\t  train.csv.zip\n"
          ],
          "name": "stdout"
        }
      ]
    },
    {
      "cell_type": "code",
      "metadata": {
        "id": "7z5kTCLu3wPp"
      },
      "source": [
        "att_df= pd.read_csv('attributes.csv.zip')\n",
        "desc_df= pd.read_csv('product_descriptions.csv.zip')\n",
        "df = pd.read_csv('train.csv.zip', encoding='latin-1')\n",
        "test_df = pd.read_csv('test.csv.zip',encoding='latin-1')\n"
      ],
      "execution_count": 23,
      "outputs": []
    },
    {
      "cell_type": "code",
      "metadata": {
        "id": "GPtCnjkmEgB4"
      },
      "source": [
        "desc_df = desc_df.fillna(0)\n",
        "df = df.fillna(0)\n",
        "test_df = test_df.fillna(0)\n",
        "att_df = att_df.fillna(0)\n",
        "\n",
        "desc_df['product_uid'] = desc_df['product_uid'].astype(np.int64)\n",
        "df['product_uid'] = df['product_uid'].astype(np.int64)\n",
        "test_df['product_uid'] = test_df['product_uid'].astype(np.int64)\n",
        "att_df['product_uid'] = att_df['product_uid'].astype(np.int64)"
      ],
      "execution_count": 26,
      "outputs": []
    },
    {
      "cell_type": "code",
      "metadata": {
        "colab": {
          "base_uri": "https://localhost:8080/",
          "height": 111
        },
        "id": "Wc9y_9xh39qp",
        "outputId": "d0d183a1-1650-4c9a-8b38-bb9b14bc01e3"
      },
      "source": [
        "df.sample(2)"
      ],
      "execution_count": 27,
      "outputs": [
        {
          "output_type": "execute_result",
          "data": {
            "text/html": [
              "<div>\n",
              "<style scoped>\n",
              "    .dataframe tbody tr th:only-of-type {\n",
              "        vertical-align: middle;\n",
              "    }\n",
              "\n",
              "    .dataframe tbody tr th {\n",
              "        vertical-align: top;\n",
              "    }\n",
              "\n",
              "    .dataframe thead th {\n",
              "        text-align: right;\n",
              "    }\n",
              "</style>\n",
              "<table border=\"1\" class=\"dataframe\">\n",
              "  <thead>\n",
              "    <tr style=\"text-align: right;\">\n",
              "      <th></th>\n",
              "      <th>id</th>\n",
              "      <th>product_uid</th>\n",
              "      <th>product_title</th>\n",
              "      <th>search_term</th>\n",
              "      <th>relevance</th>\n",
              "    </tr>\n",
              "  </thead>\n",
              "  <tbody>\n",
              "    <tr>\n",
              "      <th>41212</th>\n",
              "      <td>125561</td>\n",
              "      <td>143210</td>\n",
              "      <td>Laura Ashley 6 ft. H Lip-Stick Red Palm Tree i...</td>\n",
              "      <td>red stones</td>\n",
              "      <td>1.00</td>\n",
              "    </tr>\n",
              "    <tr>\n",
              "      <th>19241</th>\n",
              "      <td>59451</td>\n",
              "      <td>115888</td>\n",
              "      <td>DIAL 2-Speed 3/4 HP Evaporative Cooler Motor Kit</td>\n",
              "      <td>cooler motor</td>\n",
              "      <td>2.67</td>\n",
              "    </tr>\n",
              "  </tbody>\n",
              "</table>\n",
              "</div>"
            ],
            "text/plain": [
              "           id  product_uid  ...   search_term relevance\n",
              "41212  125561       143210  ...    red stones      1.00\n",
              "19241   59451       115888  ...  cooler motor      2.67\n",
              "\n",
              "[2 rows x 5 columns]"
            ]
          },
          "metadata": {
            "tags": []
          },
          "execution_count": 27
        }
      ]
    },
    {
      "cell_type": "code",
      "metadata": {
        "id": "AVEuEm1CPBfa"
      },
      "source": [
        ""
      ],
      "execution_count": null,
      "outputs": []
    },
    {
      "cell_type": "code",
      "metadata": {
        "colab": {
          "base_uri": "https://localhost:8080/"
        },
        "id": "LizRelmmMTOO",
        "outputId": "1b12d9ab-1a5f-4da8-e652-46781359eea8"
      },
      "source": [
        "np.min(df['relevance'].tolist()), np.max(df['relevance'].tolist())"
      ],
      "execution_count": 28,
      "outputs": [
        {
          "output_type": "execute_result",
          "data": {
            "text/plain": [
              "(1.0, 3.0)"
            ]
          },
          "metadata": {
            "tags": []
          },
          "execution_count": 28
        }
      ]
    },
    {
      "cell_type": "code",
      "metadata": {
        "colab": {
          "base_uri": "https://localhost:8080/"
        },
        "id": "GQMvnh9G6eUX",
        "outputId": "f3c02a55-d963-458f-f390-8f3df6541d58"
      },
      "source": [
        "sorted(pd.unique(df['relevance']).tolist())"
      ],
      "execution_count": 29,
      "outputs": [
        {
          "output_type": "execute_result",
          "data": {
            "text/plain": [
              "[1.0, 1.25, 1.33, 1.5, 1.67, 1.75, 2.0, 2.25, 2.33, 2.5, 2.67, 2.75, 3.0]"
            ]
          },
          "metadata": {
            "tags": []
          },
          "execution_count": 29
        }
      ]
    },
    {
      "cell_type": "code",
      "metadata": {
        "id": "EXIjvtz5O6F8"
      },
      "source": [
        "# train_df['my_relevance'] = train_df['relevance'].apply(lambda x: (x - 1.0)/2.0)"
      ],
      "execution_count": null,
      "outputs": []
    },
    {
      "cell_type": "code",
      "metadata": {
        "colab": {
          "base_uri": "https://localhost:8080/"
        },
        "id": "XEsYyEZdPNuC",
        "outputId": "7861602d-d756-4d15-da7b-be2943631a8f"
      },
      "source": [
        "# np.min(train_df['my_relevance'].tolist()), np.max(train_df['my_relevance'].tolist())"
      ],
      "execution_count": null,
      "outputs": [
        {
          "output_type": "execute_result",
          "data": {
            "text/plain": [
              "(0.0, 1.0)"
            ]
          },
          "metadata": {
            "tags": []
          },
          "execution_count": 13
        }
      ]
    },
    {
      "cell_type": "code",
      "metadata": {
        "id": "pYhPgWl3PQ_7"
      },
      "source": [
        "# train_df['my_relevance2'] = train_df['my_relevance'].apply(lambda x: ((x - 0.0)/1.0) * 2.0 + 1)"
      ],
      "execution_count": null,
      "outputs": []
    },
    {
      "cell_type": "code",
      "metadata": {
        "colab": {
          "base_uri": "https://localhost:8080/",
          "height": 173
        },
        "id": "Lx1rYzOzPHYD",
        "outputId": "2f1c0d00-afa9-4e74-fd87-409306d63d7a"
      },
      "source": [
        "# train_df[['relevance', 'my_relevance', 'my_relevance2']].sample(4)"
      ],
      "execution_count": null,
      "outputs": [
        {
          "output_type": "execute_result",
          "data": {
            "text/html": [
              "<div>\n",
              "<style scoped>\n",
              "    .dataframe tbody tr th:only-of-type {\n",
              "        vertical-align: middle;\n",
              "    }\n",
              "\n",
              "    .dataframe tbody tr th {\n",
              "        vertical-align: top;\n",
              "    }\n",
              "\n",
              "    .dataframe thead th {\n",
              "        text-align: right;\n",
              "    }\n",
              "</style>\n",
              "<table border=\"1\" class=\"dataframe\">\n",
              "  <thead>\n",
              "    <tr style=\"text-align: right;\">\n",
              "      <th></th>\n",
              "      <th>relevance</th>\n",
              "      <th>my_relevance</th>\n",
              "      <th>my_relevance2</th>\n",
              "    </tr>\n",
              "  </thead>\n",
              "  <tbody>\n",
              "    <tr>\n",
              "      <th>42392</th>\n",
              "      <td>2.00</td>\n",
              "      <td>0.500</td>\n",
              "      <td>2.00</td>\n",
              "    </tr>\n",
              "    <tr>\n",
              "      <th>67764</th>\n",
              "      <td>3.00</td>\n",
              "      <td>1.000</td>\n",
              "      <td>3.00</td>\n",
              "    </tr>\n",
              "    <tr>\n",
              "      <th>20523</th>\n",
              "      <td>2.67</td>\n",
              "      <td>0.835</td>\n",
              "      <td>2.67</td>\n",
              "    </tr>\n",
              "    <tr>\n",
              "      <th>72001</th>\n",
              "      <td>2.00</td>\n",
              "      <td>0.500</td>\n",
              "      <td>2.00</td>\n",
              "    </tr>\n",
              "  </tbody>\n",
              "</table>\n",
              "</div>"
            ],
            "text/plain": [
              "       relevance  my_relevance  my_relevance2\n",
              "42392       2.00         0.500           2.00\n",
              "67764       3.00         1.000           3.00\n",
              "20523       2.67         0.835           2.67\n",
              "72001       2.00         0.500           2.00"
            ]
          },
          "metadata": {
            "tags": []
          },
          "execution_count": 15
        }
      ]
    },
    {
      "cell_type": "code",
      "metadata": {
        "colab": {
          "base_uri": "https://localhost:8080/",
          "height": 297
        },
        "id": "EcIh2Oqq4tQV",
        "outputId": "a9c5d0b5-3b95-4162-e7e6-b99861bc4c04"
      },
      "source": [
        "df.describe()"
      ],
      "execution_count": 30,
      "outputs": [
        {
          "output_type": "execute_result",
          "data": {
            "text/html": [
              "<div>\n",
              "<style scoped>\n",
              "    .dataframe tbody tr th:only-of-type {\n",
              "        vertical-align: middle;\n",
              "    }\n",
              "\n",
              "    .dataframe tbody tr th {\n",
              "        vertical-align: top;\n",
              "    }\n",
              "\n",
              "    .dataframe thead th {\n",
              "        text-align: right;\n",
              "    }\n",
              "</style>\n",
              "<table border=\"1\" class=\"dataframe\">\n",
              "  <thead>\n",
              "    <tr style=\"text-align: right;\">\n",
              "      <th></th>\n",
              "      <th>id</th>\n",
              "      <th>product_uid</th>\n",
              "      <th>relevance</th>\n",
              "    </tr>\n",
              "  </thead>\n",
              "  <tbody>\n",
              "    <tr>\n",
              "      <th>count</th>\n",
              "      <td>74067.000000</td>\n",
              "      <td>74067.000000</td>\n",
              "      <td>74067.000000</td>\n",
              "    </tr>\n",
              "    <tr>\n",
              "      <th>mean</th>\n",
              "      <td>112385.709223</td>\n",
              "      <td>142331.911553</td>\n",
              "      <td>2.381634</td>\n",
              "    </tr>\n",
              "    <tr>\n",
              "      <th>std</th>\n",
              "      <td>64016.573650</td>\n",
              "      <td>30770.774864</td>\n",
              "      <td>0.533984</td>\n",
              "    </tr>\n",
              "    <tr>\n",
              "      <th>min</th>\n",
              "      <td>2.000000</td>\n",
              "      <td>100001.000000</td>\n",
              "      <td>1.000000</td>\n",
              "    </tr>\n",
              "    <tr>\n",
              "      <th>25%</th>\n",
              "      <td>57163.500000</td>\n",
              "      <td>115128.500000</td>\n",
              "      <td>2.000000</td>\n",
              "    </tr>\n",
              "    <tr>\n",
              "      <th>50%</th>\n",
              "      <td>113228.000000</td>\n",
              "      <td>137334.000000</td>\n",
              "      <td>2.330000</td>\n",
              "    </tr>\n",
              "    <tr>\n",
              "      <th>75%</th>\n",
              "      <td>168275.500000</td>\n",
              "      <td>166883.500000</td>\n",
              "      <td>3.000000</td>\n",
              "    </tr>\n",
              "    <tr>\n",
              "      <th>max</th>\n",
              "      <td>221473.000000</td>\n",
              "      <td>206650.000000</td>\n",
              "      <td>3.000000</td>\n",
              "    </tr>\n",
              "  </tbody>\n",
              "</table>\n",
              "</div>"
            ],
            "text/plain": [
              "                  id    product_uid     relevance\n",
              "count   74067.000000   74067.000000  74067.000000\n",
              "mean   112385.709223  142331.911553      2.381634\n",
              "std     64016.573650   30770.774864      0.533984\n",
              "min         2.000000  100001.000000      1.000000\n",
              "25%     57163.500000  115128.500000      2.000000\n",
              "50%    113228.000000  137334.000000      2.330000\n",
              "75%    168275.500000  166883.500000      3.000000\n",
              "max    221473.000000  206650.000000      3.000000"
            ]
          },
          "metadata": {
            "tags": []
          },
          "execution_count": 30
        }
      ]
    },
    {
      "cell_type": "code",
      "metadata": {
        "colab": {
          "base_uri": "https://localhost:8080/"
        },
        "id": "n2ZgdzI4DeUR",
        "outputId": "708aae07-1e61-40c2-835f-5453e8e8dab4"
      },
      "source": [
        "# train_df.drop_duplicates([\"product_uid\"]).shape[0]/len(train_df)"
      ],
      "execution_count": null,
      "outputs": [
        {
          "output_type": "execute_result",
          "data": {
            "text/plain": [
              "0.7380749861611784"
            ]
          },
          "metadata": {
            "tags": []
          },
          "execution_count": 15
        }
      ]
    },
    {
      "cell_type": "code",
      "metadata": {
        "colab": {
          "base_uri": "https://localhost:8080/"
        },
        "id": "MoiInP_e5LJw",
        "outputId": "c8582c97-1e15-47d3-a821-7272412af794"
      },
      "source": [
        "# pd.merge(train_df, desc_df, how='left', on='product_uid').shape[0]"
      ],
      "execution_count": null,
      "outputs": [
        {
          "output_type": "execute_result",
          "data": {
            "text/plain": [
              "74067"
            ]
          },
          "metadata": {
            "tags": []
          },
          "execution_count": 50
        }
      ]
    },
    {
      "cell_type": "code",
      "metadata": {
        "colab": {
          "base_uri": "https://localhost:8080/"
        },
        "id": "4GSioO4uDVOs",
        "outputId": "970a241c-1d49-415b-cf95-936674ab0bf1"
      },
      "source": [
        "df.shape[0]"
      ],
      "execution_count": 31,
      "outputs": [
        {
          "output_type": "execute_result",
          "data": {
            "text/plain": [
              "74067"
            ]
          },
          "metadata": {
            "tags": []
          },
          "execution_count": 31
        }
      ]
    },
    {
      "cell_type": "code",
      "metadata": {
        "id": "-VZQCATBHsLL"
      },
      "source": [
        "from transformers import BertTokenizerFast\n",
        "from transformers import BertTokenizer\n",
        "\n",
        "\n",
        "tokenizer = BertTokenizer.from_pretrained('bert-base-uncased', do_lower_case=True)\n",
        "MAX_SEARCH_TERM_LENGTH = 5\n",
        "MAX_TITLE_LENGTH = 15"
      ],
      "execution_count": 32,
      "outputs": []
    },
    {
      "cell_type": "code",
      "metadata": {
        "id": "knD9_juYJh-2"
      },
      "source": [
        "def tokenize(text, max_length):\n",
        "  \n",
        "  return tokenizer.encode_plus(\n",
        "            text,\n",
        "            max_length = max_length, \n",
        "            padding = 'max_length',\n",
        "            truncation = True, \n",
        "            return_attention_mask = False, \n",
        "            add_special_tokens = True, \n",
        "            )['input_ids']\n",
        "  \n"
      ],
      "execution_count": 33,
      "outputs": []
    },
    {
      "cell_type": "code",
      "metadata": {
        "colab": {
          "base_uri": "https://localhost:8080/"
        },
        "id": "BSXhO_yKJ78V",
        "outputId": "5829e55a-eca5-4e47-9da2-8721fe75f5b3"
      },
      "source": [
        "# tokenize(\"he went home 123 times, before we --gabi op. -;[]\")"
      ],
      "execution_count": null,
      "outputs": [
        {
          "output_type": "execute_result",
          "data": {
            "text/plain": [
              "['went', 'home', '###', 'time', 'befor', 'gabi', 'op']"
            ]
          },
          "metadata": {
            "tags": []
          },
          "execution_count": 40
        }
      ]
    },
    {
      "cell_type": "code",
      "metadata": {
        "colab": {
          "base_uri": "https://localhost:8080/"
        },
        "id": "UWbi3atuLKEU",
        "outputId": "02e326cc-c712-4f1b-e09a-ab0855c64f13"
      },
      "source": [
        ""
      ],
      "execution_count": null,
      "outputs": [
        {
          "output_type": "stream",
          "text": [
            "/usr/local/lib/python3.7/dist-packages/ipykernel_launcher.py:1: FutureWarning: Passing a negative integer is deprecated in version 1.0 and will not be supported in future version. Instead, use None to not limit the column width.\n",
            "  \"\"\"Entry point for launching an IPython kernel.\n"
          ],
          "name": "stderr"
        },
        {
          "output_type": "execute_result",
          "data": {
            "text/plain": [
              "0.9997299742125373"
            ]
          },
          "metadata": {
            "tags": []
          },
          "execution_count": 58
        }
      ]
    },
    {
      "cell_type": "code",
      "metadata": {
        "colab": {
          "base_uri": "https://localhost:8080/"
        },
        "id": "PBmOPW8hJAC7",
        "outputId": "7e015e32-4a69-4a0e-dd3c-0cc407039ecb"
      },
      "source": [
        "df['product_title_tokens'] = df['product_title'].progress_apply(lambda text: tokenize(text, MAX_TITLE_LENGTH))"
      ],
      "execution_count": 34,
      "outputs": [
        {
          "output_type": "stream",
          "text": [
            "\n",
            "  0%|          | 0/74067 [00:00<?, ?it/s]\u001b[A\n",
            "  0%|          | 178/74067 [00:00<00:41, 1773.02it/s]\u001b[A\n",
            "  0%|          | 349/74067 [00:00<00:42, 1752.07it/s]\u001b[A\n",
            "  1%|          | 522/74067 [00:00<00:42, 1743.24it/s]\u001b[A\n",
            "  1%|          | 691/74067 [00:00<00:42, 1724.84it/s]\u001b[A\n",
            "  1%|          | 853/74067 [00:00<00:43, 1688.90it/s]\u001b[A\n",
            "  1%|▏         | 1005/74067 [00:00<00:44, 1633.09it/s]\u001b[A\n",
            "  2%|▏         | 1180/74067 [00:00<00:43, 1665.77it/s]\u001b[A\n",
            "  2%|▏         | 1348/74067 [00:00<00:43, 1668.24it/s]\u001b[A\n",
            "  2%|▏         | 1514/74067 [00:00<00:43, 1663.45it/s]\u001b[A\n",
            "  2%|▏         | 1680/74067 [00:01<00:43, 1662.15it/s]\u001b[A\n",
            "  3%|▎         | 1853/74067 [00:01<00:42, 1680.36it/s]\u001b[A\n",
            "  3%|▎         | 2038/74067 [00:01<00:41, 1726.41it/s]\u001b[A\n",
            "  3%|▎         | 2212/74067 [00:01<00:41, 1728.04it/s]\u001b[A\n",
            "  3%|▎         | 2384/74067 [00:01<00:42, 1695.03it/s]\u001b[A\n",
            "  3%|▎         | 2553/74067 [00:01<00:42, 1665.77it/s]\u001b[A\n",
            "  4%|▎         | 2720/74067 [00:01<00:43, 1656.20it/s]\u001b[A\n",
            "  4%|▍         | 2886/74067 [00:01<00:44, 1612.56it/s]\u001b[A\n",
            "  4%|▍         | 3060/74067 [00:01<00:43, 1647.58it/s]\u001b[A\n",
            "  4%|▍         | 3233/74067 [00:01<00:42, 1670.91it/s]\u001b[A\n",
            "  5%|▍         | 3414/74067 [00:02<00:41, 1709.41it/s]\u001b[A\n",
            "  5%|▍         | 3589/74067 [00:02<00:40, 1721.19it/s]\u001b[A\n",
            "  5%|▌         | 3762/74067 [00:02<00:41, 1709.86it/s]\u001b[A\n",
            "  5%|▌         | 3934/74067 [00:02<00:41, 1702.88it/s]\u001b[A\n",
            "  6%|▌         | 4105/74067 [00:02<00:41, 1686.30it/s]\u001b[A\n",
            "  6%|▌         | 4278/74067 [00:02<00:41, 1697.80it/s]\u001b[A\n",
            "  6%|▌         | 4448/74067 [00:02<00:42, 1631.38it/s]\u001b[A\n",
            "  6%|▌         | 4612/74067 [00:02<00:42, 1631.00it/s]\u001b[A\n",
            "  6%|▋         | 4776/74067 [00:02<00:43, 1603.10it/s]\u001b[A\n",
            "  7%|▋         | 4965/74067 [00:02<00:41, 1677.81it/s]\u001b[A\n",
            "  7%|▋         | 5141/74067 [00:03<00:40, 1698.90it/s]\u001b[A\n",
            "  7%|▋         | 5312/74067 [00:03<00:41, 1661.16it/s]\u001b[A\n",
            "  7%|▋         | 5484/74067 [00:03<00:40, 1676.32it/s]\u001b[A\n",
            "  8%|▊         | 5653/74067 [00:03<00:40, 1675.00it/s]\u001b[A\n",
            "  8%|▊         | 5821/74067 [00:03<00:41, 1660.31it/s]\u001b[A\n",
            "  8%|▊         | 5988/74067 [00:03<00:41, 1645.70it/s]\u001b[A\n",
            "  8%|▊         | 6153/74067 [00:03<00:42, 1612.54it/s]\u001b[A\n",
            "  9%|▊         | 6320/74067 [00:03<00:41, 1629.01it/s]\u001b[A\n",
            "  9%|▉         | 6484/74067 [00:03<00:41, 1610.22it/s]\u001b[A\n",
            "  9%|▉         | 6647/74067 [00:03<00:41, 1613.36it/s]\u001b[A\n",
            "  9%|▉         | 6809/74067 [00:04<00:41, 1601.75it/s]\u001b[A\n",
            "  9%|▉         | 6970/74067 [00:04<00:42, 1586.93it/s]\u001b[A\n",
            " 10%|▉         | 7129/74067 [00:04<00:43, 1553.70it/s]\u001b[A\n",
            " 10%|▉         | 7285/74067 [00:04<00:44, 1504.48it/s]\u001b[A\n",
            " 10%|█         | 7455/74067 [00:04<00:42, 1557.50it/s]\u001b[A\n",
            " 10%|█         | 7627/74067 [00:04<00:41, 1601.15it/s]\u001b[A\n",
            " 11%|█         | 7789/74067 [00:04<00:41, 1582.13it/s]\u001b[A\n",
            " 11%|█         | 7948/74067 [00:04<00:42, 1570.60it/s]\u001b[A\n",
            " 11%|█         | 8108/74067 [00:04<00:41, 1578.88it/s]\u001b[A\n",
            " 11%|█         | 8276/74067 [00:05<00:40, 1606.46it/s]\u001b[A\n",
            " 11%|█▏        | 8443/74067 [00:05<00:40, 1623.96it/s]\u001b[A\n",
            " 12%|█▏        | 8606/74067 [00:05<00:40, 1620.23it/s]\u001b[A\n",
            " 12%|█▏        | 8772/74067 [00:05<00:40, 1630.33it/s]\u001b[A\n",
            " 12%|█▏        | 8942/74067 [00:05<00:39, 1648.59it/s]\u001b[A\n",
            " 12%|█▏        | 9109/74067 [00:05<00:39, 1654.65it/s]\u001b[A\n",
            " 13%|█▎        | 9287/74067 [00:05<00:38, 1689.19it/s]\u001b[A\n",
            " 13%|█▎        | 9457/74067 [00:05<00:39, 1625.45it/s]\u001b[A\n",
            " 13%|█▎        | 9629/74067 [00:05<00:39, 1651.58it/s]\u001b[A\n",
            " 13%|█▎        | 9800/74067 [00:05<00:38, 1668.61it/s]\u001b[A\n",
            " 13%|█▎        | 9973/74067 [00:06<00:38, 1685.14it/s]\u001b[A\n",
            " 14%|█▎        | 10142/74067 [00:06<00:37, 1685.31it/s]\u001b[A\n",
            " 14%|█▍        | 10311/74067 [00:06<00:38, 1673.72it/s]\u001b[A\n",
            " 14%|█▍        | 10479/74067 [00:06<00:37, 1674.15it/s]\u001b[A\n",
            " 14%|█▍        | 10647/74067 [00:06<00:37, 1672.16it/s]\u001b[A\n",
            " 15%|█▍        | 10815/74067 [00:06<00:37, 1669.86it/s]\u001b[A\n",
            " 15%|█▍        | 10983/74067 [00:06<00:38, 1651.98it/s]\u001b[A\n",
            " 15%|█▌        | 11153/74067 [00:06<00:37, 1664.67it/s]\u001b[A\n",
            " 15%|█▌        | 11325/74067 [00:06<00:37, 1680.50it/s]\u001b[A\n",
            " 16%|█▌        | 11494/74067 [00:06<00:37, 1655.68it/s]\u001b[A\n",
            " 16%|█▌        | 11672/74067 [00:07<00:36, 1690.78it/s]\u001b[A\n",
            " 16%|█▌        | 11842/74067 [00:07<00:36, 1682.28it/s]\u001b[A\n",
            " 16%|█▌        | 12013/74067 [00:07<00:36, 1688.35it/s]\u001b[A\n",
            " 16%|█▋        | 12184/74067 [00:07<00:36, 1692.93it/s]\u001b[A\n",
            " 17%|█▋        | 12354/74067 [00:07<00:36, 1689.07it/s]\u001b[A\n",
            " 17%|█▋        | 12523/74067 [00:07<00:37, 1620.49it/s]\u001b[A\n",
            " 17%|█▋        | 12686/74067 [00:07<00:38, 1595.81it/s]\u001b[A\n",
            " 17%|█▋        | 12857/74067 [00:07<00:37, 1627.45it/s]\u001b[A\n",
            " 18%|█▊        | 13036/74067 [00:07<00:36, 1670.11it/s]\u001b[A\n",
            " 18%|█▊        | 13204/74067 [00:07<00:36, 1651.15it/s]\u001b[A\n",
            " 18%|█▊        | 13370/74067 [00:08<00:37, 1638.14it/s]\u001b[A\n",
            " 18%|█▊        | 13535/74067 [00:08<00:36, 1636.48it/s]\u001b[A\n",
            " 19%|█▊        | 13704/74067 [00:08<00:36, 1649.75it/s]\u001b[A\n",
            " 19%|█▊        | 13870/74067 [00:08<00:36, 1638.13it/s]\u001b[A\n",
            " 19%|█▉        | 14042/74067 [00:08<00:36, 1659.01it/s]\u001b[A\n",
            " 19%|█▉        | 14209/74067 [00:08<00:36, 1639.52it/s]\u001b[A\n",
            " 19%|█▉        | 14376/74067 [00:08<00:36, 1647.75it/s]\u001b[A\n",
            " 20%|█▉        | 14543/74067 [00:08<00:36, 1653.12it/s]\u001b[A\n",
            " 20%|█▉        | 14709/74067 [00:08<00:36, 1631.53it/s]\u001b[A\n",
            " 20%|██        | 14877/74067 [00:09<00:36, 1643.55it/s]\u001b[A\n",
            " 20%|██        | 15049/74067 [00:09<00:35, 1664.16it/s]\u001b[A\n",
            " 21%|██        | 15218/74067 [00:09<00:35, 1670.05it/s]\u001b[A\n",
            " 21%|██        | 15389/74067 [00:09<00:34, 1681.58it/s]\u001b[A\n",
            " 21%|██        | 15558/74067 [00:09<00:35, 1638.53it/s]\u001b[A\n",
            " 21%|██        | 15723/74067 [00:09<00:36, 1615.64it/s]\u001b[A\n",
            " 21%|██▏       | 15889/74067 [00:09<00:35, 1626.90it/s]\u001b[A\n",
            " 22%|██▏       | 16052/74067 [00:09<00:36, 1577.36it/s]\u001b[A\n",
            " 22%|██▏       | 16216/74067 [00:09<00:36, 1595.10it/s]\u001b[A\n",
            " 22%|██▏       | 16384/74067 [00:09<00:35, 1617.87it/s]\u001b[A\n",
            " 22%|██▏       | 16547/74067 [00:10<00:35, 1613.05it/s]\u001b[A\n",
            " 23%|██▎       | 16731/74067 [00:10<00:34, 1672.37it/s]\u001b[A\n",
            " 23%|██▎       | 16908/74067 [00:10<00:33, 1700.20it/s]\u001b[A\n",
            " 23%|██▎       | 17080/74067 [00:10<00:33, 1705.65it/s]\u001b[A\n",
            " 23%|██▎       | 17252/74067 [00:10<00:33, 1695.36it/s]\u001b[A\n",
            " 24%|██▎       | 17422/74067 [00:10<00:34, 1660.99it/s]\u001b[A\n",
            " 24%|██▎       | 17589/74067 [00:10<00:34, 1655.93it/s]\u001b[A\n",
            " 24%|██▍       | 17755/74067 [00:10<00:34, 1609.97it/s]\u001b[A\n",
            " 24%|██▍       | 17923/74067 [00:10<00:34, 1630.12it/s]\u001b[A\n",
            " 24%|██▍       | 18087/74067 [00:10<00:34, 1616.56it/s]\u001b[A\n",
            " 25%|██▍       | 18249/74067 [00:11<00:35, 1587.67it/s]\u001b[A\n",
            " 25%|██▍       | 18409/74067 [00:11<00:35, 1587.57it/s]\u001b[A\n",
            " 25%|██▌       | 18585/74067 [00:11<00:33, 1634.61it/s]\u001b[A\n",
            " 25%|██▌       | 18752/74067 [00:11<00:33, 1644.10it/s]\u001b[A\n",
            " 26%|██▌       | 18930/74067 [00:11<00:32, 1679.53it/s]\u001b[A\n",
            " 26%|██▌       | 19102/74067 [00:11<00:32, 1691.40it/s]\u001b[A\n",
            " 26%|██▌       | 19272/74067 [00:11<00:32, 1680.98it/s]\u001b[A\n",
            " 26%|██▌       | 19441/74067 [00:11<00:32, 1671.11it/s]\u001b[A\n",
            " 26%|██▋       | 19611/74067 [00:11<00:32, 1678.15it/s]\u001b[A\n",
            " 27%|██▋       | 19779/74067 [00:11<00:33, 1634.74it/s]\u001b[A\n",
            " 27%|██▋       | 19956/74067 [00:12<00:32, 1671.73it/s]\u001b[A\n",
            " 27%|██▋       | 20133/74067 [00:12<00:31, 1699.89it/s]\u001b[A\n",
            " 27%|██▋       | 20310/74067 [00:12<00:31, 1718.13it/s]\u001b[A\n",
            " 28%|██▊       | 20483/74067 [00:12<00:31, 1721.50it/s]\u001b[A\n",
            " 28%|██▊       | 20656/74067 [00:12<00:32, 1659.11it/s]\u001b[A\n",
            " 28%|██▊       | 20823/74067 [00:12<00:32, 1636.27it/s]\u001b[A\n",
            " 28%|██▊       | 20999/74067 [00:12<00:31, 1669.68it/s]\u001b[A\n",
            " 29%|██▊       | 21167/74067 [00:12<00:32, 1637.99it/s]\u001b[A\n",
            " 29%|██▉       | 21332/74067 [00:12<00:32, 1630.83it/s]\u001b[A\n",
            " 29%|██▉       | 21503/74067 [00:13<00:31, 1653.47it/s]\u001b[A\n",
            " 29%|██▉       | 21676/74067 [00:13<00:31, 1672.86it/s]\u001b[A\n",
            " 29%|██▉       | 21848/74067 [00:13<00:30, 1685.98it/s]\u001b[A\n",
            " 30%|██▉       | 22017/74067 [00:13<00:31, 1678.27it/s]\u001b[A\n",
            " 30%|██▉       | 22185/74067 [00:13<00:31, 1668.04it/s]\u001b[A\n",
            " 30%|███       | 22352/74067 [00:13<00:31, 1659.12it/s]\u001b[A\n",
            " 30%|███       | 22522/74067 [00:13<00:30, 1670.90it/s]\u001b[A\n",
            " 31%|███       | 22690/74067 [00:13<00:31, 1634.52it/s]\u001b[A\n",
            " 31%|███       | 22854/74067 [00:13<00:32, 1564.50it/s]\u001b[A\n",
            " 31%|███       | 23018/74067 [00:13<00:32, 1584.95it/s]\u001b[A\n",
            " 31%|███▏      | 23188/74067 [00:14<00:31, 1615.55it/s]\u001b[A\n",
            " 32%|███▏      | 23351/74067 [00:14<00:31, 1603.57it/s]\u001b[A\n",
            " 32%|███▏      | 23528/74067 [00:14<00:30, 1648.77it/s]\u001b[A\n",
            " 32%|███▏      | 23699/74067 [00:14<00:30, 1666.39it/s]\u001b[A\n",
            " 32%|███▏      | 23874/74067 [00:14<00:29, 1689.04it/s]\u001b[A\n",
            " 32%|███▏      | 24044/74067 [00:14<00:30, 1629.73it/s]\u001b[A\n",
            " 33%|███▎      | 24208/74067 [00:14<00:31, 1591.39it/s]\u001b[A\n",
            " 33%|███▎      | 24368/74067 [00:14<00:32, 1538.37it/s]\u001b[A\n",
            " 33%|███▎      | 24523/74067 [00:14<00:32, 1502.57it/s]\u001b[A\n",
            " 33%|███▎      | 24675/74067 [00:14<00:32, 1506.73it/s]\u001b[A\n",
            " 34%|███▎      | 24846/74067 [00:15<00:31, 1561.15it/s]\u001b[A\n",
            " 34%|███▍      | 25016/74067 [00:15<00:30, 1599.64it/s]\u001b[A\n",
            " 34%|███▍      | 25177/74067 [00:15<00:30, 1597.66it/s]\u001b[A\n",
            " 34%|███▍      | 25347/74067 [00:15<00:29, 1626.75it/s]\u001b[A\n",
            " 34%|███▍      | 25511/74067 [00:15<00:30, 1615.15it/s]\u001b[A\n",
            " 35%|███▍      | 25684/74067 [00:15<00:29, 1646.36it/s]\u001b[A\n",
            " 35%|███▍      | 25850/74067 [00:15<00:29, 1616.88it/s]\u001b[A\n",
            " 35%|███▌      | 26026/74067 [00:15<00:29, 1655.43it/s]\u001b[A\n",
            " 35%|███▌      | 26193/74067 [00:15<00:29, 1638.51it/s]\u001b[A\n",
            " 36%|███▌      | 26358/74067 [00:16<00:30, 1588.02it/s]\u001b[A\n",
            " 36%|███▌      | 26530/74067 [00:16<00:29, 1623.25it/s]\u001b[A\n",
            " 36%|███▌      | 26697/74067 [00:16<00:28, 1636.47it/s]\u001b[A\n",
            " 36%|███▋      | 26871/74067 [00:16<00:28, 1664.73it/s]\u001b[A\n",
            " 37%|███▋      | 27050/74067 [00:16<00:27, 1699.96it/s]\u001b[A\n",
            " 37%|███▋      | 27221/74067 [00:16<00:27, 1696.55it/s]\u001b[A\n",
            " 37%|███▋      | 27392/74067 [00:16<00:29, 1600.61it/s]\u001b[A\n",
            " 37%|███▋      | 27554/74067 [00:16<00:29, 1590.30it/s]\u001b[A\n",
            " 37%|███▋      | 27714/74067 [00:16<00:29, 1548.81it/s]\u001b[A\n",
            " 38%|███▊      | 27873/74067 [00:16<00:29, 1559.97it/s]\u001b[A\n",
            " 38%|███▊      | 28030/74067 [00:17<00:29, 1544.57it/s]\u001b[A\n",
            " 38%|███▊      | 28195/74067 [00:17<00:29, 1572.32it/s]\u001b[A\n",
            " 38%|███▊      | 28356/74067 [00:17<00:28, 1580.31it/s]\u001b[A\n",
            " 39%|███▊      | 28521/74067 [00:17<00:28, 1598.10it/s]\u001b[A\n",
            " 39%|███▊      | 28688/74067 [00:17<00:28, 1616.14it/s]\u001b[A\n",
            " 39%|███▉      | 28850/74067 [00:17<00:28, 1581.28it/s]\u001b[A\n",
            " 39%|███▉      | 29010/74067 [00:17<00:28, 1583.76it/s]\u001b[A\n",
            " 39%|███▉      | 29190/74067 [00:17<00:27, 1642.89it/s]\u001b[A\n",
            " 40%|███▉      | 29356/74067 [00:17<00:27, 1630.11it/s]\u001b[A\n",
            " 40%|███▉      | 29520/74067 [00:17<00:27, 1631.40it/s]\u001b[A\n",
            " 40%|████      | 29684/74067 [00:18<00:27, 1611.80it/s]\u001b[A\n",
            " 40%|████      | 29850/74067 [00:18<00:27, 1623.60it/s]\u001b[A\n",
            " 41%|████      | 30016/74067 [00:18<00:26, 1634.24it/s]\u001b[A\n",
            " 41%|████      | 30180/74067 [00:18<00:26, 1631.13it/s]\u001b[A\n",
            " 41%|████      | 30349/74067 [00:18<00:26, 1646.64it/s]\u001b[A\n",
            " 41%|████      | 30520/74067 [00:18<00:26, 1663.56it/s]\u001b[A\n",
            " 41%|████▏     | 30688/74067 [00:18<00:26, 1668.04it/s]\u001b[A\n",
            " 42%|████▏     | 30855/74067 [00:18<00:26, 1626.32it/s]\u001b[A\n",
            " 42%|████▏     | 31018/74067 [00:18<00:26, 1609.97it/s]\u001b[A\n",
            " 42%|████▏     | 31180/74067 [00:18<00:27, 1582.51it/s]\u001b[A\n",
            " 42%|████▏     | 31353/74067 [00:19<00:26, 1622.28it/s]\u001b[A\n",
            " 43%|████▎     | 31516/74067 [00:19<00:26, 1611.72it/s]\u001b[A\n",
            " 43%|████▎     | 31683/74067 [00:19<00:26, 1626.46it/s]\u001b[A\n",
            " 43%|████▎     | 31857/74067 [00:19<00:25, 1658.29it/s]\u001b[A\n",
            " 43%|████▎     | 32029/74067 [00:19<00:25, 1673.82it/s]\u001b[A\n",
            " 43%|████▎     | 32197/74067 [00:19<00:25, 1673.73it/s]\u001b[A\n",
            " 44%|████▎     | 32365/74067 [00:19<00:26, 1588.15it/s]\u001b[A\n",
            " 44%|████▍     | 32541/74067 [00:19<00:25, 1634.48it/s]\u001b[A\n",
            " 44%|████▍     | 32706/74067 [00:19<00:26, 1545.14it/s]\u001b[A\n",
            " 44%|████▍     | 32877/74067 [00:20<00:25, 1590.74it/s]\u001b[A\n",
            " 45%|████▍     | 33041/74067 [00:20<00:38, 1064.21it/s]\u001b[A\n",
            " 45%|████▍     | 33215/74067 [00:20<00:33, 1203.32it/s]\u001b[A\n",
            " 45%|████▌     | 33369/74067 [00:20<00:31, 1287.64it/s]\u001b[A\n",
            " 45%|████▌     | 33537/74067 [00:20<00:29, 1382.82it/s]\u001b[A\n",
            " 45%|████▌     | 33693/74067 [00:20<00:28, 1430.82it/s]\u001b[A\n",
            " 46%|████▌     | 33853/74067 [00:20<00:27, 1477.49it/s]\u001b[A\n",
            " 46%|████▌     | 34009/74067 [00:20<00:27, 1458.45it/s]\u001b[A\n",
            " 46%|████▌     | 34169/74067 [00:21<00:26, 1496.21it/s]\u001b[A\n",
            " 46%|████▋     | 34339/74067 [00:21<00:25, 1551.96it/s]\u001b[A\n",
            " 47%|████▋     | 34506/74067 [00:21<00:24, 1584.51it/s]\u001b[A\n",
            " 47%|████▋     | 34671/74067 [00:21<00:24, 1602.42it/s]\u001b[A\n",
            " 47%|████▋     | 34842/74067 [00:21<00:24, 1629.30it/s]\u001b[A\n",
            " 47%|████▋     | 35015/74067 [00:21<00:23, 1655.99it/s]\u001b[A\n",
            " 48%|████▊     | 35182/74067 [00:21<00:24, 1605.56it/s]\u001b[A\n",
            " 48%|████▊     | 35344/74067 [00:21<00:24, 1585.39it/s]\u001b[A\n",
            " 48%|████▊     | 35508/74067 [00:21<00:24, 1600.43it/s]\u001b[A\n",
            " 48%|████▊     | 35669/74067 [00:21<00:25, 1534.99it/s]\u001b[A\n",
            " 48%|████▊     | 35836/74067 [00:22<00:24, 1572.37it/s]\u001b[A\n",
            " 49%|████▊     | 36006/74067 [00:22<00:23, 1607.98it/s]\u001b[A\n",
            " 49%|████▉     | 36179/74067 [00:22<00:23, 1641.70it/s]\u001b[A\n",
            " 49%|████▉     | 36344/74067 [00:22<00:23, 1632.85it/s]\u001b[A\n",
            " 49%|████▉     | 36514/74067 [00:22<00:22, 1650.75it/s]\u001b[A\n",
            " 50%|████▉     | 36680/74067 [00:22<00:23, 1585.57it/s]\u001b[A\n",
            " 50%|████▉     | 36852/74067 [00:22<00:22, 1623.56it/s]\u001b[A\n",
            " 50%|████▉     | 37026/74067 [00:22<00:22, 1655.40it/s]\u001b[A\n",
            " 50%|█████     | 37196/74067 [00:22<00:22, 1668.04it/s]\u001b[A\n",
            " 50%|█████     | 37364/74067 [00:22<00:22, 1616.41it/s]\u001b[A\n",
            " 51%|█████     | 37545/74067 [00:23<00:21, 1668.06it/s]\u001b[A\n",
            " 51%|█████     | 37718/74067 [00:23<00:21, 1685.04it/s]\u001b[A\n",
            " 51%|█████     | 37888/74067 [00:23<00:22, 1622.20it/s]\u001b[A\n",
            " 51%|█████▏    | 38053/74067 [00:23<00:22, 1629.39it/s]\u001b[A\n",
            " 52%|█████▏    | 38220/74067 [00:23<00:21, 1640.56it/s]\u001b[A\n",
            " 52%|█████▏    | 38385/74067 [00:23<00:21, 1640.32it/s]\u001b[A\n",
            " 52%|█████▏    | 38555/74067 [00:23<00:21, 1655.97it/s]\u001b[A\n",
            " 52%|█████▏    | 38721/74067 [00:23<00:21, 1634.41it/s]\u001b[A\n",
            " 52%|█████▏    | 38885/74067 [00:23<00:22, 1536.48it/s]\u001b[A\n",
            " 53%|█████▎    | 39045/74067 [00:24<00:22, 1554.02it/s]\u001b[A\n",
            " 53%|█████▎    | 39203/74067 [00:24<00:22, 1559.49it/s]\u001b[A\n",
            " 53%|█████▎    | 39366/74067 [00:24<00:21, 1578.60it/s]\u001b[A\n",
            " 53%|█████▎    | 39537/74067 [00:24<00:21, 1614.69it/s]\u001b[A\n",
            " 54%|█████▎    | 39704/74067 [00:24<00:21, 1628.90it/s]\u001b[A\n",
            " 54%|█████▍    | 39869/74067 [00:24<00:20, 1634.43it/s]\u001b[A\n",
            " 54%|█████▍    | 40036/74067 [00:24<00:20, 1644.80it/s]\u001b[A\n",
            " 54%|█████▍    | 40201/74067 [00:24<00:21, 1593.99it/s]\u001b[A\n",
            " 55%|█████▍    | 40371/74067 [00:24<00:20, 1623.66it/s]\u001b[A\n",
            " 55%|█████▍    | 40534/74067 [00:24<00:20, 1622.47it/s]\u001b[A\n",
            " 55%|█████▍    | 40697/74067 [00:25<00:20, 1602.01it/s]\u001b[A\n",
            " 55%|█████▌    | 40860/74067 [00:25<00:20, 1607.92it/s]\u001b[A\n",
            " 55%|█████▌    | 41022/74067 [00:25<00:21, 1549.91it/s]\u001b[A\n",
            " 56%|█████▌    | 41178/74067 [00:25<00:21, 1521.83it/s]\u001b[A\n",
            " 56%|█████▌    | 41353/74067 [00:25<00:20, 1581.20it/s]\u001b[A\n",
            " 56%|█████▌    | 41513/74067 [00:25<00:21, 1543.95it/s]\u001b[A\n",
            " 56%|█████▋    | 41673/74067 [00:25<00:20, 1559.55it/s]\u001b[A\n",
            " 56%|█████▋    | 41845/74067 [00:25<00:20, 1602.83it/s]\u001b[A\n",
            " 57%|█████▋    | 42007/74067 [00:25<00:20, 1583.25it/s]\u001b[A\n",
            " 57%|█████▋    | 42166/74067 [00:25<00:20, 1569.61it/s]\u001b[A\n",
            " 57%|█████▋    | 42341/74067 [00:26<00:19, 1616.93it/s]\u001b[A\n",
            " 57%|█████▋    | 42506/74067 [00:26<00:19, 1625.90it/s]\u001b[A\n",
            " 58%|█████▊    | 42672/74067 [00:26<00:19, 1634.09it/s]\u001b[A\n",
            " 58%|█████▊    | 42836/74067 [00:26<00:19, 1623.37it/s]\u001b[A\n",
            " 58%|█████▊    | 42999/74067 [00:26<00:19, 1615.37it/s]\u001b[A\n",
            " 58%|█████▊    | 43165/74067 [00:26<00:18, 1627.75it/s]\u001b[A\n",
            " 59%|█████▊    | 43333/74067 [00:26<00:18, 1643.02it/s]\u001b[A\n",
            " 59%|█████▊    | 43498/74067 [00:26<00:18, 1631.55it/s]\u001b[A\n",
            " 59%|█████▉    | 43667/74067 [00:26<00:18, 1648.62it/s]\u001b[A\n",
            " 59%|█████▉    | 43832/74067 [00:27<00:19, 1558.32it/s]\u001b[A\n",
            " 59%|█████▉    | 43994/74067 [00:27<00:19, 1574.47it/s]\u001b[A\n",
            " 60%|█████▉    | 44162/74067 [00:27<00:18, 1604.05it/s]\u001b[A\n",
            " 60%|█████▉    | 44327/74067 [00:27<00:18, 1614.78it/s]\u001b[A\n",
            " 60%|██████    | 44500/74067 [00:27<00:17, 1643.93it/s]\u001b[A\n",
            " 60%|██████    | 44665/74067 [00:27<00:18, 1621.44it/s]\u001b[A\n",
            " 61%|██████    | 44834/74067 [00:27<00:17, 1639.23it/s]\u001b[A\n",
            " 61%|██████    | 44999/74067 [00:27<00:18, 1597.34it/s]\u001b[A\n",
            " 61%|██████    | 45166/74067 [00:27<00:17, 1616.05it/s]\u001b[A\n",
            " 61%|██████    | 45328/74067 [00:27<00:17, 1598.36it/s]\u001b[A\n",
            " 61%|██████▏   | 45489/74067 [00:28<00:18, 1573.44it/s]\u001b[A\n",
            " 62%|██████▏   | 45656/74067 [00:28<00:17, 1600.79it/s]\u001b[A\n",
            " 62%|██████▏   | 45823/74067 [00:28<00:17, 1618.94it/s]\u001b[A\n",
            " 62%|██████▏   | 45986/74067 [00:28<00:17, 1564.35it/s]\u001b[A\n",
            " 62%|██████▏   | 46144/74067 [00:28<00:18, 1521.35it/s]\u001b[A\n",
            " 63%|██████▎   | 46314/74067 [00:28<00:17, 1569.11it/s]\u001b[A\n",
            " 63%|██████▎   | 46478/74067 [00:28<00:17, 1587.63it/s]\u001b[A\n",
            " 63%|██████▎   | 46638/74067 [00:28<00:17, 1579.95it/s]\u001b[A\n",
            " 63%|██████▎   | 46798/74067 [00:28<00:17, 1584.87it/s]\u001b[A\n",
            " 63%|██████▎   | 46967/74067 [00:28<00:16, 1614.09it/s]\u001b[A\n",
            " 64%|██████▎   | 47129/74067 [00:29<00:17, 1552.28it/s]\u001b[A\n",
            " 64%|██████▍   | 47286/74067 [00:29<00:17, 1556.99it/s]\u001b[A\n",
            " 64%|██████▍   | 47455/74067 [00:29<00:16, 1593.65it/s]\u001b[A\n",
            " 64%|██████▍   | 47619/74067 [00:29<00:16, 1606.53it/s]\u001b[A\n",
            " 65%|██████▍   | 47787/74067 [00:29<00:16, 1626.45it/s]\u001b[A\n",
            " 65%|██████▍   | 47958/74067 [00:29<00:15, 1649.41it/s]\u001b[A\n",
            " 65%|██████▍   | 48124/74067 [00:29<00:16, 1605.95it/s]\u001b[A\n",
            " 65%|██████▌   | 48292/74067 [00:29<00:15, 1627.43it/s]\u001b[A\n",
            " 65%|██████▌   | 48456/74067 [00:29<00:15, 1630.68it/s]\u001b[A\n",
            " 66%|██████▌   | 48623/74067 [00:29<00:15, 1642.23it/s]\u001b[A\n",
            " 66%|██████▌   | 48788/74067 [00:30<00:15, 1597.71it/s]\u001b[A\n",
            " 66%|██████▌   | 48949/74067 [00:30<00:15, 1596.53it/s]\u001b[A\n",
            " 66%|██████▋   | 49109/74067 [00:30<00:15, 1592.03it/s]\u001b[A\n",
            " 67%|██████▋   | 49269/74067 [00:30<00:15, 1585.38it/s]\u001b[A\n",
            " 67%|██████▋   | 49428/74067 [00:30<00:15, 1575.80it/s]\u001b[A\n",
            " 67%|██████▋   | 49588/74067 [00:30<00:15, 1581.81it/s]\u001b[A\n",
            " 67%|██████▋   | 49747/74067 [00:30<00:15, 1582.19it/s]\u001b[A\n",
            " 67%|██████▋   | 49916/74067 [00:30<00:14, 1612.18it/s]\u001b[A\n",
            " 68%|██████▊   | 50080/74067 [00:30<00:14, 1618.10it/s]\u001b[A\n",
            " 68%|██████▊   | 50242/74067 [00:31<00:15, 1574.09it/s]\u001b[A\n",
            " 68%|██████▊   | 50400/74067 [00:31<00:15, 1558.73it/s]\u001b[A\n",
            " 68%|██████▊   | 50557/74067 [00:31<00:15, 1557.80it/s]\u001b[A\n",
            " 68%|██████▊   | 50714/74067 [00:31<00:14, 1559.21it/s]\u001b[A\n",
            " 69%|██████▊   | 50872/74067 [00:31<00:14, 1563.75it/s]\u001b[A\n",
            " 69%|██████▉   | 51029/74067 [00:31<00:15, 1533.24it/s]\u001b[A\n",
            " 69%|██████▉   | 51183/74067 [00:31<00:15, 1492.88it/s]\u001b[A\n",
            " 69%|██████▉   | 51338/74067 [00:31<00:15, 1507.68it/s]\u001b[A\n",
            " 70%|██████▉   | 51506/74067 [00:31<00:14, 1555.35it/s]\u001b[A\n",
            " 70%|██████▉   | 51675/74067 [00:31<00:14, 1591.08it/s]\u001b[A\n",
            " 70%|███████   | 51849/74067 [00:32<00:13, 1632.84it/s]\u001b[A\n",
            " 70%|███████   | 52013/74067 [00:32<00:14, 1562.88it/s]\u001b[A\n",
            " 70%|███████   | 52176/74067 [00:32<00:13, 1580.07it/s]\u001b[A\n",
            " 71%|███████   | 52356/74067 [00:32<00:13, 1639.89it/s]\u001b[A\n",
            " 71%|███████   | 52529/74067 [00:32<00:12, 1663.57it/s]\u001b[A\n",
            " 71%|███████   | 52705/74067 [00:32<00:12, 1689.11it/s]\u001b[A\n",
            " 71%|███████▏  | 52875/74067 [00:32<00:12, 1668.69it/s]\u001b[A\n",
            " 72%|███████▏  | 53043/74067 [00:32<00:12, 1627.88it/s]\u001b[A\n",
            " 72%|███████▏  | 53207/74067 [00:32<00:12, 1624.39it/s]\u001b[A\n",
            " 72%|███████▏  | 53377/74067 [00:32<00:12, 1644.26it/s]\u001b[A\n",
            " 72%|███████▏  | 53550/74067 [00:33<00:12, 1667.78it/s]\u001b[A\n",
            " 73%|███████▎  | 53718/74067 [00:33<00:12, 1636.02it/s]\u001b[A\n",
            " 73%|███████▎  | 53896/74067 [00:33<00:12, 1676.66it/s]\u001b[A\n",
            " 73%|███████▎  | 54065/74067 [00:33<00:12, 1609.24it/s]\u001b[A\n",
            " 73%|███████▎  | 54227/74067 [00:33<00:12, 1593.15it/s]\u001b[A\n",
            " 73%|███████▎  | 54388/74067 [00:33<00:12, 1545.50it/s]\u001b[A\n",
            " 74%|███████▎  | 54545/74067 [00:33<00:12, 1550.82it/s]\u001b[A\n",
            " 74%|███████▍  | 54710/74067 [00:33<00:12, 1577.59it/s]\u001b[A\n",
            " 74%|███████▍  | 54869/74067 [00:33<00:12, 1564.20it/s]\u001b[A\n",
            " 74%|███████▍  | 55026/74067 [00:34<00:13, 1448.64it/s]\u001b[A\n",
            " 74%|███████▍  | 55173/74067 [00:34<00:13, 1443.23it/s]\u001b[A\n",
            " 75%|███████▍  | 55331/74067 [00:34<00:12, 1481.41it/s]\u001b[A\n",
            " 75%|███████▍  | 55501/74067 [00:34<00:12, 1539.54it/s]\u001b[A\n",
            " 75%|███████▌  | 55657/74067 [00:34<00:11, 1543.38it/s]\u001b[A\n",
            " 75%|███████▌  | 55813/74067 [00:34<00:11, 1545.70it/s]\u001b[A\n",
            " 76%|███████▌  | 55969/74067 [00:34<00:11, 1530.95it/s]\u001b[A\n",
            " 76%|███████▌  | 56128/74067 [00:34<00:11, 1547.05it/s]\u001b[A\n",
            " 76%|███████▌  | 56286/74067 [00:34<00:11, 1554.98it/s]\u001b[A\n",
            " 76%|███████▌  | 56442/74067 [00:34<00:11, 1526.81it/s]\u001b[A\n",
            " 76%|███████▋  | 56603/74067 [00:35<00:11, 1549.75it/s]\u001b[A\n",
            " 77%|███████▋  | 56759/74067 [00:35<00:11, 1503.47it/s]\u001b[A\n",
            " 77%|███████▋  | 56913/74067 [00:35<00:11, 1512.29it/s]\u001b[A\n",
            " 77%|███████▋  | 57073/74067 [00:35<00:11, 1535.90it/s]\u001b[A\n",
            " 77%|███████▋  | 57227/74067 [00:35<00:11, 1492.08it/s]\u001b[A\n",
            " 77%|███████▋  | 57377/74067 [00:35<00:11, 1428.60it/s]\u001b[A\n",
            " 78%|███████▊  | 57529/74067 [00:35<00:11, 1453.30it/s]\u001b[A\n",
            " 78%|███████▊  | 57684/74067 [00:35<00:11, 1479.85it/s]\u001b[A\n",
            " 78%|███████▊  | 57842/74067 [00:35<00:10, 1507.07it/s]\u001b[A\n",
            " 78%|███████▊  | 58000/74067 [00:36<00:10, 1526.92it/s]\u001b[A\n",
            " 79%|███████▊  | 58158/74067 [00:36<00:10, 1540.03it/s]\u001b[A\n",
            " 79%|███████▊  | 58313/74067 [00:36<00:10, 1518.61it/s]\u001b[A\n",
            " 79%|███████▉  | 58466/74067 [00:36<00:10, 1473.15it/s]\u001b[A\n",
            " 79%|███████▉  | 58615/74067 [00:36<00:10, 1477.90it/s]\u001b[A\n",
            " 79%|███████▉  | 58781/74067 [00:36<00:10, 1527.07it/s]\u001b[A\n",
            " 80%|███████▉  | 58939/74067 [00:36<00:09, 1541.04it/s]\u001b[A\n",
            " 80%|███████▉  | 59094/74067 [00:36<00:09, 1523.56it/s]\u001b[A\n",
            " 80%|███████▉  | 59247/74067 [00:36<00:10, 1468.55it/s]\u001b[A\n",
            " 80%|████████  | 59395/74067 [00:36<00:09, 1467.63it/s]\u001b[A\n",
            " 80%|████████  | 59560/74067 [00:37<00:09, 1517.59it/s]\u001b[A\n",
            " 81%|████████  | 59713/74067 [00:37<00:09, 1500.66it/s]\u001b[A\n",
            " 81%|████████  | 59864/74067 [00:37<00:09, 1486.52it/s]\u001b[A\n",
            " 81%|████████  | 60014/74067 [00:37<00:09, 1449.52it/s]\u001b[A\n",
            " 81%|████████  | 60163/74067 [00:37<00:09, 1459.80it/s]\u001b[A\n",
            " 81%|████████▏ | 60310/74067 [00:37<00:09, 1462.63it/s]\u001b[A\n",
            " 82%|████████▏ | 60466/74067 [00:37<00:09, 1489.05it/s]\u001b[A\n",
            " 82%|████████▏ | 60616/74067 [00:37<00:09, 1488.69it/s]\u001b[A\n",
            " 82%|████████▏ | 60766/74067 [00:37<00:08, 1479.61it/s]\u001b[A\n",
            " 82%|████████▏ | 60915/74067 [00:37<00:08, 1481.73it/s]\u001b[A\n",
            " 82%|████████▏ | 61068/74067 [00:38<00:08, 1493.92it/s]\u001b[A\n",
            " 83%|████████▎ | 61228/74067 [00:38<00:08, 1522.88it/s]\u001b[A\n",
            " 83%|████████▎ | 61386/74067 [00:38<00:08, 1538.40it/s]\u001b[A\n",
            " 83%|████████▎ | 61541/74067 [00:38<00:08, 1455.07it/s]\u001b[A\n",
            " 83%|████████▎ | 61689/74067 [00:38<00:08, 1462.21it/s]\u001b[A\n",
            " 83%|████████▎ | 61836/74067 [00:38<00:08, 1445.09it/s]\u001b[A\n",
            " 84%|████████▎ | 61982/74067 [00:38<00:08, 1446.20it/s]\u001b[A\n",
            " 84%|████████▍ | 62128/74067 [00:38<00:08, 1435.67it/s]\u001b[A\n",
            " 84%|████████▍ | 62272/74067 [00:38<00:08, 1409.08it/s]\u001b[A\n",
            " 84%|████████▍ | 62414/74067 [00:39<00:08, 1373.93it/s]\u001b[A\n",
            " 84%|████████▍ | 62562/74067 [00:39<00:08, 1401.87it/s]\u001b[A\n",
            " 85%|████████▍ | 62703/74067 [00:39<00:08, 1388.35it/s]\u001b[A\n",
            " 85%|████████▍ | 62848/74067 [00:39<00:07, 1405.63it/s]\u001b[A\n",
            " 85%|████████▌ | 62990/74067 [00:39<00:07, 1407.45it/s]\u001b[A\n",
            " 85%|████████▌ | 63138/74067 [00:39<00:07, 1428.15it/s]\u001b[A\n",
            " 85%|████████▌ | 63282/74067 [00:39<00:07, 1430.42it/s]\u001b[A\n",
            " 86%|████████▌ | 63426/74067 [00:39<00:07, 1427.33it/s]\u001b[A\n",
            " 86%|████████▌ | 63582/74067 [00:39<00:07, 1463.95it/s]\u001b[A\n",
            " 86%|████████▌ | 63729/74067 [00:39<00:07, 1424.60it/s]\u001b[A\n",
            " 86%|████████▋ | 63892/74067 [00:40<00:06, 1479.31it/s]\u001b[A\n",
            " 86%|████████▋ | 64049/74067 [00:40<00:06, 1504.86it/s]\u001b[A\n",
            " 87%|████████▋ | 64201/74067 [00:40<00:06, 1467.99it/s]\u001b[A\n",
            " 87%|████████▋ | 64355/74067 [00:40<00:06, 1487.45it/s]\u001b[A\n",
            " 87%|████████▋ | 64505/74067 [00:40<00:06, 1436.25it/s]\u001b[A\n",
            " 87%|████████▋ | 64661/74067 [00:40<00:06, 1471.15it/s]\u001b[A\n",
            " 88%|████████▊ | 64812/74067 [00:40<00:06, 1481.92it/s]\u001b[A\n",
            " 88%|████████▊ | 64965/74067 [00:40<00:06, 1494.58it/s]\u001b[A\n",
            " 88%|████████▊ | 65123/74067 [00:40<00:05, 1517.86it/s]\u001b[A\n",
            " 88%|████████▊ | 65276/74067 [00:40<00:05, 1465.68it/s]\u001b[A\n",
            " 88%|████████▊ | 65426/74067 [00:41<00:05, 1475.08it/s]\u001b[A\n",
            " 89%|████████▊ | 65584/74067 [00:41<00:05, 1504.63it/s]\u001b[A\n",
            " 89%|████████▉ | 65735/74067 [00:41<00:05, 1481.14it/s]\u001b[A\n",
            " 89%|████████▉ | 65884/74067 [00:41<00:05, 1469.81it/s]\u001b[A\n",
            " 89%|████████▉ | 66039/74067 [00:41<00:05, 1492.52it/s]\u001b[A\n",
            " 89%|████████▉ | 66189/74067 [00:41<00:05, 1479.95it/s]\u001b[A\n",
            " 90%|████████▉ | 66353/74067 [00:41<00:05, 1524.03it/s]\u001b[A\n",
            " 90%|████████▉ | 66514/74067 [00:41<00:04, 1547.68it/s]\u001b[A\n",
            " 90%|█████████ | 66670/74067 [00:41<00:04, 1523.52it/s]\u001b[A\n",
            " 90%|█████████ | 66824/74067 [00:41<00:04, 1525.19it/s]\u001b[A\n",
            " 90%|█████████ | 66977/74067 [00:42<00:04, 1519.14it/s]\u001b[A\n",
            " 91%|█████████ | 67135/74067 [00:42<00:04, 1534.96it/s]\u001b[A\n",
            " 91%|█████████ | 67289/74067 [00:42<00:04, 1524.52it/s]\u001b[A\n",
            " 91%|█████████ | 67442/74067 [00:42<00:04, 1499.66it/s]\u001b[A\n",
            " 91%|█████████▏| 67593/74067 [00:42<00:04, 1489.49it/s]\u001b[A\n",
            " 91%|█████████▏| 67751/74067 [00:42<00:04, 1515.00it/s]\u001b[A\n",
            " 92%|█████████▏| 67910/74067 [00:42<00:04, 1535.41it/s]\u001b[A\n",
            " 92%|█████████▏| 68064/74067 [00:42<00:04, 1498.62it/s]\u001b[A\n",
            " 92%|█████████▏| 68215/74067 [00:42<00:03, 1493.65it/s]\u001b[A\n",
            " 92%|█████████▏| 68379/74067 [00:43<00:03, 1534.57it/s]\u001b[A\n",
            " 93%|█████████▎| 68548/74067 [00:43<00:03, 1576.30it/s]\u001b[A\n",
            " 93%|█████████▎| 68713/74067 [00:43<00:03, 1596.30it/s]\u001b[A\n",
            " 93%|█████████▎| 68874/74067 [00:43<00:03, 1483.52it/s]\u001b[A\n",
            " 93%|█████████▎| 69032/74067 [00:43<00:03, 1508.16it/s]\u001b[A\n",
            " 93%|█████████▎| 69192/74067 [00:43<00:03, 1534.07it/s]\u001b[A\n",
            " 94%|█████████▎| 69349/74067 [00:43<00:03, 1544.30it/s]\u001b[A\n",
            " 94%|█████████▍| 69505/74067 [00:43<00:03, 1469.11it/s]\u001b[A\n",
            " 94%|█████████▍| 69656/74067 [00:43<00:02, 1480.35it/s]\u001b[A\n",
            " 94%|█████████▍| 69805/74067 [00:43<00:02, 1482.65it/s]\u001b[A\n",
            " 94%|█████████▍| 69970/74067 [00:44<00:02, 1526.43it/s]\u001b[A\n",
            " 95%|█████████▍| 70124/74067 [00:44<00:02, 1494.52it/s]\u001b[A\n",
            " 95%|█████████▍| 70284/74067 [00:44<00:02, 1521.86it/s]\u001b[A\n",
            " 95%|█████████▌| 70438/74067 [00:44<00:02, 1525.24it/s]\u001b[A\n",
            " 95%|█████████▌| 70607/74067 [00:44<00:02, 1568.12it/s]\u001b[A\n",
            " 96%|█████████▌| 70765/74067 [00:44<00:02, 1539.83it/s]\u001b[A\n",
            " 96%|█████████▌| 70920/74067 [00:44<00:02, 1504.87it/s]\u001b[A\n",
            " 96%|█████████▌| 71079/74067 [00:44<00:01, 1527.05it/s]\u001b[A\n",
            " 96%|█████████▌| 71245/74067 [00:44<00:01, 1561.64it/s]\u001b[A\n",
            " 96%|█████████▋| 71403/74067 [00:44<00:01, 1566.09it/s]\u001b[A\n",
            " 97%|█████████▋| 71560/74067 [00:45<00:01, 1535.59it/s]\u001b[A\n",
            " 97%|█████████▋| 71714/74067 [00:45<00:01, 1529.02it/s]\u001b[A\n",
            " 97%|█████████▋| 71868/74067 [00:45<00:01, 1491.14it/s]\u001b[A\n",
            " 97%|█████████▋| 72025/74067 [00:45<00:01, 1512.95it/s]\u001b[A\n",
            " 97%|█████████▋| 72177/74067 [00:45<00:01, 1502.16it/s]\u001b[A\n",
            " 98%|█████████▊| 72328/74067 [00:45<00:01, 1499.48it/s]\u001b[A\n",
            " 98%|█████████▊| 72485/74067 [00:45<00:01, 1516.91it/s]\u001b[A\n",
            " 98%|█████████▊| 72641/74067 [00:45<00:00, 1529.44it/s]\u001b[A\n",
            " 98%|█████████▊| 72795/74067 [00:45<00:00, 1495.86it/s]\u001b[A\n",
            " 98%|█████████▊| 72945/74067 [00:46<00:00, 1439.46it/s]\u001b[A\n",
            " 99%|█████████▊| 73102/74067 [00:46<00:00, 1475.21it/s]\u001b[A\n",
            " 99%|█████████▉| 73269/74067 [00:46<00:00, 1527.08it/s]\u001b[A\n",
            " 99%|█████████▉| 73423/74067 [00:46<00:00, 1479.14it/s]\u001b[A\n",
            " 99%|█████████▉| 73572/74067 [00:46<00:00, 1454.52it/s]\u001b[A\n",
            "100%|█████████▉| 73724/74067 [00:46<00:00, 1471.12it/s]\u001b[A\n",
            "100%|█████████▉| 73885/74067 [00:46<00:00, 1508.78it/s]\u001b[A\n",
            "100%|██████████| 74067/74067 [00:46<00:00, 1583.60it/s]\n"
          ],
          "name": "stderr"
        }
      ]
    },
    {
      "cell_type": "code",
      "metadata": {
        "colab": {
          "base_uri": "https://localhost:8080/"
        },
        "id": "qWEyqUS_JITR",
        "outputId": "272974d7-5477-4f1f-d519-5f0616377f61"
      },
      "source": [
        "df['search_term_tokens'] = df['search_term'].progress_apply(lambda text: tokenize(text, MAX_SEARCH_TERM_LENGTH))"
      ],
      "execution_count": 35,
      "outputs": [
        {
          "output_type": "stream",
          "text": [
            "\n",
            "  0%|          | 0/74067 [00:00<?, ?it/s]\u001b[A\n",
            "  0%|          | 367/74067 [00:00<00:20, 3666.11it/s]\u001b[A\n",
            "  1%|          | 696/74067 [00:00<00:20, 3542.24it/s]\u001b[A\n",
            "  1%|▏         | 1029/74067 [00:00<00:21, 3475.11it/s]\u001b[A\n",
            "  2%|▏         | 1350/74067 [00:00<00:21, 3371.21it/s]\u001b[A\n",
            "  2%|▏         | 1659/74067 [00:00<00:22, 3281.21it/s]\u001b[A\n",
            "  3%|▎         | 1978/74067 [00:00<00:22, 3252.10it/s]\u001b[A\n",
            "  3%|▎         | 2308/74067 [00:00<00:21, 3264.70it/s]\u001b[A\n",
            "  4%|▎         | 2626/74067 [00:00<00:22, 3237.12it/s]\u001b[A\n",
            "  4%|▍         | 2932/74067 [00:00<00:22, 3179.02it/s]\u001b[A\n",
            "  4%|▍         | 3268/74067 [00:01<00:21, 3229.14it/s]\u001b[A\n",
            "  5%|▍         | 3586/74067 [00:01<00:21, 3210.80it/s]\u001b[A\n",
            "  5%|▌         | 3919/74067 [00:01<00:21, 3244.93it/s]\u001b[A\n",
            "  6%|▌         | 4257/74067 [00:01<00:21, 3281.76it/s]\u001b[A\n",
            "  6%|▌         | 4600/74067 [00:01<00:20, 3323.13it/s]\u001b[A\n",
            "  7%|▋         | 4931/74067 [00:01<00:21, 3281.02it/s]\u001b[A\n",
            "  7%|▋         | 5279/74067 [00:01<00:20, 3337.90it/s]\u001b[A\n",
            "  8%|▊         | 5622/74067 [00:01<00:20, 3364.95it/s]\u001b[A\n",
            "  8%|▊         | 5959/74067 [00:01<00:20, 3322.50it/s]\u001b[A\n",
            "  9%|▊         | 6297/74067 [00:01<00:20, 3337.88it/s]\u001b[A\n",
            "  9%|▉         | 6633/74067 [00:02<00:20, 3342.54it/s]\u001b[A\n",
            "  9%|▉         | 6968/74067 [00:02<00:20, 3301.99it/s]\u001b[A\n",
            " 10%|▉         | 7311/74067 [00:02<00:20, 3337.09it/s]\u001b[A\n",
            " 10%|█         | 7664/74067 [00:02<00:19, 3391.26it/s]\u001b[A\n",
            " 11%|█         | 8006/74067 [00:02<00:19, 3397.10it/s]\u001b[A\n",
            " 11%|█▏        | 8346/74067 [00:02<00:20, 3181.98it/s]\u001b[A\n",
            " 12%|█▏        | 8668/74067 [00:02<00:21, 3026.63it/s]\u001b[A\n",
            " 12%|█▏        | 8986/74067 [00:02<00:21, 3068.92it/s]\u001b[A\n",
            " 13%|█▎        | 9321/74067 [00:02<00:20, 3147.62it/s]\u001b[A\n",
            " 13%|█▎        | 9665/74067 [00:02<00:19, 3228.62it/s]\u001b[A\n",
            " 13%|█▎        | 9991/74067 [00:03<00:20, 3202.49it/s]\u001b[A\n",
            " 14%|█▍        | 10327/74067 [00:03<00:19, 3247.15it/s]\u001b[A\n",
            " 14%|█▍        | 10661/74067 [00:03<00:19, 3273.83it/s]\u001b[A\n",
            " 15%|█▍        | 11001/74067 [00:03<00:19, 3310.55it/s]\u001b[A\n",
            " 15%|█▌        | 11333/74067 [00:03<00:18, 3303.63it/s]\u001b[A\n",
            " 16%|█▌        | 11664/74067 [00:03<00:19, 3237.64it/s]\u001b[A\n",
            " 16%|█▌        | 11989/74067 [00:03<00:19, 3235.81it/s]\u001b[A\n",
            " 17%|█▋        | 12329/74067 [00:03<00:18, 3281.80it/s]\u001b[A\n",
            " 17%|█▋        | 12667/74067 [00:03<00:18, 3308.71it/s]\u001b[A\n",
            " 18%|█▊        | 12999/74067 [00:03<00:18, 3289.05it/s]\u001b[A\n",
            " 18%|█▊        | 13329/74067 [00:04<00:18, 3289.03it/s]\u001b[A\n",
            " 18%|█▊        | 13675/74067 [00:04<00:18, 3336.90it/s]\u001b[A\n",
            " 19%|█▉        | 14020/74067 [00:04<00:17, 3369.43it/s]\u001b[A\n",
            " 19%|█▉        | 14358/74067 [00:04<00:18, 3264.41it/s]\u001b[A\n",
            " 20%|█▉        | 14707/74067 [00:04<00:17, 3327.48it/s]\u001b[A\n",
            " 20%|██        | 15041/74067 [00:04<00:18, 3238.11it/s]\u001b[A\n",
            " 21%|██        | 15375/74067 [00:04<00:17, 3267.11it/s]\u001b[A\n",
            " 21%|██        | 15703/74067 [00:04<00:18, 3212.70it/s]\u001b[A\n",
            " 22%|██▏       | 16026/74067 [00:04<00:18, 3186.39it/s]\u001b[A\n",
            " 22%|██▏       | 16361/74067 [00:05<00:17, 3233.16it/s]\u001b[A\n",
            " 23%|██▎       | 16685/74067 [00:05<00:17, 3216.11it/s]\u001b[A\n",
            " 23%|██▎       | 17008/74067 [00:05<00:17, 3204.78it/s]\u001b[A\n",
            " 23%|██▎       | 17337/74067 [00:05<00:17, 3229.52it/s]\u001b[A\n",
            " 24%|██▍       | 17675/74067 [00:05<00:17, 3272.61it/s]\u001b[A\n",
            " 24%|██▍       | 18015/74067 [00:05<00:16, 3309.66it/s]\u001b[A\n",
            " 25%|██▍       | 18347/74067 [00:05<00:17, 3191.61it/s]\u001b[A\n",
            " 25%|██▌       | 18670/74067 [00:05<00:17, 3201.44it/s]\u001b[A\n",
            " 26%|██▌       | 19004/74067 [00:05<00:16, 3240.94it/s]\u001b[A\n",
            " 26%|██▌       | 19343/74067 [00:05<00:16, 3283.72it/s]\u001b[A\n",
            " 27%|██▋       | 19672/74067 [00:06<00:16, 3273.77it/s]\u001b[A\n",
            " 27%|██▋       | 20000/74067 [00:06<00:16, 3195.90it/s]\u001b[A\n",
            " 27%|██▋       | 20321/74067 [00:06<00:17, 3149.45it/s]\u001b[A\n",
            " 28%|██▊       | 20648/74067 [00:06<00:16, 3182.10it/s]\u001b[A\n",
            " 28%|██▊       | 20983/74067 [00:06<00:16, 3229.91it/s]\u001b[A\n",
            " 29%|██▉       | 21313/74067 [00:06<00:16, 3247.79it/s]\u001b[A\n",
            " 29%|██▉       | 21639/74067 [00:06<00:16, 3166.74it/s]\u001b[A\n",
            " 30%|██▉       | 21957/74067 [00:06<00:16, 3125.20it/s]\u001b[A\n",
            " 30%|███       | 22271/74067 [00:06<00:16, 3090.73it/s]\u001b[A\n",
            " 30%|███       | 22590/74067 [00:06<00:16, 3119.78it/s]\u001b[A\n",
            " 31%|███       | 22921/74067 [00:07<00:16, 3171.09it/s]\u001b[A\n",
            " 31%|███▏      | 23239/74067 [00:07<00:16, 3154.50it/s]\u001b[A\n",
            " 32%|███▏      | 23572/74067 [00:07<00:15, 3204.91it/s]\u001b[A\n",
            " 32%|███▏      | 23907/74067 [00:07<00:15, 3244.82it/s]\u001b[A\n",
            " 33%|███▎      | 24239/74067 [00:07<00:15, 3266.85it/s]\u001b[A\n",
            " 33%|███▎      | 24575/74067 [00:07<00:15, 3291.06it/s]\u001b[A\n",
            " 34%|███▎      | 24905/74067 [00:07<00:15, 3147.97it/s]\u001b[A\n",
            " 34%|███▍      | 25227/74067 [00:07<00:15, 3167.44it/s]\u001b[A\n",
            " 34%|███▍      | 25549/74067 [00:07<00:15, 3180.65it/s]\u001b[A\n",
            " 35%|███▍      | 25880/74067 [00:07<00:14, 3214.57it/s]\u001b[A\n",
            " 35%|███▌      | 26203/74067 [00:08<00:14, 3197.02it/s]\u001b[A\n",
            " 36%|███▌      | 26531/74067 [00:08<00:14, 3218.75it/s]\u001b[A\n",
            " 36%|███▋      | 26857/74067 [00:08<00:14, 3229.75it/s]\u001b[A\n",
            " 37%|███▋      | 27181/74067 [00:08<00:14, 3153.19it/s]\u001b[A\n",
            " 37%|███▋      | 27497/74067 [00:08<00:15, 3063.97it/s]\u001b[A\n",
            " 38%|███▊      | 27805/74067 [00:08<00:15, 2928.75it/s]\u001b[A\n",
            " 38%|███▊      | 28130/74067 [00:08<00:15, 3017.37it/s]\u001b[A\n",
            " 38%|███▊      | 28454/74067 [00:08<00:14, 3079.66it/s]\u001b[A\n",
            " 39%|███▉      | 28764/74067 [00:08<00:15, 2933.91it/s]\u001b[A\n",
            " 39%|███▉      | 29078/74067 [00:09<00:15, 2991.97it/s]\u001b[A\n",
            " 40%|███▉      | 29395/74067 [00:09<00:14, 3041.08it/s]\u001b[A\n",
            " 40%|████      | 29735/74067 [00:09<00:14, 3138.66it/s]\u001b[A\n",
            " 41%|████      | 30065/74067 [00:09<00:13, 3184.38it/s]\u001b[A\n",
            " 41%|████      | 30385/74067 [00:09<00:13, 3163.87it/s]\u001b[A\n",
            " 41%|████▏     | 30718/74067 [00:09<00:13, 3211.15it/s]\u001b[A\n",
            " 42%|████▏     | 31041/74067 [00:09<00:13, 3151.42it/s]\u001b[A\n",
            " 42%|████▏     | 31366/74067 [00:09<00:13, 3180.13it/s]\u001b[A\n",
            " 43%|████▎     | 31685/74067 [00:09<00:13, 3136.50it/s]\u001b[A\n",
            " 43%|████▎     | 32027/74067 [00:09<00:13, 3216.08it/s]\u001b[A\n",
            " 44%|████▎     | 32364/74067 [00:10<00:12, 3259.68it/s]\u001b[A\n",
            " 44%|████▍     | 32704/74067 [00:10<00:12, 3300.12it/s]\u001b[A\n",
            " 45%|████▍     | 33035/74067 [00:10<00:12, 3212.78it/s]\u001b[A\n",
            " 45%|████▌     | 33358/74067 [00:10<00:12, 3181.29it/s]\u001b[A\n",
            " 45%|████▌     | 33699/74067 [00:10<00:12, 3243.68it/s]\u001b[A\n",
            " 46%|████▌     | 34035/74067 [00:10<00:12, 3276.28it/s]\u001b[A\n",
            " 46%|████▋     | 34364/74067 [00:10<00:12, 3231.27it/s]\u001b[A\n",
            " 47%|████▋     | 34688/74067 [00:10<00:12, 3165.63it/s]\u001b[A\n",
            " 47%|████▋     | 35018/74067 [00:10<00:12, 3203.78it/s]\u001b[A\n",
            " 48%|████▊     | 35365/74067 [00:10<00:11, 3279.02it/s]\u001b[A\n",
            " 48%|████▊     | 35694/74067 [00:11<00:11, 3252.07it/s]\u001b[A\n",
            " 49%|████▊     | 36027/74067 [00:11<00:11, 3273.02it/s]\u001b[A\n",
            " 49%|████▉     | 36355/74067 [00:11<00:11, 3264.74it/s]\u001b[A\n",
            " 50%|████▉     | 36686/74067 [00:11<00:11, 3275.90it/s]\u001b[A\n",
            " 50%|████▉     | 37014/74067 [00:11<00:11, 3269.57it/s]\u001b[A\n",
            " 50%|█████     | 37343/74067 [00:11<00:11, 3273.24it/s]\u001b[A\n",
            " 51%|█████     | 37671/74067 [00:11<00:11, 3179.10it/s]\u001b[A\n",
            " 51%|█████▏    | 37990/74067 [00:11<00:11, 3112.74it/s]\u001b[A\n",
            " 52%|█████▏    | 38303/74067 [00:11<00:11, 2989.11it/s]\u001b[A\n",
            " 52%|█████▏    | 38656/74067 [00:12<00:11, 3132.87it/s]\u001b[A\n",
            " 53%|█████▎    | 38988/74067 [00:12<00:11, 3185.64it/s]\u001b[A\n",
            " 53%|█████▎    | 39328/74067 [00:12<00:10, 3245.44it/s]\u001b[A\n",
            " 54%|█████▎    | 39655/74067 [00:12<00:10, 3246.56it/s]\u001b[A\n",
            " 54%|█████▍    | 39994/74067 [00:12<00:10, 3287.45it/s]\u001b[A\n",
            " 54%|█████▍    | 40324/74067 [00:12<00:10, 3257.92it/s]\u001b[A\n",
            " 55%|█████▍    | 40658/74067 [00:12<00:10, 3281.22it/s]\u001b[A\n",
            " 55%|█████▌    | 40987/74067 [00:12<00:10, 3216.41it/s]\u001b[A\n",
            " 56%|█████▌    | 41311/74067 [00:12<00:10, 3221.55it/s]\u001b[A\n",
            " 56%|█████▌    | 41634/74067 [00:12<00:10, 3209.61it/s]\u001b[A\n",
            " 57%|█████▋    | 41956/74067 [00:13<00:10, 3209.70it/s]\u001b[A\n",
            " 57%|█████▋    | 42278/74067 [00:13<00:09, 3204.08it/s]\u001b[A\n",
            " 58%|█████▊    | 42604/74067 [00:13<00:09, 3219.88it/s]\u001b[A\n",
            " 58%|█████▊    | 42927/74067 [00:13<00:09, 3134.04it/s]\u001b[A\n",
            " 58%|█████▊    | 43258/74067 [00:13<00:09, 3184.58it/s]\u001b[A\n",
            " 59%|█████▉    | 43593/74067 [00:13<00:09, 3231.96it/s]\u001b[A\n",
            " 59%|█████▉    | 43921/74067 [00:13<00:09, 3245.53it/s]\u001b[A\n",
            " 60%|█████▉    | 44246/74067 [00:13<00:09, 3166.46it/s]\u001b[A\n",
            " 60%|██████    | 44568/74067 [00:13<00:09, 3179.80it/s]\u001b[A\n",
            " 61%|██████    | 44887/74067 [00:13<00:09, 3175.84it/s]\u001b[A\n",
            " 61%|██████    | 45218/74067 [00:14<00:08, 3214.34it/s]\u001b[A\n",
            " 61%|██████▏   | 45550/74067 [00:14<00:08, 3244.95it/s]\u001b[A\n",
            " 62%|██████▏   | 45875/74067 [00:14<00:08, 3208.30it/s]\u001b[A\n",
            " 62%|██████▏   | 46205/74067 [00:14<00:08, 3234.84it/s]\u001b[A\n",
            " 63%|██████▎   | 46534/74067 [00:14<00:08, 3250.50it/s]\u001b[A\n",
            " 63%|██████▎   | 46869/74067 [00:14<00:08, 3277.57it/s]\u001b[A\n",
            " 64%|██████▎   | 47197/74067 [00:14<00:08, 3047.98it/s]\u001b[A\n",
            " 64%|██████▍   | 47506/74067 [00:14<00:08, 3010.32it/s]\u001b[A\n",
            " 65%|██████▍   | 47832/74067 [00:14<00:08, 3080.22it/s]\u001b[A\n",
            " 65%|██████▌   | 48169/74067 [00:14<00:08, 3160.70it/s]\u001b[A\n",
            " 65%|██████▌   | 48488/74067 [00:15<00:08, 3155.48it/s]\u001b[A\n",
            " 66%|██████▌   | 48821/74067 [00:15<00:07, 3204.08it/s]\u001b[A\n",
            " 66%|██████▋   | 49163/74067 [00:15<00:07, 3264.97it/s]\u001b[A\n",
            " 67%|██████▋   | 49491/74067 [00:15<00:07, 3258.79it/s]\u001b[A\n",
            " 67%|██████▋   | 49831/74067 [00:15<00:07, 3298.40it/s]\u001b[A\n",
            " 68%|██████▊   | 50175/74067 [00:15<00:07, 3338.61it/s]\u001b[A\n",
            " 68%|██████▊   | 50510/74067 [00:15<00:07, 3235.94it/s]\u001b[A\n",
            " 69%|██████▊   | 50835/74067 [00:15<00:07, 3180.54it/s]\u001b[A\n",
            " 69%|██████▉   | 51155/74067 [00:15<00:07, 3138.85it/s]\u001b[A\n",
            " 70%|██████▉   | 51482/74067 [00:16<00:07, 3176.29it/s]\u001b[A\n",
            " 70%|██████▉   | 51801/74067 [00:16<00:07, 3089.25it/s]\u001b[A\n",
            " 70%|███████   | 52127/74067 [00:16<00:06, 3136.89it/s]\u001b[A\n",
            " 71%|███████   | 52476/74067 [00:16<00:06, 3234.59it/s]\u001b[A\n",
            " 71%|███████▏  | 52810/74067 [00:16<00:06, 3263.98it/s]\u001b[A\n",
            " 72%|███████▏  | 53138/74067 [00:16<00:06, 3249.37it/s]\u001b[A\n",
            " 72%|███████▏  | 53469/74067 [00:16<00:06, 3267.18it/s]\u001b[A\n",
            " 73%|███████▎  | 53802/74067 [00:16<00:06, 3284.92it/s]\u001b[A\n",
            " 73%|███████▎  | 54131/74067 [00:16<00:06, 3146.99it/s]\u001b[A\n",
            " 74%|███████▎  | 54448/74067 [00:16<00:06, 3028.19it/s]\u001b[A\n",
            " 74%|███████▍  | 54753/74067 [00:17<00:06, 2948.73it/s]\u001b[A\n",
            " 74%|███████▍  | 55052/74067 [00:17<00:06, 2959.43it/s]\u001b[A\n",
            " 75%|███████▍  | 55352/74067 [00:17<00:06, 2970.26it/s]\u001b[A\n",
            " 75%|███████▌  | 55650/74067 [00:17<00:06, 2956.07it/s]\u001b[A\n",
            " 76%|███████▌  | 55947/74067 [00:17<00:09, 1915.09it/s]\u001b[A\n",
            " 76%|███████▌  | 56237/74067 [00:17<00:08, 2131.54it/s]\u001b[A\n",
            " 76%|███████▋  | 56523/74067 [00:17<00:07, 2306.64it/s]\u001b[A\n",
            " 77%|███████▋  | 56832/74067 [00:17<00:06, 2496.40it/s]\u001b[A\n",
            " 77%|███████▋  | 57143/74067 [00:18<00:06, 2653.42it/s]\u001b[A\n",
            " 78%|███████▊  | 57442/74067 [00:18<00:06, 2744.71it/s]\u001b[A\n",
            " 78%|███████▊  | 57740/74067 [00:18<00:05, 2810.95it/s]\u001b[A\n",
            " 78%|███████▊  | 58033/74067 [00:18<00:05, 2802.28it/s]\u001b[A\n",
            " 79%|███████▉  | 58345/74067 [00:18<00:05, 2887.85it/s]\u001b[A\n",
            " 79%|███████▉  | 58654/74067 [00:18<00:05, 2945.14it/s]\u001b[A\n",
            " 80%|███████▉  | 58962/74067 [00:18<00:05, 2983.02it/s]\u001b[A\n",
            " 80%|████████  | 59264/74067 [00:18<00:04, 2972.41it/s]\u001b[A\n",
            " 80%|████████  | 59564/74067 [00:18<00:04, 2916.05it/s]\u001b[A\n",
            " 81%|████████  | 59862/74067 [00:18<00:04, 2934.05it/s]\u001b[A\n",
            " 81%|████████  | 60160/74067 [00:19<00:04, 2945.14it/s]\u001b[A\n",
            " 82%|████████▏ | 60456/74067 [00:19<00:04, 2853.59it/s]\u001b[A\n",
            " 82%|████████▏ | 60743/74067 [00:19<00:04, 2796.17it/s]\u001b[A\n",
            " 82%|████████▏ | 61050/74067 [00:19<00:04, 2871.05it/s]\u001b[A\n",
            " 83%|████████▎ | 61358/74067 [00:19<00:04, 2929.16it/s]\u001b[A\n",
            " 83%|████████▎ | 61660/74067 [00:19<00:04, 2955.76it/s]\u001b[A\n",
            " 84%|████████▎ | 61975/74067 [00:19<00:04, 3008.96it/s]\u001b[A\n",
            " 84%|████████▍ | 62278/74067 [00:19<00:03, 3014.43it/s]\u001b[A\n",
            " 84%|████████▍ | 62581/74067 [00:19<00:03, 2879.05it/s]\u001b[A\n",
            " 85%|████████▍ | 62871/74067 [00:19<00:03, 2876.05it/s]\u001b[A\n",
            " 85%|████████▌ | 63175/74067 [00:20<00:03, 2921.92it/s]\u001b[A\n",
            " 86%|████████▌ | 63477/74067 [00:20<00:03, 2949.70it/s]\u001b[A\n",
            " 86%|████████▌ | 63773/74067 [00:20<00:03, 2933.55it/s]\u001b[A\n",
            " 87%|████████▋ | 64072/74067 [00:20<00:03, 2946.89it/s]\u001b[A\n",
            " 87%|████████▋ | 64368/74067 [00:20<00:03, 2874.73it/s]\u001b[A\n",
            " 87%|████████▋ | 64672/74067 [00:20<00:03, 2921.36it/s]\u001b[A\n",
            " 88%|████████▊ | 64978/74067 [00:20<00:03, 2959.75it/s]\u001b[A\n",
            " 88%|████████▊ | 65275/74067 [00:20<00:03, 2819.92it/s]\u001b[A\n",
            " 89%|████████▊ | 65570/74067 [00:20<00:02, 2856.58it/s]\u001b[A\n",
            " 89%|████████▉ | 65873/74067 [00:21<00:02, 2905.95it/s]\u001b[A\n",
            " 89%|████████▉ | 66165/74067 [00:21<00:02, 2895.67it/s]\u001b[A\n",
            " 90%|████████▉ | 66456/74067 [00:21<00:02, 2794.49it/s]\u001b[A\n",
            " 90%|█████████ | 66738/74067 [00:21<00:02, 2800.81it/s]\u001b[A\n",
            " 91%|█████████ | 67045/74067 [00:21<00:02, 2875.22it/s]\u001b[A\n",
            " 91%|█████████ | 67343/74067 [00:21<00:02, 2903.36it/s]\u001b[A\n",
            " 91%|█████████▏| 67635/74067 [00:21<00:02, 2769.00it/s]\u001b[A\n",
            " 92%|█████████▏| 67920/74067 [00:21<00:02, 2790.78it/s]\u001b[A\n",
            " 92%|█████████▏| 68201/74067 [00:21<00:02, 2773.08it/s]\u001b[A\n",
            " 92%|█████████▏| 68510/74067 [00:21<00:01, 2859.66it/s]\u001b[A\n",
            " 93%|█████████▎| 68798/74067 [00:22<00:01, 2815.99it/s]\u001b[A\n",
            " 93%|█████████▎| 69081/74067 [00:22<00:01, 2778.57it/s]\u001b[A\n",
            " 94%|█████████▎| 69376/74067 [00:22<00:01, 2826.50it/s]\u001b[A\n",
            " 94%|█████████▍| 69677/74067 [00:22<00:01, 2878.97it/s]\u001b[A\n",
            " 94%|█████████▍| 69981/74067 [00:22<00:01, 2922.68it/s]\u001b[A\n",
            " 95%|█████████▍| 70279/74067 [00:22<00:01, 2939.19it/s]\u001b[A\n",
            " 95%|█████████▌| 70574/74067 [00:22<00:01, 2938.74it/s]\u001b[A\n",
            " 96%|█████████▌| 70869/74067 [00:22<00:01, 2923.00it/s]\u001b[A\n",
            " 96%|█████████▌| 71162/74067 [00:22<00:01, 2870.21it/s]\u001b[A\n",
            " 96%|█████████▋| 71450/74067 [00:22<00:00, 2712.77it/s]\u001b[A\n",
            " 97%|█████████▋| 71724/74067 [00:23<00:00, 2715.76it/s]\u001b[A\n",
            " 97%|█████████▋| 72019/74067 [00:23<00:00, 2780.40it/s]\u001b[A\n",
            " 98%|█████████▊| 72322/74067 [00:23<00:00, 2850.68it/s]\u001b[A\n",
            " 98%|█████████▊| 72609/74067 [00:23<00:00, 2845.69it/s]\u001b[A\n",
            " 98%|█████████▊| 72907/74067 [00:23<00:00, 2883.66it/s]\u001b[A\n",
            " 99%|█████████▉| 73207/74067 [00:23<00:00, 2913.32it/s]\u001b[A\n",
            " 99%|█████████▉| 73514/74067 [00:23<00:00, 2957.33it/s]\u001b[A\n",
            "100%|██████████| 74067/74067 [00:23<00:00, 3097.35it/s]\n"
          ],
          "name": "stderr"
        }
      ]
    },
    {
      "cell_type": "code",
      "metadata": {
        "colab": {
          "base_uri": "https://localhost:8080/"
        },
        "id": "tlqKW3Pqjosz",
        "outputId": "4261413f-96b7-4837-a365-c9025d7d9966"
      },
      "source": [
        "\n",
        "test_df['product_title_tokens'] = test_df['product_title'].progress_apply(lambda text: tokenize(text, MAX_TITLE_LENGTH))\n"
      ],
      "execution_count": 36,
      "outputs": [
        {
          "output_type": "stream",
          "text": [
            "\n",
            "  0%|          | 0/166693 [00:00<?, ?it/s]\u001b[A\n",
            "  0%|          | 177/166693 [00:00<01:34, 1762.48it/s]\u001b[A\n",
            "  0%|          | 333/166693 [00:00<01:38, 1693.72it/s]\u001b[A\n",
            "  0%|          | 494/166693 [00:00<01:39, 1666.94it/s]\u001b[A\n",
            "  0%|          | 674/166693 [00:00<01:37, 1703.65it/s]\u001b[A\n",
            "  1%|          | 850/166693 [00:00<01:36, 1720.17it/s]\u001b[A\n",
            "  1%|          | 1031/166693 [00:00<01:34, 1745.18it/s]\u001b[A\n",
            "  1%|          | 1189/166693 [00:00<01:37, 1691.81it/s]\u001b[A\n",
            "  1%|          | 1354/166693 [00:00<01:38, 1678.29it/s]\u001b[A\n",
            "  1%|          | 1534/166693 [00:00<01:36, 1710.13it/s]\u001b[A\n",
            "  1%|          | 1699/166693 [00:01<01:40, 1638.01it/s]\u001b[A\n",
            "  1%|          | 1859/166693 [00:01<01:42, 1603.38it/s]\u001b[A\n",
            "  1%|          | 2017/166693 [00:01<01:45, 1561.85it/s]\u001b[A\n",
            "  1%|▏         | 2189/166693 [00:01<01:42, 1602.27it/s]\u001b[A\n",
            "  1%|▏         | 2372/166693 [00:01<01:38, 1662.58it/s]\u001b[A\n",
            "  2%|▏         | 2547/166693 [00:01<01:37, 1687.28it/s]\u001b[A\n",
            "  2%|▏         | 2716/166693 [00:01<01:39, 1650.47it/s]\u001b[A\n",
            "  2%|▏         | 2882/166693 [00:01<01:39, 1640.81it/s]\u001b[A\n",
            "  2%|▏         | 3058/166693 [00:01<01:37, 1674.83it/s]\u001b[A\n",
            "  2%|▏         | 3226/166693 [00:01<01:38, 1663.41it/s]\u001b[A\n",
            "  2%|▏         | 3393/166693 [00:02<01:40, 1629.26it/s]\u001b[A\n",
            "  2%|▏         | 3557/166693 [00:02<01:43, 1580.53it/s]\u001b[A\n",
            "  2%|▏         | 3724/166693 [00:02<01:41, 1605.68it/s]\u001b[A\n",
            "  2%|▏         | 3903/166693 [00:02<01:38, 1656.55it/s]\u001b[A\n",
            "  2%|▏         | 4070/166693 [00:02<01:38, 1658.73it/s]\u001b[A\n",
            "  3%|▎         | 4254/166693 [00:02<01:35, 1708.98it/s]\u001b[A\n",
            "  3%|▎         | 4426/166693 [00:02<01:37, 1659.81it/s]\u001b[A\n",
            "  3%|▎         | 4593/166693 [00:02<01:38, 1652.15it/s]\u001b[A\n",
            "  3%|▎         | 4760/166693 [00:02<01:37, 1657.38it/s]\u001b[A\n",
            "  3%|▎         | 4927/166693 [00:02<01:40, 1602.15it/s]\u001b[A\n",
            "  3%|▎         | 5092/166693 [00:03<01:40, 1615.23it/s]\u001b[A\n",
            "  3%|▎         | 5273/166693 [00:03<01:37, 1663.66it/s]\u001b[A\n",
            "  3%|▎         | 5441/166693 [00:03<01:41, 1583.64it/s]\u001b[A\n",
            "  3%|▎         | 5637/166693 [00:03<01:35, 1679.21it/s]\u001b[A\n",
            "  3%|▎         | 5820/166693 [00:03<01:33, 1720.54it/s]\u001b[A\n",
            "  4%|▎         | 5995/166693 [00:03<01:35, 1679.79it/s]\u001b[A\n",
            "  4%|▎         | 6179/166693 [00:03<01:33, 1723.49it/s]\u001b[A\n",
            "  4%|▍         | 6363/166693 [00:03<01:31, 1754.79it/s]\u001b[A\n",
            "  4%|▍         | 6540/166693 [00:03<01:39, 1613.51it/s]\u001b[A\n",
            "  4%|▍         | 6705/166693 [00:04<01:38, 1618.99it/s]\u001b[A\n",
            "  4%|▍         | 6887/166693 [00:04<01:35, 1672.98it/s]\u001b[A\n",
            "  4%|▍         | 7070/166693 [00:04<01:33, 1715.25it/s]\u001b[A\n",
            "  4%|▍         | 7244/166693 [00:04<01:33, 1711.91it/s]\u001b[A\n",
            "  4%|▍         | 7417/166693 [00:04<01:33, 1701.82it/s]\u001b[A\n",
            "  5%|▍         | 7588/166693 [00:04<01:34, 1691.88it/s]\u001b[A\n",
            "  5%|▍         | 7767/166693 [00:04<01:32, 1718.10it/s]\u001b[A\n",
            "  5%|▍         | 7940/166693 [00:04<01:33, 1696.14it/s]\u001b[A\n",
            "  5%|▍         | 8115/166693 [00:04<01:32, 1709.88it/s]\u001b[A\n",
            "  5%|▍         | 8287/166693 [00:04<01:34, 1679.58it/s]\u001b[A\n",
            "  5%|▌         | 8456/166693 [00:05<01:37, 1623.03it/s]\u001b[A\n",
            "  5%|▌         | 8619/166693 [00:05<01:40, 1574.18it/s]\u001b[A\n",
            "  5%|▌         | 8798/166693 [00:05<01:36, 1632.30it/s]\u001b[A\n",
            "  5%|▌         | 8973/166693 [00:05<01:34, 1665.34it/s]\u001b[A\n",
            "  5%|▌         | 9141/166693 [00:05<01:36, 1629.51it/s]\u001b[A\n",
            "  6%|▌         | 9305/166693 [00:05<01:40, 1559.80it/s]\u001b[A\n",
            "  6%|▌         | 9463/166693 [00:05<01:44, 1505.77it/s]\u001b[A\n",
            "  6%|▌         | 9640/166693 [00:05<01:39, 1575.15it/s]\u001b[A\n",
            "  6%|▌         | 9800/166693 [00:05<01:43, 1509.83it/s]\u001b[A\n",
            "  6%|▌         | 9957/166693 [00:06<01:42, 1527.02it/s]\u001b[A\n",
            "  6%|▌         | 10112/166693 [00:06<01:42, 1533.64it/s]\u001b[A\n",
            "  6%|▌         | 10274/166693 [00:06<01:40, 1557.26it/s]\u001b[A\n",
            "  6%|▋         | 10458/166693 [00:06<01:35, 1630.73it/s]\u001b[A\n",
            "  6%|▋         | 10638/166693 [00:06<01:33, 1677.52it/s]\u001b[A\n",
            "  6%|▋         | 10819/166693 [00:06<01:30, 1714.50it/s]\u001b[A\n",
            "  7%|▋         | 10992/166693 [00:06<01:32, 1688.65it/s]\u001b[A\n",
            "  7%|▋         | 11162/166693 [00:06<01:33, 1669.44it/s]\u001b[A\n",
            "  7%|▋         | 11330/166693 [00:06<01:34, 1648.08it/s]\u001b[A\n",
            "  7%|▋         | 11496/166693 [00:06<01:37, 1587.29it/s]\u001b[A\n",
            "  7%|▋         | 11656/166693 [00:07<01:37, 1587.20it/s]\u001b[A\n",
            "  7%|▋         | 11816/166693 [00:07<01:37, 1580.79it/s]\u001b[A\n",
            "  7%|▋         | 11986/166693 [00:07<01:35, 1613.79it/s]\u001b[A\n",
            "  7%|▋         | 12148/166693 [00:07<01:38, 1573.33it/s]\u001b[A\n",
            "  7%|▋         | 12317/166693 [00:07<01:36, 1606.35it/s]\u001b[A\n",
            "  7%|▋         | 12500/166693 [00:07<01:32, 1666.59it/s]\u001b[A\n",
            "  8%|▊         | 12668/166693 [00:07<01:32, 1663.38it/s]\u001b[A\n",
            "  8%|▊         | 12844/166693 [00:07<01:31, 1688.98it/s]\u001b[A\n",
            "  8%|▊         | 13019/166693 [00:07<01:30, 1704.34it/s]\u001b[A\n",
            "  8%|▊         | 13190/166693 [00:07<01:31, 1680.88it/s]\u001b[A\n",
            "  8%|▊         | 13359/166693 [00:08<01:34, 1618.53it/s]\u001b[A\n",
            "  8%|▊         | 13527/166693 [00:08<01:33, 1635.44it/s]\u001b[A\n",
            "  8%|▊         | 13694/166693 [00:08<01:33, 1643.72it/s]\u001b[A\n",
            "  8%|▊         | 13871/166693 [00:08<01:31, 1671.00it/s]\u001b[A\n",
            "  8%|▊         | 14041/166693 [00:08<01:30, 1678.06it/s]\u001b[A\n",
            "  9%|▊         | 14217/166693 [00:08<01:29, 1699.46it/s]\u001b[A\n",
            "  9%|▊         | 14388/166693 [00:08<01:29, 1699.67it/s]\u001b[A\n",
            "  9%|▊         | 14559/166693 [00:08<01:30, 1678.51it/s]\u001b[A\n",
            "  9%|▉         | 14728/166693 [00:08<01:32, 1638.83it/s]\u001b[A\n",
            "  9%|▉         | 14893/166693 [00:09<01:32, 1638.48it/s]\u001b[A\n",
            "  9%|▉         | 15058/166693 [00:09<01:35, 1583.57it/s]\u001b[A\n",
            "  9%|▉         | 15217/166693 [00:09<01:36, 1564.83it/s]\u001b[A\n",
            "  9%|▉         | 15393/166693 [00:09<01:33, 1617.98it/s]\u001b[A\n",
            "  9%|▉         | 15562/166693 [00:09<01:32, 1637.00it/s]\u001b[A\n",
            "  9%|▉         | 15727/166693 [00:09<01:32, 1632.90it/s]\u001b[A\n",
            " 10%|▉         | 15891/166693 [00:09<01:32, 1623.33it/s]\u001b[A\n",
            " 10%|▉         | 16063/166693 [00:09<01:31, 1650.32it/s]\u001b[A\n",
            " 10%|▉         | 16236/166693 [00:09<01:29, 1673.11it/s]\u001b[A\n",
            " 10%|▉         | 16404/166693 [00:09<01:33, 1613.68it/s]\u001b[A\n",
            " 10%|▉         | 16569/166693 [00:10<01:32, 1622.22it/s]\u001b[A\n",
            " 10%|█         | 16732/166693 [00:10<01:35, 1569.57it/s]\u001b[A\n",
            " 10%|█         | 16890/166693 [00:10<01:35, 1565.30it/s]\u001b[A\n",
            " 10%|█         | 17048/166693 [00:10<01:36, 1555.14it/s]\u001b[A\n",
            " 10%|█         | 17211/166693 [00:10<01:34, 1575.87it/s]\u001b[A\n",
            " 10%|█         | 17383/166693 [00:10<01:32, 1615.02it/s]\u001b[A\n",
            " 11%|█         | 17558/166693 [00:10<01:30, 1651.38it/s]\u001b[A\n",
            " 11%|█         | 17724/166693 [00:10<01:31, 1631.14it/s]\u001b[A\n",
            " 11%|█         | 17889/166693 [00:10<01:31, 1632.40it/s]\u001b[A\n",
            " 11%|█         | 18058/166693 [00:10<01:30, 1647.77it/s]\u001b[A\n",
            " 11%|█         | 18238/166693 [00:11<01:27, 1689.40it/s]\u001b[A\n",
            " 11%|█         | 18408/166693 [00:11<01:33, 1589.88it/s]\u001b[A\n",
            " 11%|█         | 18569/166693 [00:11<01:33, 1583.20it/s]\u001b[A\n",
            " 11%|█         | 18752/166693 [00:11<01:29, 1649.19it/s]\u001b[A\n",
            " 11%|█▏        | 18919/166693 [00:11<01:29, 1652.20it/s]\u001b[A\n",
            " 11%|█▏        | 19086/166693 [00:11<01:29, 1645.73it/s]\u001b[A\n",
            " 12%|█▏        | 19269/166693 [00:11<01:26, 1694.88it/s]\u001b[A\n",
            " 12%|█▏        | 19440/166693 [00:11<01:28, 1664.70it/s]\u001b[A\n",
            " 12%|█▏        | 19608/166693 [00:11<01:28, 1657.05it/s]\u001b[A\n",
            " 12%|█▏        | 19775/166693 [00:12<01:28, 1652.35it/s]\u001b[A\n",
            " 12%|█▏        | 19941/166693 [00:12<01:30, 1615.43it/s]\u001b[A\n",
            " 12%|█▏        | 20107/166693 [00:12<01:30, 1625.65it/s]\u001b[A\n",
            " 12%|█▏        | 20279/166693 [00:12<01:28, 1651.58it/s]\u001b[A\n",
            " 12%|█▏        | 20445/166693 [00:12<01:30, 1620.67it/s]\u001b[A\n",
            " 12%|█▏        | 20608/166693 [00:12<01:31, 1597.97it/s]\u001b[A\n",
            " 12%|█▏        | 20770/166693 [00:12<01:31, 1602.11it/s]\u001b[A\n",
            " 13%|█▎        | 20933/166693 [00:12<01:30, 1610.20it/s]\u001b[A\n",
            " 13%|█▎        | 21095/166693 [00:12<01:32, 1568.53it/s]\u001b[A\n",
            " 13%|█▎        | 21267/166693 [00:12<01:30, 1609.49it/s]\u001b[A\n",
            " 13%|█▎        | 21429/166693 [00:13<01:32, 1574.00it/s]\u001b[A\n",
            " 13%|█▎        | 21587/166693 [00:13<01:35, 1515.14it/s]\u001b[A\n",
            " 13%|█▎        | 21764/166693 [00:13<01:31, 1582.00it/s]\u001b[A\n",
            " 13%|█▎        | 21936/166693 [00:13<01:29, 1611.82it/s]\u001b[A\n",
            " 13%|█▎        | 22099/166693 [00:13<01:29, 1616.65it/s]\u001b[A\n",
            " 13%|█▎        | 22266/166693 [00:13<01:28, 1631.15it/s]\u001b[A\n",
            " 13%|█▎        | 22433/166693 [00:13<01:27, 1641.48it/s]\u001b[A\n",
            " 14%|█▎        | 22598/166693 [00:13<01:28, 1630.92it/s]\u001b[A\n",
            " 14%|█▎        | 22762/166693 [00:13<01:29, 1604.88it/s]\u001b[A\n",
            " 14%|█▍        | 22938/166693 [00:13<01:27, 1648.28it/s]\u001b[A\n",
            " 14%|█▍        | 23105/166693 [00:14<01:26, 1653.79it/s]\u001b[A\n",
            " 14%|█▍        | 23271/166693 [00:14<01:31, 1567.83it/s]\u001b[A\n",
            " 14%|█▍        | 23434/166693 [00:14<01:30, 1584.25it/s]\u001b[A\n",
            " 14%|█▍        | 23594/166693 [00:14<01:30, 1575.83it/s]\u001b[A\n",
            " 14%|█▍        | 23762/166693 [00:14<01:29, 1605.06it/s]\u001b[A\n",
            " 14%|█▍        | 23927/166693 [00:14<01:28, 1616.91it/s]\u001b[A\n",
            " 14%|█▍        | 24106/166693 [00:14<01:25, 1665.00it/s]\u001b[A\n",
            " 15%|█▍        | 24276/166693 [00:14<01:25, 1673.01it/s]\u001b[A\n",
            " 15%|█▍        | 24450/166693 [00:14<01:24, 1680.18it/s]\u001b[A\n",
            " 15%|█▍        | 24619/166693 [00:15<01:25, 1662.20it/s]\u001b[A\n",
            " 15%|█▍        | 24786/166693 [00:15<01:26, 1650.05it/s]\u001b[A\n",
            " 15%|█▍        | 24952/166693 [00:15<01:28, 1604.52it/s]\u001b[A\n",
            " 15%|█▌        | 25117/166693 [00:15<01:27, 1617.44it/s]\u001b[A\n",
            " 15%|█▌        | 25280/166693 [00:15<01:27, 1615.06it/s]\u001b[A\n",
            " 15%|█▌        | 25442/166693 [00:15<01:30, 1566.51it/s]\u001b[A\n",
            " 15%|█▌        | 25600/166693 [00:15<01:29, 1570.37it/s]\u001b[A\n",
            " 15%|█▌        | 25767/166693 [00:15<01:28, 1598.99it/s]\u001b[A\n",
            " 16%|█▌        | 25935/166693 [00:15<01:26, 1620.99it/s]\u001b[A\n",
            " 16%|█▌        | 26098/166693 [00:15<01:28, 1586.50it/s]\u001b[A\n",
            " 16%|█▌        | 26258/166693 [00:16<01:32, 1514.86it/s]\u001b[A\n",
            " 16%|█▌        | 26415/166693 [00:16<01:31, 1530.62it/s]\u001b[A\n",
            " 16%|█▌        | 26569/166693 [00:16<01:31, 1530.46it/s]\u001b[A\n",
            " 16%|█▌        | 26731/166693 [00:16<01:30, 1554.81it/s]\u001b[A\n",
            " 16%|█▌        | 26905/166693 [00:16<01:27, 1604.59it/s]\u001b[A\n",
            " 16%|█▌        | 27068/166693 [00:16<01:26, 1611.09it/s]\u001b[A\n",
            " 16%|█▋        | 27234/166693 [00:16<01:25, 1623.79it/s]\u001b[A\n",
            " 16%|█▋        | 27397/166693 [00:16<01:28, 1567.26it/s]\u001b[A\n",
            " 17%|█▋        | 27555/166693 [00:16<01:29, 1558.90it/s]\u001b[A\n",
            " 17%|█▋        | 27718/166693 [00:16<01:28, 1577.92it/s]\u001b[A\n",
            " 17%|█▋        | 27886/166693 [00:17<01:26, 1606.98it/s]\u001b[A\n",
            " 17%|█▋        | 28048/166693 [00:17<01:26, 1600.91it/s]\u001b[A\n",
            " 17%|█▋        | 28209/166693 [00:17<01:29, 1550.70it/s]\u001b[A\n",
            " 17%|█▋        | 28378/166693 [00:17<01:27, 1588.74it/s]\u001b[A\n",
            " 17%|█▋        | 28548/166693 [00:17<01:25, 1620.11it/s]\u001b[A\n",
            " 17%|█▋        | 28718/166693 [00:17<01:24, 1641.70it/s]\u001b[A\n",
            " 17%|█▋        | 28883/166693 [00:17<01:24, 1633.28it/s]\u001b[A\n",
            " 17%|█▋        | 29051/166693 [00:17<01:23, 1643.89it/s]\u001b[A\n",
            " 18%|█▊        | 29225/166693 [00:17<01:22, 1669.23it/s]\u001b[A\n",
            " 18%|█▊        | 29393/166693 [00:18<01:23, 1642.03it/s]\u001b[A\n",
            " 18%|█▊        | 29558/166693 [00:18<01:27, 1571.49it/s]\u001b[A\n",
            " 18%|█▊        | 29716/166693 [00:18<01:27, 1572.56it/s]\u001b[A\n",
            " 18%|█▊        | 29880/166693 [00:18<01:25, 1591.95it/s]\u001b[A\n",
            " 18%|█▊        | 30043/166693 [00:18<01:25, 1601.20it/s]\u001b[A\n",
            " 18%|█▊        | 30220/166693 [00:18<01:22, 1645.89it/s]\u001b[A\n",
            " 18%|█▊        | 30390/166693 [00:18<01:22, 1659.55it/s]\u001b[A\n",
            " 18%|█▊        | 30557/166693 [00:18<01:22, 1654.40it/s]\u001b[A\n",
            " 18%|█▊        | 30723/166693 [00:18<01:22, 1644.85it/s]\u001b[A\n",
            " 19%|█▊        | 30888/166693 [00:18<01:22, 1638.10it/s]\u001b[A\n",
            " 19%|█▊        | 31052/166693 [00:19<01:23, 1627.53it/s]\u001b[A\n",
            " 19%|█▊        | 31215/166693 [00:19<01:24, 1594.07it/s]\u001b[A\n",
            " 19%|█▉        | 31375/166693 [00:19<01:26, 1563.84it/s]\u001b[A\n",
            " 19%|█▉        | 31532/166693 [00:19<01:26, 1558.80it/s]\u001b[A\n",
            " 19%|█▉        | 31700/166693 [00:19<01:24, 1591.24it/s]\u001b[A\n",
            " 19%|█▉        | 31866/166693 [00:19<01:23, 1610.77it/s]\u001b[A\n",
            " 19%|█▉        | 32033/166693 [00:19<01:22, 1626.86it/s]\u001b[A\n",
            " 19%|█▉        | 32200/166693 [00:19<01:22, 1638.34it/s]\u001b[A\n",
            " 19%|█▉        | 32366/166693 [00:19<01:21, 1644.58it/s]\u001b[A\n",
            " 20%|█▉        | 32537/166693 [00:19<01:20, 1662.99it/s]\u001b[A\n",
            " 20%|█▉        | 32704/166693 [00:20<01:21, 1648.05it/s]\u001b[A\n",
            " 20%|█▉        | 32872/166693 [00:20<01:20, 1655.31it/s]\u001b[A\n",
            " 20%|█▉        | 33038/166693 [00:20<01:23, 1591.85it/s]\u001b[A\n",
            " 20%|█▉        | 33200/166693 [00:20<01:23, 1599.09it/s]\u001b[A\n",
            " 20%|██        | 33361/166693 [00:20<01:24, 1587.19it/s]\u001b[A\n",
            " 20%|██        | 33529/166693 [00:20<01:22, 1612.73it/s]\u001b[A\n",
            " 20%|██        | 33692/166693 [00:20<01:22, 1617.56it/s]\u001b[A\n",
            " 20%|██        | 33854/166693 [00:20<01:24, 1567.09it/s]\u001b[A\n",
            " 20%|██        | 34012/166693 [00:20<01:24, 1564.22it/s]\u001b[A\n",
            " 21%|██        | 34179/166693 [00:20<01:23, 1593.98it/s]\u001b[A\n",
            " 21%|██        | 34349/166693 [00:21<01:21, 1624.31it/s]\u001b[A\n",
            " 21%|██        | 34512/166693 [00:21<01:21, 1625.74it/s]\u001b[A\n",
            " 21%|██        | 34675/166693 [00:21<01:24, 1559.69it/s]\u001b[A\n",
            " 21%|██        | 34842/166693 [00:21<01:22, 1590.56it/s]\u001b[A\n",
            " 21%|██        | 35017/166693 [00:21<01:20, 1635.16it/s]\u001b[A\n",
            " 21%|██        | 35182/166693 [00:21<01:21, 1613.97it/s]\u001b[A\n",
            " 21%|██        | 35346/166693 [00:21<01:21, 1620.65it/s]\u001b[A\n",
            " 21%|██▏       | 35509/166693 [00:21<01:20, 1620.32it/s]\u001b[A\n",
            " 21%|██▏       | 35672/166693 [00:21<01:21, 1614.51it/s]\u001b[A\n",
            " 21%|██▏       | 35838/166693 [00:22<01:20, 1625.41it/s]\u001b[A\n",
            " 22%|██▏       | 36009/166693 [00:22<01:19, 1648.87it/s]\u001b[A\n",
            " 22%|██▏       | 36175/166693 [00:22<01:19, 1632.28it/s]\u001b[A\n",
            " 22%|██▏       | 36339/166693 [00:22<01:25, 1520.95it/s]\u001b[A\n",
            " 22%|██▏       | 36498/166693 [00:22<01:24, 1539.35it/s]\u001b[A\n",
            " 22%|██▏       | 36655/166693 [00:22<01:23, 1548.32it/s]\u001b[A\n",
            " 22%|██▏       | 36818/166693 [00:22<01:22, 1571.82it/s]\u001b[A\n",
            " 22%|██▏       | 36986/166693 [00:22<01:20, 1601.52it/s]\u001b[A\n",
            " 22%|██▏       | 37147/166693 [00:22<01:23, 1559.49it/s]\u001b[A\n",
            " 22%|██▏       | 37304/166693 [00:22<01:22, 1558.96it/s]\u001b[A\n",
            " 22%|██▏       | 37473/166693 [00:23<01:21, 1594.29it/s]\u001b[A\n",
            " 23%|██▎       | 37633/166693 [00:23<01:24, 1526.38it/s]\u001b[A\n",
            " 23%|██▎       | 37792/166693 [00:23<01:23, 1543.95it/s]\u001b[A\n",
            " 23%|██▎       | 37948/166693 [00:23<01:27, 1476.44it/s]\u001b[A\n",
            " 23%|██▎       | 38097/166693 [00:23<01:27, 1477.90it/s]\u001b[A\n",
            " 23%|██▎       | 38264/166693 [00:23<01:23, 1529.41it/s]\u001b[A\n",
            " 23%|██▎       | 38432/166693 [00:23<01:21, 1571.50it/s]\u001b[A\n",
            " 23%|██▎       | 38597/166693 [00:23<01:20, 1593.61it/s]\u001b[A\n",
            " 23%|██▎       | 38772/166693 [00:23<01:18, 1637.35it/s]\u001b[A\n",
            " 23%|██▎       | 38938/166693 [00:23<01:17, 1642.81it/s]\u001b[A\n",
            " 23%|██▎       | 39107/166693 [00:24<01:17, 1655.66it/s]\u001b[A\n",
            " 24%|██▎       | 39274/166693 [00:24<01:18, 1617.88it/s]\u001b[A\n",
            " 24%|██▎       | 39437/166693 [00:24<01:20, 1583.04it/s]\u001b[A\n",
            " 24%|██▍       | 39605/166693 [00:24<01:18, 1610.70it/s]\u001b[A\n",
            " 24%|██▍       | 39778/166693 [00:24<01:17, 1643.20it/s]\u001b[A\n",
            " 24%|██▍       | 39944/166693 [00:24<01:17, 1645.13it/s]\u001b[A\n",
            " 24%|██▍       | 40109/166693 [00:24<01:17, 1632.58it/s]\u001b[A\n",
            " 24%|██▍       | 40273/166693 [00:24<01:17, 1625.04it/s]\u001b[A\n",
            " 24%|██▍       | 40445/166693 [00:24<01:16, 1652.01it/s]\u001b[A\n",
            " 24%|██▍       | 40611/166693 [00:25<01:18, 1611.71it/s]\u001b[A\n",
            " 24%|██▍       | 40773/166693 [00:25<01:18, 1600.47it/s]\u001b[A\n",
            " 25%|██▍       | 40940/166693 [00:25<01:17, 1620.23it/s]\u001b[A\n",
            " 25%|██▍       | 41103/166693 [00:25<01:18, 1595.83it/s]\u001b[A\n",
            " 25%|██▍       | 41263/166693 [00:25<01:21, 1535.00it/s]\u001b[A\n",
            " 25%|██▍       | 41430/166693 [00:25<01:19, 1571.12it/s]\u001b[A\n",
            " 25%|██▍       | 41595/166693 [00:25<01:18, 1593.01it/s]\u001b[A\n",
            " 25%|██▌       | 41755/166693 [00:25<01:18, 1594.93it/s]\u001b[A\n",
            " 25%|██▌       | 41915/166693 [00:25<01:19, 1565.08it/s]\u001b[A\n",
            " 25%|██▌       | 42072/166693 [00:25<01:19, 1560.23it/s]\u001b[A\n",
            " 25%|██▌       | 42240/166693 [00:26<01:18, 1594.18it/s]\u001b[A\n",
            " 25%|██▌       | 42411/166693 [00:26<01:16, 1625.61it/s]\u001b[A\n",
            " 26%|██▌       | 42574/166693 [00:26<01:16, 1614.76it/s]\u001b[A\n",
            " 26%|██▌       | 42736/166693 [00:26<01:17, 1589.50it/s]\u001b[A\n",
            " 26%|██▌       | 42896/166693 [00:26<01:22, 1508.20it/s]\u001b[A\n",
            " 26%|██▌       | 43050/166693 [00:26<01:21, 1517.03it/s]\u001b[A\n",
            " 26%|██▌       | 43209/166693 [00:26<01:20, 1537.82it/s]\u001b[A\n",
            " 26%|██▌       | 43364/166693 [00:26<01:20, 1526.41it/s]\u001b[A\n",
            " 26%|██▌       | 43518/166693 [00:26<01:20, 1526.30it/s]\u001b[A\n",
            " 26%|██▌       | 43682/166693 [00:26<01:19, 1556.40it/s]\u001b[A\n",
            " 26%|██▋       | 43850/166693 [00:27<01:17, 1590.88it/s]\u001b[A\n",
            " 26%|██▋       | 44015/166693 [00:27<01:16, 1607.51it/s]\u001b[A\n",
            " 27%|██▋       | 44188/166693 [00:27<01:14, 1641.19it/s]\u001b[A\n",
            " 27%|██▋       | 44353/166693 [00:27<01:19, 1539.70it/s]\u001b[A\n",
            " 27%|██▋       | 44517/166693 [00:27<01:18, 1566.06it/s]\u001b[A\n",
            " 27%|██▋       | 44675/166693 [00:27<01:19, 1538.05it/s]\u001b[A\n",
            " 27%|██▋       | 44833/166693 [00:27<01:18, 1547.93it/s]\u001b[A\n",
            " 27%|██▋       | 44993/166693 [00:27<01:17, 1562.68it/s]\u001b[A\n",
            " 27%|██▋       | 45163/166693 [00:27<01:15, 1600.40it/s]\u001b[A\n",
            " 27%|██▋       | 45336/166693 [00:28<01:14, 1636.19it/s]\u001b[A\n",
            " 27%|██▋       | 45505/166693 [00:28<01:13, 1650.53it/s]\u001b[A\n",
            " 27%|██▋       | 45671/166693 [00:28<01:15, 1593.64it/s]\u001b[A\n",
            " 27%|██▋       | 45833/166693 [00:28<01:15, 1601.28it/s]\u001b[A\n",
            " 28%|██▊       | 45994/166693 [00:28<01:16, 1568.84it/s]\u001b[A\n",
            " 28%|██▊       | 46163/166693 [00:28<01:15, 1601.92it/s]\u001b[A\n",
            " 28%|██▊       | 46335/166693 [00:28<01:13, 1633.05it/s]\u001b[A\n",
            " 28%|██▊       | 46499/166693 [00:28<01:14, 1618.70it/s]\u001b[A\n",
            " 28%|██▊       | 46662/166693 [00:28<01:16, 1565.95it/s]\u001b[A\n",
            " 28%|██▊       | 46834/166693 [00:28<01:14, 1607.93it/s]\u001b[A\n",
            " 28%|██▊       | 46996/166693 [00:29<01:14, 1603.30it/s]\u001b[A\n",
            " 28%|██▊       | 47160/166693 [00:29<01:14, 1612.70it/s]\u001b[A\n",
            " 28%|██▊       | 47329/166693 [00:29<01:13, 1634.59it/s]\u001b[A\n",
            " 28%|██▊       | 47497/166693 [00:29<01:12, 1647.72it/s]\u001b[A\n",
            " 29%|██▊       | 47663/166693 [00:29<01:14, 1598.92it/s]\u001b[A\n",
            " 29%|██▊       | 47824/166693 [00:29<01:15, 1568.89it/s]\u001b[A\n",
            " 29%|██▉       | 47982/166693 [00:29<01:16, 1552.93it/s]\u001b[A\n",
            " 29%|██▉       | 48147/166693 [00:29<01:15, 1580.20it/s]\u001b[A\n",
            " 29%|██▉       | 48307/166693 [00:29<01:14, 1584.49it/s]\u001b[A\n",
            " 29%|██▉       | 48466/166693 [00:29<01:16, 1553.24it/s]\u001b[A\n",
            " 29%|██▉       | 48630/166693 [00:30<01:14, 1575.40it/s]\u001b[A\n",
            " 29%|██▉       | 48791/166693 [00:30<01:14, 1584.88it/s]\u001b[A\n",
            " 29%|██▉       | 48950/166693 [00:30<01:15, 1569.72it/s]\u001b[A\n",
            " 29%|██▉       | 49108/166693 [00:30<01:15, 1559.12it/s]\u001b[A\n",
            " 30%|██▉       | 49265/166693 [00:30<01:15, 1561.06it/s]\u001b[A\n",
            " 30%|██▉       | 49427/166693 [00:30<01:14, 1577.08it/s]\u001b[A\n",
            " 30%|██▉       | 49585/166693 [00:30<01:15, 1557.25it/s]\u001b[A\n",
            " 30%|██▉       | 49746/166693 [00:30<01:14, 1571.67it/s]\u001b[A\n",
            " 30%|██▉       | 49911/166693 [00:30<01:13, 1592.17it/s]\u001b[A\n",
            " 30%|███       | 50071/166693 [00:31<01:16, 1521.04it/s]\u001b[A\n",
            " 30%|███       | 50229/166693 [00:31<01:15, 1536.44it/s]\u001b[A\n",
            " 30%|███       | 50386/166693 [00:31<01:15, 1546.12it/s]\u001b[A\n",
            " 30%|███       | 50551/166693 [00:31<01:13, 1574.93it/s]\u001b[A\n",
            " 30%|███       | 50720/166693 [00:31<01:12, 1607.35it/s]\u001b[A\n",
            " 31%|███       | 50882/166693 [00:31<01:12, 1593.47it/s]\u001b[A\n",
            " 31%|███       | 51043/166693 [00:31<01:12, 1597.62it/s]\u001b[A\n",
            " 31%|███       | 51204/166693 [00:31<01:14, 1559.40it/s]\u001b[A\n",
            " 31%|███       | 51361/166693 [00:31<01:13, 1559.70it/s]\u001b[A\n",
            " 31%|███       | 51528/166693 [00:31<01:12, 1591.07it/s]\u001b[A\n",
            " 31%|███       | 51688/166693 [00:32<01:12, 1589.01it/s]\u001b[A\n",
            " 31%|███       | 51848/166693 [00:32<01:12, 1577.93it/s]\u001b[A\n",
            " 31%|███       | 52016/166693 [00:32<01:11, 1606.58it/s]\u001b[A\n",
            " 31%|███▏      | 52177/166693 [00:32<01:11, 1593.07it/s]\u001b[A\n",
            " 31%|███▏      | 52353/166693 [00:32<01:09, 1639.05it/s]\u001b[A\n",
            " 32%|███▏      | 52518/166693 [00:32<01:11, 1604.50it/s]\u001b[A\n",
            " 32%|███▏      | 52683/166693 [00:32<01:10, 1617.58it/s]\u001b[A\n",
            " 32%|███▏      | 52868/166693 [00:32<01:07, 1678.94it/s]\u001b[A\n",
            " 32%|███▏      | 53037/166693 [00:32<01:07, 1680.12it/s]\u001b[A\n",
            " 32%|███▏      | 53206/166693 [00:32<01:10, 1616.74it/s]\u001b[A\n",
            " 32%|███▏      | 53389/166693 [00:33<01:07, 1673.52it/s]\u001b[A\n",
            " 32%|███▏      | 53558/166693 [00:33<01:08, 1655.59it/s]\u001b[A\n",
            " 32%|███▏      | 53735/166693 [00:33<01:06, 1688.01it/s]\u001b[A\n",
            " 32%|███▏      | 53905/166693 [00:33<01:07, 1682.29it/s]\u001b[A\n",
            " 32%|███▏      | 54079/166693 [00:33<01:06, 1694.54it/s]\u001b[A\n",
            " 33%|███▎      | 54249/166693 [00:33<01:09, 1620.43it/s]\u001b[A\n",
            " 33%|███▎      | 54413/166693 [00:33<01:11, 1573.70it/s]\u001b[A\n",
            " 33%|███▎      | 54586/166693 [00:33<01:09, 1615.81it/s]\u001b[A\n",
            " 33%|███▎      | 54749/166693 [00:33<01:10, 1591.01it/s]\u001b[A\n",
            " 33%|███▎      | 54916/166693 [00:33<01:09, 1612.94it/s]\u001b[A\n",
            " 33%|███▎      | 55086/166693 [00:34<01:08, 1637.22it/s]\u001b[A\n",
            " 33%|███▎      | 55251/166693 [00:34<01:08, 1626.58it/s]\u001b[A\n",
            " 33%|███▎      | 55415/166693 [00:34<01:09, 1594.86it/s]\u001b[A\n",
            " 33%|███▎      | 55592/166693 [00:34<01:07, 1641.70it/s]\u001b[A\n",
            " 33%|███▎      | 55757/166693 [00:34<01:07, 1636.80it/s]\u001b[A\n",
            " 34%|███▎      | 55932/166693 [00:34<01:06, 1668.63it/s]\u001b[A\n",
            " 34%|███▎      | 56100/166693 [00:34<01:09, 1600.97it/s]\u001b[A\n",
            " 34%|███▍      | 56262/166693 [00:34<01:09, 1595.38it/s]\u001b[A\n",
            " 34%|███▍      | 56426/166693 [00:34<01:08, 1607.86it/s]\u001b[A\n",
            " 34%|███▍      | 56603/166693 [00:35<01:06, 1652.19it/s]\u001b[A\n",
            " 34%|███▍      | 56769/166693 [00:35<01:06, 1640.77it/s]\u001b[A\n",
            " 34%|███▍      | 56935/166693 [00:35<01:06, 1645.10it/s]\u001b[A\n",
            " 34%|███▍      | 57100/166693 [00:35<01:07, 1613.82it/s]\u001b[A\n",
            " 34%|███▍      | 57262/166693 [00:35<01:08, 1600.68it/s]\u001b[A\n",
            " 34%|███▍      | 57423/166693 [00:35<01:10, 1545.11it/s]\u001b[A\n",
            " 35%|███▍      | 57591/166693 [00:35<01:09, 1581.01it/s]\u001b[A\n",
            " 35%|███▍      | 57760/166693 [00:35<01:07, 1610.19it/s]\u001b[A\n",
            " 35%|███▍      | 57922/166693 [00:35<01:07, 1608.08it/s]\u001b[A\n",
            " 35%|███▍      | 58084/166693 [00:35<01:08, 1588.96it/s]\u001b[A\n",
            " 35%|███▍      | 58253/166693 [00:36<01:07, 1616.04it/s]\u001b[A\n",
            " 35%|███▌      | 58415/166693 [00:36<01:07, 1615.23it/s]\u001b[A\n",
            " 35%|███▌      | 58577/166693 [00:36<01:07, 1604.99it/s]\u001b[A\n",
            " 35%|███▌      | 58746/166693 [00:36<01:06, 1628.87it/s]\u001b[A\n",
            " 35%|███▌      | 58910/166693 [00:36<01:07, 1594.89it/s]\u001b[A\n",
            " 35%|███▌      | 59070/166693 [00:36<01:08, 1563.07it/s]\u001b[A\n",
            " 36%|███▌      | 59243/166693 [00:36<01:06, 1609.11it/s]\u001b[A\n",
            " 36%|███▌      | 59405/166693 [00:36<01:07, 1587.24it/s]\u001b[A\n",
            " 36%|███▌      | 59565/166693 [00:36<01:07, 1581.26it/s]\u001b[A\n",
            " 36%|███▌      | 59724/166693 [00:36<01:09, 1530.97it/s]\u001b[A\n",
            " 36%|███▌      | 59878/166693 [00:37<01:10, 1522.38it/s]\u001b[A\n",
            " 36%|███▌      | 60045/166693 [00:37<01:08, 1562.63it/s]\u001b[A\n",
            " 36%|███▌      | 60206/166693 [00:37<01:07, 1574.82it/s]\u001b[A\n",
            " 36%|███▌      | 60365/166693 [00:37<01:07, 1578.56it/s]\u001b[A\n",
            " 36%|███▋      | 60543/166693 [00:37<01:04, 1633.54it/s]\u001b[A\n",
            " 36%|███▋      | 60708/166693 [00:37<01:07, 1581.45it/s]\u001b[A\n",
            " 37%|███▋      | 60871/166693 [00:37<01:06, 1594.20it/s]\u001b[A\n",
            " 37%|███▋      | 61039/166693 [00:37<01:05, 1616.83it/s]\u001b[A\n",
            " 37%|███▋      | 61202/166693 [00:37<01:05, 1612.98it/s]\u001b[A\n",
            " 37%|███▋      | 61364/166693 [00:38<01:06, 1588.02it/s]\u001b[A\n",
            " 37%|███▋      | 61524/166693 [00:38<01:09, 1514.10it/s]\u001b[A\n",
            " 37%|███▋      | 61695/166693 [00:38<01:07, 1566.57it/s]\u001b[A\n",
            " 37%|███▋      | 61856/166693 [00:38<01:06, 1577.46it/s]\u001b[A\n",
            " 37%|███▋      | 62026/166693 [00:38<01:04, 1611.48it/s]\u001b[A\n",
            " 37%|███▋      | 62188/166693 [00:38<01:05, 1605.83it/s]\u001b[A\n",
            " 37%|███▋      | 62350/166693 [00:38<01:07, 1556.28it/s]\u001b[A\n",
            " 38%|███▊      | 62511/166693 [00:38<01:06, 1571.12it/s]\u001b[A\n",
            " 38%|███▊      | 62676/166693 [00:38<01:05, 1593.89it/s]\u001b[A\n",
            " 38%|███▊      | 62837/166693 [00:38<01:05, 1596.42it/s]\u001b[A\n",
            " 38%|███▊      | 62997/166693 [00:39<01:05, 1581.40it/s]\u001b[A\n",
            " 38%|███▊      | 63162/166693 [00:39<01:04, 1599.87it/s]\u001b[A\n",
            " 38%|███▊      | 63323/166693 [00:39<01:05, 1584.97it/s]\u001b[A\n",
            " 38%|███▊      | 63482/166693 [00:39<01:06, 1551.59it/s]\u001b[A\n",
            " 38%|███▊      | 63650/166693 [00:39<01:04, 1587.15it/s]\u001b[A\n",
            " 38%|███▊      | 63810/166693 [00:39<01:04, 1583.55it/s]\u001b[A\n",
            " 38%|███▊      | 63969/166693 [00:39<01:04, 1585.00it/s]\u001b[A\n",
            " 38%|███▊      | 64128/166693 [00:39<01:05, 1573.68it/s]\u001b[A\n",
            " 39%|███▊      | 64292/166693 [00:39<01:04, 1591.16it/s]\u001b[A\n",
            " 39%|███▊      | 64457/166693 [00:39<01:03, 1607.27it/s]\u001b[A\n",
            " 39%|███▉      | 64625/166693 [00:40<01:02, 1626.63it/s]\u001b[A\n",
            " 39%|███▉      | 64788/166693 [00:40<01:04, 1579.33it/s]\u001b[A\n",
            " 39%|███▉      | 64951/166693 [00:40<01:03, 1592.30it/s]\u001b[A\n",
            " 39%|███▉      | 65118/166693 [00:40<01:02, 1613.23it/s]\u001b[A\n",
            " 39%|███▉      | 65280/166693 [00:40<01:03, 1603.90it/s]\u001b[A\n",
            " 39%|███▉      | 65441/166693 [00:40<01:04, 1563.93it/s]\u001b[A\n",
            " 39%|███▉      | 65598/166693 [00:40<01:06, 1520.12it/s]\u001b[A\n",
            " 39%|███▉      | 65751/166693 [00:40<01:06, 1511.84it/s]\u001b[A\n",
            " 40%|███▉      | 65914/166693 [00:40<01:05, 1543.33it/s]\u001b[A\n",
            " 40%|███▉      | 66082/166693 [00:41<01:03, 1580.23it/s]\u001b[A\n",
            " 40%|███▉      | 66247/166693 [00:41<01:02, 1598.76it/s]\u001b[A\n",
            " 40%|███▉      | 66408/166693 [00:41<01:02, 1595.18it/s]\u001b[A\n",
            " 40%|███▉      | 66568/166693 [00:41<01:03, 1585.11it/s]\u001b[A\n",
            " 40%|████      | 66746/166693 [00:41<01:01, 1637.10it/s]\u001b[A\n",
            " 40%|████      | 66916/166693 [00:41<01:00, 1652.80it/s]\u001b[A\n",
            " 40%|████      | 67082/166693 [00:41<01:02, 1587.83it/s]\u001b[A\n",
            " 40%|████      | 67242/166693 [00:41<01:04, 1551.31it/s]\u001b[A\n",
            " 40%|████      | 67398/166693 [00:41<01:04, 1540.19it/s]\u001b[A\n",
            " 41%|████      | 67573/166693 [00:41<01:02, 1596.95it/s]\u001b[A\n",
            " 41%|████      | 67734/166693 [00:42<01:04, 1544.09it/s]\u001b[A\n",
            " 41%|████      | 67892/166693 [00:42<01:03, 1551.39it/s]\u001b[A\n",
            " 41%|████      | 68065/166693 [00:42<01:01, 1600.84it/s]\u001b[A\n",
            " 41%|████      | 68231/166693 [00:42<01:00, 1617.58it/s]\u001b[A\n",
            " 41%|████      | 68394/166693 [00:42<01:00, 1620.72it/s]\u001b[A\n",
            " 41%|████      | 68557/166693 [00:42<01:01, 1583.09it/s]\u001b[A\n",
            " 41%|████      | 68716/166693 [00:42<01:03, 1553.62it/s]\u001b[A\n",
            " 41%|████▏     | 68873/166693 [00:42<01:02, 1557.25it/s]\u001b[A\n",
            " 41%|████▏     | 69038/166693 [00:42<01:01, 1581.08it/s]\u001b[A\n",
            " 42%|████▏     | 69197/166693 [00:42<01:01, 1575.51it/s]\u001b[A\n",
            " 42%|████▏     | 69368/166693 [00:43<01:00, 1612.75it/s]\u001b[A\n",
            " 42%|████▏     | 69530/166693 [00:43<01:00, 1614.27it/s]\u001b[A\n",
            " 42%|████▏     | 69692/166693 [00:43<01:01, 1577.85it/s]\u001b[A\n",
            " 42%|████▏     | 69851/166693 [00:43<01:01, 1567.43it/s]\u001b[A\n",
            " 42%|████▏     | 70022/166693 [00:43<01:00, 1605.98it/s]\u001b[A\n",
            " 42%|████▏     | 70195/166693 [00:43<00:58, 1639.73it/s]\u001b[A\n",
            " 42%|████▏     | 70360/166693 [00:43<01:00, 1598.80it/s]\u001b[A\n",
            " 42%|████▏     | 70521/166693 [00:43<01:00, 1597.85it/s]\u001b[A\n",
            " 42%|████▏     | 70682/166693 [00:43<01:00, 1591.19it/s]\u001b[A\n",
            " 42%|████▏     | 70842/166693 [00:43<01:01, 1569.72it/s]\u001b[A\n",
            " 43%|████▎     | 71012/166693 [00:44<00:59, 1606.31it/s]\u001b[A\n",
            " 43%|████▎     | 71174/166693 [00:44<01:00, 1573.48it/s]\u001b[A\n",
            " 43%|████▎     | 71341/166693 [00:44<00:59, 1601.11it/s]\u001b[A\n",
            " 43%|████▎     | 71515/166693 [00:44<00:58, 1639.42it/s]\u001b[A\n",
            " 43%|████▎     | 71681/166693 [00:44<00:57, 1643.42it/s]\u001b[A\n",
            " 43%|████▎     | 71846/166693 [00:44<00:59, 1588.73it/s]\u001b[A\n",
            " 43%|████▎     | 72006/166693 [00:44<01:00, 1577.74it/s]\u001b[A\n",
            " 43%|████▎     | 72171/166693 [00:44<00:59, 1597.77it/s]\u001b[A\n",
            " 43%|████▎     | 72332/166693 [00:44<00:59, 1577.84it/s]\u001b[A\n",
            " 43%|████▎     | 72494/166693 [00:45<00:59, 1588.65it/s]\u001b[A\n",
            " 44%|████▎     | 72654/166693 [00:45<01:01, 1539.43it/s]\u001b[A\n",
            " 44%|████▎     | 72809/166693 [00:45<01:01, 1520.77it/s]\u001b[A\n",
            " 44%|████▍     | 72974/166693 [00:45<01:00, 1555.85it/s]\u001b[A\n",
            " 44%|████▍     | 73143/166693 [00:45<00:58, 1591.97it/s]\u001b[A\n",
            " 44%|████▍     | 73303/166693 [00:45<00:58, 1582.96it/s]\u001b[A\n",
            " 44%|████▍     | 73473/166693 [00:45<00:57, 1609.75it/s]\u001b[A\n",
            " 44%|████▍     | 73635/166693 [00:45<00:58, 1579.26it/s]\u001b[A\n",
            " 44%|████▍     | 73798/166693 [00:45<00:58, 1591.86it/s]\u001b[A\n",
            " 44%|████▍     | 73969/166693 [00:45<00:57, 1625.03it/s]\u001b[A\n",
            " 44%|████▍     | 74132/166693 [00:46<00:57, 1609.50it/s]\u001b[A\n",
            " 45%|████▍     | 74299/166693 [00:46<00:56, 1626.79it/s]\u001b[A\n",
            " 45%|████▍     | 74462/166693 [00:46<00:57, 1597.10it/s]\u001b[A\n",
            " 45%|████▍     | 74624/166693 [00:46<00:57, 1601.22it/s]\u001b[A\n",
            " 45%|████▍     | 74785/166693 [00:46<00:59, 1555.67it/s]\u001b[A\n",
            " 45%|████▍     | 74951/166693 [00:46<00:57, 1583.53it/s]\u001b[A\n",
            " 45%|████▌     | 75110/166693 [00:46<00:59, 1538.50it/s]\u001b[A\n",
            " 45%|████▌     | 75265/166693 [00:46<00:59, 1536.36it/s]\u001b[A\n",
            " 45%|████▌     | 75420/166693 [00:46<00:59, 1539.30it/s]\u001b[A\n",
            " 45%|████▌     | 75580/166693 [00:46<00:58, 1556.33it/s]\u001b[A\n",
            " 45%|████▌     | 75744/166693 [00:47<00:57, 1579.21it/s]\u001b[A\n",
            " 46%|████▌     | 75911/166693 [00:47<00:56, 1603.72it/s]\u001b[A\n",
            " 46%|████▌     | 76072/166693 [00:47<00:57, 1567.32it/s]\u001b[A\n",
            " 46%|████▌     | 76236/166693 [00:47<00:56, 1588.35it/s]\u001b[A\n",
            " 46%|████▌     | 76398/166693 [00:47<00:56, 1595.95it/s]\u001b[A\n",
            " 46%|████▌     | 76562/166693 [00:47<00:56, 1608.71it/s]\u001b[A\n",
            " 46%|████▌     | 76724/166693 [00:47<00:57, 1561.12it/s]\u001b[A\n",
            " 46%|████▌     | 76881/166693 [00:47<00:58, 1540.91it/s]\u001b[A\n",
            " 46%|████▌     | 77043/166693 [00:47<00:57, 1562.41it/s]\u001b[A\n",
            " 46%|████▋     | 77205/166693 [00:48<00:56, 1576.93it/s]\u001b[A\n",
            " 46%|████▋     | 77369/166693 [00:48<00:56, 1592.84it/s]\u001b[A\n",
            " 47%|████▋     | 77529/166693 [00:48<00:57, 1562.21it/s]\u001b[A\n",
            " 47%|████▋     | 77693/166693 [00:48<00:56, 1584.12it/s]\u001b[A\n",
            " 47%|████▋     | 77853/166693 [00:48<00:55, 1587.10it/s]\u001b[A\n",
            " 47%|████▋     | 78019/166693 [00:48<00:55, 1606.78it/s]\u001b[A\n",
            " 47%|████▋     | 78180/166693 [00:48<00:56, 1560.77it/s]\u001b[A\n",
            " 47%|████▋     | 78337/166693 [00:48<00:57, 1535.67it/s]\u001b[A\n",
            " 47%|████▋     | 78491/166693 [00:48<00:57, 1528.94it/s]\u001b[A\n",
            " 47%|████▋     | 78645/166693 [00:48<00:57, 1521.56it/s]\u001b[A\n",
            " 47%|████▋     | 78798/166693 [00:49<00:58, 1504.71it/s]\u001b[A\n",
            " 47%|████▋     | 78951/166693 [00:49<00:58, 1507.35it/s]\u001b[A\n",
            " 47%|████▋     | 79114/166693 [00:49<00:56, 1542.04it/s]\u001b[A\n",
            " 48%|████▊     | 79278/166693 [00:49<00:55, 1569.28it/s]\u001b[A\n",
            " 48%|████▊     | 79445/166693 [00:49<00:54, 1596.04it/s]\u001b[A\n",
            " 48%|████▊     | 79605/166693 [00:49<00:56, 1554.29it/s]\u001b[A\n",
            " 48%|████▊     | 79767/166693 [00:49<00:55, 1572.33it/s]\u001b[A\n",
            " 48%|████▊     | 79925/166693 [00:49<00:55, 1564.60it/s]\u001b[A\n",
            " 48%|████▊     | 80082/166693 [00:49<00:55, 1558.08it/s]\u001b[A\n",
            " 48%|████▊     | 80239/166693 [00:49<00:57, 1506.82it/s]\u001b[A\n",
            " 48%|████▊     | 80411/166693 [00:50<00:55, 1563.51it/s]\u001b[A\n",
            " 48%|████▊     | 80572/166693 [00:50<00:54, 1575.70it/s]\u001b[A\n",
            " 48%|████▊     | 80737/166693 [00:50<00:53, 1594.60it/s]\u001b[A\n",
            " 49%|████▊     | 80897/166693 [00:50<00:54, 1580.37it/s]\u001b[A\n",
            " 49%|████▊     | 81077/166693 [00:50<00:52, 1638.31it/s]\u001b[A\n",
            " 49%|████▊     | 81242/166693 [00:50<00:52, 1635.53it/s]\u001b[A\n",
            " 49%|████▉     | 81407/166693 [00:50<00:52, 1632.85it/s]\u001b[A\n",
            " 49%|████▉     | 81571/166693 [00:50<00:53, 1594.95it/s]\u001b[A\n",
            " 49%|████▉     | 81731/166693 [00:50<00:54, 1563.58it/s]\u001b[A\n",
            " 49%|████▉     | 81888/166693 [00:51<00:54, 1555.19it/s]\u001b[A\n",
            " 49%|████▉     | 82047/166693 [00:51<00:54, 1565.29it/s]\u001b[A\n",
            " 49%|████▉     | 82204/166693 [00:51<00:55, 1535.02it/s]\u001b[A\n",
            " 49%|████▉     | 82359/166693 [00:51<00:54, 1538.94it/s]\u001b[A\n",
            " 50%|████▉     | 82528/166693 [00:51<00:53, 1581.22it/s]\u001b[A\n",
            " 50%|████▉     | 82690/166693 [00:51<00:52, 1591.06it/s]\u001b[A\n",
            " 50%|████▉     | 82855/166693 [00:51<00:52, 1607.00it/s]\u001b[A\n",
            " 50%|████▉     | 83016/166693 [00:51<00:52, 1591.43it/s]\u001b[A\n",
            " 50%|████▉     | 83176/166693 [00:51<00:54, 1543.12it/s]\u001b[A\n",
            " 50%|████▉     | 83333/166693 [00:51<00:53, 1548.45it/s]\u001b[A\n",
            " 50%|█████     | 83489/166693 [00:52<00:54, 1529.94it/s]\u001b[A\n",
            " 50%|█████     | 83651/166693 [00:52<00:53, 1554.13it/s]\u001b[A\n",
            " 50%|█████     | 83825/166693 [00:52<00:51, 1603.76it/s]\u001b[A\n",
            " 50%|█████     | 83994/166693 [00:52<00:50, 1628.67it/s]\u001b[A\n",
            " 50%|█████     | 84158/166693 [00:52<00:51, 1600.19it/s]\u001b[A\n",
            " 51%|█████     | 84319/166693 [00:52<00:51, 1600.65it/s]\u001b[A\n",
            " 51%|█████     | 84486/166693 [00:52<00:50, 1619.47it/s]\u001b[A\n",
            " 51%|█████     | 84649/166693 [00:52<00:51, 1605.33it/s]\u001b[A\n",
            " 51%|█████     | 84810/166693 [00:52<00:51, 1582.81it/s]\u001b[A\n",
            " 51%|█████     | 84969/166693 [00:52<00:52, 1563.15it/s]\u001b[A\n",
            " 51%|█████     | 85139/166693 [00:53<00:50, 1601.35it/s]\u001b[A\n",
            " 51%|█████     | 85300/166693 [00:53<00:51, 1566.21it/s]\u001b[A\n",
            " 51%|█████▏    | 85462/166693 [00:53<00:51, 1581.29it/s]\u001b[A\n",
            " 51%|█████▏    | 85627/166693 [00:53<00:50, 1598.67it/s]\u001b[A\n",
            " 51%|█████▏    | 85788/166693 [00:53<00:51, 1584.07it/s]\u001b[A\n",
            " 52%|█████▏    | 85954/166693 [00:53<00:50, 1603.63it/s]\u001b[A\n",
            " 52%|█████▏    | 86123/166693 [00:53<00:49, 1625.50it/s]\u001b[A\n",
            " 52%|█████▏    | 86294/166693 [00:53<00:48, 1649.59it/s]\u001b[A\n",
            " 52%|█████▏    | 86460/166693 [00:53<00:51, 1544.11it/s]\u001b[A\n",
            " 52%|█████▏    | 86616/166693 [00:53<00:52, 1518.94it/s]\u001b[A\n",
            " 52%|█████▏    | 86770/166693 [00:54<00:53, 1500.55it/s]\u001b[A\n",
            " 52%|█████▏    | 86921/166693 [00:54<00:54, 1476.05it/s]\u001b[A\n",
            " 52%|█████▏    | 87085/166693 [00:54<00:52, 1520.34it/s]\u001b[A\n",
            " 52%|█████▏    | 87259/166693 [00:54<00:50, 1579.76it/s]\u001b[A\n",
            " 52%|█████▏    | 87423/166693 [00:54<00:49, 1596.19it/s]\u001b[A\n",
            " 53%|█████▎    | 87584/166693 [00:54<00:49, 1590.24it/s]\u001b[A\n",
            " 53%|█████▎    | 87760/166693 [00:54<00:48, 1634.14it/s]\u001b[A\n",
            " 53%|█████▎    | 87925/166693 [00:54<00:51, 1540.85it/s]\u001b[A\n",
            " 53%|█████▎    | 88081/166693 [00:54<00:50, 1544.77it/s]\u001b[A\n",
            " 53%|█████▎    | 88245/166693 [00:55<00:49, 1569.45it/s]\u001b[A\n",
            " 53%|█████▎    | 88403/166693 [00:55<00:50, 1560.56it/s]\u001b[A\n",
            " 53%|█████▎    | 88560/166693 [00:55<00:51, 1521.27it/s]\u001b[A\n",
            " 53%|█████▎    | 88726/166693 [00:55<00:49, 1559.45it/s]\u001b[A\n",
            " 53%|█████▎    | 88902/166693 [00:55<00:48, 1613.99it/s]\u001b[A\n",
            " 53%|█████▎    | 89065/166693 [00:55<00:48, 1589.97it/s]\u001b[A\n",
            " 54%|█████▎    | 89231/166693 [00:55<00:48, 1610.12it/s]\u001b[A\n",
            " 54%|█████▎    | 89393/166693 [00:55<00:48, 1593.54it/s]\u001b[A\n",
            " 54%|█████▎    | 89553/166693 [00:55<00:49, 1569.79it/s]\u001b[A\n",
            " 54%|█████▍    | 89711/166693 [00:55<00:49, 1551.40it/s]\u001b[A\n",
            " 54%|█████▍    | 89875/166693 [00:56<00:48, 1575.08it/s]\u001b[A\n",
            " 54%|█████▍    | 90033/166693 [00:56<00:49, 1555.31it/s]\u001b[A\n",
            " 54%|█████▍    | 90193/166693 [00:56<00:48, 1566.37it/s]\u001b[A\n",
            " 54%|█████▍    | 90351/166693 [00:56<00:48, 1569.82it/s]\u001b[A\n",
            " 54%|█████▍    | 90515/166693 [00:56<00:47, 1589.14it/s]\u001b[A\n",
            " 54%|█████▍    | 90683/166693 [00:56<00:47, 1613.02it/s]\u001b[A\n",
            " 55%|█████▍    | 90849/166693 [00:56<00:46, 1624.69it/s]\u001b[A\n",
            " 55%|█████▍    | 91014/166693 [00:56<00:46, 1630.60it/s]\u001b[A\n",
            " 55%|█████▍    | 91178/166693 [00:56<00:47, 1595.01it/s]\u001b[A\n",
            " 55%|█████▍    | 91338/166693 [00:56<00:47, 1585.81it/s]\u001b[A\n",
            " 55%|█████▍    | 91504/166693 [00:57<00:46, 1606.47it/s]\u001b[A\n",
            " 55%|█████▍    | 91665/166693 [00:57<00:47, 1578.27it/s]\u001b[A\n",
            " 55%|█████▌    | 91824/166693 [00:57<00:47, 1579.20it/s]\u001b[A\n",
            " 55%|█████▌    | 91993/166693 [00:57<00:46, 1608.90it/s]\u001b[A\n",
            " 55%|█████▌    | 92155/166693 [00:57<00:46, 1595.73it/s]\u001b[A\n",
            " 55%|█████▌    | 92315/166693 [00:57<00:49, 1510.52it/s]\u001b[A\n",
            " 55%|█████▌    | 92485/166693 [00:57<00:47, 1561.23it/s]\u001b[A\n",
            " 56%|█████▌    | 92643/166693 [00:57<00:47, 1564.68it/s]\u001b[A\n",
            " 56%|█████▌    | 92801/166693 [00:57<00:48, 1526.43it/s]\u001b[A\n",
            " 56%|█████▌    | 92959/166693 [00:58<00:47, 1540.58it/s]\u001b[A\n",
            " 56%|█████▌    | 93118/166693 [00:58<00:47, 1553.64it/s]\u001b[A\n",
            " 56%|█████▌    | 93274/166693 [00:58<00:47, 1538.74it/s]\u001b[A\n",
            " 56%|█████▌    | 93438/166693 [00:58<00:46, 1565.97it/s]\u001b[A\n",
            " 56%|█████▌    | 93603/166693 [00:58<00:45, 1589.63it/s]\u001b[A\n",
            " 56%|█████▌    | 93763/166693 [00:58<00:46, 1567.46it/s]\u001b[A\n",
            " 56%|█████▋    | 93929/166693 [00:58<00:45, 1593.64it/s]\u001b[A\n",
            " 56%|█████▋    | 94092/166693 [00:58<00:45, 1603.95it/s]\u001b[A\n",
            " 57%|█████▋    | 94253/166693 [00:58<00:46, 1559.52it/s]\u001b[A\n",
            " 57%|█████▋    | 94410/166693 [00:58<00:47, 1508.11it/s]\u001b[A\n",
            " 57%|█████▋    | 94574/166693 [00:59<00:46, 1544.14it/s]\u001b[A\n",
            " 57%|█████▋    | 94733/166693 [00:59<00:46, 1555.43it/s]\u001b[A\n",
            " 57%|█████▋    | 94890/166693 [00:59<00:48, 1494.52it/s]\u001b[A\n",
            " 57%|█████▋    | 95046/166693 [00:59<00:47, 1513.49it/s]\u001b[A\n",
            " 57%|█████▋    | 95211/166693 [00:59<00:46, 1551.21it/s]\u001b[A\n",
            " 57%|█████▋    | 95367/166693 [00:59<00:46, 1525.49it/s]\u001b[A\n",
            " 57%|█████▋    | 95529/166693 [00:59<00:45, 1551.82it/s]\u001b[A\n",
            " 57%|█████▋    | 95700/166693 [00:59<00:44, 1593.95it/s]\u001b[A\n",
            " 58%|█████▊    | 95861/166693 [00:59<00:46, 1523.20it/s]\u001b[A\n",
            " 58%|█████▊    | 96015/166693 [00:59<00:46, 1525.16it/s]\u001b[A\n",
            " 58%|█████▊    | 96181/166693 [01:00<00:45, 1562.42it/s]\u001b[A\n",
            " 58%|█████▊    | 96339/166693 [01:00<00:44, 1564.03it/s]\u001b[A\n",
            " 58%|█████▊    | 96502/166693 [01:00<00:44, 1581.03it/s]\u001b[A\n",
            " 58%|█████▊    | 96670/166693 [01:00<00:43, 1608.10it/s]\u001b[A\n",
            " 58%|█████▊    | 96844/166693 [01:00<00:42, 1644.36it/s]\u001b[A\n",
            " 58%|█████▊    | 97009/166693 [01:00<00:42, 1625.55it/s]\u001b[A\n",
            " 58%|█████▊    | 97172/166693 [01:00<00:44, 1577.12it/s]\u001b[A\n",
            " 58%|█████▊    | 97331/166693 [01:00<00:44, 1557.28it/s]\u001b[A\n",
            " 58%|█████▊    | 97488/166693 [01:00<00:45, 1523.18it/s]\u001b[A\n",
            " 59%|█████▊    | 97646/166693 [01:01<00:44, 1539.43it/s]\u001b[A\n",
            " 59%|█████▊    | 97813/166693 [01:01<00:43, 1575.02it/s]\u001b[A\n",
            " 59%|█████▉    | 97971/166693 [01:01<00:44, 1561.22it/s]\u001b[A\n",
            " 59%|█████▉    | 98140/166693 [01:01<00:42, 1597.15it/s]\u001b[A\n",
            " 59%|█████▉    | 98301/166693 [01:01<00:42, 1593.90it/s]\u001b[A\n",
            " 59%|█████▉    | 98461/166693 [01:01<00:43, 1579.70it/s]\u001b[A\n",
            " 59%|█████▉    | 98632/166693 [01:01<00:42, 1615.93it/s]\u001b[A\n",
            " 59%|█████▉    | 98794/166693 [01:01<00:42, 1596.93it/s]\u001b[A\n",
            " 59%|█████▉    | 98955/166693 [01:01<00:43, 1562.55it/s]\u001b[A\n",
            " 59%|█████▉    | 99112/166693 [01:01<00:44, 1530.24it/s]\u001b[A\n",
            " 60%|█████▉    | 99266/166693 [01:02<00:44, 1518.90it/s]\u001b[A\n",
            " 60%|█████▉    | 99419/166693 [01:02<00:44, 1505.34it/s]\u001b[A\n",
            " 60%|█████▉    | 99578/166693 [01:02<00:43, 1529.25it/s]\u001b[A\n",
            " 60%|█████▉    | 99732/166693 [01:02<00:44, 1514.98it/s]\u001b[A\n",
            " 60%|█████▉    | 99887/166693 [01:02<00:43, 1523.98it/s]\u001b[A\n",
            " 60%|██████    | 100050/166693 [01:02<00:42, 1552.96it/s]\u001b[A\n",
            " 60%|██████    | 100206/166693 [01:02<00:43, 1524.95it/s]\u001b[A\n",
            " 60%|██████    | 100359/166693 [01:02<00:43, 1516.27it/s]\u001b[A\n",
            " 60%|██████    | 100524/166693 [01:02<00:42, 1551.86it/s]\u001b[A\n",
            " 60%|██████    | 100680/166693 [01:02<00:43, 1502.84it/s]\u001b[A\n",
            " 60%|██████    | 100832/166693 [01:03<00:43, 1507.63it/s]\u001b[A\n",
            " 61%|██████    | 101001/166693 [01:03<00:42, 1557.63it/s]\u001b[A\n",
            " 61%|██████    | 101160/166693 [01:03<00:41, 1566.52it/s]\u001b[A\n",
            " 61%|██████    | 101318/166693 [01:03<00:42, 1542.05it/s]\u001b[A\n",
            " 61%|██████    | 101476/166693 [01:03<00:42, 1552.63it/s]\u001b[A\n",
            " 61%|██████    | 101632/166693 [01:03<00:41, 1550.92it/s]\u001b[A\n",
            " 61%|██████    | 101788/166693 [01:03<00:42, 1517.32it/s]\u001b[A\n",
            " 61%|██████    | 101947/166693 [01:03<00:42, 1538.03it/s]\u001b[A\n",
            " 61%|██████▏   | 102102/166693 [01:03<00:42, 1506.27it/s]\u001b[A\n",
            " 61%|██████▏   | 102253/166693 [01:04<00:43, 1488.17it/s]\u001b[A\n",
            " 61%|██████▏   | 102403/166693 [01:04<00:43, 1463.43it/s]\u001b[A\n",
            " 62%|██████▏   | 102552/166693 [01:04<00:43, 1468.07it/s]\u001b[A\n",
            " 62%|██████▏   | 102707/166693 [01:04<00:43, 1484.98it/s]\u001b[A\n",
            " 62%|██████▏   | 102860/166693 [01:04<00:42, 1496.34it/s]\u001b[A\n",
            " 62%|██████▏   | 103012/166693 [01:04<00:42, 1501.87it/s]\u001b[A\n",
            " 62%|██████▏   | 103163/166693 [01:04<00:42, 1485.60it/s]\u001b[A\n",
            " 62%|██████▏   | 103312/166693 [01:04<00:42, 1479.21it/s]\u001b[A\n",
            " 62%|██████▏   | 103461/166693 [01:05<01:11, 884.32it/s] \u001b[A\n",
            " 62%|██████▏   | 103615/166693 [01:05<01:02, 1013.45it/s]\u001b[A\n",
            " 62%|██████▏   | 103777/166693 [01:05<00:55, 1141.24it/s]\u001b[A\n",
            " 62%|██████▏   | 103927/166693 [01:05<00:51, 1228.72it/s]\u001b[A\n",
            " 62%|██████▏   | 104088/166693 [01:05<00:47, 1321.46it/s]\u001b[A\n",
            " 63%|██████▎   | 104244/166693 [01:05<00:45, 1384.36it/s]\u001b[A\n",
            " 63%|██████▎   | 104408/166693 [01:05<00:42, 1452.03it/s]\u001b[A\n",
            " 63%|██████▎   | 104563/166693 [01:05<00:42, 1449.75it/s]\u001b[A\n",
            " 63%|██████▎   | 104724/166693 [01:05<00:41, 1493.42it/s]\u001b[A\n",
            " 63%|██████▎   | 104879/166693 [01:05<00:42, 1463.33it/s]\u001b[A\n",
            " 63%|██████▎   | 105047/166693 [01:06<00:40, 1521.42it/s]\u001b[A\n",
            " 63%|██████▎   | 105210/166693 [01:06<00:39, 1551.32it/s]\u001b[A\n",
            " 63%|██████▎   | 105379/166693 [01:06<00:38, 1588.81it/s]\u001b[A\n",
            " 63%|██████▎   | 105540/166693 [01:06<00:38, 1578.37it/s]\u001b[A\n",
            " 63%|██████▎   | 105703/166693 [01:06<00:38, 1592.06it/s]\u001b[A\n",
            " 64%|██████▎   | 105864/166693 [01:06<00:38, 1569.56it/s]\u001b[A\n",
            " 64%|██████▎   | 106022/166693 [01:06<00:38, 1561.66it/s]\u001b[A\n",
            " 64%|██████▎   | 106179/166693 [01:06<00:39, 1526.51it/s]\u001b[A\n",
            " 64%|██████▍   | 106343/166693 [01:06<00:38, 1558.04it/s]\u001b[A\n",
            " 64%|██████▍   | 106500/166693 [01:07<00:39, 1529.42it/s]\u001b[A\n",
            " 64%|██████▍   | 106654/166693 [01:07<00:40, 1478.32it/s]\u001b[A\n",
            " 64%|██████▍   | 106806/166693 [01:07<00:40, 1489.57it/s]\u001b[A\n",
            " 64%|██████▍   | 106975/166693 [01:07<00:38, 1544.52it/s]\u001b[A\n",
            " 64%|██████▍   | 107131/166693 [01:07<00:39, 1519.06it/s]\u001b[A\n",
            " 64%|██████▍   | 107293/166693 [01:07<00:38, 1547.97it/s]\u001b[A\n",
            " 64%|██████▍   | 107449/166693 [01:07<00:38, 1544.52it/s]\u001b[A\n",
            " 65%|██████▍   | 107613/166693 [01:07<00:37, 1570.67it/s]\u001b[A\n",
            " 65%|██████▍   | 107779/166693 [01:07<00:36, 1595.54it/s]\u001b[A\n",
            " 65%|██████▍   | 107939/166693 [01:07<00:38, 1543.79it/s]\u001b[A\n",
            " 65%|██████▍   | 108095/166693 [01:08<00:39, 1495.67it/s]\u001b[A\n",
            " 65%|██████▍   | 108246/166693 [01:08<00:39, 1486.66it/s]\u001b[A\n",
            " 65%|██████▌   | 108422/166693 [01:08<00:37, 1559.14it/s]\u001b[A\n",
            " 65%|██████▌   | 108587/166693 [01:08<00:36, 1584.90it/s]\u001b[A\n",
            " 65%|██████▌   | 108747/166693 [01:08<00:36, 1585.01it/s]\u001b[A\n",
            " 65%|██████▌   | 108912/166693 [01:08<00:36, 1602.41it/s]\u001b[A\n",
            " 65%|██████▌   | 109073/166693 [01:08<00:35, 1604.42it/s]\u001b[A\n",
            " 66%|██████▌   | 109234/166693 [01:08<00:35, 1599.66it/s]\u001b[A\n",
            " 66%|██████▌   | 109395/166693 [01:08<00:37, 1541.75it/s]\u001b[A\n",
            " 66%|██████▌   | 109557/166693 [01:08<00:36, 1563.53it/s]\u001b[A\n",
            " 66%|██████▌   | 109714/166693 [01:09<00:37, 1507.07it/s]\u001b[A\n",
            " 66%|██████▌   | 109866/166693 [01:09<00:37, 1504.33it/s]\u001b[A\n",
            " 66%|██████▌   | 110017/166693 [01:09<00:38, 1485.30it/s]\u001b[A\n",
            " 66%|██████▌   | 110178/166693 [01:09<00:37, 1518.51it/s]\u001b[A\n",
            " 66%|██████▌   | 110331/166693 [01:09<00:38, 1453.35it/s]\u001b[A\n",
            " 66%|██████▋   | 110478/166693 [01:09<00:38, 1445.15it/s]\u001b[A\n",
            " 66%|██████▋   | 110625/166693 [01:09<00:38, 1451.74it/s]\u001b[A\n",
            " 66%|██████▋   | 110773/166693 [01:09<00:38, 1459.82it/s]\u001b[A\n",
            " 67%|██████▋   | 110930/166693 [01:09<00:37, 1490.68it/s]\u001b[A\n",
            " 67%|██████▋   | 111080/166693 [01:10<00:37, 1491.89it/s]\u001b[A\n",
            " 67%|██████▋   | 111230/166693 [01:10<00:38, 1422.77it/s]\u001b[A\n",
            " 67%|██████▋   | 111381/166693 [01:10<00:38, 1446.69it/s]\u001b[A\n",
            " 67%|██████▋   | 111527/166693 [01:10<00:38, 1445.20it/s]\u001b[A\n",
            " 67%|██████▋   | 111676/166693 [01:10<00:37, 1457.15it/s]\u001b[A\n",
            " 67%|██████▋   | 111834/166693 [01:10<00:36, 1491.52it/s]\u001b[A\n",
            " 67%|██████▋   | 111984/166693 [01:10<00:37, 1464.08it/s]\u001b[A\n",
            " 67%|██████▋   | 112133/166693 [01:10<00:37, 1469.72it/s]\u001b[A\n",
            " 67%|██████▋   | 112281/166693 [01:10<00:37, 1466.19it/s]\u001b[A\n",
            " 67%|██████▋   | 112428/166693 [01:10<00:37, 1443.50it/s]\u001b[A\n",
            " 68%|██████▊   | 112573/166693 [01:11<00:38, 1403.30it/s]\u001b[A\n",
            " 68%|██████▊   | 112714/166693 [01:11<00:38, 1392.78it/s]\u001b[A\n",
            " 68%|██████▊   | 112865/166693 [01:11<00:37, 1425.35it/s]\u001b[A\n",
            " 68%|██████▊   | 113037/166693 [01:11<00:35, 1501.69it/s]\u001b[A\n",
            " 68%|██████▊   | 113195/166693 [01:11<00:35, 1523.23it/s]\u001b[A\n",
            " 68%|██████▊   | 113349/166693 [01:11<00:35, 1484.18it/s]\u001b[A\n",
            " 68%|██████▊   | 113499/166693 [01:11<00:37, 1430.37it/s]\u001b[A\n",
            " 68%|██████▊   | 113648/166693 [01:11<00:36, 1446.82it/s]\u001b[A\n",
            " 68%|██████▊   | 113800/166693 [01:11<00:36, 1466.88it/s]\u001b[A\n",
            " 68%|██████▊   | 113948/166693 [01:11<00:36, 1456.24it/s]\u001b[A\n",
            " 68%|██████▊   | 114095/166693 [01:12<00:36, 1452.07it/s]\u001b[A\n",
            " 69%|██████▊   | 114241/166693 [01:12<00:36, 1444.68it/s]\u001b[A\n",
            " 69%|██████▊   | 114391/166693 [01:12<00:35, 1456.34it/s]\u001b[A\n",
            " 69%|██████▊   | 114547/166693 [01:12<00:35, 1484.82it/s]\u001b[A\n",
            " 69%|██████▉   | 114696/166693 [01:12<00:35, 1469.28it/s]\u001b[A\n",
            " 69%|██████▉   | 114844/166693 [01:12<00:35, 1467.27it/s]\u001b[A\n",
            " 69%|██████▉   | 114991/166693 [01:12<00:36, 1435.86it/s]\u001b[A\n",
            " 69%|██████▉   | 115139/166693 [01:12<00:35, 1447.99it/s]\u001b[A\n",
            " 69%|██████▉   | 115287/166693 [01:12<00:35, 1455.53it/s]\u001b[A\n",
            " 69%|██████▉   | 115433/166693 [01:13<00:35, 1453.92it/s]\u001b[A\n",
            " 69%|██████▉   | 115579/166693 [01:13<00:35, 1447.38it/s]\u001b[A\n",
            " 69%|██████▉   | 115732/166693 [01:13<00:34, 1469.48it/s]\u001b[A\n",
            " 70%|██████▉   | 115880/166693 [01:13<00:34, 1469.99it/s]\u001b[A\n",
            " 70%|██████▉   | 116046/166693 [01:13<00:33, 1520.87it/s]\u001b[A\n",
            " 70%|██████▉   | 116199/166693 [01:13<00:33, 1510.25it/s]\u001b[A\n",
            " 70%|██████▉   | 116353/166693 [01:13<00:33, 1518.73it/s]\u001b[A\n",
            " 70%|██████▉   | 116506/166693 [01:13<00:33, 1489.57it/s]\u001b[A\n",
            " 70%|██████▉   | 116656/166693 [01:13<00:34, 1437.94it/s]\u001b[A\n",
            " 70%|███████   | 116801/166693 [01:13<00:34, 1433.35it/s]\u001b[A\n",
            " 70%|███████   | 116949/166693 [01:14<00:34, 1446.14it/s]\u001b[A\n",
            " 70%|███████   | 117094/166693 [01:14<00:36, 1377.29it/s]\u001b[A\n",
            " 70%|███████   | 117245/166693 [01:14<00:34, 1413.93it/s]\u001b[A\n",
            " 70%|███████   | 117388/166693 [01:14<00:35, 1405.73it/s]\u001b[A\n",
            " 71%|███████   | 117540/166693 [01:14<00:34, 1436.67it/s]\u001b[A\n",
            " 71%|███████   | 117692/166693 [01:14<00:33, 1457.37it/s]\u001b[A\n",
            " 71%|███████   | 117839/166693 [01:14<00:34, 1427.06it/s]\u001b[A\n",
            " 71%|███████   | 117983/166693 [01:14<00:34, 1427.61it/s]\u001b[A\n",
            " 71%|███████   | 118127/166693 [01:14<00:34, 1426.34it/s]\u001b[A\n",
            " 71%|███████   | 118289/166693 [01:14<00:32, 1478.77it/s]\u001b[A\n",
            " 71%|███████   | 118438/166693 [01:15<00:33, 1432.43it/s]\u001b[A\n",
            " 71%|███████   | 118583/166693 [01:15<00:33, 1419.90it/s]\u001b[A\n",
            " 71%|███████   | 118726/166693 [01:15<00:33, 1419.96it/s]\u001b[A\n",
            " 71%|███████▏  | 118869/166693 [01:15<00:33, 1412.44it/s]\u001b[A\n",
            " 71%|███████▏  | 119016/166693 [01:15<00:33, 1429.03it/s]\u001b[A\n",
            " 71%|███████▏  | 119160/166693 [01:15<00:33, 1431.28it/s]\u001b[A\n",
            " 72%|███████▏  | 119322/166693 [01:15<00:31, 1481.74it/s]\u001b[A\n",
            " 72%|███████▏  | 119471/166693 [01:15<00:32, 1468.65it/s]\u001b[A\n",
            " 72%|███████▏  | 119620/166693 [01:15<00:31, 1473.36it/s]\u001b[A\n",
            " 72%|███████▏  | 119768/166693 [01:15<00:32, 1457.35it/s]\u001b[A\n",
            " 72%|███████▏  | 119929/166693 [01:16<00:31, 1499.62it/s]\u001b[A\n",
            " 72%|███████▏  | 120080/166693 [01:16<00:32, 1450.42it/s]\u001b[A\n",
            " 72%|███████▏  | 120245/166693 [01:16<00:30, 1504.25it/s]\u001b[A\n",
            " 72%|███████▏  | 120410/166693 [01:16<00:29, 1543.80it/s]\u001b[A\n",
            " 72%|███████▏  | 120566/166693 [01:16<00:30, 1534.60it/s]\u001b[A\n",
            " 72%|███████▏  | 120721/166693 [01:16<00:29, 1535.93it/s]\u001b[A\n",
            " 73%|███████▎  | 120876/166693 [01:16<00:30, 1492.54it/s]\u001b[A\n",
            " 73%|███████▎  | 121027/166693 [01:16<00:30, 1495.39it/s]\u001b[A\n",
            " 73%|███████▎  | 121177/166693 [01:16<00:30, 1471.36it/s]\u001b[A\n",
            " 73%|███████▎  | 121325/166693 [01:17<00:30, 1465.74it/s]\u001b[A\n",
            " 73%|███████▎  | 121475/166693 [01:17<00:30, 1472.89it/s]\u001b[A\n",
            " 73%|███████▎  | 121623/166693 [01:17<00:31, 1447.19it/s]\u001b[A\n",
            " 73%|███████▎  | 121778/166693 [01:17<00:30, 1475.09it/s]\u001b[A\n",
            " 73%|███████▎  | 121926/166693 [01:17<00:31, 1439.70it/s]\u001b[A\n",
            " 73%|███████▎  | 122080/166693 [01:17<00:30, 1466.12it/s]\u001b[A\n",
            " 73%|███████▎  | 122237/166693 [01:17<00:29, 1495.66it/s]\u001b[A\n",
            " 73%|███████▎  | 122387/166693 [01:17<00:29, 1490.14it/s]\u001b[A\n",
            " 74%|███████▎  | 122537/166693 [01:17<00:29, 1484.69it/s]\u001b[A\n",
            " 74%|███████▎  | 122686/166693 [01:17<00:30, 1450.53it/s]\u001b[A\n",
            " 74%|███████▎  | 122846/166693 [01:18<00:29, 1490.20it/s]\u001b[A\n",
            " 74%|███████▍  | 122996/166693 [01:18<00:31, 1403.87it/s]\u001b[A\n",
            " 74%|███████▍  | 123147/166693 [01:18<00:30, 1433.43it/s]\u001b[A\n",
            " 74%|███████▍  | 123292/166693 [01:18<00:30, 1421.91it/s]\u001b[A\n",
            " 74%|███████▍  | 123441/166693 [01:18<00:30, 1438.86it/s]\u001b[A\n",
            " 74%|███████▍  | 123586/166693 [01:18<00:30, 1425.39it/s]\u001b[A\n",
            " 74%|███████▍  | 123737/166693 [01:18<00:29, 1448.04it/s]\u001b[A\n",
            " 74%|███████▍  | 123887/166693 [01:18<00:29, 1462.06it/s]\u001b[A\n",
            " 74%|███████▍  | 124035/166693 [01:18<00:29, 1465.05it/s]\u001b[A\n",
            " 74%|███████▍  | 124182/166693 [01:18<00:29, 1463.46it/s]\u001b[A\n",
            " 75%|███████▍  | 124329/166693 [01:19<00:29, 1431.73it/s]\u001b[A\n",
            " 75%|███████▍  | 124473/166693 [01:19<00:29, 1421.21it/s]\u001b[A\n",
            " 75%|███████▍  | 124620/166693 [01:19<00:29, 1434.82it/s]\u001b[A\n",
            " 75%|███████▍  | 124764/166693 [01:19<00:29, 1434.25it/s]\u001b[A\n",
            " 75%|███████▍  | 124918/166693 [01:19<00:28, 1463.62it/s]\u001b[A\n",
            " 75%|███████▌  | 125065/166693 [01:19<00:28, 1441.46it/s]\u001b[A\n",
            " 75%|███████▌  | 125211/166693 [01:19<00:28, 1446.87it/s]\u001b[A\n",
            " 75%|███████▌  | 125356/166693 [01:19<00:28, 1441.78it/s]\u001b[A\n",
            " 75%|███████▌  | 125517/166693 [01:19<00:27, 1485.58it/s]\u001b[A\n",
            " 75%|███████▌  | 125666/166693 [01:20<00:29, 1411.21it/s]\u001b[A\n",
            " 75%|███████▌  | 125810/166693 [01:20<00:28, 1418.54it/s]\u001b[A\n",
            " 76%|███████▌  | 125953/166693 [01:20<00:28, 1414.87it/s]\u001b[A\n",
            " 76%|███████▌  | 126096/166693 [01:20<00:29, 1395.36it/s]\u001b[A\n",
            " 76%|███████▌  | 126243/166693 [01:20<00:28, 1414.23it/s]\u001b[A\n",
            " 76%|███████▌  | 126385/166693 [01:20<00:29, 1384.27it/s]\u001b[A\n",
            " 76%|███████▌  | 126540/166693 [01:20<00:28, 1429.43it/s]\u001b[A\n",
            " 76%|███████▌  | 126684/166693 [01:20<00:28, 1425.69it/s]\u001b[A\n",
            " 76%|███████▌  | 126829/166693 [01:20<00:27, 1432.30it/s]\u001b[A\n",
            " 76%|███████▌  | 126973/166693 [01:20<00:27, 1429.54it/s]\u001b[A\n",
            " 76%|███████▋  | 127117/166693 [01:21<00:27, 1426.51it/s]\u001b[A\n",
            " 76%|███████▋  | 127266/166693 [01:21<00:27, 1443.86it/s]\u001b[A\n",
            " 76%|███████▋  | 127411/166693 [01:21<00:27, 1417.18it/s]\u001b[A\n",
            " 77%|███████▋  | 127553/166693 [01:21<00:28, 1391.31it/s]\u001b[A\n",
            " 77%|███████▋  | 127693/166693 [01:21<00:28, 1381.83it/s]\u001b[A\n",
            " 77%|███████▋  | 127839/166693 [01:21<00:27, 1402.26it/s]\u001b[A\n",
            " 77%|███████▋  | 127980/166693 [01:21<00:27, 1396.32it/s]\u001b[A\n",
            " 77%|███████▋  | 128126/166693 [01:21<00:27, 1414.00it/s]\u001b[A\n",
            " 77%|███████▋  | 128268/166693 [01:21<00:27, 1411.37it/s]\u001b[A\n",
            " 77%|███████▋  | 128422/166693 [01:21<00:26, 1445.31it/s]\u001b[A\n",
            " 77%|███████▋  | 128574/166693 [01:22<00:25, 1466.70it/s]\u001b[A\n",
            " 77%|███████▋  | 128721/166693 [01:22<00:26, 1435.25it/s]\u001b[A\n",
            " 77%|███████▋  | 128865/166693 [01:22<00:26, 1415.28it/s]\u001b[A\n",
            " 77%|███████▋  | 129007/166693 [01:22<00:27, 1386.16it/s]\u001b[A\n",
            " 77%|███████▋  | 129155/166693 [01:22<00:26, 1411.82it/s]\u001b[A\n",
            " 78%|███████▊  | 129300/166693 [01:22<00:26, 1422.61it/s]\u001b[A\n",
            " 78%|███████▊  | 129443/166693 [01:22<00:26, 1414.55it/s]\u001b[A\n",
            " 78%|███████▊  | 129585/166693 [01:22<00:26, 1407.31it/s]\u001b[A\n",
            " 78%|███████▊  | 129726/166693 [01:22<00:26, 1389.62it/s]\u001b[A\n",
            " 78%|███████▊  | 129866/166693 [01:22<00:26, 1383.26it/s]\u001b[A\n",
            " 78%|███████▊  | 130017/166693 [01:23<00:25, 1418.11it/s]\u001b[A\n",
            " 78%|███████▊  | 130160/166693 [01:23<00:25, 1407.52it/s]\u001b[A\n",
            " 78%|███████▊  | 130310/166693 [01:23<00:25, 1433.05it/s]\u001b[A\n",
            " 78%|███████▊  | 130459/166693 [01:23<00:25, 1448.78it/s]\u001b[A\n",
            " 78%|███████▊  | 130605/166693 [01:23<00:25, 1442.65it/s]\u001b[A\n",
            " 78%|███████▊  | 130753/166693 [01:23<00:24, 1453.06it/s]\u001b[A\n",
            " 79%|███████▊  | 130899/166693 [01:23<00:25, 1426.11it/s]\u001b[A\n",
            " 79%|███████▊  | 131047/166693 [01:23<00:24, 1441.18it/s]\u001b[A\n",
            " 79%|███████▊  | 131212/166693 [01:23<00:23, 1496.89it/s]\u001b[A\n",
            " 79%|███████▉  | 131363/166693 [01:24<00:23, 1480.65it/s]\u001b[A\n",
            " 79%|███████▉  | 131512/166693 [01:24<00:24, 1457.18it/s]\u001b[A\n",
            " 79%|███████▉  | 131665/166693 [01:24<00:23, 1476.07it/s]\u001b[A\n",
            " 79%|███████▉  | 131813/166693 [01:24<00:24, 1429.81it/s]\u001b[A\n",
            " 79%|███████▉  | 131960/166693 [01:24<00:24, 1440.79it/s]\u001b[A\n",
            " 79%|███████▉  | 132126/166693 [01:24<00:23, 1500.04it/s]\u001b[A\n",
            " 79%|███████▉  | 132277/166693 [01:24<00:23, 1493.71it/s]\u001b[A\n",
            " 79%|███████▉  | 132428/166693 [01:24<00:22, 1496.46it/s]\u001b[A\n",
            " 80%|███████▉  | 132579/166693 [01:24<00:23, 1468.62it/s]\u001b[A\n",
            " 80%|███████▉  | 132733/166693 [01:24<00:22, 1488.43it/s]\u001b[A\n",
            " 80%|███████▉  | 132883/166693 [01:25<00:22, 1483.31it/s]\u001b[A\n",
            " 80%|███████▉  | 133032/166693 [01:25<00:23, 1460.44it/s]\u001b[A\n",
            " 80%|███████▉  | 133179/166693 [01:25<00:23, 1445.34it/s]\u001b[A\n",
            " 80%|███████▉  | 133324/166693 [01:25<00:23, 1435.15it/s]\u001b[A\n",
            " 80%|████████  | 133468/166693 [01:25<00:23, 1422.53it/s]\u001b[A\n",
            " 80%|████████  | 133611/166693 [01:25<00:23, 1420.13it/s]\u001b[A\n",
            " 80%|████████  | 133754/166693 [01:25<00:23, 1416.51it/s]\u001b[A\n",
            " 80%|████████  | 133900/166693 [01:25<00:22, 1428.76it/s]\u001b[A\n",
            " 80%|████████  | 134043/166693 [01:25<00:22, 1420.20it/s]\u001b[A\n",
            " 81%|████████  | 134189/166693 [01:25<00:22, 1430.31it/s]\u001b[A\n",
            " 81%|████████  | 134333/166693 [01:26<00:22, 1425.68it/s]\u001b[A\n",
            " 81%|████████  | 134478/166693 [01:26<00:22, 1431.96it/s]\u001b[A\n",
            " 81%|████████  | 134632/166693 [01:26<00:21, 1462.37it/s]\u001b[A\n",
            " 81%|████████  | 134779/166693 [01:26<00:22, 1418.70it/s]\u001b[A\n",
            " 81%|████████  | 134935/166693 [01:26<00:21, 1457.70it/s]\u001b[A\n",
            " 81%|████████  | 135082/166693 [01:26<00:21, 1455.12it/s]\u001b[A\n",
            " 81%|████████  | 135228/166693 [01:26<00:22, 1381.46it/s]\u001b[A\n",
            " 81%|████████  | 135368/166693 [01:26<00:22, 1377.10it/s]\u001b[A\n",
            " 81%|████████▏ | 135507/166693 [01:26<00:22, 1373.67it/s]\u001b[A\n",
            " 81%|████████▏ | 135645/166693 [01:27<00:23, 1339.47it/s]\u001b[A\n",
            " 81%|████████▏ | 135795/166693 [01:27<00:22, 1382.90it/s]\u001b[A\n",
            " 82%|████████▏ | 135935/166693 [01:27<00:22, 1343.74it/s]\u001b[A\n",
            " 82%|████████▏ | 136071/166693 [01:27<00:22, 1340.77it/s]\u001b[A\n",
            " 82%|████████▏ | 136221/166693 [01:27<00:22, 1382.71it/s]\u001b[A\n",
            " 82%|████████▏ | 136373/166693 [01:27<00:21, 1419.71it/s]\u001b[A\n",
            " 82%|████████▏ | 136516/166693 [01:27<00:21, 1389.81it/s]\u001b[A\n",
            " 82%|████████▏ | 136664/166693 [01:27<00:21, 1415.43it/s]\u001b[A\n",
            " 82%|████████▏ | 136807/166693 [01:27<00:21, 1419.59it/s]\u001b[A\n",
            " 82%|████████▏ | 136951/166693 [01:27<00:20, 1424.90it/s]\u001b[A\n",
            " 82%|████████▏ | 137100/166693 [01:28<00:20, 1443.22it/s]\u001b[A\n",
            " 82%|████████▏ | 137245/166693 [01:28<00:20, 1425.27it/s]\u001b[A\n",
            " 82%|████████▏ | 137394/166693 [01:28<00:20, 1441.42it/s]\u001b[A\n",
            " 83%|████████▎ | 137539/166693 [01:28<00:20, 1409.37it/s]\u001b[A\n",
            " 83%|████████▎ | 137681/166693 [01:28<00:20, 1410.17it/s]\u001b[A\n",
            " 83%|████████▎ | 137844/166693 [01:28<00:19, 1469.04it/s]\u001b[A\n",
            " 83%|████████▎ | 137992/166693 [01:28<00:19, 1452.70it/s]\u001b[A\n",
            " 83%|████████▎ | 138144/166693 [01:28<00:19, 1470.43it/s]\u001b[A\n",
            " 83%|████████▎ | 138292/166693 [01:28<00:19, 1448.17it/s]\u001b[A\n",
            " 83%|████████▎ | 138443/166693 [01:28<00:19, 1464.58it/s]\u001b[A\n",
            " 83%|████████▎ | 138590/166693 [01:29<00:19, 1462.65it/s]\u001b[A\n",
            " 83%|████████▎ | 138737/166693 [01:29<00:19, 1429.84it/s]\u001b[A\n",
            " 83%|████████▎ | 138881/166693 [01:29<00:19, 1423.37it/s]\u001b[A\n",
            " 83%|████████▎ | 139030/166693 [01:29<00:19, 1442.23it/s]\u001b[A\n",
            " 83%|████████▎ | 139184/166693 [01:29<00:18, 1469.61it/s]\u001b[A\n",
            " 84%|████████▎ | 139332/166693 [01:29<00:18, 1460.05it/s]\u001b[A\n",
            " 84%|████████▎ | 139479/166693 [01:29<00:18, 1435.60it/s]\u001b[A\n",
            " 84%|████████▍ | 139623/166693 [01:29<00:18, 1431.47it/s]\u001b[A\n",
            " 84%|████████▍ | 139767/166693 [01:29<00:19, 1391.94it/s]\u001b[A\n",
            " 84%|████████▍ | 139926/166693 [01:29<00:18, 1444.90it/s]\u001b[A\n",
            " 84%|████████▍ | 140074/166693 [01:30<00:18, 1454.51it/s]\u001b[A\n",
            " 84%|████████▍ | 140221/166693 [01:30<00:18, 1438.39it/s]\u001b[A\n",
            " 84%|████████▍ | 140366/166693 [01:30<00:18, 1439.03it/s]\u001b[A\n",
            " 84%|████████▍ | 140511/166693 [01:30<00:18, 1423.66it/s]\u001b[A\n",
            " 84%|████████▍ | 140656/166693 [01:30<00:18, 1430.95it/s]\u001b[A\n",
            " 84%|████████▍ | 140808/166693 [01:30<00:17, 1456.53it/s]\u001b[A\n",
            " 85%|████████▍ | 140956/166693 [01:30<00:17, 1460.50it/s]\u001b[A\n",
            " 85%|████████▍ | 141103/166693 [01:30<00:17, 1444.97it/s]\u001b[A\n",
            " 85%|████████▍ | 141248/166693 [01:30<00:17, 1446.47it/s]\u001b[A\n",
            " 85%|████████▍ | 141394/166693 [01:31<00:17, 1450.49it/s]\u001b[A\n",
            " 85%|████████▍ | 141540/166693 [01:31<00:17, 1414.50it/s]\u001b[A\n",
            " 85%|████████▍ | 141683/166693 [01:31<00:17, 1416.86it/s]\u001b[A\n",
            " 85%|████████▌ | 141825/166693 [01:31<00:17, 1404.06it/s]\u001b[A\n",
            " 85%|████████▌ | 141966/166693 [01:31<00:17, 1391.46it/s]\u001b[A\n",
            " 85%|████████▌ | 142107/166693 [01:31<00:17, 1396.69it/s]\u001b[A\n",
            " 85%|████████▌ | 142256/166693 [01:31<00:17, 1422.46it/s]\u001b[A\n",
            " 85%|████████▌ | 142399/166693 [01:31<00:17, 1403.29it/s]\u001b[A\n",
            " 86%|████████▌ | 142553/166693 [01:31<00:16, 1440.50it/s]\u001b[A\n",
            " 86%|████████▌ | 142698/166693 [01:31<00:16, 1431.90it/s]\u001b[A\n",
            " 86%|████████▌ | 142842/166693 [01:32<00:16, 1433.30it/s]\u001b[A\n",
            " 86%|████████▌ | 142986/166693 [01:32<00:16, 1410.65it/s]\u001b[A\n",
            " 86%|████████▌ | 143142/166693 [01:32<00:16, 1451.31it/s]\u001b[A\n",
            " 86%|████████▌ | 143288/166693 [01:32<00:16, 1428.97it/s]\u001b[A\n",
            " 86%|████████▌ | 143432/166693 [01:32<00:16, 1431.65it/s]\u001b[A\n",
            " 86%|████████▌ | 143576/166693 [01:32<00:16, 1407.38it/s]\u001b[A\n",
            " 86%|████████▌ | 143718/166693 [01:32<00:16, 1390.30it/s]\u001b[A\n",
            " 86%|████████▋ | 143861/166693 [01:32<00:16, 1401.01it/s]\u001b[A\n",
            " 86%|████████▋ | 144013/166693 [01:32<00:15, 1433.51it/s]\u001b[A\n",
            " 86%|████████▋ | 144157/166693 [01:32<00:15, 1413.50it/s]\u001b[A\n",
            " 87%|████████▋ | 144315/166693 [01:33<00:15, 1458.40it/s]\u001b[A\n",
            " 87%|████████▋ | 144462/166693 [01:33<00:15, 1421.29it/s]\u001b[A\n",
            " 87%|████████▋ | 144615/166693 [01:33<00:15, 1451.53it/s]\u001b[A\n",
            " 87%|████████▋ | 144761/166693 [01:33<00:15, 1452.65it/s]\u001b[A\n",
            " 87%|████████▋ | 144907/166693 [01:33<00:15, 1444.89it/s]\u001b[A\n",
            " 87%|████████▋ | 145052/166693 [01:33<00:15, 1441.01it/s]\u001b[A\n",
            " 87%|████████▋ | 145209/166693 [01:33<00:14, 1475.36it/s]\u001b[A\n",
            " 87%|████████▋ | 145357/166693 [01:33<00:14, 1466.70it/s]\u001b[A\n",
            " 87%|████████▋ | 145508/166693 [01:33<00:14, 1479.15it/s]\u001b[A\n",
            " 87%|████████▋ | 145657/166693 [01:33<00:14, 1481.16it/s]\u001b[A\n",
            " 87%|████████▋ | 145810/166693 [01:34<00:13, 1495.03it/s]\u001b[A\n",
            " 88%|████████▊ | 145960/166693 [01:34<00:14, 1448.68it/s]\u001b[A\n",
            " 88%|████████▊ | 146110/166693 [01:34<00:14, 1462.99it/s]\u001b[A\n",
            " 88%|████████▊ | 146257/166693 [01:34<00:14, 1439.86it/s]\u001b[A\n",
            " 88%|████████▊ | 146402/166693 [01:34<00:14, 1408.37it/s]\u001b[A\n",
            " 88%|████████▊ | 146556/166693 [01:34<00:13, 1444.02it/s]\u001b[A\n",
            " 88%|████████▊ | 146704/166693 [01:34<00:13, 1454.58it/s]\u001b[A\n",
            " 88%|████████▊ | 146850/166693 [01:34<00:13, 1455.83it/s]\u001b[A\n",
            " 88%|████████▊ | 146996/166693 [01:34<00:13, 1445.36it/s]\u001b[A\n",
            " 88%|████████▊ | 147142/166693 [01:35<00:13, 1448.66it/s]\u001b[A\n",
            " 88%|████████▊ | 147288/166693 [01:35<00:13, 1433.85it/s]\u001b[A\n",
            " 88%|████████▊ | 147432/166693 [01:35<00:13, 1410.56it/s]\u001b[A\n",
            " 89%|████████▊ | 147593/166693 [01:35<00:13, 1464.71it/s]\u001b[A\n",
            " 89%|████████▊ | 147741/166693 [01:35<00:12, 1468.04it/s]\u001b[A\n",
            " 89%|████████▊ | 147889/166693 [01:35<00:12, 1455.48it/s]\u001b[A\n",
            " 89%|████████▉ | 148035/166693 [01:35<00:12, 1444.86it/s]\u001b[A\n",
            " 89%|████████▉ | 148198/166693 [01:35<00:12, 1493.81it/s]\u001b[A\n",
            " 89%|████████▉ | 148348/166693 [01:35<00:12, 1446.67it/s]\u001b[A\n",
            " 89%|████████▉ | 148510/166693 [01:35<00:12, 1493.84it/s]\u001b[A\n",
            " 89%|████████▉ | 148661/166693 [01:36<00:12, 1486.35it/s]\u001b[A\n",
            " 89%|████████▉ | 148811/166693 [01:36<00:12, 1487.70it/s]\u001b[A\n",
            " 89%|████████▉ | 148961/166693 [01:36<00:11, 1481.89it/s]\u001b[A\n",
            " 89%|████████▉ | 149124/166693 [01:36<00:11, 1521.69it/s]\u001b[A\n",
            " 90%|████████▉ | 149277/166693 [01:36<00:11, 1478.30it/s]\u001b[A\n",
            " 90%|████████▉ | 149436/166693 [01:36<00:11, 1509.68it/s]\u001b[A\n",
            " 90%|████████▉ | 149590/166693 [01:36<00:11, 1515.93it/s]\u001b[A\n",
            " 90%|████████▉ | 149743/166693 [01:36<00:11, 1510.76it/s]\u001b[A\n",
            " 90%|████████▉ | 149895/166693 [01:36<00:11, 1511.36it/s]\u001b[A\n",
            " 90%|█████████ | 150047/166693 [01:36<00:11, 1480.56it/s]\u001b[A\n",
            " 90%|█████████ | 150201/166693 [01:37<00:11, 1497.81it/s]\u001b[A\n",
            " 90%|█████████ | 150352/166693 [01:37<00:11, 1457.22it/s]\u001b[A\n",
            " 90%|█████████ | 150519/166693 [01:37<00:10, 1512.11it/s]\u001b[A\n",
            " 90%|█████████ | 150672/166693 [01:37<00:10, 1494.61it/s]\u001b[A\n",
            " 90%|█████████ | 150823/166693 [01:37<00:10, 1485.44it/s]\u001b[A\n",
            " 91%|█████████ | 150974/166693 [01:37<00:10, 1492.47it/s]\u001b[A\n",
            " 91%|█████████ | 151124/166693 [01:37<00:10, 1489.27it/s]\u001b[A\n",
            " 91%|█████████ | 151277/166693 [01:37<00:10, 1500.87it/s]\u001b[A\n",
            " 91%|█████████ | 151435/166693 [01:37<00:10, 1522.20it/s]\u001b[A\n",
            " 91%|█████████ | 151588/166693 [01:37<00:10, 1481.28it/s]\u001b[A\n",
            " 91%|█████████ | 151737/166693 [01:38<00:10, 1456.01it/s]\u001b[A\n",
            " 91%|█████████ | 151883/166693 [01:38<00:10, 1452.21it/s]\u001b[A\n",
            " 91%|█████████ | 152029/166693 [01:38<00:10, 1447.98it/s]\u001b[A\n",
            " 91%|█████████▏| 152189/166693 [01:38<00:09, 1489.13it/s]\u001b[A\n",
            " 91%|█████████▏| 152339/166693 [01:38<00:10, 1431.77it/s]\u001b[A\n",
            " 91%|█████████▏| 152502/166693 [01:38<00:09, 1484.03it/s]\u001b[A\n",
            " 92%|█████████▏| 152652/166693 [01:38<00:09, 1484.10it/s]\u001b[A\n",
            " 92%|█████████▏| 152802/166693 [01:38<00:09, 1455.60it/s]\u001b[A\n",
            " 92%|█████████▏| 152961/166693 [01:38<00:09, 1492.99it/s]\u001b[A\n",
            " 92%|█████████▏| 153111/166693 [01:39<00:09, 1421.10it/s]\u001b[A\n",
            " 92%|█████████▏| 153262/166693 [01:39<00:09, 1445.82it/s]\u001b[A\n",
            " 92%|█████████▏| 153419/166693 [01:39<00:08, 1480.88it/s]\u001b[A\n",
            " 92%|█████████▏| 153576/166693 [01:39<00:08, 1505.60it/s]\u001b[A\n",
            " 92%|█████████▏| 153728/166693 [01:39<00:08, 1490.18it/s]\u001b[A\n",
            " 92%|█████████▏| 153878/166693 [01:39<00:08, 1473.56it/s]\u001b[A\n",
            " 92%|█████████▏| 154031/166693 [01:39<00:08, 1489.82it/s]\u001b[A\n",
            " 92%|█████████▏| 154181/166693 [01:39<00:08, 1475.79it/s]\u001b[A\n",
            " 93%|█████████▎| 154339/166693 [01:39<00:08, 1504.96it/s]\u001b[A\n",
            " 93%|█████████▎| 154490/166693 [01:39<00:08, 1465.38it/s]\u001b[A\n",
            " 93%|█████████▎| 154654/166693 [01:40<00:07, 1513.40it/s]\u001b[A\n",
            " 93%|█████████▎| 154807/166693 [01:40<00:08, 1482.30it/s]\u001b[A\n",
            " 93%|█████████▎| 154956/166693 [01:40<00:07, 1472.12it/s]\u001b[A\n",
            " 93%|█████████▎| 155108/166693 [01:40<00:07, 1485.05it/s]\u001b[A\n",
            " 93%|█████████▎| 155258/166693 [01:40<00:07, 1488.73it/s]\u001b[A\n",
            " 93%|█████████▎| 155408/166693 [01:40<00:07, 1454.88it/s]\u001b[A\n",
            " 93%|█████████▎| 155554/166693 [01:40<00:07, 1448.90it/s]\u001b[A\n",
            " 93%|█████████▎| 155701/166693 [01:40<00:07, 1453.25it/s]\u001b[A\n",
            " 93%|█████████▎| 155847/166693 [01:40<00:07, 1455.25it/s]\u001b[A\n",
            " 94%|█████████▎| 156003/166693 [01:40<00:07, 1482.93it/s]\u001b[A\n",
            " 94%|█████████▎| 156152/166693 [01:41<00:07, 1453.29it/s]\u001b[A\n",
            " 94%|█████████▍| 156298/166693 [01:41<00:07, 1429.90it/s]\u001b[A\n",
            " 94%|█████████▍| 156452/166693 [01:41<00:07, 1460.26it/s]\u001b[A\n",
            " 94%|█████████▍| 156599/166693 [01:41<00:07, 1439.17it/s]\u001b[A\n",
            " 94%|█████████▍| 156770/166693 [01:41<00:06, 1508.86it/s]\u001b[A\n",
            " 94%|█████████▍| 156922/166693 [01:41<00:06, 1486.86it/s]\u001b[A\n",
            " 94%|█████████▍| 157074/166693 [01:41<00:06, 1496.23it/s]\u001b[A\n",
            " 94%|█████████▍| 157225/166693 [01:41<00:06, 1482.13it/s]\u001b[A\n",
            " 94%|█████████▍| 157376/166693 [01:41<00:06, 1490.20it/s]\u001b[A\n",
            " 95%|█████████▍| 157538/166693 [01:42<00:06, 1525.68it/s]\u001b[A\n",
            " 95%|█████████▍| 157692/166693 [01:42<00:05, 1524.66it/s]\u001b[A\n",
            " 95%|█████████▍| 157854/166693 [01:42<00:05, 1550.79it/s]\u001b[A\n",
            " 95%|█████████▍| 158010/166693 [01:42<00:05, 1547.26it/s]\u001b[A\n",
            " 95%|█████████▍| 158183/166693 [01:42<00:05, 1596.60it/s]\u001b[A\n",
            " 95%|█████████▍| 158344/166693 [01:42<00:05, 1580.65it/s]\u001b[A\n",
            " 95%|█████████▌| 158503/166693 [01:42<00:05, 1551.00it/s]\u001b[A\n",
            " 95%|█████████▌| 158659/166693 [01:42<00:05, 1471.37it/s]\u001b[A\n",
            " 95%|█████████▌| 158808/166693 [01:42<00:05, 1445.55it/s]\u001b[A\n",
            " 95%|█████████▌| 158957/166693 [01:42<00:05, 1458.30it/s]\u001b[A\n",
            " 95%|█████████▌| 159104/166693 [01:43<00:05, 1451.09it/s]\u001b[A\n",
            " 96%|█████████▌| 159256/166693 [01:43<00:05, 1468.56it/s]\u001b[A\n",
            " 96%|█████████▌| 159408/166693 [01:43<00:04, 1483.46it/s]\u001b[A\n",
            " 96%|█████████▌| 159564/166693 [01:43<00:04, 1503.86it/s]\u001b[A\n",
            " 96%|█████████▌| 159715/166693 [01:43<00:04, 1477.61it/s]\u001b[A\n",
            " 96%|█████████▌| 159864/166693 [01:43<00:04, 1466.50it/s]\u001b[A\n",
            " 96%|█████████▌| 160011/166693 [01:43<00:04, 1463.69it/s]\u001b[A\n",
            " 96%|█████████▌| 160158/166693 [01:43<00:04, 1435.27it/s]\u001b[A\n",
            " 96%|█████████▌| 160324/166693 [01:43<00:04, 1495.44it/s]\u001b[A\n",
            " 96%|█████████▋| 160475/166693 [01:43<00:04, 1466.96it/s]\u001b[A\n",
            " 96%|█████████▋| 160623/166693 [01:44<00:04, 1450.03it/s]\u001b[A\n",
            " 96%|█████████▋| 160769/166693 [01:44<00:04, 1444.38it/s]\u001b[A\n",
            " 97%|█████████▋| 160923/166693 [01:44<00:03, 1470.60it/s]\u001b[A\n",
            " 97%|█████████▋| 161079/166693 [01:44<00:03, 1494.11it/s]\u001b[A\n",
            " 97%|█████████▋| 161236/166693 [01:44<00:03, 1514.50it/s]\u001b[A\n",
            " 97%|█████████▋| 161388/166693 [01:44<00:03, 1461.06it/s]\u001b[A\n",
            " 97%|█████████▋| 161535/166693 [01:44<00:03, 1449.99it/s]\u001b[A\n",
            " 97%|█████████▋| 161695/166693 [01:44<00:03, 1490.44it/s]\u001b[A\n",
            " 97%|█████████▋| 161845/166693 [01:44<00:03, 1483.23it/s]\u001b[A\n",
            " 97%|█████████▋| 161994/166693 [01:45<00:03, 1454.62it/s]\u001b[A\n",
            " 97%|█████████▋| 162140/166693 [01:45<00:03, 1454.23it/s]\u001b[A\n",
            " 97%|█████████▋| 162286/166693 [01:45<00:03, 1423.53it/s]\u001b[A\n",
            " 97%|█████████▋| 162441/166693 [01:45<00:02, 1456.60it/s]\u001b[A\n",
            " 98%|█████████▊| 162592/166693 [01:45<00:02, 1470.69it/s]\u001b[A\n",
            " 98%|█████████▊| 162756/166693 [01:45<00:02, 1513.92it/s]\u001b[A\n",
            " 98%|█████████▊| 162908/166693 [01:45<00:02, 1498.78it/s]\u001b[A\n",
            " 98%|█████████▊| 163060/166693 [01:45<00:02, 1504.42it/s]\u001b[A\n",
            " 98%|█████████▊| 163211/166693 [01:45<00:02, 1501.89it/s]\u001b[A\n",
            " 98%|█████████▊| 163362/166693 [01:45<00:02, 1493.52it/s]\u001b[A\n",
            " 98%|█████████▊| 163527/166693 [01:46<00:02, 1533.94it/s]\u001b[A\n",
            " 98%|█████████▊| 163681/166693 [01:46<00:02, 1503.68it/s]\u001b[A\n",
            " 98%|█████████▊| 163835/166693 [01:46<00:01, 1512.74it/s]\u001b[A\n",
            " 98%|█████████▊| 163987/166693 [01:46<00:01, 1511.30it/s]\u001b[A\n",
            " 98%|█████████▊| 164139/166693 [01:46<00:01, 1485.69it/s]\u001b[A\n",
            " 99%|█████████▊| 164292/166693 [01:46<00:01, 1497.12it/s]\u001b[A\n",
            " 99%|█████████▊| 164442/166693 [01:46<00:01, 1474.07it/s]\u001b[A\n",
            " 99%|█████████▊| 164593/166693 [01:46<00:01, 1484.43it/s]\u001b[A\n",
            " 99%|█████████▉| 164753/166693 [01:46<00:01, 1516.72it/s]\u001b[A\n",
            " 99%|█████████▉| 164905/166693 [01:46<00:01, 1467.51it/s]\u001b[A\n",
            " 99%|█████████▉| 165053/166693 [01:47<00:01, 1462.31it/s]\u001b[A\n",
            " 99%|█████████▉| 165200/166693 [01:47<00:01, 1460.10it/s]\u001b[A\n",
            " 99%|█████████▉| 165348/166693 [01:47<00:00, 1464.21it/s]\u001b[A\n",
            " 99%|█████████▉| 165495/166693 [01:47<00:00, 1453.55it/s]\u001b[A\n",
            " 99%|█████████▉| 165648/166693 [01:47<00:00, 1475.65it/s]\u001b[A\n",
            " 99%|█████████▉| 165796/166693 [01:47<00:00, 1473.02it/s]\u001b[A\n",
            "100%|█████████▉| 165944/166693 [01:47<00:00, 1460.54it/s]\u001b[A\n",
            "100%|█████████▉| 166102/166693 [01:47<00:00, 1493.36it/s]\u001b[A\n",
            "100%|█████████▉| 166252/166693 [01:47<00:00, 1478.50it/s]\u001b[A\n",
            "100%|█████████▉| 166401/166693 [01:47<00:00, 1481.02it/s]\u001b[A\n",
            "100%|██████████| 166693/166693 [01:48<00:00, 1540.75it/s]\n"
          ],
          "name": "stderr"
        }
      ]
    },
    {
      "cell_type": "code",
      "metadata": {
        "colab": {
          "base_uri": "https://localhost:8080/"
        },
        "id": "TGbOT4XBjxm7",
        "outputId": "a1e64a00-05f2-4e2d-dc08-83040fd81e0d"
      },
      "source": [
        "test_df['search_term_tokens'] = test_df['search_term'].progress_apply(lambda text: tokenize(text, MAX_SEARCH_TERM_LENGTH))"
      ],
      "execution_count": 37,
      "outputs": [
        {
          "output_type": "stream",
          "text": [
            "\n",
            "  0%|          | 0/166693 [00:00<?, ?it/s]\u001b[A\n",
            "  0%|          | 355/166693 [00:00<00:46, 3549.64it/s]\u001b[A\n",
            "  0%|          | 685/166693 [00:00<00:47, 3468.93it/s]\u001b[A\n",
            "  1%|          | 1006/166693 [00:00<00:48, 3385.35it/s]\u001b[A\n",
            "  1%|          | 1364/166693 [00:00<00:48, 3438.93it/s]\u001b[A\n",
            "  1%|          | 1680/166693 [00:00<00:49, 3349.69it/s]\u001b[A\n",
            "  1%|          | 2015/166693 [00:00<00:49, 3348.51it/s]\u001b[A\n",
            "  1%|▏         | 2354/166693 [00:00<00:48, 3358.58it/s]\u001b[A\n",
            "  2%|▏         | 2700/166693 [00:00<00:48, 3386.76it/s]\u001b[A\n",
            "  2%|▏         | 3023/166693 [00:00<00:49, 3338.13it/s]\u001b[A\n",
            "  2%|▏         | 3368/166693 [00:01<00:48, 3368.99it/s]\u001b[A\n",
            "  2%|▏         | 3712/166693 [00:01<00:48, 3389.59it/s]\u001b[A\n",
            "  2%|▏         | 4059/166693 [00:01<00:47, 3412.08it/s]\u001b[A\n",
            "  3%|▎         | 4425/166693 [00:01<00:46, 3482.31it/s]\u001b[A\n",
            "  3%|▎         | 4782/166693 [00:01<00:46, 3507.56it/s]\u001b[A\n",
            "  3%|▎         | 5131/166693 [00:01<00:47, 3379.75it/s]\u001b[A\n",
            "  3%|▎         | 5491/166693 [00:01<00:46, 3441.98it/s]\u001b[A\n",
            "  4%|▎         | 5852/166693 [00:01<00:46, 3490.64it/s]\u001b[A\n",
            "  4%|▎         | 6208/166693 [00:01<00:45, 3510.38it/s]\u001b[A\n",
            "  4%|▍         | 6560/166693 [00:01<00:46, 3443.81it/s]\u001b[A\n",
            "  4%|▍         | 6905/166693 [00:02<00:46, 3439.78it/s]\u001b[A\n",
            "  4%|▍         | 7250/166693 [00:02<00:46, 3437.58it/s]\u001b[A\n",
            "  5%|▍         | 7616/166693 [00:02<00:45, 3500.92it/s]\u001b[A\n",
            "  5%|▍         | 7967/166693 [00:02<00:45, 3502.01it/s]\u001b[A\n",
            "  5%|▍         | 8318/166693 [00:02<00:45, 3456.66it/s]\u001b[A\n",
            "  5%|▌         | 8665/166693 [00:02<00:48, 3261.10it/s]\u001b[A\n",
            "  5%|▌         | 8994/166693 [00:02<00:48, 3256.69it/s]\u001b[A\n",
            "  6%|▌         | 9322/166693 [00:02<00:48, 3254.32it/s]\u001b[A\n",
            "  6%|▌         | 9649/166693 [00:02<00:48, 3245.29it/s]\u001b[A\n",
            "  6%|▌         | 9975/166693 [00:02<00:48, 3229.96it/s]\u001b[A\n",
            "  6%|▌         | 10301/166693 [00:03<00:48, 3238.41it/s]\u001b[A\n",
            "  6%|▋         | 10652/166693 [00:03<00:47, 3314.90it/s]\u001b[A\n",
            "  7%|▋         | 10985/166693 [00:03<00:47, 3289.37it/s]\u001b[A\n",
            "  7%|▋         | 11315/166693 [00:03<00:47, 3276.58it/s]\u001b[A\n",
            "  7%|▋         | 11655/166693 [00:03<00:46, 3311.38it/s]\u001b[A\n",
            "  7%|▋         | 11987/166693 [00:03<00:47, 3286.10it/s]\u001b[A\n",
            "  7%|▋         | 12329/166693 [00:03<00:46, 3323.50it/s]\u001b[A\n",
            "  8%|▊         | 12662/166693 [00:03<00:46, 3305.05it/s]\u001b[A\n",
            "  8%|▊         | 13009/166693 [00:03<00:45, 3352.62it/s]\u001b[A\n",
            "  8%|▊         | 13345/166693 [00:03<00:46, 3323.74it/s]\u001b[A\n",
            "  8%|▊         | 13682/166693 [00:04<00:45, 3334.61it/s]\u001b[A\n",
            "  8%|▊         | 14016/166693 [00:04<00:45, 3335.90it/s]\u001b[A\n",
            "  9%|▊         | 14350/166693 [00:04<00:45, 3334.26it/s]\u001b[A\n",
            "  9%|▉         | 14707/166693 [00:04<00:44, 3400.63it/s]\u001b[A\n",
            "  9%|▉         | 15048/166693 [00:04<00:46, 3238.78it/s]\u001b[A\n",
            "  9%|▉         | 15374/166693 [00:04<00:47, 3157.51it/s]\u001b[A\n",
            "  9%|▉         | 15694/166693 [00:04<00:47, 3168.52it/s]\u001b[A\n",
            " 10%|▉         | 16028/166693 [00:04<00:46, 3217.93it/s]\u001b[A\n",
            " 10%|▉         | 16354/166693 [00:04<00:46, 3228.79it/s]\u001b[A\n",
            " 10%|█         | 16678/166693 [00:05<00:47, 3130.08it/s]\u001b[A\n",
            " 10%|█         | 17008/166693 [00:05<00:47, 3176.95it/s]\u001b[A\n",
            " 10%|█         | 17338/166693 [00:05<00:46, 3210.71it/s]\u001b[A\n",
            " 11%|█         | 17660/166693 [00:05<00:46, 3203.78it/s]\u001b[A\n",
            " 11%|█         | 17986/166693 [00:05<00:46, 3219.97it/s]\u001b[A\n",
            " 11%|█         | 18323/166693 [00:05<00:45, 3260.18it/s]\u001b[A\n",
            " 11%|█         | 18650/166693 [00:05<00:46, 3214.56it/s]\u001b[A\n",
            " 11%|█▏        | 18993/166693 [00:05<00:45, 3275.51it/s]\u001b[A\n",
            " 12%|█▏        | 19322/166693 [00:05<00:45, 3272.47it/s]\u001b[A\n",
            " 12%|█▏        | 19650/166693 [00:05<00:45, 3204.73it/s]\u001b[A\n",
            " 12%|█▏        | 19988/166693 [00:06<00:45, 3254.28it/s]\u001b[A\n",
            " 12%|█▏        | 20320/166693 [00:06<00:44, 3272.56it/s]\u001b[A\n",
            " 12%|█▏        | 20653/166693 [00:06<00:44, 3289.03it/s]\u001b[A\n",
            " 13%|█▎        | 20992/166693 [00:06<00:43, 3318.10it/s]\u001b[A\n",
            " 13%|█▎        | 21329/166693 [00:06<00:43, 3331.61it/s]\u001b[A\n",
            " 13%|█▎        | 21663/166693 [00:06<00:43, 3303.91it/s]\u001b[A\n",
            " 13%|█▎        | 21994/166693 [00:06<00:44, 3239.82it/s]\u001b[A\n",
            " 13%|█▎        | 22322/166693 [00:06<00:44, 3251.00it/s]\u001b[A\n",
            " 14%|█▎        | 22671/166693 [00:06<00:43, 3318.63it/s]\u001b[A\n",
            " 14%|█▍        | 23004/166693 [00:06<00:43, 3301.71it/s]\u001b[A\n",
            " 14%|█▍        | 23335/166693 [00:07<00:43, 3282.68it/s]\u001b[A\n",
            " 14%|█▍        | 23678/166693 [00:07<00:43, 3322.91it/s]\u001b[A\n",
            " 14%|█▍        | 24011/166693 [00:07<00:43, 3273.34it/s]\u001b[A\n",
            " 15%|█▍        | 24344/166693 [00:07<00:43, 3289.22it/s]\u001b[A\n",
            " 15%|█▍        | 24674/166693 [00:07<00:43, 3288.50it/s]\u001b[A\n",
            " 15%|█▌        | 25004/166693 [00:07<00:43, 3277.91it/s]\u001b[A\n",
            " 15%|█▌        | 25334/166693 [00:07<00:43, 3283.28it/s]\u001b[A\n",
            " 15%|█▌        | 25663/166693 [00:07<00:43, 3279.39it/s]\u001b[A\n",
            " 16%|█▌        | 25992/166693 [00:07<00:43, 3253.63it/s]\u001b[A\n",
            " 16%|█▌        | 26318/166693 [00:07<00:44, 3182.82it/s]\u001b[A\n",
            " 16%|█▌        | 26665/166693 [00:08<00:42, 3262.36it/s]\u001b[A\n",
            " 16%|█▌        | 26998/166693 [00:08<00:42, 3281.68it/s]\u001b[A\n",
            " 16%|█▋        | 27338/166693 [00:08<00:42, 3314.55it/s]\u001b[A\n",
            " 17%|█▋        | 27671/166693 [00:08<00:41, 3318.68it/s]\u001b[A\n",
            " 17%|█▋        | 28004/166693 [00:08<00:41, 3316.55it/s]\u001b[A\n",
            " 17%|█▋        | 28336/166693 [00:08<00:42, 3289.75it/s]\u001b[A\n",
            " 17%|█▋        | 28666/166693 [00:08<00:42, 3219.82it/s]\u001b[A\n",
            " 17%|█▋        | 29026/166693 [00:08<00:41, 3323.49it/s]\u001b[A\n",
            " 18%|█▊        | 29360/166693 [00:08<00:42, 3267.31it/s]\u001b[A\n",
            " 18%|█▊        | 29688/166693 [00:08<00:42, 3245.14it/s]\u001b[A\n",
            " 18%|█▊        | 30022/166693 [00:09<00:41, 3272.29it/s]\u001b[A\n",
            " 18%|█▊        | 30369/166693 [00:09<00:41, 3324.59it/s]\u001b[A\n",
            " 18%|█▊        | 30703/166693 [00:09<00:42, 3205.93it/s]\u001b[A\n",
            " 19%|█▊        | 31044/166693 [00:09<00:41, 3262.61it/s]\u001b[A\n",
            " 19%|█▉        | 31374/166693 [00:09<00:41, 3273.13it/s]\u001b[A\n",
            " 19%|█▉        | 31703/166693 [00:09<00:44, 3062.22it/s]\u001b[A\n",
            " 19%|█▉        | 32032/166693 [00:09<00:43, 3126.60it/s]\u001b[A\n",
            " 19%|█▉        | 32376/166693 [00:09<00:41, 3213.37it/s]\u001b[A\n",
            " 20%|█▉        | 32700/166693 [00:09<00:41, 3205.45it/s]\u001b[A\n",
            " 20%|█▉        | 33023/166693 [00:10<00:41, 3195.33it/s]\u001b[A\n",
            " 20%|██        | 33354/166693 [00:10<00:41, 3226.75it/s]\u001b[A\n",
            " 20%|██        | 33678/166693 [00:10<00:41, 3227.42it/s]\u001b[A\n",
            " 20%|██        | 34008/166693 [00:10<00:40, 3247.80it/s]\u001b[A\n",
            " 21%|██        | 34343/166693 [00:10<00:40, 3276.91it/s]\u001b[A\n",
            " 21%|██        | 34672/166693 [00:10<00:40, 3254.74it/s]\u001b[A\n",
            " 21%|██        | 34998/166693 [00:10<00:41, 3192.55it/s]\u001b[A\n",
            " 21%|██        | 35330/166693 [00:10<00:40, 3228.05it/s]\u001b[A\n",
            " 21%|██▏       | 35655/166693 [00:10<00:40, 3233.12it/s]\u001b[A\n",
            " 22%|██▏       | 35979/166693 [00:10<00:42, 3109.66it/s]\u001b[A\n",
            " 22%|██▏       | 36304/166693 [00:11<00:41, 3150.12it/s]\u001b[A\n",
            " 22%|██▏       | 36620/166693 [00:11<00:42, 3092.21it/s]\u001b[A\n",
            " 22%|██▏       | 36966/166693 [00:11<00:40, 3192.53it/s]\u001b[A\n",
            " 22%|██▏       | 37288/166693 [00:11<00:40, 3199.93it/s]\u001b[A\n",
            " 23%|██▎       | 37616/166693 [00:11<00:40, 3222.88it/s]\u001b[A\n",
            " 23%|██▎       | 37948/166693 [00:11<00:39, 3251.08it/s]\u001b[A\n",
            " 23%|██▎       | 38274/166693 [00:11<00:40, 3196.41it/s]\u001b[A\n",
            " 23%|██▎       | 38606/166693 [00:11<00:39, 3231.03it/s]\u001b[A\n",
            " 23%|██▎       | 38950/166693 [00:11<00:38, 3290.09it/s]\u001b[A\n",
            " 24%|██▎       | 39280/166693 [00:11<00:39, 3207.02it/s]\u001b[A\n",
            " 24%|██▍       | 39626/166693 [00:12<00:38, 3276.59it/s]\u001b[A\n",
            " 24%|██▍       | 39975/166693 [00:12<00:37, 3336.70it/s]\u001b[A\n",
            " 24%|██▍       | 40310/166693 [00:12<00:37, 3336.56it/s]\u001b[A\n",
            " 24%|██▍       | 40655/166693 [00:12<00:37, 3367.59it/s]\u001b[A\n",
            " 25%|██▍       | 40993/166693 [00:12<00:37, 3318.88it/s]\u001b[A\n",
            " 25%|██▍       | 41326/166693 [00:12<00:38, 3244.21it/s]\u001b[A\n",
            " 25%|██▍       | 41652/166693 [00:12<00:39, 3167.94it/s]\u001b[A\n",
            " 25%|██▌       | 41970/166693 [00:12<00:39, 3147.54it/s]\u001b[A\n",
            " 25%|██▌       | 42292/166693 [00:12<00:39, 3168.44it/s]\u001b[A\n",
            " 26%|██▌       | 42610/166693 [00:12<00:39, 3125.48it/s]\u001b[A\n",
            " 26%|██▌       | 42930/166693 [00:13<00:39, 3146.96it/s]\u001b[A\n",
            " 26%|██▌       | 43268/166693 [00:13<00:38, 3213.37it/s]\u001b[A\n",
            " 26%|██▌       | 43590/166693 [00:13<00:38, 3210.38it/s]\u001b[A\n",
            " 26%|██▋       | 43929/166693 [00:13<00:37, 3260.49it/s]\u001b[A\n",
            " 27%|██▋       | 44256/166693 [00:13<00:38, 3214.63it/s]\u001b[A\n",
            " 27%|██▋       | 44601/166693 [00:13<00:37, 3280.02it/s]\u001b[A\n",
            " 27%|██▋       | 44930/166693 [00:13<00:38, 3199.60it/s]\u001b[A\n",
            " 27%|██▋       | 45261/166693 [00:13<00:37, 3230.91it/s]\u001b[A\n",
            " 27%|██▋       | 45585/166693 [00:13<00:40, 2991.80it/s]\u001b[A\n",
            " 28%|██▊       | 45903/166693 [00:14<00:39, 3045.29it/s]\u001b[A\n",
            " 28%|██▊       | 46236/166693 [00:14<00:38, 3123.39it/s]\u001b[A\n",
            " 28%|██▊       | 46586/166693 [00:14<00:37, 3227.57it/s]\u001b[A\n",
            " 28%|██▊       | 46926/166693 [00:14<00:36, 3276.41it/s]\u001b[A\n",
            " 28%|██▊       | 47256/166693 [00:14<00:36, 3280.26it/s]\u001b[A\n",
            " 29%|██▊       | 47586/166693 [00:14<00:36, 3263.23it/s]\u001b[A\n",
            " 29%|██▊       | 47914/166693 [00:14<00:36, 3259.88it/s]\u001b[A\n",
            " 29%|██▉       | 48241/166693 [00:14<00:37, 3178.52it/s]\u001b[A\n",
            " 29%|██▉       | 48578/166693 [00:14<00:36, 3233.23it/s]\u001b[A\n",
            " 29%|██▉       | 48903/166693 [00:14<00:37, 3158.24it/s]\u001b[A\n",
            " 30%|██▉       | 49248/166693 [00:15<00:36, 3239.60it/s]\u001b[A\n",
            " 30%|██▉       | 49574/166693 [00:15<00:36, 3217.32it/s]\u001b[A\n",
            " 30%|██▉       | 49909/166693 [00:15<00:35, 3254.41it/s]\u001b[A\n",
            " 30%|███       | 50243/166693 [00:15<00:35, 3277.79it/s]\u001b[A\n",
            " 30%|███       | 50590/166693 [00:15<00:34, 3331.44it/s]\u001b[A\n",
            " 31%|███       | 50924/166693 [00:15<00:34, 3315.01it/s]\u001b[A\n",
            " 31%|███       | 51256/166693 [00:15<00:35, 3216.95it/s]\u001b[A\n",
            " 31%|███       | 51579/166693 [00:15<00:36, 3167.35it/s]\u001b[A\n",
            " 31%|███       | 51913/166693 [00:15<00:35, 3216.25it/s]\u001b[A\n",
            " 31%|███▏      | 52236/166693 [00:15<00:35, 3212.15it/s]\u001b[A\n",
            " 32%|███▏      | 52577/166693 [00:16<00:34, 3267.54it/s]\u001b[A\n",
            " 32%|███▏      | 52905/166693 [00:16<00:35, 3232.08it/s]\u001b[A\n",
            " 32%|███▏      | 53246/166693 [00:16<00:34, 3282.22it/s]\u001b[A\n",
            " 32%|███▏      | 53575/166693 [00:16<00:35, 3206.08it/s]\u001b[A\n",
            " 32%|███▏      | 53903/166693 [00:16<00:34, 3226.54it/s]\u001b[A\n",
            " 33%|███▎      | 54227/166693 [00:16<00:35, 3213.15it/s]\u001b[A\n",
            " 33%|███▎      | 54549/166693 [00:16<00:36, 3106.79it/s]\u001b[A\n",
            " 33%|███▎      | 54862/166693 [00:16<00:35, 3112.59it/s]\u001b[A\n",
            " 33%|███▎      | 55203/166693 [00:16<00:34, 3194.45it/s]\u001b[A\n",
            " 33%|███▎      | 55546/166693 [00:17<00:34, 3261.60it/s]\u001b[A\n",
            " 34%|███▎      | 55883/166693 [00:17<00:33, 3291.42it/s]\u001b[A\n",
            " 34%|███▎      | 56217/166693 [00:17<00:33, 3305.66it/s]\u001b[A\n",
            " 34%|███▍      | 56559/166693 [00:17<00:32, 3337.62it/s]\u001b[A\n",
            " 34%|███▍      | 56894/166693 [00:17<00:33, 3250.52it/s]\u001b[A\n",
            " 34%|███▍      | 57220/166693 [00:17<00:33, 3231.87it/s]\u001b[A\n",
            " 35%|███▍      | 57560/166693 [00:17<00:33, 3280.43it/s]\u001b[A\n",
            " 35%|███▍      | 57889/166693 [00:17<00:34, 3191.59it/s]\u001b[A\n",
            " 35%|███▍      | 58224/166693 [00:17<00:33, 3235.88it/s]\u001b[A\n",
            " 35%|███▌      | 58560/166693 [00:17<00:33, 3269.35it/s]\u001b[A\n",
            " 35%|███▌      | 58895/166693 [00:18<00:32, 3291.83it/s]\u001b[A\n",
            " 36%|███▌      | 59234/166693 [00:18<00:32, 3319.14it/s]\u001b[A\n",
            " 36%|███▌      | 59579/166693 [00:18<00:31, 3357.22it/s]\u001b[A\n",
            " 36%|███▌      | 59916/166693 [00:18<00:31, 3360.23it/s]\u001b[A\n",
            " 36%|███▌      | 60254/166693 [00:18<00:31, 3366.02it/s]\u001b[A\n",
            " 36%|███▋      | 60591/166693 [00:18<00:32, 3288.06it/s]\u001b[A\n",
            " 37%|███▋      | 60921/166693 [00:18<00:32, 3245.11it/s]\u001b[A\n",
            " 37%|███▋      | 61247/166693 [00:18<00:33, 3156.35it/s]\u001b[A\n",
            " 37%|███▋      | 61585/166693 [00:18<00:32, 3219.74it/s]\u001b[A\n",
            " 37%|███▋      | 61921/166693 [00:18<00:32, 3258.66it/s]\u001b[A\n",
            " 37%|███▋      | 62268/166693 [00:19<00:31, 3317.77it/s]\u001b[A\n",
            " 38%|███▊      | 62601/166693 [00:19<00:31, 3317.28it/s]\u001b[A\n",
            " 38%|███▊      | 62934/166693 [00:19<00:31, 3280.85it/s]\u001b[A\n",
            " 38%|███▊      | 63273/166693 [00:19<00:31, 3310.54it/s]\u001b[A\n",
            " 38%|███▊      | 63605/166693 [00:19<00:31, 3247.86it/s]\u001b[A\n",
            " 38%|███▊      | 63935/166693 [00:19<00:31, 3262.79it/s]\u001b[A\n",
            " 39%|███▊      | 64264/166693 [00:19<00:31, 3270.27it/s]\u001b[A\n",
            " 39%|███▊      | 64592/166693 [00:19<00:32, 3160.81it/s]\u001b[A\n",
            " 39%|███▉      | 64932/166693 [00:19<00:31, 3228.39it/s]\u001b[A\n",
            " 39%|███▉      | 65256/166693 [00:19<00:31, 3221.95it/s]\u001b[A\n",
            " 39%|███▉      | 65612/166693 [00:20<00:30, 3314.49it/s]\u001b[A\n",
            " 40%|███▉      | 65945/166693 [00:20<00:31, 3236.01it/s]\u001b[A\n",
            " 40%|███▉      | 66270/166693 [00:20<00:31, 3236.14it/s]\u001b[A\n",
            " 40%|███▉      | 66595/166693 [00:20<00:31, 3205.15it/s]\u001b[A\n",
            " 40%|████      | 66921/166693 [00:20<00:30, 3219.36it/s]\u001b[A\n",
            " 40%|████      | 67244/166693 [00:20<00:31, 3187.30it/s]\u001b[A\n",
            " 41%|████      | 67574/166693 [00:20<00:30, 3220.22it/s]\u001b[A\n",
            " 41%|████      | 67897/166693 [00:20<00:31, 3173.75it/s]\u001b[A\n",
            " 41%|████      | 68234/166693 [00:20<00:30, 3228.53it/s]\u001b[A\n",
            " 41%|████      | 68563/166693 [00:20<00:30, 3246.03it/s]\u001b[A\n",
            " 41%|████▏     | 68906/166693 [00:21<00:29, 3297.28it/s]\u001b[A\n",
            " 42%|████▏     | 69255/166693 [00:21<00:29, 3351.95it/s]\u001b[A\n",
            " 42%|████▏     | 69591/166693 [00:21<00:29, 3329.12it/s]\u001b[A\n",
            " 42%|████▏     | 69925/166693 [00:21<00:29, 3250.89it/s]\u001b[A\n",
            " 42%|████▏     | 70259/166693 [00:21<00:29, 3276.35it/s]\u001b[A\n",
            " 42%|████▏     | 70588/166693 [00:21<00:29, 3264.65it/s]\u001b[A\n",
            " 43%|████▎     | 70931/166693 [00:21<00:28, 3310.59it/s]\u001b[A\n",
            " 43%|████▎     | 71263/166693 [00:21<00:29, 3234.13it/s]\u001b[A\n",
            " 43%|████▎     | 71598/166693 [00:21<00:29, 3266.36it/s]\u001b[A\n",
            " 43%|████▎     | 71926/166693 [00:22<00:29, 3256.50it/s]\u001b[A\n",
            " 43%|████▎     | 72261/166693 [00:22<00:28, 3282.45it/s]\u001b[A\n",
            " 44%|████▎     | 72590/166693 [00:22<00:29, 3240.73it/s]\u001b[A\n",
            " 44%|████▎     | 72915/166693 [00:22<00:29, 3175.82it/s]\u001b[A\n",
            " 44%|████▍     | 73252/166693 [00:22<00:28, 3230.11it/s]\u001b[A\n",
            " 44%|████▍     | 73587/166693 [00:22<00:28, 3263.36it/s]\u001b[A\n",
            " 44%|████▍     | 73937/166693 [00:22<00:27, 3324.93it/s]\u001b[A\n",
            " 45%|████▍     | 74285/166693 [00:22<00:27, 3369.61it/s]\u001b[A\n",
            " 45%|████▍     | 74623/166693 [00:22<00:27, 3300.43it/s]\u001b[A\n",
            " 45%|████▍     | 74954/166693 [00:22<00:28, 3259.86it/s]\u001b[A\n",
            " 45%|████▌     | 75302/166693 [00:23<00:27, 3321.26it/s]\u001b[A\n",
            " 45%|████▌     | 75635/166693 [00:23<00:27, 3261.11it/s]\u001b[A\n",
            " 46%|████▌     | 75962/166693 [00:23<00:28, 3180.14it/s]\u001b[A\n",
            " 46%|████▌     | 76281/166693 [00:23<00:28, 3174.53it/s]\u001b[A\n",
            " 46%|████▌     | 76624/166693 [00:23<00:27, 3244.49it/s]\u001b[A\n",
            " 46%|████▌     | 76976/166693 [00:23<00:27, 3320.65it/s]\u001b[A\n",
            " 46%|████▋     | 77318/166693 [00:23<00:26, 3349.60it/s]\u001b[A\n",
            " 47%|████▋     | 77654/166693 [00:23<00:26, 3304.31it/s]\u001b[A\n",
            " 47%|████▋     | 77986/166693 [00:23<00:27, 3236.35it/s]\u001b[A\n",
            " 47%|████▋     | 78311/166693 [00:23<00:28, 3146.24it/s]\u001b[A\n",
            " 47%|████▋     | 78645/166693 [00:24<00:27, 3199.58it/s]\u001b[A\n",
            " 47%|████▋     | 78985/166693 [00:24<00:26, 3254.62it/s]\u001b[A\n",
            " 48%|████▊     | 79318/166693 [00:24<00:26, 3275.63it/s]\u001b[A\n",
            " 48%|████▊     | 79653/166693 [00:24<00:26, 3297.19it/s]\u001b[A\n",
            " 48%|████▊     | 79984/166693 [00:24<00:27, 3157.96it/s]\u001b[A\n",
            " 48%|████▊     | 80305/166693 [00:24<00:27, 3172.73it/s]\u001b[A\n",
            " 48%|████▊     | 80624/166693 [00:24<00:27, 3129.92it/s]\u001b[A\n",
            " 49%|████▊     | 80938/166693 [00:24<00:27, 3121.63it/s]\u001b[A\n",
            " 49%|████▊     | 81251/166693 [00:24<00:28, 3031.70it/s]\u001b[A\n",
            " 49%|████▉     | 81577/166693 [00:25<00:27, 3096.66it/s]\u001b[A\n",
            " 49%|████▉     | 81911/166693 [00:25<00:26, 3164.85it/s]\u001b[A\n",
            " 49%|████▉     | 82254/166693 [00:25<00:26, 3239.33it/s]\u001b[A\n",
            " 50%|████▉     | 82589/166693 [00:25<00:25, 3269.79it/s]\u001b[A\n",
            " 50%|████▉     | 82917/166693 [00:25<00:45, 1852.98it/s]\u001b[A\n",
            " 50%|████▉     | 83242/166693 [00:25<00:39, 2127.11it/s]\u001b[A\n",
            " 50%|█████     | 83528/166693 [00:25<00:36, 2303.52it/s]\u001b[A\n",
            " 50%|█████     | 83824/166693 [00:25<00:33, 2465.33it/s]\u001b[A\n",
            " 50%|█████     | 84144/166693 [00:26<00:31, 2647.37it/s]\u001b[A\n",
            " 51%|█████     | 84484/166693 [00:26<00:28, 2834.80it/s]\u001b[A\n",
            " 51%|█████     | 84834/166693 [00:26<00:27, 3004.99it/s]\u001b[A\n",
            " 51%|█████     | 85180/166693 [00:26<00:26, 3128.01it/s]\u001b[A\n",
            " 51%|█████▏    | 85511/166693 [00:26<00:25, 3179.09it/s]\u001b[A\n",
            " 51%|█████▏    | 85840/166693 [00:26<00:25, 3118.05it/s]\u001b[A\n",
            " 52%|█████▏    | 86160/166693 [00:26<00:25, 3120.10it/s]\u001b[A\n",
            " 52%|█████▏    | 86506/166693 [00:26<00:24, 3213.94it/s]\u001b[A\n",
            " 52%|█████▏    | 86833/166693 [00:26<00:25, 3105.40it/s]\u001b[A\n",
            " 52%|█████▏    | 87162/166693 [00:27<00:25, 3156.44it/s]\u001b[A\n",
            " 52%|█████▏    | 87498/166693 [00:27<00:24, 3213.42it/s]\u001b[A\n",
            " 53%|█████▎    | 87841/166693 [00:27<00:24, 3274.91it/s]\u001b[A\n",
            " 53%|█████▎    | 88171/166693 [00:27<00:24, 3198.13it/s]\u001b[A\n",
            " 53%|█████▎    | 88516/166693 [00:27<00:23, 3268.24it/s]\u001b[A\n",
            " 53%|█████▎    | 88855/166693 [00:27<00:23, 3302.98it/s]\u001b[A\n",
            " 54%|█████▎    | 89187/166693 [00:27<00:23, 3234.39it/s]\u001b[A\n",
            " 54%|█████▎    | 89525/166693 [00:27<00:23, 3275.81it/s]\u001b[A\n",
            " 54%|█████▍    | 89869/166693 [00:27<00:23, 3322.90it/s]\u001b[A\n",
            " 54%|█████▍    | 90203/166693 [00:27<00:23, 3210.43it/s]\u001b[A\n",
            " 54%|█████▍    | 90526/166693 [00:28<00:24, 3169.96it/s]\u001b[A\n",
            " 55%|█████▍    | 90865/166693 [00:28<00:23, 3231.74it/s]\u001b[A\n",
            " 55%|█████▍    | 91201/166693 [00:28<00:23, 3267.29it/s]\u001b[A\n",
            " 55%|█████▍    | 91529/166693 [00:28<00:23, 3244.76it/s]\u001b[A\n",
            " 55%|█████▌    | 91855/166693 [00:28<00:23, 3232.43it/s]\u001b[A\n",
            " 55%|█████▌    | 92180/166693 [00:28<00:23, 3237.13it/s]\u001b[A\n",
            " 55%|█████▌    | 92509/166693 [00:28<00:22, 3251.44it/s]\u001b[A\n",
            " 56%|█████▌    | 92835/166693 [00:28<00:22, 3233.27it/s]\u001b[A\n",
            " 56%|█████▌    | 93188/166693 [00:28<00:22, 3315.88it/s]\u001b[A\n",
            " 56%|█████▌    | 93521/166693 [00:28<00:22, 3195.68it/s]\u001b[A\n",
            " 56%|█████▋    | 93854/166693 [00:29<00:22, 3233.83it/s]\u001b[A\n",
            " 57%|█████▋    | 94194/166693 [00:29<00:22, 3280.01it/s]\u001b[A\n",
            " 57%|█████▋    | 94534/166693 [00:29<00:21, 3312.76it/s]\u001b[A\n",
            " 57%|█████▋    | 94866/166693 [00:29<00:22, 3212.61it/s]\u001b[A\n",
            " 57%|█████▋    | 95197/166693 [00:29<00:22, 3238.07it/s]\u001b[A\n",
            " 57%|█████▋    | 95522/166693 [00:29<00:22, 3159.72it/s]\u001b[A\n",
            " 58%|█████▊    | 95858/166693 [00:29<00:22, 3215.13it/s]\u001b[A\n",
            " 58%|█████▊    | 96194/166693 [00:29<00:21, 3255.39it/s]\u001b[A\n",
            " 58%|█████▊    | 96543/166693 [00:29<00:21, 3320.97it/s]\u001b[A\n",
            " 58%|█████▊    | 96876/166693 [00:29<00:22, 3120.69it/s]\u001b[A\n",
            " 58%|█████▊    | 97211/166693 [00:30<00:21, 3185.32it/s]\u001b[A\n",
            " 59%|█████▊    | 97540/166693 [00:30<00:21, 3215.38it/s]\u001b[A\n",
            " 59%|█████▊    | 97885/166693 [00:30<00:20, 3280.54it/s]\u001b[A\n",
            " 59%|█████▉    | 98234/166693 [00:30<00:20, 3337.75it/s]\u001b[A\n",
            " 59%|█████▉    | 98582/166693 [00:30<00:20, 3377.54it/s]\u001b[A\n",
            " 59%|█████▉    | 98921/166693 [00:30<00:20, 3334.44it/s]\u001b[A\n",
            " 60%|█████▉    | 99256/166693 [00:30<00:20, 3215.84it/s]\u001b[A\n",
            " 60%|█████▉    | 99582/166693 [00:30<00:20, 3228.79it/s]\u001b[A\n",
            " 60%|█████▉    | 99906/166693 [00:30<00:20, 3191.51it/s]\u001b[A\n",
            " 60%|██████    | 100227/166693 [00:31<00:20, 3196.40it/s]\u001b[A\n",
            " 60%|██████    | 100556/166693 [00:31<00:20, 3221.81it/s]\u001b[A\n",
            " 61%|██████    | 100896/166693 [00:31<00:20, 3271.53it/s]\u001b[A\n",
            " 61%|██████    | 101224/166693 [00:31<00:20, 3189.44it/s]\u001b[A\n",
            " 61%|██████    | 101544/166693 [00:31<00:20, 3118.35it/s]\u001b[A\n",
            " 61%|██████    | 101860/166693 [00:31<00:20, 3130.20it/s]\u001b[A\n",
            " 61%|██████▏   | 102183/166693 [00:31<00:20, 3158.99it/s]\u001b[A\n",
            " 61%|██████▏   | 102503/166693 [00:31<00:20, 3170.07it/s]\u001b[A\n",
            " 62%|██████▏   | 102828/166693 [00:31<00:20, 3192.49it/s]\u001b[A\n",
            " 62%|██████▏   | 103148/166693 [00:31<00:20, 3028.55it/s]\u001b[A\n",
            " 62%|██████▏   | 103482/166693 [00:32<00:20, 3113.99it/s]\u001b[A\n",
            " 62%|██████▏   | 103813/166693 [00:32<00:19, 3168.99it/s]\u001b[A\n",
            " 62%|██████▏   | 104155/166693 [00:32<00:19, 3238.15it/s]\u001b[A\n",
            " 63%|██████▎   | 104484/166693 [00:32<00:19, 3252.91it/s]\u001b[A\n",
            " 63%|██████▎   | 104811/166693 [00:32<00:19, 3191.76it/s]\u001b[A\n",
            " 63%|██████▎   | 105132/166693 [00:32<00:19, 3152.52it/s]\u001b[A\n",
            " 63%|██████▎   | 105449/166693 [00:32<00:19, 3105.50it/s]\u001b[A\n",
            " 63%|██████▎   | 105789/166693 [00:32<00:19, 3187.64it/s]\u001b[A\n",
            " 64%|██████▎   | 106128/166693 [00:32<00:18, 3245.05it/s]\u001b[A\n",
            " 64%|██████▍   | 106454/166693 [00:32<00:19, 3150.47it/s]\u001b[A\n",
            " 64%|██████▍   | 106771/166693 [00:33<00:19, 3138.11it/s]\u001b[A\n",
            " 64%|██████▍   | 107086/166693 [00:33<00:19, 3097.20it/s]\u001b[A\n",
            " 64%|██████▍   | 107417/166693 [00:33<00:18, 3156.12it/s]\u001b[A\n",
            " 65%|██████▍   | 107746/166693 [00:33<00:18, 3195.06it/s]\u001b[A\n",
            " 65%|██████▍   | 108067/166693 [00:33<00:18, 3191.34it/s]\u001b[A\n",
            " 65%|██████▌   | 108392/166693 [00:33<00:18, 3206.90it/s]\u001b[A\n",
            " 65%|██████▌   | 108714/166693 [00:33<00:18, 3203.58it/s]\u001b[A\n",
            " 65%|██████▌   | 109041/166693 [00:33<00:17, 3222.98it/s]\u001b[A\n",
            " 66%|██████▌   | 109364/166693 [00:33<00:17, 3218.81it/s]\u001b[A\n",
            " 66%|██████▌   | 109687/166693 [00:34<00:18, 3164.40it/s]\u001b[A\n",
            " 66%|██████▌   | 110004/166693 [00:34<00:17, 3160.84it/s]\u001b[A\n",
            " 66%|██████▌   | 110321/166693 [00:34<00:18, 3067.03it/s]\u001b[A\n",
            " 66%|██████▋   | 110629/166693 [00:34<00:18, 3029.44it/s]\u001b[A\n",
            " 67%|██████▋   | 110953/166693 [00:34<00:18, 3087.81it/s]\u001b[A\n",
            " 67%|██████▋   | 111263/166693 [00:34<00:18, 3037.34it/s]\u001b[A\n",
            " 67%|██████▋   | 111568/166693 [00:34<00:18, 3033.73it/s]\u001b[A\n",
            " 67%|██████▋   | 111872/166693 [00:34<00:18, 2937.07it/s]\u001b[A\n",
            " 67%|██████▋   | 112168/166693 [00:34<00:18, 2942.54it/s]\u001b[A\n",
            " 67%|██████▋   | 112476/166693 [00:34<00:18, 2981.79it/s]\u001b[A\n",
            " 68%|██████▊   | 112775/166693 [00:35<00:18, 2942.23it/s]\u001b[A\n",
            " 68%|██████▊   | 113089/166693 [00:35<00:17, 2998.56it/s]\u001b[A\n",
            " 68%|██████▊   | 113393/166693 [00:35<00:17, 3008.80it/s]\u001b[A\n",
            " 68%|██████▊   | 113695/166693 [00:35<00:18, 2841.27it/s]\u001b[A\n",
            " 68%|██████▊   | 113982/166693 [00:35<00:18, 2823.92it/s]\u001b[A\n",
            " 69%|██████▊   | 114284/166693 [00:35<00:18, 2878.57it/s]\u001b[A\n",
            " 69%|██████▊   | 114582/166693 [00:35<00:17, 2907.90it/s]\u001b[A\n",
            " 69%|██████▉   | 114874/166693 [00:35<00:18, 2849.80it/s]\u001b[A\n",
            " 69%|██████▉   | 115160/166693 [00:35<00:18, 2787.34it/s]\u001b[A\n",
            " 69%|██████▉   | 115458/166693 [00:35<00:18, 2841.03it/s]\u001b[A\n",
            " 69%|██████▉   | 115744/166693 [00:36<00:17, 2833.01it/s]\u001b[A\n",
            " 70%|██████▉   | 116045/166693 [00:36<00:17, 2882.47it/s]\u001b[A\n",
            " 70%|██████▉   | 116362/166693 [00:36<00:16, 2962.61it/s]\u001b[A\n",
            " 70%|██████▉   | 116660/166693 [00:36<00:17, 2905.56it/s]\u001b[A\n",
            " 70%|███████   | 116953/166693 [00:36<00:17, 2910.15it/s]\u001b[A\n",
            " 70%|███████   | 117257/166693 [00:36<00:16, 2946.97it/s]\u001b[A\n",
            " 71%|███████   | 117574/166693 [00:36<00:16, 3009.56it/s]\u001b[A\n",
            " 71%|███████   | 117876/166693 [00:36<00:16, 2995.26it/s]\u001b[A\n",
            " 71%|███████   | 118179/166693 [00:36<00:16, 3003.69it/s]\u001b[A\n",
            " 71%|███████   | 118480/166693 [00:37<00:16, 2940.75it/s]\u001b[A\n",
            " 71%|███████▏  | 118775/166693 [00:37<00:16, 2896.49it/s]\u001b[A\n",
            " 71%|███████▏  | 119083/166693 [00:37<00:16, 2946.31it/s]\u001b[A\n",
            " 72%|███████▏  | 119397/166693 [00:37<00:15, 3000.27it/s]\u001b[A\n",
            " 72%|███████▏  | 119702/166693 [00:37<00:15, 3012.07it/s]\u001b[A\n",
            " 72%|███████▏  | 120004/166693 [00:37<00:15, 2969.00it/s]\u001b[A\n",
            " 72%|███████▏  | 120306/166693 [00:37<00:15, 2983.68it/s]\u001b[A\n",
            " 72%|███████▏  | 120605/166693 [00:37<00:15, 2953.17it/s]\u001b[A\n",
            " 73%|███████▎  | 120914/166693 [00:37<00:15, 2991.06it/s]\u001b[A\n",
            " 73%|███████▎  | 121214/166693 [00:37<00:16, 2830.96it/s]\u001b[A\n",
            " 73%|███████▎  | 121500/166693 [00:38<00:16, 2791.70it/s]\u001b[A\n",
            " 73%|███████▎  | 121811/166693 [00:38<00:15, 2878.64it/s]\u001b[A\n",
            " 73%|███████▎  | 122112/166693 [00:38<00:15, 2916.27it/s]\u001b[A\n",
            " 73%|███████▎  | 122425/166693 [00:38<00:14, 2975.49it/s]\u001b[A\n",
            " 74%|███████▎  | 122724/166693 [00:38<00:15, 2909.93it/s]\u001b[A\n",
            " 74%|███████▍  | 123017/166693 [00:38<00:15, 2894.16it/s]\u001b[A\n",
            " 74%|███████▍  | 123312/166693 [00:38<00:14, 2909.93it/s]\u001b[A\n",
            " 74%|███████▍  | 123614/166693 [00:38<00:14, 2940.01it/s]\u001b[A\n",
            " 74%|███████▍  | 123914/166693 [00:38<00:14, 2957.54it/s]\u001b[A\n",
            " 75%|███████▍  | 124211/166693 [00:38<00:14, 2896.66it/s]\u001b[A\n",
            " 75%|███████▍  | 124502/166693 [00:39<00:14, 2839.22it/s]\u001b[A\n",
            " 75%|███████▍  | 124815/166693 [00:39<00:14, 2919.23it/s]\u001b[A\n",
            " 75%|███████▌  | 125125/166693 [00:39<00:13, 2969.86it/s]\u001b[A\n",
            " 75%|███████▌  | 125426/166693 [00:39<00:13, 2981.54it/s]\u001b[A\n",
            " 75%|███████▌  | 125725/166693 [00:39<00:14, 2884.83it/s]\u001b[A\n",
            " 76%|███████▌  | 126015/166693 [00:39<00:14, 2865.04it/s]\u001b[A\n",
            " 76%|███████▌  | 126334/166693 [00:39<00:13, 2955.29it/s]\u001b[A\n",
            " 76%|███████▌  | 126637/166693 [00:39<00:13, 2976.63it/s]\u001b[A\n",
            " 76%|███████▌  | 126948/166693 [00:39<00:13, 3015.27it/s]\u001b[A\n",
            " 76%|███████▋  | 127251/166693 [00:39<00:13, 2922.37it/s]\u001b[A\n",
            " 77%|███████▋  | 127545/166693 [00:40<00:13, 2910.56it/s]\u001b[A\n",
            " 77%|███████▋  | 127848/166693 [00:40<00:13, 2943.57it/s]\u001b[A\n",
            " 77%|███████▋  | 128165/166693 [00:40<00:12, 3007.35it/s]\u001b[A\n",
            " 77%|███████▋  | 128467/166693 [00:40<00:12, 2959.86it/s]\u001b[A\n",
            " 77%|███████▋  | 128764/166693 [00:40<00:12, 2926.14it/s]\u001b[A\n",
            " 77%|███████▋  | 129058/166693 [00:40<00:13, 2886.66it/s]\u001b[A\n",
            " 78%|███████▊  | 129364/166693 [00:40<00:12, 2935.81it/s]\u001b[A\n",
            " 78%|███████▊  | 129659/166693 [00:40<00:12, 2884.05it/s]\u001b[A\n",
            " 78%|███████▊  | 129949/166693 [00:40<00:12, 2864.78it/s]\u001b[A\n",
            " 78%|███████▊  | 130236/166693 [00:41<00:12, 2829.35it/s]\u001b[A\n",
            " 78%|███████▊  | 130520/166693 [00:41<00:12, 2819.75it/s]\u001b[A\n",
            " 78%|███████▊  | 130826/166693 [00:41<00:12, 2886.66it/s]\u001b[A\n",
            " 79%|███████▊  | 131116/166693 [00:41<00:12, 2878.00it/s]\u001b[A\n",
            " 79%|███████▉  | 131406/166693 [00:41<00:12, 2884.21it/s]\u001b[A\n",
            " 79%|███████▉  | 131703/166693 [00:41<00:12, 2907.47it/s]\u001b[A\n",
            " 79%|███████▉  | 132011/166693 [00:41<00:11, 2956.82it/s]\u001b[A\n",
            " 79%|███████▉  | 132314/166693 [00:41<00:11, 2978.12it/s]\u001b[A\n",
            " 80%|███████▉  | 132613/166693 [00:41<00:11, 2969.22it/s]\u001b[A\n",
            " 80%|███████▉  | 132911/166693 [00:41<00:11, 2872.64it/s]\u001b[A\n",
            " 80%|███████▉  | 133212/166693 [00:42<00:11, 2911.53it/s]\u001b[A\n",
            " 80%|████████  | 133504/166693 [00:42<00:11, 2874.72it/s]\u001b[A\n",
            " 80%|████████  | 133793/166693 [00:42<00:11, 2877.86it/s]\u001b[A\n",
            " 80%|████████  | 134082/166693 [00:42<00:11, 2867.74it/s]\u001b[A\n",
            " 81%|████████  | 134373/166693 [00:42<00:11, 2878.30it/s]\u001b[A\n",
            " 81%|████████  | 134678/166693 [00:42<00:10, 2926.19it/s]\u001b[A\n",
            " 81%|████████  | 134988/166693 [00:42<00:10, 2974.05it/s]\u001b[A\n",
            " 81%|████████  | 135286/166693 [00:42<00:10, 2958.91it/s]\u001b[A\n",
            " 81%|████████▏ | 135583/166693 [00:42<00:10, 2913.98it/s]\u001b[A\n",
            " 82%|████████▏ | 135883/166693 [00:42<00:10, 2938.49it/s]\u001b[A\n",
            " 82%|████████▏ | 136179/166693 [00:43<00:10, 2944.61it/s]\u001b[A\n",
            " 82%|████████▏ | 136474/166693 [00:43<00:10, 2816.46it/s]\u001b[A\n",
            " 82%|████████▏ | 136774/166693 [00:43<00:10, 2868.05it/s]\u001b[A\n",
            " 82%|████████▏ | 137081/166693 [00:43<00:10, 2923.99it/s]\u001b[A\n",
            " 82%|████████▏ | 137379/166693 [00:43<00:09, 2939.91it/s]\u001b[A\n",
            " 83%|████████▎ | 137674/166693 [00:43<00:10, 2847.44it/s]\u001b[A\n",
            " 83%|████████▎ | 137982/166693 [00:43<00:09, 2912.44it/s]\u001b[A\n",
            " 83%|████████▎ | 138297/166693 [00:43<00:09, 2979.26it/s]\u001b[A\n",
            " 83%|████████▎ | 138605/166693 [00:43<00:09, 3008.17it/s]\u001b[A\n",
            " 83%|████████▎ | 138907/166693 [00:43<00:09, 2863.56it/s]\u001b[A\n",
            " 84%|████████▎ | 139202/166693 [00:44<00:09, 2888.64it/s]\u001b[A\n",
            " 84%|████████▎ | 139493/166693 [00:44<00:09, 2865.42it/s]\u001b[A\n",
            " 84%|████████▍ | 139799/166693 [00:44<00:09, 2919.34it/s]\u001b[A\n",
            " 84%|████████▍ | 140102/166693 [00:44<00:09, 2951.58it/s]\u001b[A\n",
            " 84%|████████▍ | 140398/166693 [00:44<00:09, 2885.07it/s]\u001b[A\n",
            " 84%|████████▍ | 140693/166693 [00:44<00:08, 2904.18it/s]\u001b[A\n",
            " 85%|████████▍ | 140990/166693 [00:44<00:08, 2922.50it/s]\u001b[A\n",
            " 85%|████████▍ | 141283/166693 [00:44<00:08, 2845.14it/s]\u001b[A\n",
            " 85%|████████▍ | 141575/166693 [00:44<00:08, 2866.21it/s]\u001b[A\n",
            " 85%|████████▌ | 141863/166693 [00:45<00:08, 2868.88it/s]\u001b[A\n",
            " 85%|████████▌ | 142151/166693 [00:45<00:08, 2859.94it/s]\u001b[A\n",
            " 85%|████████▌ | 142438/166693 [00:45<00:08, 2853.57it/s]\u001b[A\n",
            " 86%|████████▌ | 142741/166693 [00:45<00:08, 2902.38it/s]\u001b[A\n",
            " 86%|████████▌ | 143032/166693 [00:45<00:08, 2870.60it/s]\u001b[A\n",
            " 86%|████████▌ | 143323/166693 [00:45<00:08, 2880.00it/s]\u001b[A\n",
            " 86%|████████▌ | 143612/166693 [00:45<00:08, 2880.85it/s]\u001b[A\n",
            " 86%|████████▋ | 143901/166693 [00:45<00:08, 2846.87it/s]\u001b[A\n",
            " 86%|████████▋ | 144186/166693 [00:45<00:07, 2838.44it/s]\u001b[A\n",
            " 87%|████████▋ | 144470/166693 [00:45<00:07, 2832.01it/s]\u001b[A\n",
            " 87%|████████▋ | 144777/166693 [00:46<00:07, 2896.85it/s]\u001b[A\n",
            " 87%|████████▋ | 145068/166693 [00:46<00:07, 2795.91it/s]\u001b[A\n",
            " 87%|████████▋ | 145352/166693 [00:46<00:07, 2806.45it/s]\u001b[A\n",
            " 87%|████████▋ | 145649/166693 [00:46<00:07, 2851.84it/s]\u001b[A\n",
            " 88%|████████▊ | 145948/166693 [00:46<00:07, 2890.73it/s]\u001b[A\n",
            " 88%|████████▊ | 146250/166693 [00:46<00:06, 2926.69it/s]\u001b[A\n",
            " 88%|████████▊ | 146544/166693 [00:46<00:06, 2896.26it/s]\u001b[A\n",
            " 88%|████████▊ | 146835/166693 [00:46<00:06, 2843.36it/s]\u001b[A\n",
            " 88%|████████▊ | 147134/166693 [00:46<00:06, 2885.45it/s]\u001b[A\n",
            " 88%|████████▊ | 147424/166693 [00:46<00:06, 2886.33it/s]\u001b[A\n",
            " 89%|████████▊ | 147729/166693 [00:47<00:06, 2932.30it/s]\u001b[A\n",
            " 89%|████████▉ | 148069/166693 [00:47<00:06, 3057.03it/s]\u001b[A\n",
            " 89%|████████▉ | 148389/166693 [00:47<00:05, 3098.45it/s]\u001b[A\n",
            " 89%|████████▉ | 148748/166693 [00:47<00:05, 3229.51it/s]\u001b[A\n",
            " 89%|████████▉ | 149074/166693 [00:47<00:05, 3191.02it/s]\u001b[A\n",
            " 90%|████████▉ | 149395/166693 [00:47<00:05, 3169.25it/s]\u001b[A\n",
            " 90%|████████▉ | 149730/166693 [00:47<00:05, 3220.22it/s]\u001b[A\n",
            " 90%|█████████ | 150068/166693 [00:47<00:05, 3265.59it/s]\u001b[A\n",
            " 90%|█████████ | 150396/166693 [00:47<00:05, 3169.86it/s]\u001b[A\n",
            " 90%|█████████ | 150715/166693 [00:47<00:05, 3098.38it/s]\u001b[A\n",
            " 91%|█████████ | 151036/166693 [00:48<00:05, 3130.49it/s]\u001b[A\n",
            " 91%|█████████ | 151350/166693 [00:48<00:05, 2951.15it/s]\u001b[A\n",
            " 91%|█████████ | 151653/166693 [00:48<00:05, 2973.22it/s]\u001b[A\n",
            " 91%|█████████ | 151990/166693 [00:48<00:04, 3079.98it/s]\u001b[A\n",
            " 91%|█████████▏| 152301/166693 [00:48<00:04, 3075.12it/s]\u001b[A\n",
            " 92%|█████████▏| 152637/166693 [00:48<00:04, 3153.75it/s]\u001b[A\n",
            " 92%|█████████▏| 152955/166693 [00:48<00:04, 3137.50it/s]\u001b[A\n",
            " 92%|█████████▏| 153311/166693 [00:48<00:04, 3252.44it/s]\u001b[A\n",
            " 92%|█████████▏| 153639/166693 [00:48<00:04, 3221.97it/s]\u001b[A\n",
            " 92%|█████████▏| 153963/166693 [00:49<00:04, 3175.38it/s]\u001b[A\n",
            " 93%|█████████▎| 154304/166693 [00:49<00:03, 3240.68it/s]\u001b[A\n",
            " 93%|█████████▎| 154630/166693 [00:49<00:03, 3230.72it/s]\u001b[A\n",
            " 93%|█████████▎| 154982/166693 [00:49<00:03, 3311.54it/s]\u001b[A\n",
            " 93%|█████████▎| 155315/166693 [00:49<00:03, 3257.73it/s]\u001b[A\n",
            " 93%|█████████▎| 155642/166693 [00:49<00:03, 3188.10it/s]\u001b[A\n",
            " 94%|█████████▎| 155962/166693 [00:49<00:03, 3186.77it/s]\u001b[A\n",
            " 94%|█████████▍| 156282/166693 [00:49<00:03, 3164.09it/s]\u001b[A\n",
            " 94%|█████████▍| 156611/166693 [00:49<00:03, 3198.94it/s]\u001b[A\n",
            " 94%|█████████▍| 156949/166693 [00:49<00:02, 3250.48it/s]\u001b[A\n",
            " 94%|█████████▍| 157287/166693 [00:50<00:02, 3287.38it/s]\u001b[A\n",
            " 95%|█████████▍| 157625/166693 [00:50<00:02, 3313.98it/s]\u001b[A\n",
            " 95%|█████████▍| 157957/166693 [00:50<00:02, 3301.35it/s]\u001b[A\n",
            " 95%|█████████▍| 158310/166693 [00:50<00:02, 3364.83it/s]\u001b[A\n",
            " 95%|█████████▌| 158647/166693 [00:50<00:02, 3318.42it/s]\u001b[A\n",
            " 95%|█████████▌| 158980/166693 [00:50<00:02, 3274.54it/s]\u001b[A\n",
            " 96%|█████████▌| 159319/166693 [00:50<00:02, 3306.96it/s]\u001b[A\n",
            " 96%|█████████▌| 159656/166693 [00:50<00:02, 3325.24it/s]\u001b[A\n",
            " 96%|█████████▌| 159989/166693 [00:50<00:02, 3293.17it/s]\u001b[A\n",
            " 96%|█████████▌| 160327/166693 [00:50<00:01, 3315.97it/s]\u001b[A\n",
            " 96%|█████████▋| 160680/166693 [00:51<00:01, 3376.71it/s]\u001b[A\n",
            " 97%|█████████▋| 161022/166693 [00:51<00:01, 3387.31it/s]\u001b[A\n",
            " 97%|█████████▋| 161362/166693 [00:51<00:01, 3224.12it/s]\u001b[A\n",
            " 97%|█████████▋| 161687/166693 [00:51<00:01, 3231.11it/s]\u001b[A\n",
            " 97%|█████████▋| 162034/166693 [00:51<00:01, 3299.24it/s]\u001b[A\n",
            " 97%|█████████▋| 162366/166693 [00:51<00:01, 3220.87it/s]\u001b[A\n",
            " 98%|█████████▊| 162708/166693 [00:51<00:01, 3278.05it/s]\u001b[A\n",
            " 98%|█████████▊| 163037/166693 [00:51<00:01, 3270.75it/s]\u001b[A\n",
            " 98%|█████████▊| 163365/166693 [00:51<00:01, 3216.50it/s]\u001b[A\n",
            " 98%|█████████▊| 163698/166693 [00:51<00:00, 3245.62it/s]\u001b[A\n",
            " 98%|█████████▊| 164047/166693 [00:52<00:00, 3313.83it/s]\u001b[A\n",
            " 99%|█████████▊| 164396/166693 [00:52<00:00, 3364.08it/s]\u001b[A\n",
            " 99%|█████████▉| 164734/166693 [00:52<00:00, 3225.60it/s]\u001b[A\n",
            " 99%|█████████▉| 165073/166693 [00:52<00:00, 3272.31it/s]\u001b[A\n",
            " 99%|█████████▉| 165425/166693 [00:52<00:00, 3342.22it/s]\u001b[A\n",
            " 99%|█████████▉| 165761/166693 [00:52<00:00, 3208.08it/s]\u001b[A\n",
            "100%|█████████▉| 166098/166693 [00:52<00:00, 3253.93it/s]\u001b[A\n",
            "100%|██████████| 166693/166693 [00:52<00:00, 3150.62it/s]\n"
          ],
          "name": "stderr"
        }
      ]
    },
    {
      "cell_type": "code",
      "metadata": {
        "id": "D3gp5t6lL4Ae",
        "colab": {
          "base_uri": "https://localhost:8080/"
        },
        "outputId": "1895c94f-66ea-428a-d438-560cc9203e2d"
      },
      "source": [
        "pd.set_option(\"max_colwidth\", -1)\n",
        "\n",
        "original_train_df_length = len(df)\n",
        "df = df[df['search_term_tokens'].notnull()]\n",
        "len(df)/original_train_df_length"
      ],
      "execution_count": 38,
      "outputs": [
        {
          "output_type": "stream",
          "text": [
            "/usr/local/lib/python3.7/dist-packages/ipykernel_launcher.py:1: FutureWarning: Passing a negative integer is deprecated in version 1.0 and will not be supported in future version. Instead, use None to not limit the column width.\n",
            "  \"\"\"Entry point for launching an IPython kernel.\n"
          ],
          "name": "stderr"
        },
        {
          "output_type": "execute_result",
          "data": {
            "text/plain": [
              "1.0"
            ]
          },
          "metadata": {
            "tags": []
          },
          "execution_count": 38
        }
      ]
    },
    {
      "cell_type": "code",
      "metadata": {
        "colab": {
          "base_uri": "https://localhost:8080/",
          "height": 193
        },
        "id": "f3eVXii3JfNI",
        "outputId": "1c9b0dc3-f3ee-438b-ad3d-1b1d632bb68c"
      },
      "source": [
        "df.sample(3)"
      ],
      "execution_count": 39,
      "outputs": [
        {
          "output_type": "execute_result",
          "data": {
            "text/html": [
              "<div>\n",
              "<style scoped>\n",
              "    .dataframe tbody tr th:only-of-type {\n",
              "        vertical-align: middle;\n",
              "    }\n",
              "\n",
              "    .dataframe tbody tr th {\n",
              "        vertical-align: top;\n",
              "    }\n",
              "\n",
              "    .dataframe thead th {\n",
              "        text-align: right;\n",
              "    }\n",
              "</style>\n",
              "<table border=\"1\" class=\"dataframe\">\n",
              "  <thead>\n",
              "    <tr style=\"text-align: right;\">\n",
              "      <th></th>\n",
              "      <th>id</th>\n",
              "      <th>product_uid</th>\n",
              "      <th>product_title</th>\n",
              "      <th>search_term</th>\n",
              "      <th>relevance</th>\n",
              "      <th>product_title_tokens</th>\n",
              "      <th>search_term_tokens</th>\n",
              "    </tr>\n",
              "  </thead>\n",
              "  <tbody>\n",
              "    <tr>\n",
              "      <th>35389</th>\n",
              "      <td>108225</td>\n",
              "      <td>135035</td>\n",
              "      <td>Anchor Premium Single Stage Counter Top Water Filtration System in Clear</td>\n",
              "      <td>counter tops connection</td>\n",
              "      <td>1.67</td>\n",
              "      <td>[101, 8133, 12882, 2309, 2754, 4675, 2327, 2300, 10882, 7096, 8156, 2291, 1999, 3154, 102]</td>\n",
              "      <td>[101, 4675, 13284, 4434, 102]</td>\n",
              "    </tr>\n",
              "    <tr>\n",
              "      <th>50213</th>\n",
              "      <td>152468</td>\n",
              "      <td>157472</td>\n",
              "      <td>Razor-Back 44 in. Fiberglass Handle Clean-Out Shovel</td>\n",
              "      <td>clean out</td>\n",
              "      <td>2.67</td>\n",
              "      <td>[101, 15082, 1011, 2067, 4008, 1999, 1012, 11917, 15621, 5047, 4550, 1011, 2041, 24596, 102]</td>\n",
              "      <td>[101, 4550, 2041, 102, 0]</td>\n",
              "    </tr>\n",
              "    <tr>\n",
              "      <th>70601</th>\n",
              "      <td>211468</td>\n",
              "      <td>198186</td>\n",
              "      <td>Lynch Sign 10 in. x 7 in. Blue on White Plastic Please Pay When Ordering Sign</td>\n",
              "      <td>please flush sign</td>\n",
              "      <td>1.67</td>\n",
              "      <td>[101, 11404, 3696, 2184, 1999, 1012, 1060, 1021, 1999, 1012, 2630, 2006, 2317, 6081, 102]</td>\n",
              "      <td>[101, 3531, 13862, 3696, 102]</td>\n",
              "    </tr>\n",
              "  </tbody>\n",
              "</table>\n",
              "</div>"
            ],
            "text/plain": [
              "           id  ...             search_term_tokens\n",
              "35389  108225  ...  [101, 4675, 13284, 4434, 102]\n",
              "50213  152468  ...  [101, 4550, 2041, 102, 0]    \n",
              "70601  211468  ...  [101, 3531, 13862, 3696, 102]\n",
              "\n",
              "[3 rows x 7 columns]"
            ]
          },
          "metadata": {
            "tags": []
          },
          "execution_count": 39
        }
      ]
    },
    {
      "cell_type": "code",
      "metadata": {
        "id": "avWAdjfoKyoi",
        "colab": {
          "base_uri": "https://localhost:8080/"
        },
        "outputId": "c6fd8bb5-45be-4d12-c9c6-bb5f4bde2146"
      },
      "source": [
        "\n",
        "relevance_values = pd.unique(df['relevance']).tolist()\n",
        "\n",
        "relevance_map = {relevance: index for (index, relevance) in enumerate(relevance_values)}\n",
        "num_of_classes = len(relevance_map)\n",
        "relevance_map, num_of_classes"
      ],
      "execution_count": 41,
      "outputs": [
        {
          "output_type": "execute_result",
          "data": {
            "text/plain": [
              "({1.0: 5,\n",
              "  1.25: 8,\n",
              "  1.33: 7,\n",
              "  1.5: 11,\n",
              "  1.67: 6,\n",
              "  1.75: 10,\n",
              "  2.0: 4,\n",
              "  2.25: 12,\n",
              "  2.33: 2,\n",
              "  2.5: 1,\n",
              "  2.67: 3,\n",
              "  2.75: 9,\n",
              "  3.0: 0},\n",
              " 13)"
            ]
          },
          "metadata": {
            "tags": []
          },
          "execution_count": 41
        }
      ]
    },
    {
      "cell_type": "code",
      "metadata": {
        "id": "aoNQJXA_NcFN",
        "colab": {
          "base_uri": "https://localhost:8080/"
        },
        "outputId": "b3b21e08-221c-429f-f729-3725a2210c42"
      },
      "source": [
        "cls_to_score = {cls: score for (score, cls) in relevance_map.items()}\n",
        "cls_to_score\n"
      ],
      "execution_count": 42,
      "outputs": [
        {
          "output_type": "execute_result",
          "data": {
            "text/plain": [
              "{0: 3.0,\n",
              " 1: 2.5,\n",
              " 2: 2.33,\n",
              " 3: 2.67,\n",
              " 4: 2.0,\n",
              " 5: 1.0,\n",
              " 6: 1.67,\n",
              " 7: 1.33,\n",
              " 8: 1.25,\n",
              " 9: 2.75,\n",
              " 10: 1.75,\n",
              " 11: 1.5,\n",
              " 12: 2.25}"
            ]
          },
          "metadata": {
            "tags": []
          },
          "execution_count": 42
        }
      ]
    },
    {
      "cell_type": "code",
      "metadata": {
        "id": "KyjfyQmxMA28",
        "colab": {
          "base_uri": "https://localhost:8080/"
        },
        "outputId": "9930a5d8-a205-4b86-d8b1-043322a5133b"
      },
      "source": [
        "\n",
        "df['relevance_class'] = df['relevance'].apply(lambda relevance: relevance_map[relevance])\n",
        "pd.unique(df['relevance_class'])\n"
      ],
      "execution_count": 43,
      "outputs": [
        {
          "output_type": "execute_result",
          "data": {
            "text/plain": [
              "array([ 0,  1,  2,  3,  4,  5,  6,  7,  8,  9, 10, 11, 12])"
            ]
          },
          "metadata": {
            "tags": []
          },
          "execution_count": 43
        }
      ]
    },
    {
      "cell_type": "code",
      "metadata": {
        "id": "Q0DjFymeMqeK",
        "colab": {
          "base_uri": "https://localhost:8080/",
          "height": 283
        },
        "outputId": "66b32fe2-1903-40a5-cd49-ae90e0f142a0"
      },
      "source": [
        "ax = sns.countplot(x=\"relevance_class\", data=df)\n"
      ],
      "execution_count": 44,
      "outputs": [
        {
          "output_type": "display_data",
          "data": {
            "image/png": "[encoded data removed]",
            "text/plain": [
              "<Figure size 432x288 with 1 Axes>"
            ]
          },
          "metadata": {
            "tags": [],
            "needs_background": "light"
          }
        }
      ]
    },
    {
      "cell_type": "code",
      "metadata": {
        "colab": {
          "base_uri": "https://localhost:8080/"
        },
        "id": "-MnkT1xzONVQ",
        "outputId": "b3065ad9-8c45-49e6-a949-8e31737cc67d"
      },
      "source": [
        "num_of_classes = len(pd.unique(df['relevance_class']))\n",
        "num_of_classes"
      ],
      "execution_count": 45,
      "outputs": [
        {
          "output_type": "execute_result",
          "data": {
            "text/plain": [
              "13"
            ]
          },
          "metadata": {
            "tags": []
          },
          "execution_count": 45
        }
      ]
    },
    {
      "cell_type": "code",
      "metadata": {
        "id": "xYRLs4MfNRpz"
      },
      "source": [
        ""
      ],
      "execution_count": null,
      "outputs": []
    },
    {
      "cell_type": "code",
      "metadata": {
        "id": "wlitDkeYNk0u"
      },
      "source": [
        ""
      ],
      "execution_count": null,
      "outputs": []
    },
    {
      "cell_type": "code",
      "metadata": {
        "id": "k_abuT7Gj3Ag"
      },
      "source": [
        ""
      ],
      "execution_count": null,
      "outputs": []
    },
    {
      "cell_type": "code",
      "metadata": {
        "id": "BV7N4GDYNt70"
      },
      "source": [
        ""
      ],
      "execution_count": null,
      "outputs": []
    },
    {
      "cell_type": "code",
      "metadata": {
        "id": "9-RIhiikNx0N"
      },
      "source": [
        ""
      ],
      "execution_count": null,
      "outputs": []
    },
    {
      "cell_type": "code",
      "metadata": {
        "id": "jC-_3NcFN6vt"
      },
      "source": [
        ""
      ],
      "execution_count": null,
      "outputs": []
    },
    {
      "cell_type": "code",
      "metadata": {
        "id": "hBWR3ogxzlgr"
      },
      "source": [
        ""
      ],
      "execution_count": null,
      "outputs": []
    },
    {
      "cell_type": "code",
      "metadata": {
        "id": "gvuiD695l1sa"
      },
      "source": [
        ""
      ],
      "execution_count": null,
      "outputs": []
    },
    {
      "cell_type": "code",
      "metadata": {
        "id": "sz-SXcFvCGkw"
      },
      "source": [
        ""
      ],
      "execution_count": null,
      "outputs": []
    },
    {
      "cell_type": "code",
      "metadata": {
        "id": "c3w-Ti9Ll4ty"
      },
      "source": [
        ""
      ],
      "execution_count": null,
      "outputs": []
    },
    {
      "cell_type": "code",
      "metadata": {
        "id": "kkY6UFlomBmQ"
      },
      "source": [
        ""
      ],
      "execution_count": null,
      "outputs": []
    },
    {
      "cell_type": "code",
      "metadata": {
        "id": "fIrQMC_njbh3"
      },
      "source": [
        ""
      ],
      "execution_count": null,
      "outputs": []
    },
    {
      "cell_type": "code",
      "metadata": {
        "id": "4J08IiqM0Yoa",
        "colab": {
          "base_uri": "https://localhost:8080/"
        },
        "outputId": "b98ea219-03f9-4b55-b4f2-f42241095128"
      },
      "source": [
        "1"
      ],
      "execution_count": null,
      "outputs": [
        {
          "output_type": "execute_result",
          "data": {
            "text/plain": [
              "1"
            ]
          },
          "metadata": {
            "tags": []
          },
          "execution_count": 27
        }
      ]
    },
    {
      "cell_type": "code",
      "metadata": {
        "id": "ysvXuI-DaYNR"
      },
      "source": [
        ""
      ],
      "execution_count": null,
      "outputs": []
    },
    {
      "cell_type": "code",
      "metadata": {
        "id": "qhr-sK-Ja4hS"
      },
      "source": [
        "\n"
      ],
      "execution_count": null,
      "outputs": []
    },
    {
      "cell_type": "code",
      "metadata": {
        "id": "wlXHvpSaxhcv"
      },
      "source": [
        ""
      ],
      "execution_count": null,
      "outputs": []
    },
    {
      "cell_type": "code",
      "metadata": {
        "id": "Iw3XOMq7ceR4"
      },
      "source": [
        ""
      ],
      "execution_count": null,
      "outputs": []
    },
    {
      "cell_type": "code",
      "metadata": {
        "id": "3HGajw9zcWWT"
      },
      "source": [
        ""
      ],
      "execution_count": null,
      "outputs": []
    },
    {
      "cell_type": "code",
      "metadata": {
        "id": "ccgT0RxIx9xg"
      },
      "source": [
        ""
      ],
      "execution_count": null,
      "outputs": []
    },
    {
      "cell_type": "code",
      "metadata": {
        "id": "1UtpFLaO0eGv"
      },
      "source": [
        ""
      ],
      "execution_count": null,
      "outputs": []
    },
    {
      "cell_type": "code",
      "metadata": {
        "id": "-cC_PmSZxzpX"
      },
      "source": [
        ""
      ],
      "execution_count": null,
      "outputs": []
    },
    {
      "cell_type": "code",
      "metadata": {
        "id": "SGydTxu0O58b"
      },
      "source": [
        ""
      ],
      "execution_count": null,
      "outputs": []
    },
    {
      "cell_type": "code",
      "metadata": {
        "id": "hdCgrrWaPKyy"
      },
      "source": [
        ""
      ],
      "execution_count": null,
      "outputs": []
    },
    {
      "cell_type": "code",
      "metadata": {
        "id": "935RIRNYPVmH"
      },
      "source": [
        "test_df['relevance_class'] = -1"
      ],
      "execution_count": 46,
      "outputs": []
    },
    {
      "cell_type": "code",
      "metadata": {
        "colab": {
          "base_uri": "https://localhost:8080/",
          "height": 114
        },
        "id": "PhuWDnLF44ly",
        "outputId": "95c4539e-426f-4841-e934-d0c59fcaeab5"
      },
      "source": [
        "df.sample(1)"
      ],
      "execution_count": 47,
      "outputs": [
        {
          "output_type": "execute_result",
          "data": {
            "text/html": [
              "<div>\n",
              "<style scoped>\n",
              "    .dataframe tbody tr th:only-of-type {\n",
              "        vertical-align: middle;\n",
              "    }\n",
              "\n",
              "    .dataframe tbody tr th {\n",
              "        vertical-align: top;\n",
              "    }\n",
              "\n",
              "    .dataframe thead th {\n",
              "        text-align: right;\n",
              "    }\n",
              "</style>\n",
              "<table border=\"1\" class=\"dataframe\">\n",
              "  <thead>\n",
              "    <tr style=\"text-align: right;\">\n",
              "      <th></th>\n",
              "      <th>id</th>\n",
              "      <th>product_uid</th>\n",
              "      <th>product_title</th>\n",
              "      <th>search_term</th>\n",
              "      <th>relevance</th>\n",
              "      <th>product_title_tokens</th>\n",
              "      <th>search_term_tokens</th>\n",
              "      <th>relevance_class</th>\n",
              "    </tr>\n",
              "  </thead>\n",
              "  <tbody>\n",
              "    <tr>\n",
              "      <th>72472</th>\n",
              "      <td>216867</td>\n",
              "      <td>202685</td>\n",
              "      <td>BEHR Premium Plus 8 oz. #W-D-200 Pot Of Cream Interior/Exterior Paint Sample</td>\n",
              "      <td>tiger cream pots</td>\n",
              "      <td>1.0</td>\n",
              "      <td>[101, 2022, 8093, 12882, 4606, 1022, 11472, 1012, 1001, 1059, 1011, 1040, 1011, 3263, 102]</td>\n",
              "      <td>[101, 6816, 6949, 18911, 102]</td>\n",
              "      <td>5</td>\n",
              "    </tr>\n",
              "  </tbody>\n",
              "</table>\n",
              "</div>"
            ],
            "text/plain": [
              "           id  product_uid  ...             search_term_tokens relevance_class\n",
              "72472  216867  202685       ...  [101, 6816, 6949, 18911, 102]  5             \n",
              "\n",
              "[1 rows x 8 columns]"
            ]
          },
          "metadata": {
            "tags": []
          },
          "execution_count": 47
        }
      ]
    },
    {
      "cell_type": "markdown",
      "metadata": {
        "id": "Zk7ITAnaPU7P"
      },
      "source": [
        ""
      ]
    },
    {
      "cell_type": "code",
      "metadata": {
        "id": "j8fGj-0COjWj"
      },
      "source": [
        "import random\n",
        "import time\n",
        "random.seed(int(time.time()))\n",
        "from torch.utils.data import Dataset,DataLoader\n",
        "import torch\n",
        "from torch import nn, utils\n",
        "import torch.nn.functional as F\n",
        "from torch.autograd import Variable \n",
        "from torch.optim.lr_scheduler import ReduceLROnPlateau\n",
        "\n",
        "import warnings\n",
        "warnings.filterwarnings('ignore')\n",
        "\n",
        "class DatasetLoader(Dataset):\n",
        "\n",
        "    def __init__(self, df):\n",
        "        self._df = df\n",
        "\n",
        "\n",
        "    def __len__(self):\n",
        "        return len(self._df)\n",
        "    def __getitem__(self, idx):\n",
        "        row = self._df.iloc[idx]\n",
        "\n",
        "        search_term = np.array(row['search_term_tokens'])\n",
        "        product_title = np.array(row['product_title_tokens'])\n",
        "\n",
        "   \n",
        "\n",
        "        return row['id'], search_term, product_title, row['relevance_class']\n",
        "    \n"
      ],
      "execution_count": 48,
      "outputs": []
    },
    {
      "cell_type": "code",
      "metadata": {
        "colab": {
          "base_uri": "https://localhost:8080/",
          "height": 114
        },
        "id": "NRSLuzN1kqe7",
        "outputId": "e656bce1-0871-4b4e-9e21-ee8db43f817f"
      },
      "source": [
        "df.sample(1)"
      ],
      "execution_count": 49,
      "outputs": [
        {
          "output_type": "execute_result",
          "data": {
            "text/html": [
              "<div>\n",
              "<style scoped>\n",
              "    .dataframe tbody tr th:only-of-type {\n",
              "        vertical-align: middle;\n",
              "    }\n",
              "\n",
              "    .dataframe tbody tr th {\n",
              "        vertical-align: top;\n",
              "    }\n",
              "\n",
              "    .dataframe thead th {\n",
              "        text-align: right;\n",
              "    }\n",
              "</style>\n",
              "<table border=\"1\" class=\"dataframe\">\n",
              "  <thead>\n",
              "    <tr style=\"text-align: right;\">\n",
              "      <th></th>\n",
              "      <th>id</th>\n",
              "      <th>product_uid</th>\n",
              "      <th>product_title</th>\n",
              "      <th>search_term</th>\n",
              "      <th>relevance</th>\n",
              "      <th>product_title_tokens</th>\n",
              "      <th>search_term_tokens</th>\n",
              "      <th>relevance_class</th>\n",
              "    </tr>\n",
              "  </thead>\n",
              "  <tbody>\n",
              "    <tr>\n",
              "      <th>33462</th>\n",
              "      <td>102341</td>\n",
              "      <td>132466</td>\n",
              "      <td>UniFlame Black Wrought Iron Single-Panel Fireplace Screen with Doors, Medium</td>\n",
              "      <td>hail protective window screen</td>\n",
              "      <td>2.33</td>\n",
              "      <td>[101, 4895, 10128, 10278, 2063, 2304, 18481, 3707, 2309, 1011, 5997, 13788, 3898, 2007, 102]</td>\n",
              "      <td>[101, 16889, 9474, 3332, 102]</td>\n",
              "      <td>2</td>\n",
              "    </tr>\n",
              "  </tbody>\n",
              "</table>\n",
              "</div>"
            ],
            "text/plain": [
              "           id  product_uid  ...             search_term_tokens relevance_class\n",
              "33462  102341  132466       ...  [101, 16889, 9474, 3332, 102]  2             \n",
              "\n",
              "[1 rows x 8 columns]"
            ]
          },
          "metadata": {
            "tags": []
          },
          "execution_count": 49
        }
      ]
    },
    {
      "cell_type": "code",
      "metadata": {
        "id": "w27tIMkWMPR3",
        "outputId": "1469f282-ccd1-40f0-c638-cb04368e793f",
        "colab": {
          "base_uri": "https://localhost:8080/"
        }
      },
      "source": [
        "from sklearn.model_selection import train_test_split\n",
        "\n",
        "\n",
        "\n",
        "training_df, validation_df = train_test_split(df, test_size=0.1, random_state=42)\n",
        "len(training_df)+ len(validation_df), len(df)\n"
      ],
      "execution_count": 50,
      "outputs": [
        {
          "output_type": "execute_result",
          "data": {
            "text/plain": [
              "(74067, 74067)"
            ]
          },
          "metadata": {
            "tags": []
          },
          "execution_count": 50
        }
      ]
    },
    {
      "cell_type": "code",
      "metadata": {
        "id": "rTudx3_9QEOw",
        "colab": {
          "base_uri": "https://localhost:8080/"
        },
        "outputId": "55204f1a-1524-4722-c45a-c65f48baa7a8"
      },
      "source": [
        "BATCH_SIZE = 64\n",
        "\n",
        "data_loader = DatasetLoader(training_df)\n",
        "\n",
        "train_data_loader = torch.utils.data.DataLoader(data_loader,\n",
        "                                                 batch_size=BATCH_SIZE, shuffle=True, \n",
        "                                                 num_workers=4,drop_last=False)\n",
        "\n",
        "validation_data_df = validation_df[['id', 'product_title_tokens', 'search_term_tokens', 'relevance', 'relevance_class']]\n",
        "validation_dataset = DatasetLoader(validation_data_df)\n",
        "\n",
        "valiodation_data_loader = torch.utils.data.DataLoader(validation_dataset,\n",
        "                                                 batch_size=BATCH_SIZE, shuffle=True, \n",
        "                                                 num_workers=4,drop_last=False)\n",
        "\n",
        "\n",
        "test_df_fixed = test_df[(test_df['search_term_tokens'].map(len) > 0) & (test_df['product_title_tokens'].map(len) > 0)]\n",
        "\n",
        "\n",
        "\n",
        "test_loader = DatasetLoader(test_df_fixed[['id', 'product_title_tokens', 'search_term_tokens', 'relevance_class']])\n",
        "\n",
        "test_data_loader = torch.utils.data.DataLoader(test_loader,\n",
        "                                                 batch_size=BATCH_SIZE, shuffle=False, \n",
        "                                                 num_workers=4,drop_last=False)\n",
        "\n",
        "len(data_loader), len(test_loader)"
      ],
      "execution_count": 52,
      "outputs": [
        {
          "output_type": "execute_result",
          "data": {
            "text/plain": [
              "(66660, 166693)"
            ]
          },
          "metadata": {
            "tags": []
          },
          "execution_count": 52
        }
      ]
    },
    {
      "cell_type": "code",
      "metadata": {
        "colab": {
          "base_uri": "https://localhost:8080/",
          "height": 114
        },
        "id": "hYKG8QQEAXLS",
        "outputId": "fd5817a9-765b-4396-a659-82002829b435"
      },
      "source": [
        "df.sample(1)"
      ],
      "execution_count": 54,
      "outputs": [
        {
          "output_type": "execute_result",
          "data": {
            "text/html": [
              "<div>\n",
              "<style scoped>\n",
              "    .dataframe tbody tr th:only-of-type {\n",
              "        vertical-align: middle;\n",
              "    }\n",
              "\n",
              "    .dataframe tbody tr th {\n",
              "        vertical-align: top;\n",
              "    }\n",
              "\n",
              "    .dataframe thead th {\n",
              "        text-align: right;\n",
              "    }\n",
              "</style>\n",
              "<table border=\"1\" class=\"dataframe\">\n",
              "  <thead>\n",
              "    <tr style=\"text-align: right;\">\n",
              "      <th></th>\n",
              "      <th>id</th>\n",
              "      <th>product_uid</th>\n",
              "      <th>product_title</th>\n",
              "      <th>search_term</th>\n",
              "      <th>relevance</th>\n",
              "      <th>product_title_tokens</th>\n",
              "      <th>search_term_tokens</th>\n",
              "      <th>relevance_class</th>\n",
              "    </tr>\n",
              "  </thead>\n",
              "  <tbody>\n",
              "    <tr>\n",
              "      <th>46685</th>\n",
              "      <td>141676</td>\n",
              "      <td>151500</td>\n",
              "      <td>Tyco Electronics Spade Vinyl 12-10 AWG Stud 8-10 50/Clam</td>\n",
              "      <td>12 awg</td>\n",
              "      <td>2.67</td>\n",
              "      <td>[101, 5939, 3597, 8139, 23288, 8877, 2260, 1011, 2184, 22091, 2290, 16054, 1022, 1011, 102]</td>\n",
              "      <td>[101, 2260, 22091, 2290, 102]</td>\n",
              "      <td>3</td>\n",
              "    </tr>\n",
              "  </tbody>\n",
              "</table>\n",
              "</div>"
            ],
            "text/plain": [
              "           id  product_uid  ...             search_term_tokens relevance_class\n",
              "46685  141676  151500       ...  [101, 2260, 22091, 2290, 102]  3             \n",
              "\n",
              "[1 rows x 8 columns]"
            ]
          },
          "metadata": {
            "tags": []
          },
          "execution_count": 54
        }
      ]
    },
    {
      "cell_type": "code",
      "metadata": {
        "colab": {
          "base_uri": "https://localhost:8080/",
          "height": 80
        },
        "id": "ti4DjnB3AC2K",
        "outputId": "7dc13d34-2646-42f2-c0ef-871aba6f5cbd"
      },
      "source": [
        ""
      ],
      "execution_count": null,
      "outputs": [
        {
          "output_type": "execute_result",
          "data": {
            "text/html": [
              "<div>\n",
              "<style scoped>\n",
              "    .dataframe tbody tr th:only-of-type {\n",
              "        vertical-align: middle;\n",
              "    }\n",
              "\n",
              "    .dataframe tbody tr th {\n",
              "        vertical-align: top;\n",
              "    }\n",
              "\n",
              "    .dataframe thead th {\n",
              "        text-align: right;\n",
              "    }\n",
              "</style>\n",
              "<table border=\"1\" class=\"dataframe\">\n",
              "  <thead>\n",
              "    <tr style=\"text-align: right;\">\n",
              "      <th></th>\n",
              "      <th>id</th>\n",
              "      <th>product_uid</th>\n",
              "      <th>product_title</th>\n",
              "      <th>search_term</th>\n",
              "      <th>product_title_tokens</th>\n",
              "      <th>search_term_tokens</th>\n",
              "      <th>my_relevance</th>\n",
              "    </tr>\n",
              "  </thead>\n",
              "  <tbody>\n",
              "    <tr>\n",
              "      <th>35646</th>\n",
              "      <td>52729</td>\n",
              "      <td>113622</td>\n",
              "      <td>AT&amp;amp;T Trimline Telephone With Memory - Black</td>\n",
              "      <td>at</td>\n",
              "      <td>[amp, &lt;word&gt;, telephon, memori, black]</td>\n",
              "      <td>[]</td>\n",
              "      <td>1</td>\n",
              "    </tr>\n",
              "  </tbody>\n",
              "</table>\n",
              "</div>"
            ],
            "text/plain": [
              "          id  product_uid  ... search_term_tokens my_relevance\n",
              "35646  52729  113622       ...  []                 1          \n",
              "\n",
              "[1 rows x 7 columns]"
            ]
          },
          "metadata": {
            "tags": []
          },
          "execution_count": 76
        }
      ]
    },
    {
      "cell_type": "code",
      "metadata": {
        "id": "Jg9ZjtvyQYYj"
      },
      "source": [
        "for ids, search_term, product_title, target_relevance_score in test_data_loader:\n",
        "  break"
      ],
      "execution_count": 55,
      "outputs": []
    },
    {
      "cell_type": "code",
      "metadata": {
        "id": "MAb7Xrshd-Ap"
      },
      "source": [
        ""
      ],
      "execution_count": null,
      "outputs": []
    },
    {
      "cell_type": "code",
      "metadata": {
        "id": "ZaU8p0SBalql"
      },
      "source": [
        ""
      ],
      "execution_count": null,
      "outputs": []
    },
    {
      "cell_type": "code",
      "metadata": {
        "id": "1wcUGHjMcBXu"
      },
      "source": [
        ""
      ],
      "execution_count": null,
      "outputs": []
    },
    {
      "cell_type": "code",
      "metadata": {
        "id": "3PREwU_6bclh"
      },
      "source": [
        "for ids, search_term, product_title, target_relevance_score in train_data_loader:\n",
        "  break\n",
        "\n"
      ],
      "execution_count": 56,
      "outputs": []
    },
    {
      "cell_type": "code",
      "metadata": {
        "id": "pv4iT_xlBNeY"
      },
      "source": [
        "from transformers import BertConfig\n",
        "\n",
        "# config = BertConfig.from_pretrained(\"bert-base-uncased\",\n",
        "#                                     output_hidden_states=True)\n",
        "\n",
        "# bert_model = BertForSequenceClassification.from_pretrained(\"bert-base-uncased\",\n",
        "#                                          config=config)\n"
      ],
      "execution_count": 67,
      "outputs": []
    },
    {
      "cell_type": "code",
      "metadata": {
        "id": "gDYpQzBNRhe3"
      },
      "source": [
        "from transformers import BertForSequenceClassification\n",
        "\n",
        "class RelevanceModel(nn.Module):\n",
        "\n",
        "  def __init__(self, num_of_classes):\n",
        "    super(RelevanceModel, self).__init__()\n",
        "    config = BertConfig.from_pretrained(\"bert-base-uncased\",\n",
        "                                    output_hidden_states=True)\n",
        "\n",
        "    self.bert_model = BertForSequenceClassification.from_pretrained(\"bert-base-uncased\", config=config)\n",
        "    \n",
        "\n",
        "    for param in self.bert_model.parameters():\n",
        "      param.requires_grad = False\n",
        "\n",
        "    self.fc1 = nn.Linear(768 * 2, 512)\n",
        "    self.fc2 = nn.Linear(512, num_of_classes)\n",
        "\n",
        "\n",
        "  def  forward(self, queries, titles):\n",
        "    encoded_queries = self.bert_model(queries)['hidden_states'][-1][:, 0,:]\n",
        "  \n",
        "    encoded_titles = self.bert_model(titles)['hidden_states'][-1][:, 0,:]\n",
        "\n",
        "    out = torch.cat((encoded_queries, encoded_titles), 1)\n",
        "\n",
        "    out = self.fc1(out)\n",
        "    out = torch.relu(out)\n",
        "    out = self.fc2(out)\n",
        "\n",
        "    return out \n",
        "\n",
        "\n",
        "  def reset_parameters(self):\n",
        "    nn.init.uniform_(self.fc1.weight)\n",
        "    nn.init.uniform_(self.fc2.weight)\n"
      ],
      "execution_count": 68,
      "outputs": []
    },
    {
      "cell_type": "code",
      "metadata": {
        "id": "dnTv4wTQRn--"
      },
      "source": [
        "# from transformers import BertForSequenceClassification\n",
        "\n",
        "# class RelevanceModel(nn.Module):\n",
        "\n",
        "#   def __init__(self, num_of_classes):\n",
        "#     super(RelevanceModel, self).__init__()\n",
        "#     config = BertConfig.from_pretrained(\"bert-base-uncased\",\n",
        "#                                     output_hidden_states=True)\n",
        "\n",
        "#     self.bert_model = BertForSequenceClassification.from_pretrained(\"bert-base-uncased\", config=config)\n",
        "\n",
        "#     for param in self.bert_model.parameters():\n",
        "#       param.requires_grad = False\n",
        "\n",
        "#     self.fc = nn.Linear(768 * 2, num_of_classes)\n",
        "\n",
        "#   def  forward(self, queries, titles):\n",
        "#     encoded_queries = self.bert_model(queries)['hidden_states'][-1][:, -1,:]\n",
        "#     #last_hidden_state_cls = outputs[0][:, 0, :]\n",
        "#     encoded_titles = self.bert_model(titles)['hidden_states'][-1][:, -1,:]\n",
        "\n",
        "#     out = torch.cat((encoded_queries, encoded_titles), 1)\n",
        "\n",
        "#     out = self.fc(out)\n",
        "    \n",
        "#     return out \n",
        "\n",
        "\n",
        "#   def reset_parameters(self):\n",
        "#     nn.init.uniform_(self.fc.weight)"
      ],
      "execution_count": null,
      "outputs": []
    },
    {
      "cell_type": "code",
      "metadata": {
        "id": "-VMlZG21ZCK1",
        "colab": {
          "base_uri": "https://localhost:8080/"
        },
        "outputId": "e4559ba7-c22e-4aeb-d0b1-039442bf9236"
      },
      "source": [
        "\n",
        "# # for x in model.parameters():\n",
        "# #   if not x.is_cuda:\n",
        "# #     print(x) \n",
        "\n",
        "# # e1 = EncoderModel(len(vocab)).to(device)\n",
        "# # r = e1(product_title.to(device), product_title_length)\n",
        "# output.shape, product_title_length\n",
        "# #output = r \n",
        "\n",
        "# #8\n",
        "# #out_forward = output[range(len(output)), lengths - 1, :self.embedding_dim ]\n",
        "\n",
        "# # output[range(len(output)), product_title_length - 1, :300][0]\n",
        "# product_title_length\n",
        "#output[0][14], product_title_length"
      ],
      "execution_count": null,
      "outputs": [
        {
          "output_type": "execute_result",
          "data": {
            "text/plain": [
              "tensor([14, 12, 10, 15,  8])"
            ]
          },
          "metadata": {
            "tags": []
          },
          "execution_count": 110
        }
      ]
    },
    {
      "cell_type": "code",
      "metadata": {
        "colab": {
          "base_uri": "https://localhost:8080/"
        },
        "id": "mOpN5VHYENQJ",
        "outputId": "5fdb6a9e-27b4-4018-d550-1631392db324"
      },
      "source": [
        "# output[0][13][300:]\n",
        "# output[:, 0, 300 :].shape, output[:, 0,]\n"
      ],
      "execution_count": null,
      "outputs": [
        {
          "output_type": "execute_result",
          "data": {
            "text/plain": [
              "(torch.Size([5, 300]), torch.Size([5, 15, 600]))"
            ]
          },
          "metadata": {
            "tags": []
          },
          "execution_count": 118
        }
      ]
    },
    {
      "cell_type": "code",
      "metadata": {
        "id": "qFR-SouFR5PB"
      },
      "source": [
        "from torch.nn.utils.rnn import pack_padded_sequence, pad_packed_sequence\n",
        "# query_encoder = EncoderModel(len(vocab))\n",
        "# title_encoder = EncoderModel(len(vocab))\n",
        "\n",
        "# query_encoder.reset_parameters()\n",
        "# title_encoder.reset_parameters()\n",
        "\n",
        "# #search_term, search_term_length, product_title, product_title_length\n",
        "# query_encoded = query_encoder(search_term, search_term_length)\n",
        "# title_encoded = query_encoder(product_title, product_title_length)\n",
        "# torch.cat((query_encoded, title_encoded), 1)"
      ],
      "execution_count": 59,
      "outputs": []
    },
    {
      "cell_type": "code",
      "metadata": {
        "colab": {
          "base_uri": "https://localhost:8080/"
        },
        "id": "CWnKAQe_WQyF",
        "outputId": "81f82373-fc43-4722-c26e-6e9879d5704f"
      },
      "source": [
        "device = torch.device('cuda' if torch.cuda.is_available() else 'cpu')\n",
        "device"
      ],
      "execution_count": 60,
      "outputs": [
        {
          "output_type": "execute_result",
          "data": {
            "text/plain": [
              "device(type='cuda')"
            ]
          },
          "metadata": {
            "tags": []
          },
          "execution_count": 60
        }
      ]
    },
    {
      "cell_type": "code",
      "metadata": {
        "id": "F9AiAsOFMumH",
        "outputId": "77f07c73-ed32-4cff-a960-16b844422af7",
        "colab": {
          "base_uri": "https://localhost:8080/"
        }
      },
      "source": [
        "from sklearn.utils.class_weight import compute_class_weight\n",
        "\n",
        "weights = compute_class_weight('balanced', pd.unique(df['relevance_class']), df['relevance_class'].tolist())\n",
        "weights"
      ],
      "execution_count": 62,
      "outputs": [
        {
          "output_type": "execute_result",
          "data": {
            "text/plain": [
              "array([2.97906486e-01, 2.99866397e+02, 3.54760992e-01, 3.74783682e-01,\n",
              "       4.85717096e-01, 2.70663256e+00, 8.40333560e-01, 1.89536312e+00,\n",
              "       1.42436538e+03, 5.17951049e+02, 6.33051282e+02, 1.13949231e+03,\n",
              "       5.17951049e+02])"
            ]
          },
          "metadata": {
            "tags": []
          },
          "execution_count": 62
        }
      ]
    },
    {
      "cell_type": "code",
      "metadata": {
        "id": "VEpPTJGLoi1d"
      },
      "source": [
        ""
      ],
      "execution_count": 62,
      "outputs": []
    },
    {
      "cell_type": "code",
      "metadata": {
        "colab": {
          "base_uri": "https://localhost:8080/"
        },
        "id": "gu2VvCcmyVy1",
        "outputId": "b688aa6f-33f3-4976-b845-6a802174b34d"
      },
      "source": [
        "weights"
      ],
      "execution_count": 63,
      "outputs": [
        {
          "output_type": "execute_result",
          "data": {
            "text/plain": [
              "array([2.97906486e-01, 2.99866397e+02, 3.54760992e-01, 3.74783682e-01,\n",
              "       4.85717096e-01, 2.70663256e+00, 8.40333560e-01, 1.89536312e+00,\n",
              "       1.42436538e+03, 5.17951049e+02, 6.33051282e+02, 1.13949231e+03,\n",
              "       5.17951049e+02])"
            ]
          },
          "metadata": {
            "tags": []
          },
          "execution_count": 63
        }
      ]
    },
    {
      "cell_type": "code",
      "metadata": {
        "colab": {
          "base_uri": "https://localhost:8080/"
        },
        "id": "B4d4BaszD13U",
        "outputId": "9bd2a0de-1290-4cdf-f8f9-751743d2dd4a"
      },
      "source": [
        ""
      ],
      "execution_count": null,
      "outputs": [
        {
          "output_type": "execute_result",
          "data": {
            "text/plain": [
              "0.0"
            ]
          },
          "metadata": {
            "tags": []
          },
          "execution_count": 147
        }
      ]
    },
    {
      "cell_type": "code",
      "metadata": {
        "id": "7xdHK8OyD0ej"
      },
      "source": [
        ""
      ],
      "execution_count": null,
      "outputs": []
    },
    {
      "cell_type": "code",
      "metadata": {
        "id": "VDEK66lCTIt9",
        "colab": {
          "base_uri": "https://localhost:8080/",
          "height": 171,
          "referenced_widgets": [
            "a8c8c5a2845f402da04ec496d766570a",
            "c06d633da4b84149b23c8e11c7cb7afc",
            "0163fe8a21d24c3b928a62fbc5a69e09",
            "f2f5eaab8b4e477baa143ca754746a77",
            "2f16bc55cd114308a532536b344bc346",
            "8eb44bde87a5485f9572f7fb8b0d89bc",
            "d24c7a68c4b1460dbbfa488e317ec0c1",
            "32d92db219a04ce3bb3fff24ce3c8865"
          ]
        },
        "outputId": "e81319e4-36af-412a-8b0c-05738cc6c22f"
      },
      "source": [
        "from transformers import AutoModel, BertTokenizerFast\n",
        "\n",
        "model = RelevanceModel(num_of_classes)\n",
        "model.reset_parameters()\n",
        "model.to(device)\n",
        "\n",
        "#optimizer = torch.optim.Adam(model.parameters(), lr= 1e-5)\n",
        "from transformers import AdamW\n",
        "\n",
        "# define the optimizer\n",
        "optimizer = AdamW(model.parameters(),lr = 1e-5)\n",
        "\n",
        "class_weights = torch.tensor(weights,dtype=torch.float)\n",
        "criterion = torch.nn.CrossEntropyLoss(weight = class_weights, reduction='sum').to(device)\n"
      ],
      "execution_count": 69,
      "outputs": [
        {
          "output_type": "display_data",
          "data": {
            "application/vnd.jupyter.widget-view+json": {
              "model_id": "a8c8c5a2845f402da04ec496d766570a",
              "version_minor": 0,
              "version_major": 2
            },
            "text/plain": [
              "HBox(children=(FloatProgress(value=0.0, description='Downloading', max=440473133.0, style=ProgressStyle(descri…"
            ]
          },
          "metadata": {
            "tags": []
          }
        },
        {
          "output_type": "stream",
          "text": [
            "\n"
          ],
          "name": "stdout"
        },
        {
          "output_type": "stream",
          "text": [
            "Some weights of the model checkpoint at bert-base-uncased were not used when initializing BertForSequenceClassification: ['cls.predictions.transform.dense.weight', 'cls.predictions.decoder.weight', 'cls.seq_relationship.bias', 'cls.predictions.transform.LayerNorm.weight', 'cls.predictions.transform.dense.bias', 'cls.predictions.transform.LayerNorm.bias', 'cls.seq_relationship.weight', 'cls.predictions.bias']\n",
            "- This IS expected if you are initializing BertForSequenceClassification from the checkpoint of a model trained on another task or with another architecture (e.g. initializing a BertForSequenceClassification model from a BertForPreTraining model).\n",
            "- This IS NOT expected if you are initializing BertForSequenceClassification from the checkpoint of a model that you expect to be exactly identical (initializing a BertForSequenceClassification model from a BertForSequenceClassification model).\n",
            "Some weights of BertForSequenceClassification were not initialized from the model checkpoint at bert-base-uncased and are newly initialized: ['classifier.weight', 'classifier.bias']\n",
            "You should probably TRAIN this model on a down-stream task to be able to use it for predictions and inference.\n"
          ],
          "name": "stderr"
        }
      ]
    },
    {
      "cell_type": "code",
      "metadata": {
        "colab": {
          "base_uri": "https://localhost:8080/"
        },
        "id": "tJiU_nc8WP8l",
        "outputId": "7037bf4d-823f-40ae-f8c6-ce81a8a99388"
      },
      "source": [
        "class_weights[2].numpy(), weights[2]"
      ],
      "execution_count": null,
      "outputs": [
        {
          "output_type": "execute_result",
          "data": {
            "text/plain": [
              "(array(0.35470936, dtype=float32), 0.3547093708384031)"
            ]
          },
          "metadata": {
            "tags": []
          },
          "execution_count": 204
        }
      ]
    },
    {
      "cell_type": "code",
      "metadata": {
        "id": "knnaKV2bWAA8"
      },
      "source": [
        "\n",
        "def train_epoc(epoc):\n",
        "\n",
        "  model.train()\n",
        "\n",
        "  running_loss = 0.0\n",
        "  counter = 0.0\n",
        "  correct_classified = 0.0 \n",
        "  for ids, search_term, product_title, target_relevance_score  in train_data_loader:\n",
        "    search_term = Variable(search_term).to(device)\n",
        "    product_title = Variable(product_title).to(device)\n",
        "    target_relevance_score = Variable(target_relevance_score).long().to(device)\n",
        "\n",
        "    optimizer.zero_grad()\n",
        "\n",
        "    scores = model(search_term, product_title)\n",
        "    loss = criterion(scores, target_relevance_score)\n",
        "\n",
        "    \n",
        "\n",
        "    loss.backward()\n",
        "    optimizer.step()\n",
        "    \n",
        "    running_loss += loss.item()\n",
        "    counter += search_term.shape[0]\n",
        "    correct_classified += np.sum(torch.argmax(scores, dim=1).cpu().detach().numpy()== target_relevance_score.cpu().numpy())\n",
        "\n",
        "  return running_loss/counter, correct_classified/counter\n",
        "\n",
        "def validation():\n",
        "  model.eval()\n",
        "\n",
        "  running_loss  = 0.0\n",
        "  counter = 0.0\n",
        "\n",
        "  correct_classified = 0.0 \n",
        "\n",
        "  with torch.no_grad():\n",
        "    for ids, search_term, search_term_length, product_title, product_title_length, target_relevance_score in valiodation_data_loader:\n",
        "      search_term = Variable(search_term).to(device)\n",
        "      product_title = Variable(product_title).to(device)\n",
        "      target_relevance_score = Variable(target_relevance_score).float().to(device)\n",
        "      scores = model(search_term, product_title, search_term_length,  product_title_length)\n",
        "\n",
        "    \n",
        "      \n",
        "      loss = criterion(scores, target_relevance_score.long())\n",
        "      running_loss += loss.item()\n",
        "      counter += search_term.shape[0]\n",
        "      correct_classified += np.sum(torch.argmax(scores, dim=1).cpu().detach().numpy()== target_relevance_score.cpu().numpy())\n",
        "  \n",
        "  #print('validation epoc {} loss {} counter {}'.format(epoc, running_loss/counter, counter))\n",
        "\n",
        "  return running_loss/counter, correct_classified/counter  \n",
        "\n",
        "\n"
      ],
      "execution_count": 74,
      "outputs": []
    },
    {
      "cell_type": "code",
      "metadata": {
        "id": "P5w7B_5bF5tl"
      },
      "source": [
        "from livelossplot import PlotLosses\n",
        "\n",
        "liveloss = PlotLosses()\n",
        "\n",
        "for epoc in range(1000):\n",
        "\n",
        "  train_loss, train_accuracy = train_epoc(epoc)\n",
        "  validation_loss, val_accuracy = validation()\n",
        "\n",
        "  liveloss.update({\n",
        "          'train_loss': train_loss,\n",
        "          'validation_loss': validation_loss,\n",
        "\n",
        "          'train_accuracy': train_accuracy,\n",
        "          'validation_accuracy': val_accuracy\n",
        "      })\n",
        "    \n",
        "  liveloss.draw()"
      ],
      "execution_count": null,
      "outputs": []
    },
    {
      "cell_type": "code",
      "metadata": {
        "id": "j23Rz5eLleqd",
        "colab": {
          "base_uri": "https://localhost:8080/"
        },
        "outputId": "d8ad98cc-2bb6-4239-c34f-33999dd2e8d4"
      },
      "source": [
        "# mse_loss(scores.view(1, -1), target_relevance_score.view(1, -1))\n",
        "# counter\n",
        "torch.argmax(scores, dim=1), target_relevance_score"
      ],
      "execution_count": null,
      "outputs": [
        {
          "output_type": "execute_result",
          "data": {
            "text/plain": [
              "(tensor([ 0,  0,  4,  4,  6,  0,  0,  6,  4,  0,  7,  1,  4,  4,  7,  5,  6,  6,\n",
              "          1,  4,  6,  0,  6,  4,  4, 10,  4,  4,  6, 10,  6,  6,  0,  0,  0,  4,\n",
              "          4,  0,  6,  0,  6, 10,  0,  1, 10,  0,  4,  7,  0,  5,  0,  5,  4, 10,\n",
              "         10,  4,  4,  0,  7,  7,  6,  4,  6,  0], device='cuda:0'),\n",
              " tensor([2, 0, 2, 0, 0, 6, 0, 6, 2, 6, 0, 4, 7, 2, 4, 2, 2, 6, 4, 4, 5, 6, 4, 3,\n",
              "         6, 0, 0, 2, 0, 0, 6, 3, 2, 4, 3, 0, 0, 4, 0, 0, 4, 4, 4, 0, 0, 0, 2, 4,\n",
              "         0, 3, 4, 5, 3, 3, 0, 3, 4, 0, 3, 3, 0, 0, 0, 0]))"
            ]
          },
          "metadata": {
            "tags": []
          },
          "execution_count": 122
        }
      ]
    },
    {
      "cell_type": "code",
      "metadata": {
        "id": "1B5hKqKGe-y-",
        "colab": {
          "base_uri": "https://localhost:8080/"
        },
        "outputId": "f40ac4d6-11ad-4d5b-c20a-b111868f38a1"
      },
      "source": [
        "np.sum(torch.argmax(scores, dim=1).detach().cpu().numpy() == target_relevance_score.numpy())"
      ],
      "execution_count": null,
      "outputs": [
        {
          "output_type": "execute_result",
          "data": {
            "text/plain": [
              "13"
            ]
          },
          "metadata": {
            "tags": []
          },
          "execution_count": 126
        }
      ]
    },
    {
      "cell_type": "code",
      "metadata": {
        "colab": {
          "base_uri": "https://localhost:8080/",
          "height": 164
        },
        "id": "GTBEJ3CasIks",
        "outputId": "26206649-135f-4a51-f31e-6afd534431f6"
      },
      "source": [
        "r1, scores.shape"
      ],
      "execution_count": null,
      "outputs": [
        {
          "output_type": "error",
          "ename": "NameError",
          "evalue": "ignored",
          "traceback": [
            "\u001b[0;31m---------------------------------------------------------------------------\u001b[0m",
            "\u001b[0;31mNameError\u001b[0m                                 Traceback (most recent call last)",
            "\u001b[0;32m<ipython-input-139-e40e950c9e25>\u001b[0m in \u001b[0;36m<module>\u001b[0;34m()\u001b[0m\n\u001b[0;32m----> 1\u001b[0;31m \u001b[0mr1\u001b[0m\u001b[0;34m,\u001b[0m \u001b[0mscores\u001b[0m\u001b[0;34m.\u001b[0m\u001b[0mshape\u001b[0m\u001b[0;34m\u001b[0m\u001b[0;34m\u001b[0m\u001b[0m\n\u001b[0m",
            "\u001b[0;31mNameError\u001b[0m: name 'r1' is not defined"
          ]
        }
      ]
    },
    {
      "cell_type": "code",
      "metadata": {
        "id": "Tgvd78qCkW8m"
      },
      "source": [
        "\n",
        "\n",
        "model.eval()\n",
        "test_scores = []\n",
        "test_ids =[]\n",
        "tt = []\n",
        "\n",
        "with torch.no_grad():\n",
        "  for ids, search_term, product_title, target_relevance_score in train_data_loader:\n",
        "    search_term = Variable(search_term).to(device)\n",
        "    product_title = Variable(product_title).to(device)\n",
        "    \n",
        "\n",
        "    scores = model(search_term, product_title)\n",
        "\n",
        "    test_scores.extend(scores.detach().cpu().numpy().flatten().tolist())\n",
        "    test_ids.extend(ids.numpy().tolist())\n",
        "    tt.extend(target_relevance_score.numpy().tolist())\n",
        "\n",
        "    break\n",
        "  \n",
        "\n"
      ],
      "execution_count": null,
      "outputs": []
    },
    {
      "cell_type": "code",
      "metadata": {
        "id": "-EdxRw_b_LTq"
      },
      "source": [
        "for _ in test_data_loader:\n",
        "  break"
      ],
      "execution_count": null,
      "outputs": []
    },
    {
      "cell_type": "code",
      "metadata": {
        "colab": {
          "base_uri": "https://localhost:8080/",
          "height": 375
        },
        "id": "iYqvaAVNk6pY",
        "outputId": "aa4c6775-8edf-4135-a1cb-6d285b45b7e9"
      },
      "source": [
        "model.eval()\n",
        "test_scores = []\n",
        "test_ids =[]\n",
        "tt = []\n",
        "test_data = []\n",
        "with torch.no_grad():\n",
        "  for ids, search_term, product_title, target_relevance_score in test_data_loader:\n",
        "     \n",
        "    search_term = Variable(search_term).to(device)\n",
        "    product_title = Variable(product_title).to(device)\n",
        "    \n",
        "\n",
        "    scores = model(search_term, product_title)\n",
        "\n",
        "    vals = torch.argmax(scores, dim=1).flatten().detach().cpu().numpy().tolist()\n",
        "    ids = ids.numpy().tolist()\n",
        "\n",
        "    test_data.extend(zip(ids, vals))\n",
        "\n",
        "\n",
        "\n",
        "    \n",
        "  "
      ],
      "execution_count": null,
      "outputs": [
        {
          "output_type": "error",
          "ename": "KeyboardInterrupt",
          "evalue": "ignored",
          "traceback": [
            "\u001b[0;31m---------------------------------------------------------------------------\u001b[0m",
            "\u001b[0;31mKeyboardInterrupt\u001b[0m                         Traceback (most recent call last)",
            "\u001b[0;32m<ipython-input-120-cfd8370ac520>\u001b[0m in \u001b[0;36m<module>\u001b[0;34m()\u001b[0m\n\u001b[1;32m      5\u001b[0m \u001b[0mtest_data\u001b[0m \u001b[0;34m=\u001b[0m \u001b[0;34m[\u001b[0m\u001b[0;34m]\u001b[0m\u001b[0;34m\u001b[0m\u001b[0;34m\u001b[0m\u001b[0m\n\u001b[1;32m      6\u001b[0m \u001b[0;32mwith\u001b[0m \u001b[0mtorch\u001b[0m\u001b[0;34m.\u001b[0m\u001b[0mno_grad\u001b[0m\u001b[0;34m(\u001b[0m\u001b[0;34m)\u001b[0m\u001b[0;34m:\u001b[0m\u001b[0;34m\u001b[0m\u001b[0;34m\u001b[0m\u001b[0m\n\u001b[0;32m----> 7\u001b[0;31m   \u001b[0;32mfor\u001b[0m \u001b[0mids\u001b[0m\u001b[0;34m,\u001b[0m \u001b[0msearch_term\u001b[0m\u001b[0;34m,\u001b[0m \u001b[0mproduct_title\u001b[0m\u001b[0;34m,\u001b[0m \u001b[0mtarget_relevance_score\u001b[0m \u001b[0;32min\u001b[0m \u001b[0mtest_data_loader\u001b[0m\u001b[0;34m:\u001b[0m\u001b[0;34m\u001b[0m\u001b[0;34m\u001b[0m\u001b[0m\n\u001b[0m\u001b[1;32m      8\u001b[0m \u001b[0;34m\u001b[0m\u001b[0m\n\u001b[1;32m      9\u001b[0m     \u001b[0msearch_term\u001b[0m \u001b[0;34m=\u001b[0m \u001b[0mVariable\u001b[0m\u001b[0;34m(\u001b[0m\u001b[0msearch_term\u001b[0m\u001b[0;34m)\u001b[0m\u001b[0;34m.\u001b[0m\u001b[0mto\u001b[0m\u001b[0;34m(\u001b[0m\u001b[0mdevice\u001b[0m\u001b[0;34m)\u001b[0m\u001b[0;34m\u001b[0m\u001b[0;34m\u001b[0m\u001b[0m\n",
            "\u001b[0;32m/usr/local/lib/python3.7/dist-packages/torch/utils/data/dataloader.py\u001b[0m in \u001b[0;36m__next__\u001b[0;34m(self)\u001b[0m\n\u001b[1;32m    519\u001b[0m             \u001b[0;32mif\u001b[0m \u001b[0mself\u001b[0m\u001b[0;34m.\u001b[0m\u001b[0m_sampler_iter\u001b[0m \u001b[0;32mis\u001b[0m \u001b[0;32mNone\u001b[0m\u001b[0;34m:\u001b[0m\u001b[0;34m\u001b[0m\u001b[0;34m\u001b[0m\u001b[0m\n\u001b[1;32m    520\u001b[0m                 \u001b[0mself\u001b[0m\u001b[0;34m.\u001b[0m\u001b[0m_reset\u001b[0m\u001b[0;34m(\u001b[0m\u001b[0;34m)\u001b[0m\u001b[0;34m\u001b[0m\u001b[0;34m\u001b[0m\u001b[0m\n\u001b[0;32m--> 521\u001b[0;31m             \u001b[0mdata\u001b[0m \u001b[0;34m=\u001b[0m \u001b[0mself\u001b[0m\u001b[0;34m.\u001b[0m\u001b[0m_next_data\u001b[0m\u001b[0;34m(\u001b[0m\u001b[0;34m)\u001b[0m\u001b[0;34m\u001b[0m\u001b[0;34m\u001b[0m\u001b[0m\n\u001b[0m\u001b[1;32m    522\u001b[0m             \u001b[0mself\u001b[0m\u001b[0;34m.\u001b[0m\u001b[0m_num_yielded\u001b[0m \u001b[0;34m+=\u001b[0m \u001b[0;36m1\u001b[0m\u001b[0;34m\u001b[0m\u001b[0;34m\u001b[0m\u001b[0m\n\u001b[1;32m    523\u001b[0m             \u001b[0;32mif\u001b[0m \u001b[0mself\u001b[0m\u001b[0;34m.\u001b[0m\u001b[0m_dataset_kind\u001b[0m \u001b[0;34m==\u001b[0m \u001b[0m_DatasetKind\u001b[0m\u001b[0;34m.\u001b[0m\u001b[0mIterable\u001b[0m \u001b[0;32mand\u001b[0m\u001b[0;31m \u001b[0m\u001b[0;31m\\\u001b[0m\u001b[0;34m\u001b[0m\u001b[0;34m\u001b[0m\u001b[0m\n",
            "\u001b[0;32m/usr/local/lib/python3.7/dist-packages/torch/utils/data/dataloader.py\u001b[0m in \u001b[0;36m_next_data\u001b[0;34m(self)\u001b[0m\n\u001b[1;32m   1184\u001b[0m \u001b[0;34m\u001b[0m\u001b[0m\n\u001b[1;32m   1185\u001b[0m             \u001b[0;32massert\u001b[0m \u001b[0;32mnot\u001b[0m \u001b[0mself\u001b[0m\u001b[0;34m.\u001b[0m\u001b[0m_shutdown\u001b[0m \u001b[0;32mand\u001b[0m \u001b[0mself\u001b[0m\u001b[0;34m.\u001b[0m\u001b[0m_tasks_outstanding\u001b[0m \u001b[0;34m>\u001b[0m \u001b[0;36m0\u001b[0m\u001b[0;34m\u001b[0m\u001b[0;34m\u001b[0m\u001b[0m\n\u001b[0;32m-> 1186\u001b[0;31m             \u001b[0midx\u001b[0m\u001b[0;34m,\u001b[0m \u001b[0mdata\u001b[0m \u001b[0;34m=\u001b[0m \u001b[0mself\u001b[0m\u001b[0;34m.\u001b[0m\u001b[0m_get_data\u001b[0m\u001b[0;34m(\u001b[0m\u001b[0;34m)\u001b[0m\u001b[0;34m\u001b[0m\u001b[0;34m\u001b[0m\u001b[0m\n\u001b[0m\u001b[1;32m   1187\u001b[0m             \u001b[0mself\u001b[0m\u001b[0;34m.\u001b[0m\u001b[0m_tasks_outstanding\u001b[0m \u001b[0;34m-=\u001b[0m \u001b[0;36m1\u001b[0m\u001b[0;34m\u001b[0m\u001b[0;34m\u001b[0m\u001b[0m\n\u001b[1;32m   1188\u001b[0m             \u001b[0;32mif\u001b[0m \u001b[0mself\u001b[0m\u001b[0;34m.\u001b[0m\u001b[0m_dataset_kind\u001b[0m \u001b[0;34m==\u001b[0m \u001b[0m_DatasetKind\u001b[0m\u001b[0;34m.\u001b[0m\u001b[0mIterable\u001b[0m\u001b[0;34m:\u001b[0m\u001b[0;34m\u001b[0m\u001b[0;34m\u001b[0m\u001b[0m\n",
            "\u001b[0;32m/usr/local/lib/python3.7/dist-packages/torch/utils/data/dataloader.py\u001b[0m in \u001b[0;36m_get_data\u001b[0;34m(self)\u001b[0m\n\u001b[1;32m   1150\u001b[0m         \u001b[0;32melse\u001b[0m\u001b[0;34m:\u001b[0m\u001b[0;34m\u001b[0m\u001b[0;34m\u001b[0m\u001b[0m\n\u001b[1;32m   1151\u001b[0m             \u001b[0;32mwhile\u001b[0m \u001b[0;32mTrue\u001b[0m\u001b[0;34m:\u001b[0m\u001b[0;34m\u001b[0m\u001b[0;34m\u001b[0m\u001b[0m\n\u001b[0;32m-> 1152\u001b[0;31m                 \u001b[0msuccess\u001b[0m\u001b[0;34m,\u001b[0m \u001b[0mdata\u001b[0m \u001b[0;34m=\u001b[0m \u001b[0mself\u001b[0m\u001b[0;34m.\u001b[0m\u001b[0m_try_get_data\u001b[0m\u001b[0;34m(\u001b[0m\u001b[0;34m)\u001b[0m\u001b[0;34m\u001b[0m\u001b[0;34m\u001b[0m\u001b[0m\n\u001b[0m\u001b[1;32m   1153\u001b[0m                 \u001b[0;32mif\u001b[0m \u001b[0msuccess\u001b[0m\u001b[0;34m:\u001b[0m\u001b[0;34m\u001b[0m\u001b[0;34m\u001b[0m\u001b[0m\n\u001b[1;32m   1154\u001b[0m                     \u001b[0;32mreturn\u001b[0m \u001b[0mdata\u001b[0m\u001b[0;34m\u001b[0m\u001b[0;34m\u001b[0m\u001b[0m\n",
            "\u001b[0;32m/usr/local/lib/python3.7/dist-packages/torch/utils/data/dataloader.py\u001b[0m in \u001b[0;36m_try_get_data\u001b[0;34m(self, timeout)\u001b[0m\n\u001b[1;32m    988\u001b[0m         \u001b[0;31m#   (bool: whether successfully get data, any: data if successful else None)\u001b[0m\u001b[0;34m\u001b[0m\u001b[0;34m\u001b[0m\u001b[0;34m\u001b[0m\u001b[0m\n\u001b[1;32m    989\u001b[0m         \u001b[0;32mtry\u001b[0m\u001b[0;34m:\u001b[0m\u001b[0;34m\u001b[0m\u001b[0;34m\u001b[0m\u001b[0m\n\u001b[0;32m--> 990\u001b[0;31m             \u001b[0mdata\u001b[0m \u001b[0;34m=\u001b[0m \u001b[0mself\u001b[0m\u001b[0;34m.\u001b[0m\u001b[0m_data_queue\u001b[0m\u001b[0;34m.\u001b[0m\u001b[0mget\u001b[0m\u001b[0;34m(\u001b[0m\u001b[0mtimeout\u001b[0m\u001b[0;34m=\u001b[0m\u001b[0mtimeout\u001b[0m\u001b[0;34m)\u001b[0m\u001b[0;34m\u001b[0m\u001b[0;34m\u001b[0m\u001b[0m\n\u001b[0m\u001b[1;32m    991\u001b[0m             \u001b[0;32mreturn\u001b[0m \u001b[0;34m(\u001b[0m\u001b[0;32mTrue\u001b[0m\u001b[0;34m,\u001b[0m \u001b[0mdata\u001b[0m\u001b[0;34m)\u001b[0m\u001b[0;34m\u001b[0m\u001b[0;34m\u001b[0m\u001b[0m\n\u001b[1;32m    992\u001b[0m         \u001b[0;32mexcept\u001b[0m \u001b[0mException\u001b[0m \u001b[0;32mas\u001b[0m \u001b[0me\u001b[0m\u001b[0;34m:\u001b[0m\u001b[0;34m\u001b[0m\u001b[0;34m\u001b[0m\u001b[0m\n",
            "\u001b[0;32m/usr/lib/python3.7/multiprocessing/queues.py\u001b[0m in \u001b[0;36mget\u001b[0;34m(self, block, timeout)\u001b[0m\n\u001b[1;32m    111\u001b[0m                 \u001b[0mself\u001b[0m\u001b[0;34m.\u001b[0m\u001b[0m_rlock\u001b[0m\u001b[0;34m.\u001b[0m\u001b[0mrelease\u001b[0m\u001b[0;34m(\u001b[0m\u001b[0;34m)\u001b[0m\u001b[0;34m\u001b[0m\u001b[0;34m\u001b[0m\u001b[0m\n\u001b[1;32m    112\u001b[0m         \u001b[0;31m# unserialize the data after having released the lock\u001b[0m\u001b[0;34m\u001b[0m\u001b[0;34m\u001b[0m\u001b[0;34m\u001b[0m\u001b[0m\n\u001b[0;32m--> 113\u001b[0;31m         \u001b[0;32mreturn\u001b[0m \u001b[0m_ForkingPickler\u001b[0m\u001b[0;34m.\u001b[0m\u001b[0mloads\u001b[0m\u001b[0;34m(\u001b[0m\u001b[0mres\u001b[0m\u001b[0;34m)\u001b[0m\u001b[0;34m\u001b[0m\u001b[0;34m\u001b[0m\u001b[0m\n\u001b[0m\u001b[1;32m    114\u001b[0m \u001b[0;34m\u001b[0m\u001b[0m\n\u001b[1;32m    115\u001b[0m     \u001b[0;32mdef\u001b[0m \u001b[0mqsize\u001b[0m\u001b[0;34m(\u001b[0m\u001b[0mself\u001b[0m\u001b[0;34m)\u001b[0m\u001b[0;34m:\u001b[0m\u001b[0;34m\u001b[0m\u001b[0;34m\u001b[0m\u001b[0m\n",
            "\u001b[0;32m/usr/local/lib/python3.7/dist-packages/torch/multiprocessing/reductions.py\u001b[0m in \u001b[0;36mrebuild_storage_fd\u001b[0;34m(cls, df, size)\u001b[0m\n\u001b[1;32m    287\u001b[0m \u001b[0;34m\u001b[0m\u001b[0m\n\u001b[1;32m    288\u001b[0m \u001b[0;32mdef\u001b[0m \u001b[0mrebuild_storage_fd\u001b[0m\u001b[0;34m(\u001b[0m\u001b[0mcls\u001b[0m\u001b[0;34m,\u001b[0m \u001b[0mdf\u001b[0m\u001b[0;34m,\u001b[0m \u001b[0msize\u001b[0m\u001b[0;34m)\u001b[0m\u001b[0;34m:\u001b[0m\u001b[0;34m\u001b[0m\u001b[0;34m\u001b[0m\u001b[0m\n\u001b[0;32m--> 289\u001b[0;31m     \u001b[0mfd\u001b[0m \u001b[0;34m=\u001b[0m \u001b[0mdf\u001b[0m\u001b[0;34m.\u001b[0m\u001b[0mdetach\u001b[0m\u001b[0;34m(\u001b[0m\u001b[0;34m)\u001b[0m\u001b[0;34m\u001b[0m\u001b[0;34m\u001b[0m\u001b[0m\n\u001b[0m\u001b[1;32m    290\u001b[0m     \u001b[0;32mtry\u001b[0m\u001b[0;34m:\u001b[0m\u001b[0;34m\u001b[0m\u001b[0;34m\u001b[0m\u001b[0m\n\u001b[1;32m    291\u001b[0m         \u001b[0mstorage\u001b[0m \u001b[0;34m=\u001b[0m \u001b[0mstorage_from_cache\u001b[0m\u001b[0;34m(\u001b[0m\u001b[0mcls\u001b[0m\u001b[0;34m,\u001b[0m \u001b[0mfd_id\u001b[0m\u001b[0;34m(\u001b[0m\u001b[0mfd\u001b[0m\u001b[0;34m)\u001b[0m\u001b[0;34m)\u001b[0m\u001b[0;34m\u001b[0m\u001b[0;34m\u001b[0m\u001b[0m\n",
            "\u001b[0;32m/usr/lib/python3.7/multiprocessing/resource_sharer.py\u001b[0m in \u001b[0;36mdetach\u001b[0;34m(self)\u001b[0m\n\u001b[1;32m     56\u001b[0m             \u001b[0;34m'''Get the fd.  This should only be called once.'''\u001b[0m\u001b[0;34m\u001b[0m\u001b[0;34m\u001b[0m\u001b[0m\n\u001b[1;32m     57\u001b[0m             \u001b[0;32mwith\u001b[0m \u001b[0m_resource_sharer\u001b[0m\u001b[0;34m.\u001b[0m\u001b[0mget_connection\u001b[0m\u001b[0;34m(\u001b[0m\u001b[0mself\u001b[0m\u001b[0;34m.\u001b[0m\u001b[0m_id\u001b[0m\u001b[0;34m)\u001b[0m \u001b[0;32mas\u001b[0m \u001b[0mconn\u001b[0m\u001b[0;34m:\u001b[0m\u001b[0;34m\u001b[0m\u001b[0;34m\u001b[0m\u001b[0m\n\u001b[0;32m---> 58\u001b[0;31m                 \u001b[0;32mreturn\u001b[0m \u001b[0mreduction\u001b[0m\u001b[0;34m.\u001b[0m\u001b[0mrecv_handle\u001b[0m\u001b[0;34m(\u001b[0m\u001b[0mconn\u001b[0m\u001b[0;34m)\u001b[0m\u001b[0;34m\u001b[0m\u001b[0;34m\u001b[0m\u001b[0m\n\u001b[0m\u001b[1;32m     59\u001b[0m \u001b[0;34m\u001b[0m\u001b[0m\n\u001b[1;32m     60\u001b[0m \u001b[0;34m\u001b[0m\u001b[0m\n",
            "\u001b[0;32m/usr/lib/python3.7/multiprocessing/reduction.py\u001b[0m in \u001b[0;36mrecv_handle\u001b[0;34m(conn)\u001b[0m\n\u001b[1;32m    183\u001b[0m         \u001b[0;34m'''Receive a handle over a local connection.'''\u001b[0m\u001b[0;34m\u001b[0m\u001b[0;34m\u001b[0m\u001b[0m\n\u001b[1;32m    184\u001b[0m         \u001b[0;32mwith\u001b[0m \u001b[0msocket\u001b[0m\u001b[0;34m.\u001b[0m\u001b[0mfromfd\u001b[0m\u001b[0;34m(\u001b[0m\u001b[0mconn\u001b[0m\u001b[0;34m.\u001b[0m\u001b[0mfileno\u001b[0m\u001b[0;34m(\u001b[0m\u001b[0;34m)\u001b[0m\u001b[0;34m,\u001b[0m \u001b[0msocket\u001b[0m\u001b[0;34m.\u001b[0m\u001b[0mAF_UNIX\u001b[0m\u001b[0;34m,\u001b[0m \u001b[0msocket\u001b[0m\u001b[0;34m.\u001b[0m\u001b[0mSOCK_STREAM\u001b[0m\u001b[0;34m)\u001b[0m \u001b[0;32mas\u001b[0m \u001b[0ms\u001b[0m\u001b[0;34m:\u001b[0m\u001b[0;34m\u001b[0m\u001b[0;34m\u001b[0m\u001b[0m\n\u001b[0;32m--> 185\u001b[0;31m             \u001b[0;32mreturn\u001b[0m \u001b[0mrecvfds\u001b[0m\u001b[0;34m(\u001b[0m\u001b[0ms\u001b[0m\u001b[0;34m,\u001b[0m \u001b[0;36m1\u001b[0m\u001b[0;34m)\u001b[0m\u001b[0;34m[\u001b[0m\u001b[0;36m0\u001b[0m\u001b[0;34m]\u001b[0m\u001b[0;34m\u001b[0m\u001b[0;34m\u001b[0m\u001b[0m\n\u001b[0m\u001b[1;32m    186\u001b[0m \u001b[0;34m\u001b[0m\u001b[0m\n\u001b[1;32m    187\u001b[0m     \u001b[0;32mdef\u001b[0m \u001b[0mDupFd\u001b[0m\u001b[0;34m(\u001b[0m\u001b[0mfd\u001b[0m\u001b[0;34m)\u001b[0m\u001b[0;34m:\u001b[0m\u001b[0;34m\u001b[0m\u001b[0;34m\u001b[0m\u001b[0m\n",
            "\u001b[0;32m/usr/lib/python3.7/multiprocessing/reduction.py\u001b[0m in \u001b[0;36mrecvfds\u001b[0;34m(sock, size)\u001b[0m\n\u001b[1;32m    151\u001b[0m         \u001b[0ma\u001b[0m \u001b[0;34m=\u001b[0m \u001b[0marray\u001b[0m\u001b[0;34m.\u001b[0m\u001b[0marray\u001b[0m\u001b[0;34m(\u001b[0m\u001b[0;34m'i'\u001b[0m\u001b[0;34m)\u001b[0m\u001b[0;34m\u001b[0m\u001b[0;34m\u001b[0m\u001b[0m\n\u001b[1;32m    152\u001b[0m         \u001b[0mbytes_size\u001b[0m \u001b[0;34m=\u001b[0m \u001b[0ma\u001b[0m\u001b[0;34m.\u001b[0m\u001b[0mitemsize\u001b[0m \u001b[0;34m*\u001b[0m \u001b[0msize\u001b[0m\u001b[0;34m\u001b[0m\u001b[0;34m\u001b[0m\u001b[0m\n\u001b[0;32m--> 153\u001b[0;31m         \u001b[0mmsg\u001b[0m\u001b[0;34m,\u001b[0m \u001b[0mancdata\u001b[0m\u001b[0;34m,\u001b[0m \u001b[0mflags\u001b[0m\u001b[0;34m,\u001b[0m \u001b[0maddr\u001b[0m \u001b[0;34m=\u001b[0m \u001b[0msock\u001b[0m\u001b[0;34m.\u001b[0m\u001b[0mrecvmsg\u001b[0m\u001b[0;34m(\u001b[0m\u001b[0;36m1\u001b[0m\u001b[0;34m,\u001b[0m \u001b[0msocket\u001b[0m\u001b[0;34m.\u001b[0m\u001b[0mCMSG_SPACE\u001b[0m\u001b[0;34m(\u001b[0m\u001b[0mbytes_size\u001b[0m\u001b[0;34m)\u001b[0m\u001b[0;34m)\u001b[0m\u001b[0;34m\u001b[0m\u001b[0;34m\u001b[0m\u001b[0m\n\u001b[0m\u001b[1;32m    154\u001b[0m         \u001b[0;32mif\u001b[0m \u001b[0;32mnot\u001b[0m \u001b[0mmsg\u001b[0m \u001b[0;32mand\u001b[0m \u001b[0;32mnot\u001b[0m \u001b[0mancdata\u001b[0m\u001b[0;34m:\u001b[0m\u001b[0;34m\u001b[0m\u001b[0;34m\u001b[0m\u001b[0m\n\u001b[1;32m    155\u001b[0m             \u001b[0;32mraise\u001b[0m \u001b[0mEOFError\u001b[0m\u001b[0;34m\u001b[0m\u001b[0;34m\u001b[0m\u001b[0m\n",
            "\u001b[0;31mKeyboardInterrupt\u001b[0m: "
          ]
        }
      ]
    },
    {
      "cell_type": "code",
      "metadata": {
        "id": "3k-HHAoXDZCJ",
        "colab": {
          "base_uri": "https://localhost:8080/"
        },
        "outputId": "ce45f3e5-ac44-4e64-8bec-8e2353ce7fe0"
      },
      "source": [
        "# 166693, len(test_data), len(test_df)\n",
        "all_ids = {x for (x, _) in test_data}\n",
        "\n",
        "for _, row in test_df.iterrows():\n",
        "  if row['id'] not in all_ids:\n",
        "    test_data.append((row['id'], 1))\n",
        "    \n",
        "len(test_data)"
      ],
      "execution_count": null,
      "outputs": [
        {
          "output_type": "execute_result",
          "data": {
            "text/plain": [
              "166693"
            ]
          },
          "metadata": {
            "tags": []
          },
          "execution_count": 93
        }
      ]
    },
    {
      "cell_type": "code",
      "metadata": {
        "id": "gCkYUGAMgvqF"
      },
      "source": [
        "pd.DataFrame([(id, cls_to_score[cls]) for (id, cls) in test_data], columns = [\"id\", \"relevance\"]).to_csv(\"test_res.csv\", index=  False)"
      ],
      "execution_count": null,
      "outputs": []
    },
    {
      "cell_type": "code",
      "metadata": {
        "id": "Ee6XfNPdDKx-",
        "colab": {
          "base_uri": "https://localhost:8080/",
          "height": 17
        },
        "outputId": "18c4fd2a-77b5-40dc-b802-71af0983f330"
      },
      "source": [
        "from google.colab import files\n",
        "files.download('test_res.csv') "
      ],
      "execution_count": null,
      "outputs": [
        {
          "output_type": "display_data",
          "data": {
            "application/javascript": [
              "\n",
              "    async function download(id, filename, size) {\n",
              "      if (!google.colab.kernel.accessAllowed) {\n",
              "        return;\n",
              "      }\n",
              "      const div = document.createElement('div');\n",
              "      const label = document.createElement('label');\n",
              "      label.textContent = `Downloading \"${filename}\": `;\n",
              "      div.appendChild(label);\n",
              "      const progress = document.createElement('progress');\n",
              "      progress.max = size;\n",
              "      div.appendChild(progress);\n",
              "      document.body.appendChild(div);\n",
              "\n",
              "      const buffers = [];\n",
              "      let downloaded = 0;\n",
              "\n",
              "      const channel = await google.colab.kernel.comms.open(id);\n",
              "      // Send a message to notify the kernel that we're ready.\n",
              "      channel.send({})\n",
              "\n",
              "      for await (const message of channel.messages) {\n",
              "        // Send a message to notify the kernel that we're ready.\n",
              "        channel.send({})\n",
              "        if (message.buffers) {\n",
              "          for (const buffer of message.buffers) {\n",
              "            buffers.push(buffer);\n",
              "            downloaded += buffer.byteLength;\n",
              "            progress.value = downloaded;\n",
              "          }\n",
              "        }\n",
              "      }\n",
              "      const blob = new Blob(buffers, {type: 'application/binary'});\n",
              "      const a = document.createElement('a');\n",
              "      a.href = window.URL.createObjectURL(blob);\n",
              "      a.download = filename;\n",
              "      div.appendChild(a);\n",
              "      a.click();\n",
              "      div.remove();\n",
              "    }\n",
              "  "
            ],
            "text/plain": [
              "<IPython.core.display.Javascript object>"
            ]
          },
          "metadata": {
            "tags": []
          }
        },
        {
          "output_type": "display_data",
          "data": {
            "application/javascript": [
              "download(\"download_f1fa6b5d-807b-4df1-b82c-3b19b4724bfd\", \"test_res.csv\", 1850918)"
            ],
            "text/plain": [
              "<IPython.core.display.Javascript object>"
            ]
          },
          "metadata": {
            "tags": []
          }
        }
      ]
    },
    {
      "cell_type": "code",
      "metadata": {
        "id": "nrqzbWUODp-Z",
        "colab": {
          "base_uri": "https://localhost:8080/",
          "height": 114
        },
        "outputId": "3afbb0ac-512f-4b76-e5a1-a8d59f96d5fb"
      },
      "source": [
        "test_df.sample(1)"
      ],
      "execution_count": null,
      "outputs": [
        {
          "output_type": "execute_result",
          "data": {
            "text/html": [
              "<div>\n",
              "<style scoped>\n",
              "    .dataframe tbody tr th:only-of-type {\n",
              "        vertical-align: middle;\n",
              "    }\n",
              "\n",
              "    .dataframe tbody tr th {\n",
              "        vertical-align: top;\n",
              "    }\n",
              "\n",
              "    .dataframe thead th {\n",
              "        text-align: right;\n",
              "    }\n",
              "</style>\n",
              "<table border=\"1\" class=\"dataframe\">\n",
              "  <thead>\n",
              "    <tr style=\"text-align: right;\">\n",
              "      <th></th>\n",
              "      <th>id</th>\n",
              "      <th>product_uid</th>\n",
              "      <th>product_title</th>\n",
              "      <th>search_term</th>\n",
              "      <th>product_title_tokens</th>\n",
              "      <th>search_term_tokens</th>\n",
              "      <th>my_relevance</th>\n",
              "    </tr>\n",
              "  </thead>\n",
              "  <tbody>\n",
              "    <tr>\n",
              "      <th>107023</th>\n",
              "      <td>159578</td>\n",
              "      <td>161578</td>\n",
              "      <td>Speedi-Products 7 in. 24-Gauge Single Wall Stove Pipe 90 Degree Adjustable Elbow in Black Matte</td>\n",
              "      <td>singel wall stove pipe</td>\n",
              "      <td>[speedi, product, #, ##, gaug, singl, wall, stove, pipe, ##, degre, adjust, elbow, black, matt]</td>\n",
              "      <td>[singel, wall, stove, pipe]</td>\n",
              "      <td>1</td>\n",
              "    </tr>\n",
              "  </tbody>\n",
              "</table>\n",
              "</div>"
            ],
            "text/plain": [
              "            id  product_uid  ...           search_term_tokens my_relevance\n",
              "107023  159578  161578       ...  [singel, wall, stove, pipe]  1          \n",
              "\n",
              "[1 rows x 7 columns]"
            ]
          },
          "metadata": {
            "tags": []
          },
          "execution_count": 92
        }
      ]
    }
  ]
}