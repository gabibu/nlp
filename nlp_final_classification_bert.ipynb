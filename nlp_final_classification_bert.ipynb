{
  "nbformat": 4,
  "nbformat_minor": 0,
  "metadata": {
    "colab": {
      "name": "nlp_final.ipynb",
      "provenance": [],
      "toc_visible": true
    },
    "kernelspec": {
      "name": "python3",
      "display_name": "Python 3"
    },
    "language_info": {
      "name": "python"
    },
    "accelerator": "GPU"
  },
  "cells": [
    {
      "cell_type": "code",
      "metadata": {
        "id": "Cq7vz0__2J7K",
        "colab": {
          "base_uri": "https://localhost:8080/"
        },
        "outputId": "719daf3b-b3c5-4b30-96cc-701f554679cf"
      },
      "source": [
        "!pip install -q kaggle\n",
        "!pip install transformers\n",
        "!pip install unidecode\n",
        "!pip install torch\n",
        "!pip install tqdm\n",
        "!pip install transformers\n"
      ],
      "execution_count": 1,
      "outputs": [
        {
          "output_type": "stream",
          "text": [
            "Collecting transformers\n",
            "  Downloading transformers-4.9.2-py3-none-any.whl (2.6 MB)\n",
            "\u001b[K     |████████████████████████████████| 2.6 MB 12.4 MB/s \n",
            "\u001b[?25hRequirement already satisfied: filelock in /usr/local/lib/python3.7/dist-packages (from transformers) (3.0.12)\n",
            "Collecting sacremoses\n",
            "  Downloading sacremoses-0.0.45-py3-none-any.whl (895 kB)\n",
            "\u001b[K     |████████████████████████████████| 895 kB 43.5 MB/s \n",
            "\u001b[?25hRequirement already satisfied: tqdm>=4.27 in /usr/local/lib/python3.7/dist-packages (from transformers) (4.41.1)\n",
            "Collecting tokenizers<0.11,>=0.10.1\n",
            "  Downloading tokenizers-0.10.3-cp37-cp37m-manylinux_2_5_x86_64.manylinux1_x86_64.manylinux_2_12_x86_64.manylinux2010_x86_64.whl (3.3 MB)\n",
            "\u001b[K     |████████████████████████████████| 3.3 MB 37.9 MB/s \n",
            "\u001b[?25hRequirement already satisfied: regex!=2019.12.17 in /usr/local/lib/python3.7/dist-packages (from transformers) (2019.12.20)\n",
            "Requirement already satisfied: requests in /usr/local/lib/python3.7/dist-packages (from transformers) (2.23.0)\n",
            "Collecting huggingface-hub==0.0.12\n",
            "  Downloading huggingface_hub-0.0.12-py3-none-any.whl (37 kB)\n",
            "Collecting pyyaml>=5.1\n",
            "  Downloading PyYAML-5.4.1-cp37-cp37m-manylinux1_x86_64.whl (636 kB)\n",
            "\u001b[K     |████████████████████████████████| 636 kB 42.0 MB/s \n",
            "\u001b[?25hRequirement already satisfied: packaging in /usr/local/lib/python3.7/dist-packages (from transformers) (21.0)\n",
            "Requirement already satisfied: numpy>=1.17 in /usr/local/lib/python3.7/dist-packages (from transformers) (1.19.5)\n",
            "Requirement already satisfied: importlib-metadata in /usr/local/lib/python3.7/dist-packages (from transformers) (4.6.1)\n",
            "Requirement already satisfied: typing-extensions in /usr/local/lib/python3.7/dist-packages (from huggingface-hub==0.0.12->transformers) (3.7.4.3)\n",
            "Requirement already satisfied: pyparsing>=2.0.2 in /usr/local/lib/python3.7/dist-packages (from packaging->transformers) (2.4.7)\n",
            "Requirement already satisfied: zipp>=0.5 in /usr/local/lib/python3.7/dist-packages (from importlib-metadata->transformers) (3.5.0)\n",
            "Requirement already satisfied: certifi>=2017.4.17 in /usr/local/lib/python3.7/dist-packages (from requests->transformers) (2021.5.30)\n",
            "Requirement already satisfied: chardet<4,>=3.0.2 in /usr/local/lib/python3.7/dist-packages (from requests->transformers) (3.0.4)\n",
            "Requirement already satisfied: urllib3!=1.25.0,!=1.25.1,<1.26,>=1.21.1 in /usr/local/lib/python3.7/dist-packages (from requests->transformers) (1.24.3)\n",
            "Requirement already satisfied: idna<3,>=2.5 in /usr/local/lib/python3.7/dist-packages (from requests->transformers) (2.10)\n",
            "Requirement already satisfied: six in /usr/local/lib/python3.7/dist-packages (from sacremoses->transformers) (1.15.0)\n",
            "Requirement already satisfied: joblib in /usr/local/lib/python3.7/dist-packages (from sacremoses->transformers) (1.0.1)\n",
            "Requirement already satisfied: click in /usr/local/lib/python3.7/dist-packages (from sacremoses->transformers) (7.1.2)\n",
            "Installing collected packages: tokenizers, sacremoses, pyyaml, huggingface-hub, transformers\n",
            "  Attempting uninstall: pyyaml\n",
            "    Found existing installation: PyYAML 3.13\n",
            "    Uninstalling PyYAML-3.13:\n",
            "      Successfully uninstalled PyYAML-3.13\n",
            "Successfully installed huggingface-hub-0.0.12 pyyaml-5.4.1 sacremoses-0.0.45 tokenizers-0.10.3 transformers-4.9.2\n",
            "Collecting unidecode\n",
            "  Downloading Unidecode-1.2.0-py2.py3-none-any.whl (241 kB)\n",
            "\u001b[K     |████████████████████████████████| 241 kB 12.2 MB/s \n",
            "\u001b[?25hInstalling collected packages: unidecode\n",
            "Successfully installed unidecode-1.2.0\n",
            "Requirement already satisfied: torch in /usr/local/lib/python3.7/dist-packages (1.9.0+cu102)\n",
            "Requirement already satisfied: typing-extensions in /usr/local/lib/python3.7/dist-packages (from torch) (3.7.4.3)\n",
            "Requirement already satisfied: tqdm in /usr/local/lib/python3.7/dist-packages (4.41.1)\n",
            "Requirement already satisfied: transformers in /usr/local/lib/python3.7/dist-packages (4.9.2)\n",
            "Requirement already satisfied: packaging in /usr/local/lib/python3.7/dist-packages (from transformers) (21.0)\n",
            "Requirement already satisfied: numpy>=1.17 in /usr/local/lib/python3.7/dist-packages (from transformers) (1.19.5)\n",
            "Requirement already satisfied: sacremoses in /usr/local/lib/python3.7/dist-packages (from transformers) (0.0.45)\n",
            "Requirement already satisfied: requests in /usr/local/lib/python3.7/dist-packages (from transformers) (2.23.0)\n",
            "Requirement already satisfied: tqdm>=4.27 in /usr/local/lib/python3.7/dist-packages (from transformers) (4.41.1)\n",
            "Requirement already satisfied: pyyaml>=5.1 in /usr/local/lib/python3.7/dist-packages (from transformers) (5.4.1)\n",
            "Requirement already satisfied: regex!=2019.12.17 in /usr/local/lib/python3.7/dist-packages (from transformers) (2019.12.20)\n",
            "Requirement already satisfied: huggingface-hub==0.0.12 in /usr/local/lib/python3.7/dist-packages (from transformers) (0.0.12)\n",
            "Requirement already satisfied: importlib-metadata in /usr/local/lib/python3.7/dist-packages (from transformers) (4.6.1)\n",
            "Requirement already satisfied: tokenizers<0.11,>=0.10.1 in /usr/local/lib/python3.7/dist-packages (from transformers) (0.10.3)\n",
            "Requirement already satisfied: filelock in /usr/local/lib/python3.7/dist-packages (from transformers) (3.0.12)\n",
            "Requirement already satisfied: typing-extensions in /usr/local/lib/python3.7/dist-packages (from huggingface-hub==0.0.12->transformers) (3.7.4.3)\n",
            "Requirement already satisfied: pyparsing>=2.0.2 in /usr/local/lib/python3.7/dist-packages (from packaging->transformers) (2.4.7)\n",
            "Requirement already satisfied: zipp>=0.5 in /usr/local/lib/python3.7/dist-packages (from importlib-metadata->transformers) (3.5.0)\n",
            "Requirement already satisfied: idna<3,>=2.5 in /usr/local/lib/python3.7/dist-packages (from requests->transformers) (2.10)\n",
            "Requirement already satisfied: chardet<4,>=3.0.2 in /usr/local/lib/python3.7/dist-packages (from requests->transformers) (3.0.4)\n",
            "Requirement already satisfied: certifi>=2017.4.17 in /usr/local/lib/python3.7/dist-packages (from requests->transformers) (2021.5.30)\n",
            "Requirement already satisfied: urllib3!=1.25.0,!=1.25.1,<1.26,>=1.21.1 in /usr/local/lib/python3.7/dist-packages (from requests->transformers) (1.24.3)\n",
            "Requirement already satisfied: joblib in /usr/local/lib/python3.7/dist-packages (from sacremoses->transformers) (1.0.1)\n",
            "Requirement already satisfied: click in /usr/local/lib/python3.7/dist-packages (from sacremoses->transformers) (7.1.2)\n",
            "Requirement already satisfied: six in /usr/local/lib/python3.7/dist-packages (from sacremoses->transformers) (1.15.0)\n"
          ],
          "name": "stdout"
        }
      ]
    },
    {
      "cell_type": "code",
      "metadata": {
        "colab": {
          "base_uri": "https://localhost:8080/"
        },
        "id": "SEFtL-QINrpe",
        "outputId": "aabdf968-7c38-461d-95b7-d4236da5a707"
      },
      "source": [
        "!pip install livelossplot==0.5.4\n"
      ],
      "execution_count": 71,
      "outputs": [
        {
          "output_type": "stream",
          "text": [
            "Collecting livelossplot==0.5.4\n",
            "  Downloading livelossplot-0.5.4-py3-none-any.whl (22 kB)\n",
            "Requirement already satisfied: bokeh in /usr/local/lib/python3.7/dist-packages (from livelossplot==0.5.4) (2.3.3)\n",
            "Requirement already satisfied: ipython in /usr/local/lib/python3.7/dist-packages (from livelossplot==0.5.4) (5.5.0)\n",
            "Requirement already satisfied: matplotlib in /usr/local/lib/python3.7/dist-packages (from livelossplot==0.5.4) (3.2.2)\n",
            "Requirement already satisfied: python-dateutil>=2.1 in /usr/local/lib/python3.7/dist-packages (from bokeh->livelossplot==0.5.4) (2.8.1)\n",
            "Requirement already satisfied: PyYAML>=3.10 in /usr/local/lib/python3.7/dist-packages (from bokeh->livelossplot==0.5.4) (5.4.1)\n",
            "Requirement already satisfied: tornado>=5.1 in /usr/local/lib/python3.7/dist-packages (from bokeh->livelossplot==0.5.4) (5.1.1)\n",
            "Requirement already satisfied: typing-extensions>=3.7.4 in /usr/local/lib/python3.7/dist-packages (from bokeh->livelossplot==0.5.4) (3.7.4.3)\n",
            "Requirement already satisfied: Jinja2>=2.9 in /usr/local/lib/python3.7/dist-packages (from bokeh->livelossplot==0.5.4) (2.11.3)\n",
            "Requirement already satisfied: numpy>=1.11.3 in /usr/local/lib/python3.7/dist-packages (from bokeh->livelossplot==0.5.4) (1.19.5)\n",
            "Requirement already satisfied: packaging>=16.8 in /usr/local/lib/python3.7/dist-packages (from bokeh->livelossplot==0.5.4) (21.0)\n",
            "Requirement already satisfied: pillow>=7.1.0 in /usr/local/lib/python3.7/dist-packages (from bokeh->livelossplot==0.5.4) (7.1.2)\n",
            "Requirement already satisfied: MarkupSafe>=0.23 in /usr/local/lib/python3.7/dist-packages (from Jinja2>=2.9->bokeh->livelossplot==0.5.4) (2.0.1)\n",
            "Requirement already satisfied: pyparsing>=2.0.2 in /usr/local/lib/python3.7/dist-packages (from packaging>=16.8->bokeh->livelossplot==0.5.4) (2.4.7)\n",
            "Requirement already satisfied: six>=1.5 in /usr/local/lib/python3.7/dist-packages (from python-dateutil>=2.1->bokeh->livelossplot==0.5.4) (1.15.0)\n",
            "Requirement already satisfied: traitlets>=4.2 in /usr/local/lib/python3.7/dist-packages (from ipython->livelossplot==0.5.4) (5.0.5)\n",
            "Requirement already satisfied: pickleshare in /usr/local/lib/python3.7/dist-packages (from ipython->livelossplot==0.5.4) (0.7.5)\n",
            "Requirement already satisfied: prompt-toolkit<2.0.0,>=1.0.4 in /usr/local/lib/python3.7/dist-packages (from ipython->livelossplot==0.5.4) (1.0.18)\n",
            "Requirement already satisfied: simplegeneric>0.8 in /usr/local/lib/python3.7/dist-packages (from ipython->livelossplot==0.5.4) (0.8.1)\n",
            "Requirement already satisfied: pygments in /usr/local/lib/python3.7/dist-packages (from ipython->livelossplot==0.5.4) (2.6.1)\n",
            "Requirement already satisfied: setuptools>=18.5 in /usr/local/lib/python3.7/dist-packages (from ipython->livelossplot==0.5.4) (57.2.0)\n",
            "Requirement already satisfied: decorator in /usr/local/lib/python3.7/dist-packages (from ipython->livelossplot==0.5.4) (4.4.2)\n",
            "Requirement already satisfied: pexpect in /usr/local/lib/python3.7/dist-packages (from ipython->livelossplot==0.5.4) (4.8.0)\n",
            "Requirement already satisfied: wcwidth in /usr/local/lib/python3.7/dist-packages (from prompt-toolkit<2.0.0,>=1.0.4->ipython->livelossplot==0.5.4) (0.2.5)\n",
            "Requirement already satisfied: ipython-genutils in /usr/local/lib/python3.7/dist-packages (from traitlets>=4.2->ipython->livelossplot==0.5.4) (0.2.0)\n",
            "Requirement already satisfied: cycler>=0.10 in /usr/local/lib/python3.7/dist-packages (from matplotlib->livelossplot==0.5.4) (0.10.0)\n",
            "Requirement already satisfied: kiwisolver>=1.0.1 in /usr/local/lib/python3.7/dist-packages (from matplotlib->livelossplot==0.5.4) (1.3.1)\n",
            "Requirement already satisfied: ptyprocess>=0.5 in /usr/local/lib/python3.7/dist-packages (from pexpect->ipython->livelossplot==0.5.4) (0.7.0)\n",
            "Installing collected packages: livelossplot\n",
            "Successfully installed livelossplot-0.5.4\n"
          ],
          "name": "stdout"
        }
      ]
    },
    {
      "cell_type": "code",
      "metadata": {
        "id": "m2H9Z4iZ2XPb",
        "colab": {
          "base_uri": "https://localhost:8080/"
        },
        "outputId": "9369e9ee-6308-4173-8dd5-947174ae3ca9"
      },
      "source": [
        "from google.colab import files\n",
        "from tqdm import tqdm\n",
        "tqdm.pandas()"
      ],
      "execution_count": 2,
      "outputs": [
        {
          "output_type": "stream",
          "text": [
            "/usr/local/lib/python3.7/dist-packages/tqdm/std.py:658: FutureWarning: The Panel class is removed from pandas. Accessing it from the top-level namespace will also be removed in the next version\n",
            "  from pandas import Panel\n"
          ],
          "name": "stderr"
        }
      ]
    },
    {
      "cell_type": "code",
      "metadata": {
        "colab": {
          "resources": {
            "http://localhost:8080/nbextensions/google.colab/files.js": {
              "data": "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",
              "ok": true,
              "headers": [
                [
                  "content-type",
                  "application/javascript"
                ]
              ],
              "status": 200,
              "status_text": ""
            }
          },
          "base_uri": "https://localhost:8080/",
          "height": 89
        },
        "id": "h0uiWBjK2jtU",
        "outputId": "fe0a3347-67a2-4293-cf67-a5282f940739"
      },
      "source": [
        "files.upload()"
      ],
      "execution_count": 11,
      "outputs": [
        {
          "output_type": "display_data",
          "data": {
            "text/html": [
              "\n",
              "     <input type=\"file\" id=\"files-9666e513-9fc2-4f02-9ee2-5dacd1ba3fb7\" name=\"files[]\" multiple disabled\n",
              "        style=\"border:none\" />\n",
              "     <output id=\"result-9666e513-9fc2-4f02-9ee2-5dacd1ba3fb7\">\n",
              "      Upload widget is only available when the cell has been executed in the\n",
              "      current browser session. Please rerun this cell to enable.\n",
              "      </output>\n",
              "      <script src=\"/nbextensions/google.colab/files.js\"></script> "
            ],
            "text/plain": [
              "<IPython.core.display.HTML object>"
            ]
          },
          "metadata": {
            "tags": []
          }
        },
        {
          "output_type": "stream",
          "text": [
            "Saving kaggle.json to kaggle.json\n"
          ],
          "name": "stdout"
        },
        {
          "output_type": "execute_result",
          "data": {
            "text/plain": [
              "{'kaggle.json': b'{\"username\":\"gabib3b\",\"key\":\"817d7e169db4cbef867b22907320144c\"}'}"
            ]
          },
          "metadata": {
            "tags": []
          },
          "execution_count": 11
        }
      ]
    },
    {
      "cell_type": "code",
      "metadata": {
        "id": "JYFkqZ-42pXt",
        "colab": {
          "base_uri": "https://localhost:8080/"
        },
        "outputId": "bc9b5830-06e8-46c8-b44d-0e0ecd6a4ba1"
      },
      "source": [
        "! mkdir ~/.kaggle\n",
        "! cp kaggle.json ~/.kaggle/\n",
        "! chmod 600 ~/.kaggle/kaggle.json\n",
        "! kaggle competitions download -c home-depot-product-search-relevance"
      ],
      "execution_count": 12,
      "outputs": [
        {
          "output_type": "stream",
          "text": [
            "mkdir: cannot create directory ‘/root/.kaggle’: File exists\n",
            "Warning: Looks like you're using an outdated API Version, please consider updating (server 1.5.12 / client 1.5.4)\n",
            "Downloading sample_submission.csv.zip to /content\n",
            "  0% 0.00/227k [00:00<?, ?B/s]\n",
            "100% 227k/227k [00:00<00:00, 34.2MB/s]\n",
            "Downloading test.csv.zip to /content\n",
            "100% 4.74M/4.74M [00:00<00:00, 11.4MB/s]\n",
            "\n",
            "Downloading attributes.csv.zip to /content\n",
            " 37% 10.0M/27.2M [00:00<00:01, 9.88MB/s]\n",
            "100% 27.2M/27.2M [00:00<00:00, 31.1MB/s]\n",
            "Downloading relevance_instructions.docx to /content\n",
            "  0% 0.00/105k [00:00<?, ?B/s]\n",
            "100% 105k/105k [00:00<00:00, 94.0MB/s]\n",
            "Downloading train.csv.zip to /content\n",
            "  0% 0.00/2.51M [00:00<?, ?B/s]\n",
            "100% 2.51M/2.51M [00:00<00:00, 83.6MB/s]\n",
            "Downloading product_descriptions.csv.zip to /content\n",
            " 95% 33.0M/34.8M [00:01<00:00, 16.5MB/s]\n",
            "100% 34.8M/34.8M [00:01<00:00, 21.2MB/s]\n"
          ],
          "name": "stdout"
        }
      ]
    },
    {
      "cell_type": "code",
      "metadata": {
        "id": "uc3SPuZR366P",
        "colab": {
          "base_uri": "https://localhost:8080/"
        },
        "outputId": "612cf6e3-4336-4d3a-f807-de2ffa245aca"
      },
      "source": [
        "import pandas as pd\n",
        "import numpy as np\n",
        "from transformers import BertTokenizer\n",
        "import nltk \n",
        "import unidecode\n",
        "import re\n",
        "nltk.download('punkt')\n",
        "nltk.download('stopwords')\n",
        "from nltk.corpus import stopwords\n",
        "import string\n",
        "import seaborn as sns\n"
      ],
      "execution_count": 13,
      "outputs": [
        {
          "output_type": "stream",
          "text": [
            "[nltk_data] Downloading package punkt to /root/nltk_data...\n",
            "[nltk_data]   Package punkt is already up-to-date!\n",
            "[nltk_data] Downloading package stopwords to /root/nltk_data...\n",
            "[nltk_data]   Package stopwords is already up-to-date!\n"
          ],
          "name": "stdout"
        }
      ]
    },
    {
      "cell_type": "code",
      "metadata": {
        "colab": {
          "base_uri": "https://localhost:8080/"
        },
        "id": "2FTp4EQn3Ai5",
        "outputId": "49ae129c-fc5d-49ee-fba7-146cbf1d4ae7"
      },
      "source": [
        "!ls"
      ],
      "execution_count": 14,
      "outputs": [
        {
          "output_type": "stream",
          "text": [
            "attributes.csv.zip  product_descriptions.csv.zip  sample_submission.csv.zip\n",
            "GabiBurabia.pdf     relevance_instructions.docx   test.csv.zip\n",
            "kaggle.json\t    sample_data\t\t\t  train.csv.zip\n"
          ],
          "name": "stdout"
        }
      ]
    },
    {
      "cell_type": "code",
      "metadata": {
        "id": "7z5kTCLu3wPp"
      },
      "source": [
        "att_df= pd.read_csv('attributes.csv.zip')\n",
        "desc_df= pd.read_csv('product_descriptions.csv.zip')\n",
        "df = pd.read_csv('train.csv.zip', encoding='latin-1')\n",
        "test_df = pd.read_csv('test.csv.zip',encoding='latin-1')\n"
      ],
      "execution_count": 23,
      "outputs": []
    },
    {
      "cell_type": "code",
      "metadata": {
        "id": "GPtCnjkmEgB4"
      },
      "source": [
        "desc_df = desc_df.fillna(0)\n",
        "df = df.fillna(0)\n",
        "test_df = test_df.fillna(0)\n",
        "att_df = att_df.fillna(0)\n",
        "\n",
        "desc_df['product_uid'] = desc_df['product_uid'].astype(np.int64)\n",
        "df['product_uid'] = df['product_uid'].astype(np.int64)\n",
        "test_df['product_uid'] = test_df['product_uid'].astype(np.int64)\n",
        "att_df['product_uid'] = att_df['product_uid'].astype(np.int64)"
      ],
      "execution_count": 26,
      "outputs": []
    },
    {
      "cell_type": "code",
      "metadata": {
        "colab": {
          "base_uri": "https://localhost:8080/",
          "height": 111
        },
        "id": "Wc9y_9xh39qp",
        "outputId": "d0d183a1-1650-4c9a-8b38-bb9b14bc01e3"
      },
      "source": [
        "df.sample(2)"
      ],
      "execution_count": 27,
      "outputs": [
        {
          "output_type": "execute_result",
          "data": {
            "text/html": [
              "<div>\n",
              "<style scoped>\n",
              "    .dataframe tbody tr th:only-of-type {\n",
              "        vertical-align: middle;\n",
              "    }\n",
              "\n",
              "    .dataframe tbody tr th {\n",
              "        vertical-align: top;\n",
              "    }\n",
              "\n",
              "    .dataframe thead th {\n",
              "        text-align: right;\n",
              "    }\n",
              "</style>\n",
              "<table border=\"1\" class=\"dataframe\">\n",
              "  <thead>\n",
              "    <tr style=\"text-align: right;\">\n",
              "      <th></th>\n",
              "      <th>id</th>\n",
              "      <th>product_uid</th>\n",
              "      <th>product_title</th>\n",
              "      <th>search_term</th>\n",
              "      <th>relevance</th>\n",
              "    </tr>\n",
              "  </thead>\n",
              "  <tbody>\n",
              "    <tr>\n",
              "      <th>41212</th>\n",
              "      <td>125561</td>\n",
              "      <td>143210</td>\n",
              "      <td>Laura Ashley 6 ft. H Lip-Stick Red Palm Tree i...</td>\n",
              "      <td>red stones</td>\n",
              "      <td>1.00</td>\n",
              "    </tr>\n",
              "    <tr>\n",
              "      <th>19241</th>\n",
              "      <td>59451</td>\n",
              "      <td>115888</td>\n",
              "      <td>DIAL 2-Speed 3/4 HP Evaporative Cooler Motor Kit</td>\n",
              "      <td>cooler motor</td>\n",
              "      <td>2.67</td>\n",
              "    </tr>\n",
              "  </tbody>\n",
              "</table>\n",
              "</div>"
            ],
            "text/plain": [
              "           id  product_uid  ...   search_term relevance\n",
              "41212  125561       143210  ...    red stones      1.00\n",
              "19241   59451       115888  ...  cooler motor      2.67\n",
              "\n",
              "[2 rows x 5 columns]"
            ]
          },
          "metadata": {
            "tags": []
          },
          "execution_count": 27
        }
      ]
    },
    {
      "cell_type": "code",
      "metadata": {
        "id": "AVEuEm1CPBfa"
      },
      "source": [
        ""
      ],
      "execution_count": null,
      "outputs": []
    },
    {
      "cell_type": "code",
      "metadata": {
        "colab": {
          "base_uri": "https://localhost:8080/"
        },
        "id": "LizRelmmMTOO",
        "outputId": "1b12d9ab-1a5f-4da8-e652-46781359eea8"
      },
      "source": [
        "np.min(df['relevance'].tolist()), np.max(df['relevance'].tolist())"
      ],
      "execution_count": 28,
      "outputs": [
        {
          "output_type": "execute_result",
          "data": {
            "text/plain": [
              "(1.0, 3.0)"
            ]
          },
          "metadata": {
            "tags": []
          },
          "execution_count": 28
        }
      ]
    },
    {
      "cell_type": "code",
      "metadata": {
        "colab": {
          "base_uri": "https://localhost:8080/"
        },
        "id": "GQMvnh9G6eUX",
        "outputId": "f3c02a55-d963-458f-f390-8f3df6541d58"
      },
      "source": [
        "sorted(pd.unique(df['relevance']).tolist())"
      ],
      "execution_count": 29,
      "outputs": [
        {
          "output_type": "execute_result",
          "data": {
            "text/plain": [
              "[1.0, 1.25, 1.33, 1.5, 1.67, 1.75, 2.0, 2.25, 2.33, 2.5, 2.67, 2.75, 3.0]"
            ]
          },
          "metadata": {
            "tags": []
          },
          "execution_count": 29
        }
      ]
    },
    {
      "cell_type": "code",
      "metadata": {
        "id": "EXIjvtz5O6F8"
      },
      "source": [
        "# train_df['my_relevance'] = train_df['relevance'].apply(lambda x: (x - 1.0)/2.0)"
      ],
      "execution_count": null,
      "outputs": []
    },
    {
      "cell_type": "code",
      "metadata": {
        "colab": {
          "base_uri": "https://localhost:8080/"
        },
        "id": "XEsYyEZdPNuC",
        "outputId": "7861602d-d756-4d15-da7b-be2943631a8f"
      },
      "source": [
        "# np.min(train_df['my_relevance'].tolist()), np.max(train_df['my_relevance'].tolist())"
      ],
      "execution_count": null,
      "outputs": [
        {
          "output_type": "execute_result",
          "data": {
            "text/plain": [
              "(0.0, 1.0)"
            ]
          },
          "metadata": {
            "tags": []
          },
          "execution_count": 13
        }
      ]
    },
    {
      "cell_type": "code",
      "metadata": {
        "id": "pYhPgWl3PQ_7"
      },
      "source": [
        "# train_df['my_relevance2'] = train_df['my_relevance'].apply(lambda x: ((x - 0.0)/1.0) * 2.0 + 1)"
      ],
      "execution_count": null,
      "outputs": []
    },
    {
      "cell_type": "code",
      "metadata": {
        "colab": {
          "base_uri": "https://localhost:8080/",
          "height": 173
        },
        "id": "Lx1rYzOzPHYD",
        "outputId": "2f1c0d00-afa9-4e74-fd87-409306d63d7a"
      },
      "source": [
        "# train_df[['relevance', 'my_relevance', 'my_relevance2']].sample(4)"
      ],
      "execution_count": null,
      "outputs": [
        {
          "output_type": "execute_result",
          "data": {
            "text/html": [
              "<div>\n",
              "<style scoped>\n",
              "    .dataframe tbody tr th:only-of-type {\n",
              "        vertical-align: middle;\n",
              "    }\n",
              "\n",
              "    .dataframe tbody tr th {\n",
              "        vertical-align: top;\n",
              "    }\n",
              "\n",
              "    .dataframe thead th {\n",
              "        text-align: right;\n",
              "    }\n",
              "</style>\n",
              "<table border=\"1\" class=\"dataframe\">\n",
              "  <thead>\n",
              "    <tr style=\"text-align: right;\">\n",
              "      <th></th>\n",
              "      <th>relevance</th>\n",
              "      <th>my_relevance</th>\n",
              "      <th>my_relevance2</th>\n",
              "    </tr>\n",
              "  </thead>\n",
              "  <tbody>\n",
              "    <tr>\n",
              "      <th>42392</th>\n",
              "      <td>2.00</td>\n",
              "      <td>0.500</td>\n",
              "      <td>2.00</td>\n",
              "    </tr>\n",
              "    <tr>\n",
              "      <th>67764</th>\n",
              "      <td>3.00</td>\n",
              "      <td>1.000</td>\n",
              "      <td>3.00</td>\n",
              "    </tr>\n",
              "    <tr>\n",
              "      <th>20523</th>\n",
              "      <td>2.67</td>\n",
              "      <td>0.835</td>\n",
              "      <td>2.67</td>\n",
              "    </tr>\n",
              "    <tr>\n",
              "      <th>72001</th>\n",
              "      <td>2.00</td>\n",
              "      <td>0.500</td>\n",
              "      <td>2.00</td>\n",
              "    </tr>\n",
              "  </tbody>\n",
              "</table>\n",
              "</div>"
            ],
            "text/plain": [
              "       relevance  my_relevance  my_relevance2\n",
              "42392       2.00         0.500           2.00\n",
              "67764       3.00         1.000           3.00\n",
              "20523       2.67         0.835           2.67\n",
              "72001       2.00         0.500           2.00"
            ]
          },
          "metadata": {
            "tags": []
          },
          "execution_count": 15
        }
      ]
    },
    {
      "cell_type": "code",
      "metadata": {
        "colab": {
          "base_uri": "https://localhost:8080/",
          "height": 297
        },
        "id": "EcIh2Oqq4tQV",
        "outputId": "a9c5d0b5-3b95-4162-e7e6-b99861bc4c04"
      },
      "source": [
        "df.describe()"
      ],
      "execution_count": 30,
      "outputs": [
        {
          "output_type": "execute_result",
          "data": {
            "text/html": [
              "<div>\n",
              "<style scoped>\n",
              "    .dataframe tbody tr th:only-of-type {\n",
              "        vertical-align: middle;\n",
              "    }\n",
              "\n",
              "    .dataframe tbody tr th {\n",
              "        vertical-align: top;\n",
              "    }\n",
              "\n",
              "    .dataframe thead th {\n",
              "        text-align: right;\n",
              "    }\n",
              "</style>\n",
              "<table border=\"1\" class=\"dataframe\">\n",
              "  <thead>\n",
              "    <tr style=\"text-align: right;\">\n",
              "      <th></th>\n",
              "      <th>id</th>\n",
              "      <th>product_uid</th>\n",
              "      <th>relevance</th>\n",
              "    </tr>\n",
              "  </thead>\n",
              "  <tbody>\n",
              "    <tr>\n",
              "      <th>count</th>\n",
              "      <td>74067.000000</td>\n",
              "      <td>74067.000000</td>\n",
              "      <td>74067.000000</td>\n",
              "    </tr>\n",
              "    <tr>\n",
              "      <th>mean</th>\n",
              "      <td>112385.709223</td>\n",
              "      <td>142331.911553</td>\n",
              "      <td>2.381634</td>\n",
              "    </tr>\n",
              "    <tr>\n",
              "      <th>std</th>\n",
              "      <td>64016.573650</td>\n",
              "      <td>30770.774864</td>\n",
              "      <td>0.533984</td>\n",
              "    </tr>\n",
              "    <tr>\n",
              "      <th>min</th>\n",
              "      <td>2.000000</td>\n",
              "      <td>100001.000000</td>\n",
              "      <td>1.000000</td>\n",
              "    </tr>\n",
              "    <tr>\n",
              "      <th>25%</th>\n",
              "      <td>57163.500000</td>\n",
              "      <td>115128.500000</td>\n",
              "      <td>2.000000</td>\n",
              "    </tr>\n",
              "    <tr>\n",
              "      <th>50%</th>\n",
              "      <td>113228.000000</td>\n",
              "      <td>137334.000000</td>\n",
              "      <td>2.330000</td>\n",
              "    </tr>\n",
              "    <tr>\n",
              "      <th>75%</th>\n",
              "      <td>168275.500000</td>\n",
              "      <td>166883.500000</td>\n",
              "      <td>3.000000</td>\n",
              "    </tr>\n",
              "    <tr>\n",
              "      <th>max</th>\n",
              "      <td>221473.000000</td>\n",
              "      <td>206650.000000</td>\n",
              "      <td>3.000000</td>\n",
              "    </tr>\n",
              "  </tbody>\n",
              "</table>\n",
              "</div>"
            ],
            "text/plain": [
              "                  id    product_uid     relevance\n",
              "count   74067.000000   74067.000000  74067.000000\n",
              "mean   112385.709223  142331.911553      2.381634\n",
              "std     64016.573650   30770.774864      0.533984\n",
              "min         2.000000  100001.000000      1.000000\n",
              "25%     57163.500000  115128.500000      2.000000\n",
              "50%    113228.000000  137334.000000      2.330000\n",
              "75%    168275.500000  166883.500000      3.000000\n",
              "max    221473.000000  206650.000000      3.000000"
            ]
          },
          "metadata": {
            "tags": []
          },
          "execution_count": 30
        }
      ]
    },
    {
      "cell_type": "code",
      "metadata": {
        "colab": {
          "base_uri": "https://localhost:8080/"
        },
        "id": "n2ZgdzI4DeUR",
        "outputId": "708aae07-1e61-40c2-835f-5453e8e8dab4"
      },
      "source": [
        "# train_df.drop_duplicates([\"product_uid\"]).shape[0]/len(train_df)"
      ],
      "execution_count": null,
      "outputs": [
        {
          "output_type": "execute_result",
          "data": {
            "text/plain": [
              "0.7380749861611784"
            ]
          },
          "metadata": {
            "tags": []
          },
          "execution_count": 15
        }
      ]
    },
    {
      "cell_type": "code",
      "metadata": {
        "colab": {
          "base_uri": "https://localhost:8080/"
        },
        "id": "MoiInP_e5LJw",
        "outputId": "c8582c97-1e15-47d3-a821-7272412af794"
      },
      "source": [
        "# pd.merge(train_df, desc_df, how='left', on='product_uid').shape[0]"
      ],
      "execution_count": null,
      "outputs": [
        {
          "output_type": "execute_result",
          "data": {
            "text/plain": [
              "74067"
            ]
          },
          "metadata": {
            "tags": []
          },
          "execution_count": 50
        }
      ]
    },
    {
      "cell_type": "code",
      "metadata": {
        "colab": {
          "base_uri": "https://localhost:8080/"
        },
        "id": "4GSioO4uDVOs",
        "outputId": "970a241c-1d49-415b-cf95-936674ab0bf1"
      },
      "source": [
        "df.shape[0]"
      ],
      "execution_count": 31,
      "outputs": [
        {
          "output_type": "execute_result",
          "data": {
            "text/plain": [
              "74067"
            ]
          },
          "metadata": {
            "tags": []
          },
          "execution_count": 31
        }
      ]
    },
    {
      "cell_type": "code",
      "metadata": {
        "id": "-VZQCATBHsLL"
      },
      "source": [
        "from transformers import BertTokenizerFast\n",
        "from transformers import BertTokenizer\n",
        "\n",
        "\n",
        "tokenizer = BertTokenizer.from_pretrained('bert-base-uncased', do_lower_case=True)\n",
        "MAX_SEARCH_TERM_LENGTH = 5\n",
        "MAX_TITLE_LENGTH = 15"
      ],
      "execution_count": 32,
      "outputs": []
    },
    {
      "cell_type": "code",
      "metadata": {
        "id": "knD9_juYJh-2"
      },
      "source": [
        "def tokenize(text, max_length):\n",
        "  \n",
        "  return tokenizer.encode_plus(\n",
        "            text,\n",
        "            max_length = max_length, \n",
        "            padding = 'max_length',\n",
        "            truncation = True, \n",
        "            return_attention_mask = True, \n",
        "            add_special_tokens = True, \n",
        "            )\n",
        "  \n"
      ],
      "execution_count": 88,
      "outputs": []
    },
    {
      "cell_type": "code",
      "metadata": {
        "id": "BSXhO_yKJ78V"
      },
      "source": [
        "#  encoding = tokenizer.encode_plus(\n",
        "#       'he went home',\n",
        "#       add_special_tokens=True,\n",
        "#       max_length= 10,\n",
        "#       return_token_type_ids=False,\n",
        "#       padding=\"max_length\",\n",
        "#       truncation=True,\n",
        "#       return_attention_mask=True\n",
        "      \n",
        "#     )\n",
        " \n",
        "#  encoding"
      ],
      "execution_count": 89,
      "outputs": []
    },
    {
      "cell_type": "code",
      "metadata": {
        "colab": {
          "base_uri": "https://localhost:8080/"
        },
        "id": "UWbi3atuLKEU",
        "outputId": "02e326cc-c712-4f1b-e09a-ab0855c64f13"
      },
      "source": [
        ""
      ],
      "execution_count": null,
      "outputs": [
        {
          "output_type": "stream",
          "text": [
            "/usr/local/lib/python3.7/dist-packages/ipykernel_launcher.py:1: FutureWarning: Passing a negative integer is deprecated in version 1.0 and will not be supported in future version. Instead, use None to not limit the column width.\n",
            "  \"\"\"Entry point for launching an IPython kernel.\n"
          ],
          "name": "stderr"
        },
        {
          "output_type": "execute_result",
          "data": {
            "text/plain": [
              "0.9997299742125373"
            ]
          },
          "metadata": {
            "tags": []
          },
          "execution_count": 58
        }
      ]
    },
    {
      "cell_type": "code",
      "metadata": {
        "colab": {
          "base_uri": "https://localhost:8080/"
        },
        "id": "PBmOPW8hJAC7",
        "outputId": "bd358c10-135c-46a7-f9b1-2a7538d6e460"
      },
      "source": [
        "df['product_title_tokens'] = df['product_title'].progress_apply(lambda text: tokenize(text, MAX_TITLE_LENGTH))"
      ],
      "execution_count": 90,
      "outputs": [
        {
          "output_type": "stream",
          "text": [
            "\n",
            "  0%|          | 0/74067 [00:00<?, ?it/s]\u001b[A\n",
            "  0%|          | 190/74067 [00:00<00:39, 1892.74it/s]\u001b[A\n",
            "  1%|          | 398/74067 [00:00<00:37, 1943.97it/s]\u001b[A\n",
            "  1%|          | 593/74067 [00:00<00:37, 1944.15it/s]\u001b[A\n",
            "  1%|          | 803/74067 [00:00<00:36, 1988.23it/s]\u001b[A\n",
            "  1%|▏         | 1004/74067 [00:00<00:36, 1993.10it/s]\u001b[A\n",
            "  2%|▏         | 1221/74067 [00:00<00:35, 2042.23it/s]\u001b[A\n",
            "  2%|▏         | 1408/74067 [00:00<00:36, 1985.72it/s]\u001b[A\n",
            "  2%|▏         | 1600/74067 [00:00<00:36, 1963.75it/s]\u001b[A\n",
            "  2%|▏         | 1787/74067 [00:00<00:37, 1924.32it/s]\u001b[A\n",
            "  3%|▎         | 2007/74067 [00:01<00:36, 1998.29it/s]\u001b[A\n",
            "  3%|▎         | 2207/74067 [00:01<00:35, 1997.63it/s]\u001b[A\n",
            "  3%|▎         | 2414/74067 [00:01<00:35, 2017.87it/s]\u001b[A\n",
            "  4%|▎         | 2614/74067 [00:01<00:36, 1976.86it/s]\u001b[A\n",
            "  4%|▍         | 2838/74067 [00:01<00:34, 2046.58it/s]\u001b[A\n",
            "  4%|▍         | 3044/74067 [00:01<00:34, 2045.68it/s]\u001b[A\n",
            "  4%|▍         | 3249/74067 [00:01<00:34, 2030.31it/s]\u001b[A\n",
            "  5%|▍         | 3458/74067 [00:01<00:34, 2046.83it/s]\u001b[A\n",
            "  5%|▍         | 3663/74067 [00:01<00:35, 2006.46it/s]\u001b[A\n",
            "  5%|▌         | 3864/74067 [00:01<00:34, 2007.44it/s]\u001b[A\n",
            "  5%|▌         | 4065/74067 [00:02<00:35, 1998.07it/s]\u001b[A\n",
            "  6%|▌         | 4265/74067 [00:02<00:35, 1986.04it/s]\u001b[A\n",
            "  6%|▌         | 4467/74067 [00:02<00:34, 1994.31it/s]\u001b[A\n",
            "  6%|▋         | 4667/74067 [00:02<00:35, 1956.01it/s]\u001b[A\n",
            "  7%|▋         | 4872/74067 [00:02<00:34, 1982.93it/s]\u001b[A\n",
            "  7%|▋         | 5094/74067 [00:02<00:33, 2047.63it/s]\u001b[A\n",
            "  7%|▋         | 5300/74067 [00:03<01:22, 837.37it/s] \u001b[A\n",
            "  7%|▋         | 5493/74067 [00:03<01:08, 1008.24it/s]\u001b[A\n",
            "  8%|▊         | 5681/74067 [00:03<00:58, 1169.46it/s]\u001b[A\n",
            "  8%|▊         | 5880/74067 [00:03<00:51, 1333.31it/s]\u001b[A\n",
            "  8%|▊         | 6085/74067 [00:03<00:45, 1487.35it/s]\u001b[A\n",
            "  8%|▊         | 6282/74067 [00:03<00:42, 1603.91it/s]\u001b[A\n",
            "  9%|▊         | 6475/74067 [00:03<00:40, 1688.92it/s]\u001b[A\n",
            "  9%|▉         | 6666/74067 [00:03<00:38, 1737.14it/s]\u001b[A\n",
            "  9%|▉         | 6860/74067 [00:03<00:37, 1792.87it/s]\u001b[A\n",
            " 10%|▉         | 7063/74067 [00:04<00:36, 1857.30it/s]\u001b[A\n",
            " 10%|▉         | 7264/74067 [00:04<00:35, 1899.05it/s]\u001b[A\n",
            " 10%|█         | 7462/74067 [00:04<00:34, 1922.52it/s]\u001b[A\n",
            " 10%|█         | 7659/74067 [00:04<00:34, 1934.29it/s]\u001b[A\n",
            " 11%|█         | 7856/74067 [00:04<00:35, 1864.73it/s]\u001b[A\n",
            " 11%|█         | 8046/74067 [00:04<00:35, 1864.19it/s]\u001b[A\n",
            " 11%|█         | 8235/74067 [00:04<00:35, 1838.22it/s]\u001b[A\n",
            " 11%|█▏        | 8425/74067 [00:04<00:35, 1854.80it/s]\u001b[A\n",
            " 12%|█▏        | 8632/74067 [00:04<00:34, 1913.94it/s]\u001b[A\n",
            " 12%|█▏        | 8847/74067 [00:04<00:32, 1978.75it/s]\u001b[A\n",
            " 12%|█▏        | 9047/74067 [00:05<00:32, 1975.27it/s]\u001b[A\n",
            " 12%|█▏        | 9246/74067 [00:05<00:33, 1953.52it/s]\u001b[A\n",
            " 13%|█▎        | 9448/74067 [00:05<00:32, 1970.93it/s]\u001b[A\n",
            " 13%|█▎        | 9651/74067 [00:05<00:32, 1987.81it/s]\u001b[A\n",
            " 13%|█▎        | 9851/74067 [00:05<00:33, 1940.87it/s]\u001b[A\n",
            " 14%|█▎        | 10065/74067 [00:05<00:32, 1995.34it/s]\u001b[A\n",
            " 14%|█▍        | 10266/74067 [00:05<00:32, 1980.11it/s]\u001b[A\n",
            " 14%|█▍        | 10465/74067 [00:05<00:32, 1975.70it/s]\u001b[A\n",
            " 14%|█▍        | 10663/74067 [00:05<00:32, 1926.58it/s]\u001b[A\n",
            " 15%|█▍        | 10857/74067 [00:05<00:33, 1888.73it/s]\u001b[A\n",
            " 15%|█▍        | 11069/74067 [00:06<00:32, 1951.62it/s]\u001b[A\n",
            " 15%|█▌        | 11278/74067 [00:06<00:31, 1990.27it/s]\u001b[A\n",
            " 15%|█▌        | 11478/74067 [00:06<00:31, 1974.84it/s]\u001b[A\n",
            " 16%|█▌        | 11677/74067 [00:06<00:31, 1959.54it/s]\u001b[A\n",
            " 16%|█▌        | 11882/74067 [00:06<00:31, 1983.50it/s]\u001b[A\n",
            " 16%|█▋        | 12081/74067 [00:06<00:32, 1906.20it/s]\u001b[A\n",
            " 17%|█▋        | 12273/74067 [00:06<00:32, 1903.36it/s]\u001b[A\n",
            " 17%|█▋        | 12480/74067 [00:06<00:31, 1949.06it/s]\u001b[A\n",
            " 17%|█▋        | 12677/74067 [00:06<00:31, 1952.71it/s]\u001b[A\n",
            " 17%|█▋        | 12882/74067 [00:07<00:30, 1979.96it/s]\u001b[A\n",
            " 18%|█▊        | 13081/74067 [00:07<00:30, 1968.47it/s]\u001b[A\n",
            " 18%|█▊        | 13281/74067 [00:07<00:30, 1977.36it/s]\u001b[A\n",
            " 18%|█▊        | 13479/74067 [00:07<00:31, 1916.80it/s]\u001b[A\n",
            " 18%|█▊        | 13672/74067 [00:07<00:31, 1891.54it/s]\u001b[A\n",
            " 19%|█▉        | 13889/74067 [00:07<00:30, 1966.04it/s]\u001b[A\n",
            " 19%|█▉        | 14099/74067 [00:07<00:29, 2004.29it/s]\u001b[A\n",
            " 19%|█▉        | 14304/74067 [00:07<00:29, 2017.39it/s]\u001b[A\n",
            " 20%|█▉        | 14507/74067 [00:07<00:29, 1995.15it/s]\u001b[A\n",
            " 20%|█▉        | 14708/74067 [00:07<00:29, 1986.20it/s]\u001b[A\n",
            " 20%|██        | 14914/74067 [00:08<00:29, 2005.03it/s]\u001b[A\n",
            " 20%|██        | 15115/74067 [00:08<00:31, 1880.10it/s]\u001b[A\n",
            " 21%|██        | 15324/74067 [00:08<00:30, 1936.89it/s]\u001b[A\n",
            " 21%|██        | 15521/74067 [00:08<00:30, 1946.62it/s]\u001b[A\n",
            " 21%|██        | 15717/74067 [00:08<00:30, 1924.72it/s]\u001b[A\n",
            " 22%|██▏       | 15931/74067 [00:08<00:29, 1983.72it/s]\u001b[A\n",
            " 22%|██▏       | 16131/74067 [00:08<00:29, 1967.03it/s]\u001b[A\n",
            " 22%|██▏       | 16329/74067 [00:08<00:29, 1947.19it/s]\u001b[A\n",
            " 22%|██▏       | 16529/74067 [00:08<00:29, 1960.73it/s]\u001b[A\n",
            " 23%|██▎       | 16737/74067 [00:08<00:28, 1993.44it/s]\u001b[A\n",
            " 23%|██▎       | 16940/74067 [00:09<00:28, 2003.66it/s]\u001b[A\n",
            " 23%|██▎       | 17141/74067 [00:09<00:29, 1944.73it/s]\u001b[A\n",
            " 23%|██▎       | 17337/74067 [00:09<00:29, 1913.78it/s]\u001b[A\n",
            " 24%|██▎       | 17537/74067 [00:09<00:29, 1938.00it/s]\u001b[A\n",
            " 24%|██▍       | 17732/74067 [00:09<00:29, 1923.13it/s]\u001b[A\n",
            " 24%|██▍       | 17940/74067 [00:09<00:28, 1967.35it/s]\u001b[A\n",
            " 24%|██▍       | 18138/74067 [00:09<00:28, 1950.44it/s]\u001b[A\n",
            " 25%|██▍       | 18334/74067 [00:09<00:28, 1928.42it/s]\u001b[A\n",
            " 25%|██▌       | 18528/74067 [00:09<00:28, 1923.22it/s]\u001b[A\n",
            " 25%|██▌       | 18732/74067 [00:09<00:28, 1954.57it/s]\u001b[A\n",
            " 26%|██▌       | 18931/74067 [00:10<00:28, 1959.67it/s]\u001b[A\n",
            " 26%|██▌       | 19135/74067 [00:10<00:27, 1982.18it/s]\u001b[A\n",
            " 26%|██▌       | 19346/74067 [00:10<00:27, 2018.34it/s]\u001b[A\n",
            " 26%|██▋       | 19550/74067 [00:10<00:26, 2024.31it/s]\u001b[A\n",
            " 27%|██▋       | 19753/74067 [00:10<00:27, 1979.63it/s]\u001b[A\n",
            " 27%|██▋       | 19952/74067 [00:10<00:28, 1926.10it/s]\u001b[A\n",
            " 27%|██▋       | 20149/74067 [00:10<00:27, 1937.19it/s]\u001b[A\n",
            " 27%|██▋       | 20344/74067 [00:10<00:27, 1940.84it/s]\u001b[A\n",
            " 28%|██▊       | 20539/74067 [00:10<00:27, 1933.19it/s]\u001b[A\n",
            " 28%|██▊       | 20733/74067 [00:11<00:27, 1912.62it/s]\u001b[A\n",
            " 28%|██▊       | 20936/74067 [00:11<00:27, 1945.99it/s]\u001b[A\n",
            " 29%|██▊       | 21144/74067 [00:11<00:26, 1982.51it/s]\u001b[A\n",
            " 29%|██▉       | 21343/74067 [00:11<00:26, 1966.41it/s]\u001b[A\n",
            " 29%|██▉       | 21540/74067 [00:11<00:26, 1955.32it/s]\u001b[A\n",
            " 29%|██▉       | 21736/74067 [00:11<00:27, 1931.89it/s]\u001b[A\n",
            " 30%|██▉       | 21946/74067 [00:11<00:26, 1978.54it/s]\u001b[A\n",
            " 30%|██▉       | 22152/74067 [00:11<00:25, 2000.89it/s]\u001b[A\n",
            " 30%|███       | 22362/74067 [00:11<00:25, 2029.34it/s]\u001b[A\n",
            " 30%|███       | 22568/74067 [00:11<00:25, 2037.88it/s]\u001b[A\n",
            " 31%|███       | 22773/74067 [00:12<00:25, 2023.68it/s]\u001b[A\n",
            " 31%|███       | 22976/74067 [00:12<00:25, 2003.55it/s]\u001b[A\n",
            " 31%|███▏      | 23182/74067 [00:12<00:25, 2017.56it/s]\u001b[A\n",
            " 32%|███▏      | 23384/74067 [00:12<00:25, 2017.61it/s]\u001b[A\n",
            " 32%|███▏      | 23586/74067 [00:12<00:25, 1993.80it/s]\u001b[A\n",
            " 32%|███▏      | 23786/74067 [00:12<00:25, 1935.25it/s]\u001b[A\n",
            " 32%|███▏      | 23990/74067 [00:12<00:25, 1964.89it/s]\u001b[A\n",
            " 33%|███▎      | 24188/74067 [00:12<00:25, 1968.84it/s]\u001b[A\n",
            " 33%|███▎      | 24386/74067 [00:12<00:25, 1957.51it/s]\u001b[A\n",
            " 33%|███▎      | 24582/74067 [00:12<00:25, 1955.06it/s]\u001b[A\n",
            " 33%|███▎      | 24790/74067 [00:13<00:24, 1989.63it/s]\u001b[A\n",
            " 34%|███▎      | 24990/74067 [00:13<00:25, 1943.24it/s]\u001b[A\n",
            " 34%|███▍      | 25195/74067 [00:13<00:24, 1973.64it/s]\u001b[A\n",
            " 34%|███▍      | 25393/74067 [00:13<00:24, 1967.47it/s]\u001b[A\n",
            " 35%|███▍      | 25591/74067 [00:13<00:24, 1956.87it/s]\u001b[A\n",
            " 35%|███▍      | 25790/74067 [00:13<00:24, 1965.21it/s]\u001b[A\n",
            " 35%|███▌      | 25987/74067 [00:13<00:24, 1936.77it/s]\u001b[A\n",
            " 35%|███▌      | 26186/74067 [00:13<00:24, 1949.69it/s]\u001b[A\n",
            " 36%|███▌      | 26382/74067 [00:13<00:24, 1934.30it/s]\u001b[A\n",
            " 36%|███▌      | 26587/74067 [00:13<00:24, 1966.90it/s]\u001b[A\n",
            " 36%|███▌      | 26796/74067 [00:14<00:23, 2001.82it/s]\u001b[A\n",
            " 36%|███▋      | 26997/74067 [00:14<00:23, 1997.51it/s]\u001b[A\n",
            " 37%|███▋      | 27197/74067 [00:14<00:23, 1975.70it/s]\u001b[A\n",
            " 37%|███▋      | 27399/74067 [00:14<00:23, 1987.34it/s]\u001b[A\n",
            " 37%|███▋      | 27607/74067 [00:14<00:23, 2011.23it/s]\u001b[A\n",
            " 38%|███▊      | 27809/74067 [00:14<00:23, 1933.96it/s]\u001b[A\n",
            " 38%|███▊      | 28019/74067 [00:14<00:23, 1980.10it/s]\u001b[A\n",
            " 38%|███▊      | 28218/74067 [00:14<00:23, 1969.59it/s]\u001b[A\n",
            " 38%|███▊      | 28416/74067 [00:14<00:23, 1907.26it/s]\u001b[A\n",
            " 39%|███▊      | 28613/74067 [00:15<00:23, 1923.47it/s]\u001b[A\n",
            " 39%|███▉      | 28806/74067 [00:15<00:23, 1917.08it/s]\u001b[A\n",
            " 39%|███▉      | 29000/74067 [00:15<00:23, 1922.89it/s]\u001b[A\n",
            " 39%|███▉      | 29209/74067 [00:15<00:22, 1969.99it/s]\u001b[A\n",
            " 40%|███▉      | 29420/74067 [00:15<00:22, 2008.50it/s]\u001b[A\n",
            " 40%|███▉      | 29622/74067 [00:15<00:22, 2008.12it/s]\u001b[A\n",
            " 40%|████      | 29824/74067 [00:15<00:22, 1953.16it/s]\u001b[A\n",
            " 41%|████      | 30020/74067 [00:15<00:23, 1895.55it/s]\u001b[A\n",
            " 41%|████      | 30216/74067 [00:15<00:22, 1914.22it/s]\u001b[A\n",
            " 41%|████      | 30423/74067 [00:15<00:22, 1956.65it/s]\u001b[A\n",
            " 41%|████▏     | 30620/74067 [00:16<00:22, 1913.35it/s]\u001b[A\n",
            " 42%|████▏     | 30813/74067 [00:16<00:22, 1898.91it/s]\u001b[A\n",
            " 42%|████▏     | 31026/74067 [00:16<00:21, 1961.78it/s]\u001b[A\n",
            " 42%|████▏     | 31234/74067 [00:16<00:21, 1993.32it/s]\u001b[A\n",
            " 42%|████▏     | 31442/74067 [00:16<00:21, 2016.13it/s]\u001b[A\n",
            " 43%|████▎     | 31645/74067 [00:16<00:22, 1915.91it/s]\u001b[A\n",
            " 43%|████▎     | 31847/74067 [00:16<00:21, 1945.29it/s]\u001b[A\n",
            " 43%|████▎     | 32043/74067 [00:16<00:21, 1944.62it/s]\u001b[A\n",
            " 44%|████▎     | 32255/74067 [00:16<00:20, 1992.51it/s]\u001b[A\n",
            " 44%|████▍     | 32456/74067 [00:16<00:21, 1936.76it/s]\u001b[A\n",
            " 44%|████▍     | 32651/74067 [00:17<00:21, 1901.76it/s]\u001b[A\n",
            " 44%|████▍     | 32852/74067 [00:17<00:21, 1931.87it/s]\u001b[A\n",
            " 45%|████▍     | 33060/74067 [00:17<00:20, 1973.57it/s]\u001b[A\n",
            " 45%|████▍     | 33259/74067 [00:17<00:20, 1969.06it/s]\u001b[A\n",
            " 45%|████▌     | 33471/74067 [00:17<00:20, 2011.00it/s]\u001b[A\n",
            " 45%|████▌     | 33673/74067 [00:17<00:20, 1951.17it/s]\u001b[A\n",
            " 46%|████▌     | 33871/74067 [00:17<00:20, 1956.76it/s]\u001b[A\n",
            " 46%|████▌     | 34075/74067 [00:17<00:20, 1978.39it/s]\u001b[A\n",
            " 46%|████▋     | 34274/74067 [00:17<00:20, 1970.84it/s]\u001b[A\n",
            " 47%|████▋     | 34472/74067 [00:18<00:20, 1936.03it/s]\u001b[A\n",
            " 47%|████▋     | 34666/74067 [00:18<00:21, 1809.66it/s]\u001b[A\n",
            " 47%|████▋     | 34852/74067 [00:18<00:21, 1823.74it/s]\u001b[A\n",
            " 47%|████▋     | 35045/74067 [00:18<00:21, 1852.37it/s]\u001b[A\n",
            " 48%|████▊     | 35232/74067 [00:18<00:20, 1852.70it/s]\u001b[A\n",
            " 48%|████▊     | 35424/74067 [00:18<00:20, 1871.52it/s]\u001b[A\n",
            " 48%|████▊     | 35612/74067 [00:18<00:21, 1778.74it/s]\u001b[A\n",
            " 48%|████▊     | 35815/74067 [00:18<00:20, 1846.37it/s]\u001b[A\n",
            " 49%|████▊     | 36009/74067 [00:18<00:20, 1873.36it/s]\u001b[A\n",
            " 49%|████▉     | 36205/74067 [00:18<00:19, 1896.70it/s]\u001b[A\n",
            " 49%|████▉     | 36396/74067 [00:19<00:20, 1878.39it/s]\u001b[A\n",
            " 49%|████▉     | 36585/74067 [00:19<00:20, 1867.40it/s]\u001b[A\n",
            " 50%|████▉     | 36779/74067 [00:19<00:19, 1885.29it/s]\u001b[A\n",
            " 50%|████▉     | 36985/74067 [00:19<00:19, 1933.59it/s]\u001b[A\n",
            " 50%|█████     | 37198/74067 [00:19<00:18, 1986.59it/s]\u001b[A\n",
            " 50%|█████     | 37402/74067 [00:19<00:18, 2000.82it/s]\u001b[A\n",
            " 51%|█████     | 37603/74067 [00:19<00:18, 1951.58it/s]\u001b[A\n",
            " 51%|█████     | 37803/74067 [00:19<00:18, 1964.13it/s]\u001b[A\n",
            " 51%|█████▏    | 38001/74067 [00:19<00:18, 1966.87it/s]\u001b[A\n",
            " 52%|█████▏    | 38199/74067 [00:19<00:18, 1937.51it/s]\u001b[A\n",
            " 52%|█████▏    | 38397/74067 [00:20<00:18, 1948.23it/s]\u001b[A\n",
            " 52%|█████▏    | 38593/74067 [00:20<00:18, 1947.42it/s]\u001b[A\n",
            " 52%|█████▏    | 38788/74067 [00:20<00:18, 1907.44it/s]\u001b[A\n",
            " 53%|█████▎    | 38999/74067 [00:20<00:17, 1963.02it/s]\u001b[A\n",
            " 53%|█████▎    | 39196/74067 [00:20<00:17, 1941.33it/s]\u001b[A\n",
            " 53%|█████▎    | 39398/74067 [00:20<00:17, 1961.74it/s]\u001b[A\n",
            " 53%|█████▎    | 39596/74067 [00:20<00:17, 1966.04it/s]\u001b[A\n",
            " 54%|█████▎    | 39793/74067 [00:20<00:18, 1896.07it/s]\u001b[A\n",
            " 54%|█████▍    | 39984/74067 [00:20<00:18, 1878.10it/s]\u001b[A\n",
            " 54%|█████▍    | 40173/74067 [00:21<00:18, 1851.11it/s]\u001b[A\n",
            " 55%|█████▍    | 40369/74067 [00:21<00:17, 1882.01it/s]\u001b[A\n",
            " 55%|█████▍    | 40570/74067 [00:21<00:17, 1918.60it/s]\u001b[A\n",
            " 55%|█████▌    | 40774/74067 [00:21<00:17, 1952.86it/s]\u001b[A\n",
            " 55%|█████▌    | 40970/74067 [00:21<00:16, 1954.67it/s]\u001b[A\n",
            " 56%|█████▌    | 41177/74067 [00:21<00:16, 1987.00it/s]\u001b[A\n",
            " 56%|█████▌    | 41382/74067 [00:21<00:16, 2005.47it/s]\u001b[A\n",
            " 56%|█████▌    | 41583/74067 [00:21<00:17, 1875.29it/s]\u001b[A\n",
            " 56%|█████▋    | 41773/74067 [00:21<00:17, 1881.28it/s]\u001b[A\n",
            " 57%|█████▋    | 41964/74067 [00:21<00:17, 1886.51it/s]\u001b[A\n",
            " 57%|█████▋    | 42154/74067 [00:22<00:35, 897.35it/s] \u001b[A\n",
            " 57%|█████▋    | 42353/74067 [00:22<00:29, 1073.88it/s]\u001b[A\n",
            " 57%|█████▋    | 42536/74067 [00:22<00:25, 1225.08it/s]\u001b[A\n",
            " 58%|█████▊    | 42714/74067 [00:22<00:23, 1351.44it/s]\u001b[A\n",
            " 58%|█████▊    | 42897/74067 [00:22<00:21, 1466.27it/s]\u001b[A\n",
            " 58%|█████▊    | 43086/74067 [00:22<00:19, 1571.43it/s]\u001b[A\n",
            " 58%|█████▊    | 43288/74067 [00:23<00:18, 1683.22it/s]\u001b[A\n",
            " 59%|█████▊    | 43474/74067 [00:23<00:17, 1717.13it/s]\u001b[A\n",
            " 59%|█████▉    | 43687/74067 [00:23<00:16, 1822.59it/s]\u001b[A\n",
            " 59%|█████▉    | 43893/74067 [00:23<00:15, 1887.45it/s]\u001b[A\n",
            " 60%|█████▉    | 44090/74067 [00:23<00:15, 1902.48it/s]\u001b[A\n",
            " 60%|█████▉    | 44291/74067 [00:23<00:15, 1932.53it/s]\u001b[A\n",
            " 60%|██████    | 44489/74067 [00:23<00:15, 1921.86it/s]\u001b[A\n",
            " 60%|██████    | 44684/74067 [00:23<00:15, 1853.77it/s]\u001b[A\n",
            " 61%|██████    | 44872/74067 [00:23<00:15, 1849.42it/s]\u001b[A\n",
            " 61%|██████    | 45079/74067 [00:23<00:15, 1909.75it/s]\u001b[A\n",
            " 61%|██████    | 45279/74067 [00:24<00:14, 1934.16it/s]\u001b[A\n",
            " 61%|██████▏   | 45478/74067 [00:24<00:14, 1948.25it/s]\u001b[A\n",
            " 62%|██████▏   | 45674/74067 [00:24<00:14, 1932.30it/s]\u001b[A\n",
            " 62%|██████▏   | 45868/74067 [00:24<00:14, 1897.18it/s]\u001b[A\n",
            " 62%|██████▏   | 46064/74067 [00:24<00:14, 1913.94it/s]\u001b[A\n",
            " 62%|██████▏   | 46279/74067 [00:24<00:14, 1977.82it/s]\u001b[A\n",
            " 63%|██████▎   | 46491/74067 [00:24<00:13, 2018.41it/s]\u001b[A\n",
            " 63%|██████▎   | 46694/74067 [00:24<00:13, 1956.49it/s]\u001b[A\n",
            " 63%|██████▎   | 46894/74067 [00:24<00:13, 1968.70it/s]\u001b[A\n",
            " 64%|██████▎   | 47092/74067 [00:24<00:13, 1966.33it/s]\u001b[A\n",
            " 64%|██████▍   | 47290/74067 [00:25<00:13, 1948.34it/s]\u001b[A\n",
            " 64%|██████▍   | 47486/74067 [00:25<00:13, 1912.41it/s]\u001b[A\n",
            " 64%|██████▍   | 47687/74067 [00:25<00:13, 1940.65it/s]\u001b[A\n",
            " 65%|██████▍   | 47887/74067 [00:25<00:13, 1957.21it/s]\u001b[A\n",
            " 65%|██████▍   | 48098/74067 [00:25<00:12, 1998.38it/s]\u001b[A\n",
            " 65%|██████▌   | 48301/74067 [00:25<00:12, 2006.82it/s]\u001b[A\n",
            " 65%|██████▌   | 48502/74067 [00:25<00:12, 1996.23it/s]\u001b[A\n",
            " 66%|██████▌   | 48702/74067 [00:25<00:12, 1951.88it/s]\u001b[A\n",
            " 66%|██████▌   | 48899/74067 [00:25<00:12, 1954.97it/s]\u001b[A\n",
            " 66%|██████▋   | 49095/74067 [00:25<00:13, 1899.42it/s]\u001b[A\n",
            " 67%|██████▋   | 49299/74067 [00:26<00:12, 1939.19it/s]\u001b[A\n",
            " 67%|██████▋   | 49494/74067 [00:26<00:12, 1913.04it/s]\u001b[A\n",
            " 67%|██████▋   | 49691/74067 [00:26<00:12, 1928.68it/s]\u001b[A\n",
            " 67%|██████▋   | 49892/74067 [00:26<00:12, 1952.13it/s]\u001b[A\n",
            " 68%|██████▊   | 50104/74067 [00:26<00:11, 1997.97it/s]\u001b[A\n",
            " 68%|██████▊   | 50305/74067 [00:26<00:12, 1970.24it/s]\u001b[A\n",
            " 68%|██████▊   | 50503/74067 [00:26<00:12, 1869.18it/s]\u001b[A\n",
            " 68%|██████▊   | 50692/74067 [00:26<00:12, 1869.13it/s]\u001b[A\n",
            " 69%|██████▊   | 50883/74067 [00:26<00:12, 1877.63it/s]\u001b[A\n",
            " 69%|██████▉   | 51078/74067 [00:27<00:12, 1898.27it/s]\u001b[A\n",
            " 69%|██████▉   | 51276/74067 [00:27<00:11, 1921.07it/s]\u001b[A\n",
            " 69%|██████▉   | 51469/74067 [00:27<00:11, 1919.76it/s]\u001b[A\n",
            " 70%|██████▉   | 51671/74067 [00:27<00:11, 1947.08it/s]\u001b[A\n",
            " 70%|███████   | 51867/74067 [00:27<00:11, 1907.13it/s]\u001b[A\n",
            " 70%|███████   | 52064/74067 [00:27<00:11, 1923.66it/s]\u001b[A\n",
            " 71%|███████   | 52272/74067 [00:27<00:11, 1966.61it/s]\u001b[A\n",
            " 71%|███████   | 52470/74067 [00:27<00:11, 1904.03it/s]\u001b[A\n",
            " 71%|███████   | 52665/74067 [00:27<00:11, 1915.79it/s]\u001b[A\n",
            " 71%|███████▏  | 52868/74067 [00:27<00:10, 1948.11it/s]\u001b[A\n",
            " 72%|███████▏  | 53064/74067 [00:28<00:10, 1910.29it/s]\u001b[A\n",
            " 72%|███████▏  | 53263/74067 [00:28<00:10, 1933.17it/s]\u001b[A\n",
            " 72%|███████▏  | 53464/74067 [00:28<00:10, 1953.72it/s]\u001b[A\n",
            " 72%|███████▏  | 53670/74067 [00:28<00:10, 1983.81it/s]\u001b[A\n",
            " 73%|███████▎  | 53873/74067 [00:28<00:10, 1996.23it/s]\u001b[A\n",
            " 73%|███████▎  | 54073/74067 [00:28<00:10, 1992.42it/s]\u001b[A\n",
            " 73%|███████▎  | 54273/74067 [00:28<00:10, 1893.42it/s]\u001b[A\n",
            " 74%|███████▎  | 54464/74067 [00:28<00:10, 1834.55it/s]\u001b[A\n",
            " 74%|███████▍  | 54654/74067 [00:28<00:10, 1852.68it/s]\u001b[A\n",
            " 74%|███████▍  | 54841/74067 [00:28<00:10, 1847.65it/s]\u001b[A\n",
            " 74%|███████▍  | 55027/74067 [00:29<00:10, 1760.49it/s]\u001b[A\n",
            " 75%|███████▍  | 55212/74067 [00:29<00:10, 1786.35it/s]\u001b[A\n",
            " 75%|███████▍  | 55395/74067 [00:29<00:10, 1798.48it/s]\u001b[A\n",
            " 75%|███████▌  | 55576/74067 [00:29<00:10, 1773.12it/s]\u001b[A\n",
            " 75%|███████▌  | 55766/74067 [00:29<00:10, 1807.22it/s]\u001b[A\n",
            " 76%|███████▌  | 55959/74067 [00:29<00:09, 1839.41it/s]\u001b[A\n",
            " 76%|███████▌  | 56144/74067 [00:29<00:09, 1828.55it/s]\u001b[A\n",
            " 76%|███████▌  | 56328/74067 [00:29<00:09, 1794.34it/s]\u001b[A\n",
            " 76%|███████▋  | 56509/74067 [00:29<00:09, 1798.84it/s]\u001b[A\n",
            " 77%|███████▋  | 56690/74067 [00:30<00:09, 1776.30it/s]\u001b[A\n",
            " 77%|███████▋  | 56876/74067 [00:30<00:09, 1798.98it/s]\u001b[A\n",
            " 77%|███████▋  | 57063/74067 [00:30<00:09, 1819.64it/s]\u001b[A\n",
            " 77%|███████▋  | 57255/74067 [00:30<00:09, 1846.26it/s]\u001b[A\n",
            " 78%|███████▊  | 57447/74067 [00:30<00:08, 1866.26it/s]\u001b[A\n",
            " 78%|███████▊  | 57634/74067 [00:30<00:08, 1843.94it/s]\u001b[A\n",
            " 78%|███████▊  | 57819/74067 [00:30<00:09, 1779.24it/s]\u001b[A\n",
            " 78%|███████▊  | 57998/74067 [00:30<00:09, 1778.14it/s]\u001b[A\n",
            " 79%|███████▊  | 58177/74067 [00:30<00:08, 1775.71it/s]\u001b[A\n",
            " 79%|███████▉  | 58361/74067 [00:30<00:08, 1794.23it/s]\u001b[A\n",
            " 79%|███████▉  | 58541/74067 [00:31<00:08, 1794.49it/s]\u001b[A\n",
            " 79%|███████▉  | 58721/74067 [00:31<00:08, 1764.01it/s]\u001b[A\n",
            " 80%|███████▉  | 58898/74067 [00:31<00:08, 1762.81it/s]\u001b[A\n",
            " 80%|███████▉  | 59092/74067 [00:31<00:08, 1810.99it/s]\u001b[A\n",
            " 80%|████████  | 59281/74067 [00:31<00:08, 1832.76it/s]\u001b[A\n",
            " 80%|████████  | 59474/74067 [00:31<00:07, 1860.06it/s]\u001b[A\n",
            " 81%|████████  | 59676/74067 [00:31<00:07, 1902.57it/s]\u001b[A\n",
            " 81%|████████  | 59868/74067 [00:31<00:07, 1907.42it/s]\u001b[A\n",
            " 81%|████████  | 60060/74067 [00:31<00:07, 1812.09it/s]\u001b[A\n",
            " 81%|████████▏ | 60243/74067 [00:31<00:07, 1779.87it/s]\u001b[A\n",
            " 82%|████████▏ | 60435/74067 [00:32<00:07, 1819.13it/s]\u001b[A\n",
            " 82%|████████▏ | 60623/74067 [00:32<00:07, 1834.80it/s]\u001b[A\n",
            " 82%|████████▏ | 60825/74067 [00:32<00:07, 1884.41it/s]\u001b[A\n",
            " 82%|████████▏ | 61015/74067 [00:32<00:07, 1863.89it/s]\u001b[A\n",
            " 83%|████████▎ | 61203/74067 [00:32<00:07, 1823.58it/s]\u001b[A\n",
            " 83%|████████▎ | 61390/74067 [00:32<00:06, 1836.84it/s]\u001b[A\n",
            " 83%|████████▎ | 61597/74067 [00:32<00:06, 1898.99it/s]\u001b[A\n",
            " 83%|████████▎ | 61797/74067 [00:32<00:06, 1927.05it/s]\u001b[A\n",
            " 84%|████████▎ | 61991/74067 [00:32<00:06, 1813.21it/s]\u001b[A\n",
            " 84%|████████▍ | 62186/74067 [00:33<00:06, 1851.53it/s]\u001b[A\n",
            " 84%|████████▍ | 62373/74067 [00:33<00:06, 1849.49it/s]\u001b[A\n",
            " 84%|████████▍ | 62567/74067 [00:33<00:06, 1874.81it/s]\u001b[A\n",
            " 85%|████████▍ | 62766/74067 [00:33<00:05, 1905.78it/s]\u001b[A\n",
            " 85%|████████▌ | 62958/74067 [00:33<00:05, 1897.40it/s]\u001b[A\n",
            " 85%|████████▌ | 63149/74067 [00:33<00:05, 1858.35it/s]\u001b[A\n",
            " 86%|████████▌ | 63336/74067 [00:33<00:05, 1854.92it/s]\u001b[A\n",
            " 86%|████████▌ | 63524/74067 [00:33<00:05, 1861.62it/s]\u001b[A\n",
            " 86%|████████▌ | 63711/74067 [00:33<00:05, 1793.28it/s]\u001b[A\n",
            " 86%|████████▋ | 63900/74067 [00:33<00:05, 1816.94it/s]\u001b[A\n",
            " 87%|████████▋ | 64083/74067 [00:34<00:05, 1787.74it/s]\u001b[A\n",
            " 87%|████████▋ | 64265/74067 [00:34<00:05, 1794.70it/s]\u001b[A\n",
            " 87%|████████▋ | 64464/74067 [00:34<00:05, 1847.18it/s]\u001b[A\n",
            " 87%|████████▋ | 64650/74067 [00:34<00:05, 1791.27it/s]\u001b[A\n",
            " 88%|████████▊ | 64841/74067 [00:34<00:05, 1824.16it/s]\u001b[A\n",
            " 88%|████████▊ | 65025/74067 [00:34<00:05, 1769.18it/s]\u001b[A\n",
            " 88%|████████▊ | 65205/74067 [00:34<00:04, 1777.80it/s]\u001b[A\n",
            " 88%|████████▊ | 65396/74067 [00:34<00:04, 1815.24it/s]\u001b[A\n",
            " 89%|████████▊ | 65579/74067 [00:34<00:04, 1784.85it/s]\u001b[A\n",
            " 89%|████████▉ | 65759/74067 [00:34<00:04, 1766.71it/s]\u001b[A\n",
            " 89%|████████▉ | 65945/74067 [00:35<00:04, 1791.25it/s]\u001b[A\n",
            " 89%|████████▉ | 66125/74067 [00:35<00:04, 1741.04it/s]\u001b[A\n",
            " 90%|████████▉ | 66308/74067 [00:35<00:04, 1765.26it/s]\u001b[A\n",
            " 90%|████████▉ | 66502/74067 [00:35<00:04, 1812.23it/s]\u001b[A\n",
            " 90%|█████████ | 66696/74067 [00:35<00:03, 1847.30it/s]\u001b[A\n",
            " 90%|█████████ | 66902/74067 [00:35<00:03, 1904.12it/s]\u001b[A\n",
            " 91%|█████████ | 67094/74067 [00:35<00:03, 1820.82it/s]\u001b[A\n",
            " 91%|█████████ | 67278/74067 [00:35<00:03, 1813.30it/s]\u001b[A\n",
            " 91%|█████████ | 67461/74067 [00:35<00:03, 1778.30it/s]\u001b[A\n",
            " 91%|█████████▏| 67643/74067 [00:36<00:03, 1790.18it/s]\u001b[A\n",
            " 92%|█████████▏| 67825/74067 [00:36<00:03, 1796.69it/s]\u001b[A\n",
            " 92%|█████████▏| 68006/74067 [00:36<00:03, 1791.92it/s]\u001b[A\n",
            " 92%|█████████▏| 68186/74067 [00:36<00:03, 1773.12it/s]\u001b[A\n",
            " 92%|█████████▏| 68375/74067 [00:36<00:03, 1805.04it/s]\u001b[A\n",
            " 93%|█████████▎| 68570/74067 [00:36<00:02, 1845.32it/s]\u001b[A\n",
            " 93%|█████████▎| 68766/74067 [00:36<00:02, 1878.17it/s]\u001b[A\n",
            " 93%|█████████▎| 68955/74067 [00:36<00:02, 1795.29it/s]\u001b[A\n",
            " 93%|█████████▎| 69138/74067 [00:36<00:02, 1803.47it/s]\u001b[A\n",
            " 94%|█████████▎| 69320/74067 [00:36<00:02, 1757.27it/s]\u001b[A\n",
            " 94%|█████████▍| 69503/74067 [00:37<00:02, 1775.61it/s]\u001b[A\n",
            " 94%|█████████▍| 69682/74067 [00:37<00:02, 1776.27it/s]\u001b[A\n",
            " 94%|█████████▍| 69861/74067 [00:37<00:02, 1768.89it/s]\u001b[A\n",
            " 95%|█████████▍| 70049/74067 [00:37<00:02, 1800.72it/s]\u001b[A\n",
            " 95%|█████████▍| 70243/74067 [00:37<00:02, 1840.02it/s]\u001b[A\n",
            " 95%|█████████▌| 70438/74067 [00:37<00:01, 1868.69it/s]\u001b[A\n",
            " 95%|█████████▌| 70626/74067 [00:37<00:01, 1824.49it/s]\u001b[A\n",
            " 96%|█████████▌| 70818/74067 [00:37<00:01, 1849.78it/s]\u001b[A\n",
            " 96%|█████████▌| 71008/74067 [00:37<00:01, 1862.50it/s]\u001b[A\n",
            " 96%|█████████▌| 71195/74067 [00:37<00:01, 1817.20it/s]\u001b[A\n",
            " 96%|█████████▋| 71391/74067 [00:38<00:01, 1857.21it/s]\u001b[A\n",
            " 97%|█████████▋| 71578/74067 [00:38<00:01, 1755.34it/s]\u001b[A\n",
            " 97%|█████████▋| 71764/74067 [00:38<00:01, 1784.76it/s]\u001b[A\n",
            " 97%|█████████▋| 71959/74067 [00:38<00:01, 1831.22it/s]\u001b[A\n",
            " 97%|█████████▋| 72150/74067 [00:38<00:01, 1852.73it/s]\u001b[A\n",
            " 98%|█████████▊| 72351/74067 [00:38<00:00, 1895.26it/s]\u001b[A\n",
            " 98%|█████████▊| 72542/74067 [00:38<00:00, 1850.29it/s]\u001b[A\n",
            " 98%|█████████▊| 72730/74067 [00:38<00:00, 1857.28it/s]\u001b[A\n",
            " 98%|█████████▊| 72917/74067 [00:38<00:00, 1826.23it/s]\u001b[A\n",
            " 99%|█████████▊| 73111/74067 [00:39<00:00, 1856.45it/s]\u001b[A\n",
            " 99%|█████████▉| 73298/74067 [00:39<00:00, 1831.69it/s]\u001b[A\n",
            " 99%|█████████▉| 73482/74067 [00:39<00:00, 1793.01it/s]\u001b[A\n",
            " 99%|█████████▉| 73674/74067 [00:39<00:00, 1828.73it/s]\u001b[A\n",
            "100%|█████████▉| 73860/74067 [00:39<00:00, 1836.29it/s]\u001b[A\n",
            "100%|██████████| 74067/74067 [00:39<00:00, 1872.61it/s]\n"
          ],
          "name": "stderr"
        }
      ]
    },
    {
      "cell_type": "code",
      "metadata": {
        "colab": {
          "base_uri": "https://localhost:8080/"
        },
        "id": "qWEyqUS_JITR",
        "outputId": "ecb8abb9-e181-462c-c16c-b430199da0c0"
      },
      "source": [
        "df['search_term_tokens'] = df['search_term'].progress_apply(lambda text: tokenize(text, MAX_SEARCH_TERM_LENGTH))"
      ],
      "execution_count": 91,
      "outputs": [
        {
          "output_type": "stream",
          "text": [
            "\n",
            "  0%|          | 0/74067 [00:00<?, ?it/s]\u001b[A\n",
            "  0%|          | 354/74067 [00:00<00:20, 3537.35it/s]\u001b[A\n",
            "  1%|          | 705/74067 [00:00<00:20, 3527.82it/s]\u001b[A\n",
            "  1%|▏         | 1082/74067 [00:00<00:20, 3596.30it/s]\u001b[A\n",
            "  2%|▏         | 1443/74067 [00:00<00:20, 3598.47it/s]\u001b[A\n",
            "  2%|▏         | 1843/74067 [00:00<00:19, 3708.66it/s]\u001b[A\n",
            "  3%|▎         | 2219/74067 [00:00<00:19, 3722.60it/s]\u001b[A\n",
            "  4%|▎         | 2611/74067 [00:00<00:18, 3778.18it/s]\u001b[A\n",
            "  4%|▍         | 3030/74067 [00:00<00:18, 3891.16it/s]\u001b[A\n",
            "  5%|▍         | 3433/74067 [00:00<00:17, 3931.37it/s]\u001b[A\n",
            "  5%|▌         | 3854/74067 [00:01<00:17, 4009.99it/s]\u001b[A\n",
            "  6%|▌         | 4260/74067 [00:01<00:17, 4023.26it/s]\u001b[A\n",
            "  6%|▋         | 4657/74067 [00:01<00:17, 3899.98it/s]\u001b[A\n",
            "  7%|▋         | 5044/74067 [00:01<00:18, 3771.43it/s]\u001b[A\n",
            "  7%|▋         | 5423/74067 [00:01<00:18, 3776.37it/s]\u001b[A\n",
            "  8%|▊         | 5850/74067 [00:01<00:17, 3910.28it/s]\u001b[A\n",
            "  8%|▊         | 6282/74067 [00:01<00:16, 4023.35it/s]\u001b[A\n",
            "  9%|▉         | 6693/74067 [00:01<00:16, 4045.61it/s]\u001b[A\n",
            " 10%|▉         | 7099/74067 [00:01<00:16, 4029.76it/s]\u001b[A\n",
            " 10%|█         | 7514/74067 [00:01<00:16, 4062.66it/s]\u001b[A\n",
            " 11%|█         | 7921/74067 [00:02<00:16, 4061.46it/s]\u001b[A\n",
            " 11%|█         | 8328/74067 [00:02<00:16, 3958.30it/s]\u001b[A\n",
            " 12%|█▏        | 8729/74067 [00:02<00:16, 3969.91it/s]\u001b[A\n",
            " 12%|█▏        | 9127/74067 [00:02<00:16, 3934.97it/s]\u001b[A\n",
            " 13%|█▎        | 9521/74067 [00:02<00:16, 3870.67it/s]\u001b[A\n",
            " 13%|█▎        | 9924/74067 [00:02<00:16, 3915.30it/s]\u001b[A\n",
            " 14%|█▍        | 10317/74067 [00:02<00:16, 3914.63it/s]\u001b[A\n",
            " 14%|█▍        | 10709/74067 [00:02<00:16, 3816.70it/s]\u001b[A\n",
            " 15%|█▍        | 11108/74067 [00:02<00:16, 3865.27it/s]\u001b[A\n",
            " 16%|█▌        | 11505/74067 [00:02<00:16, 3895.52it/s]\u001b[A\n",
            " 16%|█▌        | 11896/74067 [00:03<00:16, 3882.00it/s]\u001b[A\n",
            " 17%|█▋        | 12312/74067 [00:03<00:15, 3960.17it/s]\u001b[A\n",
            " 17%|█▋        | 12709/74067 [00:03<00:15, 3936.96it/s]\u001b[A\n",
            " 18%|█▊        | 13104/74067 [00:03<00:15, 3937.65it/s]\u001b[A\n",
            " 18%|█▊        | 13499/74067 [00:03<00:15, 3907.55it/s]\u001b[A\n",
            " 19%|█▉        | 13891/74067 [00:03<00:15, 3886.58it/s]\u001b[A\n",
            " 19%|█▉        | 14280/74067 [00:03<00:15, 3864.01it/s]\u001b[A\n",
            " 20%|█▉        | 14667/74067 [00:04<00:35, 1653.60it/s]\u001b[A\n",
            " 20%|██        | 15031/74067 [00:04<00:29, 1976.84it/s]\u001b[A\n",
            " 21%|██        | 15376/74067 [00:04<00:25, 2267.20it/s]\u001b[A\n",
            " 21%|██▏       | 15775/74067 [00:04<00:22, 2601.94it/s]\u001b[A\n",
            " 22%|██▏       | 16164/74067 [00:04<00:20, 2887.47it/s]\u001b[A\n",
            " 22%|██▏       | 16580/74067 [00:04<00:18, 3178.70it/s]\u001b[A\n",
            " 23%|██▎       | 16982/74067 [00:04<00:16, 3391.35it/s]\u001b[A\n",
            " 23%|██▎       | 17386/74067 [00:04<00:15, 3562.36it/s]\u001b[A\n",
            " 24%|██▍       | 17803/74067 [00:05<00:15, 3724.05it/s]\u001b[A\n",
            " 25%|██▍       | 18213/74067 [00:05<00:14, 3829.31it/s]\u001b[A\n",
            " 25%|██▌       | 18615/74067 [00:05<00:14, 3850.18it/s]\u001b[A\n",
            " 26%|██▌       | 19013/74067 [00:05<00:14, 3737.46it/s]\u001b[A\n",
            " 26%|██▌       | 19397/74067 [00:05<00:14, 3718.56it/s]\u001b[A\n",
            " 27%|██▋       | 19797/74067 [00:05<00:14, 3797.06it/s]\u001b[A\n",
            " 27%|██▋       | 20217/74067 [00:05<00:13, 3909.41it/s]\u001b[A\n",
            " 28%|██▊       | 20624/74067 [00:05<00:13, 3956.23it/s]\u001b[A\n",
            " 28%|██▊       | 21027/74067 [00:05<00:13, 3977.70it/s]\u001b[A\n",
            " 29%|██▉       | 21428/74067 [00:05<00:13, 3934.30it/s]\u001b[A\n",
            " 29%|██▉       | 21830/74067 [00:06<00:13, 3957.88it/s]\u001b[A\n",
            " 30%|███       | 22232/74067 [00:06<00:13, 3976.07it/s]\u001b[A\n",
            " 31%|███       | 22631/74067 [00:06<00:13, 3940.78it/s]\u001b[A\n",
            " 31%|███       | 23026/74067 [00:06<00:13, 3892.39it/s]\u001b[A\n",
            " 32%|███▏      | 23416/74067 [00:06<00:13, 3853.05it/s]\u001b[A\n",
            " 32%|███▏      | 23802/74067 [00:06<00:13, 3841.76it/s]\u001b[A\n",
            " 33%|███▎      | 24204/74067 [00:06<00:12, 3893.05it/s]\u001b[A\n",
            " 33%|███▎      | 24594/74067 [00:06<00:12, 3886.09it/s]\u001b[A\n",
            " 34%|███▎      | 24996/74067 [00:06<00:12, 3923.20it/s]\u001b[A\n",
            " 34%|███▍      | 25404/74067 [00:06<00:12, 3966.28it/s]\u001b[A\n",
            " 35%|███▍      | 25801/74067 [00:07<00:12, 3958.50it/s]\u001b[A\n",
            " 35%|███▌      | 26198/74067 [00:07<00:12, 3825.86it/s]\u001b[A\n",
            " 36%|███▌      | 26582/74067 [00:07<00:12, 3736.46it/s]\u001b[A\n",
            " 36%|███▋      | 26981/74067 [00:07<00:12, 3806.85it/s]\u001b[A\n",
            " 37%|███▋      | 27363/74067 [00:07<00:12, 3784.10it/s]\u001b[A\n",
            " 37%|███▋      | 27743/74067 [00:07<00:12, 3786.49it/s]\u001b[A\n",
            " 38%|███▊      | 28133/74067 [00:07<00:12, 3819.07it/s]\u001b[A\n",
            " 39%|███▊      | 28533/74067 [00:07<00:11, 3870.96it/s]\u001b[A\n",
            " 39%|███▉      | 28944/74067 [00:07<00:11, 3938.61it/s]\u001b[A\n",
            " 40%|███▉      | 29367/74067 [00:07<00:11, 4019.14it/s]\u001b[A\n",
            " 40%|████      | 29770/74067 [00:08<00:11, 3937.32it/s]\u001b[A\n",
            " 41%|████      | 30165/74067 [00:08<00:11, 3812.61it/s]\u001b[A\n",
            " 41%|████▏     | 30554/74067 [00:08<00:11, 3834.66it/s]\u001b[A\n",
            " 42%|████▏     | 30966/74067 [00:08<00:11, 3912.64it/s]\u001b[A\n",
            " 42%|████▏     | 31359/74067 [00:08<00:11, 3839.49it/s]\u001b[A\n",
            " 43%|████▎     | 31759/74067 [00:08<00:10, 3884.62it/s]\u001b[A\n",
            " 43%|████▎     | 32149/74067 [00:08<00:10, 3828.64it/s]\u001b[A\n",
            " 44%|████▍     | 32545/74067 [00:08<00:10, 3866.55it/s]\u001b[A\n",
            " 44%|████▍     | 32933/74067 [00:08<00:10, 3868.76it/s]\u001b[A\n",
            " 45%|████▌     | 33334/74067 [00:09<00:10, 3908.76it/s]\u001b[A\n",
            " 46%|████▌     | 33728/74067 [00:09<00:10, 3917.38it/s]\u001b[A\n",
            " 46%|████▌     | 34121/74067 [00:09<00:10, 3872.41it/s]\u001b[A\n",
            " 47%|████▋     | 34509/74067 [00:09<00:10, 3815.34it/s]\u001b[A\n",
            " 47%|████▋     | 34898/74067 [00:09<00:10, 3835.01it/s]\u001b[A\n",
            " 48%|████▊     | 35282/74067 [00:09<00:10, 3800.45it/s]\u001b[A\n",
            " 48%|████▊     | 35674/74067 [00:09<00:10, 3834.54it/s]\u001b[A\n",
            " 49%|████▊     | 36083/74067 [00:09<00:09, 3906.05it/s]\u001b[A\n",
            " 49%|████▉     | 36486/74067 [00:09<00:09, 3942.11it/s]\u001b[A\n",
            " 50%|████▉     | 36892/74067 [00:09<00:09, 3975.11it/s]\u001b[A\n",
            " 50%|█████     | 37290/74067 [00:10<00:09, 3938.12it/s]\u001b[A\n",
            " 51%|█████     | 37685/74067 [00:10<00:09, 3817.84it/s]\u001b[A\n",
            " 51%|█████▏    | 38077/74067 [00:10<00:09, 3846.85it/s]\u001b[A\n",
            " 52%|█████▏    | 38463/74067 [00:10<00:09, 3848.31it/s]\u001b[A\n",
            " 52%|█████▏    | 38874/74067 [00:10<00:08, 3921.23it/s]\u001b[A\n",
            " 53%|█████▎    | 39267/74067 [00:10<00:09, 3828.43it/s]\u001b[A\n",
            " 54%|█████▎    | 39669/74067 [00:10<00:08, 3882.63it/s]\u001b[A\n",
            " 54%|█████▍    | 40059/74067 [00:10<00:09, 3752.42it/s]\u001b[A\n",
            " 55%|█████▍    | 40436/74067 [00:10<00:09, 3733.30it/s]\u001b[A\n",
            " 55%|█████▌    | 40835/74067 [00:10<00:08, 3805.43it/s]\u001b[A\n",
            " 56%|█████▌    | 41217/74067 [00:11<00:08, 3756.55it/s]\u001b[A\n",
            " 56%|█████▌    | 41605/74067 [00:11<00:08, 3788.18it/s]\u001b[A\n",
            " 57%|█████▋    | 41985/74067 [00:11<00:08, 3771.02it/s]\u001b[A\n",
            " 57%|█████▋    | 42386/74067 [00:11<00:08, 3838.02it/s]\u001b[A\n",
            " 58%|█████▊    | 42795/74067 [00:11<00:07, 3910.01it/s]\u001b[A\n",
            " 58%|█████▊    | 43187/74067 [00:11<00:08, 3836.84it/s]\u001b[A\n",
            " 59%|█████▉    | 43572/74067 [00:11<00:07, 3839.13it/s]\u001b[A\n",
            " 59%|█████▉    | 43992/74067 [00:11<00:07, 3939.43it/s]\u001b[A\n",
            " 60%|█████▉    | 44406/74067 [00:11<00:07, 3997.06it/s]\u001b[A\n",
            " 60%|██████    | 44807/74067 [00:11<00:07, 3945.37it/s]\u001b[A\n",
            " 61%|██████    | 45207/74067 [00:12<00:07, 3960.43it/s]\u001b[A\n",
            " 62%|██████▏   | 45606/74067 [00:12<00:07, 3968.83it/s]\u001b[A\n",
            " 62%|██████▏   | 46004/74067 [00:12<00:07, 3945.02it/s]\u001b[A\n",
            " 63%|██████▎   | 46413/74067 [00:12<00:06, 3985.71it/s]\u001b[A\n",
            " 63%|██████▎   | 46822/74067 [00:12<00:06, 4014.33it/s]\u001b[A\n",
            " 64%|██████▍   | 47224/74067 [00:12<00:07, 3648.91it/s]\u001b[A\n",
            " 64%|██████▍   | 47633/74067 [00:12<00:07, 3770.64it/s]\u001b[A\n",
            " 65%|██████▍   | 48044/74067 [00:12<00:06, 3864.01it/s]\u001b[A\n",
            " 65%|██████▌   | 48444/74067 [00:12<00:06, 3903.38it/s]\u001b[A\n",
            " 66%|██████▌   | 48844/74067 [00:13<00:06, 3930.88it/s]\u001b[A\n",
            " 66%|██████▋   | 49240/74067 [00:13<00:06, 3893.05it/s]\u001b[A\n",
            " 67%|██████▋   | 49632/74067 [00:13<00:06, 3877.01it/s]\u001b[A\n",
            " 68%|██████▊   | 50022/74067 [00:13<00:06, 3882.05it/s]\u001b[A\n",
            " 68%|██████▊   | 50412/74067 [00:13<00:06, 3865.65it/s]\u001b[A\n",
            " 69%|██████▊   | 50800/74067 [00:13<00:06, 3860.24it/s]\u001b[A\n",
            " 69%|██████▉   | 51187/74067 [00:13<00:05, 3826.67it/s]\u001b[A\n",
            " 70%|██████▉   | 51581/74067 [00:13<00:05, 3859.62it/s]\u001b[A\n",
            " 70%|███████   | 51972/74067 [00:13<00:05, 3874.25it/s]\u001b[A\n",
            " 71%|███████   | 52380/74067 [00:13<00:05, 3933.35it/s]\u001b[A\n",
            " 71%|███████▏  | 52774/74067 [00:14<00:05, 3737.45it/s]\u001b[A\n",
            " 72%|███████▏  | 53161/74067 [00:14<00:05, 3774.37it/s]\u001b[A\n",
            " 72%|███████▏  | 53564/74067 [00:14<00:05, 3846.78it/s]\u001b[A\n",
            " 73%|███████▎  | 53970/74067 [00:14<00:05, 3907.59it/s]\u001b[A\n",
            " 73%|███████▎  | 54363/74067 [00:14<00:05, 3808.71it/s]\u001b[A\n",
            " 74%|███████▍  | 54746/74067 [00:14<00:05, 3602.73it/s]\u001b[A\n",
            " 74%|███████▍  | 55110/74067 [00:14<00:05, 3601.96it/s]\u001b[A\n",
            " 75%|███████▍  | 55494/74067 [00:14<00:05, 3669.50it/s]\u001b[A\n",
            " 75%|███████▌  | 55863/74067 [00:14<00:05, 3598.31it/s]\u001b[A\n",
            " 76%|███████▌  | 56225/74067 [00:14<00:05, 3567.46it/s]\u001b[A\n",
            " 76%|███████▋  | 56600/74067 [00:15<00:04, 3619.43it/s]\u001b[A\n",
            " 77%|███████▋  | 56978/74067 [00:15<00:04, 3664.10it/s]\u001b[A\n",
            " 77%|███████▋  | 57346/74067 [00:15<00:04, 3658.43it/s]\u001b[A\n",
            " 78%|███████▊  | 57713/74067 [00:15<00:04, 3518.83it/s]\u001b[A\n",
            " 78%|███████▊  | 58087/74067 [00:15<00:04, 3579.93it/s]\u001b[A\n",
            " 79%|███████▉  | 58447/74067 [00:15<00:04, 3493.30it/s]\u001b[A\n",
            " 79%|███████▉  | 58831/74067 [00:15<00:04, 3589.02it/s]\u001b[A\n",
            " 80%|███████▉  | 59200/74067 [00:15<00:04, 3618.14it/s]\u001b[A\n",
            " 80%|████████  | 59564/74067 [00:15<00:04, 3621.27it/s]\u001b[A\n",
            " 81%|████████  | 59941/74067 [00:16<00:03, 3664.09it/s]\u001b[A\n",
            " 81%|████████▏ | 60315/74067 [00:16<00:03, 3685.97it/s]\u001b[A\n",
            " 82%|████████▏ | 60685/74067 [00:16<00:03, 3652.66it/s]\u001b[A\n",
            " 82%|████████▏ | 61051/74067 [00:16<00:03, 3599.08it/s]\u001b[A\n",
            " 83%|████████▎ | 61431/74067 [00:16<00:03, 3655.81it/s]\u001b[A\n",
            " 83%|████████▎ | 61798/74067 [00:16<00:03, 3613.40it/s]\u001b[A\n",
            " 84%|████████▍ | 62160/74067 [00:16<00:03, 3485.23it/s]\u001b[A\n",
            " 84%|████████▍ | 62512/74067 [00:16<00:03, 3495.03it/s]\u001b[A\n",
            " 85%|████████▍ | 62900/74067 [00:16<00:03, 3600.87it/s]\u001b[A\n",
            " 85%|████████▌ | 63281/74067 [00:16<00:02, 3659.80it/s]\u001b[A\n",
            " 86%|████████▌ | 63669/74067 [00:17<00:02, 3721.99it/s]\u001b[A\n",
            " 86%|████████▋ | 64043/74067 [00:17<00:02, 3667.16it/s]\u001b[A\n",
            " 87%|████████▋ | 64411/74067 [00:17<00:02, 3645.52it/s]\u001b[A\n",
            " 87%|████████▋ | 64779/74067 [00:17<00:02, 3653.32it/s]\u001b[A\n",
            " 88%|████████▊ | 65145/74067 [00:17<00:02, 3654.33it/s]\u001b[A\n",
            " 88%|████████▊ | 65511/74067 [00:17<00:02, 3572.99it/s]\u001b[A\n",
            " 89%|████████▉ | 65869/74067 [00:17<00:02, 3393.95it/s]\u001b[A\n",
            " 89%|████████▉ | 66231/74067 [00:17<00:02, 3457.13it/s]\u001b[A\n",
            " 90%|████████▉ | 66579/74067 [00:17<00:02, 3417.42it/s]\u001b[A\n",
            " 90%|█████████ | 66923/74067 [00:17<00:02, 3376.60it/s]\u001b[A\n",
            " 91%|█████████ | 67288/74067 [00:18<00:01, 3453.96it/s]\u001b[A\n",
            " 91%|█████████▏| 67650/74067 [00:18<00:01, 3500.98it/s]\u001b[A\n",
            " 92%|█████████▏| 68002/74067 [00:18<00:01, 3483.78it/s]\u001b[A\n",
            " 92%|█████████▏| 68385/74067 [00:18<00:01, 3579.82it/s]\u001b[A\n",
            " 93%|█████████▎| 68777/74067 [00:18<00:01, 3673.86it/s]\u001b[A\n",
            " 93%|█████████▎| 69147/74067 [00:18<00:01, 3680.01it/s]\u001b[A\n",
            " 94%|█████████▍| 69517/74067 [00:18<00:01, 3631.89it/s]\u001b[A\n",
            " 94%|█████████▍| 69882/74067 [00:18<00:01, 3566.23it/s]\u001b[A\n",
            " 95%|█████████▍| 70242/74067 [00:18<00:01, 3573.89it/s]\u001b[A\n",
            " 95%|█████████▌| 70627/74067 [00:18<00:00, 3651.00it/s]\u001b[A\n",
            " 96%|█████████▌| 70997/74067 [00:19<00:00, 3664.63it/s]\u001b[A\n",
            " 96%|█████████▋| 71376/74067 [00:19<00:00, 3700.69it/s]\u001b[A\n",
            " 97%|█████████▋| 71747/74067 [00:19<00:00, 3635.21it/s]\u001b[A\n",
            " 97%|█████████▋| 72112/74067 [00:19<00:00, 3626.82it/s]\u001b[A\n",
            " 98%|█████████▊| 72476/74067 [00:20<00:01, 1434.43it/s]\u001b[A\n",
            " 98%|█████████▊| 72849/74067 [00:20<00:00, 1758.59it/s]\u001b[A\n",
            " 99%|█████████▉| 73195/74067 [00:20<00:00, 2062.25it/s]\u001b[A\n",
            " 99%|█████████▉| 73539/74067 [00:20<00:00, 2343.34it/s]\u001b[A\n",
            "100%|██████████| 74067/74067 [00:20<00:00, 3617.81it/s]\n"
          ],
          "name": "stderr"
        }
      ]
    },
    {
      "cell_type": "code",
      "metadata": {
        "colab": {
          "base_uri": "https://localhost:8080/"
        },
        "id": "tlqKW3Pqjosz",
        "outputId": "053491aa-73f1-428d-ccb6-bbd7c7f4aae7"
      },
      "source": [
        "\n",
        "test_df['product_title_tokens'] = test_df['product_title'].progress_apply(lambda text: tokenize(text, MAX_TITLE_LENGTH))\n"
      ],
      "execution_count": 92,
      "outputs": [
        {
          "output_type": "stream",
          "text": [
            "\n",
            "  0%|          | 0/166693 [00:00<?, ?it/s]\u001b[A\n",
            "  0%|          | 215/166693 [00:00<01:17, 2148.91it/s]\u001b[A\n",
            "  0%|          | 354/166693 [00:00<01:30, 1843.96it/s]\u001b[A\n",
            "  0%|          | 567/166693 [00:00<01:26, 1919.40it/s]\u001b[A\n",
            "  0%|          | 781/166693 [00:00<01:23, 1979.02it/s]\u001b[A\n",
            "  1%|          | 998/166693 [00:00<01:21, 2030.96it/s]\u001b[A\n",
            "  1%|          | 1169/166693 [00:00<01:26, 1909.32it/s]\u001b[A\n",
            "  1%|          | 1376/166693 [00:00<01:24, 1953.56it/s]\u001b[A\n",
            "  1%|          | 1579/166693 [00:00<01:23, 1975.04it/s]\u001b[A\n",
            "  1%|          | 1780/166693 [00:00<01:23, 1983.00it/s]\u001b[A\n",
            "  1%|          | 1977/166693 [00:01<01:23, 1978.04it/s]\u001b[A\n",
            "  1%|▏         | 2170/166693 [00:01<01:24, 1948.54it/s]\u001b[A\n",
            "  1%|▏         | 2374/166693 [00:01<01:23, 1973.08it/s]\u001b[A\n",
            "  2%|▏         | 2571/166693 [00:01<01:23, 1971.52it/s]\u001b[A\n",
            "  2%|▏         | 2767/166693 [00:01<01:24, 1929.98it/s]\u001b[A\n",
            "  2%|▏         | 2991/166693 [00:01<01:21, 2010.44it/s]\u001b[A\n",
            "  2%|▏         | 3193/166693 [00:01<01:21, 2010.70it/s]\u001b[A\n",
            "  2%|▏         | 3395/166693 [00:01<01:22, 1977.09it/s]\u001b[A\n",
            "  2%|▏         | 3593/166693 [00:01<01:23, 1947.08it/s]\u001b[A\n",
            "  2%|▏         | 3808/166693 [00:01<01:21, 2003.67it/s]\u001b[A\n",
            "  2%|▏         | 4016/166693 [00:02<01:20, 2025.71it/s]\u001b[A\n",
            "  3%|▎         | 4228/166693 [00:02<01:19, 2051.57it/s]\u001b[A\n",
            "  3%|▎         | 4434/166693 [00:02<01:21, 2001.68it/s]\u001b[A\n",
            "  3%|▎         | 4635/166693 [00:02<01:22, 1970.06it/s]\u001b[A\n",
            "  3%|▎         | 4843/166693 [00:02<01:20, 2001.74it/s]\u001b[A\n",
            "  3%|▎         | 5044/166693 [00:02<01:22, 1963.85it/s]\u001b[A\n",
            "  3%|▎         | 5258/166693 [00:02<01:20, 2011.56it/s]\u001b[A\n",
            "  3%|▎         | 5460/166693 [00:02<01:20, 2003.37it/s]\u001b[A\n",
            "  3%|▎         | 5694/166693 [00:02<01:16, 2093.01it/s]\u001b[A\n",
            "  4%|▎         | 5905/166693 [00:02<01:17, 2084.02it/s]\u001b[A\n",
            "  4%|▎         | 6115/166693 [00:03<01:21, 1966.40it/s]\u001b[A\n",
            "  4%|▍         | 6334/166693 [00:03<01:19, 2026.85it/s]\u001b[A\n",
            "  4%|▍         | 6539/166693 [00:03<01:21, 1971.37it/s]\u001b[A\n",
            "  4%|▍         | 6738/166693 [00:03<01:21, 1950.77it/s]\u001b[A\n",
            "  4%|▍         | 6939/166693 [00:03<01:21, 1967.55it/s]\u001b[A\n",
            "  4%|▍         | 7164/166693 [00:03<01:18, 2041.34it/s]\u001b[A\n",
            "  4%|▍         | 7384/166693 [00:03<01:16, 2084.43it/s]\u001b[A\n",
            "  5%|▍         | 7594/166693 [00:03<01:17, 2064.90it/s]\u001b[A\n",
            "  5%|▍         | 7802/166693 [00:03<01:17, 2039.21it/s]\u001b[A\n",
            "  5%|▍         | 8015/166693 [00:04<01:16, 2064.96it/s]\u001b[A\n",
            "  5%|▍         | 8229/166693 [00:04<01:15, 2085.45it/s]\u001b[A\n",
            "  5%|▌         | 8438/166693 [00:04<01:17, 2045.81it/s]\u001b[A\n",
            "  5%|▌         | 8644/166693 [00:04<01:18, 2012.41it/s]\u001b[A\n",
            "  5%|▌         | 8851/166693 [00:04<01:17, 2024.94it/s]\u001b[A\n",
            "  5%|▌         | 9054/166693 [00:04<01:19, 1981.17it/s]\u001b[A\n",
            "  6%|▌         | 9253/166693 [00:04<01:19, 1968.68it/s]\u001b[A\n",
            "  6%|▌         | 9451/166693 [00:04<01:20, 1958.69it/s]\u001b[A\n",
            "  6%|▌         | 9650/166693 [00:04<01:19, 1966.83it/s]\u001b[A\n",
            "  6%|▌         | 9847/166693 [00:04<01:20, 1957.54it/s]\u001b[A\n",
            "  6%|▌         | 10053/166693 [00:05<01:18, 1986.24it/s]\u001b[A\n",
            "  6%|▌         | 10252/166693 [00:05<01:19, 1967.97it/s]\u001b[A\n",
            "  6%|▋         | 10449/166693 [00:05<01:20, 1948.31it/s]\u001b[A\n",
            "  6%|▋         | 10650/166693 [00:05<01:19, 1965.10it/s]\u001b[A\n",
            "  7%|▋         | 10864/166693 [00:05<01:17, 2011.93it/s]\u001b[A\n",
            "  7%|▋         | 11066/166693 [00:05<01:17, 1997.62it/s]\u001b[A\n",
            "  7%|▋         | 11267/166693 [00:05<01:22, 1891.55it/s]\u001b[A\n",
            "  7%|▋         | 11458/166693 [00:05<01:22, 1889.07it/s]\u001b[A\n",
            "  7%|▋         | 11667/166693 [00:05<01:19, 1943.18it/s]\u001b[A\n",
            "  7%|▋         | 11863/166693 [00:05<01:20, 1924.39it/s]\u001b[A\n",
            "  7%|▋         | 12057/166693 [00:06<01:21, 1901.60it/s]\u001b[A\n",
            "  7%|▋         | 12265/166693 [00:06<01:19, 1950.19it/s]\u001b[A\n",
            "  7%|▋         | 12472/166693 [00:06<01:17, 1983.69it/s]\u001b[A\n",
            "  8%|▊         | 12681/166693 [00:06<01:16, 2014.29it/s]\u001b[A\n",
            "  8%|▊         | 12900/166693 [00:06<01:14, 2062.38it/s]\u001b[A\n",
            "  8%|▊         | 13107/166693 [00:06<01:17, 1976.61it/s]\u001b[A\n",
            "  8%|▊         | 13306/166693 [00:06<01:18, 1953.81it/s]\u001b[A\n",
            "  8%|▊         | 13508/166693 [00:06<01:17, 1970.89it/s]\u001b[A\n",
            "  8%|▊         | 13706/166693 [00:06<01:18, 1959.61it/s]\u001b[A\n",
            "  8%|▊         | 13911/166693 [00:06<01:16, 1984.88it/s]\u001b[A\n",
            "  8%|▊         | 14110/166693 [00:07<01:17, 1975.21it/s]\u001b[A\n",
            "  9%|▊         | 14311/166693 [00:07<01:16, 1983.76it/s]\u001b[A\n",
            "  9%|▊         | 14510/166693 [00:07<01:18, 1931.44it/s]\u001b[A\n",
            "  9%|▉         | 14705/166693 [00:07<01:18, 1934.95it/s]\u001b[A\n",
            "  9%|▉         | 14907/166693 [00:07<01:17, 1958.50it/s]\u001b[A\n",
            "  9%|▉         | 15104/166693 [00:07<01:18, 1934.37it/s]\u001b[A\n",
            "  9%|▉         | 15298/166693 [00:07<01:18, 1931.60it/s]\u001b[A\n",
            "  9%|▉         | 15499/166693 [00:07<01:17, 1953.18it/s]\u001b[A\n",
            "  9%|▉         | 15712/166693 [00:07<01:15, 2002.21it/s]\u001b[A\n",
            " 10%|▉         | 15913/166693 [00:08<01:19, 1906.83it/s]\u001b[A\n",
            " 10%|▉         | 16107/166693 [00:08<01:18, 1915.73it/s]\u001b[A\n",
            " 10%|▉         | 16307/166693 [00:08<01:17, 1937.99it/s]\u001b[A\n",
            " 10%|▉         | 16502/166693 [00:08<01:19, 1895.01it/s]\u001b[A\n",
            " 10%|█         | 16693/166693 [00:08<01:19, 1898.25it/s]\u001b[A\n",
            " 10%|█         | 16903/166693 [00:08<01:16, 1954.03it/s]\u001b[A\n",
            " 10%|█         | 17100/166693 [00:08<01:17, 1921.83it/s]\u001b[A\n",
            " 10%|█         | 17306/166693 [00:08<01:16, 1958.90it/s]\u001b[A\n",
            " 11%|█         | 17503/166693 [00:08<01:16, 1943.00it/s]\u001b[A\n",
            " 11%|█         | 17698/166693 [00:08<01:18, 1893.42it/s]\u001b[A\n",
            " 11%|█         | 17895/166693 [00:09<01:17, 1914.14it/s]\u001b[A\n",
            " 11%|█         | 18112/166693 [00:09<01:14, 1982.72it/s]\u001b[A\n",
            " 11%|█         | 18319/166693 [00:09<01:13, 2008.07it/s]\u001b[A\n",
            " 11%|█         | 18521/166693 [00:09<01:17, 1910.37it/s]\u001b[A\n",
            " 11%|█         | 18717/166693 [00:09<01:16, 1923.62it/s]\u001b[A\n",
            " 11%|█▏        | 18918/166693 [00:09<01:15, 1948.71it/s]\u001b[A\n",
            " 11%|█▏        | 19114/166693 [00:09<01:15, 1944.41it/s]\u001b[A\n",
            " 12%|█▏        | 19310/166693 [00:09<01:15, 1949.01it/s]\u001b[A\n",
            " 12%|█▏        | 19506/166693 [00:09<01:17, 1900.24it/s]\u001b[A\n",
            " 12%|█▏        | 19710/166693 [00:09<01:15, 1937.92it/s]\u001b[A\n",
            " 12%|█▏        | 19905/166693 [00:10<01:16, 1916.35it/s]\u001b[A\n",
            " 12%|█▏        | 20099/166693 [00:10<01:16, 1922.40it/s]\u001b[A\n",
            " 12%|█▏        | 20292/166693 [00:10<01:16, 1921.38it/s]\u001b[A\n",
            " 12%|█▏        | 20485/166693 [00:10<01:16, 1908.02it/s]\u001b[A\n",
            " 12%|█▏        | 20676/166693 [00:10<01:16, 1904.31it/s]\u001b[A\n",
            " 13%|█▎        | 20887/166693 [00:10<01:14, 1960.70it/s]\u001b[A\n",
            " 13%|█▎        | 21085/166693 [00:10<01:14, 1960.26it/s]\u001b[A\n",
            " 13%|█▎        | 21282/166693 [00:10<01:15, 1936.66it/s]\u001b[A\n",
            " 13%|█▎        | 21476/166693 [00:10<01:21, 1781.41it/s]\u001b[A\n",
            " 13%|█▎        | 21667/166693 [00:11<01:19, 1817.86it/s]\u001b[A\n",
            " 13%|█▎        | 21851/166693 [00:11<01:19, 1811.70it/s]\u001b[A\n",
            " 13%|█▎        | 22059/166693 [00:11<01:16, 1882.31it/s]\u001b[A\n",
            " 13%|█▎        | 22249/166693 [00:11<01:17, 1874.58it/s]\u001b[A\n",
            " 13%|█▎        | 22453/166693 [00:11<01:15, 1920.49it/s]\u001b[A\n",
            " 14%|█▎        | 22649/166693 [00:11<01:14, 1930.79it/s]\u001b[A\n",
            " 14%|█▎        | 22843/166693 [00:11<01:14, 1926.45it/s]\u001b[A\n",
            " 14%|█▍        | 23037/166693 [00:11<01:14, 1927.42it/s]\u001b[A\n",
            " 14%|█▍        | 23234/166693 [00:11<01:14, 1938.32it/s]\u001b[A\n",
            " 14%|█▍        | 23449/166693 [00:11<01:11, 1994.68it/s]\u001b[A\n",
            " 14%|█▍        | 23650/166693 [00:12<01:12, 1963.26it/s]\u001b[A\n",
            " 14%|█▍        | 23862/166693 [00:12<01:11, 2007.07it/s]\u001b[A\n",
            " 14%|█▍        | 24070/166693 [00:12<01:10, 2026.48it/s]\u001b[A\n",
            " 15%|█▍        | 24274/166693 [00:12<01:12, 1977.50it/s]\u001b[A\n",
            " 15%|█▍        | 24473/166693 [00:12<01:13, 1927.03it/s]\u001b[A\n",
            " 15%|█▍        | 24667/166693 [00:12<01:13, 1927.58it/s]\u001b[A\n",
            " 15%|█▍        | 24861/166693 [00:12<01:14, 1907.44it/s]\u001b[A\n",
            " 15%|█▌        | 25053/166693 [00:12<01:16, 1862.52it/s]\u001b[A\n",
            " 15%|█▌        | 25246/166693 [00:12<01:15, 1881.53it/s]\u001b[A\n",
            " 15%|█▌        | 25435/166693 [00:12<01:15, 1867.70it/s]\u001b[A\n",
            " 15%|█▌        | 25649/166693 [00:13<01:12, 1941.50it/s]\u001b[A\n",
            " 16%|█▌        | 25856/166693 [00:13<01:11, 1977.59it/s]\u001b[A\n",
            " 16%|█▌        | 26055/166693 [00:13<01:13, 1910.68it/s]\u001b[A\n",
            " 16%|█▌        | 26248/166693 [00:13<01:16, 1827.06it/s]\u001b[A\n",
            " 16%|█▌        | 26439/166693 [00:13<01:15, 1850.68it/s]\u001b[A\n",
            " 16%|█▌        | 26626/166693 [00:13<01:15, 1853.13it/s]\u001b[A\n",
            " 16%|█▌        | 26813/166693 [00:13<01:16, 1838.58it/s]\u001b[A\n",
            " 16%|█▌        | 27014/166693 [00:13<01:14, 1886.45it/s]\u001b[A\n",
            " 16%|█▋        | 27213/166693 [00:13<01:12, 1915.82it/s]\u001b[A\n",
            " 16%|█▋        | 27406/166693 [00:14<01:13, 1884.04it/s]\u001b[A\n",
            " 17%|█▋        | 27611/166693 [00:14<01:12, 1930.51it/s]\u001b[A\n",
            " 17%|█▋        | 27805/166693 [00:14<01:12, 1912.02it/s]\u001b[A\n",
            " 17%|█▋        | 28004/166693 [00:14<01:11, 1931.70it/s]\u001b[A\n",
            " 17%|█▋        | 28198/166693 [00:14<01:13, 1890.33it/s]\u001b[A\n",
            " 17%|█▋        | 28390/166693 [00:14<01:12, 1897.55it/s]\u001b[A\n",
            " 17%|█▋        | 28581/166693 [00:14<01:13, 1878.05it/s]\u001b[A\n",
            " 17%|█▋        | 28794/166693 [00:14<01:10, 1947.05it/s]\u001b[A\n",
            " 17%|█▋        | 29001/166693 [00:14<01:09, 1981.49it/s]\u001b[A\n",
            " 18%|█▊        | 29217/166693 [00:14<01:07, 2029.34it/s]\u001b[A\n",
            " 18%|█▊        | 29421/166693 [00:15<01:09, 1986.80it/s]\u001b[A\n",
            " 18%|█▊        | 29621/166693 [00:15<01:09, 1970.76it/s]\u001b[A\n",
            " 18%|█▊        | 29819/166693 [00:15<01:10, 1947.87it/s]\u001b[A\n",
            " 18%|█▊        | 30015/166693 [00:15<01:12, 1898.20it/s]\u001b[A\n",
            " 18%|█▊        | 30206/166693 [00:15<01:12, 1882.21it/s]\u001b[A\n",
            " 18%|█▊        | 30414/166693 [00:15<01:10, 1936.14it/s]\u001b[A\n",
            " 18%|█▊        | 30613/166693 [00:15<01:09, 1950.06it/s]\u001b[A\n",
            " 18%|█▊        | 30809/166693 [00:15<01:12, 1867.27it/s]\u001b[A\n",
            " 19%|█▊        | 30997/166693 [00:15<01:13, 1856.52it/s]\u001b[A\n",
            " 19%|█▊        | 31185/166693 [00:15<01:12, 1861.68it/s]\u001b[A\n",
            " 19%|█▉        | 31393/166693 [00:16<01:10, 1920.50it/s]\u001b[A\n",
            " 19%|█▉        | 31586/166693 [00:16<01:11, 1902.02it/s]\u001b[A\n",
            " 19%|█▉        | 31796/166693 [00:16<01:08, 1957.07it/s]\u001b[A\n",
            " 19%|█▉        | 31995/166693 [00:16<01:08, 1965.88it/s]\u001b[A\n",
            " 19%|█▉        | 32193/166693 [00:16<01:09, 1923.87it/s]\u001b[A\n",
            " 19%|█▉        | 32387/166693 [00:16<01:10, 1918.14it/s]\u001b[A\n",
            " 20%|█▉        | 32582/166693 [00:16<01:09, 1927.10it/s]\u001b[A\n",
            " 20%|█▉        | 32776/166693 [00:16<01:11, 1878.51it/s]\u001b[A\n",
            " 20%|█▉        | 32990/166693 [00:16<01:08, 1949.22it/s]\u001b[A\n",
            " 20%|█▉        | 33186/166693 [00:17<01:08, 1943.79it/s]\u001b[A\n",
            " 20%|██        | 33382/166693 [00:17<01:09, 1928.58it/s]\u001b[A\n",
            " 20%|██        | 33578/166693 [00:17<01:08, 1937.74it/s]\u001b[A\n",
            " 20%|██        | 33777/166693 [00:17<01:08, 1952.87it/s]\u001b[A\n",
            " 20%|██        | 33983/166693 [00:17<01:07, 1980.41it/s]\u001b[A\n",
            " 21%|██        | 34182/166693 [00:17<01:07, 1960.40it/s]\u001b[A\n",
            " 21%|██        | 34386/166693 [00:17<01:06, 1982.08it/s]\u001b[A\n",
            " 21%|██        | 34585/166693 [00:17<01:06, 1980.93it/s]\u001b[A\n",
            " 21%|██        | 34784/166693 [00:17<01:07, 1948.01it/s]\u001b[A\n",
            " 21%|██        | 34980/166693 [00:17<01:08, 1932.24it/s]\u001b[A\n",
            " 21%|██        | 35174/166693 [00:18<01:08, 1926.44it/s]\u001b[A\n",
            " 21%|██        | 35370/166693 [00:18<01:07, 1936.10it/s]\u001b[A\n",
            " 21%|██▏       | 35574/166693 [00:18<01:06, 1964.02it/s]\u001b[A\n",
            " 21%|██▏       | 35771/166693 [00:18<01:10, 1848.68it/s]\u001b[A\n",
            " 22%|██▏       | 35958/166693 [00:18<01:10, 1851.82it/s]\u001b[A\n",
            " 22%|██▏       | 36158/166693 [00:18<01:08, 1893.39it/s]\u001b[A\n",
            " 22%|██▏       | 36349/166693 [00:18<01:09, 1871.87it/s]\u001b[A\n",
            " 22%|██▏       | 36547/166693 [00:18<01:08, 1900.73it/s]\u001b[A\n",
            " 22%|██▏       | 36738/166693 [00:18<01:09, 1867.74it/s]\u001b[A\n",
            " 22%|██▏       | 36940/166693 [00:18<01:07, 1909.51it/s]\u001b[A\n",
            " 22%|██▏       | 37142/166693 [00:19<01:06, 1940.76it/s]\u001b[A\n",
            " 22%|██▏       | 37337/166693 [00:19<01:06, 1943.22it/s]\u001b[A\n",
            " 23%|██▎       | 37548/166693 [00:19<01:04, 1989.21it/s]\u001b[A\n",
            " 23%|██▎       | 37751/166693 [00:19<01:04, 2001.06it/s]\u001b[A\n",
            " 23%|██▎       | 37952/166693 [00:19<01:05, 1950.73it/s]\u001b[A\n",
            " 23%|██▎       | 38148/166693 [00:19<01:06, 1941.59it/s]\u001b[A\n",
            " 23%|██▎       | 38359/166693 [00:19<01:04, 1986.76it/s]\u001b[A\n",
            " 23%|██▎       | 38559/166693 [00:19<01:04, 1973.71it/s]\u001b[A\n",
            " 23%|██▎       | 38760/166693 [00:19<01:04, 1982.86it/s]\u001b[A\n",
            " 23%|██▎       | 38959/166693 [00:19<01:06, 1930.48it/s]\u001b[A\n",
            " 23%|██▎       | 39153/166693 [00:20<01:07, 1897.85it/s]\u001b[A\n",
            " 24%|██▎       | 39360/166693 [00:20<01:05, 1945.82it/s]\u001b[A\n",
            " 24%|██▎       | 39569/166693 [00:20<01:04, 1985.38it/s]\u001b[A\n",
            " 24%|██▍       | 39769/166693 [00:20<01:04, 1967.41it/s]\u001b[A\n",
            " 24%|██▍       | 39967/166693 [00:20<01:05, 1920.20it/s]\u001b[A\n",
            " 24%|██▍       | 40168/166693 [00:20<01:05, 1944.59it/s]\u001b[A\n",
            " 24%|██▍       | 40369/166693 [00:20<01:04, 1963.06it/s]\u001b[A\n",
            " 24%|██▍       | 40566/166693 [00:20<01:06, 1883.36it/s]\u001b[A\n",
            " 24%|██▍       | 40762/166693 [00:20<01:06, 1902.94it/s]\u001b[A\n",
            " 25%|██▍       | 40954/166693 [00:21<01:08, 1839.06it/s]\u001b[A\n",
            " 25%|██▍       | 41141/166693 [00:21<01:07, 1848.20it/s]\u001b[A\n",
            " 25%|██▍       | 41339/166693 [00:21<01:06, 1885.74it/s]\u001b[A\n",
            " 25%|██▍       | 41529/166693 [00:21<01:06, 1875.17it/s]\u001b[A\n",
            " 25%|██▌       | 41738/166693 [00:21<01:04, 1934.43it/s]\u001b[A\n",
            " 25%|██▌       | 41933/166693 [00:21<01:05, 1908.23it/s]\u001b[A\n",
            " 25%|██▌       | 42136/166693 [00:21<01:04, 1940.69it/s]\u001b[A\n",
            " 25%|██▌       | 42331/166693 [00:21<01:06, 1858.61it/s]\u001b[A\n",
            " 26%|██▌       | 42524/166693 [00:21<01:06, 1877.98it/s]\u001b[A\n",
            " 26%|██▌       | 42713/166693 [00:21<01:07, 1839.44it/s]\u001b[A\n",
            " 26%|██▌       | 42898/166693 [00:22<01:07, 1825.12it/s]\u001b[A\n",
            " 26%|██▌       | 43101/166693 [00:22<01:05, 1881.31it/s]\u001b[A\n",
            " 26%|██▌       | 43295/166693 [00:22<01:05, 1897.21it/s]\u001b[A\n",
            " 26%|██▌       | 43503/166693 [00:22<01:03, 1946.65it/s]\u001b[A\n",
            " 26%|██▌       | 43711/166693 [00:22<01:01, 1984.27it/s]\u001b[A\n",
            " 26%|██▋       | 43911/166693 [00:22<01:03, 1930.39it/s]\u001b[A\n",
            " 26%|██▋       | 44110/166693 [00:22<01:02, 1946.50it/s]\u001b[A\n",
            " 27%|██▋       | 44308/166693 [00:22<01:02, 1956.21it/s]\u001b[A\n",
            " 27%|██▋       | 44505/166693 [00:22<01:05, 1862.98it/s]\u001b[A\n",
            " 27%|██▋       | 44693/166693 [00:23<01:05, 1854.71it/s]\u001b[A\n",
            " 27%|██▋       | 44880/166693 [00:23<01:06, 1837.23it/s]\u001b[A\n",
            " 27%|██▋       | 45074/166693 [00:23<01:05, 1865.95it/s]\u001b[A\n",
            " 27%|██▋       | 45269/166693 [00:23<01:04, 1889.52it/s]\u001b[A\n",
            " 27%|██▋       | 45488/166693 [00:23<01:01, 1970.03it/s]\u001b[A\n",
            " 27%|██▋       | 45687/166693 [00:23<01:03, 1903.68it/s]\u001b[A\n",
            " 28%|██▊       | 45891/166693 [00:23<01:02, 1941.94it/s]\u001b[A\n",
            " 28%|██▊       | 46087/166693 [00:23<01:02, 1939.70it/s]\u001b[A\n",
            " 28%|██▊       | 46282/166693 [00:23<01:03, 1885.11it/s]\u001b[A\n",
            " 28%|██▊       | 46485/166693 [00:23<01:02, 1923.90it/s]\u001b[A\n",
            " 28%|██▊       | 46679/166693 [00:24<01:03, 1881.08it/s]\u001b[A\n",
            " 28%|██▊       | 46880/166693 [00:24<01:02, 1915.71it/s]\u001b[A\n",
            " 28%|██▊       | 47093/166693 [00:24<01:00, 1974.54it/s]\u001b[A\n",
            " 28%|██▊       | 47292/166693 [00:24<01:01, 1954.61it/s]\u001b[A\n",
            " 28%|██▊       | 47489/166693 [00:24<01:01, 1931.19it/s]\u001b[A\n",
            " 29%|██▊       | 47683/166693 [00:24<01:02, 1891.73it/s]\u001b[A\n",
            " 29%|██▊       | 47873/166693 [00:24<01:04, 1847.78it/s]\u001b[A\n",
            " 29%|██▉       | 48059/166693 [00:24<01:04, 1850.83it/s]\u001b[A\n",
            " 29%|██▉       | 48245/166693 [00:24<01:03, 1853.39it/s]\u001b[A\n",
            " 29%|██▉       | 48440/166693 [00:24<01:02, 1880.77it/s]\u001b[A\n",
            " 29%|██▉       | 48634/166693 [00:25<01:02, 1898.00it/s]\u001b[A\n",
            " 29%|██▉       | 48849/166693 [00:25<00:59, 1966.15it/s]\u001b[A\n",
            " 29%|██▉       | 49047/166693 [00:25<01:00, 1957.06it/s]\u001b[A\n",
            " 30%|██▉       | 49257/166693 [00:25<00:58, 1996.26it/s]\u001b[A\n",
            " 30%|██▉       | 49458/166693 [00:25<01:00, 1933.62it/s]\u001b[A\n",
            " 30%|██▉       | 49653/166693 [00:25<01:02, 1871.33it/s]\u001b[A\n",
            " 30%|██▉       | 49846/166693 [00:25<01:01, 1886.85it/s]\u001b[A\n",
            " 30%|███       | 50036/166693 [00:25<01:03, 1839.33it/s]\u001b[A\n",
            " 30%|███       | 50221/166693 [00:25<01:03, 1830.30it/s]\u001b[A\n",
            " 30%|███       | 50414/166693 [00:26<01:02, 1858.18it/s]\u001b[A\n",
            " 30%|███       | 50610/166693 [00:26<01:01, 1886.96it/s]\u001b[A\n",
            " 30%|███       | 50821/166693 [00:26<00:59, 1948.62it/s]\u001b[A\n",
            " 31%|███       | 51037/166693 [00:26<00:57, 2007.00it/s]\u001b[A\n",
            " 31%|███       | 51239/166693 [00:26<00:59, 1928.02it/s]\u001b[A\n",
            " 31%|███       | 51444/166693 [00:26<00:58, 1963.02it/s]\u001b[A\n",
            " 31%|███       | 51642/166693 [00:26<01:00, 1917.38it/s]\u001b[A\n",
            " 31%|███       | 51843/166693 [00:26<00:59, 1943.65it/s]\u001b[A\n",
            " 31%|███       | 52039/166693 [00:26<00:59, 1919.54it/s]\u001b[A\n",
            " 31%|███▏      | 52233/166693 [00:26<00:59, 1924.79it/s]\u001b[A\n",
            " 31%|███▏      | 52437/166693 [00:27<00:58, 1957.32it/s]\u001b[A\n",
            " 32%|███▏      | 52634/166693 [00:27<01:00, 1884.79it/s]\u001b[A\n",
            " 32%|███▏      | 52845/166693 [00:27<00:58, 1945.11it/s]\u001b[A\n",
            " 32%|███▏      | 53046/166693 [00:27<00:57, 1963.94it/s]\u001b[A\n",
            " 32%|███▏      | 53264/166693 [00:27<00:56, 2022.89it/s]\u001b[A\n",
            " 32%|███▏      | 53477/166693 [00:27<00:55, 2053.69it/s]\u001b[A\n",
            " 32%|███▏      | 53684/166693 [00:27<00:56, 2001.12it/s]\u001b[A\n",
            " 32%|███▏      | 53900/166693 [00:27<00:55, 2044.69it/s]\u001b[A\n",
            " 32%|███▏      | 54106/166693 [00:27<00:56, 1989.23it/s]\u001b[A\n",
            " 33%|███▎      | 54310/166693 [00:27<00:56, 2003.55it/s]\u001b[A\n",
            " 33%|███▎      | 54512/166693 [00:28<00:57, 1935.40it/s]\u001b[A\n",
            " 33%|███▎      | 54714/166693 [00:28<00:57, 1955.62it/s]\u001b[A\n",
            " 33%|███▎      | 54922/166693 [00:28<00:56, 1988.40it/s]\u001b[A\n",
            " 33%|███▎      | 55124/166693 [00:28<00:55, 1994.78it/s]\u001b[A\n",
            " 33%|███▎      | 55344/166693 [00:28<00:54, 2051.14it/s]\u001b[A\n",
            " 33%|███▎      | 55550/166693 [00:28<00:57, 1934.24it/s]\u001b[A\n",
            " 33%|███▎      | 55761/166693 [00:28<00:55, 1981.36it/s]\u001b[A\n",
            " 34%|███▎      | 55964/166693 [00:28<00:55, 1994.36it/s]\u001b[A\n",
            " 34%|███▎      | 56165/166693 [00:28<00:55, 1978.26it/s]\u001b[A\n",
            " 34%|███▍      | 56367/166693 [00:29<00:55, 1989.67it/s]\u001b[A\n",
            " 34%|███▍      | 56567/166693 [00:29<00:55, 1981.62it/s]\u001b[A\n",
            " 34%|███▍      | 56766/166693 [00:29<00:55, 1966.29it/s]\u001b[A\n",
            " 34%|███▍      | 56963/166693 [00:29<00:56, 1952.75it/s]\u001b[A\n",
            " 34%|███▍      | 57159/166693 [00:29<00:57, 1917.38it/s]\u001b[A\n",
            " 34%|███▍      | 57364/166693 [00:29<00:56, 1951.25it/s]\u001b[A\n",
            " 35%|███▍      | 57560/166693 [00:29<00:58, 1865.37it/s]\u001b[A\n",
            " 35%|███▍      | 57754/166693 [00:29<00:57, 1886.09it/s]\u001b[A\n",
            " 35%|███▍      | 57955/166693 [00:29<00:56, 1921.60it/s]\u001b[A\n",
            " 35%|███▍      | 58158/166693 [00:29<00:55, 1951.01it/s]\u001b[A\n",
            " 35%|███▌      | 58354/166693 [00:30<00:57, 1894.31it/s]\u001b[A\n",
            " 35%|███▌      | 58545/166693 [00:30<00:57, 1888.80it/s]\u001b[A\n",
            " 35%|███▌      | 58751/166693 [00:30<00:55, 1936.05it/s]\u001b[A\n",
            " 35%|███▌      | 58946/166693 [00:30<00:55, 1933.25it/s]\u001b[A\n",
            " 35%|███▌      | 59152/166693 [00:30<00:54, 1966.66it/s]\u001b[A\n",
            " 36%|███▌      | 59351/166693 [00:30<00:54, 1973.50it/s]\u001b[A\n",
            " 36%|███▌      | 59549/166693 [00:30<00:56, 1880.62it/s]\u001b[A\n",
            " 36%|███▌      | 59739/166693 [00:30<00:57, 1852.61it/s]\u001b[A\n",
            " 36%|███▌      | 59932/166693 [00:30<00:56, 1874.43it/s]\u001b[A\n",
            " 36%|███▌      | 60137/166693 [00:30<00:55, 1921.84it/s]\u001b[A\n",
            " 36%|███▌      | 60331/166693 [00:31<00:55, 1926.20it/s]\u001b[A\n",
            " 36%|███▋      | 60529/166693 [00:31<00:54, 1939.42it/s]\u001b[A\n",
            " 36%|███▋      | 60736/166693 [00:31<00:53, 1974.40it/s]\u001b[A\n",
            " 37%|███▋      | 60934/166693 [00:31<00:55, 1908.30it/s]\u001b[A\n",
            " 37%|███▋      | 61126/166693 [00:31<00:56, 1876.57it/s]\u001b[A\n",
            " 37%|███▋      | 61325/166693 [00:31<00:55, 1907.39it/s]\u001b[A\n",
            " 37%|███▋      | 61517/166693 [00:31<00:56, 1856.21it/s]\u001b[A\n",
            " 37%|███▋      | 61705/166693 [00:31<00:56, 1862.87it/s]\u001b[A\n",
            " 37%|███▋      | 61892/166693 [00:31<00:57, 1823.03it/s]\u001b[A\n",
            " 37%|███▋      | 62075/166693 [00:32<00:58, 1782.84it/s]\u001b[A\n",
            " 37%|███▋      | 62256/166693 [00:32<00:58, 1789.98it/s]\u001b[A\n",
            " 37%|███▋      | 62436/166693 [00:32<01:00, 1728.16it/s]\u001b[A\n",
            " 38%|███▊      | 62614/166693 [00:32<00:59, 1743.21it/s]\u001b[A\n",
            " 38%|███▊      | 62808/166693 [00:32<00:57, 1797.92it/s]\u001b[A\n",
            " 38%|███▊      | 63002/166693 [00:32<00:56, 1836.98it/s]\u001b[A\n",
            " 38%|███▊      | 63187/166693 [00:32<00:56, 1823.41it/s]\u001b[A\n",
            " 38%|███▊      | 63370/166693 [00:32<00:56, 1820.51it/s]\u001b[A\n",
            " 38%|███▊      | 63553/166693 [00:32<00:56, 1823.35it/s]\u001b[A\n",
            " 38%|███▊      | 63758/166693 [00:32<00:54, 1884.16it/s]\u001b[A\n",
            " 38%|███▊      | 63949/166693 [00:33<00:54, 1890.25it/s]\u001b[A\n",
            " 38%|███▊      | 64149/166693 [00:33<00:53, 1921.32it/s]\u001b[A\n",
            " 39%|███▊      | 64342/166693 [00:33<00:53, 1904.96it/s]\u001b[A\n",
            " 39%|███▊      | 64533/166693 [00:33<00:53, 1905.32it/s]\u001b[A\n",
            " 39%|███▉      | 64746/166693 [00:33<00:51, 1967.40it/s]\u001b[A\n",
            " 39%|███▉      | 64948/166693 [00:33<00:51, 1980.19it/s]\u001b[A\n",
            " 39%|███▉      | 65147/166693 [00:33<00:52, 1938.60it/s]\u001b[A\n",
            " 39%|███▉      | 65342/166693 [00:33<00:55, 1814.34it/s]\u001b[A\n",
            " 39%|███▉      | 65528/166693 [00:33<00:55, 1825.10it/s]\u001b[A\n",
            " 39%|███▉      | 65723/166693 [00:33<00:54, 1860.60it/s]\u001b[A\n",
            " 40%|███▉      | 65916/166693 [00:34<00:53, 1878.63it/s]\u001b[A\n",
            " 40%|███▉      | 66117/166693 [00:34<00:52, 1916.12it/s]\u001b[A\n",
            " 40%|███▉      | 66330/166693 [00:34<00:50, 1974.90it/s]\u001b[A\n",
            " 40%|███▉      | 66529/166693 [00:34<00:52, 1913.76it/s]\u001b[A\n",
            " 40%|████      | 66744/166693 [00:34<00:50, 1978.17it/s]\u001b[A\n",
            " 40%|████      | 66946/166693 [00:34<00:50, 1988.27it/s]\u001b[A\n",
            " 40%|████      | 67146/166693 [00:34<00:50, 1965.99it/s]\u001b[A\n",
            " 40%|████      | 67344/166693 [00:34<00:50, 1954.85it/s]\u001b[A\n",
            " 41%|████      | 67541/166693 [00:34<00:50, 1955.03it/s]\u001b[A\n",
            " 41%|████      | 67737/166693 [00:35<00:51, 1906.42it/s]\u001b[A\n",
            " 41%|████      | 67929/166693 [00:35<00:53, 1854.41it/s]\u001b[A\n",
            " 41%|████      | 68136/166693 [00:35<00:51, 1912.78it/s]\u001b[A\n",
            " 41%|████      | 68333/166693 [00:35<00:51, 1928.05it/s]\u001b[A\n",
            " 41%|████      | 68538/166693 [00:35<00:50, 1962.92it/s]\u001b[A\n",
            " 41%|████      | 68735/166693 [00:35<00:50, 1937.90it/s]\u001b[A\n",
            " 41%|████▏     | 68930/166693 [00:35<00:51, 1913.22it/s]\u001b[A\n",
            " 41%|████▏     | 69122/166693 [00:35<00:54, 1798.01it/s]\u001b[A\n",
            " 42%|████▏     | 69304/166693 [00:36<02:30, 645.72it/s] \u001b[A\n",
            " 42%|████▏     | 69504/166693 [00:36<01:59, 810.24it/s]\u001b[A\n",
            " 42%|████▏     | 69675/166693 [00:36<01:40, 961.74it/s]\u001b[A\n",
            " 42%|████▏     | 69841/166693 [00:36<01:28, 1099.68it/s]\u001b[A\n",
            " 42%|████▏     | 70043/166693 [00:36<01:15, 1273.04it/s]\u001b[A\n",
            " 42%|████▏     | 70258/166693 [00:36<01:06, 1450.06it/s]\u001b[A\n",
            " 42%|████▏     | 70466/166693 [00:37<01:00, 1593.27it/s]\u001b[A\n",
            " 42%|████▏     | 70659/166693 [00:37<00:57, 1667.59it/s]\u001b[A\n",
            " 43%|████▎     | 70861/166693 [00:37<00:54, 1758.84it/s]\u001b[A\n",
            " 43%|████▎     | 71055/166693 [00:37<00:53, 1773.38it/s]\u001b[A\n",
            " 43%|████▎     | 71245/166693 [00:37<00:53, 1800.46it/s]\u001b[A\n",
            " 43%|████▎     | 71445/166693 [00:37<00:51, 1854.83it/s]\u001b[A\n",
            " 43%|████▎     | 71655/166693 [00:37<00:49, 1920.30it/s]\u001b[A\n",
            " 43%|████▎     | 71853/166693 [00:37<00:51, 1858.79it/s]\u001b[A\n",
            " 43%|████▎     | 72043/166693 [00:37<00:51, 1848.70it/s]\u001b[A\n",
            " 43%|████▎     | 72233/166693 [00:37<00:50, 1861.60it/s]\u001b[A\n",
            " 43%|████▎     | 72422/166693 [00:38<00:51, 1848.05it/s]\u001b[A\n",
            " 44%|████▎     | 72616/166693 [00:38<00:50, 1874.35it/s]\u001b[A\n",
            " 44%|████▎     | 72806/166693 [00:38<00:49, 1881.91it/s]\u001b[A\n",
            " 44%|████▍     | 72995/166693 [00:38<00:50, 1845.82it/s]\u001b[A\n",
            " 44%|████▍     | 73188/166693 [00:38<00:50, 1869.32it/s]\u001b[A\n",
            " 44%|████▍     | 73376/166693 [00:38<00:51, 1823.19it/s]\u001b[A\n",
            " 44%|████▍     | 73584/166693 [00:38<00:49, 1891.08it/s]\u001b[A\n",
            " 44%|████▍     | 73775/166693 [00:38<00:49, 1875.58it/s]\u001b[A\n",
            " 44%|████▍     | 73964/166693 [00:38<00:50, 1834.82it/s]\u001b[A\n",
            " 44%|████▍     | 74159/166693 [00:39<00:49, 1866.53it/s]\u001b[A\n",
            " 45%|████▍     | 74359/166693 [00:39<00:48, 1903.80it/s]\u001b[A\n",
            " 45%|████▍     | 74562/166693 [00:39<00:47, 1939.21it/s]\u001b[A\n",
            " 45%|████▍     | 74769/166693 [00:39<00:46, 1974.81it/s]\u001b[A\n",
            " 45%|████▍     | 74968/166693 [00:39<00:47, 1915.09it/s]\u001b[A\n",
            " 45%|████▌     | 75177/166693 [00:39<00:46, 1961.82it/s]\u001b[A\n",
            " 45%|████▌     | 75375/166693 [00:39<00:46, 1946.00it/s]\u001b[A\n",
            " 45%|████▌     | 75587/166693 [00:39<00:45, 1994.94it/s]\u001b[A\n",
            " 45%|████▌     | 75788/166693 [00:39<00:45, 1980.69it/s]\u001b[A\n",
            " 46%|████▌     | 75987/166693 [00:39<00:46, 1946.57it/s]\u001b[A\n",
            " 46%|████▌     | 76190/166693 [00:40<00:45, 1970.03it/s]\u001b[A\n",
            " 46%|████▌     | 76399/166693 [00:40<00:45, 2002.64it/s]\u001b[A\n",
            " 46%|████▌     | 76600/166693 [00:40<00:45, 2000.65it/s]\u001b[A\n",
            " 46%|████▌     | 76801/166693 [00:40<00:45, 1979.94it/s]\u001b[A\n",
            " 46%|████▌     | 77000/166693 [00:40<00:46, 1935.91it/s]\u001b[A\n",
            " 46%|████▋     | 77205/166693 [00:40<00:45, 1966.47it/s]\u001b[A\n",
            " 46%|████▋     | 77403/166693 [00:40<00:45, 1970.19it/s]\u001b[A\n",
            " 47%|████▋     | 77602/166693 [00:40<00:45, 1974.03it/s]\u001b[A\n",
            " 47%|████▋     | 77800/166693 [00:40<00:47, 1868.48it/s]\u001b[A\n",
            " 47%|████▋     | 77989/166693 [00:40<00:48, 1842.58it/s]\u001b[A\n",
            " 47%|████▋     | 78180/166693 [00:41<00:47, 1860.78it/s]\u001b[A\n",
            " 47%|████▋     | 78400/166693 [00:41<00:45, 1949.20it/s]\u001b[A\n",
            " 47%|████▋     | 78602/166693 [00:41<00:44, 1968.52it/s]\u001b[A\n",
            " 47%|████▋     | 78801/166693 [00:41<00:44, 1971.63it/s]\u001b[A\n",
            " 47%|████▋     | 78999/166693 [00:41<00:45, 1932.95it/s]\u001b[A\n",
            " 48%|████▊     | 79198/166693 [00:41<00:44, 1947.54it/s]\u001b[A\n",
            " 48%|████▊     | 79401/166693 [00:41<00:44, 1970.51it/s]\u001b[A\n",
            " 48%|████▊     | 79599/166693 [00:41<00:47, 1850.98it/s]\u001b[A\n",
            " 48%|████▊     | 79786/166693 [00:41<00:46, 1855.94it/s]\u001b[A\n",
            " 48%|████▊     | 79973/166693 [00:42<00:46, 1856.74it/s]\u001b[A\n",
            " 48%|████▊     | 80161/166693 [00:42<00:46, 1863.36it/s]\u001b[A\n",
            " 48%|████▊     | 80354/166693 [00:42<00:45, 1881.58it/s]\u001b[A\n",
            " 48%|████▊     | 80562/166693 [00:42<00:44, 1934.71it/s]\u001b[A\n",
            " 48%|████▊     | 80763/166693 [00:42<00:43, 1955.60it/s]\u001b[A\n",
            " 49%|████▊     | 80960/166693 [00:42<00:44, 1937.57it/s]\u001b[A\n",
            " 49%|████▊     | 81155/166693 [00:42<00:44, 1910.16it/s]\u001b[A\n",
            " 49%|████▉     | 81365/166693 [00:42<00:43, 1959.66it/s]\u001b[A\n",
            " 49%|████▉     | 81562/166693 [00:42<00:45, 1855.52it/s]\u001b[A\n",
            " 49%|████▉     | 81750/166693 [00:42<00:47, 1804.74it/s]\u001b[A\n",
            " 49%|████▉     | 81946/166693 [00:43<00:45, 1847.08it/s]\u001b[A\n",
            " 49%|████▉     | 82132/166693 [00:43<00:45, 1850.37it/s]\u001b[A\n",
            " 49%|████▉     | 82330/166693 [00:43<00:44, 1886.53it/s]\u001b[A\n",
            " 50%|████▉     | 82528/166693 [00:43<00:43, 1913.07it/s]\u001b[A\n",
            " 50%|████▉     | 82720/166693 [00:43<00:44, 1900.56it/s]\u001b[A\n",
            " 50%|████▉     | 82911/166693 [00:43<00:44, 1898.70it/s]\u001b[A\n",
            " 50%|████▉     | 83110/166693 [00:43<00:43, 1924.10it/s]\u001b[A\n",
            " 50%|████▉     | 83307/166693 [00:43<00:43, 1936.29it/s]\u001b[A\n",
            " 50%|█████     | 83501/166693 [00:43<00:43, 1896.52it/s]\u001b[A\n",
            " 50%|█████     | 83691/166693 [00:43<00:44, 1874.66it/s]\u001b[A\n",
            " 50%|█████     | 83880/166693 [00:44<00:44, 1877.14it/s]\u001b[A\n",
            " 50%|█████     | 84083/166693 [00:44<00:43, 1920.00it/s]\u001b[A\n",
            " 51%|█████     | 84280/166693 [00:44<00:42, 1933.75it/s]\u001b[A\n",
            " 51%|█████     | 84474/166693 [00:44<00:42, 1914.85it/s]\u001b[A\n",
            " 51%|█████     | 84666/166693 [00:44<00:42, 1907.61it/s]\u001b[A\n",
            " 51%|█████     | 84857/166693 [00:44<00:43, 1896.27it/s]\u001b[A\n",
            " 51%|█████     | 85050/166693 [00:44<00:42, 1903.62it/s]\u001b[A\n",
            " 51%|█████     | 85241/166693 [00:44<00:43, 1884.69it/s]\u001b[A\n",
            " 51%|█████     | 85430/166693 [00:44<00:43, 1878.75it/s]\u001b[A\n",
            " 51%|█████▏    | 85621/166693 [00:44<00:42, 1886.08it/s]\u001b[A\n",
            " 51%|█████▏    | 85818/166693 [00:45<00:42, 1908.39it/s]\u001b[A\n",
            " 52%|█████▏    | 86015/166693 [00:45<00:41, 1926.16it/s]\u001b[A\n",
            " 52%|█████▏    | 86208/166693 [00:45<00:42, 1901.57it/s]\u001b[A\n",
            " 52%|█████▏    | 86406/166693 [00:45<00:41, 1921.77it/s]\u001b[A\n",
            " 52%|█████▏    | 86605/166693 [00:45<00:41, 1941.36it/s]\u001b[A\n",
            " 52%|█████▏    | 86803/166693 [00:45<00:40, 1952.40it/s]\u001b[A\n",
            " 52%|█████▏    | 86999/166693 [00:45<00:43, 1849.17it/s]\u001b[A\n",
            " 52%|█████▏    | 87208/166693 [00:45<00:41, 1913.59it/s]\u001b[A\n",
            " 52%|█████▏    | 87401/166693 [00:45<00:42, 1871.89it/s]\u001b[A\n",
            " 53%|█████▎    | 87606/166693 [00:46<00:41, 1921.68it/s]\u001b[A\n",
            " 53%|█████▎    | 87817/166693 [00:46<00:39, 1972.92it/s]\u001b[A\n",
            " 53%|█████▎    | 88016/166693 [00:46<00:40, 1920.99it/s]\u001b[A\n",
            " 53%|█████▎    | 88210/166693 [00:46<00:41, 1903.33it/s]\u001b[A\n",
            " 53%|█████▎    | 88402/166693 [00:46<00:41, 1897.50it/s]\u001b[A\n",
            " 53%|█████▎    | 88597/166693 [00:46<00:40, 1912.06it/s]\u001b[A\n",
            " 53%|█████▎    | 88789/166693 [00:46<00:41, 1878.09it/s]\u001b[A\n",
            " 53%|█████▎    | 88987/166693 [00:46<00:40, 1904.48it/s]\u001b[A\n",
            " 54%|█████▎    | 89183/166693 [00:46<00:40, 1920.45it/s]\u001b[A\n",
            " 54%|█████▎    | 89376/166693 [00:46<00:40, 1904.73it/s]\u001b[A\n",
            " 54%|█████▎    | 89567/166693 [00:47<00:41, 1868.47it/s]\u001b[A\n",
            " 54%|█████▍    | 89759/166693 [00:47<00:40, 1882.84it/s]\u001b[A\n",
            " 54%|█████▍    | 89948/166693 [00:47<00:41, 1865.88it/s]\u001b[A\n",
            " 54%|█████▍    | 90136/166693 [00:47<00:40, 1868.71it/s]\u001b[A\n",
            " 54%|█████▍    | 90324/166693 [00:47<00:42, 1811.67it/s]\u001b[A\n",
            " 54%|█████▍    | 90510/166693 [00:47<00:41, 1825.29it/s]\u001b[A\n",
            " 54%|█████▍    | 90706/166693 [00:47<00:40, 1862.32it/s]\u001b[A\n",
            " 55%|█████▍    | 90905/166693 [00:47<00:39, 1897.05it/s]\u001b[A\n",
            " 55%|█████▍    | 91096/166693 [00:47<00:40, 1862.95it/s]\u001b[A\n",
            " 55%|█████▍    | 91283/166693 [00:47<00:40, 1863.39it/s]\u001b[A\n",
            " 55%|█████▍    | 91482/166693 [00:48<00:39, 1897.99it/s]\u001b[A\n",
            " 55%|█████▌    | 91683/166693 [00:48<00:38, 1929.65it/s]\u001b[A\n",
            " 55%|█████▌    | 91877/166693 [00:48<00:41, 1823.58it/s]\u001b[A\n",
            " 55%|█████▌    | 92086/166693 [00:48<00:39, 1894.44it/s]\u001b[A\n",
            " 55%|█████▌    | 92278/166693 [00:48<00:39, 1873.06it/s]\u001b[A\n",
            " 55%|█████▌    | 92482/166693 [00:48<00:38, 1919.30it/s]\u001b[A\n",
            " 56%|█████▌    | 92676/166693 [00:48<00:39, 1858.07it/s]\u001b[A\n",
            " 56%|█████▌    | 92868/166693 [00:48<00:39, 1873.59it/s]\u001b[A\n",
            " 56%|█████▌    | 93057/166693 [00:48<00:40, 1825.92it/s]\u001b[A\n",
            " 56%|█████▌    | 93256/166693 [00:49<00:39, 1871.10it/s]\u001b[A\n",
            " 56%|█████▌    | 93450/166693 [00:49<00:38, 1891.13it/s]\u001b[A\n",
            " 56%|█████▌    | 93640/166693 [00:49<00:39, 1848.72it/s]\u001b[A\n",
            " 56%|█████▋    | 93836/166693 [00:49<00:38, 1879.74it/s]\u001b[A\n",
            " 56%|█████▋    | 94041/166693 [00:49<00:37, 1926.87it/s]\u001b[A\n",
            " 57%|█████▋    | 94244/166693 [00:49<00:37, 1954.65it/s]\u001b[A\n",
            " 57%|█████▋    | 94441/166693 [00:49<00:38, 1879.21it/s]\u001b[A\n",
            " 57%|█████▋    | 94638/166693 [00:49<00:37, 1904.46it/s]\u001b[A\n",
            " 57%|█████▋    | 94830/166693 [00:49<00:38, 1890.94it/s]\u001b[A\n",
            " 57%|█████▋    | 95020/166693 [00:49<00:38, 1852.28it/s]\u001b[A\n",
            " 57%|█████▋    | 95206/166693 [00:50<00:39, 1822.51it/s]\u001b[A\n",
            " 57%|█████▋    | 95399/166693 [00:50<00:38, 1851.59it/s]\u001b[A\n",
            " 57%|█████▋    | 95585/166693 [00:50<00:39, 1814.09it/s]\u001b[A\n",
            " 57%|█████▋    | 95782/166693 [00:50<00:38, 1856.94it/s]\u001b[A\n",
            " 58%|█████▊    | 95969/166693 [00:50<00:38, 1833.42it/s]\u001b[A\n",
            " 58%|█████▊    | 96154/166693 [00:50<00:38, 1836.07it/s]\u001b[A\n",
            " 58%|█████▊    | 96353/166693 [00:50<00:37, 1877.07it/s]\u001b[A\n",
            " 58%|█████▊    | 96542/166693 [00:50<00:38, 1836.68it/s]\u001b[A\n",
            " 58%|█████▊    | 96728/166693 [00:50<00:37, 1842.38it/s]\u001b[A\n",
            " 58%|█████▊    | 96913/166693 [00:50<00:38, 1793.18it/s]\u001b[A\n",
            " 58%|█████▊    | 97096/166693 [00:51<00:38, 1803.10it/s]\u001b[A\n",
            " 58%|█████▊    | 97299/166693 [00:51<00:37, 1864.73it/s]\u001b[A\n",
            " 58%|█████▊    | 97495/166693 [00:51<00:36, 1891.91it/s]\u001b[A\n",
            " 59%|█████▊    | 97685/166693 [00:51<00:37, 1857.96it/s]\u001b[A\n",
            " 59%|█████▊    | 97894/166693 [00:51<00:35, 1920.10it/s]\u001b[A\n",
            " 59%|█████▉    | 98090/166693 [00:51<00:35, 1931.67it/s]\u001b[A\n",
            " 59%|█████▉    | 98284/166693 [00:51<00:35, 1905.89it/s]\u001b[A\n",
            " 59%|█████▉    | 98476/166693 [00:51<00:36, 1857.00it/s]\u001b[A\n",
            " 59%|█████▉    | 98683/166693 [00:51<00:35, 1915.64it/s]\u001b[A\n",
            " 59%|█████▉    | 98876/166693 [00:52<00:35, 1892.96it/s]\u001b[A\n",
            " 59%|█████▉    | 99067/166693 [00:52<00:36, 1845.50it/s]\u001b[A\n",
            " 60%|█████▉    | 99268/166693 [00:52<00:35, 1890.10it/s]\u001b[A\n",
            " 60%|█████▉    | 99458/166693 [00:52<00:35, 1874.93it/s]\u001b[A\n",
            " 60%|█████▉    | 99657/166693 [00:52<00:35, 1907.81it/s]\u001b[A\n",
            " 60%|█████▉    | 99849/166693 [00:52<00:36, 1827.16it/s]\u001b[A\n",
            " 60%|██████    | 100041/166693 [00:52<00:35, 1853.10it/s]\u001b[A\n",
            " 60%|██████    | 100242/166693 [00:52<00:35, 1895.47it/s]\u001b[A\n",
            " 60%|██████    | 100433/166693 [00:52<00:34, 1897.99it/s]\u001b[A\n",
            " 60%|██████    | 100624/166693 [00:52<00:35, 1835.76it/s]\u001b[A\n",
            " 60%|██████    | 100809/166693 [00:53<00:36, 1809.97it/s]\u001b[A\n",
            " 61%|██████    | 101018/166693 [00:53<00:34, 1885.36it/s]\u001b[A\n",
            " 61%|██████    | 101208/166693 [00:53<00:35, 1838.16it/s]\u001b[A\n",
            " 61%|██████    | 101393/166693 [00:53<00:35, 1815.38it/s]\u001b[A\n",
            " 61%|██████    | 101576/166693 [00:53<00:36, 1771.96it/s]\u001b[A\n",
            " 61%|██████    | 101760/166693 [00:53<00:36, 1790.07it/s]\u001b[A\n",
            " 61%|██████    | 101948/166693 [00:53<00:35, 1813.95it/s]\u001b[A\n",
            " 61%|██████▏   | 102134/166693 [00:53<00:35, 1826.81it/s]\u001b[A\n",
            " 61%|██████▏   | 102318/166693 [00:53<00:35, 1822.21it/s]\u001b[A\n",
            " 61%|██████▏   | 102501/166693 [00:54<00:36, 1754.43it/s]\u001b[A\n",
            " 62%|██████▏   | 102691/166693 [00:54<00:35, 1794.68it/s]\u001b[A\n",
            " 62%|██████▏   | 102892/166693 [00:54<00:34, 1852.69it/s]\u001b[A\n",
            " 62%|██████▏   | 103079/166693 [00:54<00:35, 1815.42it/s]\u001b[A\n",
            " 62%|██████▏   | 103262/166693 [00:54<00:35, 1810.09it/s]\u001b[A\n",
            " 62%|██████▏   | 103466/166693 [00:54<00:33, 1872.13it/s]\u001b[A\n",
            " 62%|██████▏   | 103655/166693 [00:54<00:34, 1834.72it/s]\u001b[A\n",
            " 62%|██████▏   | 103856/166693 [00:54<00:33, 1882.23it/s]\u001b[A\n",
            " 62%|██████▏   | 104046/166693 [00:54<00:33, 1881.62it/s]\u001b[A\n",
            " 63%|██████▎   | 104235/166693 [00:54<00:33, 1877.57it/s]\u001b[A\n",
            " 63%|██████▎   | 104424/166693 [00:55<00:34, 1792.45it/s]\u001b[A\n",
            " 63%|██████▎   | 104626/166693 [00:55<00:33, 1853.80it/s]\u001b[A\n",
            " 63%|██████▎   | 104825/166693 [00:55<00:32, 1890.94it/s]\u001b[A\n",
            " 63%|██████▎   | 105016/166693 [00:55<00:32, 1870.48it/s]\u001b[A\n",
            " 63%|██████▎   | 105229/166693 [00:55<00:31, 1940.51it/s]\u001b[A\n",
            " 63%|██████▎   | 105426/166693 [00:55<00:31, 1947.74it/s]\u001b[A\n",
            " 63%|██████▎   | 105622/166693 [00:55<00:32, 1894.00it/s]\u001b[A\n",
            " 63%|██████▎   | 105813/166693 [00:55<00:32, 1888.16it/s]\u001b[A\n",
            " 64%|██████▎   | 106003/166693 [00:55<00:32, 1873.67it/s]\u001b[A\n",
            " 64%|██████▎   | 106191/166693 [00:55<00:33, 1814.67it/s]\u001b[A\n",
            " 64%|██████▍   | 106374/166693 [00:56<00:33, 1781.08it/s]\u001b[A\n",
            " 64%|██████▍   | 106577/166693 [00:56<00:32, 1846.35it/s]\u001b[A\n",
            " 64%|██████▍   | 106763/166693 [00:56<00:32, 1818.85it/s]\u001b[A\n",
            " 64%|██████▍   | 106946/166693 [00:56<00:33, 1784.24it/s]\u001b[A\n",
            " 64%|██████▍   | 107144/166693 [00:56<00:32, 1837.96it/s]\u001b[A\n",
            " 64%|██████▍   | 107342/166693 [00:56<00:31, 1877.44it/s]\u001b[A\n",
            " 65%|██████▍   | 107531/166693 [00:56<00:32, 1820.94it/s]\u001b[A\n",
            " 65%|██████▍   | 107740/166693 [00:56<00:31, 1894.07it/s]\u001b[A\n",
            " 65%|██████▍   | 107931/166693 [00:56<00:31, 1884.04it/s]\u001b[A\n",
            " 65%|██████▍   | 108121/166693 [00:57<00:32, 1815.19it/s]\u001b[A\n",
            " 65%|██████▍   | 108304/166693 [00:57<00:32, 1809.29it/s]\u001b[A\n",
            " 65%|██████▌   | 108525/166693 [00:57<00:30, 1912.56it/s]\u001b[A\n",
            " 65%|██████▌   | 108719/166693 [00:57<00:31, 1868.67it/s]\u001b[A\n",
            " 65%|██████▌   | 108924/166693 [00:57<00:30, 1917.76it/s]\u001b[A\n",
            " 65%|██████▌   | 109119/166693 [00:57<00:29, 1925.90it/s]\u001b[A\n",
            " 66%|██████▌   | 109313/166693 [00:57<00:30, 1893.54it/s]\u001b[A\n",
            " 66%|██████▌   | 109514/166693 [00:57<00:29, 1926.96it/s]\u001b[A\n",
            " 66%|██████▌   | 109708/166693 [00:57<00:29, 1912.56it/s]\u001b[A\n",
            " 66%|██████▌   | 109900/166693 [00:57<00:31, 1814.72it/s]\u001b[A\n",
            " 66%|██████▌   | 110083/166693 [00:58<00:31, 1774.66it/s]\u001b[A\n",
            " 66%|██████▌   | 110275/166693 [00:58<00:31, 1814.92it/s]\u001b[A\n",
            " 66%|██████▋   | 110462/166693 [00:58<00:30, 1828.49it/s]\u001b[A\n",
            " 66%|██████▋   | 110646/166693 [00:58<00:31, 1770.11it/s]\u001b[A\n",
            " 66%|██████▋   | 110836/166693 [00:58<00:30, 1806.65it/s]\u001b[A\n",
            " 67%|██████▋   | 111028/166693 [00:58<00:30, 1837.16it/s]\u001b[A\n",
            " 67%|██████▋   | 111213/166693 [00:58<00:30, 1808.59it/s]\u001b[A\n",
            " 67%|██████▋   | 111395/166693 [00:58<00:30, 1811.16it/s]\u001b[A\n",
            " 67%|██████▋   | 111577/166693 [00:58<00:30, 1787.71it/s]\u001b[A\n",
            " 67%|██████▋   | 111757/166693 [00:59<00:31, 1721.67it/s]\u001b[A\n",
            " 67%|██████▋   | 111930/166693 [00:59<00:32, 1703.61it/s]\u001b[A\n",
            " 67%|██████▋   | 112114/166693 [00:59<00:31, 1742.35it/s]\u001b[A\n",
            " 67%|██████▋   | 112289/166693 [00:59<00:31, 1733.56it/s]\u001b[A\n",
            " 67%|██████▋   | 112466/166693 [00:59<00:31, 1743.72it/s]\u001b[A\n",
            " 68%|██████▊   | 112654/166693 [00:59<00:30, 1780.91it/s]\u001b[A\n",
            " 68%|██████▊   | 112842/166693 [00:59<00:29, 1809.28it/s]\u001b[A\n",
            " 68%|██████▊   | 113024/166693 [00:59<00:29, 1793.56it/s]\u001b[A\n",
            " 68%|██████▊   | 113206/166693 [00:59<00:29, 1800.31it/s]\u001b[A\n",
            " 68%|██████▊   | 113387/166693 [00:59<00:29, 1782.33it/s]\u001b[A\n",
            " 68%|██████▊   | 113566/166693 [01:00<00:30, 1737.26it/s]\u001b[A\n",
            " 68%|██████▊   | 113741/166693 [01:00<00:30, 1730.53it/s]\u001b[A\n",
            " 68%|██████▊   | 113918/166693 [01:00<00:30, 1742.06it/s]\u001b[A\n",
            " 68%|██████▊   | 114093/166693 [01:00<00:31, 1675.63it/s]\u001b[A\n",
            " 69%|██████▊   | 114270/166693 [01:00<00:30, 1701.90it/s]\u001b[A\n",
            " 69%|██████▊   | 114465/166693 [01:00<00:29, 1769.42it/s]\u001b[A\n",
            " 69%|██████▉   | 114651/166693 [01:00<00:29, 1794.51it/s]\u001b[A\n",
            " 69%|██████▉   | 114832/166693 [01:00<00:29, 1757.61it/s]\u001b[A\n",
            " 69%|██████▉   | 115009/166693 [01:00<00:29, 1747.49it/s]\u001b[A\n",
            " 69%|██████▉   | 115185/166693 [01:00<00:30, 1691.32it/s]\u001b[A\n",
            " 69%|██████▉   | 115357/166693 [01:01<00:30, 1699.79it/s]\u001b[A\n",
            " 69%|██████▉   | 115532/166693 [01:01<00:29, 1712.99it/s]\u001b[A\n",
            " 69%|██████▉   | 115708/166693 [01:01<00:29, 1724.34it/s]\u001b[A\n",
            " 70%|██████▉   | 115881/166693 [01:01<00:29, 1705.96it/s]\u001b[A\n",
            " 70%|██████▉   | 116076/166693 [01:01<00:28, 1770.47it/s]\u001b[A\n",
            " 70%|██████▉   | 116254/166693 [01:01<00:29, 1718.85it/s]\u001b[A\n",
            " 70%|██████▉   | 116434/166693 [01:01<00:28, 1740.78it/s]\u001b[A\n",
            " 70%|██████▉   | 116619/166693 [01:01<00:28, 1769.58it/s]\u001b[A\n",
            " 70%|███████   | 116797/166693 [01:01<00:28, 1742.46it/s]\u001b[A\n",
            " 70%|███████   | 116973/166693 [01:01<00:28, 1747.48it/s]\u001b[A\n",
            " 70%|███████   | 117149/166693 [01:02<00:29, 1696.65it/s]\u001b[A\n",
            " 70%|███████   | 117322/166693 [01:02<00:28, 1706.39it/s]\u001b[A\n",
            " 71%|███████   | 117523/166693 [01:02<00:27, 1787.33it/s]\u001b[A\n",
            " 71%|███████   | 117719/166693 [01:02<00:26, 1834.94it/s]\u001b[A\n",
            " 71%|███████   | 117904/166693 [01:02<00:26, 1819.16it/s]\u001b[A\n",
            " 71%|███████   | 118088/166693 [01:02<00:26, 1825.04it/s]\u001b[A\n",
            " 71%|███████   | 118272/166693 [01:02<00:26, 1805.46it/s]\u001b[A\n",
            " 71%|███████   | 118460/166693 [01:02<00:26, 1826.07it/s]\u001b[A\n",
            " 71%|███████   | 118649/166693 [01:02<00:26, 1843.27it/s]\u001b[A\n",
            " 71%|███████▏  | 118834/166693 [01:03<00:26, 1789.09it/s]\u001b[A\n",
            " 71%|███████▏  | 119029/166693 [01:03<00:25, 1833.25it/s]\u001b[A\n",
            " 72%|███████▏  | 119213/166693 [01:03<00:27, 1749.73it/s]\u001b[A\n",
            " 72%|███████▏  | 119390/166693 [01:03<00:27, 1751.39it/s]\u001b[A\n",
            " 72%|███████▏  | 119582/166693 [01:03<00:26, 1797.40it/s]\u001b[A\n",
            " 72%|███████▏  | 119763/166693 [01:03<00:26, 1793.78it/s]\u001b[A\n",
            " 72%|███████▏  | 119950/166693 [01:03<00:25, 1814.80it/s]\u001b[A\n",
            " 72%|███████▏  | 120137/166693 [01:03<00:25, 1830.16it/s]\u001b[A\n",
            " 72%|███████▏  | 120321/166693 [01:03<00:25, 1789.29it/s]\u001b[A\n",
            " 72%|███████▏  | 120510/166693 [01:03<00:25, 1817.86it/s]\u001b[A\n",
            " 72%|███████▏  | 120693/166693 [01:04<00:26, 1711.98it/s]\u001b[A\n",
            " 73%|███████▎  | 120869/166693 [01:04<00:26, 1724.50it/s]\u001b[A\n",
            " 73%|███████▎  | 121043/166693 [01:04<00:26, 1711.54it/s]\u001b[A\n",
            " 73%|███████▎  | 121220/166693 [01:04<00:26, 1727.26it/s]\u001b[A\n",
            " 73%|███████▎  | 121404/166693 [01:04<00:25, 1758.13it/s]\u001b[A\n",
            " 73%|███████▎  | 121581/166693 [01:04<00:26, 1728.41it/s]\u001b[A\n",
            " 73%|███████▎  | 121774/166693 [01:04<00:25, 1783.67it/s]\u001b[A\n",
            " 73%|███████▎  | 121954/166693 [01:04<00:25, 1752.31it/s]\u001b[A\n",
            " 73%|███████▎  | 122141/166693 [01:04<00:24, 1785.38it/s]\u001b[A\n",
            " 73%|███████▎  | 122332/166693 [01:04<00:24, 1820.12it/s]\u001b[A\n",
            " 73%|███████▎  | 122515/166693 [01:05<00:24, 1781.89it/s]\u001b[A\n",
            " 74%|███████▎  | 122694/166693 [01:05<00:24, 1763.63it/s]\u001b[A\n",
            " 74%|███████▎  | 122873/166693 [01:05<00:24, 1771.01it/s]\u001b[A\n",
            " 74%|███████▍  | 123051/166693 [01:05<00:24, 1748.60it/s]\u001b[A\n",
            " 74%|███████▍  | 123232/166693 [01:05<00:24, 1765.94it/s]\u001b[A\n",
            " 74%|███████▍  | 123411/166693 [01:05<00:24, 1772.23it/s]\u001b[A\n",
            " 74%|███████▍  | 123589/166693 [01:05<00:24, 1768.41it/s]\u001b[A\n",
            " 74%|███████▍  | 123776/166693 [01:05<00:23, 1795.06it/s]\u001b[A\n",
            " 74%|███████▍  | 123956/166693 [01:05<00:24, 1762.16it/s]\u001b[A\n",
            " 74%|███████▍  | 124133/166693 [01:06<00:24, 1757.80it/s]\u001b[A\n",
            " 75%|███████▍  | 124309/166693 [01:06<00:24, 1732.86it/s]\u001b[A\n",
            " 75%|███████▍  | 124483/166693 [01:06<00:24, 1727.43it/s]\u001b[A\n",
            " 75%|███████▍  | 124677/166693 [01:06<00:23, 1785.69it/s]\u001b[A\n",
            " 75%|███████▍  | 124868/166693 [01:06<00:22, 1821.15it/s]\u001b[A\n",
            " 75%|███████▌  | 125052/166693 [01:06<00:22, 1826.59it/s]\u001b[A\n",
            " 75%|███████▌  | 125236/166693 [01:06<00:23, 1794.79it/s]\u001b[A\n",
            " 75%|███████▌  | 125427/166693 [01:06<00:22, 1826.55it/s]\u001b[A\n",
            " 75%|███████▌  | 125625/166693 [01:06<00:21, 1867.87it/s]\u001b[A\n",
            " 75%|███████▌  | 125813/166693 [01:06<00:22, 1836.17it/s]\u001b[A\n",
            " 76%|███████▌  | 125998/166693 [01:07<00:22, 1810.90it/s]\u001b[A\n",
            " 76%|███████▌  | 126180/166693 [01:07<00:22, 1804.94it/s]\u001b[A\n",
            " 76%|███████▌  | 126361/166693 [01:07<00:23, 1730.80it/s]\u001b[A\n",
            " 76%|███████▌  | 126549/166693 [01:07<00:22, 1771.04it/s]\u001b[A\n",
            " 76%|███████▌  | 126732/166693 [01:07<00:22, 1786.97it/s]\u001b[A\n",
            " 76%|███████▌  | 126912/166693 [01:07<00:22, 1768.15it/s]\u001b[A\n",
            " 76%|███████▌  | 127098/166693 [01:07<00:22, 1793.60it/s]\u001b[A\n",
            " 76%|███████▋  | 127278/166693 [01:07<00:22, 1776.11it/s]\u001b[A\n",
            " 76%|███████▋  | 127464/166693 [01:07<00:21, 1800.25it/s]\u001b[A\n",
            " 77%|███████▋  | 127645/166693 [01:07<00:22, 1768.56it/s]\u001b[A\n",
            " 77%|███████▋  | 127823/166693 [01:08<00:22, 1753.81it/s]\u001b[A\n",
            " 77%|███████▋  | 128006/166693 [01:08<00:21, 1772.57it/s]\u001b[A\n",
            " 77%|███████▋  | 128184/166693 [01:08<00:22, 1678.09it/s]\u001b[A\n",
            " 77%|███████▋  | 128367/166693 [01:08<00:22, 1720.08it/s]\u001b[A\n",
            " 77%|███████▋  | 128555/166693 [01:08<00:21, 1763.53it/s]\u001b[A\n",
            " 77%|███████▋  | 128733/166693 [01:08<00:21, 1740.59it/s]\u001b[A\n",
            " 77%|███████▋  | 128912/166693 [01:08<00:21, 1754.70it/s]\u001b[A\n",
            " 77%|███████▋  | 129098/166693 [01:08<00:21, 1783.13it/s]\u001b[A\n",
            " 78%|███████▊  | 129277/166693 [01:08<00:21, 1756.30it/s]\u001b[A\n",
            " 78%|███████▊  | 129455/166693 [01:09<00:21, 1756.43it/s]\u001b[A\n",
            " 78%|███████▊  | 129631/166693 [01:09<00:21, 1737.27it/s]\u001b[A\n",
            " 78%|███████▊  | 129810/166693 [01:09<00:21, 1752.02it/s]\u001b[A\n",
            " 78%|███████▊  | 129986/166693 [01:09<00:21, 1690.79it/s]\u001b[A\n",
            " 78%|███████▊  | 130176/166693 [01:09<00:20, 1748.32it/s]\u001b[A\n",
            " 78%|███████▊  | 130376/166693 [01:09<00:20, 1813.41it/s]\u001b[A\n",
            " 78%|███████▊  | 130559/166693 [01:09<00:20, 1729.98it/s]\u001b[A\n",
            " 78%|███████▊  | 130750/166693 [01:09<00:20, 1779.16it/s]\u001b[A\n",
            " 79%|███████▊  | 130930/166693 [01:09<00:20, 1734.56it/s]\u001b[A\n",
            " 79%|███████▊  | 131125/166693 [01:09<00:19, 1793.59it/s]\u001b[A\n",
            " 79%|███████▉  | 131313/166693 [01:10<00:19, 1817.47it/s]\u001b[A\n",
            " 79%|███████▉  | 131496/166693 [01:10<00:19, 1796.23it/s]\u001b[A\n",
            " 79%|███████▉  | 131677/166693 [01:10<00:19, 1758.96it/s]\u001b[A\n",
            " 79%|███████▉  | 131859/166693 [01:10<00:19, 1774.53it/s]\u001b[A\n",
            " 79%|███████▉  | 132047/166693 [01:10<00:19, 1803.06it/s]\u001b[A\n",
            " 79%|███████▉  | 132242/166693 [01:10<00:18, 1844.22it/s]\u001b[A\n",
            " 79%|███████▉  | 132428/166693 [01:10<00:18, 1821.59it/s]\u001b[A\n",
            " 80%|███████▉  | 132621/166693 [01:10<00:18, 1852.38it/s]\u001b[A\n",
            " 80%|███████▉  | 132811/166693 [01:10<00:18, 1864.24it/s]\u001b[A\n",
            " 80%|███████▉  | 132998/166693 [01:10<00:18, 1816.16it/s]\u001b[A\n",
            " 80%|███████▉  | 133184/166693 [01:11<00:18, 1828.25it/s]\u001b[A\n",
            " 80%|████████  | 133368/166693 [01:11<00:18, 1816.13it/s]\u001b[A\n",
            " 80%|████████  | 133550/166693 [01:11<00:18, 1765.40it/s]\u001b[A\n",
            " 80%|████████  | 133742/166693 [01:11<00:18, 1806.26it/s]\u001b[A\n",
            " 80%|████████  | 133941/166693 [01:11<00:17, 1857.11it/s]\u001b[A\n",
            " 80%|████████  | 134129/166693 [01:11<00:17, 1862.14it/s]\u001b[A\n",
            " 81%|████████  | 134316/166693 [01:11<00:17, 1829.67it/s]\u001b[A\n",
            " 81%|████████  | 134501/166693 [01:11<00:17, 1835.40it/s]\u001b[A\n",
            " 81%|████████  | 134685/166693 [01:11<00:17, 1801.63it/s]\u001b[A\n",
            " 81%|████████  | 134871/166693 [01:12<00:17, 1817.56it/s]\u001b[A\n",
            " 81%|████████  | 135055/166693 [01:12<00:17, 1822.90it/s]\u001b[A\n",
            " 81%|████████  | 135238/166693 [01:12<00:17, 1766.21it/s]\u001b[A\n",
            " 81%|████████  | 135416/166693 [01:12<00:17, 1746.66it/s]\u001b[A\n",
            " 81%|████████▏ | 135604/166693 [01:12<00:17, 1784.25it/s]\u001b[A\n",
            " 81%|████████▏ | 135783/166693 [01:12<00:17, 1769.73it/s]\u001b[A\n",
            " 82%|████████▏ | 135972/166693 [01:12<00:17, 1804.11it/s]\u001b[A\n",
            " 82%|████████▏ | 136153/166693 [01:12<00:17, 1753.01it/s]\u001b[A\n",
            " 82%|████████▏ | 136339/166693 [01:12<00:17, 1783.70it/s]\u001b[A\n",
            " 82%|████████▏ | 136518/166693 [01:12<00:16, 1776.59it/s]\u001b[A\n",
            " 82%|████████▏ | 136697/166693 [01:13<00:16, 1766.28it/s]\u001b[A\n",
            " 82%|████████▏ | 136886/166693 [01:13<00:16, 1801.02it/s]\u001b[A\n",
            " 82%|████████▏ | 137076/166693 [01:13<00:16, 1827.57it/s]\u001b[A\n",
            " 82%|████████▏ | 137260/166693 [01:13<00:16, 1807.84it/s]\u001b[A\n",
            " 82%|████████▏ | 137449/166693 [01:13<00:15, 1829.31it/s]\u001b[A\n",
            " 83%|████████▎ | 137633/166693 [01:13<00:16, 1799.83it/s]\u001b[A\n",
            " 83%|████████▎ | 137816/166693 [01:13<00:15, 1808.48it/s]\u001b[A\n",
            " 83%|████████▎ | 137998/166693 [01:13<00:16, 1783.88it/s]\u001b[A\n",
            " 83%|████████▎ | 138189/166693 [01:13<00:15, 1818.15it/s]\u001b[A\n",
            " 83%|████████▎ | 138372/166693 [01:13<00:16, 1743.53it/s]\u001b[A\n",
            " 83%|████████▎ | 138548/166693 [01:14<00:16, 1747.38it/s]\u001b[A\n",
            " 83%|████████▎ | 138724/166693 [01:14<00:16, 1707.77it/s]\u001b[A\n",
            " 83%|████████▎ | 138897/166693 [01:14<00:16, 1713.84it/s]\u001b[A\n",
            " 83%|████████▎ | 139075/166693 [01:14<00:15, 1731.64it/s]\u001b[A\n",
            " 84%|████████▎ | 139249/166693 [01:14<00:15, 1722.72it/s]\u001b[A\n",
            " 84%|████████▎ | 139434/166693 [01:14<00:15, 1758.13it/s]\u001b[A\n",
            " 84%|████████▍ | 139611/166693 [01:14<00:15, 1693.77it/s]\u001b[A\n",
            " 84%|████████▍ | 139782/166693 [01:14<00:16, 1670.48it/s]\u001b[A\n",
            " 84%|████████▍ | 139950/166693 [01:14<00:16, 1654.56it/s]\u001b[A\n",
            " 84%|████████▍ | 140118/166693 [01:15<00:16, 1660.74it/s]\u001b[A\n",
            " 84%|████████▍ | 140285/166693 [01:15<00:15, 1657.24it/s]\u001b[A\n",
            " 84%|████████▍ | 140471/166693 [01:15<00:15, 1711.10it/s]\u001b[A\n",
            " 84%|████████▍ | 140643/166693 [01:15<00:15, 1691.75it/s]\u001b[A\n",
            " 84%|████████▍ | 140813/166693 [01:15<00:15, 1658.97it/s]\u001b[A\n",
            " 85%|████████▍ | 141008/166693 [01:15<00:14, 1735.81it/s]\u001b[A\n",
            " 85%|████████▍ | 141183/166693 [01:15<00:14, 1739.64it/s]\u001b[A\n",
            " 85%|████████▍ | 141380/166693 [01:15<00:14, 1799.28it/s]\u001b[A\n",
            " 85%|████████▍ | 141562/166693 [01:15<00:14, 1735.70it/s]\u001b[A\n",
            " 85%|████████▌ | 141754/166693 [01:15<00:13, 1786.89it/s]\u001b[A\n",
            " 85%|████████▌ | 141934/166693 [01:16<00:14, 1741.66it/s]\u001b[A\n",
            " 85%|████████▌ | 142122/166693 [01:16<00:13, 1779.12it/s]\u001b[A\n",
            " 85%|████████▌ | 142309/166693 [01:16<00:13, 1804.36it/s]\u001b[A\n",
            " 85%|████████▌ | 142491/166693 [01:16<00:13, 1758.11it/s]\u001b[A\n",
            " 86%|████████▌ | 142684/166693 [01:16<00:13, 1804.63it/s]\u001b[A\n",
            " 86%|████████▌ | 142866/166693 [01:16<00:13, 1772.67it/s]\u001b[A\n",
            " 86%|████████▌ | 143045/166693 [01:16<00:13, 1772.06it/s]\u001b[A\n",
            " 86%|████████▌ | 143223/166693 [01:16<00:13, 1768.85it/s]\u001b[A\n",
            " 86%|████████▌ | 143401/166693 [01:16<00:13, 1759.46it/s]\u001b[A\n",
            " 86%|████████▌ | 143578/166693 [01:16<00:13, 1731.80it/s]\u001b[A\n",
            " 86%|████████▌ | 143765/166693 [01:17<00:12, 1770.27it/s]\u001b[A\n",
            " 86%|████████▋ | 143963/166693 [01:17<00:12, 1825.74it/s]\u001b[A\n",
            " 86%|████████▋ | 144147/166693 [01:17<00:12, 1811.27it/s]\u001b[A\n",
            " 87%|████████▋ | 144329/166693 [01:17<00:12, 1790.65it/s]\u001b[A\n",
            " 87%|████████▋ | 144510/166693 [01:17<00:12, 1795.26it/s]\u001b[A\n",
            " 87%|████████▋ | 144690/166693 [01:17<00:12, 1732.37it/s]\u001b[A\n",
            " 87%|████████▋ | 144864/166693 [01:17<00:13, 1678.16it/s]\u001b[A\n",
            " 87%|████████▋ | 145057/166693 [01:17<00:12, 1745.42it/s]\u001b[A\n",
            " 87%|████████▋ | 145240/166693 [01:17<00:12, 1767.85it/s]\u001b[A\n",
            " 87%|████████▋ | 145418/166693 [01:18<00:12, 1758.00it/s]\u001b[A\n",
            " 87%|████████▋ | 145607/166693 [01:18<00:11, 1793.83it/s]\u001b[A\n",
            " 87%|████████▋ | 145788/166693 [01:18<00:12, 1727.71it/s]\u001b[A\n",
            " 88%|████████▊ | 145964/166693 [01:18<00:11, 1735.99it/s]\u001b[A\n",
            " 88%|████████▊ | 146139/166693 [01:18<00:11, 1713.81it/s]\u001b[A\n",
            " 88%|████████▊ | 146311/166693 [01:18<00:11, 1710.38it/s]\u001b[A\n",
            " 88%|████████▊ | 146487/166693 [01:18<00:11, 1724.87it/s]\u001b[A\n",
            " 88%|████████▊ | 146670/166693 [01:18<00:11, 1752.49it/s]\u001b[A\n",
            " 88%|████████▊ | 146846/166693 [01:18<00:11, 1747.91it/s]\u001b[A\n",
            " 88%|████████▊ | 147022/166693 [01:18<00:11, 1711.45it/s]\u001b[A\n",
            " 88%|████████▊ | 147194/166693 [01:19<00:11, 1684.99it/s]\u001b[A\n",
            " 88%|████████▊ | 147388/166693 [01:19<00:11, 1753.83it/s]\u001b[A\n",
            " 89%|████████▊ | 147588/166693 [01:19<00:10, 1820.28it/s]\u001b[A\n",
            " 89%|████████▊ | 147772/166693 [01:19<00:10, 1799.95it/s]\u001b[A\n",
            " 89%|████████▉ | 147953/166693 [01:19<00:10, 1791.28it/s]\u001b[A\n",
            " 89%|████████▉ | 148134/166693 [01:19<00:10, 1796.00it/s]\u001b[A\n",
            " 89%|████████▉ | 148341/166693 [01:19<00:09, 1869.66it/s]\u001b[A\n",
            " 89%|████████▉ | 148539/166693 [01:19<00:09, 1900.43it/s]\u001b[A\n",
            " 89%|████████▉ | 148730/166693 [01:19<00:09, 1858.71it/s]\u001b[A\n",
            " 89%|████████▉ | 148917/166693 [01:19<00:09, 1856.25it/s]\u001b[A\n",
            " 89%|████████▉ | 149111/166693 [01:20<00:09, 1880.55it/s]\u001b[A\n",
            " 90%|████████▉ | 149300/166693 [01:20<00:09, 1882.38it/s]\u001b[A\n",
            " 90%|████████▉ | 149500/166693 [01:20<00:08, 1913.63it/s]\u001b[A\n",
            " 90%|████████▉ | 149692/166693 [01:20<00:08, 1911.89it/s]\u001b[A\n",
            " 90%|████████▉ | 149884/166693 [01:20<00:09, 1823.88it/s]\u001b[A\n",
            " 90%|█████████ | 150083/166693 [01:20<00:08, 1869.97it/s]\u001b[A\n",
            " 90%|█████████ | 150276/166693 [01:20<00:08, 1887.04it/s]\u001b[A\n",
            " 90%|█████████ | 150466/166693 [01:20<00:08, 1864.42it/s]\u001b[A\n",
            " 90%|█████████ | 150663/166693 [01:20<00:08, 1894.07it/s]\u001b[A\n",
            " 90%|█████████ | 150853/166693 [01:20<00:08, 1858.36it/s]\u001b[A\n",
            " 91%|█████████ | 151044/166693 [01:21<00:08, 1872.09it/s]\u001b[A\n",
            " 91%|█████████ | 151232/166693 [01:21<00:08, 1821.75it/s]\u001b[A\n",
            " 91%|█████████ | 151422/166693 [01:21<00:08, 1844.52it/s]\u001b[A\n",
            " 91%|█████████ | 151607/166693 [01:21<00:08, 1833.45it/s]\u001b[A\n",
            " 91%|█████████ | 151791/166693 [01:21<00:08, 1834.22it/s]\u001b[A\n",
            " 91%|█████████ | 151975/166693 [01:21<00:08, 1817.92it/s]\u001b[A\n",
            " 91%|█████████▏| 152159/166693 [01:21<00:07, 1824.22it/s]\u001b[A\n",
            " 91%|█████████▏| 152342/166693 [01:21<00:07, 1802.85it/s]\u001b[A\n",
            " 92%|█████████▏| 152533/166693 [01:21<00:07, 1830.50it/s]\u001b[A\n",
            " 92%|█████████▏| 152717/166693 [01:22<00:07, 1827.63it/s]\u001b[A\n",
            " 92%|█████████▏| 152900/166693 [01:22<00:07, 1816.76it/s]\u001b[A\n",
            " 92%|█████████▏| 153087/166693 [01:22<00:07, 1829.00it/s]\u001b[A\n",
            " 92%|█████████▏| 153271/166693 [01:22<00:07, 1826.55it/s]\u001b[A\n",
            " 92%|█████████▏| 153477/166693 [01:22<00:07, 1887.40it/s]\u001b[A\n",
            " 92%|█████████▏| 153667/166693 [01:22<00:07, 1827.32it/s]\u001b[A\n",
            " 92%|█████████▏| 153851/166693 [01:22<00:07, 1813.20it/s]\u001b[A\n",
            " 92%|█████████▏| 154047/166693 [01:22<00:06, 1853.53it/s]\u001b[A\n",
            " 93%|█████████▎| 154233/166693 [01:22<00:06, 1842.06it/s]\u001b[A\n",
            " 93%|█████████▎| 154418/166693 [01:22<00:06, 1814.57it/s]\u001b[A\n",
            " 93%|█████████▎| 154616/166693 [01:23<00:06, 1860.59it/s]\u001b[A\n",
            " 93%|█████████▎| 154803/166693 [01:23<00:06, 1843.44it/s]\u001b[A\n",
            " 93%|█████████▎| 154995/166693 [01:23<00:06, 1861.61it/s]\u001b[A\n",
            " 93%|█████████▎| 155193/166693 [01:23<00:06, 1894.92it/s]\u001b[A\n",
            " 93%|█████████▎| 155383/166693 [01:23<00:06, 1858.58it/s]\u001b[A\n",
            " 93%|█████████▎| 155570/166693 [01:23<00:06, 1851.14it/s]\u001b[A\n",
            " 93%|█████████▎| 155756/166693 [01:23<00:06, 1811.58it/s]\u001b[A\n",
            " 94%|█████████▎| 155955/166693 [01:23<00:05, 1859.60it/s]\u001b[A\n",
            " 94%|█████████▎| 156142/166693 [01:23<00:05, 1844.32it/s]\u001b[A\n",
            " 94%|█████████▍| 156327/166693 [01:23<00:05, 1845.37it/s]\u001b[A\n",
            " 94%|█████████▍| 156512/166693 [01:24<00:05, 1845.04it/s]\u001b[A\n",
            " 94%|█████████▍| 156698/166693 [01:24<00:05, 1847.77it/s]\u001b[A\n",
            " 94%|█████████▍| 156906/166693 [01:24<00:05, 1910.21it/s]\u001b[A\n",
            " 94%|█████████▍| 157098/166693 [01:24<00:05, 1876.34it/s]\u001b[A\n",
            " 94%|█████████▍| 157287/166693 [01:24<00:05, 1846.80it/s]\u001b[A\n",
            " 94%|█████████▍| 157482/166693 [01:24<00:04, 1876.44it/s]\u001b[A\n",
            " 95%|█████████▍| 157676/166693 [01:24<00:04, 1893.59it/s]\u001b[A\n",
            " 95%|█████████▍| 157866/166693 [01:24<00:04, 1825.32it/s]\u001b[A\n",
            " 95%|█████████▍| 158050/166693 [01:24<00:04, 1812.11it/s]\u001b[A\n",
            " 95%|█████████▍| 158232/166693 [01:25<00:15, 562.12it/s] \u001b[A\n",
            " 95%|█████████▌| 158435/166693 [01:25<00:11, 717.48it/s]\u001b[A\n",
            " 95%|█████████▌| 158612/166693 [01:25<00:09, 873.01it/s]\u001b[A\n",
            " 95%|█████████▌| 158788/166693 [01:26<00:07, 1028.27it/s]\u001b[A\n",
            " 95%|█████████▌| 158974/166693 [01:26<00:06, 1187.20it/s]\u001b[A\n",
            " 95%|█████████▌| 159169/166693 [01:26<00:05, 1344.03it/s]\u001b[A\n",
            " 96%|█████████▌| 159348/166693 [01:26<00:05, 1431.76it/s]\u001b[A\n",
            " 96%|█████████▌| 159524/166693 [01:26<00:04, 1491.45it/s]\u001b[A\n",
            " 96%|█████████▌| 159701/166693 [01:26<00:04, 1563.89it/s]\u001b[A\n",
            " 96%|█████████▌| 159875/166693 [01:26<00:04, 1609.99it/s]\u001b[A\n",
            " 96%|█████████▌| 160057/166693 [01:26<00:03, 1667.64it/s]\u001b[A\n",
            " 96%|█████████▌| 160251/166693 [01:26<00:03, 1739.48it/s]\u001b[A\n",
            " 96%|█████████▌| 160433/166693 [01:26<00:03, 1749.09it/s]\u001b[A\n",
            " 96%|█████████▋| 160613/166693 [01:27<00:03, 1757.19it/s]\u001b[A\n",
            " 96%|█████████▋| 160802/166693 [01:27<00:03, 1791.91it/s]\u001b[A\n",
            " 97%|█████████▋| 160984/166693 [01:27<00:03, 1780.04it/s]\u001b[A\n",
            " 97%|█████████▋| 161175/166693 [01:27<00:03, 1813.92it/s]\u001b[A\n",
            " 97%|█████████▋| 161358/166693 [01:27<00:02, 1798.38it/s]\u001b[A\n",
            " 97%|█████████▋| 161539/166693 [01:27<00:02, 1748.32it/s]\u001b[A\n",
            " 97%|█████████▋| 161715/166693 [01:27<00:02, 1683.28it/s]\u001b[A\n",
            " 97%|█████████▋| 161912/166693 [01:27<00:02, 1757.74it/s]\u001b[A\n",
            " 97%|█████████▋| 162090/166693 [01:27<00:02, 1764.22it/s]\u001b[A\n",
            " 97%|█████████▋| 162275/166693 [01:27<00:02, 1788.71it/s]\u001b[A\n",
            " 97%|█████████▋| 162455/166693 [01:28<00:02, 1781.99it/s]\u001b[A\n",
            " 98%|█████████▊| 162650/166693 [01:28<00:02, 1828.80it/s]\u001b[A\n",
            " 98%|█████████▊| 162834/166693 [01:28<00:02, 1829.46it/s]\u001b[A\n",
            " 98%|█████████▊| 163022/166693 [01:28<00:01, 1843.85it/s]\u001b[A\n",
            " 98%|█████████▊| 163207/166693 [01:28<00:01, 1843.35it/s]\u001b[A\n",
            " 98%|█████████▊| 163392/166693 [01:28<00:01, 1794.75it/s]\u001b[A\n",
            " 98%|█████████▊| 163572/166693 [01:28<00:01, 1789.24it/s]\u001b[A\n",
            " 98%|█████████▊| 163760/166693 [01:28<00:01, 1812.53it/s]\u001b[A\n",
            " 98%|█████████▊| 163942/166693 [01:28<00:01, 1813.07it/s]\u001b[A\n",
            " 98%|█████████▊| 164143/166693 [01:29<00:01, 1866.46it/s]\u001b[A\n",
            " 99%|█████████▊| 164354/166693 [01:29<00:01, 1933.40it/s]\u001b[A\n",
            " 99%|█████████▊| 164549/166693 [01:29<00:01, 1910.94it/s]\u001b[A\n",
            " 99%|█████████▉| 164741/166693 [01:29<00:01, 1866.94it/s]\u001b[A\n",
            " 99%|█████████▉| 164944/166693 [01:29<00:00, 1911.55it/s]\u001b[A\n",
            " 99%|█████████▉| 165136/166693 [01:29<00:00, 1904.04it/s]\u001b[A\n",
            " 99%|█████████▉| 165327/166693 [01:29<00:00, 1833.81it/s]\u001b[A\n",
            " 99%|█████████▉| 165512/166693 [01:29<00:00, 1808.52it/s]\u001b[A\n",
            " 99%|█████████▉| 165694/166693 [01:29<00:00, 1794.93it/s]\u001b[A\n",
            "100%|█████████▉| 165875/166693 [01:29<00:00, 1780.45it/s]\u001b[A\n",
            "100%|█████████▉| 166054/166693 [01:30<00:00, 1768.98it/s]\u001b[A\n",
            "100%|█████████▉| 166232/166693 [01:30<00:00, 1766.01it/s]\u001b[A\n",
            "100%|█████████▉| 166426/166693 [01:30<00:00, 1814.26it/s]\u001b[A\n",
            "100%|██████████| 166693/166693 [01:30<00:00, 1843.42it/s]\n"
          ],
          "name": "stderr"
        }
      ]
    },
    {
      "cell_type": "code",
      "metadata": {
        "colab": {
          "base_uri": "https://localhost:8080/"
        },
        "id": "TGbOT4XBjxm7",
        "outputId": "410b2216-93ed-4249-9f13-72977400c0a1"
      },
      "source": [
        "test_df['search_term_tokens'] = test_df['search_term'].progress_apply(lambda text: tokenize(text, MAX_SEARCH_TERM_LENGTH))"
      ],
      "execution_count": 93,
      "outputs": [
        {
          "output_type": "stream",
          "text": [
            "\n",
            "  0%|          | 0/166693 [00:00<?, ?it/s]\u001b[A\n",
            "  0%|          | 369/166693 [00:00<00:45, 3682.23it/s]\u001b[A\n",
            "  0%|          | 725/166693 [00:00<00:45, 3644.51it/s]\u001b[A\n",
            "  1%|          | 1150/166693 [00:00<00:43, 3806.53it/s]\u001b[A\n",
            "  1%|          | 1554/166693 [00:00<00:42, 3873.42it/s]\u001b[A\n",
            "  1%|          | 1980/166693 [00:00<00:41, 3980.86it/s]\u001b[A\n",
            "  1%|▏         | 2392/166693 [00:00<00:40, 4019.63it/s]\u001b[A\n",
            "  2%|▏         | 2812/166693 [00:00<00:40, 4069.85it/s]\u001b[A\n",
            "  2%|▏         | 3231/166693 [00:00<00:39, 4104.50it/s]\u001b[A\n",
            "  2%|▏         | 3653/166693 [00:00<00:39, 4135.72it/s]\u001b[A\n",
            "  2%|▏         | 4073/166693 [00:01<00:39, 4153.19it/s]\u001b[A\n",
            "  3%|▎         | 4498/166693 [00:01<00:38, 4180.32it/s]\u001b[A\n",
            "  3%|▎         | 4910/166693 [00:01<00:39, 4135.26it/s]\u001b[A\n",
            "  3%|▎         | 5333/166693 [00:01<00:38, 4163.09it/s]\u001b[A\n",
            "  3%|▎         | 5747/166693 [00:01<00:39, 4112.18it/s]\u001b[A\n",
            "  4%|▎         | 6174/166693 [00:01<00:38, 4156.90it/s]\u001b[A\n",
            "  4%|▍         | 6589/166693 [00:01<00:40, 3975.18it/s]\u001b[A\n",
            "  4%|▍         | 6991/166693 [00:01<00:40, 3986.11it/s]\u001b[A\n",
            "  4%|▍         | 7428/166693 [00:01<00:38, 4091.68it/s]\u001b[A\n",
            "  5%|▍         | 7844/166693 [00:01<00:38, 4110.97it/s]\u001b[A\n",
            "  5%|▍         | 8286/166693 [00:02<00:37, 4198.43it/s]\u001b[A\n",
            "  5%|▌         | 8715/166693 [00:02<00:37, 4224.32it/s]\u001b[A\n",
            "  5%|▌         | 9139/166693 [00:02<00:38, 4113.85it/s]\u001b[A\n",
            "  6%|▌         | 9552/166693 [00:02<00:38, 4112.17it/s]\u001b[A\n",
            "  6%|▌         | 9976/166693 [00:02<00:37, 4149.67it/s]\u001b[A\n",
            "  6%|▌         | 10392/166693 [00:02<00:37, 4131.17it/s]\u001b[A\n",
            "  6%|▋         | 10818/166693 [00:02<00:37, 4167.32it/s]\u001b[A\n",
            "  7%|▋         | 11243/166693 [00:02<00:37, 4189.90it/s]\u001b[A\n",
            "  7%|▋         | 11682/166693 [00:02<00:36, 4246.63it/s]\u001b[A\n",
            "  7%|▋         | 12108/166693 [00:02<00:36, 4213.45it/s]\u001b[A\n",
            "  8%|▊         | 12541/166693 [00:03<00:36, 4245.66it/s]\u001b[A\n",
            "  8%|▊         | 12966/166693 [00:03<00:36, 4182.82it/s]\u001b[A\n",
            "  8%|▊         | 13385/166693 [00:03<00:38, 4028.47it/s]\u001b[A\n",
            "  8%|▊         | 13818/166693 [00:03<00:37, 4112.34it/s]\u001b[A\n",
            "  9%|▊         | 14247/166693 [00:03<00:36, 4163.73it/s]\u001b[A\n",
            "  9%|▉         | 14665/166693 [00:03<00:37, 4085.68it/s]\u001b[A\n",
            "  9%|▉         | 15075/166693 [00:03<00:38, 3915.96it/s]\u001b[A\n",
            "  9%|▉         | 15496/166693 [00:03<00:37, 3998.69it/s]\u001b[A\n",
            " 10%|▉         | 15923/166693 [00:03<00:36, 4075.95it/s]\u001b[A\n",
            " 10%|▉         | 16348/166693 [00:03<00:36, 4124.97it/s]\u001b[A\n",
            " 10%|█         | 16762/166693 [00:04<00:37, 4023.30it/s]\u001b[A\n",
            " 10%|█         | 17166/166693 [00:04<00:38, 3902.57it/s]\u001b[A\n",
            " 11%|█         | 17581/166693 [00:04<00:37, 3972.64it/s]\u001b[A\n",
            " 11%|█         | 18009/166693 [00:04<00:36, 4059.02it/s]\u001b[A\n",
            " 11%|█         | 18435/166693 [00:04<00:36, 4114.94it/s]\u001b[A\n",
            " 11%|█▏        | 18868/166693 [00:04<00:35, 4175.71it/s]\u001b[A\n",
            " 12%|█▏        | 19287/166693 [00:04<00:35, 4124.25it/s]\u001b[A\n",
            " 12%|█▏        | 19701/166693 [00:04<00:36, 4034.31it/s]\u001b[A\n",
            " 12%|█▏        | 20115/166693 [00:04<00:36, 4064.93it/s]\u001b[A\n",
            " 12%|█▏        | 20570/166693 [00:05<00:34, 4199.17it/s]\u001b[A\n",
            " 13%|█▎        | 20997/166693 [00:05<00:34, 4219.97it/s]\u001b[A\n",
            " 13%|█▎        | 21421/166693 [00:05<00:34, 4162.59it/s]\u001b[A\n",
            " 13%|█▎        | 21840/166693 [00:05<00:34, 4170.37it/s]\u001b[A\n",
            " 13%|█▎        | 22258/166693 [00:05<00:34, 4165.26it/s]\u001b[A\n",
            " 14%|█▎        | 22676/166693 [00:05<00:34, 4134.56it/s]\u001b[A\n",
            " 14%|█▍        | 23096/166693 [00:05<00:34, 4152.30it/s]\u001b[A\n",
            " 14%|█▍        | 23512/166693 [00:05<00:34, 4146.28it/s]\u001b[A\n",
            " 14%|█▍        | 23930/166693 [00:05<00:34, 4155.96it/s]\u001b[A\n",
            " 15%|█▍        | 24373/166693 [00:05<00:33, 4234.23it/s]\u001b[A\n",
            " 15%|█▍        | 24797/166693 [00:06<00:33, 4232.48it/s]\u001b[A\n",
            " 15%|█▌        | 25221/166693 [00:06<00:33, 4197.81it/s]\u001b[A\n",
            " 15%|█▌        | 25642/166693 [00:06<00:34, 4100.09it/s]\u001b[A\n",
            " 16%|█▌        | 26053/166693 [00:06<00:34, 4095.08it/s]\u001b[A\n",
            " 16%|█▌        | 26464/166693 [00:06<00:35, 3972.96it/s]\u001b[A\n",
            " 16%|█▌        | 26891/166693 [00:06<00:34, 4056.43it/s]\u001b[A\n",
            " 16%|█▋        | 27302/166693 [00:06<00:34, 4070.95it/s]\u001b[A\n",
            " 17%|█▋        | 27710/166693 [00:06<00:35, 3919.65it/s]\u001b[A\n",
            " 17%|█▋        | 28104/166693 [00:06<00:36, 3808.24it/s]\u001b[A\n",
            " 17%|█▋        | 28489/166693 [00:06<00:36, 3818.65it/s]\u001b[A\n",
            " 17%|█▋        | 28914/166693 [00:07<00:34, 3937.96it/s]\u001b[A\n",
            " 18%|█▊        | 29319/166693 [00:07<00:34, 3970.91it/s]\u001b[A\n",
            " 18%|█▊        | 29718/166693 [00:07<00:34, 3944.89it/s]\u001b[A\n",
            " 18%|█▊        | 30114/166693 [00:07<00:34, 3914.20it/s]\u001b[A\n",
            " 18%|█▊        | 30540/166693 [00:07<00:33, 4010.70it/s]\u001b[A\n",
            " 19%|█▊        | 30943/166693 [00:07<00:33, 4003.60it/s]\u001b[A\n",
            " 19%|█▉        | 31345/166693 [00:07<00:33, 4003.15it/s]\u001b[A\n",
            " 19%|█▉        | 31770/166693 [00:07<00:33, 4073.07it/s]\u001b[A\n",
            " 19%|█▉        | 32198/166693 [00:07<00:32, 4131.29it/s]\u001b[A\n",
            " 20%|█▉        | 32613/166693 [00:07<00:32, 4136.47it/s]\u001b[A\n",
            " 20%|█▉        | 33034/166693 [00:08<00:32, 4157.27it/s]\u001b[A\n",
            " 20%|██        | 33461/166693 [00:08<00:31, 4189.48it/s]\u001b[A\n",
            " 20%|██        | 33881/166693 [00:08<00:33, 3982.35it/s]\u001b[A\n",
            " 21%|██        | 34303/166693 [00:08<00:32, 4049.37it/s]\u001b[A\n",
            " 21%|██        | 34718/166693 [00:08<00:32, 4077.38it/s]\u001b[A\n",
            " 21%|██        | 35128/166693 [00:08<00:32, 4048.21it/s]\u001b[A\n",
            " 21%|██▏       | 35534/166693 [00:08<00:32, 4043.65it/s]\u001b[A\n",
            " 22%|██▏       | 35963/166693 [00:08<00:31, 4112.61it/s]\u001b[A\n",
            " 22%|██▏       | 36384/166693 [00:08<00:31, 4140.12it/s]\u001b[A\n",
            " 22%|██▏       | 36809/166693 [00:08<00:31, 4169.92it/s]\u001b[A\n",
            " 22%|██▏       | 37227/166693 [00:09<00:32, 4009.71it/s]\u001b[A\n",
            " 23%|██▎       | 37630/166693 [00:09<00:32, 4015.19it/s]\u001b[A\n",
            " 23%|██▎       | 38033/166693 [00:09<00:33, 3889.15it/s]\u001b[A\n",
            " 23%|██▎       | 38461/166693 [00:09<00:32, 3998.26it/s]\u001b[A\n",
            " 23%|██▎       | 38896/166693 [00:09<00:31, 4094.45it/s]\u001b[A\n",
            " 24%|██▎       | 39318/166693 [00:09<00:30, 4129.01it/s]\u001b[A\n",
            " 24%|██▍       | 39733/166693 [00:09<00:31, 4044.79it/s]\u001b[A\n",
            " 24%|██▍       | 40139/166693 [00:09<00:31, 4031.03it/s]\u001b[A\n",
            " 24%|██▍       | 40579/166693 [00:09<00:30, 4133.35it/s]\u001b[A\n",
            " 25%|██▍       | 40994/166693 [00:10<00:30, 4086.92it/s]\u001b[A\n",
            " 25%|██▍       | 41410/166693 [00:10<00:30, 4107.10it/s]\u001b[A\n",
            " 25%|██▌       | 41828/166693 [00:10<00:30, 4127.88it/s]\u001b[A\n",
            " 25%|██▌       | 42242/166693 [00:10<00:30, 4058.34it/s]\u001b[A\n",
            " 26%|██▌       | 42655/166693 [00:10<00:30, 4078.55it/s]\u001b[A\n",
            " 26%|██▌       | 43069/166693 [00:10<00:30, 4095.36it/s]\u001b[A\n",
            " 26%|██▌       | 43479/166693 [00:10<00:30, 4084.55it/s]\u001b[A\n",
            " 26%|██▋       | 43905/166693 [00:10<00:29, 4135.06it/s]\u001b[A\n",
            " 27%|██▋       | 44319/166693 [00:10<00:29, 4095.87it/s]\u001b[A\n",
            " 27%|██▋       | 44729/166693 [00:10<00:30, 3998.99it/s]\u001b[A\n",
            " 27%|██▋       | 45140/166693 [00:11<00:30, 4031.19it/s]\u001b[A\n",
            " 27%|██▋       | 45560/166693 [00:11<00:29, 4080.38it/s]\u001b[A\n",
            " 28%|██▊       | 45982/166693 [00:11<00:29, 4120.47it/s]\u001b[A\n",
            " 28%|██▊       | 46395/166693 [00:11<00:30, 4006.08it/s]\u001b[A\n",
            " 28%|██▊       | 46805/166693 [00:11<00:29, 4032.62it/s]\u001b[A\n",
            " 28%|██▊       | 47210/166693 [00:11<00:29, 4019.86it/s]\u001b[A\n",
            " 29%|██▊       | 47619/166693 [00:11<00:29, 4039.82it/s]\u001b[A\n",
            " 29%|██▉       | 48037/166693 [00:11<00:29, 4080.75it/s]\u001b[A\n",
            " 29%|██▉       | 48446/166693 [00:11<00:29, 4038.07it/s]\u001b[A\n",
            " 29%|██▉       | 48877/166693 [00:11<00:28, 4114.26it/s]\u001b[A\n",
            " 30%|██▉       | 49293/166693 [00:12<00:28, 4127.79it/s]\u001b[A\n",
            " 30%|██▉       | 49707/166693 [00:12<00:28, 4106.45it/s]\u001b[A\n",
            " 30%|███       | 50118/166693 [00:12<00:28, 4047.06it/s]\u001b[A\n",
            " 30%|███       | 50524/166693 [00:12<00:29, 3938.35it/s]\u001b[A\n",
            " 31%|███       | 50919/166693 [00:12<00:29, 3891.83it/s]\u001b[A\n",
            " 31%|███       | 51312/166693 [00:12<00:29, 3901.36it/s]\u001b[A\n",
            " 31%|███       | 51747/166693 [00:12<00:28, 4025.61it/s]\u001b[A\n",
            " 31%|███▏      | 52155/166693 [00:12<00:28, 4040.21it/s]\u001b[A\n",
            " 32%|███▏      | 52582/166693 [00:12<00:27, 4106.14it/s]\u001b[A\n",
            " 32%|███▏      | 53011/166693 [00:12<00:27, 4158.16it/s]\u001b[A\n",
            " 32%|███▏      | 53439/166693 [00:13<00:27, 4193.41it/s]\u001b[A\n",
            " 32%|███▏      | 53859/166693 [00:13<00:27, 4074.42it/s]\u001b[A\n",
            " 33%|███▎      | 54268/166693 [00:13<00:28, 3997.73it/s]\u001b[A\n",
            " 33%|███▎      | 54678/166693 [00:13<00:27, 4026.93it/s]\u001b[A\n",
            " 33%|███▎      | 55107/166693 [00:13<00:27, 4100.62it/s]\u001b[A\n",
            " 33%|███▎      | 55518/166693 [00:13<00:27, 4074.11it/s]\u001b[A\n",
            " 34%|███▎      | 55934/166693 [00:13<00:27, 4097.40it/s]\u001b[A\n",
            " 34%|███▍      | 56345/166693 [00:13<00:27, 3960.00it/s]\u001b[A\n",
            " 34%|███▍      | 56751/166693 [00:13<00:27, 3986.37it/s]\u001b[A\n",
            " 34%|███▍      | 57156/166693 [00:14<00:27, 4003.14it/s]\u001b[A\n",
            " 35%|███▍      | 57578/166693 [00:14<00:26, 4064.08it/s]\u001b[A\n",
            " 35%|███▍      | 57986/166693 [00:14<00:26, 4067.84it/s]\u001b[A\n",
            " 35%|███▌      | 58394/166693 [00:14<00:27, 3996.03it/s]\u001b[A\n",
            " 35%|███▌      | 58796/166693 [00:14<00:26, 4002.52it/s]\u001b[A\n",
            " 36%|███▌      | 59217/166693 [00:14<00:26, 4062.39it/s]\u001b[A\n",
            " 36%|███▌      | 59630/166693 [00:14<00:26, 4081.92it/s]\u001b[A\n",
            " 36%|███▌      | 60039/166693 [00:14<00:26, 4047.20it/s]\u001b[A\n",
            " 36%|███▋      | 60445/166693 [00:14<00:26, 4048.01it/s]\u001b[A\n",
            " 37%|███▋      | 60871/166693 [00:14<00:25, 4108.75it/s]\u001b[A\n",
            " 37%|███▋      | 61285/166693 [00:15<00:25, 4115.45it/s]\u001b[A\n",
            " 37%|███▋      | 61697/166693 [00:15<00:26, 3956.59it/s]\u001b[A\n",
            " 37%|███▋      | 62111/166693 [00:15<00:26, 4008.72it/s]\u001b[A\n",
            " 38%|███▊      | 62549/166693 [00:15<00:25, 4110.71it/s]\u001b[A\n",
            " 38%|███▊      | 62962/166693 [00:15<00:25, 4067.12it/s]\u001b[A\n",
            " 38%|███▊      | 63370/166693 [00:15<00:25, 4054.66it/s]\u001b[A\n",
            " 38%|███▊      | 63790/166693 [00:15<00:25, 4096.25it/s]\u001b[A\n",
            " 39%|███▊      | 64201/166693 [00:15<00:25, 4036.66it/s]\u001b[A\n",
            " 39%|███▉      | 64625/166693 [00:15<00:24, 4095.02it/s]\u001b[A\n",
            " 39%|███▉      | 65064/166693 [00:15<00:24, 4177.97it/s]\u001b[A\n",
            " 39%|███▉      | 65483/166693 [00:16<00:24, 4169.19it/s]\u001b[A\n",
            " 40%|███▉      | 65901/166693 [00:16<00:24, 4092.31it/s]\u001b[A\n",
            " 40%|███▉      | 66311/166693 [00:16<00:24, 4027.42it/s]\u001b[A\n",
            " 40%|████      | 66715/166693 [00:16<00:25, 3860.98it/s]\u001b[A\n",
            " 40%|████      | 67104/166693 [00:16<00:25, 3838.61it/s]\u001b[A\n",
            " 40%|████      | 67493/166693 [00:16<00:25, 3851.03it/s]\u001b[A\n",
            " 41%|████      | 67895/166693 [00:16<00:25, 3899.54it/s]\u001b[A\n",
            " 41%|████      | 68314/166693 [00:16<00:24, 3980.81it/s]\u001b[A\n",
            " 41%|████      | 68714/166693 [00:16<00:24, 3934.91it/s]\u001b[A\n",
            " 41%|████▏     | 69109/166693 [00:17<00:26, 3714.41it/s]\u001b[A\n",
            " 42%|████▏     | 69504/166693 [00:17<00:25, 3781.49it/s]\u001b[A\n",
            " 42%|████▏     | 69907/166693 [00:17<00:25, 3850.85it/s]\u001b[A\n",
            " 42%|████▏     | 70305/166693 [00:17<00:24, 3887.45it/s]\u001b[A\n",
            " 42%|████▏     | 70696/166693 [00:17<00:26, 3620.44it/s]\u001b[A\n",
            " 43%|████▎     | 71112/166693 [00:17<00:25, 3766.67it/s]\u001b[A\n",
            " 43%|████▎     | 71516/166693 [00:17<00:24, 3843.20it/s]\u001b[A\n",
            " 43%|████▎     | 71919/166693 [00:17<00:24, 3896.56it/s]\u001b[A\n",
            " 43%|████▎     | 72331/166693 [00:17<00:23, 3958.66it/s]\u001b[A\n",
            " 44%|████▎     | 72743/166693 [00:17<00:23, 4004.42it/s]\u001b[A\n",
            " 44%|████▍     | 73146/166693 [00:18<00:23, 3983.89it/s]\u001b[A\n",
            " 44%|████▍     | 73546/166693 [00:18<00:23, 3978.75it/s]\u001b[A\n",
            " 44%|████▍     | 73954/166693 [00:18<00:23, 4008.23it/s]\u001b[A\n",
            " 45%|████▍     | 74368/166693 [00:18<00:22, 4045.25it/s]\u001b[A\n",
            " 45%|████▍     | 74774/166693 [00:18<00:23, 3832.61it/s]\u001b[A\n",
            " 45%|████▌     | 75160/166693 [00:18<00:25, 3593.99it/s]\u001b[A\n",
            " 45%|████▌     | 75541/166693 [00:18<00:24, 3655.81it/s]\u001b[A\n",
            " 46%|████▌     | 75979/166693 [00:18<00:23, 3845.79it/s]\u001b[A\n",
            " 46%|████▌     | 76380/166693 [00:18<00:23, 3892.79it/s]\u001b[A\n",
            " 46%|████▌     | 76798/166693 [00:18<00:22, 3972.77it/s]\u001b[A\n",
            " 46%|████▋     | 77218/166693 [00:19<00:22, 4037.56it/s]\u001b[A\n",
            " 47%|████▋     | 77639/166693 [00:19<00:21, 4087.16it/s]\u001b[A\n",
            " 47%|████▋     | 78050/166693 [00:19<00:21, 4079.16it/s]\u001b[A\n",
            " 47%|████▋     | 78460/166693 [00:19<00:22, 3902.61it/s]\u001b[A\n",
            " 47%|████▋     | 78853/166693 [00:19<00:22, 3874.57it/s]\u001b[A\n",
            " 48%|████▊     | 79261/166693 [00:19<00:22, 3933.33it/s]\u001b[A\n",
            " 48%|████▊     | 79696/166693 [00:19<00:21, 4048.29it/s]\u001b[A\n",
            " 48%|████▊     | 80103/166693 [00:19<00:21, 4000.50it/s]\u001b[A\n",
            " 48%|████▊     | 80511/166693 [00:19<00:21, 4023.04it/s]\u001b[A\n",
            " 49%|████▊     | 80928/166693 [00:20<00:21, 4065.27it/s]\u001b[A\n",
            " 49%|████▉     | 81336/166693 [00:20<00:21, 4039.50it/s]\u001b[A\n",
            " 49%|████▉     | 81741/166693 [00:20<00:21, 3961.95it/s]\u001b[A\n",
            " 49%|████▉     | 82141/166693 [00:20<00:21, 3973.10it/s]\u001b[A\n",
            " 50%|████▉     | 82539/166693 [00:20<00:21, 3891.82it/s]\u001b[A\n",
            " 50%|████▉     | 82929/166693 [00:20<00:21, 3825.61it/s]\u001b[A\n",
            " 50%|████▉     | 83313/166693 [00:20<00:21, 3817.25it/s]\u001b[A\n",
            " 50%|█████     | 83713/166693 [00:20<00:21, 3867.46it/s]\u001b[A\n",
            " 50%|█████     | 84143/166693 [00:20<00:20, 3986.12it/s]\u001b[A\n",
            " 51%|█████     | 84549/166693 [00:20<00:20, 4005.82it/s]\u001b[A\n",
            " 51%|█████     | 84951/166693 [00:21<00:20, 3949.12it/s]\u001b[A\n",
            " 51%|█████     | 85347/166693 [00:21<00:21, 3860.43it/s]\u001b[A\n",
            " 51%|█████▏    | 85738/166693 [00:21<00:20, 3874.96it/s]\u001b[A\n",
            " 52%|█████▏    | 86127/166693 [00:21<00:20, 3846.54it/s]\u001b[A\n",
            " 52%|█████▏    | 86513/166693 [00:21<00:21, 3808.98it/s]\u001b[A\n",
            " 52%|█████▏    | 86895/166693 [00:21<00:20, 3801.78it/s]\u001b[A\n",
            " 52%|█████▏    | 87285/166693 [00:21<00:20, 3830.72it/s]\u001b[A\n",
            " 53%|█████▎    | 87693/166693 [00:21<00:20, 3901.48it/s]\u001b[A\n",
            " 53%|█████▎    | 88112/166693 [00:21<00:19, 3982.38it/s]\u001b[A\n",
            " 53%|█████▎    | 88519/166693 [00:21<00:19, 4007.73it/s]\u001b[A\n",
            " 53%|█████▎    | 88945/166693 [00:22<00:19, 4080.01it/s]\u001b[A\n",
            " 54%|█████▎    | 89354/166693 [00:22<00:19, 4023.84it/s]\u001b[A\n",
            " 54%|█████▍    | 89762/166693 [00:22<00:19, 4038.71it/s]\u001b[A\n",
            " 54%|█████▍    | 90175/166693 [00:22<00:18, 4065.66it/s]\u001b[A\n",
            " 54%|█████▍    | 90582/166693 [00:22<00:18, 4021.10it/s]\u001b[A\n",
            " 55%|█████▍    | 90985/166693 [00:22<00:19, 3964.57it/s]\u001b[A\n",
            " 55%|█████▍    | 91410/166693 [00:22<00:18, 4045.63it/s]\u001b[A\n",
            " 55%|█████▌    | 91842/166693 [00:22<00:18, 4121.99it/s]\u001b[A\n",
            " 55%|█████▌    | 92256/166693 [00:22<00:18, 4111.53it/s]\u001b[A\n",
            " 56%|█████▌    | 92668/166693 [00:22<00:18, 4014.51it/s]\u001b[A\n",
            " 56%|█████▌    | 93071/166693 [00:23<00:18, 4017.53it/s]\u001b[A\n",
            " 56%|█████▌    | 93493/166693 [00:23<00:17, 4075.41it/s]\u001b[A\n",
            " 56%|█████▋    | 93902/166693 [00:23<00:18, 3983.54it/s]\u001b[A\n",
            " 57%|█████▋    | 94302/166693 [00:23<00:19, 3785.42it/s]\u001b[A\n",
            " 57%|█████▋    | 94684/166693 [00:23<00:19, 3775.71it/s]\u001b[A\n",
            " 57%|█████▋    | 95095/166693 [00:23<00:18, 3868.53it/s]\u001b[A\n",
            " 57%|█████▋    | 95502/166693 [00:23<00:18, 3922.35it/s]\u001b[A\n",
            " 58%|█████▊    | 95901/166693 [00:23<00:17, 3941.13it/s]\u001b[A\n",
            " 58%|█████▊    | 96297/166693 [00:23<00:18, 3810.42it/s]\u001b[A\n",
            " 58%|█████▊    | 96686/166693 [00:24<00:18, 3832.41it/s]\u001b[A\n",
            " 58%|█████▊    | 97098/166693 [00:24<00:17, 3912.37it/s]\u001b[A\n",
            " 58%|█████▊    | 97503/166693 [00:24<00:17, 3951.50it/s]\u001b[A\n",
            " 59%|█████▊    | 97909/166693 [00:24<00:17, 3981.67it/s]\u001b[A\n",
            " 59%|█████▉    | 98321/166693 [00:24<00:17, 4021.26it/s]\u001b[A\n",
            " 59%|█████▉    | 98724/166693 [00:24<00:16, 4003.69it/s]\u001b[A\n",
            " 59%|█████▉    | 99125/166693 [00:24<00:17, 3794.66it/s]\u001b[A\n",
            " 60%|█████▉    | 99537/166693 [00:24<00:17, 3885.07it/s]\u001b[A\n",
            " 60%|█████▉    | 99947/166693 [00:24<00:16, 3945.17it/s]\u001b[A\n",
            " 60%|██████    | 100367/166693 [00:24<00:16, 4017.19it/s]\u001b[A\n",
            " 60%|██████    | 100777/166693 [00:25<00:16, 4041.09it/s]\u001b[A\n",
            " 61%|██████    | 101183/166693 [00:25<00:16, 4021.14it/s]\u001b[A\n",
            " 61%|██████    | 101586/166693 [00:25<00:16, 3991.53it/s]\u001b[A\n",
            " 61%|██████    | 101986/166693 [00:25<00:16, 3969.35it/s]\u001b[A\n",
            " 61%|██████▏   | 102384/166693 [00:25<00:16, 3900.96it/s]\u001b[A\n",
            " 62%|██████▏   | 102775/166693 [00:26<00:58, 1085.24it/s]\u001b[A\n",
            " 62%|██████▏   | 103184/166693 [00:26<00:45, 1391.97it/s]\u001b[A\n",
            " 62%|██████▏   | 103560/166693 [00:26<00:36, 1715.88it/s]\u001b[A\n",
            " 62%|██████▏   | 103964/166693 [00:26<00:30, 2073.75it/s]\u001b[A\n",
            " 63%|██████▎   | 104385/166693 [00:26<00:25, 2444.71it/s]\u001b[A\n",
            " 63%|██████▎   | 104809/166693 [00:26<00:22, 2799.79it/s]\u001b[A\n",
            " 63%|██████▎   | 105200/166693 [00:27<00:20, 2974.79it/s]\u001b[A\n",
            " 63%|██████▎   | 105578/166693 [00:27<00:19, 3127.34it/s]\u001b[A\n",
            " 64%|██████▎   | 105994/166693 [00:27<00:17, 3376.06it/s]\u001b[A\n",
            " 64%|██████▍   | 106379/166693 [00:27<00:17, 3476.80it/s]\u001b[A\n",
            " 64%|██████▍   | 106771/166693 [00:27<00:16, 3596.79it/s]\u001b[A\n",
            " 64%|██████▍   | 107161/166693 [00:27<00:16, 3681.33it/s]\u001b[A\n",
            " 65%|██████▍   | 107556/166693 [00:27<00:15, 3756.92it/s]\u001b[A\n",
            " 65%|██████▍   | 107945/166693 [00:27<00:15, 3673.79it/s]\u001b[A\n",
            " 65%|██████▍   | 108337/166693 [00:27<00:15, 3744.32it/s]\u001b[A\n",
            " 65%|██████▌   | 108760/166693 [00:27<00:14, 3876.91it/s]\u001b[A\n",
            " 65%|██████▌   | 109174/166693 [00:28<00:14, 3951.97it/s]\u001b[A\n",
            " 66%|██████▌   | 109579/166693 [00:28<00:14, 3979.91it/s]\u001b[A\n",
            " 66%|██████▌   | 109981/166693 [00:28<00:14, 3954.34it/s]\u001b[A\n",
            " 66%|██████▌   | 110379/166693 [00:28<00:14, 3889.57it/s]\u001b[A\n",
            " 66%|██████▋   | 110770/166693 [00:28<00:15, 3672.12it/s]\u001b[A\n",
            " 67%|██████▋   | 111142/166693 [00:28<00:15, 3490.54it/s]\u001b[A\n",
            " 67%|██████▋   | 111520/166693 [00:28<00:15, 3571.18it/s]\u001b[A\n",
            " 67%|██████▋   | 111901/166693 [00:28<00:15, 3638.58it/s]\u001b[A\n",
            " 67%|██████▋   | 112272/166693 [00:28<00:14, 3658.12it/s]\u001b[A\n",
            " 68%|██████▊   | 112651/166693 [00:29<00:14, 3696.24it/s]\u001b[A\n",
            " 68%|██████▊   | 113023/166693 [00:29<00:15, 3568.24it/s]\u001b[A\n",
            " 68%|██████▊   | 113382/166693 [00:29<00:14, 3561.65it/s]\u001b[A\n",
            " 68%|██████▊   | 113760/166693 [00:29<00:14, 3622.15it/s]\u001b[A\n",
            " 68%|██████▊   | 114124/166693 [00:29<00:14, 3611.68it/s]\u001b[A\n",
            " 69%|██████▊   | 114487/166693 [00:29<00:14, 3585.64it/s]\u001b[A\n",
            " 69%|██████▉   | 114847/166693 [00:29<00:15, 3380.08it/s]\u001b[A\n",
            " 69%|██████▉   | 115188/166693 [00:29<00:15, 3302.52it/s]\u001b[A\n",
            " 69%|██████▉   | 115521/166693 [00:29<00:15, 3272.17it/s]\u001b[A\n",
            " 70%|██████▉   | 115897/166693 [00:29<00:14, 3402.70it/s]\u001b[A\n",
            " 70%|██████▉   | 116274/166693 [00:30<00:14, 3504.85it/s]\u001b[A\n",
            " 70%|██████▉   | 116655/166693 [00:30<00:13, 3590.11it/s]\u001b[A\n",
            " 70%|███████   | 117035/166693 [00:30<00:13, 3649.10it/s]\u001b[A\n",
            " 70%|███████   | 117402/166693 [00:30<00:13, 3645.60it/s]\u001b[A\n",
            " 71%|███████   | 117768/166693 [00:30<00:13, 3516.18it/s]\u001b[A\n",
            " 71%|███████   | 118122/166693 [00:30<00:13, 3505.99it/s]\u001b[A\n",
            " 71%|███████   | 118474/166693 [00:30<00:13, 3503.55it/s]\u001b[A\n",
            " 71%|███████▏  | 118840/166693 [00:30<00:13, 3548.04it/s]\u001b[A\n",
            " 72%|███████▏  | 119196/166693 [00:30<00:13, 3549.32it/s]\u001b[A\n",
            " 72%|███████▏  | 119585/166693 [00:30<00:12, 3644.47it/s]\u001b[A\n",
            " 72%|███████▏  | 119951/166693 [00:31<00:13, 3571.14it/s]\u001b[A\n",
            " 72%|███████▏  | 120316/166693 [00:31<00:12, 3594.30it/s]\u001b[A\n",
            " 72%|███████▏  | 120679/166693 [00:31<00:12, 3603.16it/s]\u001b[A\n",
            " 73%|███████▎  | 121048/166693 [00:31<00:12, 3627.40it/s]\u001b[A\n",
            " 73%|███████▎  | 121423/166693 [00:31<00:12, 3662.33it/s]\u001b[A\n",
            " 73%|███████▎  | 121790/166693 [00:31<00:12, 3611.12it/s]\u001b[A\n",
            " 73%|███████▎  | 122152/166693 [00:31<00:12, 3496.76it/s]\u001b[A\n",
            " 74%|███████▎  | 122523/166693 [00:31<00:12, 3555.83it/s]\u001b[A\n",
            " 74%|███████▎  | 122883/166693 [00:31<00:12, 3568.24it/s]\u001b[A\n",
            " 74%|███████▍  | 123259/166693 [00:31<00:11, 3622.68it/s]\u001b[A\n",
            " 74%|███████▍  | 123639/166693 [00:32<00:11, 3674.06it/s]\u001b[A\n",
            " 74%|███████▍  | 124016/166693 [00:32<00:11, 3700.85it/s]\u001b[A\n",
            " 75%|███████▍  | 124387/166693 [00:32<00:11, 3558.33it/s]\u001b[A\n",
            " 75%|███████▍  | 124745/166693 [00:32<00:11, 3531.03it/s]\u001b[A\n",
            " 75%|███████▌  | 125101/166693 [00:32<00:11, 3539.19it/s]\u001b[A\n",
            " 75%|███████▌  | 125456/166693 [00:32<00:11, 3526.64it/s]\u001b[A\n",
            " 75%|███████▌  | 125810/166693 [00:32<00:11, 3441.63it/s]\u001b[A\n",
            " 76%|███████▌  | 126156/166693 [00:32<00:12, 3325.73it/s]\u001b[A\n",
            " 76%|███████▌  | 126525/166693 [00:32<00:11, 3425.97it/s]\u001b[A\n",
            " 76%|███████▌  | 126903/166693 [00:33<00:11, 3523.87it/s]\u001b[A\n",
            " 76%|███████▋  | 127282/166693 [00:33<00:10, 3599.51it/s]\u001b[A\n",
            " 77%|███████▋  | 127665/166693 [00:33<00:10, 3665.53it/s]\u001b[A\n",
            " 77%|███████▋  | 128038/166693 [00:33<00:10, 3683.81it/s]\u001b[A\n",
            " 77%|███████▋  | 128408/166693 [00:33<00:10, 3554.25it/s]\u001b[A\n",
            " 77%|███████▋  | 128771/166693 [00:33<00:10, 3575.93it/s]\u001b[A\n",
            " 77%|███████▋  | 129145/166693 [00:33<00:10, 3620.80it/s]\u001b[A\n",
            " 78%|███████▊  | 129512/166693 [00:33<00:10, 3633.85it/s]\u001b[A\n",
            " 78%|███████▊  | 129906/166693 [00:33<00:09, 3718.01it/s]\u001b[A\n",
            " 78%|███████▊  | 130279/166693 [00:33<00:10, 3605.10it/s]\u001b[A\n",
            " 78%|███████▊  | 130641/166693 [00:34<00:10, 3580.90it/s]\u001b[A\n",
            " 79%|███████▊  | 131013/166693 [00:34<00:09, 3620.04it/s]\u001b[A\n",
            " 79%|███████▉  | 131382/166693 [00:34<00:09, 3638.88it/s]\u001b[A\n",
            " 79%|███████▉  | 131747/166693 [00:34<00:09, 3623.43it/s]\u001b[A\n",
            " 79%|███████▉  | 132110/166693 [00:34<00:09, 3622.14it/s]\u001b[A\n",
            " 79%|███████▉  | 132473/166693 [00:34<00:09, 3538.97it/s]\u001b[A\n",
            " 80%|███████▉  | 132828/166693 [00:34<00:10, 3379.88it/s]\u001b[A\n",
            " 80%|███████▉  | 133175/166693 [00:34<00:09, 3406.17it/s]\u001b[A\n",
            " 80%|████████  | 133547/166693 [00:34<00:09, 3492.88it/s]\u001b[A\n",
            " 80%|████████  | 133898/166693 [00:34<00:09, 3473.65it/s]\u001b[A\n",
            " 81%|████████  | 134248/166693 [00:35<00:09, 3481.12it/s]\u001b[A\n",
            " 81%|████████  | 134597/166693 [00:35<00:09, 3464.76it/s]\u001b[A\n",
            " 81%|████████  | 134952/166693 [00:35<00:09, 3488.91it/s]\u001b[A\n",
            " 81%|████████  | 135339/166693 [00:35<00:08, 3593.18it/s]\u001b[A\n",
            " 81%|████████▏ | 135701/166693 [00:35<00:08, 3600.18it/s]\u001b[A\n",
            " 82%|████████▏ | 136072/166693 [00:35<00:08, 3630.63it/s]\u001b[A\n",
            " 82%|████████▏ | 136436/166693 [00:35<00:08, 3507.52it/s]\u001b[A\n",
            " 82%|████████▏ | 136825/166693 [00:35<00:08, 3612.06it/s]\u001b[A\n",
            " 82%|████████▏ | 137213/166693 [00:35<00:07, 3687.78it/s]\u001b[A\n",
            " 83%|████████▎ | 137586/166693 [00:36<00:07, 3698.22it/s]\u001b[A\n",
            " 83%|████████▎ | 137957/166693 [00:36<00:07, 3676.55it/s]\u001b[A\n",
            " 83%|████████▎ | 138326/166693 [00:36<00:08, 3530.48it/s]\u001b[A\n",
            " 83%|████████▎ | 138690/166693 [00:36<00:07, 3562.52it/s]\u001b[A\n",
            " 83%|████████▎ | 139074/166693 [00:36<00:07, 3640.34it/s]\u001b[A\n",
            " 84%|████████▎ | 139456/166693 [00:36<00:07, 3691.86it/s]\u001b[A\n",
            " 84%|████████▍ | 139827/166693 [00:36<00:07, 3588.30it/s]\u001b[A\n",
            " 84%|████████▍ | 140188/166693 [00:36<00:07, 3466.37it/s]\u001b[A\n",
            " 84%|████████▍ | 140542/166693 [00:36<00:07, 3486.37it/s]\u001b[A\n",
            " 85%|████████▍ | 140910/166693 [00:36<00:07, 3541.71it/s]\u001b[A\n",
            " 85%|████████▍ | 141296/166693 [00:37<00:06, 3631.20it/s]\u001b[A\n",
            " 85%|████████▍ | 141670/166693 [00:37<00:06, 3661.74it/s]\u001b[A\n",
            " 85%|████████▌ | 142038/166693 [00:37<00:06, 3531.80it/s]\u001b[A\n",
            " 85%|████████▌ | 142409/166693 [00:37<00:06, 3582.84it/s]\u001b[A\n",
            " 86%|████████▌ | 142796/166693 [00:37<00:06, 3663.32it/s]\u001b[A\n",
            " 86%|████████▌ | 143164/166693 [00:37<00:06, 3636.35it/s]\u001b[A\n",
            " 86%|████████▌ | 143529/166693 [00:37<00:06, 3608.08it/s]\u001b[A\n",
            " 86%|████████▋ | 143891/166693 [00:37<00:06, 3579.98it/s]\u001b[A\n",
            " 87%|████████▋ | 144250/166693 [00:37<00:06, 3501.04it/s]\u001b[A\n",
            " 87%|████████▋ | 144655/166693 [00:37<00:06, 3647.56it/s]\u001b[A\n",
            " 87%|████████▋ | 145022/166693 [00:38<00:06, 3479.28it/s]\u001b[A\n",
            " 87%|████████▋ | 145402/166693 [00:38<00:05, 3568.41it/s]\u001b[A\n",
            " 87%|████████▋ | 145762/166693 [00:38<00:05, 3549.79it/s]\u001b[A\n",
            " 88%|████████▊ | 146130/166693 [00:38<00:05, 3586.06it/s]\u001b[A\n",
            " 88%|████████▊ | 146491/166693 [00:38<00:05, 3567.01it/s]\u001b[A\n",
            " 88%|████████▊ | 146854/166693 [00:38<00:05, 3583.48it/s]\u001b[A\n",
            " 88%|████████▊ | 147222/166693 [00:38<00:05, 3609.89it/s]\u001b[A\n",
            " 89%|████████▊ | 147584/166693 [00:38<00:05, 3578.61it/s]\u001b[A\n",
            " 89%|████████▉ | 148013/166693 [00:38<00:04, 3764.80it/s]\u001b[A\n",
            " 89%|████████▉ | 148431/166693 [00:39<00:04, 3879.62it/s]\u001b[A\n",
            " 89%|████████▉ | 148822/166693 [00:39<00:04, 3865.46it/s]\u001b[A\n",
            " 90%|████████▉ | 149211/166693 [00:39<00:04, 3842.18it/s]\u001b[A\n",
            " 90%|████████▉ | 149643/166693 [00:39<00:04, 3973.05it/s]\u001b[A\n",
            " 90%|█████████ | 150056/166693 [00:39<00:04, 4016.93it/s]\u001b[A\n",
            " 90%|█████████ | 150486/166693 [00:39<00:03, 4096.83it/s]\u001b[A\n",
            " 91%|█████████ | 150898/166693 [00:39<00:03, 4057.47it/s]\u001b[A\n",
            " 91%|█████████ | 151305/166693 [00:39<00:03, 3929.96it/s]\u001b[A\n",
            " 91%|█████████ | 151700/166693 [00:39<00:03, 3859.32it/s]\u001b[A\n",
            " 91%|█████████▏| 152125/166693 [00:39<00:03, 3966.73it/s]\u001b[A\n",
            " 92%|█████████▏| 152577/166693 [00:40<00:03, 4114.59it/s]\u001b[A\n",
            " 92%|█████████▏| 152992/166693 [00:40<00:03, 3998.72it/s]\u001b[A\n",
            " 92%|█████████▏| 153395/166693 [00:40<00:03, 3793.56it/s]\u001b[A\n",
            " 92%|█████████▏| 153779/166693 [00:40<00:03, 3755.38it/s]\u001b[A\n",
            " 92%|█████████▏| 154166/166693 [00:40<00:03, 3788.60it/s]\u001b[A\n",
            " 93%|█████████▎| 154549/166693 [00:40<00:03, 3799.35it/s]\u001b[A\n",
            " 93%|█████████▎| 154931/166693 [00:40<00:03, 3781.94it/s]\u001b[A\n",
            " 93%|█████████▎| 155336/166693 [00:40<00:02, 3855.90it/s]\u001b[A\n",
            " 93%|█████████▎| 155735/166693 [00:40<00:02, 3893.97it/s]\u001b[A\n",
            " 94%|█████████▎| 156164/166693 [00:40<00:02, 4003.30it/s]\u001b[A\n",
            " 94%|█████████▍| 156571/166693 [00:41<00:02, 4019.82it/s]\u001b[A\n",
            " 94%|█████████▍| 157000/166693 [00:41<00:02, 4095.84it/s]\u001b[A\n",
            " 94%|█████████▍| 157411/166693 [00:41<00:02, 4011.86it/s]\u001b[A\n",
            " 95%|█████████▍| 157814/166693 [00:41<00:02, 4016.54it/s]\u001b[A\n",
            " 95%|█████████▍| 158248/166693 [00:41<00:02, 4107.49it/s]\u001b[A\n",
            " 95%|█████████▌| 158660/166693 [00:41<00:01, 4061.18it/s]\u001b[A\n",
            " 95%|█████████▌| 159067/166693 [00:41<00:01, 4005.05it/s]\u001b[A\n",
            " 96%|█████████▌| 159493/166693 [00:41<00:01, 4078.11it/s]\u001b[A\n",
            " 96%|█████████▌| 159902/166693 [00:41<00:01, 4059.11it/s]\u001b[A\n",
            " 96%|█████████▌| 160309/166693 [00:41<00:01, 4051.69it/s]\u001b[A\n",
            " 96%|█████████▋| 160715/166693 [00:42<00:01, 3969.92it/s]\u001b[A\n",
            " 97%|█████████▋| 161114/166693 [00:42<00:01, 3974.93it/s]\u001b[A\n",
            " 97%|█████████▋| 161517/166693 [00:42<00:01, 3989.79it/s]\u001b[A\n",
            " 97%|█████████▋| 161937/166693 [00:42<00:01, 4048.50it/s]\u001b[A\n",
            " 97%|█████████▋| 162343/166693 [00:42<00:01, 4020.86it/s]\u001b[A\n",
            " 98%|█████████▊| 162746/166693 [00:42<00:01, 3861.78it/s]\u001b[A\n",
            " 98%|█████████▊| 163180/166693 [00:42<00:00, 3991.99it/s]\u001b[A\n",
            " 98%|█████████▊| 163592/166693 [00:42<00:00, 4026.41it/s]\u001b[A\n",
            " 98%|█████████▊| 163997/166693 [00:42<00:00, 3934.82it/s]\u001b[A\n",
            " 99%|█████████▊| 164399/166693 [00:43<00:00, 3958.06it/s]\u001b[A\n",
            " 99%|█████████▉| 164828/166693 [00:43<00:00, 4050.45it/s]\u001b[A\n",
            " 99%|█████████▉| 165235/166693 [00:43<00:00, 3948.28it/s]\u001b[A\n",
            " 99%|█████████▉| 165632/166693 [00:43<00:00, 3847.02it/s]\u001b[A\n",
            "100%|█████████▉| 166054/166693 [00:43<00:00, 3951.34it/s]\u001b[A\n",
            "100%|██████████| 166693/166693 [00:43<00:00, 3821.92it/s]\n"
          ],
          "name": "stderr"
        }
      ]
    },
    {
      "cell_type": "code",
      "metadata": {
        "id": "D3gp5t6lL4Ae",
        "colab": {
          "base_uri": "https://localhost:8080/"
        },
        "outputId": "04f29871-b8bb-4576-aa00-f403803b9a95"
      },
      "source": [
        "pd.set_option(\"max_colwidth\", -1)\n",
        "\n",
        "original_train_df_length = len(df)\n",
        "df = df[df['search_term_tokens'].notnull()]\n",
        "len(df)/original_train_df_length"
      ],
      "execution_count": 94,
      "outputs": [
        {
          "output_type": "execute_result",
          "data": {
            "text/plain": [
              "1.0"
            ]
          },
          "metadata": {
            "tags": []
          },
          "execution_count": 94
        }
      ]
    },
    {
      "cell_type": "code",
      "metadata": {
        "colab": {
          "base_uri": "https://localhost:8080/",
          "height": 193
        },
        "id": "f3eVXii3JfNI",
        "outputId": "1c9b0dc3-f3ee-438b-ad3d-1b1d632bb68c"
      },
      "source": [
        "df.sample(3)"
      ],
      "execution_count": 39,
      "outputs": [
        {
          "output_type": "execute_result",
          "data": {
            "text/html": [
              "<div>\n",
              "<style scoped>\n",
              "    .dataframe tbody tr th:only-of-type {\n",
              "        vertical-align: middle;\n",
              "    }\n",
              "\n",
              "    .dataframe tbody tr th {\n",
              "        vertical-align: top;\n",
              "    }\n",
              "\n",
              "    .dataframe thead th {\n",
              "        text-align: right;\n",
              "    }\n",
              "</style>\n",
              "<table border=\"1\" class=\"dataframe\">\n",
              "  <thead>\n",
              "    <tr style=\"text-align: right;\">\n",
              "      <th></th>\n",
              "      <th>id</th>\n",
              "      <th>product_uid</th>\n",
              "      <th>product_title</th>\n",
              "      <th>search_term</th>\n",
              "      <th>relevance</th>\n",
              "      <th>product_title_tokens</th>\n",
              "      <th>search_term_tokens</th>\n",
              "    </tr>\n",
              "  </thead>\n",
              "  <tbody>\n",
              "    <tr>\n",
              "      <th>35389</th>\n",
              "      <td>108225</td>\n",
              "      <td>135035</td>\n",
              "      <td>Anchor Premium Single Stage Counter Top Water Filtration System in Clear</td>\n",
              "      <td>counter tops connection</td>\n",
              "      <td>1.67</td>\n",
              "      <td>[101, 8133, 12882, 2309, 2754, 4675, 2327, 2300, 10882, 7096, 8156, 2291, 1999, 3154, 102]</td>\n",
              "      <td>[101, 4675, 13284, 4434, 102]</td>\n",
              "    </tr>\n",
              "    <tr>\n",
              "      <th>50213</th>\n",
              "      <td>152468</td>\n",
              "      <td>157472</td>\n",
              "      <td>Razor-Back 44 in. Fiberglass Handle Clean-Out Shovel</td>\n",
              "      <td>clean out</td>\n",
              "      <td>2.67</td>\n",
              "      <td>[101, 15082, 1011, 2067, 4008, 1999, 1012, 11917, 15621, 5047, 4550, 1011, 2041, 24596, 102]</td>\n",
              "      <td>[101, 4550, 2041, 102, 0]</td>\n",
              "    </tr>\n",
              "    <tr>\n",
              "      <th>70601</th>\n",
              "      <td>211468</td>\n",
              "      <td>198186</td>\n",
              "      <td>Lynch Sign 10 in. x 7 in. Blue on White Plastic Please Pay When Ordering Sign</td>\n",
              "      <td>please flush sign</td>\n",
              "      <td>1.67</td>\n",
              "      <td>[101, 11404, 3696, 2184, 1999, 1012, 1060, 1021, 1999, 1012, 2630, 2006, 2317, 6081, 102]</td>\n",
              "      <td>[101, 3531, 13862, 3696, 102]</td>\n",
              "    </tr>\n",
              "  </tbody>\n",
              "</table>\n",
              "</div>"
            ],
            "text/plain": [
              "           id  ...             search_term_tokens\n",
              "35389  108225  ...  [101, 4675, 13284, 4434, 102]\n",
              "50213  152468  ...  [101, 4550, 2041, 102, 0]    \n",
              "70601  211468  ...  [101, 3531, 13862, 3696, 102]\n",
              "\n",
              "[3 rows x 7 columns]"
            ]
          },
          "metadata": {
            "tags": []
          },
          "execution_count": 39
        }
      ]
    },
    {
      "cell_type": "code",
      "metadata": {
        "id": "avWAdjfoKyoi",
        "colab": {
          "base_uri": "https://localhost:8080/"
        },
        "outputId": "ff141b55-5cbf-44b8-984e-52c964ea678c"
      },
      "source": [
        "\n",
        "relevance_values = pd.unique(df['relevance']).tolist()\n",
        "\n",
        "relevance_map = {relevance: index for (index, relevance) in enumerate(relevance_values)}\n",
        "num_of_classes = len(relevance_map)\n",
        "relevance_map, num_of_classes"
      ],
      "execution_count": 95,
      "outputs": [
        {
          "output_type": "execute_result",
          "data": {
            "text/plain": [
              "({1.0: 5,\n",
              "  1.25: 8,\n",
              "  1.33: 7,\n",
              "  1.5: 11,\n",
              "  1.67: 6,\n",
              "  1.75: 10,\n",
              "  2.0: 4,\n",
              "  2.25: 12,\n",
              "  2.33: 2,\n",
              "  2.5: 1,\n",
              "  2.67: 3,\n",
              "  2.75: 9,\n",
              "  3.0: 0},\n",
              " 13)"
            ]
          },
          "metadata": {
            "tags": []
          },
          "execution_count": 95
        }
      ]
    },
    {
      "cell_type": "code",
      "metadata": {
        "id": "aoNQJXA_NcFN",
        "colab": {
          "base_uri": "https://localhost:8080/"
        },
        "outputId": "a0dfd4d7-3c4b-479c-9e29-f02daafb2092"
      },
      "source": [
        "cls_to_score = {cls: score for (score, cls) in relevance_map.items()}\n",
        "cls_to_score\n"
      ],
      "execution_count": 96,
      "outputs": [
        {
          "output_type": "execute_result",
          "data": {
            "text/plain": [
              "{0: 3.0,\n",
              " 1: 2.5,\n",
              " 2: 2.33,\n",
              " 3: 2.67,\n",
              " 4: 2.0,\n",
              " 5: 1.0,\n",
              " 6: 1.67,\n",
              " 7: 1.33,\n",
              " 8: 1.25,\n",
              " 9: 2.75,\n",
              " 10: 1.75,\n",
              " 11: 1.5,\n",
              " 12: 2.25}"
            ]
          },
          "metadata": {
            "tags": []
          },
          "execution_count": 96
        }
      ]
    },
    {
      "cell_type": "code",
      "metadata": {
        "id": "KyjfyQmxMA28",
        "colab": {
          "base_uri": "https://localhost:8080/"
        },
        "outputId": "5af10b08-6757-44ec-b318-d7ab8805ab19"
      },
      "source": [
        "\n",
        "df['relevance_class'] = df['relevance'].apply(lambda relevance: relevance_map[relevance])\n",
        "pd.unique(df['relevance_class'])\n"
      ],
      "execution_count": 97,
      "outputs": [
        {
          "output_type": "execute_result",
          "data": {
            "text/plain": [
              "array([ 0,  1,  2,  3,  4,  5,  6,  7,  8,  9, 10, 11, 12])"
            ]
          },
          "metadata": {
            "tags": []
          },
          "execution_count": 97
        }
      ]
    },
    {
      "cell_type": "code",
      "metadata": {
        "id": "Q0DjFymeMqeK",
        "colab": {
          "base_uri": "https://localhost:8080/",
          "height": 283
        },
        "outputId": "b2f63fce-66a6-43f8-eb8b-97a466a2e2b5"
      },
      "source": [
        "ax = sns.countplot(x=\"relevance_class\", data=df)\n"
      ],
      "execution_count": 98,
      "outputs": [
        {
          "output_type": "display_data",
          "data": {
            "image/png": "[encoded data removed]",
            "text/plain": [
              "<Figure size 432x288 with 1 Axes>"
            ]
          },
          "metadata": {
            "tags": [],
            "needs_background": "light"
          }
        }
      ]
    },
    {
      "cell_type": "code",
      "metadata": {
        "colab": {
          "base_uri": "https://localhost:8080/"
        },
        "id": "-MnkT1xzONVQ",
        "outputId": "26e1f05d-c20e-4c36-e145-a393ca491602"
      },
      "source": [
        "num_of_classes = len(pd.unique(df['relevance_class']))\n",
        "num_of_classes"
      ],
      "execution_count": 99,
      "outputs": [
        {
          "output_type": "execute_result",
          "data": {
            "text/plain": [
              "13"
            ]
          },
          "metadata": {
            "tags": []
          },
          "execution_count": 99
        }
      ]
    },
    {
      "cell_type": "code",
      "metadata": {
        "id": "xYRLs4MfNRpz"
      },
      "source": [
        ""
      ],
      "execution_count": null,
      "outputs": []
    },
    {
      "cell_type": "code",
      "metadata": {
        "id": "wlitDkeYNk0u"
      },
      "source": [
        ""
      ],
      "execution_count": null,
      "outputs": []
    },
    {
      "cell_type": "code",
      "metadata": {
        "id": "k_abuT7Gj3Ag"
      },
      "source": [
        ""
      ],
      "execution_count": null,
      "outputs": []
    },
    {
      "cell_type": "code",
      "metadata": {
        "id": "BV7N4GDYNt70"
      },
      "source": [
        "# BERT_MODEL_NAME = 'bert-base-cased'\n",
        "# tokenizer = BertTokenizer.from_pretrained(BERT_MODEL_NAME)"
      ],
      "execution_count": 100,
      "outputs": []
    },
    {
      "cell_type": "code",
      "metadata": {
        "id": "9-RIhiikNx0N"
      },
      "source": [
        "  #  encoding = tokenizer.encode_plus(\n",
        "  #     'he went home',\n",
        "  #     add_special_tokens=True,\n",
        "  #     max_length= 10,\n",
        "  #     return_token_type_ids=False,\n",
        "  #     padding=\"max_length\",\n",
        "  #     truncation=True,\n",
        "  #     return_attention_mask=True,\n",
        "  #     return_tensors='pt',\n",
        "  #   )"
      ],
      "execution_count": 101,
      "outputs": []
    },
    {
      "cell_type": "code",
      "metadata": {
        "id": "jC-_3NcFN6vt",
        "colab": {
          "base_uri": "https://localhost:8080/"
        },
        "outputId": "5e67bde8-6ee0-45d1-af7c-f58b4ecc1ae6"
      },
      "source": [
        "encoding"
      ],
      "execution_count": 86,
      "outputs": [
        {
          "output_type": "execute_result",
          "data": {
            "text/plain": [
              "{'input_ids': tensor([[ 101, 1119, 1355, 1313,  102,    0,    0,    0,    0,    0]]), 'attention_mask': tensor([[1, 1, 1, 1, 1, 0, 0, 0, 0, 0]])}"
            ]
          },
          "metadata": {
            "tags": []
          },
          "execution_count": 86
        }
      ]
    },
    {
      "cell_type": "code",
      "metadata": {
        "id": "hBWR3ogxzlgr"
      },
      "source": [
        ""
      ],
      "execution_count": null,
      "outputs": []
    },
    {
      "cell_type": "code",
      "metadata": {
        "id": "gvuiD695l1sa"
      },
      "source": [
        ""
      ],
      "execution_count": null,
      "outputs": []
    },
    {
      "cell_type": "code",
      "metadata": {
        "id": "sz-SXcFvCGkw"
      },
      "source": [
        ""
      ],
      "execution_count": null,
      "outputs": []
    },
    {
      "cell_type": "code",
      "metadata": {
        "id": "c3w-Ti9Ll4ty"
      },
      "source": [
        ""
      ],
      "execution_count": null,
      "outputs": []
    },
    {
      "cell_type": "code",
      "metadata": {
        "id": "kkY6UFlomBmQ"
      },
      "source": [
        ""
      ],
      "execution_count": null,
      "outputs": []
    },
    {
      "cell_type": "code",
      "metadata": {
        "id": "fIrQMC_njbh3"
      },
      "source": [
        ""
      ],
      "execution_count": null,
      "outputs": []
    },
    {
      "cell_type": "code",
      "metadata": {
        "id": "4J08IiqM0Yoa",
        "colab": {
          "base_uri": "https://localhost:8080/"
        },
        "outputId": "b98ea219-03f9-4b55-b4f2-f42241095128"
      },
      "source": [
        "1"
      ],
      "execution_count": null,
      "outputs": [
        {
          "output_type": "execute_result",
          "data": {
            "text/plain": [
              "1"
            ]
          },
          "metadata": {
            "tags": []
          },
          "execution_count": 27
        }
      ]
    },
    {
      "cell_type": "code",
      "metadata": {
        "id": "ysvXuI-DaYNR"
      },
      "source": [
        ""
      ],
      "execution_count": null,
      "outputs": []
    },
    {
      "cell_type": "code",
      "metadata": {
        "id": "qhr-sK-Ja4hS"
      },
      "source": [
        "\n"
      ],
      "execution_count": null,
      "outputs": []
    },
    {
      "cell_type": "code",
      "metadata": {
        "id": "wlXHvpSaxhcv"
      },
      "source": [
        ""
      ],
      "execution_count": null,
      "outputs": []
    },
    {
      "cell_type": "code",
      "metadata": {
        "id": "Iw3XOMq7ceR4"
      },
      "source": [
        ""
      ],
      "execution_count": null,
      "outputs": []
    },
    {
      "cell_type": "code",
      "metadata": {
        "id": "3HGajw9zcWWT"
      },
      "source": [
        ""
      ],
      "execution_count": null,
      "outputs": []
    },
    {
      "cell_type": "code",
      "metadata": {
        "id": "ccgT0RxIx9xg"
      },
      "source": [
        ""
      ],
      "execution_count": null,
      "outputs": []
    },
    {
      "cell_type": "code",
      "metadata": {
        "id": "1UtpFLaO0eGv"
      },
      "source": [
        ""
      ],
      "execution_count": null,
      "outputs": []
    },
    {
      "cell_type": "code",
      "metadata": {
        "id": "-cC_PmSZxzpX"
      },
      "source": [
        ""
      ],
      "execution_count": null,
      "outputs": []
    },
    {
      "cell_type": "code",
      "metadata": {
        "id": "SGydTxu0O58b"
      },
      "source": [
        ""
      ],
      "execution_count": null,
      "outputs": []
    },
    {
      "cell_type": "code",
      "metadata": {
        "id": "hdCgrrWaPKyy"
      },
      "source": [
        ""
      ],
      "execution_count": null,
      "outputs": []
    },
    {
      "cell_type": "code",
      "metadata": {
        "id": "935RIRNYPVmH"
      },
      "source": [
        "test_df['relevance_class'] = -1"
      ],
      "execution_count": 102,
      "outputs": []
    },
    {
      "cell_type": "code",
      "metadata": {
        "colab": {
          "base_uri": "https://localhost:8080/"
        },
        "id": "PhuWDnLF44ly",
        "outputId": "bcba7323-4fee-4a66-9dcc-15127e2e8123"
      },
      "source": [
        "df.iloc[0]['search_term_tokens']"
      ],
      "execution_count": 107,
      "outputs": [
        {
          "output_type": "execute_result",
          "data": {
            "text/plain": [
              "{'input_ids': [101, 6341, 26083, 102, 0], 'token_type_ids': [0, 0, 0, 0, 0], 'attention_mask': [1, 1, 1, 1, 0]}"
            ]
          },
          "metadata": {
            "tags": []
          },
          "execution_count": 107
        }
      ]
    },
    {
      "cell_type": "markdown",
      "metadata": {
        "id": "Zk7ITAnaPU7P"
      },
      "source": [
        ""
      ]
    },
    {
      "cell_type": "code",
      "metadata": {
        "id": "j8fGj-0COjWj"
      },
      "source": [
        "import random\n",
        "import time\n",
        "random.seed(int(time.time()))\n",
        "from torch.utils.data import Dataset,DataLoader\n",
        "import torch\n",
        "from torch import nn, utils\n",
        "import torch.nn.functional as F\n",
        "from torch.autograd import Variable \n",
        "from torch.optim.lr_scheduler import ReduceLROnPlateau\n",
        "\n",
        "import warnings\n",
        "warnings.filterwarnings('ignore')\n",
        "\n",
        "class DatasetLoader(Dataset):\n",
        "\n",
        "    def __init__(self, df):\n",
        "        self._df = df\n",
        "\n",
        "\n",
        "    def __len__(self):\n",
        "        return len(self._df)\n",
        "    def __getitem__(self, idx):\n",
        "        row = self._df.iloc[idx]\n",
        "\n",
        "        search_term = np.array(row['search_term_tokens']['input_ids'])\n",
        "        search_term_attention_mask = np.array(row['search_term_tokens']['attention_mask'])\n",
        "        product_title = np.array(row['product_title_tokens']['input_ids'])\n",
        "        product_title_attention_mask = np.array(row['product_title_tokens']['attention_mask'])\n",
        "\n",
        "   \n",
        "\n",
        "        return row['id'], search_term, search_term_attention_mask, product_title, product_title_attention_mask, row['relevance_class']\n",
        "    \n"
      ],
      "execution_count": 109,
      "outputs": []
    },
    {
      "cell_type": "code",
      "metadata": {
        "colab": {
          "base_uri": "https://localhost:8080/",
          "height": 114
        },
        "id": "NRSLuzN1kqe7",
        "outputId": "e656bce1-0871-4b4e-9e21-ee8db43f817f"
      },
      "source": [
        "df.sample(1)"
      ],
      "execution_count": 49,
      "outputs": [
        {
          "output_type": "execute_result",
          "data": {
            "text/html": [
              "<div>\n",
              "<style scoped>\n",
              "    .dataframe tbody tr th:only-of-type {\n",
              "        vertical-align: middle;\n",
              "    }\n",
              "\n",
              "    .dataframe tbody tr th {\n",
              "        vertical-align: top;\n",
              "    }\n",
              "\n",
              "    .dataframe thead th {\n",
              "        text-align: right;\n",
              "    }\n",
              "</style>\n",
              "<table border=\"1\" class=\"dataframe\">\n",
              "  <thead>\n",
              "    <tr style=\"text-align: right;\">\n",
              "      <th></th>\n",
              "      <th>id</th>\n",
              "      <th>product_uid</th>\n",
              "      <th>product_title</th>\n",
              "      <th>search_term</th>\n",
              "      <th>relevance</th>\n",
              "      <th>product_title_tokens</th>\n",
              "      <th>search_term_tokens</th>\n",
              "      <th>relevance_class</th>\n",
              "    </tr>\n",
              "  </thead>\n",
              "  <tbody>\n",
              "    <tr>\n",
              "      <th>33462</th>\n",
              "      <td>102341</td>\n",
              "      <td>132466</td>\n",
              "      <td>UniFlame Black Wrought Iron Single-Panel Fireplace Screen with Doors, Medium</td>\n",
              "      <td>hail protective window screen</td>\n",
              "      <td>2.33</td>\n",
              "      <td>[101, 4895, 10128, 10278, 2063, 2304, 18481, 3707, 2309, 1011, 5997, 13788, 3898, 2007, 102]</td>\n",
              "      <td>[101, 16889, 9474, 3332, 102]</td>\n",
              "      <td>2</td>\n",
              "    </tr>\n",
              "  </tbody>\n",
              "</table>\n",
              "</div>"
            ],
            "text/plain": [
              "           id  product_uid  ...             search_term_tokens relevance_class\n",
              "33462  102341  132466       ...  [101, 16889, 9474, 3332, 102]  2             \n",
              "\n",
              "[1 rows x 8 columns]"
            ]
          },
          "metadata": {
            "tags": []
          },
          "execution_count": 49
        }
      ]
    },
    {
      "cell_type": "code",
      "metadata": {
        "colab": {
          "base_uri": "https://localhost:8080/"
        },
        "id": "w27tIMkWMPR3",
        "outputId": "faaf946f-2670-4c31-c9e4-bb6629c7e1a2"
      },
      "source": [
        "from sklearn.model_selection import train_test_split\n",
        "\n",
        "\n",
        "\n",
        "training_df, validation_df = train_test_split(df, test_size=0.1, random_state=42)\n",
        "len(training_df)+ len(validation_df), len(df)\n"
      ],
      "execution_count": 104,
      "outputs": [
        {
          "output_type": "execute_result",
          "data": {
            "text/plain": [
              "(74067, 74067)"
            ]
          },
          "metadata": {
            "tags": []
          },
          "execution_count": 104
        }
      ]
    },
    {
      "cell_type": "code",
      "metadata": {
        "id": "rTudx3_9QEOw",
        "colab": {
          "base_uri": "https://localhost:8080/"
        },
        "outputId": "ce06c910-4157-4031-bfa4-712e6757a093"
      },
      "source": [
        "BATCH_SIZE = 64\n",
        "\n",
        "data_loader = DatasetLoader(training_df)\n",
        "\n",
        "train_data_loader = torch.utils.data.DataLoader(data_loader,\n",
        "                                                 batch_size=BATCH_SIZE, shuffle=True, \n",
        "                                                 num_workers=4,drop_last=False)\n",
        "\n",
        "validation_data_df = validation_df[['id', 'product_title_tokens', 'search_term_tokens', 'relevance', 'relevance_class']]\n",
        "validation_dataset = DatasetLoader(validation_data_df)\n",
        "\n",
        "valiodation_data_loader = torch.utils.data.DataLoader(validation_dataset,\n",
        "                                                 batch_size=BATCH_SIZE, shuffle=True, \n",
        "                                                 num_workers=4,drop_last=False)\n",
        "\n",
        "\n",
        "test_df_fixed = test_df[(test_df['search_term_tokens'].map(len) > 0) & (test_df['product_title_tokens'].map(len) > 0)]\n",
        "\n",
        "\n",
        "\n",
        "test_loader = DatasetLoader(test_df_fixed[['id', 'product_title_tokens', 'search_term_tokens', 'relevance_class']])\n",
        "\n",
        "test_data_loader = torch.utils.data.DataLoader(test_loader,\n",
        "                                                 batch_size=BATCH_SIZE, shuffle=False, \n",
        "                                                 num_workers=4,drop_last=False)\n",
        "\n",
        "len(data_loader), len(test_loader)"
      ],
      "execution_count": 110,
      "outputs": [
        {
          "output_type": "execute_result",
          "data": {
            "text/plain": [
              "(66660, 166693)"
            ]
          },
          "metadata": {
            "tags": []
          },
          "execution_count": 110
        }
      ]
    },
    {
      "cell_type": "code",
      "metadata": {
        "colab": {
          "base_uri": "https://localhost:8080/",
          "height": 114
        },
        "id": "hYKG8QQEAXLS",
        "outputId": "fd5817a9-765b-4396-a659-82002829b435"
      },
      "source": [
        "df.sample(1)"
      ],
      "execution_count": 54,
      "outputs": [
        {
          "output_type": "execute_result",
          "data": {
            "text/html": [
              "<div>\n",
              "<style scoped>\n",
              "    .dataframe tbody tr th:only-of-type {\n",
              "        vertical-align: middle;\n",
              "    }\n",
              "\n",
              "    .dataframe tbody tr th {\n",
              "        vertical-align: top;\n",
              "    }\n",
              "\n",
              "    .dataframe thead th {\n",
              "        text-align: right;\n",
              "    }\n",
              "</style>\n",
              "<table border=\"1\" class=\"dataframe\">\n",
              "  <thead>\n",
              "    <tr style=\"text-align: right;\">\n",
              "      <th></th>\n",
              "      <th>id</th>\n",
              "      <th>product_uid</th>\n",
              "      <th>product_title</th>\n",
              "      <th>search_term</th>\n",
              "      <th>relevance</th>\n",
              "      <th>product_title_tokens</th>\n",
              "      <th>search_term_tokens</th>\n",
              "      <th>relevance_class</th>\n",
              "    </tr>\n",
              "  </thead>\n",
              "  <tbody>\n",
              "    <tr>\n",
              "      <th>46685</th>\n",
              "      <td>141676</td>\n",
              "      <td>151500</td>\n",
              "      <td>Tyco Electronics Spade Vinyl 12-10 AWG Stud 8-10 50/Clam</td>\n",
              "      <td>12 awg</td>\n",
              "      <td>2.67</td>\n",
              "      <td>[101, 5939, 3597, 8139, 23288, 8877, 2260, 1011, 2184, 22091, 2290, 16054, 1022, 1011, 102]</td>\n",
              "      <td>[101, 2260, 22091, 2290, 102]</td>\n",
              "      <td>3</td>\n",
              "    </tr>\n",
              "  </tbody>\n",
              "</table>\n",
              "</div>"
            ],
            "text/plain": [
              "           id  product_uid  ...             search_term_tokens relevance_class\n",
              "46685  141676  151500       ...  [101, 2260, 22091, 2290, 102]  3             \n",
              "\n",
              "[1 rows x 8 columns]"
            ]
          },
          "metadata": {
            "tags": []
          },
          "execution_count": 54
        }
      ]
    },
    {
      "cell_type": "code",
      "metadata": {
        "colab": {
          "base_uri": "https://localhost:8080/",
          "height": 80
        },
        "id": "ti4DjnB3AC2K",
        "outputId": "7dc13d34-2646-42f2-c0ef-871aba6f5cbd"
      },
      "source": [
        ""
      ],
      "execution_count": null,
      "outputs": [
        {
          "output_type": "execute_result",
          "data": {
            "text/html": [
              "<div>\n",
              "<style scoped>\n",
              "    .dataframe tbody tr th:only-of-type {\n",
              "        vertical-align: middle;\n",
              "    }\n",
              "\n",
              "    .dataframe tbody tr th {\n",
              "        vertical-align: top;\n",
              "    }\n",
              "\n",
              "    .dataframe thead th {\n",
              "        text-align: right;\n",
              "    }\n",
              "</style>\n",
              "<table border=\"1\" class=\"dataframe\">\n",
              "  <thead>\n",
              "    <tr style=\"text-align: right;\">\n",
              "      <th></th>\n",
              "      <th>id</th>\n",
              "      <th>product_uid</th>\n",
              "      <th>product_title</th>\n",
              "      <th>search_term</th>\n",
              "      <th>product_title_tokens</th>\n",
              "      <th>search_term_tokens</th>\n",
              "      <th>my_relevance</th>\n",
              "    </tr>\n",
              "  </thead>\n",
              "  <tbody>\n",
              "    <tr>\n",
              "      <th>35646</th>\n",
              "      <td>52729</td>\n",
              "      <td>113622</td>\n",
              "      <td>AT&amp;amp;T Trimline Telephone With Memory - Black</td>\n",
              "      <td>at</td>\n",
              "      <td>[amp, &lt;word&gt;, telephon, memori, black]</td>\n",
              "      <td>[]</td>\n",
              "      <td>1</td>\n",
              "    </tr>\n",
              "  </tbody>\n",
              "</table>\n",
              "</div>"
            ],
            "text/plain": [
              "          id  product_uid  ... search_term_tokens my_relevance\n",
              "35646  52729  113622       ...  []                 1          \n",
              "\n",
              "[1 rows x 7 columns]"
            ]
          },
          "metadata": {
            "tags": []
          },
          "execution_count": 76
        }
      ]
    },
    {
      "cell_type": "code",
      "metadata": {
        "id": "Jg9ZjtvyQYYj"
      },
      "source": [
        "for ids, search_term, a1, product_title, a2, target_relevance_score in test_data_loader:\n",
        "  break"
      ],
      "execution_count": 111,
      "outputs": []
    },
    {
      "cell_type": "code",
      "metadata": {
        "id": "MAb7Xrshd-Ap"
      },
      "source": [
        ""
      ],
      "execution_count": null,
      "outputs": []
    },
    {
      "cell_type": "code",
      "metadata": {
        "id": "ZaU8p0SBalql"
      },
      "source": [
        ""
      ],
      "execution_count": null,
      "outputs": []
    },
    {
      "cell_type": "code",
      "metadata": {
        "id": "1wcUGHjMcBXu"
      },
      "source": [
        ""
      ],
      "execution_count": null,
      "outputs": []
    },
    {
      "cell_type": "code",
      "metadata": {
        "id": "pv4iT_xlBNeY"
      },
      "source": [
        "from transformers import BertConfig\n",
        "\n",
        "# config = BertConfig.from_pretrained(\"bert-base-uncased\",\n",
        "#                                     output_hidden_states=True)\n",
        "\n",
        "# bert_model = BertForSequenceClassification.from_pretrained(\"bert-base-uncased\",\n",
        "#                                          config=config)\n"
      ],
      "execution_count": 67,
      "outputs": []
    },
    {
      "cell_type": "code",
      "metadata": {
        "id": "gDYpQzBNRhe3"
      },
      "source": [
        "from transformers import BertForSequenceClassification\n",
        "from transformers import BertTokenizerFast as BertTokenizer, BertModel, AdamW, get_linear_schedule_with_warmup\n",
        "\n",
        "\n",
        "class RelevanceModel(nn.Module):\n",
        "\n",
        "  def __init__(self, num_of_classes):\n",
        "    super(RelevanceModel, self).__init__()\n",
        "    config = BertConfig.from_pretrained(\"bert-base-uncased\",\n",
        "                                    output_hidden_states=True)\n",
        "\n",
        "    BERT_MODEL_NAME = 'bert-base-cased'\n",
        "    # self.bert_model = BertForSequenceClassification.from_pretrained(\"bert-base-uncased\", config=config)\n",
        "    self.bert = BertModel.from_pretrained(BERT_MODEL_NAME, return_dict=True)\n",
        "\n",
        "\n",
        "    # for param in self.bert.parameters():\n",
        "    #   param.requires_grad = False\n",
        "\n",
        "    self.fc1 = nn.Linear(768 * 2, 512)\n",
        "    self.fc2 = nn.Linear(512, num_of_classes)\n",
        "\n",
        "\n",
        "  def  forward(self, queries, queries_masks, titles, titles_masks):\n",
        " \n",
        "    encoded_queries = self.bert(queries, attention_mask=queries_masks)\n",
        "    encoded_titles = self.bert(titles, attention_mask=titles_masks)\n",
        "\n",
        "\n",
        "    out = torch.cat((encoded_queries.pooler_output, encoded_titles.pooler_output), 1)\n",
        "\n",
        "    out = self.fc1(out)\n",
        "    out = torch.relu(out)\n",
        "    out = self.fc2(out)\n",
        "\n",
        "    return out \n",
        "\n",
        "\n",
        "  def reset_parameters(self):\n",
        "    nn.init.uniform_(self.fc1.weight)\n",
        "    nn.init.uniform_(self.fc2.weight)\n"
      ],
      "execution_count": 140,
      "outputs": []
    },
    {
      "cell_type": "code",
      "metadata": {
        "id": "dnTv4wTQRn--"
      },
      "source": [
        "# from transformers import BertForSequenceClassification\n",
        "\n",
        "# class RelevanceModel(nn.Module):\n",
        "\n",
        "#   def __init__(self, num_of_classes):\n",
        "#     super(RelevanceModel, self).__init__()\n",
        "#     config = BertConfig.from_pretrained(\"bert-base-uncased\",\n",
        "#                                     output_hidden_states=True)\n",
        "\n",
        "#     self.bert_model = BertForSequenceClassification.from_pretrained(\"bert-base-uncased\", config=config)\n",
        "\n",
        "#     for param in self.bert_model.parameters():\n",
        "#       param.requires_grad = False\n",
        "\n",
        "#     self.fc = nn.Linear(768 * 2, num_of_classes)\n",
        "\n",
        "#   def  forward(self, queries, titles):\n",
        "#     encoded_queries = self.bert_model(queries)['hidden_states'][-1][:, -1,:]\n",
        "#     #last_hidden_state_cls = outputs[0][:, 0, :]\n",
        "#     encoded_titles = self.bert_model(titles)['hidden_states'][-1][:, -1,:]\n",
        "\n",
        "#     out = torch.cat((encoded_queries, encoded_titles), 1)\n",
        "\n",
        "#     out = self.fc(out)\n",
        "    \n",
        "#     return out \n",
        "\n",
        "\n",
        "#   def reset_parameters(self):\n",
        "#     nn.init.uniform_(self.fc.weight)"
      ],
      "execution_count": null,
      "outputs": []
    },
    {
      "cell_type": "code",
      "metadata": {
        "id": "-VMlZG21ZCK1",
        "colab": {
          "base_uri": "https://localhost:8080/"
        },
        "outputId": "e4559ba7-c22e-4aeb-d0b1-039442bf9236"
      },
      "source": [
        "\n",
        "# # for x in model.parameters():\n",
        "# #   if not x.is_cuda:\n",
        "# #     print(x) \n",
        "\n",
        "# # e1 = EncoderModel(len(vocab)).to(device)\n",
        "# # r = e1(product_title.to(device), product_title_length)\n",
        "# output.shape, product_title_length\n",
        "# #output = r \n",
        "\n",
        "# #8\n",
        "# #out_forward = output[range(len(output)), lengths - 1, :self.embedding_dim ]\n",
        "\n",
        "# # output[range(len(output)), product_title_length - 1, :300][0]\n",
        "# product_title_length\n",
        "#output[0][14], product_title_length"
      ],
      "execution_count": null,
      "outputs": [
        {
          "output_type": "execute_result",
          "data": {
            "text/plain": [
              "tensor([14, 12, 10, 15,  8])"
            ]
          },
          "metadata": {
            "tags": []
          },
          "execution_count": 110
        }
      ]
    },
    {
      "cell_type": "code",
      "metadata": {
        "colab": {
          "base_uri": "https://localhost:8080/"
        },
        "id": "mOpN5VHYENQJ",
        "outputId": "5fdb6a9e-27b4-4018-d550-1631392db324"
      },
      "source": [
        "# output[0][13][300:]\n",
        "# output[:, 0, 300 :].shape, output[:, 0,]\n"
      ],
      "execution_count": null,
      "outputs": [
        {
          "output_type": "execute_result",
          "data": {
            "text/plain": [
              "(torch.Size([5, 300]), torch.Size([5, 15, 600]))"
            ]
          },
          "metadata": {
            "tags": []
          },
          "execution_count": 118
        }
      ]
    },
    {
      "cell_type": "code",
      "metadata": {
        "id": "qFR-SouFR5PB"
      },
      "source": [
        "from torch.nn.utils.rnn import pack_padded_sequence, pad_packed_sequence\n",
        "# query_encoder = EncoderModel(len(vocab))\n",
        "# title_encoder = EncoderModel(len(vocab))\n",
        "\n",
        "# query_encoder.reset_parameters()\n",
        "# title_encoder.reset_parameters()\n",
        "\n",
        "# #search_term, search_term_length, product_title, product_title_length\n",
        "# query_encoded = query_encoder(search_term, search_term_length)\n",
        "# title_encoded = query_encoder(product_title, product_title_length)\n",
        "# torch.cat((query_encoded, title_encoded), 1)"
      ],
      "execution_count": 114,
      "outputs": []
    },
    {
      "cell_type": "code",
      "metadata": {
        "colab": {
          "base_uri": "https://localhost:8080/"
        },
        "id": "CWnKAQe_WQyF",
        "outputId": "dd0d39ff-8841-436a-8a21-632310994746"
      },
      "source": [
        "device = torch.device('cuda' if torch.cuda.is_available() else 'cpu')\n",
        "device"
      ],
      "execution_count": 115,
      "outputs": [
        {
          "output_type": "execute_result",
          "data": {
            "text/plain": [
              "device(type='cuda')"
            ]
          },
          "metadata": {
            "tags": []
          },
          "execution_count": 115
        }
      ]
    },
    {
      "cell_type": "code",
      "metadata": {
        "colab": {
          "base_uri": "https://localhost:8080/"
        },
        "id": "F9AiAsOFMumH",
        "outputId": "980013e7-45ca-479d-a37c-ed42208d0322"
      },
      "source": [
        "from sklearn.utils.class_weight import compute_class_weight\n",
        "\n",
        "weights = compute_class_weight('balanced', pd.unique(df['relevance_class']), df['relevance_class'].tolist())\n",
        "weights"
      ],
      "execution_count": 116,
      "outputs": [
        {
          "output_type": "execute_result",
          "data": {
            "text/plain": [
              "array([2.97906486e-01, 2.99866397e+02, 3.54760992e-01, 3.74783682e-01,\n",
              "       4.85717096e-01, 2.70663256e+00, 8.40333560e-01, 1.89536312e+00,\n",
              "       1.42436538e+03, 5.17951049e+02, 6.33051282e+02, 1.13949231e+03,\n",
              "       5.17951049e+02])"
            ]
          },
          "metadata": {
            "tags": []
          },
          "execution_count": 116
        }
      ]
    },
    {
      "cell_type": "code",
      "metadata": {
        "id": "VEpPTJGLoi1d"
      },
      "source": [
        ""
      ],
      "execution_count": 62,
      "outputs": []
    },
    {
      "cell_type": "code",
      "metadata": {
        "colab": {
          "base_uri": "https://localhost:8080/"
        },
        "id": "gu2VvCcmyVy1",
        "outputId": "b688aa6f-33f3-4976-b845-6a802174b34d"
      },
      "source": [
        "weights"
      ],
      "execution_count": 63,
      "outputs": [
        {
          "output_type": "execute_result",
          "data": {
            "text/plain": [
              "array([2.97906486e-01, 2.99866397e+02, 3.54760992e-01, 3.74783682e-01,\n",
              "       4.85717096e-01, 2.70663256e+00, 8.40333560e-01, 1.89536312e+00,\n",
              "       1.42436538e+03, 5.17951049e+02, 6.33051282e+02, 1.13949231e+03,\n",
              "       5.17951049e+02])"
            ]
          },
          "metadata": {
            "tags": []
          },
          "execution_count": 63
        }
      ]
    },
    {
      "cell_type": "code",
      "metadata": {
        "colab": {
          "base_uri": "https://localhost:8080/"
        },
        "id": "B4d4BaszD13U",
        "outputId": "9bd2a0de-1290-4cdf-f8f9-751743d2dd4a"
      },
      "source": [
        ""
      ],
      "execution_count": null,
      "outputs": [
        {
          "output_type": "execute_result",
          "data": {
            "text/plain": [
              "0.0"
            ]
          },
          "metadata": {
            "tags": []
          },
          "execution_count": 147
        }
      ]
    },
    {
      "cell_type": "code",
      "metadata": {
        "id": "7xdHK8OyD0ej"
      },
      "source": [
        ""
      ],
      "execution_count": null,
      "outputs": []
    },
    {
      "cell_type": "code",
      "metadata": {
        "id": "VDEK66lCTIt9",
        "colab": {
          "base_uri": "https://localhost:8080/"
        },
        "outputId": "648e125c-74fc-49f0-8014-ee93a8432289"
      },
      "source": [
        "from transformers import AutoModel, BertTokenizerFast\n",
        "\n",
        "model = RelevanceModel(num_of_classes)\n",
        "model.reset_parameters()\n",
        "model.to(device)\n",
        "\n",
        "#optimizer = torch.optim.Adam(model.parameters(), lr= 1e-5)\n",
        "from transformers import AdamW\n",
        "\n",
        "# define the optimizer\n",
        "#optimizer = AdamW(model.parameters(),lr = 0.001)\n",
        "optimizer = torch.optim.Adam(model.parameters(), lr= 0.0001)\n",
        "\n",
        "class_weights = torch.tensor(weights,dtype=torch.float)\n",
        "criterion = torch.nn.CrossEntropyLoss(weight = class_weights, reduction='sum').to(device)\n"
      ],
      "execution_count": 142,
      "outputs": [
        {
          "output_type": "stream",
          "text": [
            "Some weights of the model checkpoint at bert-base-cased were not used when initializing BertModel: ['cls.predictions.transform.dense.weight', 'cls.predictions.decoder.weight', 'cls.seq_relationship.bias', 'cls.predictions.transform.LayerNorm.weight', 'cls.predictions.transform.dense.bias', 'cls.predictions.transform.LayerNorm.bias', 'cls.seq_relationship.weight', 'cls.predictions.bias']\n",
            "- This IS expected if you are initializing BertModel from the checkpoint of a model trained on another task or with another architecture (e.g. initializing a BertForSequenceClassification model from a BertForPreTraining model).\n",
            "- This IS NOT expected if you are initializing BertModel from the checkpoint of a model that you expect to be exactly identical (initializing a BertForSequenceClassification model from a BertForSequenceClassification model).\n"
          ],
          "name": "stderr"
        }
      ]
    },
    {
      "cell_type": "code",
      "metadata": {
        "id": "tJiU_nc8WP8l"
      },
      "source": [
        "#  for ids, search_term, search_term_mask, product_title, product_title_mask, target_relevance_score  in train_data_loader:\n",
        "#     search_term = Variable(search_term).to(device)\n",
        "#     product_title = Variable(product_title).to(device)\n",
        "#     search_term_mask = Variable(search_term_mask).to(device)\n",
        "#     product_title_mask = Variable(product_title_mask).to(device)\n",
        "#     target_relevance_score = Variable(target_relevance_score).long().to(device)\n",
        "#     scores = model(search_term, search_term_mask,  product_title, product_title_mask)\n",
        "#     break \n",
        "\n",
        "# scores.shape"
      ],
      "execution_count": 130,
      "outputs": []
    },
    {
      "cell_type": "code",
      "metadata": {
        "id": "knnaKV2bWAA8"
      },
      "source": [
        "\n",
        "def train_epoc(epoc):\n",
        "\n",
        "  model.train()\n",
        "\n",
        "  running_loss = 0.0\n",
        "  counter = 0.0\n",
        "  correct_classified = 0.0 \n",
        "  for ids, search_term, search_term_mask, product_title, product_title_mask, target_relevance_score  in train_data_loader:\n",
        "    search_term = Variable(search_term).to(device)\n",
        "    product_title = Variable(product_title).to(device)\n",
        "    target_relevance_score = Variable(target_relevance_score).long().to(device)\n",
        "\n",
        "    search_term_mask = Variable(search_term_mask).to(device)\n",
        "    product_title_mask = Variable(product_title_mask).to(device)\n",
        "\n",
        "    optimizer.zero_grad()\n",
        "\n",
        "    scores = model(search_term, search_term_mask,  product_title, product_title_mask)\n",
        "    loss = criterion(scores, target_relevance_score)\n",
        "\n",
        "    \n",
        "\n",
        "    loss.backward()\n",
        "    optimizer.step()\n",
        "    \n",
        "    running_loss += loss.item()\n",
        "    counter += search_term.shape[0]\n",
        "    correct_classified += np.sum(torch.argmax(scores, dim=1).cpu().detach().numpy()== target_relevance_score.cpu().numpy())\n",
        "\n",
        "  return running_loss/counter, correct_classified/counter\n",
        "\n",
        "\n",
        "def validation():\n",
        "  model.eval()\n",
        "\n",
        "  running_loss  = 0.0\n",
        "  counter = 0.0\n",
        "\n",
        "  correct_classified = 0.0 \n",
        "\n",
        "  with torch.no_grad():\n",
        "    for ids, search_term, search_term_mask, product_title, product_title_mask, target_relevance_score in valiodation_data_loader:\n",
        "      search_term = Variable(search_term).to(device)\n",
        "      product_title = Variable(product_title).to(device)\n",
        "\n",
        "      search_term_mask = Variable(search_term_mask).to(device)\n",
        "      product_title_mask = Variable(product_title_mask).to(device)\n",
        "\n",
        "      target_relevance_score = Variable(target_relevance_score).float().to(device)\n",
        "\n",
        "      scores = model(search_term, search_term_mask,  product_title, product_title_mask)\n",
        "\n",
        "    \n",
        "      \n",
        "      loss = criterion(scores, target_relevance_score.long())\n",
        "      running_loss += loss.item()\n",
        "      counter += search_term.shape[0]\n",
        "      correct_classified += np.sum(torch.argmax(scores, dim=1).cpu().detach().numpy()== target_relevance_score.cpu().numpy())\n",
        "  \n",
        "  #print('validation epoc {} loss {} counter {}'.format(epoc, running_loss/counter, counter))\n",
        "\n",
        "  return running_loss/counter, correct_classified/counter  \n",
        "\n",
        "\n"
      ],
      "execution_count": 144,
      "outputs": []
    },
    {
      "cell_type": "code",
      "metadata": {
        "id": "P5w7B_5bF5tl"
      },
      "source": [
        "from livelossplot import PlotLosses\n",
        "\n",
        "liveloss = PlotLosses()\n",
        "\n",
        "for epoc in range(1000):\n",
        "\n",
        "  train_loss, train_accuracy = train_epoc(epoc)\n",
        "  validation_loss, val_accuracy = validation()\n",
        "\n",
        "  liveloss.update({\n",
        "          'train_loss': train_loss,\n",
        "          'validation_loss': validation_loss,\n",
        "\n",
        "          'train_accuracy': train_accuracy,\n",
        "          'validation_accuracy': val_accuracy\n",
        "      })\n",
        "    \n",
        "  liveloss.draw()"
      ],
      "execution_count": null,
      "outputs": []
    },
    {
      "cell_type": "code",
      "metadata": {
        "id": "j23Rz5eLleqd",
        "colab": {
          "base_uri": "https://localhost:8080/"
        },
        "outputId": "87221c04-f14f-440b-f53a-dbf8ed9a9151"
      },
      "source": [
        "train_loss, train_accuracy "
      ],
      "execution_count": 77,
      "outputs": [
        {
          "output_type": "execute_result",
          "data": {
            "text/plain": [
              "(10.960157677449875, 0.06183618361836184)"
            ]
          },
          "metadata": {
            "tags": []
          },
          "execution_count": 77
        }
      ]
    },
    {
      "cell_type": "code",
      "metadata": {
        "id": "1B5hKqKGe-y-",
        "colab": {
          "base_uri": "https://localhost:8080/"
        },
        "outputId": "f40ac4d6-11ad-4d5b-c20a-b111868f38a1"
      },
      "source": [
        "np.sum(torch.argmax(scores, dim=1).detach().cpu().numpy() == target_relevance_score.numpy())"
      ],
      "execution_count": null,
      "outputs": [
        {
          "output_type": "execute_result",
          "data": {
            "text/plain": [
              "13"
            ]
          },
          "metadata": {
            "tags": []
          },
          "execution_count": 126
        }
      ]
    },
    {
      "cell_type": "code",
      "metadata": {
        "colab": {
          "base_uri": "https://localhost:8080/",
          "height": 164
        },
        "id": "GTBEJ3CasIks",
        "outputId": "26206649-135f-4a51-f31e-6afd534431f6"
      },
      "source": [
        "r1, scores.shape"
      ],
      "execution_count": null,
      "outputs": [
        {
          "output_type": "error",
          "ename": "NameError",
          "evalue": "ignored",
          "traceback": [
            "\u001b[0;31m---------------------------------------------------------------------------\u001b[0m",
            "\u001b[0;31mNameError\u001b[0m                                 Traceback (most recent call last)",
            "\u001b[0;32m<ipython-input-139-e40e950c9e25>\u001b[0m in \u001b[0;36m<module>\u001b[0;34m()\u001b[0m\n\u001b[0;32m----> 1\u001b[0;31m \u001b[0mr1\u001b[0m\u001b[0;34m,\u001b[0m \u001b[0mscores\u001b[0m\u001b[0;34m.\u001b[0m\u001b[0mshape\u001b[0m\u001b[0;34m\u001b[0m\u001b[0;34m\u001b[0m\u001b[0m\n\u001b[0m",
            "\u001b[0;31mNameError\u001b[0m: name 'r1' is not defined"
          ]
        }
      ]
    },
    {
      "cell_type": "code",
      "metadata": {
        "id": "Tgvd78qCkW8m"
      },
      "source": [
        "\n",
        "\n",
        "model.eval()\n",
        "test_scores = []\n",
        "test_ids =[]\n",
        "tt = []\n",
        "\n",
        "with torch.no_grad():\n",
        "  for ids, search_term, product_title, target_relevance_score in train_data_loader:\n",
        "    search_term = Variable(search_term).to(device)\n",
        "    product_title = Variable(product_title).to(device)\n",
        "    \n",
        "\n",
        "    scores = model(search_term, product_title)\n",
        "\n",
        "    test_scores.extend(scores.detach().cpu().numpy().flatten().tolist())\n",
        "    test_ids.extend(ids.numpy().tolist())\n",
        "    tt.extend(target_relevance_score.numpy().tolist())\n",
        "\n",
        "    break\n",
        "  \n",
        "\n"
      ],
      "execution_count": null,
      "outputs": []
    },
    {
      "cell_type": "code",
      "metadata": {
        "id": "-EdxRw_b_LTq"
      },
      "source": [
        "for _ in test_data_loader:\n",
        "  break"
      ],
      "execution_count": null,
      "outputs": []
    },
    {
      "cell_type": "code",
      "metadata": {
        "colab": {
          "base_uri": "https://localhost:8080/",
          "height": 375
        },
        "id": "iYqvaAVNk6pY",
        "outputId": "aa4c6775-8edf-4135-a1cb-6d285b45b7e9"
      },
      "source": [
        "model.eval()\n",
        "test_scores = []\n",
        "test_ids =[]\n",
        "tt = []\n",
        "test_data = []\n",
        "with torch.no_grad():\n",
        "  for ids, search_term, product_title, target_relevance_score in test_data_loader:\n",
        "     \n",
        "    search_term = Variable(search_term).to(device)\n",
        "    product_title = Variable(product_title).to(device)\n",
        "    \n",
        "\n",
        "    scores = model(search_term, product_title)\n",
        "\n",
        "    vals = torch.argmax(scores, dim=1).flatten().detach().cpu().numpy().tolist()\n",
        "    ids = ids.numpy().tolist()\n",
        "\n",
        "    test_data.extend(zip(ids, vals))\n",
        "\n",
        "\n",
        "\n",
        "    \n",
        "  "
      ],
      "execution_count": null,
      "outputs": [
        {
          "output_type": "error",
          "ename": "KeyboardInterrupt",
          "evalue": "ignored",
          "traceback": [
            "\u001b[0;31m---------------------------------------------------------------------------\u001b[0m",
            "\u001b[0;31mKeyboardInterrupt\u001b[0m                         Traceback (most recent call last)",
            "\u001b[0;32m<ipython-input-120-cfd8370ac520>\u001b[0m in \u001b[0;36m<module>\u001b[0;34m()\u001b[0m\n\u001b[1;32m      5\u001b[0m \u001b[0mtest_data\u001b[0m \u001b[0;34m=\u001b[0m \u001b[0;34m[\u001b[0m\u001b[0;34m]\u001b[0m\u001b[0;34m\u001b[0m\u001b[0;34m\u001b[0m\u001b[0m\n\u001b[1;32m      6\u001b[0m \u001b[0;32mwith\u001b[0m \u001b[0mtorch\u001b[0m\u001b[0;34m.\u001b[0m\u001b[0mno_grad\u001b[0m\u001b[0;34m(\u001b[0m\u001b[0;34m)\u001b[0m\u001b[0;34m:\u001b[0m\u001b[0;34m\u001b[0m\u001b[0;34m\u001b[0m\u001b[0m\n\u001b[0;32m----> 7\u001b[0;31m   \u001b[0;32mfor\u001b[0m \u001b[0mids\u001b[0m\u001b[0;34m,\u001b[0m \u001b[0msearch_term\u001b[0m\u001b[0;34m,\u001b[0m \u001b[0mproduct_title\u001b[0m\u001b[0;34m,\u001b[0m \u001b[0mtarget_relevance_score\u001b[0m \u001b[0;32min\u001b[0m \u001b[0mtest_data_loader\u001b[0m\u001b[0;34m:\u001b[0m\u001b[0;34m\u001b[0m\u001b[0;34m\u001b[0m\u001b[0m\n\u001b[0m\u001b[1;32m      8\u001b[0m \u001b[0;34m\u001b[0m\u001b[0m\n\u001b[1;32m      9\u001b[0m     \u001b[0msearch_term\u001b[0m \u001b[0;34m=\u001b[0m \u001b[0mVariable\u001b[0m\u001b[0;34m(\u001b[0m\u001b[0msearch_term\u001b[0m\u001b[0;34m)\u001b[0m\u001b[0;34m.\u001b[0m\u001b[0mto\u001b[0m\u001b[0;34m(\u001b[0m\u001b[0mdevice\u001b[0m\u001b[0;34m)\u001b[0m\u001b[0;34m\u001b[0m\u001b[0;34m\u001b[0m\u001b[0m\n",
            "\u001b[0;32m/usr/local/lib/python3.7/dist-packages/torch/utils/data/dataloader.py\u001b[0m in \u001b[0;36m__next__\u001b[0;34m(self)\u001b[0m\n\u001b[1;32m    519\u001b[0m             \u001b[0;32mif\u001b[0m \u001b[0mself\u001b[0m\u001b[0;34m.\u001b[0m\u001b[0m_sampler_iter\u001b[0m \u001b[0;32mis\u001b[0m \u001b[0;32mNone\u001b[0m\u001b[0;34m:\u001b[0m\u001b[0;34m\u001b[0m\u001b[0;34m\u001b[0m\u001b[0m\n\u001b[1;32m    520\u001b[0m                 \u001b[0mself\u001b[0m\u001b[0;34m.\u001b[0m\u001b[0m_reset\u001b[0m\u001b[0;34m(\u001b[0m\u001b[0;34m)\u001b[0m\u001b[0;34m\u001b[0m\u001b[0;34m\u001b[0m\u001b[0m\n\u001b[0;32m--> 521\u001b[0;31m             \u001b[0mdata\u001b[0m \u001b[0;34m=\u001b[0m \u001b[0mself\u001b[0m\u001b[0;34m.\u001b[0m\u001b[0m_next_data\u001b[0m\u001b[0;34m(\u001b[0m\u001b[0;34m)\u001b[0m\u001b[0;34m\u001b[0m\u001b[0;34m\u001b[0m\u001b[0m\n\u001b[0m\u001b[1;32m    522\u001b[0m             \u001b[0mself\u001b[0m\u001b[0;34m.\u001b[0m\u001b[0m_num_yielded\u001b[0m \u001b[0;34m+=\u001b[0m \u001b[0;36m1\u001b[0m\u001b[0;34m\u001b[0m\u001b[0;34m\u001b[0m\u001b[0m\n\u001b[1;32m    523\u001b[0m             \u001b[0;32mif\u001b[0m \u001b[0mself\u001b[0m\u001b[0;34m.\u001b[0m\u001b[0m_dataset_kind\u001b[0m \u001b[0;34m==\u001b[0m \u001b[0m_DatasetKind\u001b[0m\u001b[0;34m.\u001b[0m\u001b[0mIterable\u001b[0m \u001b[0;32mand\u001b[0m\u001b[0;31m \u001b[0m\u001b[0;31m\\\u001b[0m\u001b[0;34m\u001b[0m\u001b[0;34m\u001b[0m\u001b[0m\n",
            "\u001b[0;32m/usr/local/lib/python3.7/dist-packages/torch/utils/data/dataloader.py\u001b[0m in \u001b[0;36m_next_data\u001b[0;34m(self)\u001b[0m\n\u001b[1;32m   1184\u001b[0m \u001b[0;34m\u001b[0m\u001b[0m\n\u001b[1;32m   1185\u001b[0m             \u001b[0;32massert\u001b[0m \u001b[0;32mnot\u001b[0m \u001b[0mself\u001b[0m\u001b[0;34m.\u001b[0m\u001b[0m_shutdown\u001b[0m \u001b[0;32mand\u001b[0m \u001b[0mself\u001b[0m\u001b[0;34m.\u001b[0m\u001b[0m_tasks_outstanding\u001b[0m \u001b[0;34m>\u001b[0m \u001b[0;36m0\u001b[0m\u001b[0;34m\u001b[0m\u001b[0;34m\u001b[0m\u001b[0m\n\u001b[0;32m-> 1186\u001b[0;31m             \u001b[0midx\u001b[0m\u001b[0;34m,\u001b[0m \u001b[0mdata\u001b[0m \u001b[0;34m=\u001b[0m \u001b[0mself\u001b[0m\u001b[0;34m.\u001b[0m\u001b[0m_get_data\u001b[0m\u001b[0;34m(\u001b[0m\u001b[0;34m)\u001b[0m\u001b[0;34m\u001b[0m\u001b[0;34m\u001b[0m\u001b[0m\n\u001b[0m\u001b[1;32m   1187\u001b[0m             \u001b[0mself\u001b[0m\u001b[0;34m.\u001b[0m\u001b[0m_tasks_outstanding\u001b[0m \u001b[0;34m-=\u001b[0m \u001b[0;36m1\u001b[0m\u001b[0;34m\u001b[0m\u001b[0;34m\u001b[0m\u001b[0m\n\u001b[1;32m   1188\u001b[0m             \u001b[0;32mif\u001b[0m \u001b[0mself\u001b[0m\u001b[0;34m.\u001b[0m\u001b[0m_dataset_kind\u001b[0m \u001b[0;34m==\u001b[0m \u001b[0m_DatasetKind\u001b[0m\u001b[0;34m.\u001b[0m\u001b[0mIterable\u001b[0m\u001b[0;34m:\u001b[0m\u001b[0;34m\u001b[0m\u001b[0;34m\u001b[0m\u001b[0m\n",
            "\u001b[0;32m/usr/local/lib/python3.7/dist-packages/torch/utils/data/dataloader.py\u001b[0m in \u001b[0;36m_get_data\u001b[0;34m(self)\u001b[0m\n\u001b[1;32m   1150\u001b[0m         \u001b[0;32melse\u001b[0m\u001b[0;34m:\u001b[0m\u001b[0;34m\u001b[0m\u001b[0;34m\u001b[0m\u001b[0m\n\u001b[1;32m   1151\u001b[0m             \u001b[0;32mwhile\u001b[0m \u001b[0;32mTrue\u001b[0m\u001b[0;34m:\u001b[0m\u001b[0;34m\u001b[0m\u001b[0;34m\u001b[0m\u001b[0m\n\u001b[0;32m-> 1152\u001b[0;31m                 \u001b[0msuccess\u001b[0m\u001b[0;34m,\u001b[0m \u001b[0mdata\u001b[0m \u001b[0;34m=\u001b[0m \u001b[0mself\u001b[0m\u001b[0;34m.\u001b[0m\u001b[0m_try_get_data\u001b[0m\u001b[0;34m(\u001b[0m\u001b[0;34m)\u001b[0m\u001b[0;34m\u001b[0m\u001b[0;34m\u001b[0m\u001b[0m\n\u001b[0m\u001b[1;32m   1153\u001b[0m                 \u001b[0;32mif\u001b[0m \u001b[0msuccess\u001b[0m\u001b[0;34m:\u001b[0m\u001b[0;34m\u001b[0m\u001b[0;34m\u001b[0m\u001b[0m\n\u001b[1;32m   1154\u001b[0m                     \u001b[0;32mreturn\u001b[0m \u001b[0mdata\u001b[0m\u001b[0;34m\u001b[0m\u001b[0;34m\u001b[0m\u001b[0m\n",
            "\u001b[0;32m/usr/local/lib/python3.7/dist-packages/torch/utils/data/dataloader.py\u001b[0m in \u001b[0;36m_try_get_data\u001b[0;34m(self, timeout)\u001b[0m\n\u001b[1;32m    988\u001b[0m         \u001b[0;31m#   (bool: whether successfully get data, any: data if successful else None)\u001b[0m\u001b[0;34m\u001b[0m\u001b[0;34m\u001b[0m\u001b[0;34m\u001b[0m\u001b[0m\n\u001b[1;32m    989\u001b[0m         \u001b[0;32mtry\u001b[0m\u001b[0;34m:\u001b[0m\u001b[0;34m\u001b[0m\u001b[0;34m\u001b[0m\u001b[0m\n\u001b[0;32m--> 990\u001b[0;31m             \u001b[0mdata\u001b[0m \u001b[0;34m=\u001b[0m \u001b[0mself\u001b[0m\u001b[0;34m.\u001b[0m\u001b[0m_data_queue\u001b[0m\u001b[0;34m.\u001b[0m\u001b[0mget\u001b[0m\u001b[0;34m(\u001b[0m\u001b[0mtimeout\u001b[0m\u001b[0;34m=\u001b[0m\u001b[0mtimeout\u001b[0m\u001b[0;34m)\u001b[0m\u001b[0;34m\u001b[0m\u001b[0;34m\u001b[0m\u001b[0m\n\u001b[0m\u001b[1;32m    991\u001b[0m             \u001b[0;32mreturn\u001b[0m \u001b[0;34m(\u001b[0m\u001b[0;32mTrue\u001b[0m\u001b[0;34m,\u001b[0m \u001b[0mdata\u001b[0m\u001b[0;34m)\u001b[0m\u001b[0;34m\u001b[0m\u001b[0;34m\u001b[0m\u001b[0m\n\u001b[1;32m    992\u001b[0m         \u001b[0;32mexcept\u001b[0m \u001b[0mException\u001b[0m \u001b[0;32mas\u001b[0m \u001b[0me\u001b[0m\u001b[0;34m:\u001b[0m\u001b[0;34m\u001b[0m\u001b[0;34m\u001b[0m\u001b[0m\n",
            "\u001b[0;32m/usr/lib/python3.7/multiprocessing/queues.py\u001b[0m in \u001b[0;36mget\u001b[0;34m(self, block, timeout)\u001b[0m\n\u001b[1;32m    111\u001b[0m                 \u001b[0mself\u001b[0m\u001b[0;34m.\u001b[0m\u001b[0m_rlock\u001b[0m\u001b[0;34m.\u001b[0m\u001b[0mrelease\u001b[0m\u001b[0;34m(\u001b[0m\u001b[0;34m)\u001b[0m\u001b[0;34m\u001b[0m\u001b[0;34m\u001b[0m\u001b[0m\n\u001b[1;32m    112\u001b[0m         \u001b[0;31m# unserialize the data after having released the lock\u001b[0m\u001b[0;34m\u001b[0m\u001b[0;34m\u001b[0m\u001b[0;34m\u001b[0m\u001b[0m\n\u001b[0;32m--> 113\u001b[0;31m         \u001b[0;32mreturn\u001b[0m \u001b[0m_ForkingPickler\u001b[0m\u001b[0;34m.\u001b[0m\u001b[0mloads\u001b[0m\u001b[0;34m(\u001b[0m\u001b[0mres\u001b[0m\u001b[0;34m)\u001b[0m\u001b[0;34m\u001b[0m\u001b[0;34m\u001b[0m\u001b[0m\n\u001b[0m\u001b[1;32m    114\u001b[0m \u001b[0;34m\u001b[0m\u001b[0m\n\u001b[1;32m    115\u001b[0m     \u001b[0;32mdef\u001b[0m \u001b[0mqsize\u001b[0m\u001b[0;34m(\u001b[0m\u001b[0mself\u001b[0m\u001b[0;34m)\u001b[0m\u001b[0;34m:\u001b[0m\u001b[0;34m\u001b[0m\u001b[0;34m\u001b[0m\u001b[0m\n",
            "\u001b[0;32m/usr/local/lib/python3.7/dist-packages/torch/multiprocessing/reductions.py\u001b[0m in \u001b[0;36mrebuild_storage_fd\u001b[0;34m(cls, df, size)\u001b[0m\n\u001b[1;32m    287\u001b[0m \u001b[0;34m\u001b[0m\u001b[0m\n\u001b[1;32m    288\u001b[0m \u001b[0;32mdef\u001b[0m \u001b[0mrebuild_storage_fd\u001b[0m\u001b[0;34m(\u001b[0m\u001b[0mcls\u001b[0m\u001b[0;34m,\u001b[0m \u001b[0mdf\u001b[0m\u001b[0;34m,\u001b[0m \u001b[0msize\u001b[0m\u001b[0;34m)\u001b[0m\u001b[0;34m:\u001b[0m\u001b[0;34m\u001b[0m\u001b[0;34m\u001b[0m\u001b[0m\n\u001b[0;32m--> 289\u001b[0;31m     \u001b[0mfd\u001b[0m \u001b[0;34m=\u001b[0m \u001b[0mdf\u001b[0m\u001b[0;34m.\u001b[0m\u001b[0mdetach\u001b[0m\u001b[0;34m(\u001b[0m\u001b[0;34m)\u001b[0m\u001b[0;34m\u001b[0m\u001b[0;34m\u001b[0m\u001b[0m\n\u001b[0m\u001b[1;32m    290\u001b[0m     \u001b[0;32mtry\u001b[0m\u001b[0;34m:\u001b[0m\u001b[0;34m\u001b[0m\u001b[0;34m\u001b[0m\u001b[0m\n\u001b[1;32m    291\u001b[0m         \u001b[0mstorage\u001b[0m \u001b[0;34m=\u001b[0m \u001b[0mstorage_from_cache\u001b[0m\u001b[0;34m(\u001b[0m\u001b[0mcls\u001b[0m\u001b[0;34m,\u001b[0m \u001b[0mfd_id\u001b[0m\u001b[0;34m(\u001b[0m\u001b[0mfd\u001b[0m\u001b[0;34m)\u001b[0m\u001b[0;34m)\u001b[0m\u001b[0;34m\u001b[0m\u001b[0;34m\u001b[0m\u001b[0m\n",
            "\u001b[0;32m/usr/lib/python3.7/multiprocessing/resource_sharer.py\u001b[0m in \u001b[0;36mdetach\u001b[0;34m(self)\u001b[0m\n\u001b[1;32m     56\u001b[0m             \u001b[0;34m'''Get the fd.  This should only be called once.'''\u001b[0m\u001b[0;34m\u001b[0m\u001b[0;34m\u001b[0m\u001b[0m\n\u001b[1;32m     57\u001b[0m             \u001b[0;32mwith\u001b[0m \u001b[0m_resource_sharer\u001b[0m\u001b[0;34m.\u001b[0m\u001b[0mget_connection\u001b[0m\u001b[0;34m(\u001b[0m\u001b[0mself\u001b[0m\u001b[0;34m.\u001b[0m\u001b[0m_id\u001b[0m\u001b[0;34m)\u001b[0m \u001b[0;32mas\u001b[0m \u001b[0mconn\u001b[0m\u001b[0;34m:\u001b[0m\u001b[0;34m\u001b[0m\u001b[0;34m\u001b[0m\u001b[0m\n\u001b[0;32m---> 58\u001b[0;31m                 \u001b[0;32mreturn\u001b[0m \u001b[0mreduction\u001b[0m\u001b[0;34m.\u001b[0m\u001b[0mrecv_handle\u001b[0m\u001b[0;34m(\u001b[0m\u001b[0mconn\u001b[0m\u001b[0;34m)\u001b[0m\u001b[0;34m\u001b[0m\u001b[0;34m\u001b[0m\u001b[0m\n\u001b[0m\u001b[1;32m     59\u001b[0m \u001b[0;34m\u001b[0m\u001b[0m\n\u001b[1;32m     60\u001b[0m \u001b[0;34m\u001b[0m\u001b[0m\n",
            "\u001b[0;32m/usr/lib/python3.7/multiprocessing/reduction.py\u001b[0m in \u001b[0;36mrecv_handle\u001b[0;34m(conn)\u001b[0m\n\u001b[1;32m    183\u001b[0m         \u001b[0;34m'''Receive a handle over a local connection.'''\u001b[0m\u001b[0;34m\u001b[0m\u001b[0;34m\u001b[0m\u001b[0m\n\u001b[1;32m    184\u001b[0m         \u001b[0;32mwith\u001b[0m \u001b[0msocket\u001b[0m\u001b[0;34m.\u001b[0m\u001b[0mfromfd\u001b[0m\u001b[0;34m(\u001b[0m\u001b[0mconn\u001b[0m\u001b[0;34m.\u001b[0m\u001b[0mfileno\u001b[0m\u001b[0;34m(\u001b[0m\u001b[0;34m)\u001b[0m\u001b[0;34m,\u001b[0m \u001b[0msocket\u001b[0m\u001b[0;34m.\u001b[0m\u001b[0mAF_UNIX\u001b[0m\u001b[0;34m,\u001b[0m \u001b[0msocket\u001b[0m\u001b[0;34m.\u001b[0m\u001b[0mSOCK_STREAM\u001b[0m\u001b[0;34m)\u001b[0m \u001b[0;32mas\u001b[0m \u001b[0ms\u001b[0m\u001b[0;34m:\u001b[0m\u001b[0;34m\u001b[0m\u001b[0;34m\u001b[0m\u001b[0m\n\u001b[0;32m--> 185\u001b[0;31m             \u001b[0;32mreturn\u001b[0m \u001b[0mrecvfds\u001b[0m\u001b[0;34m(\u001b[0m\u001b[0ms\u001b[0m\u001b[0;34m,\u001b[0m \u001b[0;36m1\u001b[0m\u001b[0;34m)\u001b[0m\u001b[0;34m[\u001b[0m\u001b[0;36m0\u001b[0m\u001b[0;34m]\u001b[0m\u001b[0;34m\u001b[0m\u001b[0;34m\u001b[0m\u001b[0m\n\u001b[0m\u001b[1;32m    186\u001b[0m \u001b[0;34m\u001b[0m\u001b[0m\n\u001b[1;32m    187\u001b[0m     \u001b[0;32mdef\u001b[0m \u001b[0mDupFd\u001b[0m\u001b[0;34m(\u001b[0m\u001b[0mfd\u001b[0m\u001b[0;34m)\u001b[0m\u001b[0;34m:\u001b[0m\u001b[0;34m\u001b[0m\u001b[0;34m\u001b[0m\u001b[0m\n",
            "\u001b[0;32m/usr/lib/python3.7/multiprocessing/reduction.py\u001b[0m in \u001b[0;36mrecvfds\u001b[0;34m(sock, size)\u001b[0m\n\u001b[1;32m    151\u001b[0m         \u001b[0ma\u001b[0m \u001b[0;34m=\u001b[0m \u001b[0marray\u001b[0m\u001b[0;34m.\u001b[0m\u001b[0marray\u001b[0m\u001b[0;34m(\u001b[0m\u001b[0;34m'i'\u001b[0m\u001b[0;34m)\u001b[0m\u001b[0;34m\u001b[0m\u001b[0;34m\u001b[0m\u001b[0m\n\u001b[1;32m    152\u001b[0m         \u001b[0mbytes_size\u001b[0m \u001b[0;34m=\u001b[0m \u001b[0ma\u001b[0m\u001b[0;34m.\u001b[0m\u001b[0mitemsize\u001b[0m \u001b[0;34m*\u001b[0m \u001b[0msize\u001b[0m\u001b[0;34m\u001b[0m\u001b[0;34m\u001b[0m\u001b[0m\n\u001b[0;32m--> 153\u001b[0;31m         \u001b[0mmsg\u001b[0m\u001b[0;34m,\u001b[0m \u001b[0mancdata\u001b[0m\u001b[0;34m,\u001b[0m \u001b[0mflags\u001b[0m\u001b[0;34m,\u001b[0m \u001b[0maddr\u001b[0m \u001b[0;34m=\u001b[0m \u001b[0msock\u001b[0m\u001b[0;34m.\u001b[0m\u001b[0mrecvmsg\u001b[0m\u001b[0;34m(\u001b[0m\u001b[0;36m1\u001b[0m\u001b[0;34m,\u001b[0m \u001b[0msocket\u001b[0m\u001b[0;34m.\u001b[0m\u001b[0mCMSG_SPACE\u001b[0m\u001b[0;34m(\u001b[0m\u001b[0mbytes_size\u001b[0m\u001b[0;34m)\u001b[0m\u001b[0;34m)\u001b[0m\u001b[0;34m\u001b[0m\u001b[0;34m\u001b[0m\u001b[0m\n\u001b[0m\u001b[1;32m    154\u001b[0m         \u001b[0;32mif\u001b[0m \u001b[0;32mnot\u001b[0m \u001b[0mmsg\u001b[0m \u001b[0;32mand\u001b[0m \u001b[0;32mnot\u001b[0m \u001b[0mancdata\u001b[0m\u001b[0;34m:\u001b[0m\u001b[0;34m\u001b[0m\u001b[0;34m\u001b[0m\u001b[0m\n\u001b[1;32m    155\u001b[0m             \u001b[0;32mraise\u001b[0m \u001b[0mEOFError\u001b[0m\u001b[0;34m\u001b[0m\u001b[0;34m\u001b[0m\u001b[0m\n",
            "\u001b[0;31mKeyboardInterrupt\u001b[0m: "
          ]
        }
      ]
    },
    {
      "cell_type": "code",
      "metadata": {
        "id": "3k-HHAoXDZCJ",
        "colab": {
          "base_uri": "https://localhost:8080/"
        },
        "outputId": "ce45f3e5-ac44-4e64-8bec-8e2353ce7fe0"
      },
      "source": [
        "# 166693, len(test_data), len(test_df)\n",
        "all_ids = {x for (x, _) in test_data}\n",
        "\n",
        "for _, row in test_df.iterrows():\n",
        "  if row['id'] not in all_ids:\n",
        "    test_data.append((row['id'], 1))\n",
        "    \n",
        "len(test_data)"
      ],
      "execution_count": null,
      "outputs": [
        {
          "output_type": "execute_result",
          "data": {
            "text/plain": [
              "166693"
            ]
          },
          "metadata": {
            "tags": []
          },
          "execution_count": 93
        }
      ]
    },
    {
      "cell_type": "code",
      "metadata": {
        "id": "gCkYUGAMgvqF"
      },
      "source": [
        "pd.DataFrame([(id, cls_to_score[cls]) for (id, cls) in test_data], columns = [\"id\", \"relevance\"]).to_csv(\"test_res.csv\", index=  False)"
      ],
      "execution_count": null,
      "outputs": []
    },
    {
      "cell_type": "code",
      "metadata": {
        "id": "Ee6XfNPdDKx-",
        "colab": {
          "base_uri": "https://localhost:8080/",
          "height": 17
        },
        "outputId": "18c4fd2a-77b5-40dc-b802-71af0983f330"
      },
      "source": [
        "from google.colab import files\n",
        "files.download('test_res.csv') "
      ],
      "execution_count": null,
      "outputs": [
        {
          "output_type": "display_data",
          "data": {
            "application/javascript": [
              "\n",
              "    async function download(id, filename, size) {\n",
              "      if (!google.colab.kernel.accessAllowed) {\n",
              "        return;\n",
              "      }\n",
              "      const div = document.createElement('div');\n",
              "      const label = document.createElement('label');\n",
              "      label.textContent = `Downloading \"${filename}\": `;\n",
              "      div.appendChild(label);\n",
              "      const progress = document.createElement('progress');\n",
              "      progress.max = size;\n",
              "      div.appendChild(progress);\n",
              "      document.body.appendChild(div);\n",
              "\n",
              "      const buffers = [];\n",
              "      let downloaded = 0;\n",
              "\n",
              "      const channel = await google.colab.kernel.comms.open(id);\n",
              "      // Send a message to notify the kernel that we're ready.\n",
              "      channel.send({})\n",
              "\n",
              "      for await (const message of channel.messages) {\n",
              "        // Send a message to notify the kernel that we're ready.\n",
              "        channel.send({})\n",
              "        if (message.buffers) {\n",
              "          for (const buffer of message.buffers) {\n",
              "            buffers.push(buffer);\n",
              "            downloaded += buffer.byteLength;\n",
              "            progress.value = downloaded;\n",
              "          }\n",
              "        }\n",
              "      }\n",
              "      const blob = new Blob(buffers, {type: 'application/binary'});\n",
              "      const a = document.createElement('a');\n",
              "      a.href = window.URL.createObjectURL(blob);\n",
              "      a.download = filename;\n",
              "      div.appendChild(a);\n",
              "      a.click();\n",
              "      div.remove();\n",
              "    }\n",
              "  "
            ],
            "text/plain": [
              "<IPython.core.display.Javascript object>"
            ]
          },
          "metadata": {
            "tags": []
          }
        },
        {
          "output_type": "display_data",
          "data": {
            "application/javascript": [
              "download(\"download_f1fa6b5d-807b-4df1-b82c-3b19b4724bfd\", \"test_res.csv\", 1850918)"
            ],
            "text/plain": [
              "<IPython.core.display.Javascript object>"
            ]
          },
          "metadata": {
            "tags": []
          }
        }
      ]
    },
    {
      "cell_type": "code",
      "metadata": {
        "id": "nrqzbWUODp-Z",
        "colab": {
          "base_uri": "https://localhost:8080/",
          "height": 114
        },
        "outputId": "3afbb0ac-512f-4b76-e5a1-a8d59f96d5fb"
      },
      "source": [
        "test_df.sample(1)"
      ],
      "execution_count": null,
      "outputs": [
        {
          "output_type": "execute_result",
          "data": {
            "text/html": [
              "<div>\n",
              "<style scoped>\n",
              "    .dataframe tbody tr th:only-of-type {\n",
              "        vertical-align: middle;\n",
              "    }\n",
              "\n",
              "    .dataframe tbody tr th {\n",
              "        vertical-align: top;\n",
              "    }\n",
              "\n",
              "    .dataframe thead th {\n",
              "        text-align: right;\n",
              "    }\n",
              "</style>\n",
              "<table border=\"1\" class=\"dataframe\">\n",
              "  <thead>\n",
              "    <tr style=\"text-align: right;\">\n",
              "      <th></th>\n",
              "      <th>id</th>\n",
              "      <th>product_uid</th>\n",
              "      <th>product_title</th>\n",
              "      <th>search_term</th>\n",
              "      <th>product_title_tokens</th>\n",
              "      <th>search_term_tokens</th>\n",
              "      <th>my_relevance</th>\n",
              "    </tr>\n",
              "  </thead>\n",
              "  <tbody>\n",
              "    <tr>\n",
              "      <th>107023</th>\n",
              "      <td>159578</td>\n",
              "      <td>161578</td>\n",
              "      <td>Speedi-Products 7 in. 24-Gauge Single Wall Stove Pipe 90 Degree Adjustable Elbow in Black Matte</td>\n",
              "      <td>singel wall stove pipe</td>\n",
              "      <td>[speedi, product, #, ##, gaug, singl, wall, stove, pipe, ##, degre, adjust, elbow, black, matt]</td>\n",
              "      <td>[singel, wall, stove, pipe]</td>\n",
              "      <td>1</td>\n",
              "    </tr>\n",
              "  </tbody>\n",
              "</table>\n",
              "</div>"
            ],
            "text/plain": [
              "            id  product_uid  ...           search_term_tokens my_relevance\n",
              "107023  159578  161578       ...  [singel, wall, stove, pipe]  1          \n",
              "\n",
              "[1 rows x 7 columns]"
            ]
          },
          "metadata": {
            "tags": []
          },
          "execution_count": 92
        }
      ]
    }
  ]
}