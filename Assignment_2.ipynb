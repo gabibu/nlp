{
  "nbformat": 4,
  "nbformat_minor": 0,
  "metadata": {
    "colab": {
      "name": "Assignment 2",
      "provenance": [],
      "toc_visible": true,
      "include_colab_link": true
    },
    "kernelspec": {
      "name": "python3",
      "display_name": "Python 3"
    }
  },
  "cells": [
    {
      "cell_type": "markdown",
      "metadata": {
        "id": "view-in-github",
        "colab_type": "text"
      },
      "source": [
        "<a href=\"https://colab.research.google.com/github/gabibu/nlp/blob/master/Assignment_2.ipynb\" target=\"_parent\"><img src=\"https://colab.research.google.com/assets/colab-badge.svg\" alt=\"Open In Colab\"/></a>"
      ]
    },
    {
      "cell_type": "markdown",
      "metadata": {
        "id": "n0zB2BpE6DhW"
      },
      "source": [
        "# Assignment 2\n",
        "\n",
        "This assignment is about training and evaluating a POS tagger with some real data. The dataset is available through the Universal Dependencies (https://universaldependencies.org/) (UD) project. To get to know the project, please visit https://universaldependencies.org/introduction.html)"
      ]
    },
    {
      "cell_type": "code",
      "metadata": {
        "colab": {
          "base_uri": "https://localhost:8080/"
        },
        "id": "iRm7zcfq56HF",
        "outputId": "c33ca550-a51f-4fbf-e8e2-8a9d8f26f0d9"
      },
      "source": [
        "import numpy as np\n",
        "import operator\n",
        "import nltk\n",
        "\n",
        "!pip install conllutils\n",
        "!pip install conll_df\n",
        "import conllutils"
      ],
      "execution_count": 1,
      "outputs": [
        {
          "output_type": "stream",
          "text": [
            "Collecting conllutils\n",
            "  Downloading https://files.pythonhosted.org/packages/20/33/508eabad4f84f65971f3eca651478e4c378db1f44070d76a20c0eacf347d/conllutils-1.1.4.tar.gz\n",
            "Requirement already satisfied: numpy in /usr/local/lib/python3.7/dist-packages (from conllutils) (1.19.5)\n",
            "Building wheels for collected packages: conllutils\n",
            "  Building wheel for conllutils (setup.py) ... \u001b[?25l\u001b[?25hdone\n",
            "  Created wheel for conllutils: filename=conllutils-1.1.4-cp37-none-any.whl size=17696 sha256=579613d65f061729ebed35e2466756f3b3c5b7b68010bf46cea0cf8c97b9ff6b\n",
            "  Stored in directory: /root/.cache/pip/wheels/94/08/3a/74fab1fdde78b548f26b2de930af3cee81a592fafe9e758a57\n",
            "Successfully built conllutils\n",
            "Installing collected packages: conllutils\n",
            "Successfully installed conllutils-1.1.4\n",
            "Collecting conll_df\n",
            "  Downloading https://files.pythonhosted.org/packages/eb/fe/a562090ef7651a00f2696aa384279724ed1f6f90f1b2b5e7a98fb9bb151f/conll_df-0.0.4.tar.gz\n",
            "Requirement already satisfied: pandas>=0.19.2 in /usr/local/lib/python3.7/dist-packages (from conll_df) (1.1.5)\n",
            "Requirement already satisfied: python-dateutil>=2.7.3 in /usr/local/lib/python3.7/dist-packages (from pandas>=0.19.2->conll_df) (2.8.1)\n",
            "Requirement already satisfied: numpy>=1.15.4 in /usr/local/lib/python3.7/dist-packages (from pandas>=0.19.2->conll_df) (1.19.5)\n",
            "Requirement already satisfied: pytz>=2017.2 in /usr/local/lib/python3.7/dist-packages (from pandas>=0.19.2->conll_df) (2018.9)\n",
            "Requirement already satisfied: six>=1.5 in /usr/local/lib/python3.7/dist-packages (from python-dateutil>=2.7.3->pandas>=0.19.2->conll_df) (1.15.0)\n",
            "Building wheels for collected packages: conll-df\n",
            "  Building wheel for conll-df (setup.py) ... \u001b[?25lerror\n",
            "\u001b[31m  ERROR: Failed building wheel for conll-df\u001b[0m\n",
            "\u001b[?25h  Running setup.py clean for conll-df\n",
            "Failed to build conll-df\n",
            "Installing collected packages: conll-df\n",
            "    Running setup.py install for conll-df ... \u001b[?25l\u001b[?25hdone\n",
            "Successfully installed conll-df-0.0.4\n"
          ],
          "name": "stdout"
        }
      ]
    },
    {
      "cell_type": "markdown",
      "metadata": {
        "id": "UH-Xvqip6Teu"
      },
      "source": [
        "**Part 1** (getting the data)\n",
        "\n",
        "You can download the dataset files directly from the UD website, but it will let you only download all the languages in one compressed file. In this assignment you will be working with th GUM dataset, which you can download directly from:\n",
        "https://github.com/UniversalDependencies/UD_English-GUM.\n",
        "Please download it to your colab machine.\n",
        "\n"
      ]
    },
    {
      "cell_type": "code",
      "metadata": {
        "id": "nsZsyTVC6Sw0",
        "colab": {
          "base_uri": "https://localhost:8080/"
        },
        "outputId": "9e2f3ef2-49d9-462e-d239-9ef1a4d2cf10"
      },
      "source": [
        "!git clone https://github.com/UniversalDependencies/UD_English-GUM"
      ],
      "execution_count": 2,
      "outputs": [
        {
          "output_type": "stream",
          "text": [
            "Cloning into 'UD_English-GUM'...\n",
            "remote: Enumerating objects: 2518, done.\u001b[K\n",
            "remote: Counting objects: 100% (1529/1529), done.\u001b[K\n",
            "remote: Compressing objects: 100% (660/660), done.\u001b[K\n",
            "remote: Total 2518 (delta 1342), reused 1050 (delta 869), pack-reused 989\u001b[K\n",
            "Receiving objects: 100% (2518/2518), 16.21 MiB | 9.15 MiB/s, done.\n",
            "Resolving deltas: 100% (2232/2232), done.\n"
          ],
          "name": "stdout"
        }
      ]
    },
    {
      "cell_type": "markdown",
      "metadata": {
        "id": "CZZGOtoteWHz"
      },
      "source": [
        "We will use the (train/dev/test) files:\n",
        "\n",
        "UD_English-GUM/en_gum-ud-train.conllu\n",
        "\n",
        "UD_English-GUM/en_gum-ud-dev.conllu\n",
        "\n",
        "UD_English-GUM/en_gum-ud-test.conllu\n",
        "\n",
        "They are all formatted in the conllu format. You may read about it [here](https://universaldependencies.org/format.html). There is a utility library **conllutils**, which can help you read the data into the memory. It has already been installed and imported above.\n",
        "\n",
        "You should write a code that reads the three datasets into memory. You may choose the data structure by yourself. As you can see, every word is represented by a line, with columns representing specific features. We are only interested in the first and fourth columns, corresponding to the word and its POS tag."
      ]
    },
    {
      "cell_type": "code",
      "metadata": {
        "id": "NUd1i41d3uQJ",
        "colab": {
          "base_uri": "https://localhost:8080/"
        },
        "outputId": "8b2f4ca7-e312-4ff7-ffca-a5ab5096c813"
      },
      "source": [
        "from conllutils import pipe\n",
        "\n",
        "# Your code goes here\n",
        "\n",
        "def read_dataset(file_path):\n",
        "  \n",
        "  p = pipe().read_conllu(file_path)\n",
        "  return [[(t.form, t.upos) for t in s] for s in p.collect()]\n",
        "  \n",
        "train_file = \"UD_English-GUM/en_gum-ud-train.conllu\"\n",
        "dev_file = 'UD_English-GUM/en_gum-ud-dev.conllu'\n",
        "test_file = 'UD_English-GUM/en_gum-ud-test.conllu'\n",
        "\n",
        "train_data = read_dataset(train_file)\n",
        "dev_data = read_dataset(dev_file)\n",
        "test_data = read_dataset(test_file)\n",
        "len(train_data), len(dev_data), len(test_data), train_data[0:2]"
      ],
      "execution_count": 3,
      "outputs": [
        {
          "output_type": "execute_result",
          "data": {
            "text/plain": [
              "(4287,\n",
              " 784,\n",
              " 890,\n",
              " [[('Aesthetic', 'ADJ'),\n",
              "   ('Appreciation', 'NOUN'),\n",
              "   ('and', 'CCONJ'),\n",
              "   ('Spanish', 'ADJ'),\n",
              "   ('Art', 'NOUN'),\n",
              "   (':', 'PUNCT')],\n",
              "  [('Insights', 'NOUN'), ('from', 'ADP'), ('Eye-Tracking', 'NOUN')]])"
            ]
          },
          "metadata": {
            "tags": []
          },
          "execution_count": 3
        }
      ]
    },
    {
      "cell_type": "markdown",
      "metadata": {
        "id": "EdYeQl1Gds2n"
      },
      "source": [
        "We will use the (train/dev/test) files:\n",
        "\n",
        "UD_English-GUM/en_gum-ud-train.conllu\n",
        "\n",
        "UD_English-GUM/en_gum-ud-dev.conllu\n",
        "\n",
        "UD_English-GUM/en_gum-ud-test.conllu\n",
        "\n",
        "They are all formatted in the conllu format. You may read about it [here](https://universaldependencies.org/format.html). There is a utility library **conllutils**, which can help you read the data into the memory. It has already been installed and imported above.\n",
        "\n",
        "You should write a code that reads the three datasets into memory. You may choose the data structure by yourself. As you can see, every word is represented by a line, with columns representing specific features. We are only interested in the first and fourth columns, corresponding to the word and its POS tag."
      ]
    },
    {
      "cell_type": "markdown",
      "metadata": {
        "id": "nTjfuoOmdsKc"
      },
      "source": [
        "We will use the (train/dev/test) files:\n",
        "\n",
        "UD_English-GUM/en_gum-ud-train.conllu\n",
        "\n",
        "UD_English-GUM/en_gum-ud-dev.conllu\n",
        "\n",
        "UD_English-GUM/en_gum-ud-test.conllu\n",
        "\n",
        "They are all formatted in the conllu format. You may read about it [here](https://universaldependencies.org/format.html). There is a utility library **conllutils**, which can help you read the data into the memory. It has already been installed and imported above.\n",
        "\n",
        "You should write a code that reads the three datasets into memory. You may choose the data structure by yourself. As you can see, every word is represented by a line, with columns representing specific features. We are only interested in the first and fourth columns, corresponding to the word and its POS tag."
      ]
    },
    {
      "cell_type": "markdown",
      "metadata": {
        "id": "q0Z9BMNM7EP3"
      },
      "source": [
        "**Part 2**\n",
        "\n",
        "Write a class **simple_tagger**, with methods *train* and *evaluate*. The method *train* receives the data as a list of sentences, and use it for training the tagger. In this case, it should learn a simple dictionary that maps words to tags, defined as the most frequent tag for every word (in case there is more than one most frequent tag, you may select one of them randomly). The dictionary should be stored as a class member for evaluation.\n",
        "\n",
        "The method *evaluate* receives the data as a list of sentences, and use it to evaluate the tagger performance. Specifically, you should calculate the word and sentence level accuracy.\n",
        "The evaluation process is simply going word by word, querying the dictionary (created by the train method) for each word’s tag and compare it to the true tag of that word. The word-level accuracy is the number of successes divided by the number of words. For OOV (out of vocabulary, or unknown) words, the tagger should assign the most frequent tag in the entire training set (i.e., the mode). The function should return the two numbers: word level accuracy and sentence level accuracy.\n"
      ]
    },
    {
      "cell_type": "code",
      "metadata": {
        "id": "MtivZLBH7dXq"
      },
      "source": [
        "from collections import defaultdict\n",
        "class simple_tagger:\n",
        "  \n",
        "  def __init__(self):\n",
        "    self.mapper  = None\n",
        "\n",
        "  def train(self, data):\n",
        "    word_tag_counter = defaultdict(lambda : defaultdict(lambda : 0))\n",
        "    tag_counter = defaultdict(lambda : 0)\n",
        "\n",
        "\n",
        "    for sentense in data:\n",
        "      for (word, tag) in sentense:\n",
        "        word_tag_counter[word][tag] += 1\n",
        "        tag_counter[tag] += 1\n",
        "    \n",
        "    default_tag = None\n",
        "    default_tag_max = 0 \n",
        "\n",
        "    for tag, count in tag_counter.items():\n",
        "      if count > default_tag_max:\n",
        "        default_tag_max = count\n",
        "        default_tag = tag \n",
        "    \n",
        "    self.mapper = defaultdict(lambda : default_tag)\n",
        "\n",
        "    for word, tags_counter in word_tag_counter.items():\n",
        "      max_count = 0\n",
        "      best_word_tag = None\n",
        "      for tag, counter in tags_counter.items():\n",
        "        if counter > max_count:\n",
        "          max_count = counter\n",
        "          best_word_tag = tag\n",
        "      \n",
        "      self.mapper[word] = best_word_tag\n",
        "  \n",
        "  def evaluate(self, data):\n",
        "    \n",
        "    num_of_words = 0.0\n",
        "    num_of_correct_words = 0.0\n",
        "    num_of_correct_sentenses = 0.0 \n",
        "\n",
        "    for sentense in data:\n",
        "      num_of_words += len(sentense)\n",
        "      correct_sentense = True\n",
        "      for (word, annotated_tag) in sentense:\n",
        "        model_tag = self.mapper[word]\n",
        "        if model_tag == annotated_tag:\n",
        "          num_of_correct_words += 1\n",
        "        else:\n",
        "          correct_sentense = False\n",
        "      \n",
        "      if correct_sentense:\n",
        "        num_of_correct_sentenses += 1\n",
        "    \n",
        "    return num_of_correct_words/num_of_words, num_of_correct_sentenses/len(data)"
      ],
      "execution_count": 4,
      "outputs": []
    },
    {
      "cell_type": "markdown",
      "metadata": {
        "id": "etK9iZIq8i0X"
      },
      "source": [
        "**Part 3**\n",
        "\n",
        "Similar to part 2, write the class hmm_tagger, which implements HMM tagging. The method *train* should build the matrices A, B and Pi, from the data as discussed in class. The method *evaluate* should find the best tag sequence for every input sentence using he Viterbi decoding algorithm, and then calculate the word and sentence level accuracy using the gold-standard tags. You should implement the Viterbi algorithm in the next block and call it from your class.\n",
        "\n",
        "Additional guidance:\n",
        "1. The matrix B represents the emissions probabilities. Since B is a matrix, you should build a dictionary that maps every unique word in the corpus to a serial numeric id (starting with 0). This way columns in B represents word ids.\n",
        "2. During the evaluation, you should first convert each word into it’s index and then create the observation array to be given to Viterbi, as a list of ids. OOV words should be assigned with a random tag. To make sure Viterbi works appropriately, you can simply break the sentence into multiple segments every time you see an OOV word, and decode every segment individually using Viterbi.\n"
      ]
    },
    {
      "cell_type": "code",
      "metadata": {
        "id": "TpH7GuiQ9L6W",
        "outputId": "f3ee08ce-38a9-4f3e-b462-7e6eb3e4b8b1",
        "colab": {
          "base_uri": "https://localhost:8080/"
        }
      },
      "source": [
        "class hmm_tagger:\n",
        "\n",
        "  def __init__(self):\n",
        "    self._all_tags = None\n",
        "    self.tag_to_index = None\n",
        "    self._initial_probs = None\n",
        "    self._transition_matrix = None\n",
        "    self._all_words = None\n",
        "    self._word_to_index = None\n",
        "\n",
        "  def train(self, data):\n",
        "    # TODO\n",
        "    self._build_transion_matrix(data)\n",
        "\n",
        "\n",
        "  def _build_emission_matrix(self, data):\n",
        "    self._all_words = {word_tag[0] for sentense in data for word_tag in sentense} \n",
        "    self._word_to_index = {word: i for (i, word) in enumerate(self._all_words)}\n",
        "\n",
        "    a_counts = np.zeros(shape =(len(self._all_words), len(self._all_tags)))\n",
        "\n",
        "\n",
        "\n",
        "\n",
        "\n",
        "  def _build_transion_matrix(self, data):\n",
        "    self._all_tags = {word_tag[1] for sentense in data for word_tag in sentense}\n",
        "    self.tag_to_index = {tag: i for (i, tag) in enumerate(self._all_tags)}\n",
        "\n",
        "    initial_counts = np.zeros(shape = len(self._all_tags))\n",
        "    \n",
        "    a_counts = np.zeros(shape =(len(self._all_tags), len(self._all_tags)))\n",
        "\n",
        "    for sentense in data:\n",
        "      prev_tag = None\n",
        "      for word_index, (word, tag) in enumerate(sentense):\n",
        "        if word_index == 0:\n",
        "          initial_counts[self.tag_to_index[tag]] += 1\n",
        "        else:\n",
        "          a_counts[self.tag_to_index[prev_tag]][self.tag_to_index[tag]] += 1\n",
        "        \n",
        "        prev_tag = tag \n",
        "    \n",
        "    self._initial_probs = initial_counts/np.sum(initial_counts)\n",
        "\n",
        "    rows_count = np.sum(a_counts, axis=1)\n",
        "    self._transition_matrix = (a_counts.T / rows_count).T\n",
        "\n",
        "  def evaluate(self, data):\n",
        "    # TODO\n",
        "    pass\n",
        "  \n",
        "t = hmm_tagger()\n",
        "t.train(train_data[0:2])\n",
        "t._transition_matrix"
      ],
      "execution_count": 30,
      "outputs": [
        {
          "output_type": "stream",
          "text": [
            "/usr/local/lib/python3.7/dist-packages/ipykernel_launcher.py:36: RuntimeWarning: invalid value encountered in true_divide\n"
          ],
          "name": "stderr"
        },
        {
          "output_type": "execute_result",
          "data": {
            "text/plain": [
              "array([[0.        , 0.        , 1.        , 0.        , 0.        ],\n",
              "       [0.        , 0.        , 0.        , 1.        , 0.        ],\n",
              "       [0.33333333, 0.33333333, 0.        , 0.        , 0.33333333],\n",
              "       [0.        , 0.        , 1.        , 0.        , 0.        ],\n",
              "       [       nan,        nan,        nan,        nan,        nan]])"
            ]
          },
          "metadata": {
            "tags": []
          },
          "execution_count": 30
        }
      ]
    },
    {
      "cell_type": "code",
      "metadata": {
        "id": "w8mGB7UAxPya",
        "outputId": "28048b08-ce1c-42af-a794-dee366b7b70f",
        "colab": {
          "base_uri": "https://localhost:8080/"
        }
      },
      "source": [
        "train_data[0:2], t.tag_to_index "
      ],
      "execution_count": 34,
      "outputs": [
        {
          "output_type": "execute_result",
          "data": {
            "text/plain": [
              "([[('Aesthetic', 'ADJ'),\n",
              "   ('Appreciation', 'NOUN'),\n",
              "   ('and', 'CCONJ'),\n",
              "   ('Spanish', 'ADJ'),\n",
              "   ('Art', 'NOUN'),\n",
              "   (':', 'PUNCT')],\n",
              "  [('Insights', 'NOUN'), ('from', 'ADP'), ('Eye-Tracking', 'NOUN')]],\n",
              " {'ADJ': 3, 'ADP': 0, 'CCONJ': 1, 'NOUN': 2, 'PUNCT': 4})"
            ]
          },
          "metadata": {
            "tags": []
          },
          "execution_count": 34
        }
      ]
    },
    {
      "cell_type": "code",
      "metadata": {
        "id": "DR6KJW2F9yqt"
      },
      "source": [
        "# Viterbi\n",
        "def viterbi (observations, A, B, Pi):\n",
        "  #...\n",
        "\n",
        "  return best_sequence\n",
        "\n",
        "# A simple example to run the Viterbi algorithm:\n",
        "#( Same as in presentation \"NLP 3 - Tagging\" on slide 35)\n",
        "\n",
        "# A = np.array([[0.3, 0.7], [0.2, 0.8]])\n",
        "# B = np.array([[0.1, 0.1, 0.3, 0.5], [0.3, 0.3, 0.2, 0.2]])\n",
        "# Pi = np.array([0.4, 0.6])\n",
        "# print(viterbi([0, 3, 1, 0], A, B, Pi))\n",
        "# Expected output: 1, 1, 1, 1"
      ],
      "execution_count": null,
      "outputs": []
    },
    {
      "cell_type": "markdown",
      "metadata": {
        "id": "-YZO0uGL-4S-"
      },
      "source": [
        "**Part 4**\n",
        "\n",
        "Compare the results obtained from both taggers and a MEMM tagger, implemented by NLTK (a known NLP library), over the test data. To train the NLTK MEMM tagger you should execute the following lines (it may take some time to train...):"
      ]
    },
    {
      "cell_type": "code",
      "metadata": {
        "id": "KYhtboJm_Iyx"
      },
      "source": [
        "from nltk.tag import tnt \n",
        "\n",
        "tnt_pos_tagger = tnt.TnT()\n",
        "tnt_pos_tagger.train(train_data)\n",
        "print(tnt_pos_tagger.evaluate(test_data))"
      ],
      "execution_count": null,
      "outputs": []
    },
    {
      "cell_type": "markdown",
      "metadata": {
        "id": "5DIvvzsq_U-o"
      },
      "source": [
        "Print both, word level and sentence level accuracy for all the three taggers in a table."
      ]
    },
    {
      "cell_type": "code",
      "metadata": {
        "id": "V32202cikh7u"
      },
      "source": [
        "# Your code goes here"
      ],
      "execution_count": null,
      "outputs": []
    }
  ]
}