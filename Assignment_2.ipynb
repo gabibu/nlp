{
  "nbformat": 4,
  "nbformat_minor": 0,
  "metadata": {
    "colab": {
      "name": "Assignment 2",
      "provenance": [],
      "toc_visible": true,
      "include_colab_link": true
    },
    "kernelspec": {
      "name": "python3",
      "display_name": "Python 3"
    }
  },
  "cells": [
    {
      "cell_type": "markdown",
      "metadata": {
        "id": "view-in-github",
        "colab_type": "text"
      },
      "source": [
        "<a href=\"https://colab.research.google.com/github/gabibu/nlp/blob/master/Assignment_2.ipynb\" target=\"_parent\"><img src=\"https://colab.research.google.com/assets/colab-badge.svg\" alt=\"Open In Colab\"/></a>"
      ]
    },
    {
      "cell_type": "markdown",
      "metadata": {
        "id": "n0zB2BpE6DhW"
      },
      "source": [
        "# Assignment 2\n",
        "\n",
        "This assignment is about training and evaluating a POS tagger with some real data. The dataset is available through the Universal Dependencies (https://universaldependencies.org/) (UD) project. To get to know the project, please visit https://universaldependencies.org/introduction.html)"
      ]
    },
    {
      "cell_type": "code",
      "metadata": {
        "colab": {
          "base_uri": "https://localhost:8080/"
        },
        "id": "iRm7zcfq56HF",
        "outputId": "2576feed-f6ba-4b1a-c821-f5f43bec561d"
      },
      "source": [
        "import numpy as np\n",
        "import operator\n",
        "import nltk\n",
        "\n",
        "!pip install conllutils\n",
        "!pip install conll_df\n",
        "import conllutils"
      ],
      "execution_count": 6,
      "outputs": [
        {
          "output_type": "stream",
          "text": [
            "Requirement already satisfied: conllutils in /usr/local/lib/python3.7/dist-packages (1.1.4)\n",
            "Requirement already satisfied: numpy in /usr/local/lib/python3.7/dist-packages (from conllutils) (1.19.5)\n",
            "Collecting conll_df\n",
            "  Downloading https://files.pythonhosted.org/packages/eb/fe/a562090ef7651a00f2696aa384279724ed1f6f90f1b2b5e7a98fb9bb151f/conll_df-0.0.4.tar.gz\n",
            "Requirement already satisfied: pandas>=0.19.2 in /usr/local/lib/python3.7/dist-packages (from conll_df) (1.1.5)\n",
            "Requirement already satisfied: numpy>=1.15.4 in /usr/local/lib/python3.7/dist-packages (from pandas>=0.19.2->conll_df) (1.19.5)\n",
            "Requirement already satisfied: python-dateutil>=2.7.3 in /usr/local/lib/python3.7/dist-packages (from pandas>=0.19.2->conll_df) (2.8.1)\n",
            "Requirement already satisfied: pytz>=2017.2 in /usr/local/lib/python3.7/dist-packages (from pandas>=0.19.2->conll_df) (2018.9)\n",
            "Requirement already satisfied: six>=1.5 in /usr/local/lib/python3.7/dist-packages (from python-dateutil>=2.7.3->pandas>=0.19.2->conll_df) (1.15.0)\n",
            "Building wheels for collected packages: conll-df\n",
            "  Building wheel for conll-df (setup.py) ... \u001b[?25lerror\n",
            "\u001b[31m  ERROR: Failed building wheel for conll-df\u001b[0m\n",
            "\u001b[?25h  Running setup.py clean for conll-df\n",
            "Failed to build conll-df\n",
            "Installing collected packages: conll-df\n",
            "    Running setup.py install for conll-df ... \u001b[?25l\u001b[?25hdone\n",
            "Successfully installed conll-df-0.0.4\n"
          ],
          "name": "stdout"
        }
      ]
    },
    {
      "cell_type": "markdown",
      "metadata": {
        "id": "UH-Xvqip6Teu"
      },
      "source": [
        "**Part 1** (getting the data)\n",
        "\n",
        "You can download the dataset files directly from the UD website, but it will let you only download all the languages in one compressed file. In this assignment you will be working with th GUM dataset, which you can download directly from:\n",
        "https://github.com/UniversalDependencies/UD_English-GUM.\n",
        "Please download it to your colab machine.\n",
        "\n"
      ]
    },
    {
      "cell_type": "code",
      "metadata": {
        "id": "nsZsyTVC6Sw0",
        "colab": {
          "base_uri": "https://localhost:8080/"
        },
        "outputId": "11a87b97-0035-44f1-8f7f-c304f3612909"
      },
      "source": [
        "!git clone https://github.com/UniversalDependencies/UD_English-GUM"
      ],
      "execution_count": 2,
      "outputs": [
        {
          "output_type": "stream",
          "text": [
            "Cloning into 'UD_English-GUM'...\n",
            "remote: Enumerating objects: 2417, done.\u001b[K\n",
            "remote: Counting objects: 100% (1428/1428), done.\u001b[K\n",
            "remote: Compressing objects: 100% (656/656), done.\u001b[K\n",
            "remote: Total 2417 (delta 1245), reused 949 (delta 772), pack-reused 989\u001b[K\n",
            "Receiving objects: 100% (2417/2417), 16.19 MiB | 9.46 MiB/s, done.\n",
            "Resolving deltas: 100% (2135/2135), done.\n"
          ],
          "name": "stdout"
        }
      ]
    },
    {
      "cell_type": "markdown",
      "metadata": {
        "id": "CZZGOtoteWHz"
      },
      "source": [
        "We will use the (train/dev/test) files:\n",
        "\n",
        "UD_English-GUM/en_gum-ud-train.conllu\n",
        "\n",
        "UD_English-GUM/en_gum-ud-dev.conllu\n",
        "\n",
        "UD_English-GUM/en_gum-ud-test.conllu\n",
        "\n",
        "They are all formatted in the conllu format. You may read about it [here](https://universaldependencies.org/format.html). There is a utility library **conllutils**, which can help you read the data into the memory. It has already been installed and imported above.\n",
        "\n",
        "You should write a code that reads the three datasets into memory. You may choose the data structure by yourself. As you can see, every word is represented by a line, with columns representing specific features. We are only interested in the first and fourth columns, corresponding to the word and its POS tag."
      ]
    },
    {
      "cell_type": "code",
      "metadata": {
        "id": "v7A0-DjWg2JW",
        "outputId": "0772abeb-8433-424c-981c-a2666f903386",
        "colab": {
          "base_uri": "https://localhost:8080/",
          "height": 165
        }
      },
      "source": [
        "# Your code goes here\n",
        "from conllutils import pipe\n",
        "train_file = \"UD_English-GUM/en_gum-ud-train.conllu\"\n",
        "# p = pipe()\n",
        "\n",
        "\n",
        "p = pipe()\n",
        "p.only_words()\n",
        "p.only_fields('form', 'upos', 'feats', 'head', 'deprel')\n",
        "p.only_universal_deprel()\n",
        "p.upos_feats()\n",
        "p.lowercase('form')\n",
        "\n",
        "# indexed_fields = {'form', 'upos'}\n",
        "\n",
        "# index = pipe().read_conllu(train_file).pipe(p).create_index()\n",
        "# train_data = pipe().read_conllu(train_file).pipe(p).to_instance(index).collect()\n",
        "# train_data[0:4]\n",
        "\n",
        "\n",
        "from conll_df import conll_df\n",
        "df = conll_df(train_file, file_index=False)\n",
        "df.sample(1)"
      ],
      "execution_count": 36,
      "outputs": [
        {
          "output_type": "execute_result",
          "data": {
            "text/html": [
              "<div>\n",
              "<style scoped>\n",
              "    .dataframe tbody tr th:only-of-type {\n",
              "        vertical-align: middle;\n",
              "    }\n",
              "\n",
              "    .dataframe tbody tr th {\n",
              "        vertical-align: top;\n",
              "    }\n",
              "\n",
              "    .dataframe thead th {\n",
              "        text-align: right;\n",
              "    }\n",
              "</style>\n",
              "<table border=\"1\" class=\"dataframe\">\n",
              "  <thead>\n",
              "    <tr style=\"text-align: right;\">\n",
              "      <th></th>\n",
              "      <th></th>\n",
              "      <th>w</th>\n",
              "      <th>l</th>\n",
              "      <th>x</th>\n",
              "      <th>p</th>\n",
              "      <th>g</th>\n",
              "      <th>f</th>\n",
              "      <th>s_type</th>\n",
              "      <th>speaker</th>\n",
              "      <th>Tense</th>\n",
              "      <th>Gender</th>\n",
              "      <th>Mood</th>\n",
              "      <th>Definite</th>\n",
              "      <th>Poss</th>\n",
              "      <th>Entity</th>\n",
              "      <th>Degree</th>\n",
              "      <th>Polarity</th>\n",
              "      <th>Person</th>\n",
              "      <th>Number</th>\n",
              "      <th>Case</th>\n",
              "      <th>Discourse</th>\n",
              "      <th>Reflex</th>\n",
              "      <th>Type</th>\n",
              "      <th>type</th>\n",
              "    </tr>\n",
              "    <tr>\n",
              "      <th>s</th>\n",
              "      <th>i</th>\n",
              "      <th></th>\n",
              "      <th></th>\n",
              "      <th></th>\n",
              "      <th></th>\n",
              "      <th></th>\n",
              "      <th></th>\n",
              "      <th></th>\n",
              "      <th></th>\n",
              "      <th></th>\n",
              "      <th></th>\n",
              "      <th></th>\n",
              "      <th></th>\n",
              "      <th></th>\n",
              "      <th></th>\n",
              "      <th></th>\n",
              "      <th></th>\n",
              "      <th></th>\n",
              "      <th></th>\n",
              "      <th></th>\n",
              "      <th></th>\n",
              "      <th></th>\n",
              "      <th></th>\n",
              "      <th></th>\n",
              "    </tr>\n",
              "  </thead>\n",
              "  <tbody>\n",
              "    <tr>\n",
              "      <th>992</th>\n",
              "      <th>36</th>\n",
              "      <td>\"</td>\n",
              "      <td>''</td>\n",
              "      <td>PUNCT</td>\n",
              "      <td>''</td>\n",
              "      <td>35</td>\n",
              "      <td>punct</td>\n",
              "      <td>decl</td>\n",
              "      <td>_</td>\n",
              "      <td>_</td>\n",
              "      <td>_</td>\n",
              "      <td>_</td>\n",
              "      <td>_</td>\n",
              "      <td>_</td>\n",
              "      <td>abstract-146)abstract-149)</td>\n",
              "      <td>_</td>\n",
              "      <td>_</td>\n",
              "      <td>_</td>\n",
              "      <td>_</td>\n",
              "      <td>_</td>\n",
              "      <td>_</td>\n",
              "      <td>_</td>\n",
              "      <td>_</td>\n",
              "      <td>_</td>\n",
              "    </tr>\n",
              "  </tbody>\n",
              "</table>\n",
              "</div>"
            ],
            "text/plain": [
              "        w   l      x   p   g      f  ... Number Case Discourse Reflex Type type\n",
              "s   i                                ...                                       \n",
              "992 36  \"  ''  PUNCT  ''  35  punct  ...      _    _         _      _    _    _\n",
              "\n",
              "[1 rows x 23 columns]"
            ]
          },
          "metadata": {
            "tags": []
          },
          "execution_count": 36
        }
      ]
    },
    {
      "cell_type": "code",
      "metadata": {
        "id": "su5wZbiXiLcp",
        "outputId": "2d4cb5c3-0216-43b4-fc69-f9b1f7ccea42",
        "colab": {
          "base_uri": "https://localhost:8080/"
        }
      },
      "source": [
        "total_size = 10000\n",
        "batch_size = 100\n",
        "\n",
        "for batch in pipe(train_data).stream(total_size).shuffle().batch(batch_size):\n",
        "    # Update your model for the next batch of instances.\n",
        "    instance = batch[0]\n",
        "    # Instance values are indexed and stored in the NumPy arrays.\n",
        "    length = instance['form'].shape[0]\n",
        "    print(instance)\n",
        "    break"
      ],
      "execution_count": 25,
      "outputs": [
        {
          "output_type": "stream",
          "text": [
            "{'upos_feats': array([ 4, 25, 14,  3,  4,  1,  4,  1]), 'deprel': array([ 4, 15,  8,  2,  7,  1, 22,  1]), 'feats': array([ 1, 16, 10, -1,  1, -1,  1, -1]), 'lemma': array([ 751,    4,  265,    9, 2365,    2, 4402,    3]), 'misc': array([13859,    -1,    -1,    -1,  3783,    -1,  8601,    -1]), 'xpos': array([ 4, 13, 16,  2,  4,  7,  4,  8]), 'form': array([ 721,   15,  281,    7, 2439,    2, 4800,    3]), 'head': array([3, 3, 0, 5, 3, 7, 5, 3]), 'upos': array([6, 9, 3, 4, 6, 2, 6, 2])}\n"
          ],
          "name": "stdout"
        }
      ]
    },
    {
      "cell_type": "code",
      "metadata": {
        "id": "_hEJG9DpggN4",
        "outputId": "be470c87-5891-4473-f879-7af3fce659bc",
        "colab": {
          "base_uri": "https://localhost:8080/"
        }
      },
      "source": [
        "x = df.reset_index()\n",
        "w = ''\n",
        "for ii, row in x.iterrows():\n",
        "  word = row['w']\n",
        "  index = row['i']\n",
        "  pos = row['x']\n",
        "  if index == 1:\n",
        "    print(w)\n",
        "    w = word\n",
        "  else:\n",
        "    w += ' ' + word\n",
        "\n",
        "  if ii > 60:\n",
        "    break"
      ],
      "execution_count": 46,
      "outputs": [
        {
          "output_type": "stream",
          "text": [
            "\n",
            "Aesthetic Appreciation and Spanish Art :\n",
            "Insights from Eye-Tracking\n",
            "Claire Bailey-Ross claire.bailey-ross@port.ac.uk University of Portsmouth , United Kingdom\n",
            "Andrew Beresford a.m.beresford@durham.ac.uk Durham University , United Kingdom\n",
            "Daniel Smith daniel.smith2@durham.ac.uk Durham University , United Kingdom\n",
            "Claire Warwick c.l.h.warwick@durham.ac.uk Durham University , United Kingdom\n",
            "How do people look at and experience art ?\n",
            "Which elements of specific artworks do they focus on ?\n"
          ],
          "name": "stdout"
        }
      ]
    },
    {
      "cell_type": "markdown",
      "metadata": {
        "id": "EdYeQl1Gds2n"
      },
      "source": [
        "We will use the (train/dev/test) files:\n",
        "\n",
        "UD_English-GUM/en_gum-ud-train.conllu\n",
        "\n",
        "UD_English-GUM/en_gum-ud-dev.conllu\n",
        "\n",
        "UD_English-GUM/en_gum-ud-test.conllu\n",
        "\n",
        "They are all formatted in the conllu format. You may read about it [here](https://universaldependencies.org/format.html). There is a utility library **conllutils**, which can help you read the data into the memory. It has already been installed and imported above.\n",
        "\n",
        "You should write a code that reads the three datasets into memory. You may choose the data structure by yourself. As you can see, every word is represented by a line, with columns representing specific features. We are only interested in the first and fourth columns, corresponding to the word and its POS tag."
      ]
    },
    {
      "cell_type": "markdown",
      "metadata": {
        "id": "nTjfuoOmdsKc"
      },
      "source": [
        "We will use the (train/dev/test) files:\n",
        "\n",
        "UD_English-GUM/en_gum-ud-train.conllu\n",
        "\n",
        "UD_English-GUM/en_gum-ud-dev.conllu\n",
        "\n",
        "UD_English-GUM/en_gum-ud-test.conllu\n",
        "\n",
        "They are all formatted in the conllu format. You may read about it [here](https://universaldependencies.org/format.html). There is a utility library **conllutils**, which can help you read the data into the memory. It has already been installed and imported above.\n",
        "\n",
        "You should write a code that reads the three datasets into memory. You may choose the data structure by yourself. As you can see, every word is represented by a line, with columns representing specific features. We are only interested in the first and fourth columns, corresponding to the word and its POS tag."
      ]
    },
    {
      "cell_type": "markdown",
      "metadata": {
        "id": "q0Z9BMNM7EP3"
      },
      "source": [
        "**Part 2**\n",
        "\n",
        "Write a class **simple_tagger**, with methods *train* and *evaluate*. The method *train* receives the data as a list of sentences, and use it for training the tagger. In this case, it should learn a simple dictionary that maps words to tags, defined as the most frequent tag for every word (in case there is more than one most frequent tag, you may select one of them randomly). The dictionary should be stored as a class member for evaluation.\n",
        "\n",
        "The method *evaluate* receives the data as a list of sentences, and use it to evaluate the tagger performance. Specifically, you should calculate the word and sentence level accuracy.\n",
        "The evaluation process is simply going word by word, querying the dictionary (created by the train method) for each word’s tag and compare it to the true tag of that word. The word-level accuracy is the number of successes divided by the number of words. For OOV (out of vocabulary, or unknown) words, the tagger should assign the most frequent tag in the entire training set (i.e., the mode). The function should return the two numbers: word level accuracy and sentence level accuracy.\n"
      ]
    },
    {
      "cell_type": "code",
      "metadata": {
        "id": "MtivZLBH7dXq"
      },
      "source": [
        "class simple_tagger:\n",
        "  def train(self, data):\n",
        "    # TODO\n",
        "  \n",
        "  def evaluate(self, data):\n",
        "    # TODO"
      ],
      "execution_count": null,
      "outputs": []
    },
    {
      "cell_type": "markdown",
      "metadata": {
        "id": "etK9iZIq8i0X"
      },
      "source": [
        "**Part 3**\n",
        "\n",
        "Similar to part 2, write the class hmm_tagger, which implements HMM tagging. The method *train* should build the matrices A, B and Pi, from the data as discussed in class. The method *evaluate* should find the best tag sequence for every input sentence using he Viterbi decoding algorithm, and then calculate the word and sentence level accuracy using the gold-standard tags. You should implement the Viterbi algorithm in the next block and call it from your class.\n",
        "\n",
        "Additional guidance:\n",
        "1. The matrix B represents the emissions probabilities. Since B is a matrix, you should build a dictionary that maps every unique word in the corpus to a serial numeric id (starting with 0). This way columns in B represents word ids.\n",
        "2. During the evaluation, you should first convert each word into it’s index and then create the observation array to be given to Viterbi, as a list of ids. OOV words should be assigned with a random tag. To make sure Viterbi works appropriately, you can simply break the sentence into multiple segments every time you see an OOV word, and decode every segment individually using Viterbi.\n"
      ]
    },
    {
      "cell_type": "code",
      "metadata": {
        "id": "TpH7GuiQ9L6W"
      },
      "source": [
        "class hmm_tagger:\n",
        "  def train(self, data):\n",
        "    # TODO\n",
        "\n",
        "  def evaluate(self, data):\n",
        "    # TODO"
      ],
      "execution_count": null,
      "outputs": []
    },
    {
      "cell_type": "code",
      "metadata": {
        "id": "DR6KJW2F9yqt"
      },
      "source": [
        "# Viterbi\n",
        "def viterbi (observations, A, B, Pi):\n",
        "  #...\n",
        "\n",
        "  return best_sequence\n",
        "\n",
        "# A simple example to run the Viterbi algorithm:\n",
        "#( Same as in presentation \"NLP 3 - Tagging\" on slide 35)\n",
        "\n",
        "# A = np.array([[0.3, 0.7], [0.2, 0.8]])\n",
        "# B = np.array([[0.1, 0.1, 0.3, 0.5], [0.3, 0.3, 0.2, 0.2]])\n",
        "# Pi = np.array([0.4, 0.6])\n",
        "# print(viterbi([0, 3, 1, 0], A, B, Pi))\n",
        "# Expected output: 1, 1, 1, 1"
      ],
      "execution_count": null,
      "outputs": []
    },
    {
      "cell_type": "markdown",
      "metadata": {
        "id": "-YZO0uGL-4S-"
      },
      "source": [
        "**Part 4**\n",
        "\n",
        "Compare the results obtained from both taggers and a MEMM tagger, implemented by NLTK (a known NLP library), over the test data. To train the NLTK MEMM tagger you should execute the following lines (it may take some time to train...):"
      ]
    },
    {
      "cell_type": "code",
      "metadata": {
        "id": "KYhtboJm_Iyx"
      },
      "source": [
        "from nltk.tag import tnt \n",
        "\n",
        "tnt_pos_tagger = tnt.TnT()\n",
        "tnt_pos_tagger.train(train_data)\n",
        "print(tnt_pos_tagger.evaluate(test_data))"
      ],
      "execution_count": null,
      "outputs": []
    },
    {
      "cell_type": "markdown",
      "metadata": {
        "id": "5DIvvzsq_U-o"
      },
      "source": [
        "Print both, word level and sentence level accuracy for all the three taggers in a table."
      ]
    },
    {
      "cell_type": "code",
      "metadata": {
        "id": "V32202cikh7u"
      },
      "source": [
        "# Your code goes here"
      ],
      "execution_count": null,
      "outputs": []
    }
  ]
}