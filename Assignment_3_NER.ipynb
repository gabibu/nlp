{
  "nbformat": 4,
  "nbformat_minor": 0,
  "metadata": {
    "colab": {
      "name": "Assignment 3 - NER",
      "provenance": [],
      "collapsed_sections": [],
      "toc_visible": true,
      "include_colab_link": true
    },
    "kernelspec": {
      "name": "python3",
      "display_name": "Python 3"
    },
    "accelerator": "GPU"
  },
  "cells": [
    {
      "cell_type": "markdown",
      "metadata": {
        "id": "view-in-github",
        "colab_type": "text"
      },
      "source": [
        "<a href=\"https://colab.research.google.com/github/gabibu/nlp/blob/master/Assignment_3_NER.ipynb\" target=\"_parent\"><img src=\"https://colab.research.google.com/assets/colab-badge.svg\" alt=\"Open In Colab\"/></a>"
      ]
    },
    {
      "cell_type": "markdown",
      "metadata": {
        "id": "k-WJBimYDLJS"
      },
      "source": [
        "# Assignment 3\n",
        "Training a simple neural named entity recognizer (NER)"
      ]
    },
    {
      "cell_type": "code",
      "metadata": {
        "id": "3enPCGBF8FlX"
      },
      "source": [
        "import torch\n",
        "import torch.nn as nn\n",
        "import numpy as np"
      ],
      "execution_count": 1,
      "outputs": []
    },
    {
      "cell_type": "markdown",
      "metadata": {
        "id": "V5QSIEoyDdWh"
      },
      "source": [
        "In this assignment you are required to build a full training and testing pipeline for a neural sequentail tagger for named entities, using LSTM.\n",
        "\n",
        "The dataset that you will be working on is called ReCoNLL 2003, which is a corrected version of the CoNLL 2003 dataset: https://www.clips.uantwerpen.be/conll2003/ner/\n",
        "\n",
        "\n",
        "The three files (train, test and eval) are available from the course git repository (https://github.com/kfirbar/nlp-course)\n",
        "\n",
        "As you can see, the annotated texts are labeled according to the IOB annotation scheme, for 3 entity types: Person, Organization, Location."
      ]
    },
    {
      "cell_type": "markdown",
      "metadata": {
        "id": "5ul2Y3vuPoV8"
      },
      "source": [
        "**Task 1:** Write a funtion *read_data* for reading the data from a single file (either train, test or eval). This function recieves a filepath and returns a list of sentence. Every sentence is encoded as a pair of lists, one list contains the words and one list contains the labels."
      ]
    },
    {
      "cell_type": "code",
      "metadata": {
        "id": "pyx6__ridAwF",
        "colab": {
          "base_uri": "https://localhost:8080/"
        },
        "outputId": "f2c6aed7-c91c-4f88-b4f8-950f10cd85fa"
      },
      "source": [
        "!git clone https://github.com/kfirbar/nlp-course"
      ],
      "execution_count": 2,
      "outputs": [
        {
          "output_type": "stream",
          "text": [
            "Cloning into 'nlp-course'...\n",
            "remote: Enumerating objects: 58, done.\u001b[K\n",
            "remote: Counting objects: 100% (58/58), done.\u001b[K\n",
            "remote: Compressing objects: 100% (47/47), done.\u001b[K\n",
            "remote: Total 58 (delta 24), reused 31 (delta 8), pack-reused 0\u001b[K\n",
            "Unpacking objects: 100% (58/58), done.\n"
          ],
          "name": "stdout"
        }
      ]
    },
    {
      "cell_type": "code",
      "metadata": {
        "id": "prgzgtt8Jw4Y",
        "colab": {
          "base_uri": "https://localhost:8080/"
        },
        "outputId": "a9348e5b-e96c-48c2-dc44-3be40559899e"
      },
      "source": [
        "def read_data(filepath):\n",
        "  data = []\n",
        "  with open(filepath) as file_in:\n",
        "    current_line_words = []\n",
        "    current_line_tags = []\n",
        "    for line in file_in:\n",
        "\n",
        "      if line == '\\n':\n",
        "        data.append((current_line_words, current_line_tags))\n",
        "        current_line_words = []\n",
        "        current_line_tags = []\n",
        "      else:\n",
        "        word, tag = line.strip().split(' ')\n",
        "        current_line_words.append(word)\n",
        "        current_line_tags.append(tag)\n",
        "\n",
        "    if any(current_line_words):\n",
        "        data.append((current_line_words, current_line_tags))\n",
        "\n",
        "    return data\n",
        "\n",
        "\n",
        "train = read_data('/content/nlp-course/connl03_train.txt')\n",
        "test = read_data('/content/nlp-course/connl03_test.txt')\n",
        "dev = read_data('/content/nlp-course/connl03_dev.txt')\n",
        "len(train), len(dev), len(test)"
      ],
      "execution_count": 3,
      "outputs": [
        {
          "output_type": "execute_result",
          "data": {
            "text/plain": [
              "(1750, 250, 500)"
            ]
          },
          "metadata": {
            "tags": []
          },
          "execution_count": 3
        }
      ]
    },
    {
      "cell_type": "code",
      "metadata": {
        "id": "TJUB5jKxaTLm",
        "colab": {
          "base_uri": "https://localhost:8080/"
        },
        "outputId": "e4cd9864-24ab-4a16-9d00-8ce83e88fed2"
      },
      "source": [
        "!ls nlp-course"
      ],
      "execution_count": 4,
      "outputs": [
        {
          "output_type": "stream",
          "text": [
            "connl03_dev.txt   connl03_train.txt  lm-languages-data-new\n",
            "connl03_test.txt  lm-languages-data  README.md\n"
          ],
          "name": "stdout"
        }
      ]
    },
    {
      "cell_type": "markdown",
      "metadata": {
        "id": "IuGwk6OwRWGS"
      },
      "source": [
        "The following Vocab class can be served as a dictionary that maps words and tags into Ids. The UNK_TOKEN should be used for words that are not part of the training data."
      ]
    },
    {
      "cell_type": "code",
      "metadata": {
        "id": "6rKIB5o_vQO8"
      },
      "source": [
        "UNK_TOKEN = 0\n",
        "\n",
        "class Vocab:\n",
        "    def __init__(self):\n",
        "        self.word2id = {\"__unk__\": UNK_TOKEN}\n",
        "        self.id2word = {UNK_TOKEN: \"__unk__\"}\n",
        "        self.n_words = 1\n",
        "        \n",
        "        self.tag2id = {\"O\":0, \"B-PER\":1, \"I-PER\": 2, \"B-LOC\": 3, \"I-LOC\": 4, \"B-ORG\": 5, \"I-ORG\": 6}\n",
        "        self.id2tag = {0:\"O\", 1:\"B-PER\", 2:\"I-PER\", 3:\"B-LOC\", 4:\"I-LOC\", 5:\"B-ORG\", 6:\"I-ORG\"}\n",
        "        \n",
        "    def index_words(self, words):\n",
        "      word_indexes = [self.index_word(w) for w in words]\n",
        "      return word_indexes\n",
        "\n",
        "    def index_tags(self, tags):\n",
        "      tag_indexes = [self.tag2id[t] for t in tags]\n",
        "      return tag_indexes\n",
        "    \n",
        "    def index_word(self, w):\n",
        "        if w not in self.word2id:\n",
        "            self.word2id[w] = self.n_words\n",
        "            self.id2word[self.n_words] = w\n",
        "            self.n_words += 1\n",
        "        return self.word2id[w]\n",
        "            "
      ],
      "execution_count": 5,
      "outputs": []
    },
    {
      "cell_type": "markdown",
      "metadata": {
        "id": "iDKYryfKfNdh"
      },
      "source": [
        "**Task 2:** Write a function *prepare_data* that takes one of the [train, dev, test] and the Vocab instance, for converting each pair of (words,labels) to a pair of indexes (from Vocab). Each pair should be added to *data_sequences*, which is returned back from the function."
      ]
    },
    {
      "cell_type": "code",
      "metadata": {
        "id": "dMVB7R1XoZBD"
      },
      "source": [
        "vocab = Vocab()\n",
        "\n",
        "for (words, _) in train:\n",
        "  for word in words:\n",
        "    vocab.index_word(word)"
      ],
      "execution_count": 6,
      "outputs": []
    },
    {
      "cell_type": "code",
      "metadata": {
        "id": "noIY3zWKvhBd",
        "colab": {
          "base_uri": "https://localhost:8080/"
        },
        "outputId": "63e4d9c4-cfb8-449e-9e00-1cafae775df5"
      },
      "source": [
        "def prepare_data(data, vocab):\n",
        "    data_sequences = []\n",
        "    \n",
        "    for (words, tags) in data:\n",
        "      words_ids = vocab.index_words(words)\n",
        "      tags_ids = vocab.index_tags(tags)\n",
        "      data_sequences.append((words_ids, tags_ids))\n",
        "\n",
        "      \n",
        "\n",
        "    return data_sequences, vocab\n",
        "\n",
        "train_sequences, vocab = prepare_data(train, vocab)\n",
        "dev_sequences, vocab = prepare_data(dev, vocab)\n",
        "test_sequences, vocab = prepare_data(test, vocab)\n",
        "\n",
        "full_eval  = list(dev_sequences)\n",
        "full_eval.extend(test_sequences)\n",
        "len(train_sequences), len(dev_sequences), len(test_sequences), len(full_eval)"
      ],
      "execution_count": 7,
      "outputs": [
        {
          "output_type": "execute_result",
          "data": {
            "text/plain": [
              "(1750, 250, 500, 750)"
            ]
          },
          "metadata": {
            "tags": []
          },
          "execution_count": 7
        }
      ]
    },
    {
      "cell_type": "code",
      "metadata": {
        "colab": {
          "base_uri": "https://localhost:8080/"
        },
        "id": "CciJv7vmod0G",
        "outputId": "13926f3b-ad08-464c-cfa4-ba39e2879653"
      },
      "source": [
        "train_sequences[0:1], train[0:1]\n"
      ],
      "execution_count": 8,
      "outputs": [
        {
          "output_type": "execute_result",
          "data": {
            "text/plain": [
              "([([1, 2, 3, 4], [5, 0, 5, 0])],\n",
              " [(['Portuguesa', '2', 'Parana', '0'], ['B-ORG', 'O', 'B-ORG', 'O'])])"
            ]
          },
          "metadata": {
            "tags": []
          },
          "execution_count": 8
        }
      ]
    },
    {
      "cell_type": "markdown",
      "metadata": {
        "id": "UccfiRRtiEet"
      },
      "source": [
        "**Task 3:** Write NERNet, a PyTorch Module for labeling words with NER tags. \n",
        "\n",
        "*input_size:* the size of the vocabulary\n",
        "\n",
        "*embedding_size:* the size of the embeddings\n",
        "\n",
        "*hidden_size:* the LSTM hidden size\n",
        "\n",
        "*output_size:* the number tags we are predicting for\n",
        "\n",
        "*n_layers:* the number of layers we want to use in LSTM\n",
        "\n",
        "*directions:* could 1 or 2, indicating unidirectional or bidirectional LSTM, respectively\n",
        "\n",
        "The input for your forward function should be a single sentence tensor."
      ]
    },
    {
      "cell_type": "code",
      "metadata": {
        "id": "Ke1LyUQNyQaM"
      },
      "source": [
        "class NERNet(nn.Module):\n",
        "    def __init__(self, input_size, embedding_size, hidden_size, output_size, n_layers, directions):\n",
        "        super(NERNet, self).__init__()\n",
        "        # TODO: your code...\n",
        "        self.embedding = nn.Embedding(input_size, embedding_size)\n",
        "        self.lstm = nn.LSTM(embedding_size, hidden_size, n_layers, bidirectional=(True if directions==2 else False))\n",
        "        self.out = nn.Linear(hidden_size, output_size)\n",
        "    \n",
        "    def forward(self, input_sentence):\n",
        "\n",
        "        input = input_sentence.reshape(-1, input_sentence.shape[0])\n",
        "        embeddings = self.embedding(input)\n",
        "\n",
        "        lstm_out, _ = self.lstm(embeddings)\n",
        "\n",
        "        output = self.out(lstm_out)\n",
        "\n",
        "        return output"
      ],
      "execution_count": 9,
      "outputs": []
    },
    {
      "cell_type": "markdown",
      "metadata": {
        "id": "dEGSQdeUkTP8"
      },
      "source": [
        "**Task 4:** write a training loop, which takes a model (instance of NERNet) and number of epochs to train on. The loss is always CrossEntropyLoss and the optimizer is always Adam."
      ]
    },
    {
      "cell_type": "code",
      "metadata": {
        "colab": {
          "base_uri": "https://localhost:8080/"
        },
        "id": "80Wor8muo-F3",
        "outputId": "dae0065c-abdc-4cfb-e90d-c4376bee2899"
      },
      "source": [
        "device = torch.device(\"cuda\") if torch.cuda.is_available() else torch.device(\"cpu\")\n",
        "device"
      ],
      "execution_count": 10,
      "outputs": [
        {
          "output_type": "execute_result",
          "data": {
            "text/plain": [
              "device(type='cuda')"
            ]
          },
          "metadata": {
            "tags": []
          },
          "execution_count": 10
        }
      ]
    },
    {
      "cell_type": "code",
      "metadata": {
        "id": "avkHfjT3k0HM",
        "colab": {
          "base_uri": "https://localhost:8080/"
        },
        "outputId": "b8714ee6-37ff-4dde-b00f-5c00d2523797"
      },
      "source": [
        "def train_loop(model, n_epochs, trainning_data):\n",
        "  # Loss function\n",
        "\n",
        "  criterion = nn.CrossEntropyLoss()\n",
        "\n",
        "  # Optimizer (ADAM is a fancy version of SGD)\n",
        "  optimizer = torch.optim.Adam(model.parameters(), lr=0.0001)\n",
        "  \n",
        "  for e in range(1, n_epochs + 1):\n",
        "    \n",
        "    epoc_loss = 0.0 \n",
        "    for (words_ids, tags_ids) in trainning_data:\n",
        "      words_ids = torch.from_numpy(np.array(words_ids)).to(device)\n",
        "      target = torch.from_numpy(np.array(tags_ids)).reshape(1, len(tags_ids)).to(device)\n",
        "      res = model(words_ids)\n",
        "      res = torch.transpose(res, 1, 2)\n",
        "      loss = criterion(res, target)\n",
        "\n",
        "      optimizer.zero_grad()\n",
        "      loss.backward()\n",
        "      optimizer.step()\n",
        "\n",
        "      epoc_loss += loss.item()\n",
        "    \n",
        "    print('epoc {} loss {}'.format(e, epoc_loss))\n",
        "\n",
        "model = NERNet(len(vocab.id2word), 300, 500, len(vocab.tag2id), 1, 1).to(device)\n",
        "\n",
        "train_loop(model, 10, train_sequences)"
      ],
      "execution_count": 11,
      "outputs": [
        {
          "output_type": "stream",
          "text": [
            "epoc 1 loss 1916.8630040884018\n",
            "epoc 2 loss 1349.7660071402788\n",
            "epoc 3 loss 1106.4426857680082\n",
            "epoc 4 loss 911.1281570568681\n",
            "epoc 5 loss 751.0677923504263\n",
            "epoc 6 loss 618.6279128631577\n",
            "epoc 7 loss 510.2087426488288\n",
            "epoc 8 loss 423.54219390498474\n",
            "epoc 9 loss 356.1357239575591\n",
            "epoc 10 loss 304.89277994586155\n"
          ],
          "name": "stdout"
        }
      ]
    },
    {
      "cell_type": "markdown",
      "metadata": {
        "id": "baN1c_B7lTjb"
      },
      "source": [
        "**Task 5:** write an evaluation loop on a trained model, using the dev and test datasets. This function print the true positive rate (TPR), also known as Recall and the opposite to false positive rate (FPR), also known as precision, of each label seperately (7 labels in total), and for all the 6 labels (except O) together. The caption argument for the function should be served for printing, so that when you print include it as a prefix."
      ]
    },
    {
      "cell_type": "code",
      "metadata": {
        "id": "iyQAjGaqmd8U"
      },
      "source": [
        "# def evaluate(model, caption):\n",
        "#   model.eval()\n",
        "#   with torch.no_grad():\n",
        "\n",
        "#     for (words_ids, tags_ids) in full_eval:\n",
        "#       words_ids = torch.from_numpy(np.array(words_ids)).to(device)\n",
        "#       target = torch.from_numpy(np.array(tags_ids)).reshape(1, len(tags_ids)).to(device)\n",
        "#       es = model(words_ids)\n",
        "#       probs = torch.softmax(res, dim=2)\n",
        "#       selected_labels = torch.argmax(probs, dim=2)\n",
        "\n",
        "\n",
        "#   # TODO - your code goes here\n",
        "#   print(...)\n",
        "\n",
        "model.eval()\n",
        "\n",
        "labels = []\n",
        "predicted = []\n",
        "\n",
        "with torch.no_grad():\n",
        "\n",
        "  for (words_ids, tags_ids) in full_eval:\n",
        "    words_ids = torch.from_numpy(np.array(words_ids)).to(device)\n",
        "    #target = np.array(tags_ids)\n",
        "    labels.extend(tags_ids)\n",
        "    res = model(words_ids)\n",
        "    probs = torch.softmax(res, dim=2)\n",
        "    predicted_labels = torch.argmax(probs, dim=2).cpu().detach().numpy().flatten().tolist()\n",
        "\n",
        "    predicted.extend(predicted_labels)\n",
        "\n",
        "# from sklearn.metrics import confusion_matrix\n",
        "# confusion_matrix(labels, predicted)"
      ],
      "execution_count": 12,
      "outputs": []
    },
    {
      "cell_type": "code",
      "metadata": {
        "id": "gAv3sdWw1QNf",
        "outputId": "0bbda886-b9cb-4442-b5f4-acbaf82c7eea",
        "colab": {
          "base_uri": "https://localhost:8080/",
          "height": 111
        }
      },
      "source": [
        "from sklearn.metrics import recall_score\n",
        "from sklearn.metrics import precision_recall_fscore_support as score\n",
        "import pandas as pd\n",
        "precision, recall, fscore, support = score(labels, predicted)\n",
        "\n",
        "datas = []\n",
        "datas.append(recall)\n",
        "datas.append(precision)\n",
        "\n",
        "cols = sorted([(id, tag) for (id, tag) in vocab.id2tag.items()], key = lambda x: x[0])\n",
        "\n",
        "cols = [x[1] for x in cols]\n",
        "\n",
        "pd.DataFrame(datas, columns = cols, index =['recall', 'precision'])"
      ],
      "execution_count": 22,
      "outputs": [
        {
          "output_type": "execute_result",
          "data": {
            "text/html": [
              "<div>\n",
              "<style scoped>\n",
              "    .dataframe tbody tr th:only-of-type {\n",
              "        vertical-align: middle;\n",
              "    }\n",
              "\n",
              "    .dataframe tbody tr th {\n",
              "        vertical-align: top;\n",
              "    }\n",
              "\n",
              "    .dataframe thead th {\n",
              "        text-align: right;\n",
              "    }\n",
              "</style>\n",
              "<table border=\"1\" class=\"dataframe\">\n",
              "  <thead>\n",
              "    <tr style=\"text-align: right;\">\n",
              "      <th></th>\n",
              "      <th>O</th>\n",
              "      <th>B-PER</th>\n",
              "      <th>I-PER</th>\n",
              "      <th>B-LOC</th>\n",
              "      <th>I-LOC</th>\n",
              "      <th>B-ORG</th>\n",
              "      <th>I-ORG</th>\n",
              "    </tr>\n",
              "  </thead>\n",
              "  <tbody>\n",
              "    <tr>\n",
              "      <th>recall</th>\n",
              "      <td>0.962124</td>\n",
              "      <td>0.542587</td>\n",
              "      <td>0.388521</td>\n",
              "      <td>0.684411</td>\n",
              "      <td>0.447368</td>\n",
              "      <td>0.546332</td>\n",
              "      <td>0.338608</td>\n",
              "    </tr>\n",
              "    <tr>\n",
              "      <th>precision</th>\n",
              "      <td>0.925443</td>\n",
              "      <td>0.638219</td>\n",
              "      <td>0.483516</td>\n",
              "      <td>0.769231</td>\n",
              "      <td>0.894737</td>\n",
              "      <td>0.524074</td>\n",
              "      <td>0.560209</td>\n",
              "    </tr>\n",
              "  </tbody>\n",
              "</table>\n",
              "</div>"
            ],
            "text/plain": [
              "                  O     B-PER     I-PER     B-LOC     I-LOC     B-ORG     I-ORG\n",
              "recall     0.962124  0.542587  0.388521  0.684411  0.447368  0.546332  0.338608\n",
              "precision  0.925443  0.638219  0.483516  0.769231  0.894737  0.524074  0.560209"
            ]
          },
          "metadata": {
            "tags": []
          },
          "execution_count": 22
        }
      ]
    },
    {
      "cell_type": "code",
      "metadata": {
        "colab": {
          "base_uri": "https://localhost:8080/"
        },
        "id": "zfEq6ZOjKqV_",
        "outputId": "510db076-6db7-46c9-c607-8c71236add0b"
      },
      "source": [
        "from  collections import defaultdict \n",
        "\n",
        "tp = defaultdict(lambda : 0.0)\n",
        "fn = defaultdict(lambda : 0.0)\n",
        "fp = defaultdict(lambda : 0.0)\n",
        "\n",
        "\n",
        "\n",
        "\n",
        "for label, prediction in zip(labels, predicted):\n",
        "\n",
        "  if label == prediction:\n",
        "    tp[label] += 1\n",
        "    tp1 += 1\n",
        "  else:\n",
        "    fn[label] += 1\n",
        "    fp[prediction] += 1\n",
        "\n",
        "\n",
        "\n",
        "for tag_id, tag in vocab.id2tag.items():\n",
        "  \n",
        "  r1 = tp[tag_id]/(tp[tag_id] + fn[tag_id])\n",
        "  p1 = tp[tag_id]/(tp[tag_id] + fp[tag_id])\n",
        "\n",
        "  print('tag {} - recall {} precision {}'.format(tag, r1, p1))\n",
        "\n",
        "  "
      ],
      "execution_count": 15,
      "outputs": [
        {
          "output_type": "stream",
          "text": [
            "tag O - recall 0.9666770154196419 precision 0.9272384355767321\n",
            "tag B-PER - recall 0.5520504731861199 precision 0.6151142355008787\n",
            "tag I-PER - recall 0.3598233995584989 precision 0.4822485207100592\n",
            "tag B-LOC - recall 0.6996197718631179 precision 0.8159645232815964\n",
            "tag I-LOC - recall 0.4342105263157895 precision 0.8461538461538461\n",
            "tag B-ORG - recall 0.555984555984556 precision 0.5748502994011976\n",
            "tag I-ORG - recall 0.370253164556962 precision 0.5467289719626168\n"
          ],
          "name": "stdout"
        }
      ]
    },
    {
      "cell_type": "code",
      "metadata": {
        "colab": {
          "base_uri": "https://localhost:8080/"
        },
        "id": "6qvZhSu80l2R",
        "outputId": "6c0e59e9-94b4-4162-cb03-9fc733bab7e8"
      },
      "source": [
        "from sklearn.metrics import classification_report\n",
        "# print(classification_report(labels, predicted, target_names=target_names))\n",
        "id_2_tsg = sorted([(id, tag) for (id, tag) in vocab.id2tag.items()], key = lambda x: x[0])\n",
        "\n",
        "target_names = [x[1] for x in id_2_tsg]\n",
        "#print(classification_report(labels, predicted, target_names=target_names))\n",
        "\n",
        "from sklearn.metrics import precision_score, recall_score\n",
        "precision_score(labels, predicted, average='micro'), recall_score(labels, predicted, average='micro')\n"
      ],
      "execution_count": 56,
      "outputs": [
        {
          "output_type": "execute_result",
          "data": {
            "text/plain": [
              "(0.6742649035316016, 0.6120086371602808)"
            ]
          },
          "metadata": {
            "tags": []
          },
          "execution_count": 56
        }
      ]
    },
    {
      "cell_type": "code",
      "metadata": {
        "colab": {
          "base_uri": "https://localhost:8080/"
        },
        "id": "45Qr6R_uyMxy",
        "outputId": "35120eab-b9f1-4d7a-9f41-d58498a86999"
      },
      "source": [
        "selected_labels, target"
      ],
      "execution_count": 32,
      "outputs": [
        {
          "output_type": "execute_result",
          "data": {
            "text/plain": [
              "(array([5, 0, 1, 2, 0, 0, 0, 0, 0, 5, 6, 0, 0, 0, 0, 0, 0, 0, 0, 0, 0, 0,\n",
              "        0, 0, 1, 0, 0]),\n",
              " array([5, 0, 1, 2, 0, 0, 0, 0, 0, 5, 6, 0, 0, 0, 0, 0, 0, 0, 0, 0, 0, 0,\n",
              "        0, 0, 0, 0, 0]))"
            ]
          },
          "metadata": {
            "tags": []
          },
          "execution_count": 32
        }
      ]
    },
    {
      "cell_type": "markdown",
      "metadata": {
        "id": "LQSXqWNOmqG4"
      },
      "source": [
        "**Task 6:** Train and evaluate a few models, all with embedding_size=300, and with the following hyper parameters (you may use that as captions for the models as well):\n",
        "\n",
        "Model 1: (hidden_size: 500, n_layers: 1, directions: 1)\n",
        "\n",
        "Model 2: (hidden_size: 500, n_layers: 2, directions: 1)\n",
        "\n",
        "Model 3: (hidden_size: 500, n_layers: 3, directions: 1)\n",
        "\n",
        "Model 4: (hidden_size: 500, n_layers: 1, directions: 2)\n",
        "\n",
        "Model 5: (hidden_size: 500, n_layers: 2, directions: 2)\n",
        "\n",
        "Model 6: (hidden_size: 500, n_layers: 3, directions: 2)\n",
        "\n",
        "Model 4: (hidden_size: 800, n_layers: 1, directions: 2)\n",
        "\n",
        "Model 5: (hidden_size: 800, n_layers: 2, directions: 2)\n",
        "\n",
        "Model 6: (hidden_size: 800, n_layers: 3, directions: 2)"
      ]
    },
    {
      "cell_type": "code",
      "metadata": {
        "id": "gTNmBU6hycZl"
      },
      "source": [
        "# TODO - your code goes here..."
      ],
      "execution_count": null,
      "outputs": []
    },
    {
      "cell_type": "markdown",
      "metadata": {
        "id": "UM74r0_8nk5s"
      },
      "source": [
        "**Task 6:** Download the GloVe embeddings from https://nlp.stanford.edu/projects/glove/ (use the 300-dim vectors from glove.6B.zip). Then intialize the nn.Embedding module in your NERNet with these embeddings, so that you can start your training with pre-trained vectors. Repeat Task 6 and print the results for each model.\n",
        "\n",
        "Note: make sure that vectors are aligned with the IDs in your Vocab, in other words, make sure that for example the word with ID 0 is the first vector in the GloVe matrix of vectors that you initialize nn.Embedding with. For a dicussion on how to do that, check it this link:\n",
        "https://discuss.pytorch.org/t/can-we-use-pre-trained-word-embeddings-for-weight-initialization-in-nn-embedding/1222"
      ]
    },
    {
      "cell_type": "code",
      "metadata": {
        "id": "JRiMbvx9o5Rh"
      },
      "source": [
        "# TODO - your code goes here..."
      ],
      "execution_count": null,
      "outputs": []
    },
    {
      "cell_type": "markdown",
      "metadata": {
        "id": "jxaESRoco6bV"
      },
      "source": [
        "**Good luck!**"
      ]
    }
  ]
}