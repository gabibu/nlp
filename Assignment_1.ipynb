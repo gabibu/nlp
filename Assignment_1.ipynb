{
  "nbformat": 4,
  "nbformat_minor": 0,
  "metadata": {
    "colab": {
      "name": "Assignment 1",
      "provenance": [],
      "include_colab_link": true
    },
    "kernelspec": {
      "name": "python3",
      "display_name": "Python 3"
    }
  },
  "cells": [
    {
      "cell_type": "markdown",
      "metadata": {
        "id": "view-in-github",
        "colab_type": "text"
      },
      "source": [
        "<a href=\"https://colab.research.google.com/github/gabibu/nlp/blob/master/Assignment_1.ipynb\" target=\"_parent\"><img src=\"https://colab.research.google.com/assets/colab-badge.svg\" alt=\"Open In Colab\"/></a>"
      ]
    },
    {
      "cell_type": "markdown",
      "metadata": {
        "id": "7ce5pQK3bFn_"
      },
      "source": [
        "# Assignment 1\n",
        "In this assignment you will be creating tools for learning and testing language models.\n",
        "The corpora that you will be working with are lists of tweets in 8 different languages that use the Latin script. The data is provided either formatted as CSV or as JSON, for your convenience. The end goal is to write a set of tools that can detect the language of a given tweet.\n"
      ]
    },
    {
      "cell_type": "markdown",
      "metadata": {
        "id": "vwG8v-Ll49KM"
      },
      "source": [
        "*As a preparation for this task, download the data files from the course git repository.\n",
        "\n",
        "The relevant files are under **lm-languages-data-new**:\n",
        "\n",
        "\n",
        "*   en.csv (or the equivalent JSON file)\n",
        "*   es.csv (or the equivalent JSON file)\n",
        "*   fr.csv (or the equivalent JSON file)\n",
        "*   in.csv (or the equivalent JSON file)\n",
        "*   it.csv (or the equivalent JSON file)\n",
        "*   nl.csv (or the equivalent JSON file)\n",
        "*   pt.csv (or the equivalent JSON file)\n",
        "*   tl.csv (or the equivalent JSON file)\n",
        "*   test.csv (or the equivalent JSON file)\n",
        "\n",
        "\n",
        "\n"
      ]
    },
    {
      "cell_type": "code",
      "metadata": {
        "id": "7xC-87z2GWMq",
        "colab": {
          "base_uri": "https://localhost:8080/"
        },
        "outputId": "faf2af88-4a85-4fd4-f953-86cbb77d5b0b"
      },
      "source": [
        "!git clone https://github.com/kfirbar/nlp-course.git"
      ],
      "execution_count": 1,
      "outputs": [
        {
          "output_type": "stream",
          "text": [
            "Cloning into 'nlp-course'...\n",
            "remote: Enumerating objects: 53, done.\u001b[K\n",
            "remote: Counting objects: 100% (53/53), done.\u001b[K\n",
            "remote: Compressing objects: 100% (42/42), done.\u001b[K\n",
            "remote: Total 53 (delta 23), reused 32 (delta 8), pack-reused 0\u001b[K\n",
            "Unpacking objects: 100% (53/53), done.\n"
          ],
          "name": "stdout"
        }
      ]
    },
    {
      "cell_type": "markdown",
      "metadata": {
        "id": "DOVb4IhsqimJ"
      },
      "source": [
        "\n",
        "\n",
        "---\n",
        "\n",
        "\n",
        "\n",
        "**Important note: please use only the files under lm-languages-data-new and NOT under lm-languages-data**\n",
        "\n",
        "\n",
        "---\n",
        "\n"
      ]
    },
    {
      "cell_type": "code",
      "metadata": {
        "colab": {
          "base_uri": "https://localhost:8080/"
        },
        "id": "QYdhPfbAGkip",
        "outputId": "4a4d5c56-4508-4cf2-ec80-2f3d701a3b45"
      },
      "source": [
        "\n",
        "!ls nlp-course/lm-languages-data-new\n"
      ],
      "execution_count": 2,
      "outputs": [
        {
          "output_type": "stream",
          "text": [
            "en.csv\t es.json  in.csv   it.json  pt.csv    test.json   tl.csv\n",
            "en.json  fr.csv   in.json  nl.csv   pt.json   tests.csv   tl.json\n",
            "es.csv\t fr.json  it.csv   nl.json  test.csv  tests.json\n"
          ],
          "name": "stdout"
        }
      ]
    },
    {
      "cell_type": "markdown",
      "metadata": {
        "id": "Ashyu_mT28o6"
      },
      "source": [
        "**Part 1**\n",
        "\n",
        "Write a function *preprocess* that iterates over all the data files and creates a single vocabulary, containing all the tokens in the data. **Our token definition is a single UTF-8 encoded character**. So, the vocabulary list is a simple Python list of all the characters that you see at least once in the data."
      ]
    },
    {
      "cell_type": "code",
      "metadata": {
        "id": "xCfzsITW8Yaj"
      },
      "source": [
        "import os\n",
        "import io\n",
        "import pathlib\n",
        "import pandas as pd\n",
        "import json \n",
        "\n",
        "folder = 'nlp-course/lm-languages-data-new'\n",
        "\n",
        "def read_tweets(file_path):\n",
        "  file_suffix = pathlib.Path(file_path).suffix\n",
        "  if file_suffix == '.json':\n",
        "    with open(file_path) as f:\n",
        "      data = json.load(f)\n",
        "      return  data['tweet_text'].values()\n",
        "      characters = {word for tweet in data['tweet_text'].values() for word in tweet.lower()}\n",
        "      vocab.update(characters)\n",
        "        \n",
        "  elif file_suffix == '.csv':\n",
        "    df = pd.read_csv(file_path, header=0)\n",
        "    return df['tweet_text'].tolist()\n",
        "    vocab.update({word for tweet in df['tweet_text'].tolist() for word in tweet.lower()})\n",
        "\n",
        "def preprocess():\n",
        "  vocab = set()\n",
        "  for file_name in os.listdir(folder):\n",
        "    file_path = os.path.join(folder, file_name)\n",
        "    tweets = read_tweets(file_path)\n",
        "\n",
        "    vocab.update({word for tweet in tweets for word in tweet.lower()})\n",
        "\n",
        "  return vocab\n",
        "        "
      ],
      "execution_count": 13,
      "outputs": []
    },
    {
      "cell_type": "code",
      "metadata": {
        "id": "XO-5dsadkxxE"
      },
      "source": [
        "\n"
      ],
      "execution_count": 43,
      "outputs": []
    },
    {
      "cell_type": "markdown",
      "metadata": {
        "id": "Nb2PGj0Yc2TY"
      },
      "source": [
        "**Part 2**\n",
        "\n",
        "Write a function lm that generates a language model from a textual corpus. The function should return a dictionary (representing a model) where the keys are all the relevant n-1 sequences, and the values are dictionaries with the n_th tokens and their corresponding probabilities to occur. For example, for a trigram model (tokens are characters), it should look something like:\n",
        "\n",
        "{\n",
        "  \"ab\":{\"c\":0.5, \"b\":0.25, \"d\":0.25},\n",
        "  \"ca\":{\"a\":0.2, \"b\":0.7, \"d\":0.1}\n",
        "}\n",
        "\n",
        "which means for example that after the sequence \"ab\", there is a 0.5 chance that \"c\" will appear, 0.25 for \"b\" to appear and 0.25 for \"d\" to appear.\n",
        "\n",
        "Note - You should think how to add the add_one smoothing information to the dictionary and implement it."
      ]
    },
    {
      "cell_type": "code",
      "metadata": {
        "id": "kMC_u8eQbVvZ"
      },
      "source": [
        "from collections import defaultdict\n",
        "import numpy as np \n",
        "\n",
        "start = '<START>'\n",
        "end = '<END>'\n",
        "\n",
        "def build_probs_model(n, vocabulary, tweets, add_one):\n",
        "\n",
        "    counts = {}\n",
        "\n",
        "    num_of_tokens  = 0.0\n",
        "    for tweet in tweets:\n",
        "        characters = list(tweet)\n",
        "\n",
        "\n",
        "        tokens =  [start] + characters +  [end] if n > 1 else characters\n",
        "\n",
        "        num_of_tokens += len(tokens)\n",
        "\n",
        "        if len(tokens) < n:\n",
        "            continue\n",
        "\n",
        "        for i in range(n, len(tokens)):\n",
        "            current_tokens = tokens[i - n: i]\n",
        "\n",
        "            character = current_tokens[-1]\n",
        "\n",
        "            if n > 1:\n",
        "                n_key = ''.join(current_tokens[0: -1])\n",
        "\n",
        "                if n_key not in counts:\n",
        "                    counts[n_key] = {}\n",
        "\n",
        "                    if add_one:\n",
        "                        for v_token in vocabulary:\n",
        "                            counts[n_key][v_token] = 1.0\n",
        "\n",
        "                if character not in counts[n_key]:\n",
        "                    counts[n_key][character] = 0.0\n",
        "\n",
        "                counts[n_key][character] += 1.0\n",
        "            else:\n",
        "                if character not in counts:\n",
        "                    counts[character] = 0.0\n",
        "\n",
        "                counts[character] += 1\n",
        "\n",
        "    if n ==1:\n",
        "        model = {word: count/num_of_tokens for (word, count) in counts.items()}\n",
        "    else:\n",
        "        model = {}\n",
        "        for gram, next_character_counts in counts.items():\n",
        "            n = np.sum(list(next_character_counts.values()))\n",
        "\n",
        "            model[gram] = {word: count/n for (word, count) in next_character_counts.items()}\n",
        "\n",
        "    return model\n",
        "\n",
        "\n",
        "\n",
        "\n",
        "\n",
        "\n",
        "\n",
        "def lm(n, vocabulary, data_file_path, add_one):\n",
        "  # n - the n-gram to use (e.g., 1 - unigram, 2 - bigram, etc.)\n",
        "  # vocabulary - the vocabulary list (which you should use for calculating add_one smoothing)\n",
        "  # data_file_path - the data_file from which we record probabilities for our model\n",
        "  # add_one - True/False (use add_one smoothing or not)\n",
        "\n",
        "  # TODO\n",
        "  tweets = read_tweets(data_file_path)\n",
        "  return build_probs_model(n, vocabulary, tweets, add_one)"
      ],
      "execution_count": 14,
      "outputs": []
    },
    {
      "cell_type": "markdown",
      "metadata": {
        "id": "7M8TchtI22I3"
      },
      "source": [
        "**Part 3**\n",
        "\n",
        "Write a function *eval* that returns the perplexity of a model (dictionary) running over a given data file."
      ]
    },
    {
      "cell_type": "code",
      "metadata": {
        "id": "F0kkMn328-lJ"
      },
      "source": [
        "def eval(n, model, data_file):\n",
        "  # n - the n-gram that you used to build your model (must be the same number)\n",
        "  # model - the dictionary (model) to use for calculating perplexity\n",
        "  # data_file - the tweets file that you wish to claculate a perplexity score for\n",
        "\n",
        "  # TODO\n",
        "\n",
        "  other_model = lm(n, vocabulary, data_file, False)\n",
        "\n",
        "  entropy_sum = 0.0\n",
        "  if n == 1:\n",
        "    for token, prob in other_model.items():\n",
        "      entropy_sum += prob * np.log2(model[token] if token in model else 0.0)\n",
        "  else:\n",
        "    for prefix_tokens, next_probs in model.items():\n",
        "      for token, prob in next_probs.items():\n",
        "        other_prob = model[prefix_tokens][token] if prefix_tokens in model and token in model[prefix_tokens] else 0.0\n",
        "        entropy_sum += prob * np.log2(other_prob)\n",
        "    \n",
        "  entropy = -1 * entropy_sum\n",
        "\n",
        "  return np.power(2, entropy)"
      ],
      "execution_count": 15,
      "outputs": []
    },
    {
      "cell_type": "markdown",
      "metadata": {
        "id": "enGmtLE3921p"
      },
      "source": [
        "**Part 4**\n",
        "\n",
        "Write a function *match* that creates a model for every relevant language, using a specific value of *n* and *add_one*. Then, calculate the perplexity of all possible pairs (e.g., en model applied on the data files en ,es, fr, in, it, nl, pt, tl; es model applied on the data files en, es...). This function should return a pandas DataFrame with columns [en ,es, fr, in, it, nl, pt, tl] and every row should be labeled with one of the languages. Then, the values are the relevant perplexity values."
      ]
    },
    {
      "cell_type": "code",
      "metadata": {
        "id": "caAxLE9s_fvn",
        "colab": {
          "base_uri": "https://localhost:8080/"
        },
        "outputId": "1bfe727f-d994-4771-b597-92e93ae16af6"
      },
      "source": [
        "def match(n, add_one):\n",
        "  # n - the n-gram to use for creating n-gram models\n",
        "  # add_one - use add_one smoothing or not\n",
        "\n",
        "  vocabulary = preprocess()\n",
        "\n",
        "  language_to_model = {}\n",
        "  for file_name in os.listdir(folder):\n",
        "    language = os.path.splitext(file_name)[0]\n",
        "    if language in language_to_model or 'test' in language:\n",
        "      continue\n",
        "    \n",
        "    print(language)\n",
        "    file_path = os.path.join(folder, file_name)\n",
        "\n",
        "    model = lm(n, vocabulary, file_path, add_one)\n",
        "    language_to_model[language] = model \n",
        "\n",
        "match(2, False) "
      ],
      "execution_count": 18,
      "outputs": [
        {
          "output_type": "stream",
          "text": [
            "pt\n",
            "en\n",
            "tl\n",
            "fr\n",
            "in\n",
            "it\n",
            "nl\n",
            "es\n"
          ],
          "name": "stdout"
        }
      ]
    },
    {
      "cell_type": "markdown",
      "metadata": {
        "id": "waGMwA8H_n17"
      },
      "source": [
        "**Part 5**\n",
        "\n",
        "Run match with *n* values 1-4, once with add_one and once without, and print the 8 tables to this notebook, one after another."
      ]
    },
    {
      "cell_type": "code",
      "metadata": {
        "id": "nk32naXyAMdl"
      },
      "source": [
        "# TODO"
      ],
      "execution_count": null,
      "outputs": []
    },
    {
      "cell_type": "markdown",
      "metadata": {
        "id": "cg4h5Cl0q2nR"
      },
      "source": [
        "**Part 6**\n",
        "\n",
        "Each line in the file test.csv contains a sentence and the language it belongs to. Write a function that uses your language models to classify the correct language of each sentence.\n",
        "\n",
        "Important note regarding the grading of this section: this is an open question, where a different solution will yield different accuracy scores. any solution that is not trivial (e.g. returning 'en' in all cases) will be excepted. We do reserve the right to give bonus points to exceptionally good/creative solutions."
      ]
    },
    {
      "cell_type": "code",
      "metadata": {
        "id": "qD6IRIQLrlZF"
      },
      "source": [
        "# TODO"
      ],
      "execution_count": null,
      "outputs": []
    },
    {
      "cell_type": "markdown",
      "metadata": {
        "id": "q5ECmLd3rktZ"
      },
      "source": [
        "**Part 7**\n",
        "\n",
        "Calculate the F1 score of your output from part 6. (hint: you can use https://scikit-learn.org/stable/modules/generated/sklearn.metrics.f1_score.html). \n"
      ]
    },
    {
      "cell_type": "code",
      "metadata": {
        "id": "VOBO3YQls66r"
      },
      "source": [
        "# TODO"
      ],
      "execution_count": null,
      "outputs": []
    },
    {
      "cell_type": "markdown",
      "metadata": {
        "id": "iEtckSWNANqW"
      },
      "source": [
        "# **Good luck!**"
      ]
    }
  ]
}