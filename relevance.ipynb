{
  "nbformat": 4,
  "nbformat_minor": 0,
  "metadata": {
    "colab": {
      "name": "nlp_final.ipynb",
      "provenance": []
    },
    "kernelspec": {
      "name": "python3",
      "display_name": "Python 3"
    },
    "language_info": {
      "name": "python"
    },
    "accelerator": "GPU"
  },
  "cells": [
    {
      "cell_type": "code",
      "metadata": {
        "id": "Cq7vz0__2J7K"
      },
      "source": [
        "! pip install -q kaggle"
      ],
      "execution_count": 1,
      "outputs": []
    },
    {
      "cell_type": "code",
      "metadata": {
        "colab": {
          "base_uri": "https://localhost:8080/"
        },
        "id": "YwTJZ-l8Hf_W",
        "outputId": "ef61c5f2-c409-4b77-bfb3-5832a3cc06a0"
      },
      "source": [
        "!pip install transformers\n"
      ],
      "execution_count": 2,
      "outputs": [
        {
          "output_type": "stream",
          "text": [
            "Collecting transformers\n",
            "  Downloading transformers-4.9.1-py3-none-any.whl (2.6 MB)\n",
            "\u001b[K     |████████████████████████████████| 2.6 MB 7.7 MB/s \n",
            "\u001b[?25hCollecting pyyaml>=5.1\n",
            "  Downloading PyYAML-5.4.1-cp37-cp37m-manylinux1_x86_64.whl (636 kB)\n",
            "\u001b[K     |████████████████████████████████| 636 kB 58.7 MB/s \n",
            "\u001b[?25hRequirement already satisfied: packaging in /usr/local/lib/python3.7/dist-packages (from transformers) (21.0)\n",
            "Requirement already satisfied: numpy>=1.17 in /usr/local/lib/python3.7/dist-packages (from transformers) (1.19.5)\n",
            "Requirement already satisfied: requests in /usr/local/lib/python3.7/dist-packages (from transformers) (2.23.0)\n",
            "Collecting tokenizers<0.11,>=0.10.1\n",
            "  Downloading tokenizers-0.10.3-cp37-cp37m-manylinux_2_5_x86_64.manylinux1_x86_64.manylinux_2_12_x86_64.manylinux2010_x86_64.whl (3.3 MB)\n",
            "\u001b[K     |████████████████████████████████| 3.3 MB 60.9 MB/s \n",
            "\u001b[?25hRequirement already satisfied: tqdm>=4.27 in /usr/local/lib/python3.7/dist-packages (from transformers) (4.41.1)\n",
            "Requirement already satisfied: regex!=2019.12.17 in /usr/local/lib/python3.7/dist-packages (from transformers) (2019.12.20)\n",
            "Collecting sacremoses\n",
            "  Downloading sacremoses-0.0.45-py3-none-any.whl (895 kB)\n",
            "\u001b[K     |████████████████████████████████| 895 kB 64.0 MB/s \n",
            "\u001b[?25hCollecting huggingface-hub==0.0.12\n",
            "  Downloading huggingface_hub-0.0.12-py3-none-any.whl (37 kB)\n",
            "Requirement already satisfied: importlib-metadata in /usr/local/lib/python3.7/dist-packages (from transformers) (4.6.1)\n",
            "Requirement already satisfied: filelock in /usr/local/lib/python3.7/dist-packages (from transformers) (3.0.12)\n",
            "Requirement already satisfied: typing-extensions in /usr/local/lib/python3.7/dist-packages (from huggingface-hub==0.0.12->transformers) (3.7.4.3)\n",
            "Requirement already satisfied: pyparsing>=2.0.2 in /usr/local/lib/python3.7/dist-packages (from packaging->transformers) (2.4.7)\n",
            "Requirement already satisfied: zipp>=0.5 in /usr/local/lib/python3.7/dist-packages (from importlib-metadata->transformers) (3.5.0)\n",
            "Requirement already satisfied: idna<3,>=2.5 in /usr/local/lib/python3.7/dist-packages (from requests->transformers) (2.10)\n",
            "Requirement already satisfied: urllib3!=1.25.0,!=1.25.1,<1.26,>=1.21.1 in /usr/local/lib/python3.7/dist-packages (from requests->transformers) (1.24.3)\n",
            "Requirement already satisfied: chardet<4,>=3.0.2 in /usr/local/lib/python3.7/dist-packages (from requests->transformers) (3.0.4)\n",
            "Requirement already satisfied: certifi>=2017.4.17 in /usr/local/lib/python3.7/dist-packages (from requests->transformers) (2021.5.30)\n",
            "Requirement already satisfied: joblib in /usr/local/lib/python3.7/dist-packages (from sacremoses->transformers) (1.0.1)\n",
            "Requirement already satisfied: six in /usr/local/lib/python3.7/dist-packages (from sacremoses->transformers) (1.15.0)\n",
            "Requirement already satisfied: click in /usr/local/lib/python3.7/dist-packages (from sacremoses->transformers) (7.1.2)\n",
            "Installing collected packages: tokenizers, sacremoses, pyyaml, huggingface-hub, transformers\n",
            "  Attempting uninstall: pyyaml\n",
            "    Found existing installation: PyYAML 3.13\n",
            "    Uninstalling PyYAML-3.13:\n",
            "      Successfully uninstalled PyYAML-3.13\n",
            "Successfully installed huggingface-hub-0.0.12 pyyaml-5.4.1 sacremoses-0.0.45 tokenizers-0.10.3 transformers-4.9.1\n"
          ],
          "name": "stdout"
        }
      ]
    },
    {
      "cell_type": "code",
      "metadata": {
        "colab": {
          "base_uri": "https://localhost:8080/"
        },
        "id": "sSJFSo2_LESa",
        "outputId": "b7e269fd-7c46-44ce-8804-6ed77e5cb0a2"
      },
      "source": [
        "!pip install unidecode\n",
        "!pip install torch\n",
        "!pip install tqdm"
      ],
      "execution_count": 3,
      "outputs": [
        {
          "output_type": "stream",
          "text": [
            "Collecting unidecode\n",
            "  Downloading Unidecode-1.2.0-py2.py3-none-any.whl (241 kB)\n",
            "\u001b[?25l\r\u001b[K     |█▍                              | 10 kB 28.1 MB/s eta 0:00:01\r\u001b[K     |██▊                             | 20 kB 30.6 MB/s eta 0:00:01\r\u001b[K     |████                            | 30 kB 21.3 MB/s eta 0:00:01\r\u001b[K     |█████▍                          | 40 kB 17.0 MB/s eta 0:00:01\r\u001b[K     |██████▉                         | 51 kB 9.1 MB/s eta 0:00:01\r\u001b[K     |████████▏                       | 61 kB 8.8 MB/s eta 0:00:01\r\u001b[K     |█████████▌                      | 71 kB 9.0 MB/s eta 0:00:01\r\u001b[K     |██████████▉                     | 81 kB 10.1 MB/s eta 0:00:01\r\u001b[K     |████████████▏                   | 92 kB 10.4 MB/s eta 0:00:01\r\u001b[K     |█████████████▋                  | 102 kB 8.4 MB/s eta 0:00:01\r\u001b[K     |███████████████                 | 112 kB 8.4 MB/s eta 0:00:01\r\u001b[K     |████████████████▎               | 122 kB 8.4 MB/s eta 0:00:01\r\u001b[K     |█████████████████▋              | 133 kB 8.4 MB/s eta 0:00:01\r\u001b[K     |███████████████████             | 143 kB 8.4 MB/s eta 0:00:01\r\u001b[K     |████████████████████▍           | 153 kB 8.4 MB/s eta 0:00:01\r\u001b[K     |█████████████████████▊          | 163 kB 8.4 MB/s eta 0:00:01\r\u001b[K     |███████████████████████         | 174 kB 8.4 MB/s eta 0:00:01\r\u001b[K     |████████████████████████▍       | 184 kB 8.4 MB/s eta 0:00:01\r\u001b[K     |█████████████████████████▊      | 194 kB 8.4 MB/s eta 0:00:01\r\u001b[K     |███████████████████████████▏    | 204 kB 8.4 MB/s eta 0:00:01\r\u001b[K     |████████████████████████████▌   | 215 kB 8.4 MB/s eta 0:00:01\r\u001b[K     |█████████████████████████████▉  | 225 kB 8.4 MB/s eta 0:00:01\r\u001b[K     |███████████████████████████████▏| 235 kB 8.4 MB/s eta 0:00:01\r\u001b[K     |████████████████████████████████| 241 kB 8.4 MB/s \n",
            "\u001b[?25hInstalling collected packages: unidecode\n",
            "Successfully installed unidecode-1.2.0\n",
            "Requirement already satisfied: torch in /usr/local/lib/python3.7/dist-packages (1.9.0+cu102)\n",
            "Requirement already satisfied: typing-extensions in /usr/local/lib/python3.7/dist-packages (from torch) (3.7.4.3)\n",
            "Requirement already satisfied: tqdm in /usr/local/lib/python3.7/dist-packages (4.41.1)\n"
          ],
          "name": "stdout"
        }
      ]
    },
    {
      "cell_type": "code",
      "metadata": {
        "id": "m2H9Z4iZ2XPb",
        "colab": {
          "base_uri": "https://localhost:8080/"
        },
        "outputId": "49bea3c8-e67e-4611-af73-dd6c8128345b"
      },
      "source": [
        "from google.colab import files\n",
        "from tqdm import tqdm\n",
        "tqdm.pandas()"
      ],
      "execution_count": 46,
      "outputs": [
        {
          "output_type": "stream",
          "text": [
            "/usr/local/lib/python3.7/dist-packages/tqdm/std.py:658: FutureWarning: The Panel class is removed from pandas. Accessing it from the top-level namespace will also be removed in the next version\n",
            "  from pandas import Panel\n"
          ],
          "name": "stderr"
        }
      ]
    },
    {
      "cell_type": "code",
      "metadata": {
        "colab": {
          "resources": {
            "http://localhost:8080/nbextensions/google.colab/files.js": {
              "data": "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",
              "ok": true,
              "headers": [
                [
                  "content-type",
                  "application/javascript"
                ]
              ],
              "status": 200,
              "status_text": ""
            }
          },
          "base_uri": "https://localhost:8080/",
          "height": 89
        },
        "id": "h0uiWBjK2jtU",
        "outputId": "310911cc-259e-4968-ac03-d4880be9f9e3"
      },
      "source": [
        "files.upload()"
      ],
      "execution_count": 5,
      "outputs": [
        {
          "output_type": "display_data",
          "data": {
            "text/html": [
              "\n",
              "     <input type=\"file\" id=\"files-dbf0f957-ee4f-401a-a658-33351ed15fe1\" name=\"files[]\" multiple disabled\n",
              "        style=\"border:none\" />\n",
              "     <output id=\"result-dbf0f957-ee4f-401a-a658-33351ed15fe1\">\n",
              "      Upload widget is only available when the cell has been executed in the\n",
              "      current browser session. Please rerun this cell to enable.\n",
              "      </output>\n",
              "      <script src=\"/nbextensions/google.colab/files.js\"></script> "
            ],
            "text/plain": [
              "<IPython.core.display.HTML object>"
            ]
          },
          "metadata": {
            "tags": []
          }
        },
        {
          "output_type": "stream",
          "text": [
            "Saving kaggle.json to kaggle.json\n"
          ],
          "name": "stdout"
        },
        {
          "output_type": "execute_result",
          "data": {
            "text/plain": [
              "{'kaggle.json': b'{\"username\":\"gabib3b\",\"key\":\"817d7e169db4cbef867b22907320144c\"}'}"
            ]
          },
          "metadata": {
            "tags": []
          },
          "execution_count": 5
        }
      ]
    },
    {
      "cell_type": "code",
      "metadata": {
        "id": "JYFkqZ-42pXt"
      },
      "source": [
        "! mkdir ~/.kaggle"
      ],
      "execution_count": 6,
      "outputs": []
    },
    {
      "cell_type": "code",
      "metadata": {
        "id": "NgVm9ANw2sBE"
      },
      "source": [
        "! cp kaggle.json ~/.kaggle/"
      ],
      "execution_count": 7,
      "outputs": []
    },
    {
      "cell_type": "code",
      "metadata": {
        "id": "EK-tF16z2uws"
      },
      "source": [
        "! chmod 600 ~/.kaggle/kaggle.json"
      ],
      "execution_count": 8,
      "outputs": []
    },
    {
      "cell_type": "code",
      "metadata": {
        "colab": {
          "base_uri": "https://localhost:8080/"
        },
        "id": "TCtGu_mC2x4e",
        "outputId": "c1c87e1d-aef3-49b2-d2b7-bc405d05d2ee"
      },
      "source": [
        "! kaggle competitions download -c home-depot-product-search-relevance"
      ],
      "execution_count": 9,
      "outputs": [
        {
          "output_type": "stream",
          "text": [
            "Warning: Looks like you're using an outdated API Version, please consider updating (server 1.5.12 / client 1.5.4)\n",
            "Downloading attributes.csv.zip to /content\n",
            " 33% 9.00M/27.2M [00:00<00:00, 29.3MB/s]\n",
            "100% 27.2M/27.2M [00:00<00:00, 61.4MB/s]\n",
            "Downloading test.csv.zip to /content\n",
            "100% 4.74M/4.74M [00:00<00:00, 48.5MB/s]\n",
            "\n",
            "Downloading sample_submission.csv.zip to /content\n",
            "  0% 0.00/227k [00:00<?, ?B/s]\n",
            "100% 227k/227k [00:00<00:00, 70.0MB/s]\n",
            "Downloading relevance_instructions.docx to /content\n",
            "  0% 0.00/105k [00:00<?, ?B/s]\n",
            "100% 105k/105k [00:00<00:00, 112MB/s]\n",
            "Downloading product_descriptions.csv.zip to /content\n",
            " 95% 33.0M/34.8M [00:01<00:00, 26.4MB/s]\n",
            "100% 34.8M/34.8M [00:01<00:00, 30.0MB/s]\n",
            "Downloading train.csv.zip to /content\n",
            "  0% 0.00/2.51M [00:00<?, ?B/s]\n",
            "100% 2.51M/2.51M [00:00<00:00, 151MB/s]\n"
          ],
          "name": "stdout"
        }
      ]
    },
    {
      "cell_type": "code",
      "metadata": {
        "id": "uc3SPuZR366P",
        "colab": {
          "base_uri": "https://localhost:8080/"
        },
        "outputId": "aadd36f1-fe64-40d7-9d8b-0aa73063fa7d"
      },
      "source": [
        "import pandas as pd\n",
        "import numpy as np\n",
        "from transformers import BertTokenizer\n",
        "import nltk \n",
        "import unidecode\n",
        "import re\n",
        "nltk.download('punkt')\n",
        "nltk.download('stopwords')\n",
        "from nltk.corpus import stopwords\n",
        "import string"
      ],
      "execution_count": 29,
      "outputs": [
        {
          "output_type": "stream",
          "text": [
            "[nltk_data] Downloading package punkt to /root/nltk_data...\n",
            "[nltk_data]   Package punkt is already up-to-date!\n",
            "[nltk_data] Downloading package stopwords to /root/nltk_data...\n",
            "[nltk_data]   Unzipping corpora/stopwords.zip.\n"
          ],
          "name": "stdout"
        }
      ]
    },
    {
      "cell_type": "code",
      "metadata": {
        "colab": {
          "base_uri": "https://localhost:8080/"
        },
        "id": "2FTp4EQn3Ai5",
        "outputId": "6d15fed4-29fb-465f-c0d3-021a07daa5f1"
      },
      "source": [
        "!ls"
      ],
      "execution_count": 11,
      "outputs": [
        {
          "output_type": "stream",
          "text": [
            "attributes.csv.zip\t      relevance_instructions.docx  test.csv.zip\n",
            "kaggle.json\t\t      sample_data\t\t   train.csv.zip\n",
            "product_descriptions.csv.zip  sample_submission.csv.zip\n"
          ],
          "name": "stdout"
        }
      ]
    },
    {
      "cell_type": "code",
      "metadata": {
        "id": "7z5kTCLu3wPp"
      },
      "source": [
        "att_df= pd.read_csv('attributes.csv.zip')\n",
        "desc_df= pd.read_csv('product_descriptions.csv.zip')\n",
        "train_df= pd.read_csv('train.csv.zip', encoding='latin-1')\n",
        "test_df = pd.read_csv('test.csv.zip',encoding='latin-1')\n"
      ],
      "execution_count": 12,
      "outputs": []
    },
    {
      "cell_type": "code",
      "metadata": {
        "id": "GPtCnjkmEgB4"
      },
      "source": [
        "desc_df = desc_df.fillna(0)\n",
        "train_df = train_df.fillna(0)\n",
        "test_df = test_df.fillna(0)\n",
        "att_df = att_df.fillna(0)\n",
        "\n",
        "desc_df['product_uid'] = desc_df['product_uid'].astype(np.int64)\n",
        "train_df['product_uid'] = train_df['product_uid'].astype(np.int64)\n",
        "test_df['product_uid'] = test_df['product_uid'].astype(np.int64)\n",
        "att_df['product_uid'] = att_df['product_uid'].astype(np.int64)"
      ],
      "execution_count": 14,
      "outputs": []
    },
    {
      "cell_type": "code",
      "metadata": {
        "colab": {
          "base_uri": "https://localhost:8080/",
          "height": 111
        },
        "id": "Wc9y_9xh39qp",
        "outputId": "d3e75654-392f-4ac8-915f-b09a55a0481f"
      },
      "source": [
        "train_df.sample(2)"
      ],
      "execution_count": 16,
      "outputs": [
        {
          "output_type": "execute_result",
          "data": {
            "text/html": [
              "<div>\n",
              "<style scoped>\n",
              "    .dataframe tbody tr th:only-of-type {\n",
              "        vertical-align: middle;\n",
              "    }\n",
              "\n",
              "    .dataframe tbody tr th {\n",
              "        vertical-align: top;\n",
              "    }\n",
              "\n",
              "    .dataframe thead th {\n",
              "        text-align: right;\n",
              "    }\n",
              "</style>\n",
              "<table border=\"1\" class=\"dataframe\">\n",
              "  <thead>\n",
              "    <tr style=\"text-align: right;\">\n",
              "      <th></th>\n",
              "      <th>id</th>\n",
              "      <th>product_uid</th>\n",
              "      <th>product_title</th>\n",
              "      <th>search_term</th>\n",
              "      <th>relevance</th>\n",
              "    </tr>\n",
              "  </thead>\n",
              "  <tbody>\n",
              "    <tr>\n",
              "      <th>26071</th>\n",
              "      <td>79939</td>\n",
              "      <td>123316</td>\n",
              "      <td>KOHLER CLC 30 in. x 26 in. Recessed or Surface...</td>\n",
              "      <td>bath si k cabinets</td>\n",
              "      <td>2.67</td>\n",
              "    </tr>\n",
              "    <tr>\n",
              "      <th>36027</th>\n",
              "      <td>110117</td>\n",
              "      <td>135898</td>\n",
              "      <td>Burpee Spinach Bloomsdale Long-Standing Seed</td>\n",
              "      <td>spinach</td>\n",
              "      <td>3.00</td>\n",
              "    </tr>\n",
              "  </tbody>\n",
              "</table>\n",
              "</div>"
            ],
            "text/plain": [
              "           id  product_uid  ...         search_term relevance\n",
              "26071   79939       123316  ...  bath si k cabinets      2.67\n",
              "36027  110117       135898  ...             spinach      3.00\n",
              "\n",
              "[2 rows x 5 columns]"
            ]
          },
          "metadata": {
            "tags": []
          },
          "execution_count": 16
        }
      ]
    },
    {
      "cell_type": "code",
      "metadata": {
        "id": "AVEuEm1CPBfa"
      },
      "source": [
        ""
      ],
      "execution_count": null,
      "outputs": []
    },
    {
      "cell_type": "code",
      "metadata": {
        "colab": {
          "base_uri": "https://localhost:8080/"
        },
        "id": "LizRelmmMTOO",
        "outputId": "6c61a460-9d7e-4cfe-c01f-b059b3d6af88"
      },
      "source": [
        "np.min(train_df['relevance'].tolist()), np.max(train_df['relevance'].tolist())"
      ],
      "execution_count": null,
      "outputs": [
        {
          "output_type": "execute_result",
          "data": {
            "text/plain": [
              "(1.0, 3.0)"
            ]
          },
          "metadata": {
            "tags": []
          },
          "execution_count": 27
        }
      ]
    },
    {
      "cell_type": "code",
      "metadata": {
        "id": "EXIjvtz5O6F8"
      },
      "source": [
        "train_df['my_relevance'] = train_df['relevance'].apply(lambda x: (x - 1.0)/2.0)"
      ],
      "execution_count": 17,
      "outputs": []
    },
    {
      "cell_type": "code",
      "metadata": {
        "colab": {
          "base_uri": "https://localhost:8080/"
        },
        "id": "XEsYyEZdPNuC",
        "outputId": "3112b1f4-c44c-4c6b-aae4-e80ea1baf757"
      },
      "source": [
        "np.min(train_df['my_relevance'].tolist()), np.max(train_df['my_relevance'].tolist())"
      ],
      "execution_count": 18,
      "outputs": [
        {
          "output_type": "execute_result",
          "data": {
            "text/plain": [
              "(0.0, 1.0)"
            ]
          },
          "metadata": {
            "tags": []
          },
          "execution_count": 18
        }
      ]
    },
    {
      "cell_type": "code",
      "metadata": {
        "id": "pYhPgWl3PQ_7"
      },
      "source": [
        "train_df['my_relevance2'] = train_df['my_relevance'].apply(lambda x: ((x - 0.0)/1.0) * 2.0 + 1)"
      ],
      "execution_count": 19,
      "outputs": []
    },
    {
      "cell_type": "code",
      "metadata": {
        "colab": {
          "base_uri": "https://localhost:8080/",
          "height": 173
        },
        "id": "Lx1rYzOzPHYD",
        "outputId": "4858d8fe-7e50-4ffe-b2d0-9a5079b6c41b"
      },
      "source": [
        "train_df[['relevance', 'my_relevance', 'my_relevance2']].sample(4)"
      ],
      "execution_count": 20,
      "outputs": [
        {
          "output_type": "execute_result",
          "data": {
            "text/html": [
              "<div>\n",
              "<style scoped>\n",
              "    .dataframe tbody tr th:only-of-type {\n",
              "        vertical-align: middle;\n",
              "    }\n",
              "\n",
              "    .dataframe tbody tr th {\n",
              "        vertical-align: top;\n",
              "    }\n",
              "\n",
              "    .dataframe thead th {\n",
              "        text-align: right;\n",
              "    }\n",
              "</style>\n",
              "<table border=\"1\" class=\"dataframe\">\n",
              "  <thead>\n",
              "    <tr style=\"text-align: right;\">\n",
              "      <th></th>\n",
              "      <th>relevance</th>\n",
              "      <th>my_relevance</th>\n",
              "      <th>my_relevance2</th>\n",
              "    </tr>\n",
              "  </thead>\n",
              "  <tbody>\n",
              "    <tr>\n",
              "      <th>52071</th>\n",
              "      <td>2.33</td>\n",
              "      <td>0.665</td>\n",
              "      <td>2.33</td>\n",
              "    </tr>\n",
              "    <tr>\n",
              "      <th>12742</th>\n",
              "      <td>1.67</td>\n",
              "      <td>0.335</td>\n",
              "      <td>1.67</td>\n",
              "    </tr>\n",
              "    <tr>\n",
              "      <th>13883</th>\n",
              "      <td>3.00</td>\n",
              "      <td>1.000</td>\n",
              "      <td>3.00</td>\n",
              "    </tr>\n",
              "    <tr>\n",
              "      <th>36757</th>\n",
              "      <td>1.00</td>\n",
              "      <td>0.000</td>\n",
              "      <td>1.00</td>\n",
              "    </tr>\n",
              "  </tbody>\n",
              "</table>\n",
              "</div>"
            ],
            "text/plain": [
              "       relevance  my_relevance  my_relevance2\n",
              "52071       2.33         0.665           2.33\n",
              "12742       1.67         0.335           1.67\n",
              "13883       3.00         1.000           3.00\n",
              "36757       1.00         0.000           1.00"
            ]
          },
          "metadata": {
            "tags": []
          },
          "execution_count": 20
        }
      ]
    },
    {
      "cell_type": "code",
      "metadata": {
        "colab": {
          "base_uri": "https://localhost:8080/",
          "height": 297
        },
        "id": "EcIh2Oqq4tQV",
        "outputId": "5c8290b8-507b-458a-e519-e2547eb6dfad"
      },
      "source": [
        "train_df.describe()"
      ],
      "execution_count": null,
      "outputs": [
        {
          "output_type": "execute_result",
          "data": {
            "text/html": [
              "<div>\n",
              "<style scoped>\n",
              "    .dataframe tbody tr th:only-of-type {\n",
              "        vertical-align: middle;\n",
              "    }\n",
              "\n",
              "    .dataframe tbody tr th {\n",
              "        vertical-align: top;\n",
              "    }\n",
              "\n",
              "    .dataframe thead th {\n",
              "        text-align: right;\n",
              "    }\n",
              "</style>\n",
              "<table border=\"1\" class=\"dataframe\">\n",
              "  <thead>\n",
              "    <tr style=\"text-align: right;\">\n",
              "      <th></th>\n",
              "      <th>id</th>\n",
              "      <th>product_uid</th>\n",
              "      <th>relevance</th>\n",
              "    </tr>\n",
              "  </thead>\n",
              "  <tbody>\n",
              "    <tr>\n",
              "      <th>count</th>\n",
              "      <td>74067.000000</td>\n",
              "      <td>74067.000000</td>\n",
              "      <td>74067.000000</td>\n",
              "    </tr>\n",
              "    <tr>\n",
              "      <th>mean</th>\n",
              "      <td>112385.709223</td>\n",
              "      <td>142331.911553</td>\n",
              "      <td>2.381634</td>\n",
              "    </tr>\n",
              "    <tr>\n",
              "      <th>std</th>\n",
              "      <td>64016.573650</td>\n",
              "      <td>30770.774864</td>\n",
              "      <td>0.533984</td>\n",
              "    </tr>\n",
              "    <tr>\n",
              "      <th>min</th>\n",
              "      <td>2.000000</td>\n",
              "      <td>100001.000000</td>\n",
              "      <td>1.000000</td>\n",
              "    </tr>\n",
              "    <tr>\n",
              "      <th>25%</th>\n",
              "      <td>57163.500000</td>\n",
              "      <td>115128.500000</td>\n",
              "      <td>2.000000</td>\n",
              "    </tr>\n",
              "    <tr>\n",
              "      <th>50%</th>\n",
              "      <td>113228.000000</td>\n",
              "      <td>137334.000000</td>\n",
              "      <td>2.330000</td>\n",
              "    </tr>\n",
              "    <tr>\n",
              "      <th>75%</th>\n",
              "      <td>168275.500000</td>\n",
              "      <td>166883.500000</td>\n",
              "      <td>3.000000</td>\n",
              "    </tr>\n",
              "    <tr>\n",
              "      <th>max</th>\n",
              "      <td>221473.000000</td>\n",
              "      <td>206650.000000</td>\n",
              "      <td>3.000000</td>\n",
              "    </tr>\n",
              "  </tbody>\n",
              "</table>\n",
              "</div>"
            ],
            "text/plain": [
              "                  id    product_uid     relevance\n",
              "count   74067.000000   74067.000000  74067.000000\n",
              "mean   112385.709223  142331.911553      2.381634\n",
              "std     64016.573650   30770.774864      0.533984\n",
              "min         2.000000  100001.000000      1.000000\n",
              "25%     57163.500000  115128.500000      2.000000\n",
              "50%    113228.000000  137334.000000      2.330000\n",
              "75%    168275.500000  166883.500000      3.000000\n",
              "max    221473.000000  206650.000000      3.000000"
            ]
          },
          "metadata": {
            "tags": []
          },
          "execution_count": 26
        }
      ]
    },
    {
      "cell_type": "code",
      "metadata": {
        "colab": {
          "base_uri": "https://localhost:8080/"
        },
        "id": "n2ZgdzI4DeUR",
        "outputId": "3bc4a123-af47-4e08-cdbe-c77afb077cc2"
      },
      "source": [
        "train_df.drop_duplicates([\"product_uid\"]).shape[0]/len(train_df)"
      ],
      "execution_count": 23,
      "outputs": [
        {
          "output_type": "execute_result",
          "data": {
            "text/plain": [
              "0.7380749861611784"
            ]
          },
          "metadata": {
            "tags": []
          },
          "execution_count": 23
        }
      ]
    },
    {
      "cell_type": "code",
      "metadata": {
        "colab": {
          "base_uri": "https://localhost:8080/"
        },
        "id": "MoiInP_e5LJw",
        "outputId": "c8582c97-1e15-47d3-a821-7272412af794"
      },
      "source": [
        "# pd.merge(train_df, desc_df, how='left', on='product_uid').shape[0]"
      ],
      "execution_count": null,
      "outputs": [
        {
          "output_type": "execute_result",
          "data": {
            "text/plain": [
              "74067"
            ]
          },
          "metadata": {
            "tags": []
          },
          "execution_count": 50
        }
      ]
    },
    {
      "cell_type": "code",
      "metadata": {
        "colab": {
          "base_uri": "https://localhost:8080/"
        },
        "id": "4GSioO4uDVOs",
        "outputId": "92ab16e7-d4c5-4b60-a558-4b1c22e98347"
      },
      "source": [
        "train_df.shape[0]"
      ],
      "execution_count": 24,
      "outputs": [
        {
          "output_type": "execute_result",
          "data": {
            "text/plain": [
              "74067"
            ]
          },
          "metadata": {
            "tags": []
          },
          "execution_count": 24
        }
      ]
    },
    {
      "cell_type": "code",
      "metadata": {
        "id": "-VZQCATBHsLL"
      },
      "source": [
        "EMPTY_STRING = ''\n",
        "SPACE = ' '\n",
        "def clean_text(string):\n",
        "  if string is None:\n",
        "    return None\n",
        "\n",
        "  string = string.strip().lower()\n",
        "  string = unidecode.unidecode(string)\n",
        "  string = string.replace(\"'\", EMPTY_STRING)\n",
        "  string = re.sub(r\"\\'n\", SPACE, string)\n",
        "  string = re.sub(r\"\\'s\", \" 's\", string)\n",
        "  string = re.sub(r\"\\'ve\", \" 've\", string)\n",
        "  string = re.sub(r\"n\\'t\", \" n't\", string)\n",
        "  string = re.sub(r\"\\'re\", \" 're\", string)\n",
        "  string = re.sub(r\"\\'d\", \" 'd\", string)\n",
        "  string = re.sub(r\"\\'ll\", \" 'll\", string)\n",
        "  string = re.sub(r\",\", \" , \", string)\n",
        "  string = re.sub(r\"!\", \" ! \", string)\n",
        "  string = re.sub(r\"\\(\", \" ( \", string)\n",
        "  string = re.sub(r\"\\)\", \" ) \", string)\n",
        "  string = re.sub(r\"\\?\", r\" \\? \", string)\n",
        "  string = re.sub(r\"\\s{2,}\", SPACE, string)\n",
        "  string = re.sub(r\" +\", SPACE, string)\n",
        "  string = re.sub(r\"/\", \" / \", string)\n",
        "  string = re.sub(r\"\\|\", \" | \", string)\n",
        "  string = re.sub(r\"-\", \" - \", string)\n",
        "  string = re.sub(r\"\\+\", \" + \", string)\n",
        "  string = re.sub(r\"\\\\\\\\\", SPACE, string)\n",
        "\n",
        "  return string.strip()\n"
      ],
      "execution_count": 25,
      "outputs": []
    },
    {
      "cell_type": "code",
      "metadata": {
        "id": "knD9_juYJh-2"
      },
      "source": [
        "_characters_to_clean = string.punctuation + \"''\"\n",
        "EN_STOP_WORDS = set(stopwords.words('english')) - set(['can', 'no', 'up', 'against', 'after', 'before', 'below'])\n",
        "\n",
        "PUNCTUATIONS = '!\"#$&\\'()*+,-./:;<=>?@[\\\\]^_`{|}~'\n",
        "\n",
        "PUNCTUATIONS_PATTERN = re.compile(\"[{}]+$\".format(re.escape(PUNCTUATIONS)))\n",
        "\n",
        "from nltk.stem.porter import PorterStemmer\n",
        "stemmer = PorterStemmer()\n",
        "\n",
        "def _is_punctuation_only(word: str):\n",
        "    return PUNCTUATIONS_PATTERN.match(word)\n",
        "\n",
        "def filter_ale_punctuation(words):\n",
        "    return [word for word in words if not _is_punctuation_only(word)] if words is not None else None\n",
        "\n",
        "def tokenize(text):\n",
        "  \n",
        "  processed_text = clean_text(text)\n",
        "  tokens = nltk.word_tokenize(processed_text)\n",
        "\n",
        "  \n",
        "  tokens = [stemmer.stem(word) for word in tokens]\n",
        "  tokens = [word for word in tokens if word not in _characters_to_clean and word not in EN_STOP_WORDS]\n",
        "  tokens = filter_ale_punctuation(tokens)\n",
        "  tokens = [re.sub(\"\\d\", \"#\", word) for word in tokens]\n",
        "\n",
        "  return tokens if len(tokens) > 0 else None\n"
      ],
      "execution_count": 36,
      "outputs": []
    },
    {
      "cell_type": "code",
      "metadata": {
        "colab": {
          "base_uri": "https://localhost:8080/"
        },
        "id": "BSXhO_yKJ78V",
        "outputId": "5829e55a-eca5-4e47-9da2-8721fe75f5b3"
      },
      "source": [
        "# tokenize(\"he went home 123 times, before we --gabi op. -;[]\")"
      ],
      "execution_count": 40,
      "outputs": [
        {
          "output_type": "execute_result",
          "data": {
            "text/plain": [
              "['went', 'home', '###', 'time', 'befor', 'gabi', 'op']"
            ]
          },
          "metadata": {
            "tags": []
          },
          "execution_count": 40
        }
      ]
    },
    {
      "cell_type": "code",
      "metadata": {
        "colab": {
          "base_uri": "https://localhost:8080/"
        },
        "id": "UWbi3atuLKEU",
        "outputId": "02e326cc-c712-4f1b-e09a-ab0855c64f13"
      },
      "source": [
        ""
      ],
      "execution_count": 58,
      "outputs": [
        {
          "output_type": "stream",
          "text": [
            "/usr/local/lib/python3.7/dist-packages/ipykernel_launcher.py:1: FutureWarning: Passing a negative integer is deprecated in version 1.0 and will not be supported in future version. Instead, use None to not limit the column width.\n",
            "  \"\"\"Entry point for launching an IPython kernel.\n"
          ],
          "name": "stderr"
        },
        {
          "output_type": "execute_result",
          "data": {
            "text/plain": [
              "0.9997299742125373"
            ]
          },
          "metadata": {
            "tags": []
          },
          "execution_count": 58
        }
      ]
    },
    {
      "cell_type": "code",
      "metadata": {
        "colab": {
          "base_uri": "https://localhost:8080/"
        },
        "id": "PBmOPW8hJAC7",
        "outputId": "7a1b9855-05a6-42dc-f671-24c89241c5aa"
      },
      "source": [
        "train_df['product_title_tokens'] = train_df['product_title'].progress_apply(tokenize)"
      ],
      "execution_count": 48,
      "outputs": [
        {
          "output_type": "stream",
          "text": [
            "100%|██████████| 74067/74067 [00:35<00:00, 2096.44it/s]\n"
          ],
          "name": "stderr"
        }
      ]
    },
    {
      "cell_type": "code",
      "metadata": {
        "colab": {
          "base_uri": "https://localhost:8080/"
        },
        "id": "qWEyqUS_JITR",
        "outputId": "c899249e-66bc-46eb-b68a-5f19ef811106"
      },
      "source": [
        "train_df['search_term_tokens'] = train_df['search_term'].progress_apply(tokenize)"
      ],
      "execution_count": 47,
      "outputs": [
        {
          "output_type": "stream",
          "text": [
            "100%|██████████| 74067/74067 [00:14<00:00, 5141.27it/s]\n"
          ],
          "name": "stderr"
        }
      ]
    },
    {
      "cell_type": "code",
      "metadata": {
        "id": "tlqKW3Pqjosz",
        "outputId": "b8dc11ac-0506-4923-aa2c-af4c506b6292",
        "colab": {
          "base_uri": "https://localhost:8080/"
        }
      },
      "source": [
        "\n",
        "test_df['product_title_tokens'] = test_df['product_title'].progress_apply(tokenize)\n"
      ],
      "execution_count": 196,
      "outputs": [
        {
          "output_type": "stream",
          "text": [
            "\n",
            "  0%|          | 0/166693 [00:00<?, ?it/s]\u001b[A\n",
            "  0%|          | 204/166693 [00:00<01:22, 2028.82it/s]\u001b[A\n",
            "  0%|          | 393/166693 [00:00<01:23, 1983.15it/s]\u001b[A\n",
            "  0%|          | 594/166693 [00:00<01:23, 1991.13it/s]\u001b[A\n",
            "  0%|          | 786/166693 [00:00<01:24, 1965.85it/s]\u001b[A\n",
            "  1%|          | 969/166693 [00:00<01:26, 1921.88it/s]\u001b[A\n",
            "  1%|          | 1157/166693 [00:00<01:26, 1907.95it/s]\u001b[A\n",
            "  1%|          | 1344/166693 [00:00<01:27, 1895.78it/s]\u001b[A\n",
            "  1%|          | 1541/166693 [00:00<01:26, 1916.40it/s]\u001b[A\n",
            "  1%|          | 1731/166693 [00:00<01:26, 1910.16it/s]\u001b[A\n",
            "  1%|          | 1914/166693 [00:01<01:28, 1866.64it/s]\u001b[A\n",
            "  1%|▏         | 2100/166693 [00:01<01:28, 1864.38it/s]\u001b[A\n",
            "  1%|▏         | 2291/166693 [00:01<01:27, 1877.25it/s]\u001b[A\n",
            "  2%|▏         | 2503/166693 [00:01<01:24, 1941.60it/s]\u001b[A\n",
            "  2%|▏         | 2703/166693 [00:01<01:23, 1958.05it/s]\u001b[A\n",
            "  2%|▏         | 2898/166693 [00:01<01:25, 1922.14it/s]\u001b[A\n",
            "  2%|▏         | 3104/166693 [00:01<01:23, 1958.80it/s]\u001b[A\n",
            "  2%|▏         | 3301/166693 [00:01<01:23, 1961.08it/s]\u001b[A\n",
            "  2%|▏         | 3498/166693 [00:01<01:26, 1886.02it/s]\u001b[A\n",
            "  2%|▏         | 3688/166693 [00:01<01:28, 1842.81it/s]\u001b[A\n",
            "  2%|▏         | 3884/166693 [00:02<01:26, 1875.86it/s]\u001b[A\n",
            "  2%|▏         | 4078/166693 [00:02<01:25, 1893.17it/s]\u001b[A\n",
            "  3%|▎         | 4268/166693 [00:02<01:26, 1884.76it/s]\u001b[A\n",
            "  3%|▎         | 4457/166693 [00:02<01:26, 1868.25it/s]\u001b[A\n",
            "  3%|▎         | 4645/166693 [00:02<01:27, 1859.87it/s]\u001b[A\n",
            "  3%|▎         | 4836/166693 [00:02<01:26, 1873.65it/s]\u001b[A\n",
            "  3%|▎         | 5026/166693 [00:02<01:25, 1881.30it/s]\u001b[A\n",
            "  3%|▎         | 5215/166693 [00:02<01:26, 1860.96it/s]\u001b[A\n",
            "  3%|▎         | 5402/166693 [00:02<01:26, 1855.90it/s]\u001b[A\n",
            "  3%|▎         | 5605/166693 [00:02<01:24, 1903.46it/s]\u001b[A\n",
            "  3%|▎         | 5817/166693 [00:03<01:22, 1961.71it/s]\u001b[A\n",
            "  4%|▎         | 6014/166693 [00:03<01:25, 1874.54it/s]\u001b[A\n",
            "  4%|▎         | 6211/166693 [00:03<01:24, 1899.63it/s]\u001b[A\n",
            "  4%|▍         | 6402/166693 [00:03<01:25, 1873.29it/s]\u001b[A\n",
            "  4%|▍         | 6592/166693 [00:03<01:25, 1878.12it/s]\u001b[A\n",
            "  4%|▍         | 6792/166693 [00:03<01:23, 1910.97it/s]\u001b[A\n",
            "  4%|▍         | 7003/166693 [00:03<01:21, 1965.71it/s]\u001b[A\n",
            "  4%|▍         | 7201/166693 [00:03<01:23, 1920.42it/s]\u001b[A\n",
            "  4%|▍         | 7399/166693 [00:03<01:22, 1936.57it/s]\u001b[A\n",
            "  5%|▍         | 7600/166693 [00:03<01:21, 1955.35it/s]\u001b[A\n",
            "  5%|▍         | 7796/166693 [00:04<01:22, 1930.40it/s]\u001b[A\n",
            "  5%|▍         | 8019/166693 [00:04<01:18, 2010.39it/s]\u001b[A\n",
            "  5%|▍         | 8248/166693 [00:04<01:16, 2083.58it/s]\u001b[A\n",
            "  5%|▌         | 8458/166693 [00:04<01:19, 1994.40it/s]\u001b[A\n",
            "  5%|▌         | 8660/166693 [00:04<01:20, 1973.13it/s]\u001b[A\n",
            "  5%|▌         | 8860/166693 [00:04<01:19, 1979.76it/s]\u001b[A\n",
            "  5%|▌         | 9059/166693 [00:04<01:20, 1956.27it/s]\u001b[AException ignored in: <function _MultiProcessingDataLoaderIter.__del__ at 0x7f12ce48dd40>\n",
            "Traceback (most recent call last):\n",
            "  File \"/usr/local/lib/python3.7/dist-packages/torch/utils/data/dataloader.py\", line 1328, in __del__\n",
            "    self._shutdown_workers()\n",
            "  File \"/usr/local/lib/python3.7/dist-packages/torch/utils/data/dataloader.py\", line 1295, in _shutdown_workers\n",
            "    if self._persistent_workers or self._workers_status[worker_id]:\n",
            "AttributeError: '_MultiProcessingDataLoaderIter' object has no attribute '_workers_status'\n",
            "\n",
            "  6%|▌         | 9256/166693 [00:05<02:30, 1048.30it/s]\u001b[A\n",
            "  6%|▌         | 9438/166693 [00:05<02:10, 1200.70it/s]\u001b[A\n",
            "  6%|▌         | 9654/166693 [00:05<01:53, 1384.50it/s]\u001b[A\n",
            "  6%|▌         | 9832/166693 [00:05<01:45, 1482.39it/s]\u001b[A\n",
            "  6%|▌         | 10023/166693 [00:05<01:38, 1587.88it/s]\u001b[A\n",
            "  6%|▌         | 10220/166693 [00:05<01:32, 1685.11it/s]\u001b[A\n",
            "  6%|▋         | 10421/166693 [00:05<01:28, 1769.62it/s]\u001b[A\n",
            "  6%|▋         | 10616/166693 [00:05<01:25, 1818.63it/s]\u001b[A\n",
            "  6%|▋         | 10823/166693 [00:05<01:22, 1885.07it/s]\u001b[A\n",
            "  7%|▋         | 11019/166693 [00:06<01:25, 1824.65it/s]\u001b[A\n",
            "  7%|▋         | 11208/166693 [00:06<01:25, 1828.39it/s]\u001b[A\n",
            "  7%|▋         | 11405/166693 [00:06<01:23, 1866.73it/s]\u001b[A\n",
            "  7%|▋         | 11616/166693 [00:06<01:20, 1933.55it/s]\u001b[A\n",
            "  7%|▋         | 11813/166693 [00:06<01:22, 1875.15it/s]\u001b[A\n",
            "  7%|▋         | 12003/166693 [00:06<01:22, 1882.25it/s]\u001b[A\n",
            "  7%|▋         | 12195/166693 [00:06<01:21, 1893.13it/s]\u001b[A\n",
            "  7%|▋         | 12415/166693 [00:06<01:18, 1974.21it/s]\u001b[A\n",
            "  8%|▊         | 12615/166693 [00:06<01:20, 1905.12it/s]\u001b[A\n",
            "  8%|▊         | 12833/166693 [00:06<01:17, 1977.97it/s]\u001b[A\n",
            "  8%|▊         | 13040/166693 [00:07<01:16, 2003.57it/s]\u001b[A\n",
            "  8%|▊         | 13242/166693 [00:07<01:17, 1974.19it/s]\u001b[A\n",
            "  8%|▊         | 13441/166693 [00:07<01:18, 1963.67it/s]\u001b[A\n",
            "  8%|▊         | 13639/166693 [00:07<01:17, 1965.94it/s]\u001b[A\n",
            "  8%|▊         | 13839/166693 [00:07<01:17, 1976.02it/s]\u001b[A\n",
            "  8%|▊         | 14037/166693 [00:07<01:17, 1969.04it/s]\u001b[A\n",
            "  9%|▊         | 14235/166693 [00:07<01:18, 1939.12it/s]\u001b[A\n",
            "  9%|▊         | 14430/166693 [00:07<01:20, 1901.66it/s]\u001b[A\n",
            "  9%|▉         | 14621/166693 [00:07<01:22, 1848.63it/s]\u001b[A\n",
            "  9%|▉         | 14822/166693 [00:07<01:20, 1893.71it/s]\u001b[A\n",
            "  9%|▉         | 15018/166693 [00:08<01:19, 1911.18it/s]\u001b[A\n",
            "  9%|▉         | 15210/166693 [00:08<01:19, 1907.21it/s]\u001b[A\n",
            "  9%|▉         | 15423/166693 [00:08<01:16, 1968.96it/s]\u001b[A\n",
            "  9%|▉         | 15621/166693 [00:08<01:18, 1922.13it/s]\u001b[A\n",
            "  9%|▉         | 15814/166693 [00:08<01:22, 1839.53it/s]\u001b[A\n",
            " 10%|▉         | 16005/166693 [00:08<01:21, 1858.88it/s]\u001b[A\n",
            " 10%|▉         | 16209/166693 [00:08<01:18, 1907.06it/s]\u001b[A\n",
            " 10%|▉         | 16401/166693 [00:08<01:21, 1843.60it/s]\u001b[A\n",
            " 10%|▉         | 16592/166693 [00:08<01:20, 1861.84it/s]\u001b[A\n",
            " 10%|█         | 16780/166693 [00:09<01:20, 1856.10it/s]\u001b[A\n",
            " 10%|█         | 16967/166693 [00:09<01:21, 1843.87it/s]\u001b[A\n",
            " 10%|█         | 17158/166693 [00:09<01:20, 1861.73it/s]\u001b[A\n",
            " 10%|█         | 17349/166693 [00:09<01:19, 1875.52it/s]\u001b[A\n",
            " 11%|█         | 17544/166693 [00:09<01:18, 1896.27it/s]\u001b[A\n",
            " 11%|█         | 17734/166693 [00:09<01:21, 1834.95it/s]\u001b[A\n",
            " 11%|█         | 17930/166693 [00:09<01:19, 1869.38it/s]\u001b[A\n",
            " 11%|█         | 18134/166693 [00:09<01:17, 1916.27it/s]\u001b[A\n",
            " 11%|█         | 18327/166693 [00:09<01:18, 1883.61it/s]\u001b[A\n",
            " 11%|█         | 18522/166693 [00:09<01:17, 1902.27it/s]\u001b[A\n",
            " 11%|█         | 18721/166693 [00:10<01:16, 1924.81it/s]\u001b[A\n",
            " 11%|█▏        | 18918/166693 [00:10<01:16, 1937.40it/s]\u001b[A\n",
            " 11%|█▏        | 19113/166693 [00:10<01:18, 1878.41it/s]\u001b[A\n",
            " 12%|█▏        | 19311/166693 [00:10<01:17, 1907.01it/s]\u001b[A\n",
            " 12%|█▏        | 19503/166693 [00:10<01:19, 1853.84it/s]\u001b[A\n",
            " 12%|█▏        | 19713/166693 [00:10<01:16, 1921.21it/s]\u001b[A\n",
            " 12%|█▏        | 19909/166693 [00:10<01:16, 1930.97it/s]\u001b[A\n",
            " 12%|█▏        | 20103/166693 [00:10<01:17, 1902.40it/s]\u001b[A\n",
            " 12%|█▏        | 20294/166693 [00:10<01:19, 1851.37it/s]\u001b[A\n",
            " 12%|█▏        | 20498/166693 [00:10<01:16, 1904.03it/s]\u001b[A\n",
            " 12%|█▏        | 20690/166693 [00:11<01:17, 1874.25it/s]\u001b[A\n",
            " 13%|█▎        | 20897/166693 [00:11<01:15, 1928.91it/s]\u001b[A\n",
            " 13%|█▎        | 21093/166693 [00:11<01:15, 1937.89it/s]\u001b[A\n",
            " 13%|█▎        | 21307/166693 [00:11<01:12, 1991.77it/s]\u001b[A\n",
            " 13%|█▎        | 21508/166693 [00:11<01:16, 1895.25it/s]\u001b[A\n",
            " 13%|█▎        | 21707/166693 [00:11<01:15, 1921.12it/s]\u001b[A\n",
            " 13%|█▎        | 21907/166693 [00:11<01:14, 1943.25it/s]\u001b[A\n",
            " 13%|█▎        | 22103/166693 [00:11<01:17, 1872.82it/s]\u001b[A\n",
            " 13%|█▎        | 22292/166693 [00:11<01:17, 1855.07it/s]\u001b[A\n",
            " 13%|█▎        | 22479/166693 [00:12<01:18, 1846.33it/s]\u001b[A\n",
            " 14%|█▎        | 22665/166693 [00:12<01:18, 1827.96it/s]\u001b[A\n",
            " 14%|█▎        | 22858/166693 [00:12<01:17, 1856.75it/s]\u001b[A\n",
            " 14%|█▍        | 23060/166693 [00:12<01:15, 1901.37it/s]\u001b[A\n",
            " 14%|█▍        | 23251/166693 [00:12<01:16, 1883.63it/s]\u001b[A\n",
            " 14%|█▍        | 23453/166693 [00:12<01:14, 1922.42it/s]\u001b[A\n",
            " 14%|█▍        | 23646/166693 [00:12<01:14, 1922.67it/s]\u001b[A\n",
            " 14%|█▍        | 23839/166693 [00:12<01:14, 1913.95it/s]\u001b[A\n",
            " 14%|█▍        | 24031/166693 [00:12<01:14, 1904.84it/s]\u001b[A\n",
            " 15%|█▍        | 24222/166693 [00:12<01:17, 1848.78it/s]\u001b[A\n",
            " 15%|█▍        | 24408/166693 [00:13<01:17, 1842.39it/s]\u001b[A\n",
            " 15%|█▍        | 24603/166693 [00:13<01:15, 1873.27it/s]\u001b[A\n",
            " 15%|█▍        | 24803/166693 [00:13<01:14, 1907.87it/s]\u001b[A\n",
            " 15%|█▍        | 24996/166693 [00:13<01:14, 1914.40it/s]\u001b[A\n",
            " 15%|█▌        | 25188/166693 [00:13<01:16, 1853.83it/s]\u001b[A\n",
            " 15%|█▌        | 25375/166693 [00:13<01:18, 1809.92it/s]\u001b[A\n",
            " 15%|█▌        | 25560/166693 [00:13<01:17, 1818.58it/s]\u001b[A\n",
            " 15%|█▌        | 25743/166693 [00:13<01:20, 1760.23it/s]\u001b[A\n",
            " 16%|█▌        | 25936/166693 [00:13<01:17, 1806.74it/s]\u001b[A\n",
            " 16%|█▌        | 26141/166693 [00:13<01:15, 1871.19it/s]\u001b[A\n",
            " 16%|█▌        | 26330/166693 [00:14<01:16, 1824.14it/s]\u001b[A\n",
            " 16%|█▌        | 26514/166693 [00:14<01:17, 1814.90it/s]\u001b[A\n",
            " 16%|█▌        | 26714/166693 [00:14<01:15, 1865.25it/s]\u001b[A\n",
            " 16%|█▌        | 26934/166693 [00:14<01:11, 1952.51it/s]\u001b[A\n",
            " 16%|█▋        | 27143/166693 [00:14<01:10, 1991.65it/s]\u001b[A\n",
            " 16%|█▋        | 27361/166693 [00:14<01:08, 2043.96it/s]\u001b[A\n",
            " 17%|█▋        | 27581/166693 [00:14<01:06, 2086.57it/s]\u001b[A\n",
            " 17%|█▋        | 27791/166693 [00:14<01:08, 2019.00it/s]\u001b[A\n",
            " 17%|█▋        | 27995/166693 [00:14<01:10, 1957.93it/s]\u001b[A\n",
            " 17%|█▋        | 28202/166693 [00:15<01:09, 1986.60it/s]\u001b[A\n",
            " 17%|█▋        | 28420/166693 [00:15<01:07, 2039.39it/s]\u001b[A\n",
            " 17%|█▋        | 28628/166693 [00:15<01:07, 2049.97it/s]\u001b[A\n",
            " 17%|█▋        | 28834/166693 [00:15<01:07, 2047.25it/s]\u001b[A\n",
            " 17%|█▋        | 29044/166693 [00:15<01:06, 2061.91it/s]\u001b[A\n",
            " 18%|█▊        | 29263/166693 [00:15<01:05, 2098.64it/s]\u001b[A\n",
            " 18%|█▊        | 29475/166693 [00:15<01:05, 2102.87it/s]\u001b[A\n",
            " 18%|█▊        | 29686/166693 [00:15<01:06, 2047.73it/s]\u001b[A\n",
            " 18%|█▊        | 29892/166693 [00:15<01:06, 2049.17it/s]\u001b[A\n",
            " 18%|█▊        | 30098/166693 [00:15<01:07, 2031.78it/s]\u001b[A\n",
            " 18%|█▊        | 30313/166693 [00:16<01:06, 2063.11it/s]\u001b[A\n",
            " 18%|█▊        | 30520/166693 [00:16<01:07, 2008.21it/s]\u001b[A\n",
            " 18%|█▊        | 30729/166693 [00:16<01:06, 2031.30it/s]\u001b[A\n",
            " 19%|█▊        | 30933/166693 [00:16<01:06, 2031.66it/s]\u001b[A\n",
            " 19%|█▊        | 31137/166693 [00:16<01:07, 2015.63it/s]\u001b[A\n",
            " 19%|█▉        | 31357/166693 [00:16<01:05, 2066.81it/s]\u001b[A\n",
            " 19%|█▉        | 31565/166693 [00:16<01:06, 2038.12it/s]\u001b[A\n",
            " 19%|█▉        | 31786/166693 [00:16<01:04, 2086.34it/s]\u001b[A\n",
            " 19%|█▉        | 31996/166693 [00:16<01:04, 2072.32it/s]\u001b[A\n",
            " 19%|█▉        | 32204/166693 [00:16<01:05, 2068.08it/s]\u001b[A\n",
            " 19%|█▉        | 32430/166693 [00:17<01:03, 2121.46it/s]\u001b[A\n",
            " 20%|█▉        | 32643/166693 [00:17<01:04, 2094.03it/s]\u001b[A\n",
            " 20%|█▉        | 32854/166693 [00:17<01:03, 2098.09it/s]\u001b[A\n",
            " 20%|█▉        | 33065/166693 [00:17<01:05, 2055.29it/s]\u001b[A\n",
            " 20%|█▉        | 33271/166693 [00:17<01:06, 1999.40it/s]\u001b[A\n",
            " 20%|██        | 33472/166693 [00:17<01:08, 1944.13it/s]\u001b[A\n",
            " 20%|██        | 33668/166693 [00:17<01:09, 1901.01it/s]\u001b[A\n",
            " 20%|██        | 33880/166693 [00:17<01:07, 1961.63it/s]\u001b[A\n",
            " 20%|██        | 34079/166693 [00:17<01:07, 1969.07it/s]\u001b[A\n",
            " 21%|██        | 34277/166693 [00:18<01:07, 1972.09it/s]\u001b[A\n",
            " 21%|██        | 34497/166693 [00:18<01:04, 2035.11it/s]\u001b[A\n",
            " 21%|██        | 34716/166693 [00:18<01:03, 2077.25it/s]\u001b[A\n",
            " 21%|██        | 34934/166693 [00:18<01:02, 2105.41it/s]\u001b[A\n",
            " 21%|██        | 35146/166693 [00:18<01:02, 2097.14it/s]\u001b[A\n",
            " 21%|██        | 35357/166693 [00:18<01:03, 2058.11it/s]\u001b[A\n",
            " 21%|██▏       | 35564/166693 [00:18<01:04, 2023.23it/s]\u001b[A\n",
            " 21%|██▏       | 35772/166693 [00:18<01:04, 2039.35it/s]\u001b[A\n",
            " 22%|██▏       | 35986/166693 [00:18<01:03, 2066.98it/s]\u001b[A\n",
            " 22%|██▏       | 36194/166693 [00:18<01:03, 2055.13it/s]\u001b[A\n",
            " 22%|██▏       | 36400/166693 [00:19<01:04, 2033.23it/s]\u001b[A\n",
            " 22%|██▏       | 36604/166693 [00:19<01:04, 2009.04it/s]\u001b[A\n",
            " 22%|██▏       | 36811/166693 [00:19<01:04, 2025.49it/s]\u001b[A\n",
            " 22%|██▏       | 37026/166693 [00:19<01:02, 2059.56it/s]\u001b[A\n",
            " 22%|██▏       | 37233/166693 [00:19<01:03, 2024.64it/s]\u001b[A\n",
            " 22%|██▏       | 37443/166693 [00:19<01:03, 2046.26it/s]\u001b[A\n",
            " 23%|██▎       | 37654/166693 [00:19<01:02, 2061.25it/s]\u001b[A\n",
            " 23%|██▎       | 37861/166693 [00:19<01:04, 2009.49it/s]\u001b[A\n",
            " 23%|██▎       | 38063/166693 [00:19<01:05, 1976.91it/s]\u001b[A\n",
            " 23%|██▎       | 38273/166693 [00:19<01:03, 2010.07it/s]\u001b[A\n",
            " 23%|██▎       | 38491/166693 [00:20<01:02, 2057.83it/s]\u001b[A\n",
            " 23%|██▎       | 38713/166693 [00:20<01:00, 2101.32it/s]\u001b[A\n",
            " 23%|██▎       | 38924/166693 [00:20<01:01, 2080.74it/s]\u001b[A\n",
            " 23%|██▎       | 39138/166693 [00:20<01:00, 2095.73it/s]\u001b[A\n",
            " 24%|██▎       | 39355/166693 [00:20<01:00, 2114.41it/s]\u001b[A\n",
            " 24%|██▎       | 39567/166693 [00:20<01:00, 2107.13it/s]\u001b[A\n",
            " 24%|██▍       | 39778/166693 [00:20<01:00, 2095.11it/s]\u001b[A\n",
            " 24%|██▍       | 39988/166693 [00:20<01:00, 2089.73it/s]\u001b[A\n",
            " 24%|██▍       | 40205/166693 [00:20<00:59, 2111.37it/s]\u001b[A\n",
            " 24%|██▍       | 40432/166693 [00:20<00:58, 2153.92it/s]\u001b[A\n",
            " 24%|██▍       | 40648/166693 [00:21<00:59, 2113.73it/s]\u001b[A\n",
            " 25%|██▍       | 40860/166693 [00:21<00:59, 2105.30it/s]\u001b[A\n",
            " 25%|██▍       | 41071/166693 [00:21<00:59, 2096.94it/s]\u001b[A\n",
            " 25%|██▍       | 41285/166693 [00:21<00:59, 2107.91it/s]\u001b[A\n",
            " 25%|██▍       | 41496/166693 [00:21<01:00, 2076.23it/s]\u001b[A\n",
            " 25%|██▌       | 41704/166693 [00:21<01:00, 2050.89it/s]\u001b[A\n",
            " 25%|██▌       | 41925/166693 [00:21<00:59, 2094.11it/s]\u001b[A\n",
            " 25%|██▌       | 42138/166693 [00:21<00:59, 2104.19it/s]\u001b[A\n",
            " 25%|██▌       | 42359/166693 [00:21<00:58, 2134.21it/s]\u001b[A\n",
            " 26%|██▌       | 42573/166693 [00:21<00:59, 2102.88it/s]\u001b[A\n",
            " 26%|██▌       | 42796/166693 [00:22<00:58, 2135.41it/s]\u001b[A\n",
            " 26%|██▌       | 43010/166693 [00:22<00:59, 2078.51it/s]\u001b[A\n",
            " 26%|██▌       | 43221/166693 [00:22<00:59, 2085.75it/s]\u001b[A\n",
            " 26%|██▌       | 43446/166693 [00:22<00:57, 2131.42it/s]\u001b[A\n",
            " 26%|██▌       | 43660/166693 [00:22<01:00, 2017.80it/s]\u001b[A\n",
            " 26%|██▋       | 43864/166693 [00:22<01:02, 1971.09it/s]\u001b[A\n",
            " 26%|██▋       | 44080/166693 [00:22<01:00, 2023.61it/s]\u001b[A\n",
            " 27%|██▋       | 44294/166693 [00:22<00:59, 2056.44it/s]\u001b[A\n",
            " 27%|██▋       | 44501/166693 [00:22<00:59, 2060.20it/s]\u001b[A\n",
            " 27%|██▋       | 44708/166693 [00:23<01:00, 2001.89it/s]\u001b[A\n",
            " 27%|██▋       | 44926/166693 [00:23<00:59, 2052.03it/s]\u001b[A\n",
            " 27%|██▋       | 45143/166693 [00:23<00:58, 2083.76it/s]\u001b[A\n",
            " 27%|██▋       | 45353/166693 [00:23<00:58, 2064.99it/s]\u001b[A\n",
            " 27%|██▋       | 45573/166693 [00:23<00:57, 2102.55it/s]\u001b[A\n",
            " 27%|██▋       | 45788/166693 [00:23<00:57, 2113.84it/s]\u001b[A\n",
            " 28%|██▊       | 46000/166693 [00:23<00:57, 2107.92it/s]\u001b[A\n",
            " 28%|██▊       | 46213/166693 [00:23<00:57, 2111.95it/s]\u001b[A\n",
            " 28%|██▊       | 46439/166693 [00:23<00:55, 2152.58it/s]\u001b[A\n",
            " 28%|██▊       | 46655/166693 [00:23<00:55, 2151.81it/s]\u001b[A\n",
            " 28%|██▊       | 46871/166693 [00:24<00:56, 2129.69it/s]\u001b[A\n",
            " 28%|██▊       | 47085/166693 [00:24<00:56, 2126.59it/s]\u001b[A\n",
            " 28%|██▊       | 47298/166693 [00:24<00:58, 2047.01it/s]\u001b[A\n",
            " 29%|██▊       | 47523/166693 [00:24<00:56, 2103.79it/s]\u001b[A\n",
            " 29%|██▊       | 47735/166693 [00:24<00:56, 2088.38it/s]\u001b[A\n",
            " 29%|██▉       | 47945/166693 [00:24<00:57, 2047.45it/s]\u001b[A\n",
            " 29%|██▉       | 48155/166693 [00:24<00:57, 2061.01it/s]\u001b[A\n",
            " 29%|██▉       | 48379/166693 [00:24<00:56, 2110.34it/s]\u001b[A\n",
            " 29%|██▉       | 48598/166693 [00:24<00:55, 2131.14it/s]\u001b[A\n",
            " 29%|██▉       | 48812/166693 [00:24<00:55, 2116.20it/s]\u001b[A\n",
            " 29%|██▉       | 49024/166693 [00:25<00:57, 2035.22it/s]\u001b[A\n",
            " 30%|██▉       | 49236/166693 [00:25<00:57, 2058.90it/s]\u001b[A\n",
            " 30%|██▉       | 49455/166693 [00:25<00:55, 2095.63it/s]\u001b[A\n",
            " 30%|██▉       | 49666/166693 [00:25<00:56, 2057.33it/s]\u001b[A\n",
            " 30%|██▉       | 49873/166693 [00:25<00:57, 2039.70it/s]\u001b[A\n",
            " 30%|███       | 50078/166693 [00:25<00:58, 2000.91it/s]\u001b[A\n",
            " 30%|███       | 50279/166693 [00:25<00:58, 2001.65it/s]\u001b[A\n",
            " 30%|███       | 50480/166693 [00:25<00:58, 1999.79it/s]\u001b[A\n",
            " 30%|███       | 50683/166693 [00:25<00:57, 2007.66it/s]\u001b[A\n",
            " 31%|███       | 50894/166693 [00:26<00:56, 2035.78it/s]\u001b[A\n",
            " 31%|███       | 51098/166693 [00:26<00:56, 2033.77it/s]\u001b[A\n",
            " 31%|███       | 51306/166693 [00:26<00:56, 2045.25it/s]\u001b[A\n",
            " 31%|███       | 51529/166693 [00:26<00:54, 2096.27it/s]\u001b[A\n",
            " 31%|███       | 51745/166693 [00:26<00:54, 2112.00it/s]\u001b[A\n",
            " 31%|███       | 51957/166693 [00:26<00:54, 2096.16it/s]\u001b[A\n",
            " 31%|███▏      | 52167/166693 [00:26<00:55, 2069.48it/s]\u001b[A\n",
            " 31%|███▏      | 52387/166693 [00:26<00:54, 2104.76it/s]\u001b[A\n",
            " 32%|███▏      | 52598/166693 [00:26<00:55, 2056.01it/s]\u001b[A\n",
            " 32%|███▏      | 52810/166693 [00:26<00:54, 2074.28it/s]\u001b[A\n",
            " 32%|███▏      | 53019/166693 [00:27<00:54, 2076.37it/s]\u001b[A\n",
            " 32%|███▏      | 53234/166693 [00:27<00:54, 2097.30it/s]\u001b[A\n",
            " 32%|███▏      | 53454/166693 [00:27<00:53, 2125.98it/s]\u001b[A\n",
            " 32%|███▏      | 53667/166693 [00:27<00:53, 2102.32it/s]\u001b[A\n",
            " 32%|███▏      | 53888/166693 [00:27<00:52, 2131.33it/s]\u001b[A\n",
            " 32%|███▏      | 54102/166693 [00:27<00:53, 2110.84it/s]\u001b[A\n",
            " 33%|███▎      | 54326/166693 [00:27<00:52, 2147.80it/s]\u001b[A\n",
            " 33%|███▎      | 54542/166693 [00:27<00:52, 2122.50it/s]\u001b[A\n",
            " 33%|███▎      | 54755/166693 [00:27<00:53, 2100.62it/s]\u001b[A\n",
            " 33%|███▎      | 54968/166693 [00:27<00:53, 2106.47it/s]\u001b[A\n",
            " 33%|███▎      | 55179/166693 [00:28<00:53, 2083.39it/s]\u001b[A\n",
            " 33%|███▎      | 55388/166693 [00:28<00:54, 2046.93it/s]\u001b[A\n",
            " 33%|███▎      | 55615/166693 [00:28<00:52, 2107.94it/s]\u001b[A\n",
            " 33%|███▎      | 55834/166693 [00:28<00:52, 2131.81it/s]\u001b[A\n",
            " 34%|███▎      | 56048/166693 [00:28<00:53, 2069.34it/s]\u001b[A\n",
            " 34%|███▎      | 56256/166693 [00:28<00:56, 1946.40it/s]\u001b[A\n",
            " 34%|███▍      | 56453/166693 [00:28<00:58, 1895.02it/s]\u001b[A\n",
            " 34%|███▍      | 56645/166693 [00:28<00:58, 1880.90it/s]\u001b[A\n",
            " 34%|███▍      | 56835/166693 [00:28<00:58, 1882.65it/s]\u001b[A\n",
            " 34%|███▍      | 57040/166693 [00:29<00:56, 1927.40it/s]\u001b[A\n",
            " 34%|███▍      | 57234/166693 [00:29<00:56, 1928.96it/s]\u001b[A\n",
            " 34%|███▍      | 57428/166693 [00:29<00:57, 1910.19it/s]\u001b[A\n",
            " 35%|███▍      | 57658/166693 [00:29<00:54, 2012.01it/s]\u001b[A\n",
            " 35%|███▍      | 57861/166693 [00:29<00:54, 1982.48it/s]\u001b[A\n",
            " 35%|███▍      | 58076/166693 [00:29<00:53, 2029.06it/s]\u001b[A\n",
            " 35%|███▍      | 58287/166693 [00:29<00:52, 2050.05it/s]\u001b[A\n",
            " 35%|███▌      | 58499/166693 [00:29<00:52, 2068.95it/s]\u001b[A\n",
            " 35%|███▌      | 58707/166693 [00:29<00:52, 2053.72it/s]\u001b[A\n",
            " 35%|███▌      | 58913/166693 [00:29<00:52, 2049.53it/s]\u001b[A\n",
            " 35%|███▌      | 59119/166693 [00:30<00:53, 2023.96it/s]\u001b[A\n",
            " 36%|███▌      | 59322/166693 [00:30<00:53, 2022.46it/s]\u001b[A\n",
            " 36%|███▌      | 59538/166693 [00:30<00:52, 2059.41it/s]\u001b[A\n",
            " 36%|███▌      | 59745/166693 [00:30<00:52, 2056.35it/s]\u001b[A\n",
            " 36%|███▌      | 59970/166693 [00:30<00:50, 2108.89it/s]\u001b[A\n",
            " 36%|███▌      | 60182/166693 [00:30<00:51, 2086.92it/s]\u001b[A\n",
            " 36%|███▌      | 60392/166693 [00:30<00:50, 2085.06it/s]\u001b[A\n",
            " 36%|███▋      | 60611/166693 [00:30<00:50, 2115.12it/s]\u001b[A\n",
            " 36%|███▋      | 60823/166693 [00:30<00:50, 2110.12it/s]\u001b[A\n",
            " 37%|███▋      | 61039/166693 [00:30<00:49, 2123.76it/s]\u001b[A\n",
            " 37%|███▋      | 61252/166693 [00:31<00:49, 2120.07it/s]\u001b[A\n",
            " 37%|███▋      | 61465/166693 [00:31<00:51, 2030.68it/s]\u001b[A\n",
            " 37%|███▋      | 61669/166693 [00:31<00:52, 1999.58it/s]\u001b[A\n",
            " 37%|███▋      | 61870/166693 [00:31<00:52, 1983.63it/s]\u001b[A\n",
            " 37%|███▋      | 62087/166693 [00:31<00:51, 2035.11it/s]\u001b[A\n",
            " 37%|███▋      | 62295/166693 [00:31<00:51, 2046.45it/s]\u001b[A\n",
            " 37%|███▋      | 62502/166693 [00:31<00:50, 2052.99it/s]\u001b[A\n",
            " 38%|███▊      | 62711/166693 [00:31<00:50, 2060.45it/s]\u001b[A\n",
            " 38%|███▊      | 62935/166693 [00:31<00:49, 2108.24it/s]\u001b[A\n",
            " 38%|███▊      | 63147/166693 [00:31<00:49, 2106.97it/s]\u001b[A\n",
            " 38%|███▊      | 63359/166693 [00:32<00:49, 2071.89it/s]\u001b[A\n",
            " 38%|███▊      | 63567/166693 [00:32<00:51, 2002.73it/s]\u001b[A\n",
            " 38%|███▊      | 63790/166693 [00:32<00:49, 2064.22it/s]\u001b[A\n",
            " 38%|███▊      | 64021/166693 [00:32<00:48, 2131.43it/s]\u001b[A\n",
            " 39%|███▊      | 64242/166693 [00:32<00:47, 2152.05it/s]\u001b[A\n",
            " 39%|███▊      | 64459/166693 [00:32<00:48, 2122.31it/s]\u001b[A\n",
            " 39%|███▉      | 64672/166693 [00:32<00:48, 2112.06it/s]\u001b[A\n",
            " 39%|███▉      | 64890/166693 [00:32<00:47, 2129.29it/s]\u001b[A\n",
            " 39%|███▉      | 65104/166693 [00:32<00:48, 2110.06it/s]\u001b[A\n",
            " 39%|███▉      | 65316/166693 [00:32<00:48, 2076.11it/s]\u001b[A\n",
            " 39%|███▉      | 65524/166693 [00:33<00:49, 2061.33it/s]\u001b[A\n",
            " 39%|███▉      | 65731/166693 [00:33<00:50, 1985.27it/s]\u001b[A\n",
            " 40%|███▉      | 65937/166693 [00:33<00:50, 2005.22it/s]\u001b[A\n",
            " 40%|███▉      | 66157/166693 [00:33<00:48, 2057.12it/s]\u001b[A\n",
            " 40%|███▉      | 66378/166693 [00:33<00:47, 2098.95it/s]\u001b[A\n",
            " 40%|███▉      | 66589/166693 [00:33<00:48, 2078.07it/s]\u001b[A\n",
            " 40%|████      | 66811/166693 [00:33<00:47, 2115.91it/s]\u001b[A\n",
            " 40%|████      | 67024/166693 [00:33<00:47, 2105.11it/s]\u001b[A\n",
            " 40%|████      | 67235/166693 [00:33<00:48, 2041.99it/s]\u001b[A\n",
            " 40%|████      | 67456/166693 [00:34<00:47, 2089.54it/s]\u001b[A\n",
            " 41%|████      | 67682/166693 [00:34<00:46, 2136.42it/s]\u001b[A\n",
            " 41%|████      | 67897/166693 [00:34<00:48, 2029.75it/s]\u001b[A\n",
            " 41%|████      | 68127/166693 [00:34<00:46, 2102.40it/s]\u001b[A\n",
            " 41%|████      | 68340/166693 [00:34<00:46, 2105.32it/s]\u001b[A\n",
            " 41%|████      | 68555/166693 [00:34<00:46, 2117.63it/s]\u001b[A\n",
            " 41%|████▏     | 68768/166693 [00:34<00:47, 2081.84it/s]\u001b[A\n",
            " 41%|████▏     | 68977/166693 [00:34<00:48, 2031.41it/s]\u001b[A\n",
            " 42%|████▏     | 69181/166693 [00:34<00:48, 1998.86it/s]\u001b[A\n",
            " 42%|████▏     | 69385/166693 [00:34<00:48, 2009.00it/s]\u001b[A\n",
            " 42%|████▏     | 69592/166693 [00:35<00:47, 2025.15it/s]\u001b[A\n",
            " 42%|████▏     | 69795/166693 [00:35<00:48, 2011.41it/s]\u001b[A\n",
            " 42%|████▏     | 69997/166693 [00:35<00:48, 2013.03it/s]\u001b[A\n",
            " 42%|████▏     | 70199/166693 [00:35<00:47, 2014.68it/s]\u001b[A\n",
            " 42%|████▏     | 70405/166693 [00:35<00:47, 2024.35it/s]\u001b[A\n",
            " 42%|████▏     | 70629/166693 [00:35<00:46, 2082.01it/s]\u001b[A\n",
            " 42%|████▏     | 70843/166693 [00:35<00:45, 2098.73it/s]\u001b[A\n",
            " 43%|████▎     | 71054/166693 [00:35<00:46, 2072.05it/s]\u001b[A\n",
            " 43%|████▎     | 71262/166693 [00:35<00:47, 2028.25it/s]\u001b[A\n",
            " 43%|████▎     | 71483/166693 [00:35<00:45, 2079.30it/s]\u001b[A\n",
            " 43%|████▎     | 71700/166693 [00:36<00:45, 2104.10it/s]\u001b[A\n",
            " 43%|████▎     | 71911/166693 [00:36<00:45, 2071.68it/s]\u001b[A\n",
            " 43%|████▎     | 72141/166693 [00:36<00:44, 2134.70it/s]\u001b[A\n",
            " 43%|████▎     | 72362/166693 [00:36<00:43, 2155.68it/s]\u001b[A\n",
            " 44%|████▎     | 72579/166693 [00:36<00:45, 2054.87it/s]\u001b[A\n",
            " 44%|████▎     | 72791/166693 [00:36<00:45, 2072.65it/s]\u001b[A\n",
            " 44%|████▍     | 73000/166693 [00:36<00:45, 2063.76it/s]\u001b[A\n",
            " 44%|████▍     | 73208/166693 [00:36<00:45, 2055.03it/s]\u001b[A\n",
            " 44%|████▍     | 73431/166693 [00:36<00:44, 2101.77it/s]\u001b[A\n",
            " 44%|████▍     | 73642/166693 [00:37<00:44, 2069.65it/s]\u001b[A\n",
            " 44%|████▍     | 73859/166693 [00:37<00:44, 2096.66it/s]\u001b[A\n",
            " 44%|████▍     | 74070/166693 [00:37<00:44, 2069.42it/s]\u001b[A\n",
            " 45%|████▍     | 74292/166693 [00:37<00:43, 2112.25it/s]\u001b[A\n",
            " 45%|████▍     | 74504/166693 [00:37<00:44, 2059.31it/s]\u001b[A\n",
            " 45%|████▍     | 74711/166693 [00:37<00:44, 2061.08it/s]\u001b[A\n",
            " 45%|████▍     | 74918/166693 [00:37<00:45, 2023.93it/s]\u001b[A\n",
            " 45%|████▌     | 75145/166693 [00:37<00:43, 2089.26it/s]\u001b[A\n",
            " 45%|████▌     | 75355/166693 [00:37<00:43, 2078.29it/s]\u001b[A\n",
            " 45%|████▌     | 75576/166693 [00:37<00:43, 2115.18it/s]\u001b[A\n",
            " 45%|████▌     | 75806/166693 [00:38<00:41, 2165.04it/s]\u001b[A\n",
            " 46%|████▌     | 76024/166693 [00:38<00:43, 2061.18it/s]\u001b[A\n",
            " 46%|████▌     | 76236/166693 [00:38<00:43, 2077.08it/s]\u001b[A\n",
            " 46%|████▌     | 76453/166693 [00:38<00:42, 2102.20it/s]\u001b[A\n",
            " 46%|████▌     | 76673/166693 [00:38<00:42, 2128.79it/s]\u001b[A\n",
            " 46%|████▌     | 76887/166693 [00:38<00:42, 2099.80it/s]\u001b[A\n",
            " 46%|████▋     | 77098/166693 [00:38<00:43, 2078.48it/s]\u001b[A\n",
            " 46%|████▋     | 77325/166693 [00:38<00:41, 2131.57it/s]\u001b[A\n",
            " 47%|████▋     | 77539/166693 [00:38<00:42, 2100.85it/s]\u001b[A\n",
            " 47%|████▋     | 77750/166693 [00:38<00:42, 2083.25it/s]\u001b[A\n",
            " 47%|████▋     | 77960/166693 [00:39<00:42, 2087.83it/s]\u001b[A\n",
            " 47%|████▋     | 78170/166693 [00:39<00:43, 2047.50it/s]\u001b[A\n",
            " 47%|████▋     | 78377/166693 [00:39<00:43, 2051.67it/s]\u001b[A\n",
            " 47%|████▋     | 78597/166693 [00:39<00:42, 2093.93it/s]\u001b[A\n",
            " 47%|████▋     | 78807/166693 [00:39<00:42, 2091.25it/s]\u001b[A\n",
            " 47%|████▋     | 79017/166693 [00:39<00:42, 2061.39it/s]\u001b[A\n",
            " 48%|████▊     | 79226/166693 [00:39<00:42, 2069.52it/s]\u001b[A\n",
            " 48%|████▊     | 79434/166693 [00:39<00:42, 2055.23it/s]\u001b[A\n",
            " 48%|████▊     | 79640/166693 [00:39<00:42, 2035.95it/s]\u001b[A\n",
            " 48%|████▊     | 79863/166693 [00:40<00:41, 2087.45it/s]\u001b[A\n",
            " 48%|████▊     | 80073/166693 [00:40<00:41, 2071.57it/s]\u001b[A\n",
            " 48%|████▊     | 80281/166693 [00:40<00:42, 2017.69it/s]\u001b[A\n",
            " 48%|████▊     | 80495/166693 [00:40<00:41, 2052.85it/s]\u001b[A\n",
            " 48%|████▊     | 80709/166693 [00:40<00:41, 2078.01it/s]\u001b[A\n",
            " 49%|████▊     | 80928/166693 [00:40<00:40, 2109.46it/s]\u001b[A\n",
            " 49%|████▊     | 81140/166693 [00:40<00:40, 2100.69it/s]\u001b[A\n",
            " 49%|████▉     | 81353/166693 [00:40<00:40, 2106.93it/s]\u001b[A\n",
            " 49%|████▉     | 81565/166693 [00:40<00:40, 2110.40it/s]\u001b[A\n",
            " 49%|████▉     | 81777/166693 [00:40<00:41, 2057.22it/s]\u001b[A\n",
            " 49%|████▉     | 81992/166693 [00:41<00:40, 2084.08it/s]\u001b[A\n",
            " 49%|████▉     | 82201/166693 [00:41<00:41, 2031.16it/s]\u001b[A\n",
            " 49%|████▉     | 82405/166693 [00:41<00:42, 1964.90it/s]\u001b[A\n",
            " 50%|████▉     | 82616/166693 [00:41<00:41, 2004.37it/s]\u001b[A\n",
            " 50%|████▉     | 82825/166693 [00:41<00:41, 2025.23it/s]\u001b[A\n",
            " 50%|████▉     | 83035/166693 [00:41<00:40, 2045.17it/s]\u001b[A\n",
            " 50%|████▉     | 83240/166693 [00:41<00:42, 1986.51it/s]\u001b[A\n",
            " 50%|█████     | 83441/166693 [00:41<00:41, 1993.32it/s]\u001b[A\n",
            " 50%|█████     | 83661/166693 [00:41<00:40, 2049.77it/s]\u001b[A\n",
            " 50%|█████     | 83873/166693 [00:41<00:40, 2069.16it/s]\u001b[A\n",
            " 50%|█████     | 84081/166693 [00:42<00:40, 2033.36it/s]\u001b[A\n",
            " 51%|█████     | 84285/166693 [00:42<00:42, 1922.06it/s]\u001b[A\n",
            " 51%|█████     | 84479/166693 [00:42<00:43, 1889.11it/s]\u001b[A\n",
            " 51%|█████     | 84680/166693 [00:42<00:42, 1923.78it/s]\u001b[A\n",
            " 51%|█████     | 84880/166693 [00:42<00:42, 1943.09it/s]\u001b[A\n",
            " 51%|█████     | 85076/166693 [00:42<00:42, 1931.39it/s]\u001b[A\n",
            " 51%|█████     | 85277/166693 [00:42<00:41, 1951.54it/s]\u001b[A\n",
            " 51%|█████▏    | 85473/166693 [00:42<00:42, 1902.88it/s]\u001b[A\n",
            " 51%|█████▏    | 85664/166693 [00:42<00:42, 1886.52it/s]\u001b[A\n",
            " 52%|█████▏    | 85874/166693 [00:43<00:41, 1944.62it/s]\u001b[A\n",
            " 52%|█████▏    | 86082/166693 [00:43<00:40, 1981.73it/s]\u001b[A\n",
            " 52%|█████▏    | 86285/166693 [00:43<00:40, 1995.73it/s]\u001b[A\n",
            " 52%|█████▏    | 86486/166693 [00:43<00:40, 1975.64it/s]\u001b[A\n",
            " 52%|█████▏    | 86698/166693 [00:43<00:39, 2015.57it/s]\u001b[A\n",
            " 52%|█████▏    | 86901/166693 [00:43<00:40, 1971.28it/s]\u001b[A\n",
            " 52%|█████▏    | 87118/166693 [00:43<00:39, 2025.64it/s]\u001b[A\n",
            " 52%|█████▏    | 87337/166693 [00:43<00:38, 2070.70it/s]\u001b[A\n",
            " 53%|█████▎    | 87559/166693 [00:43<00:37, 2113.23it/s]\u001b[A\n",
            " 53%|█████▎    | 87784/166693 [00:43<00:36, 2150.53it/s]\u001b[A\n",
            " 53%|█████▎    | 88000/166693 [00:44<00:37, 2102.57it/s]\u001b[A\n",
            " 53%|█████▎    | 88216/166693 [00:44<00:37, 2117.82it/s]\u001b[A\n",
            " 53%|█████▎    | 88429/166693 [00:44<00:36, 2118.89it/s]\u001b[A\n",
            " 53%|█████▎    | 88642/166693 [00:44<00:37, 2069.24it/s]\u001b[A\n",
            " 53%|█████▎    | 88850/166693 [00:44<00:37, 2064.24it/s]\u001b[A\n",
            " 53%|█████▎    | 89057/166693 [00:44<00:37, 2054.39it/s]\u001b[A\n",
            " 54%|█████▎    | 89281/166693 [00:44<00:36, 2105.38it/s]\u001b[A\n",
            " 54%|█████▎    | 89493/166693 [00:44<00:36, 2088.47it/s]\u001b[A\n",
            " 54%|█████▍    | 89703/166693 [00:44<00:37, 2033.04it/s]\u001b[A\n",
            " 54%|█████▍    | 89907/166693 [00:44<00:38, 2019.15it/s]\u001b[A\n",
            " 54%|█████▍    | 90129/166693 [00:45<00:36, 2073.79it/s]\u001b[A\n",
            " 54%|█████▍    | 90338/166693 [00:45<00:37, 2062.21it/s]\u001b[A\n",
            " 54%|█████▍    | 90545/166693 [00:45<00:37, 2017.46it/s]\u001b[A\n",
            " 54%|█████▍    | 90748/166693 [00:45<00:39, 1929.09it/s]\u001b[A\n",
            " 55%|█████▍    | 90965/166693 [00:45<00:37, 1993.50it/s]\u001b[A\n",
            " 55%|█████▍    | 91178/166693 [00:45<00:37, 2030.06it/s]\u001b[A\n",
            " 55%|█████▍    | 91383/166693 [00:45<00:37, 2016.20it/s]\u001b[A\n",
            " 55%|█████▍    | 91586/166693 [00:45<00:37, 2012.85it/s]\u001b[A\n",
            " 55%|█████▌    | 91793/166693 [00:45<00:36, 2028.34it/s]\u001b[A\n",
            " 55%|█████▌    | 92015/166693 [00:45<00:35, 2080.13it/s]\u001b[A\n",
            " 55%|█████▌    | 92228/166693 [00:46<00:35, 2094.06it/s]\u001b[A\n",
            " 55%|█████▌    | 92438/166693 [00:46<00:35, 2064.24it/s]\u001b[A\n",
            " 56%|█████▌    | 92645/166693 [00:46<00:36, 2018.58it/s]\u001b[A\n",
            " 56%|█████▌    | 92866/166693 [00:46<00:35, 2070.67it/s]\u001b[A\n",
            " 56%|█████▌    | 93079/166693 [00:46<00:35, 2087.53it/s]\u001b[A\n",
            " 56%|█████▌    | 93289/166693 [00:46<00:35, 2065.61it/s]\u001b[A\n",
            " 56%|█████▌    | 93498/166693 [00:46<00:35, 2072.23it/s]\u001b[A\n",
            " 56%|█████▌    | 93710/166693 [00:46<00:35, 2085.04it/s]\u001b[A\n",
            " 56%|█████▋    | 93930/166693 [00:46<00:34, 2117.78it/s]\u001b[A\n",
            " 56%|█████▋    | 94143/166693 [00:47<00:34, 2081.20it/s]\u001b[A\n",
            " 57%|█████▋    | 94352/166693 [00:47<00:35, 2057.67it/s]\u001b[A\n",
            " 57%|█████▋    | 94571/166693 [00:47<00:34, 2092.68it/s]\u001b[A\n",
            " 57%|█████▋    | 94781/166693 [00:47<00:34, 2060.17it/s]\u001b[A\n",
            " 57%|█████▋    | 94988/166693 [00:47<00:35, 2048.56it/s]\u001b[A\n",
            " 57%|█████▋    | 95194/166693 [00:47<00:35, 2016.73it/s]\u001b[A\n",
            " 57%|█████▋    | 95406/166693 [00:47<00:34, 2046.07it/s]\u001b[A\n",
            " 57%|█████▋    | 95629/166693 [00:47<00:33, 2096.75it/s]\u001b[A\n",
            " 57%|█████▋    | 95840/166693 [00:47<00:34, 2051.59it/s]\u001b[A\n",
            " 58%|█████▊    | 96046/166693 [00:47<00:34, 2034.30it/s]\u001b[A\n",
            " 58%|█████▊    | 96260/166693 [00:48<00:34, 2064.44it/s]\u001b[A\n",
            " 58%|█████▊    | 96480/166693 [00:48<00:33, 2101.98it/s]\u001b[A\n",
            " 58%|█████▊    | 96699/166693 [00:48<00:32, 2127.35it/s]\u001b[A\n",
            " 58%|█████▊    | 96913/166693 [00:48<00:34, 2042.55it/s]\u001b[A\n",
            " 58%|█████▊    | 97135/166693 [00:48<00:33, 2092.39it/s]\u001b[A\n",
            " 58%|█████▊    | 97361/166693 [00:48<00:32, 2138.93it/s]\u001b[A\n",
            " 59%|█████▊    | 97588/166693 [00:48<00:31, 2175.03it/s]\u001b[A\n",
            " 59%|█████▊    | 97807/166693 [00:48<00:32, 2113.36it/s]\u001b[A\n",
            " 59%|█████▉    | 98020/166693 [00:48<00:33, 2075.98it/s]\u001b[A\n",
            " 59%|█████▉    | 98232/166693 [00:48<00:32, 2086.58it/s]\u001b[A\n",
            " 59%|█████▉    | 98449/166693 [00:49<00:32, 2108.99it/s]\u001b[A\n",
            " 59%|█████▉    | 98661/166693 [00:49<00:32, 2083.93it/s]\u001b[A\n",
            " 59%|█████▉    | 98875/166693 [00:49<00:32, 2099.58it/s]\u001b[A\n",
            " 59%|█████▉    | 99086/166693 [00:49<00:32, 2081.57it/s]\u001b[A\n",
            " 60%|█████▉    | 99303/166693 [00:49<00:32, 2104.94it/s]\u001b[A\n",
            " 60%|█████▉    | 99514/166693 [00:49<00:33, 2025.86it/s]\u001b[A\n",
            " 60%|█████▉    | 99718/166693 [00:49<00:33, 1985.91it/s]\u001b[A\n",
            " 60%|█████▉    | 99918/166693 [00:49<00:34, 1936.16it/s]\u001b[A\n",
            " 60%|██████    | 100130/166693 [00:49<00:33, 1987.21it/s]\u001b[A\n",
            " 60%|██████    | 100330/166693 [00:50<00:33, 1973.16it/s]\u001b[A\n",
            " 60%|██████    | 100541/166693 [00:50<00:32, 2012.05it/s]\u001b[A\n",
            " 60%|██████    | 100753/166693 [00:50<00:32, 2042.80it/s]\u001b[A\n",
            " 61%|██████    | 100964/166693 [00:50<00:31, 2061.91it/s]\u001b[A\n",
            " 61%|██████    | 101171/166693 [00:50<00:32, 1996.86it/s]\u001b[A\n",
            " 61%|██████    | 101386/166693 [00:50<00:32, 2038.39it/s]\u001b[A\n",
            " 61%|██████    | 101601/166693 [00:50<00:31, 2067.57it/s]\u001b[A\n",
            " 61%|██████    | 101809/166693 [00:50<00:31, 2063.85it/s]\u001b[A\n",
            " 61%|██████    | 102016/166693 [00:50<00:32, 2018.65it/s]\u001b[A\n",
            " 61%|██████▏   | 102226/166693 [00:50<00:31, 2041.73it/s]\u001b[A\n",
            " 61%|██████▏   | 102439/166693 [00:51<00:31, 2065.05it/s]\u001b[A\n",
            " 62%|██████▏   | 102646/166693 [00:51<00:31, 2038.35it/s]\u001b[A\n",
            " 62%|██████▏   | 102851/166693 [00:51<00:31, 2026.17it/s]\u001b[A\n",
            " 62%|██████▏   | 103056/166693 [00:51<00:31, 2032.66it/s]\u001b[A\n",
            " 62%|██████▏   | 103260/166693 [00:51<00:31, 2001.91it/s]\u001b[A\n",
            " 62%|██████▏   | 103469/166693 [00:51<00:31, 2026.86it/s]\u001b[A\n",
            " 62%|██████▏   | 103672/166693 [00:51<00:31, 2010.28it/s]\u001b[A\n",
            " 62%|██████▏   | 103885/166693 [00:51<00:30, 2044.71it/s]\u001b[A\n",
            " 62%|██████▏   | 104092/166693 [00:51<00:30, 2050.81it/s]\u001b[A\n",
            " 63%|██████▎   | 104298/166693 [00:51<00:30, 2019.71it/s]\u001b[A\n",
            " 63%|██████▎   | 104501/166693 [00:52<00:31, 2006.14it/s]\u001b[A\n",
            " 63%|██████▎   | 104702/166693 [00:52<00:30, 2000.91it/s]\u001b[A\n",
            " 63%|██████▎   | 104904/166693 [00:52<00:30, 2004.84it/s]\u001b[A\n",
            " 63%|██████▎   | 105125/166693 [00:52<00:29, 2061.61it/s]\u001b[A\n",
            " 63%|██████▎   | 105332/166693 [00:52<00:29, 2049.46it/s]\u001b[A\n",
            " 63%|██████▎   | 105538/166693 [00:52<00:29, 2041.02it/s]\u001b[A\n",
            " 63%|██████▎   | 105743/166693 [00:52<00:29, 2039.48it/s]\u001b[A\n",
            " 64%|██████▎   | 105948/166693 [00:52<00:29, 2038.58it/s]\u001b[A\n",
            " 64%|██████▎   | 106152/166693 [00:52<00:30, 2013.48it/s]\u001b[A\n",
            " 64%|██████▍   | 106359/166693 [00:52<00:29, 2029.24it/s]\u001b[A\n",
            " 64%|██████▍   | 106581/166693 [00:53<00:28, 2081.17it/s]\u001b[A\n",
            " 64%|██████▍   | 106794/166693 [00:53<00:28, 2093.19it/s]\u001b[A\n",
            " 64%|██████▍   | 107004/166693 [00:53<00:28, 2085.37it/s]\u001b[A\n",
            " 64%|██████▍   | 107226/166693 [00:53<00:28, 2123.59it/s]\u001b[A\n",
            " 64%|██████▍   | 107439/166693 [00:53<00:28, 2089.63it/s]\u001b[A\n",
            " 65%|██████▍   | 107649/166693 [00:53<00:28, 2085.09it/s]\u001b[A\n",
            " 65%|██████▍   | 107858/166693 [00:53<00:28, 2079.14it/s]\u001b[A\n",
            " 65%|██████▍   | 108067/166693 [00:53<00:28, 2076.31it/s]\u001b[A\n",
            " 65%|██████▍   | 108275/166693 [00:53<00:28, 2018.65it/s]\u001b[A\n",
            " 65%|██████▌   | 108503/166693 [00:54<00:27, 2089.81it/s]\u001b[A\n",
            " 65%|██████▌   | 108723/166693 [00:54<00:27, 2119.57it/s]\u001b[A\n",
            " 65%|██████▌   | 108943/166693 [00:54<00:26, 2142.86it/s]\u001b[A\n",
            " 65%|██████▌   | 109159/166693 [00:54<00:26, 2146.71it/s]\u001b[A\n",
            " 66%|██████▌   | 109375/166693 [00:54<00:27, 2113.17it/s]\u001b[A\n",
            " 66%|██████▌   | 109587/166693 [00:54<00:27, 2061.94it/s]\u001b[A\n",
            " 66%|██████▌   | 109794/166693 [00:54<00:28, 2025.49it/s]\u001b[A\n",
            " 66%|██████▌   | 109998/166693 [00:54<00:28, 2013.24it/s]\u001b[A\n",
            " 66%|██████▌   | 110200/166693 [00:54<00:28, 1982.13it/s]\u001b[A\n",
            " 66%|██████▌   | 110399/166693 [00:54<00:28, 1952.68it/s]\u001b[A\n",
            " 66%|██████▋   | 110595/166693 [00:55<00:28, 1944.00it/s]\u001b[A\n",
            " 66%|██████▋   | 110809/166693 [00:55<00:27, 1997.81it/s]\u001b[A\n",
            " 67%|██████▋   | 111010/166693 [00:55<00:28, 1985.49it/s]\u001b[A\n",
            " 67%|██████▋   | 111209/166693 [00:55<00:28, 1962.66it/s]\u001b[A\n",
            " 67%|██████▋   | 111406/166693 [00:55<00:28, 1947.00it/s]\u001b[A\n",
            " 67%|██████▋   | 111604/166693 [00:55<00:28, 1955.18it/s]\u001b[A\n",
            " 67%|██████▋   | 111800/166693 [00:55<00:29, 1859.15it/s]\u001b[A\n",
            " 67%|██████▋   | 111988/166693 [00:55<00:30, 1784.46it/s]\u001b[A\n",
            " 67%|██████▋   | 112168/166693 [00:55<00:31, 1751.06it/s]\u001b[A\n",
            " 67%|██████▋   | 112345/166693 [00:55<00:31, 1741.27it/s]\u001b[A\n",
            " 68%|██████▊   | 112520/166693 [00:56<00:31, 1738.76it/s]\u001b[A\n",
            " 68%|██████▊   | 112695/166693 [00:56<00:31, 1724.83it/s]\u001b[A\n",
            " 68%|██████▊   | 112882/166693 [00:56<00:30, 1765.27it/s]\u001b[A\n",
            " 68%|██████▊   | 113080/166693 [00:56<00:29, 1823.92it/s]\u001b[A\n",
            " 68%|██████▊   | 113264/166693 [00:56<00:30, 1770.78it/s]\u001b[A\n",
            " 68%|██████▊   | 113443/166693 [00:56<00:30, 1761.15it/s]\u001b[A\n",
            " 68%|██████▊   | 113627/166693 [00:56<00:29, 1783.95it/s]\u001b[A\n",
            " 68%|██████▊   | 113806/166693 [00:56<00:30, 1744.81it/s]\u001b[A\n",
            " 68%|██████▊   | 113986/166693 [00:56<00:29, 1760.15it/s]\u001b[A\n",
            " 68%|██████▊   | 114173/166693 [00:57<00:29, 1789.41it/s]\u001b[A\n",
            " 69%|██████▊   | 114353/166693 [00:57<00:29, 1784.55it/s]\u001b[A\n",
            " 69%|██████▊   | 114537/166693 [00:57<00:28, 1798.81it/s]\u001b[A\n",
            " 69%|██████▉   | 114718/166693 [00:57<00:29, 1791.03it/s]\u001b[A\n",
            " 69%|██████▉   | 114898/166693 [00:57<00:29, 1776.78it/s]\u001b[A\n",
            " 69%|██████▉   | 115076/166693 [00:57<00:29, 1752.56it/s]\u001b[A\n",
            " 69%|██████▉   | 115261/166693 [00:57<00:28, 1777.20it/s]\u001b[A\n",
            " 69%|██████▉   | 115439/166693 [00:57<00:29, 1765.52it/s]\u001b[A\n",
            " 69%|██████▉   | 115616/166693 [00:57<00:29, 1735.63it/s]\u001b[A\n",
            " 69%|██████▉   | 115813/166693 [00:57<00:28, 1798.51it/s]\u001b[A\n",
            " 70%|██████▉   | 116005/166693 [00:58<00:27, 1831.45it/s]\u001b[A\n",
            " 70%|██████▉   | 116189/166693 [00:58<00:27, 1811.16it/s]\u001b[A\n",
            " 70%|██████▉   | 116371/166693 [00:58<00:28, 1787.45it/s]\u001b[A\n",
            " 70%|██████▉   | 116551/166693 [00:58<00:28, 1787.71it/s]\u001b[A\n",
            " 70%|███████   | 116731/166693 [00:58<00:27, 1789.31it/s]\u001b[A\n",
            " 70%|███████   | 116911/166693 [00:58<00:28, 1735.38it/s]\u001b[A\n",
            " 70%|███████   | 117086/166693 [00:58<00:28, 1734.67it/s]\u001b[A\n",
            " 70%|███████   | 117260/166693 [00:58<00:29, 1703.36it/s]\u001b[A\n",
            " 70%|███████   | 117438/166693 [00:58<00:28, 1723.98it/s]\u001b[A\n",
            " 71%|███████   | 117611/166693 [00:58<00:28, 1721.98it/s]\u001b[A\n",
            " 71%|███████   | 117784/166693 [00:59<00:28, 1711.26it/s]\u001b[A\n",
            " 71%|███████   | 117956/166693 [00:59<00:28, 1711.01it/s]\u001b[A\n",
            " 71%|███████   | 118137/166693 [00:59<00:27, 1739.05it/s]\u001b[A\n",
            " 71%|███████   | 118328/166693 [00:59<00:27, 1785.82it/s]\u001b[A\n",
            " 71%|███████   | 118508/166693 [00:59<00:27, 1761.45it/s]\u001b[A\n",
            " 71%|███████   | 118697/166693 [00:59<00:26, 1796.71it/s]\u001b[A\n",
            " 71%|███████▏  | 118878/166693 [00:59<00:27, 1758.56it/s]\u001b[A\n",
            " 71%|███████▏  | 119062/166693 [00:59<00:26, 1780.09it/s]\u001b[A\n",
            " 72%|███████▏  | 119256/166693 [00:59<00:25, 1824.51it/s]\u001b[A\n",
            " 72%|███████▏  | 119448/166693 [00:59<00:25, 1851.63it/s]\u001b[A\n",
            " 72%|███████▏  | 119634/166693 [01:00<00:25, 1829.71it/s]\u001b[A\n",
            " 72%|███████▏  | 119823/166693 [01:00<00:25, 1846.03it/s]\u001b[A\n",
            " 72%|███████▏  | 120013/166693 [01:00<00:25, 1860.70it/s]\u001b[A\n",
            " 72%|███████▏  | 120200/166693 [01:00<00:25, 1835.59it/s]\u001b[A\n",
            " 72%|███████▏  | 120384/166693 [01:00<00:25, 1808.91it/s]\u001b[A\n",
            " 72%|███████▏  | 120566/166693 [01:00<00:26, 1751.65it/s]\u001b[A\n",
            " 72%|███████▏  | 120744/166693 [01:00<00:26, 1757.71it/s]\u001b[A\n",
            " 73%|███████▎  | 120921/166693 [01:00<00:26, 1756.36it/s]\u001b[A\n",
            " 73%|███████▎  | 121097/166693 [01:00<00:26, 1714.30it/s]\u001b[A\n",
            " 73%|███████▎  | 121281/166693 [01:01<00:25, 1748.79it/s]\u001b[A\n",
            " 73%|███████▎  | 121457/166693 [01:01<00:26, 1719.14it/s]\u001b[A\n",
            " 73%|███████▎  | 121635/166693 [01:01<00:25, 1734.49it/s]\u001b[A\n",
            " 73%|███████▎  | 121809/166693 [01:01<00:26, 1725.37it/s]\u001b[A\n",
            " 73%|███████▎  | 121994/166693 [01:01<00:25, 1760.35it/s]\u001b[A\n",
            " 73%|███████▎  | 122171/166693 [01:01<00:26, 1702.88it/s]\u001b[A\n",
            " 73%|███████▎  | 122354/166693 [01:01<00:25, 1738.48it/s]\u001b[A\n",
            " 74%|███████▎  | 122545/166693 [01:01<00:24, 1786.17it/s]\u001b[A\n",
            " 74%|███████▎  | 122725/166693 [01:01<00:24, 1764.84it/s]\u001b[A\n",
            " 74%|███████▎  | 122922/166693 [01:01<00:24, 1820.13it/s]\u001b[A\n",
            " 74%|███████▍  | 123105/166693 [01:02<00:25, 1740.13it/s]\u001b[A\n",
            " 74%|███████▍  | 123291/166693 [01:02<00:24, 1774.09it/s]\u001b[A\n",
            " 74%|███████▍  | 123476/166693 [01:02<00:24, 1795.62it/s]\u001b[A\n",
            " 74%|███████▍  | 123657/166693 [01:02<00:24, 1783.12it/s]\u001b[A\n",
            " 74%|███████▍  | 123836/166693 [01:02<00:24, 1743.46it/s]\u001b[A\n",
            " 74%|███████▍  | 124011/166693 [01:02<00:25, 1696.14it/s]\u001b[A\n",
            " 75%|███████▍  | 124192/166693 [01:02<00:24, 1728.64it/s]\u001b[A\n",
            " 75%|███████▍  | 124372/166693 [01:02<00:24, 1747.37it/s]\u001b[A\n",
            " 75%|███████▍  | 124550/166693 [01:02<00:24, 1755.68it/s]\u001b[A\n",
            " 75%|███████▍  | 124735/166693 [01:02<00:23, 1779.52it/s]\u001b[A\n",
            " 75%|███████▍  | 124923/166693 [01:03<00:23, 1807.37it/s]\u001b[A\n",
            " 75%|███████▌  | 125105/166693 [01:03<00:23, 1785.77it/s]\u001b[A\n",
            " 75%|███████▌  | 125284/166693 [01:03<00:23, 1745.98it/s]\u001b[A\n",
            " 75%|███████▌  | 125470/166693 [01:03<00:23, 1777.08it/s]\u001b[A\n",
            " 75%|███████▌  | 125649/166693 [01:03<00:23, 1776.46it/s]\u001b[A\n",
            " 75%|███████▌  | 125827/166693 [01:03<00:23, 1738.04it/s]\u001b[A\n",
            " 76%|███████▌  | 126002/166693 [01:03<00:23, 1714.66it/s]\u001b[A\n",
            " 76%|███████▌  | 126184/166693 [01:03<00:23, 1744.15it/s]\u001b[A\n",
            " 76%|███████▌  | 126359/166693 [01:03<00:23, 1721.65it/s]\u001b[A\n",
            " 76%|███████▌  | 126532/166693 [01:04<00:23, 1699.67it/s]\u001b[A\n",
            " 76%|███████▌  | 126709/166693 [01:04<00:23, 1719.63it/s]\u001b[A\n",
            " 76%|███████▌  | 126882/166693 [01:04<00:23, 1721.79it/s]\u001b[A\n",
            " 76%|███████▌  | 127064/166693 [01:04<00:22, 1748.83it/s]\u001b[A\n",
            " 76%|███████▋  | 127240/166693 [01:04<00:22, 1740.97it/s]\u001b[A\n",
            " 76%|███████▋  | 127428/166693 [01:04<00:22, 1778.71it/s]\u001b[A\n",
            " 77%|███████▋  | 127607/166693 [01:04<00:22, 1732.81it/s]\u001b[A\n",
            " 77%|███████▋  | 127781/166693 [01:04<00:22, 1717.92it/s]\u001b[A\n",
            " 77%|███████▋  | 127955/166693 [01:04<00:22, 1724.19it/s]\u001b[A\n",
            " 77%|███████▋  | 128128/166693 [01:04<00:22, 1718.79it/s]\u001b[A\n",
            " 77%|███████▋  | 128316/166693 [01:05<00:21, 1762.70it/s]\u001b[A\n",
            " 77%|███████▋  | 128493/166693 [01:05<00:21, 1757.10it/s]\u001b[A\n",
            " 77%|███████▋  | 128682/166693 [01:05<00:21, 1792.99it/s]\u001b[A\n",
            " 77%|███████▋  | 128867/166693 [01:05<00:20, 1808.28it/s]\u001b[A\n",
            " 77%|███████▋  | 129049/166693 [01:05<00:21, 1764.86it/s]\u001b[A\n",
            " 78%|███████▊  | 129235/166693 [01:05<00:20, 1790.14it/s]\u001b[A\n",
            " 78%|███████▊  | 129415/166693 [01:05<00:21, 1762.23it/s]\u001b[A\n",
            " 78%|███████▊  | 129593/166693 [01:05<00:20, 1766.89it/s]\u001b[A\n",
            " 78%|███████▊  | 129770/166693 [01:05<00:21, 1745.11it/s]\u001b[A\n",
            " 78%|███████▊  | 129945/166693 [01:05<00:21, 1744.03it/s]\u001b[A\n",
            " 78%|███████▊  | 130132/166693 [01:06<00:20, 1779.48it/s]\u001b[A\n",
            " 78%|███████▊  | 130320/166693 [01:06<00:20, 1806.76it/s]\u001b[A\n",
            " 78%|███████▊  | 130501/166693 [01:06<00:21, 1719.53it/s]\u001b[A\n",
            " 78%|███████▊  | 130675/166693 [01:06<00:21, 1714.22it/s]\u001b[A\n",
            " 78%|███████▊  | 130848/166693 [01:06<00:21, 1681.23it/s]\u001b[A\n",
            " 79%|███████▊  | 131017/166693 [01:06<00:21, 1665.45it/s]\u001b[A\n",
            " 79%|███████▊  | 131204/166693 [01:06<00:20, 1720.21it/s]\u001b[A\n",
            " 79%|███████▉  | 131377/166693 [01:06<00:20, 1722.73it/s]\u001b[A\n",
            " 79%|███████▉  | 131559/166693 [01:06<00:20, 1749.70it/s]\u001b[A\n",
            " 79%|███████▉  | 131735/166693 [01:07<00:20, 1723.29it/s]\u001b[A\n",
            " 79%|███████▉  | 131918/166693 [01:07<00:19, 1751.84it/s]\u001b[A\n",
            " 79%|███████▉  | 132094/166693 [01:07<00:19, 1738.95it/s]\u001b[A\n",
            " 79%|███████▉  | 132269/166693 [01:07<00:19, 1729.78it/s]\u001b[A\n",
            " 79%|███████▉  | 132456/166693 [01:07<00:19, 1768.50it/s]\u001b[A\n",
            " 80%|███████▉  | 132641/166693 [01:07<00:19, 1790.69it/s]\u001b[A\n",
            " 80%|███████▉  | 132821/166693 [01:07<00:19, 1779.43it/s]\u001b[A\n",
            " 80%|███████▉  | 133010/166693 [01:07<00:18, 1809.73it/s]\u001b[A\n",
            " 80%|███████▉  | 133192/166693 [01:07<00:18, 1767.31it/s]\u001b[A\n",
            " 80%|████████  | 133378/166693 [01:07<00:18, 1793.45it/s]\u001b[A\n",
            " 80%|████████  | 133558/166693 [01:08<00:18, 1755.78it/s]\u001b[A\n",
            " 80%|████████  | 133738/166693 [01:08<00:18, 1768.67it/s]\u001b[A\n",
            " 80%|████████  | 133916/166693 [01:08<00:18, 1770.05it/s]\u001b[A\n",
            " 80%|████████  | 134094/166693 [01:08<00:18, 1764.84it/s]\u001b[A\n",
            " 81%|████████  | 134285/166693 [01:08<00:17, 1804.58it/s]\u001b[A\n",
            " 81%|████████  | 134466/166693 [01:08<00:17, 1793.99it/s]\u001b[A\n",
            " 81%|████████  | 134646/166693 [01:08<00:18, 1763.90it/s]\u001b[A\n",
            " 81%|████████  | 134823/166693 [01:08<00:18, 1733.00it/s]\u001b[A\n",
            " 81%|████████  | 134997/166693 [01:08<00:18, 1732.19it/s]\u001b[A\n",
            " 81%|████████  | 135171/166693 [01:08<00:18, 1722.68it/s]\u001b[A\n",
            " 81%|████████  | 135359/166693 [01:09<00:17, 1766.78it/s]\u001b[A\n",
            " 81%|████████▏ | 135540/166693 [01:09<00:17, 1777.97it/s]\u001b[A\n",
            " 81%|████████▏ | 135719/166693 [01:09<00:17, 1749.19it/s]\u001b[A\n",
            " 82%|████████▏ | 135901/166693 [01:09<00:17, 1769.15it/s]\u001b[A\n",
            " 82%|████████▏ | 136079/166693 [01:09<00:17, 1767.94it/s]\u001b[A\n",
            " 82%|████████▏ | 136256/166693 [01:09<00:17, 1719.72it/s]\u001b[A\n",
            " 82%|████████▏ | 136429/166693 [01:09<00:17, 1693.66it/s]\u001b[A\n",
            " 82%|████████▏ | 136608/166693 [01:09<00:17, 1718.44it/s]\u001b[A\n",
            " 82%|████████▏ | 136781/166693 [01:09<00:17, 1707.92it/s]\u001b[A\n",
            " 82%|████████▏ | 136967/166693 [01:09<00:16, 1750.73it/s]\u001b[A\n",
            " 82%|████████▏ | 137145/166693 [01:10<00:16, 1758.38it/s]\u001b[A\n",
            " 82%|████████▏ | 137339/166693 [01:10<00:16, 1807.08it/s]\u001b[A\n",
            " 82%|████████▏ | 137521/166693 [01:10<00:16, 1765.34it/s]\u001b[A\n",
            " 83%|████████▎ | 137699/166693 [01:10<00:16, 1731.70it/s]\u001b[A\n",
            " 83%|████████▎ | 137887/166693 [01:10<00:16, 1772.88it/s]\u001b[A\n",
            " 83%|████████▎ | 138067/166693 [01:10<00:16, 1779.45it/s]\u001b[A\n",
            " 83%|████████▎ | 138246/166693 [01:10<00:16, 1753.88it/s]\u001b[A\n",
            " 83%|████████▎ | 138432/166693 [01:10<00:15, 1783.83it/s]\u001b[A\n",
            " 83%|████████▎ | 138611/166693 [01:10<00:16, 1747.51it/s]\u001b[A\n",
            " 83%|████████▎ | 138794/166693 [01:11<00:15, 1770.56it/s]\u001b[A\n",
            " 83%|████████▎ | 138972/166693 [01:11<00:15, 1753.41it/s]\u001b[A\n",
            " 83%|████████▎ | 139171/166693 [01:11<00:15, 1815.44it/s]\u001b[A\n",
            " 84%|████████▎ | 139354/166693 [01:11<00:15, 1778.44it/s]\u001b[A\n",
            " 84%|████████▎ | 139533/166693 [01:11<00:15, 1770.88it/s]\u001b[A\n",
            " 84%|████████▍ | 139724/166693 [01:11<00:14, 1809.45it/s]\u001b[A\n",
            " 84%|████████▍ | 139906/166693 [01:11<00:14, 1799.78it/s]\u001b[A\n",
            " 84%|████████▍ | 140087/166693 [01:11<00:14, 1788.72it/s]\u001b[A\n",
            " 84%|████████▍ | 140267/166693 [01:11<00:15, 1717.32it/s]\u001b[A\n",
            " 84%|████████▍ | 140457/166693 [01:11<00:14, 1767.14it/s]\u001b[A\n",
            " 84%|████████▍ | 140635/166693 [01:12<00:14, 1758.06it/s]\u001b[A\n",
            " 84%|████████▍ | 140820/166693 [01:12<00:14, 1782.38it/s]\u001b[A\n",
            " 85%|████████▍ | 140999/166693 [01:12<00:14, 1771.73it/s]\u001b[A\n",
            " 85%|████████▍ | 141177/166693 [01:12<00:14, 1760.97it/s]\u001b[A\n",
            " 85%|████████▍ | 141369/166693 [01:12<00:14, 1805.40it/s]\u001b[A\n",
            " 85%|████████▍ | 141551/166693 [01:12<00:14, 1747.83it/s]\u001b[A\n",
            " 85%|████████▌ | 141732/166693 [01:12<00:14, 1762.14it/s]\u001b[A\n",
            " 85%|████████▌ | 141909/166693 [01:12<00:14, 1734.21it/s]\u001b[A\n",
            " 85%|████████▌ | 142083/166693 [01:12<00:14, 1700.00it/s]\u001b[A\n",
            " 85%|████████▌ | 142254/166693 [01:12<00:14, 1675.52it/s]\u001b[A\n",
            " 85%|████████▌ | 142434/166693 [01:13<00:14, 1708.87it/s]\u001b[A\n",
            " 86%|████████▌ | 142630/166693 [01:13<00:13, 1774.95it/s]\u001b[A\n",
            " 86%|████████▌ | 142809/166693 [01:13<00:13, 1750.73it/s]\u001b[A\n",
            " 86%|████████▌ | 142985/166693 [01:13<00:13, 1732.09it/s]\u001b[A\n",
            " 86%|████████▌ | 143167/166693 [01:13<00:13, 1755.19it/s]\u001b[A\n",
            " 86%|████████▌ | 143343/166693 [01:13<00:13, 1746.40it/s]\u001b[A\n",
            " 86%|████████▌ | 143518/166693 [01:13<00:13, 1681.02it/s]\u001b[A\n",
            " 86%|████████▌ | 143687/166693 [01:13<00:13, 1665.36it/s]\u001b[A\n",
            " 86%|████████▋ | 143871/166693 [01:13<00:13, 1712.70it/s]\u001b[A\n",
            " 86%|████████▋ | 144044/166693 [01:14<00:13, 1715.28it/s]\u001b[A\n",
            " 87%|████████▋ | 144217/166693 [01:14<00:13, 1714.48it/s]\u001b[A\n",
            " 87%|████████▋ | 144395/166693 [01:14<00:12, 1731.69it/s]\u001b[A\n",
            " 87%|████████▋ | 144569/166693 [01:14<00:12, 1719.79it/s]\u001b[A\n",
            " 87%|████████▋ | 144742/166693 [01:14<00:12, 1703.30it/s]\u001b[A\n",
            " 87%|████████▋ | 144929/166693 [01:14<00:12, 1748.65it/s]\u001b[A\n",
            " 87%|████████▋ | 145107/166693 [01:14<00:12, 1755.54it/s]\u001b[A\n",
            " 87%|████████▋ | 145283/166693 [01:14<00:12, 1698.33it/s]\u001b[A\n",
            " 87%|████████▋ | 145456/166693 [01:14<00:12, 1705.50it/s]\u001b[A\n",
            " 87%|████████▋ | 145629/166693 [01:14<00:12, 1710.35it/s]\u001b[A\n",
            " 87%|████████▋ | 145802/166693 [01:15<00:12, 1715.79it/s]\u001b[A\n",
            " 88%|████████▊ | 145974/166693 [01:15<00:12, 1706.53it/s]\u001b[A\n",
            " 88%|████████▊ | 146166/166693 [01:15<00:11, 1764.35it/s]\u001b[A\n",
            " 88%|████████▊ | 146344/166693 [01:15<00:11, 1749.52it/s]\u001b[A\n",
            " 88%|████████▊ | 146520/166693 [01:15<00:11, 1741.74it/s]\u001b[A\n",
            " 88%|████████▊ | 146708/166693 [01:15<00:11, 1779.02it/s]\u001b[A\n",
            " 88%|████████▊ | 146887/166693 [01:15<00:11, 1753.73it/s]\u001b[A\n",
            " 88%|████████▊ | 147063/166693 [01:15<00:11, 1681.44it/s]\u001b[A\n",
            " 88%|████████▊ | 147233/166693 [01:15<00:11, 1645.18it/s]\u001b[A\n",
            " 88%|████████▊ | 147404/166693 [01:15<00:11, 1663.76it/s]\u001b[A\n",
            " 89%|████████▊ | 147583/166693 [01:16<00:11, 1697.02it/s]\u001b[A\n",
            " 89%|████████▊ | 147759/166693 [01:16<00:11, 1715.11it/s]\u001b[A\n",
            " 89%|████████▉ | 147951/166693 [01:16<00:10, 1770.17it/s]\u001b[A\n",
            " 89%|████████▉ | 148129/166693 [01:16<00:10, 1768.66it/s]\u001b[A\n",
            " 89%|████████▉ | 148311/166693 [01:16<00:10, 1782.95it/s]\u001b[A\n",
            " 89%|████████▉ | 148513/166693 [01:16<00:09, 1847.74it/s]\u001b[A\n",
            " 89%|████████▉ | 148699/166693 [01:16<00:10, 1781.62it/s]\u001b[A\n",
            " 89%|████████▉ | 148879/166693 [01:16<00:10, 1690.90it/s]\u001b[A\n",
            " 89%|████████▉ | 149067/166693 [01:16<00:10, 1740.33it/s]\u001b[A\n",
            " 90%|████████▉ | 149267/166693 [01:17<00:09, 1808.27it/s]\u001b[A\n",
            " 90%|████████▉ | 149461/166693 [01:17<00:09, 1844.19it/s]\u001b[A\n",
            " 90%|████████▉ | 149647/166693 [01:17<00:09, 1827.52it/s]\u001b[A\n",
            " 90%|████████▉ | 149832/166693 [01:17<00:09, 1832.55it/s]\u001b[A\n",
            " 90%|████████▉ | 150019/166693 [01:17<00:09, 1843.56it/s]\u001b[A\n",
            " 90%|█████████ | 150213/166693 [01:17<00:08, 1867.92it/s]\u001b[A\n",
            " 90%|█████████ | 150401/166693 [01:17<00:08, 1825.96it/s]\u001b[A\n",
            " 90%|█████████ | 150594/166693 [01:17<00:08, 1855.30it/s]\u001b[A\n",
            " 90%|█████████ | 150781/166693 [01:17<00:08, 1770.91it/s]\u001b[A\n",
            " 91%|█████████ | 150975/166693 [01:17<00:08, 1815.91it/s]\u001b[A\n",
            " 91%|█████████ | 151158/166693 [01:18<00:08, 1804.68it/s]\u001b[A\n",
            " 91%|█████████ | 151340/166693 [01:18<00:08, 1802.54it/s]\u001b[A\n",
            " 91%|█████████ | 151524/166693 [01:18<00:08, 1813.43it/s]\u001b[A\n",
            " 91%|█████████ | 151713/166693 [01:18<00:08, 1835.47it/s]\u001b[A\n",
            " 91%|█████████ | 151897/166693 [01:18<00:08, 1817.59it/s]\u001b[A\n",
            " 91%|█████████ | 152080/166693 [01:18<00:08, 1783.77it/s]\u001b[A\n",
            " 91%|█████████▏| 152276/166693 [01:18<00:07, 1832.93it/s]\u001b[A\n",
            " 91%|█████████▏| 152460/166693 [01:18<00:08, 1771.82it/s]\u001b[A\n",
            " 92%|█████████▏| 152639/166693 [01:18<00:08, 1755.06it/s]\u001b[A\n",
            " 92%|█████████▏| 152816/166693 [01:18<00:07, 1752.67it/s]\u001b[A\n",
            " 92%|█████████▏| 152992/166693 [01:19<00:07, 1737.18it/s]\u001b[A\n",
            " 92%|█████████▏| 153171/166693 [01:19<00:07, 1748.50it/s]\u001b[A\n",
            " 92%|█████████▏| 153355/166693 [01:19<00:07, 1773.81it/s]\u001b[A\n",
            " 92%|█████████▏| 153536/166693 [01:19<00:07, 1782.20it/s]\u001b[A\n",
            " 92%|█████████▏| 153715/166693 [01:19<00:07, 1775.05it/s]\u001b[A\n",
            " 92%|█████████▏| 153900/166693 [01:19<00:07, 1796.54it/s]\u001b[A\n",
            " 92%|█████████▏| 154080/166693 [01:19<00:07, 1776.48it/s]\u001b[A\n",
            " 93%|█████████▎| 154258/166693 [01:19<00:07, 1775.04it/s]\u001b[A\n",
            " 93%|█████████▎| 154436/166693 [01:19<00:07, 1725.82it/s]\u001b[A\n",
            " 93%|█████████▎| 154640/166693 [01:19<00:06, 1808.87it/s]\u001b[A\n",
            " 93%|█████████▎| 154823/166693 [01:20<00:06, 1806.83it/s]\u001b[A\n",
            " 93%|█████████▎| 155005/166693 [01:20<00:06, 1797.04it/s]\u001b[A\n",
            " 93%|█████████▎| 155186/166693 [01:20<00:06, 1795.48it/s]\u001b[A\n",
            " 93%|█████████▎| 155367/166693 [01:20<00:06, 1792.47it/s]\u001b[A\n",
            " 93%|█████████▎| 155547/166693 [01:20<00:06, 1718.06it/s]\u001b[A\n",
            " 93%|█████████▎| 155730/166693 [01:20<00:06, 1745.30it/s]\u001b[A\n",
            " 94%|█████████▎| 155916/166693 [01:20<00:06, 1777.61it/s]\u001b[A\n",
            " 94%|█████████▎| 156095/166693 [01:20<00:06, 1748.13it/s]\u001b[A\n",
            " 94%|█████████▍| 156277/166693 [01:20<00:05, 1766.57it/s]\u001b[A\n",
            " 94%|█████████▍| 156468/166693 [01:21<00:05, 1804.69it/s]\u001b[A\n",
            " 94%|█████████▍| 156656/166693 [01:21<00:05, 1826.06it/s]\u001b[A\n",
            " 94%|█████████▍| 156852/166693 [01:21<00:05, 1863.66it/s]\u001b[A\n",
            " 94%|█████████▍| 157046/166693 [01:21<00:05, 1884.06it/s]\u001b[A\n",
            " 94%|█████████▍| 157235/166693 [01:21<00:05, 1867.28it/s]\u001b[A\n",
            " 94%|█████████▍| 157423/166693 [01:21<00:05, 1825.28it/s]\u001b[A\n",
            " 95%|█████████▍| 157606/166693 [01:21<00:05, 1787.72it/s]\u001b[A\n",
            " 95%|█████████▍| 157795/166693 [01:21<00:04, 1816.86it/s]\u001b[A\n",
            " 95%|█████████▍| 157978/166693 [01:21<00:05, 1731.08it/s]\u001b[A\n",
            " 95%|█████████▍| 158153/166693 [01:21<00:04, 1727.40it/s]\u001b[A\n",
            " 95%|█████████▍| 158351/166693 [01:22<00:04, 1794.09it/s]\u001b[A\n",
            " 95%|█████████▌| 158532/166693 [01:22<00:04, 1764.92it/s]\u001b[A\n",
            " 95%|█████████▌| 158710/166693 [01:22<00:04, 1731.35it/s]\u001b[A\n",
            " 95%|█████████▌| 158884/166693 [01:22<00:04, 1727.50it/s]\u001b[A\n",
            " 95%|█████████▌| 159058/166693 [01:22<00:04, 1698.39it/s]\u001b[A\n",
            " 96%|█████████▌| 159235/166693 [01:22<00:04, 1713.69it/s]\u001b[A\n",
            " 96%|█████████▌| 159407/166693 [01:22<00:04, 1686.72it/s]\u001b[A\n",
            " 96%|█████████▌| 159588/166693 [01:22<00:04, 1719.89it/s]\u001b[A\n",
            " 96%|█████████▌| 159775/166693 [01:22<00:03, 1762.12it/s]\u001b[A\n",
            " 96%|█████████▌| 159973/166693 [01:22<00:03, 1821.35it/s]\u001b[A\n",
            " 96%|█████████▌| 160158/166693 [01:23<00:03, 1827.76it/s]\u001b[A\n",
            " 96%|█████████▌| 160364/166693 [01:23<00:03, 1891.21it/s]\u001b[A\n",
            " 96%|█████████▋| 160566/166693 [01:23<00:03, 1925.81it/s]\u001b[A\n",
            " 96%|█████████▋| 160766/166693 [01:23<00:03, 1946.04it/s]\u001b[A\n",
            " 97%|█████████▋| 160965/166693 [01:23<00:02, 1958.38it/s]\u001b[A\n",
            " 97%|█████████▋| 161165/166693 [01:23<00:02, 1970.47it/s]\u001b[A\n",
            " 97%|█████████▋| 161368/166693 [01:23<00:02, 1985.55it/s]\u001b[A\n",
            " 97%|█████████▋| 161570/166693 [01:23<00:02, 1995.06it/s]\u001b[A\n",
            " 97%|█████████▋| 161770/166693 [01:23<00:02, 1953.90it/s]\u001b[A\n",
            " 97%|█████████▋| 161986/166693 [01:23<00:02, 2010.89it/s]\u001b[A\n",
            " 97%|█████████▋| 162201/166693 [01:24<00:02, 2048.26it/s]\u001b[A\n",
            " 97%|█████████▋| 162414/166693 [01:24<00:02, 2070.38it/s]\u001b[A\n",
            " 98%|█████████▊| 162622/166693 [01:24<00:01, 2041.05it/s]\u001b[A\n",
            " 98%|█████████▊| 162833/166693 [01:24<00:01, 2060.46it/s]\u001b[A\n",
            " 98%|█████████▊| 163040/166693 [01:24<00:01, 2040.84it/s]\u001b[A\n",
            " 98%|█████████▊| 163248/166693 [01:24<00:01, 2050.96it/s]\u001b[A\n",
            " 98%|█████████▊| 163454/166693 [01:24<00:01, 2039.00it/s]\u001b[A\n",
            " 98%|█████████▊| 163660/166693 [01:24<00:01, 2045.10it/s]\u001b[A\n",
            " 98%|█████████▊| 163865/166693 [01:24<00:01, 1978.75it/s]\u001b[A\n",
            " 98%|█████████▊| 164077/166693 [01:25<00:01, 2016.68it/s]\u001b[A\n",
            " 99%|█████████▊| 164280/166693 [01:25<00:01, 2014.39it/s]\u001b[A\n",
            " 99%|█████████▊| 164498/166693 [01:25<00:01, 2060.85it/s]\u001b[A\n",
            " 99%|█████████▉| 164705/166693 [01:25<00:00, 2000.14it/s]\u001b[A\n",
            " 99%|█████████▉| 164906/166693 [01:25<00:00, 1985.17it/s]\u001b[A\n",
            " 99%|█████████▉| 165107/166693 [01:25<00:00, 1992.18it/s]\u001b[A\n",
            " 99%|█████████▉| 165307/166693 [01:25<00:00, 1981.01it/s]\u001b[A\n",
            " 99%|█████████▉| 165506/166693 [01:25<00:00, 1976.08it/s]\u001b[A\n",
            " 99%|█████████▉| 165704/166693 [01:25<00:00, 1966.61it/s]\u001b[A\n",
            "100%|█████████▉| 165905/166693 [01:25<00:00, 1978.16it/s]\u001b[A\n",
            "100%|█████████▉| 166107/166693 [01:26<00:00, 1990.10it/s]\u001b[A\n",
            "100%|█████████▉| 166318/166693 [01:26<00:00, 2023.05it/s]\u001b[A\n",
            "100%|██████████| 166693/166693 [01:26<00:00, 1930.85it/s]\n"
          ],
          "name": "stderr"
        }
      ]
    },
    {
      "cell_type": "code",
      "metadata": {
        "id": "TGbOT4XBjxm7",
        "outputId": "930e861e-4faa-4556-c4be-9ed2c7bb37ed",
        "colab": {
          "base_uri": "https://localhost:8080/"
        }
      },
      "source": [
        "test_df['search_term_tokens'] = test_df['search_term'].progress_apply(tokenize)"
      ],
      "execution_count": 197,
      "outputs": [
        {
          "output_type": "stream",
          "text": [
            "\n",
            "  0%|          | 0/166693 [00:00<?, ?it/s]\u001b[A\n",
            "  0%|          | 523/166693 [00:00<00:31, 5225.56it/s]\u001b[A\n",
            "  1%|          | 1062/166693 [00:00<00:31, 5272.04it/s]\u001b[A\n",
            "  1%|          | 1625/166693 [00:00<00:30, 5373.90it/s]\u001b[A\n",
            "  1%|▏         | 2192/166693 [00:00<00:30, 5458.36it/s]\u001b[A\n",
            "  2%|▏         | 2775/166693 [00:00<00:29, 5561.08it/s]\u001b[A\n",
            "  2%|▏         | 3319/166693 [00:00<00:29, 5522.71it/s]\u001b[A\n",
            "  2%|▏         | 3902/166693 [00:00<00:29, 5610.90it/s]\u001b[A\n",
            "  3%|▎         | 4492/166693 [00:00<00:28, 5692.98it/s]\u001b[A\n",
            "  3%|▎         | 5068/166693 [00:00<00:28, 5711.79it/s]\u001b[A\n",
            "  3%|▎         | 5628/166693 [00:01<00:28, 5677.41it/s]\u001b[A\n",
            "  4%|▎         | 6199/166693 [00:01<00:28, 5684.86it/s]\u001b[A\n",
            "  4%|▍         | 6773/166693 [00:01<00:28, 5697.85it/s]\u001b[A\n",
            "  4%|▍         | 7336/166693 [00:01<00:54, 2935.90it/s]\u001b[A\n",
            "  5%|▍         | 7896/166693 [00:01<00:46, 3423.22it/s]\u001b[A\n",
            "  5%|▌         | 8444/166693 [00:01<00:41, 3857.29it/s]\u001b[A\n",
            "  5%|▌         | 8939/166693 [00:01<00:38, 4121.95it/s]\u001b[A\n",
            "  6%|▌         | 9456/166693 [00:02<00:35, 4387.83it/s]\u001b[A\n",
            "  6%|▌         | 10002/166693 [00:02<00:33, 4660.14it/s]\u001b[A\n",
            "  6%|▋         | 10566/166693 [00:02<00:31, 4916.28it/s]\u001b[A\n",
            "  7%|▋         | 11111/166693 [00:02<00:30, 5063.73it/s]\u001b[A\n",
            "  7%|▋         | 11645/166693 [00:02<00:30, 5107.96it/s]\u001b[A\n",
            "  7%|▋         | 12175/166693 [00:02<00:30, 5034.37it/s]\u001b[A\n",
            "  8%|▊         | 12693/166693 [00:02<00:31, 4895.48it/s]\u001b[A\n",
            "  8%|▊         | 13197/166693 [00:02<00:31, 4936.10it/s]\u001b[A\n",
            "  8%|▊         | 13760/166693 [00:02<00:29, 5124.21it/s]\u001b[A\n",
            "  9%|▊         | 14305/166693 [00:02<00:29, 5216.27it/s]\u001b[A\n",
            "  9%|▉         | 14875/166693 [00:03<00:28, 5351.21it/s]\u001b[A\n",
            "  9%|▉         | 15431/166693 [00:03<00:27, 5410.87it/s]\u001b[A\n",
            " 10%|▉         | 15976/166693 [00:03<00:28, 5340.26it/s]\u001b[A\n",
            " 10%|▉         | 16551/166693 [00:03<00:27, 5456.31it/s]\u001b[A\n",
            " 10%|█         | 17100/166693 [00:03<00:27, 5465.78it/s]\u001b[A\n",
            " 11%|█         | 17654/166693 [00:03<00:27, 5486.81it/s]\u001b[A\n",
            " 11%|█         | 18204/166693 [00:03<00:27, 5422.92it/s]\u001b[A\n",
            " 11%|█▏        | 18768/166693 [00:03<00:26, 5485.50it/s]\u001b[A\n",
            " 12%|█▏        | 19321/166693 [00:03<00:26, 5496.64it/s]\u001b[A\n",
            " 12%|█▏        | 19889/166693 [00:03<00:26, 5550.12it/s]\u001b[A\n",
            " 12%|█▏        | 20445/166693 [00:04<00:26, 5523.06it/s]\u001b[A\n",
            " 13%|█▎        | 21013/166693 [00:04<00:26, 5568.73it/s]\u001b[A\n",
            " 13%|█▎        | 21571/166693 [00:04<00:26, 5413.72it/s]\u001b[A\n",
            " 13%|█▎        | 22114/166693 [00:04<00:27, 5313.62it/s]\u001b[A\n",
            " 14%|█▎        | 22647/166693 [00:04<00:27, 5302.63it/s]\u001b[A\n",
            " 14%|█▍        | 23213/166693 [00:04<00:26, 5402.54it/s]\u001b[A\n",
            " 14%|█▍        | 23755/166693 [00:04<00:26, 5363.37it/s]\u001b[A\n",
            " 15%|█▍        | 24313/166693 [00:04<00:26, 5424.49it/s]\u001b[A\n",
            " 15%|█▍        | 24895/166693 [00:04<00:25, 5535.35it/s]\u001b[A\n",
            " 15%|█▌        | 25460/166693 [00:04<00:25, 5569.04it/s]\u001b[A\n",
            " 16%|█▌        | 26018/166693 [00:05<00:25, 5552.46it/s]\u001b[A\n",
            " 16%|█▌        | 26582/166693 [00:05<00:25, 5576.61it/s]\u001b[A\n",
            " 16%|█▋        | 27141/166693 [00:05<00:25, 5570.29it/s]\u001b[A\n",
            " 17%|█▋        | 27715/166693 [00:05<00:24, 5617.53it/s]\u001b[A\n",
            " 17%|█▋        | 28278/166693 [00:05<00:25, 5490.90it/s]\u001b[A\n",
            " 17%|█▋        | 28835/166693 [00:05<00:25, 5513.65it/s]\u001b[A\n",
            " 18%|█▊        | 29387/166693 [00:05<00:25, 5366.00it/s]\u001b[A\n",
            " 18%|█▊        | 29935/166693 [00:05<00:25, 5399.44it/s]\u001b[A\n",
            " 18%|█▊        | 30501/166693 [00:05<00:24, 5473.80it/s]\u001b[A\n",
            " 19%|█▊        | 31069/166693 [00:05<00:24, 5533.53it/s]\u001b[A\n",
            " 19%|█▉        | 31646/166693 [00:06<00:24, 5600.14it/s]\u001b[A\n",
            " 19%|█▉        | 32207/166693 [00:06<00:24, 5488.59it/s]\u001b[A\n",
            " 20%|█▉        | 32757/166693 [00:06<00:24, 5416.17it/s]\u001b[A\n",
            " 20%|█▉        | 33323/166693 [00:06<00:24, 5486.19it/s]\u001b[A\n",
            " 20%|██        | 33873/166693 [00:06<00:24, 5430.89it/s]\u001b[A\n",
            " 21%|██        | 34433/166693 [00:06<00:24, 5478.87it/s]\u001b[A\n",
            " 21%|██        | 34982/166693 [00:06<00:24, 5436.44it/s]\u001b[A\n",
            " 21%|██▏       | 35530/166693 [00:06<00:24, 5447.33it/s]\u001b[A\n",
            " 22%|██▏       | 36077/166693 [00:06<00:23, 5452.66it/s]\u001b[A\n",
            " 22%|██▏       | 36648/166693 [00:07<00:23, 5526.33it/s]\u001b[A\n",
            " 22%|██▏       | 37202/166693 [00:07<00:23, 5516.44it/s]\u001b[A\n",
            " 23%|██▎       | 37766/166693 [00:07<00:23, 5550.04it/s]\u001b[A\n",
            " 23%|██▎       | 38322/166693 [00:07<00:23, 5528.24it/s]\u001b[A\n",
            " 23%|██▎       | 38901/166693 [00:07<00:22, 5602.60it/s]\u001b[A\n",
            " 24%|██▎       | 39462/166693 [00:07<00:22, 5557.96it/s]\u001b[A\n",
            " 24%|██▍       | 40027/166693 [00:07<00:22, 5583.95it/s]\u001b[A\n",
            " 24%|██▍       | 40586/166693 [00:07<00:22, 5488.80it/s]\u001b[A\n",
            " 25%|██▍       | 41136/166693 [00:07<00:22, 5464.35it/s]\u001b[A\n",
            " 25%|██▌       | 41701/166693 [00:07<00:22, 5517.74it/s]\u001b[A\n",
            " 25%|██▌       | 42254/166693 [00:08<00:23, 5300.92it/s]\u001b[A\n",
            " 26%|██▌       | 42793/166693 [00:08<00:23, 5323.34it/s]\u001b[A\n",
            " 26%|██▌       | 43340/166693 [00:08<00:22, 5365.06it/s]\u001b[A\n",
            " 26%|██▋       | 43913/166693 [00:08<00:22, 5467.47it/s]\u001b[A\n",
            " 27%|██▋       | 44462/166693 [00:08<00:22, 5359.40it/s]\u001b[A\n",
            " 27%|██▋       | 45011/166693 [00:08<00:22, 5394.82it/s]\u001b[A\n",
            " 27%|██▋       | 45590/166693 [00:08<00:22, 5502.78it/s]\u001b[A\n",
            " 28%|██▊       | 46142/166693 [00:08<00:22, 5431.87it/s]\u001b[A\n",
            " 28%|██▊       | 46702/166693 [00:08<00:21, 5481.14it/s]\u001b[A\n",
            " 28%|██▊       | 47274/166693 [00:08<00:21, 5548.99it/s]\u001b[A\n",
            " 29%|██▊       | 47846/166693 [00:09<00:21, 5597.61it/s]\u001b[A\n",
            " 29%|██▉       | 48407/166693 [00:09<00:21, 5541.05it/s]\u001b[A\n",
            " 29%|██▉       | 48962/166693 [00:09<00:21, 5503.48it/s]\u001b[A\n",
            " 30%|██▉       | 49541/166693 [00:09<00:20, 5584.33it/s]\u001b[A\n",
            " 30%|███       | 50101/166693 [00:09<00:21, 5530.89it/s]\u001b[A\n",
            " 30%|███       | 50677/166693 [00:09<00:20, 5596.50it/s]\u001b[A\n",
            " 31%|███       | 51238/166693 [00:09<00:20, 5528.03it/s]\u001b[A\n",
            " 31%|███       | 51792/166693 [00:09<00:20, 5498.35it/s]\u001b[A\n",
            " 31%|███▏      | 52361/166693 [00:09<00:20, 5552.49it/s]\u001b[A\n",
            " 32%|███▏      | 52917/166693 [00:09<00:20, 5478.58it/s]\u001b[A\n",
            " 32%|███▏      | 53466/166693 [00:10<00:21, 5381.99it/s]\u001b[A\n",
            " 32%|███▏      | 54017/166693 [00:10<00:20, 5419.59it/s]\u001b[A\n",
            " 33%|███▎      | 54567/166693 [00:10<00:20, 5443.44it/s]\u001b[A\n",
            " 33%|███▎      | 55127/166693 [00:10<00:20, 5489.36it/s]\u001b[A\n",
            " 33%|███▎      | 55677/166693 [00:10<00:20, 5322.14it/s]\u001b[A\n",
            " 34%|███▎      | 56239/166693 [00:10<00:20, 5406.94it/s]\u001b[A\n",
            " 34%|███▍      | 56781/166693 [00:10<00:20, 5303.45it/s]\u001b[A\n",
            " 34%|███▍      | 57336/166693 [00:10<00:20, 5372.98it/s]\u001b[A\n",
            " 35%|███▍      | 57907/166693 [00:10<00:19, 5469.27it/s]\u001b[A\n",
            " 35%|███▌      | 58473/166693 [00:10<00:19, 5524.69it/s]\u001b[A\n",
            " 35%|███▌      | 59027/166693 [00:11<00:19, 5495.73it/s]\u001b[A\n",
            " 36%|███▌      | 59585/166693 [00:11<00:19, 5520.67it/s]\u001b[A\n",
            " 36%|███▌      | 60138/166693 [00:11<00:19, 5490.97it/s]\u001b[A\n",
            " 36%|███▋      | 60688/166693 [00:11<00:19, 5465.92it/s]\u001b[A\n",
            " 37%|███▋      | 61240/166693 [00:11<00:19, 5481.00it/s]\u001b[A\n",
            " 37%|███▋      | 61789/166693 [00:11<00:20, 5182.10it/s]\u001b[A\n",
            " 37%|███▋      | 62311/166693 [00:11<00:20, 5133.96it/s]\u001b[A\n",
            " 38%|███▊      | 62870/166693 [00:11<00:19, 5262.48it/s]\u001b[A\n",
            " 38%|███▊      | 63439/166693 [00:11<00:19, 5383.27it/s]\u001b[A\n",
            " 38%|███▊      | 63980/166693 [00:12<00:19, 5314.13it/s]\u001b[A\n",
            " 39%|███▊      | 64532/166693 [00:12<00:19, 5371.78it/s]\u001b[A\n",
            " 39%|███▉      | 65071/166693 [00:12<00:19, 5344.90it/s]\u001b[A\n",
            " 39%|███▉      | 65617/166693 [00:12<00:18, 5376.78it/s]\u001b[A\n",
            " 40%|███▉      | 66184/166693 [00:12<00:18, 5461.32it/s]\u001b[A\n",
            " 40%|████      | 66733/166693 [00:12<00:18, 5467.84it/s]\u001b[A\n",
            " 40%|████      | 67288/166693 [00:12<00:18, 5489.81it/s]\u001b[A\n",
            " 41%|████      | 67838/166693 [00:12<00:18, 5417.34it/s]\u001b[A\n",
            " 41%|████      | 68394/166693 [00:12<00:18, 5457.53it/s]\u001b[A\n",
            " 41%|████▏     | 68951/166693 [00:12<00:17, 5488.66it/s]\u001b[A\n",
            " 42%|████▏     | 69501/166693 [00:13<00:18, 5389.44it/s]\u001b[A\n",
            " 42%|████▏     | 70068/166693 [00:13<00:17, 5469.26it/s]\u001b[A\n",
            " 42%|████▏     | 70632/166693 [00:13<00:17, 5517.45it/s]\u001b[A\n",
            " 43%|████▎     | 71187/166693 [00:13<00:17, 5526.40it/s]\u001b[A\n",
            " 43%|████▎     | 71752/166693 [00:13<00:17, 5560.03it/s]\u001b[A\n",
            " 43%|████▎     | 72320/166693 [00:13<00:16, 5594.46it/s]\u001b[A\n",
            " 44%|████▎     | 72880/166693 [00:13<00:16, 5566.84it/s]\u001b[A\n",
            " 44%|████▍     | 73437/166693 [00:13<00:16, 5516.80it/s]\u001b[A\n",
            " 44%|████▍     | 74009/166693 [00:13<00:16, 5574.79it/s]\u001b[A\n",
            " 45%|████▍     | 74585/166693 [00:13<00:16, 5627.81it/s]\u001b[A\n",
            " 45%|████▌     | 75149/166693 [00:14<00:16, 5455.23it/s]\u001b[A\n",
            " 45%|████▌     | 75720/166693 [00:14<00:16, 5528.33it/s]\u001b[A\n",
            " 46%|████▌     | 76275/166693 [00:14<00:16, 5522.42it/s]\u001b[A\n",
            " 46%|████▌     | 76829/166693 [00:14<00:16, 5523.55it/s]\u001b[A\n",
            " 46%|████▋     | 77382/166693 [00:14<00:16, 5516.99it/s]\u001b[A\n",
            " 47%|████▋     | 77945/166693 [00:14<00:15, 5547.01it/s]\u001b[A\n",
            " 47%|████▋     | 78501/166693 [00:14<00:15, 5518.61it/s]\u001b[A\n",
            " 47%|████▋     | 79054/166693 [00:14<00:16, 5445.40it/s]\u001b[A\n",
            " 48%|████▊     | 79621/166693 [00:14<00:15, 5509.44it/s]\u001b[A\n",
            " 48%|████▊     | 80173/166693 [00:14<00:15, 5508.28it/s]\u001b[A\n",
            " 48%|████▊     | 80736/166693 [00:15<00:15, 5542.67it/s]\u001b[A\n",
            " 49%|████▉     | 81322/166693 [00:15<00:15, 5631.63it/s]\u001b[A\n",
            " 49%|████▉     | 81886/166693 [00:15<00:15, 5593.99it/s]\u001b[A\n",
            " 49%|████▉     | 82453/166693 [00:15<00:15, 5614.85it/s]\u001b[A\n",
            " 50%|████▉     | 83015/166693 [00:15<00:15, 5414.29it/s]\u001b[A\n",
            " 50%|█████     | 83559/166693 [00:15<00:15, 5388.15it/s]\u001b[A\n",
            " 50%|█████     | 84139/166693 [00:15<00:14, 5504.74it/s]\u001b[A\n",
            " 51%|█████     | 84691/166693 [00:15<00:15, 5236.25it/s]\u001b[A\n",
            " 51%|█████     | 85219/166693 [00:15<00:15, 5096.02it/s]\u001b[A\n",
            " 51%|█████▏    | 85733/166693 [00:16<00:16, 5057.63it/s]\u001b[A\n",
            " 52%|█████▏    | 86281/166693 [00:16<00:15, 5175.25it/s]\u001b[A\n",
            " 52%|█████▏    | 86801/166693 [00:16<00:15, 5100.26it/s]\u001b[A\n",
            " 52%|█████▏    | 87320/166693 [00:16<00:15, 5125.27it/s]\u001b[A\n",
            " 53%|█████▎    | 87836/166693 [00:16<00:15, 5133.92it/s]\u001b[A\n",
            " 53%|█████▎    | 88351/166693 [00:16<00:15, 4969.23it/s]\u001b[A\n",
            " 53%|█████▎    | 88850/166693 [00:16<00:15, 4915.99it/s]\u001b[A\n",
            " 54%|█████▎    | 89351/166693 [00:16<00:15, 4943.19it/s]\u001b[A\n",
            " 54%|█████▍    | 89849/166693 [00:16<00:15, 4952.00it/s]\u001b[A\n",
            " 54%|█████▍    | 90395/166693 [00:16<00:14, 5092.36it/s]\u001b[A\n",
            " 55%|█████▍    | 90975/166693 [00:17<00:14, 5285.55it/s]\u001b[A\n",
            " 55%|█████▍    | 91548/166693 [00:17<00:13, 5410.98it/s]\u001b[A\n",
            " 55%|█████▌    | 92092/166693 [00:17<00:13, 5352.29it/s]\u001b[A\n",
            " 56%|█████▌    | 92672/166693 [00:17<00:13, 5478.77it/s]\u001b[A\n",
            " 56%|█████▌    | 93253/166693 [00:17<00:13, 5571.63it/s]\u001b[A\n",
            " 56%|█████▋    | 93813/166693 [00:17<00:13, 5577.44it/s]\u001b[A\n",
            " 57%|█████▋    | 94383/166693 [00:17<00:12, 5612.59it/s]\u001b[A\n",
            " 57%|█████▋    | 94946/166693 [00:17<00:12, 5542.77it/s]\u001b[A\n",
            " 57%|█████▋    | 95502/166693 [00:17<00:13, 5356.23it/s]\u001b[A\n",
            " 58%|█████▊    | 96065/166693 [00:17<00:12, 5433.42it/s]\u001b[A\n",
            " 58%|█████▊    | 96656/166693 [00:18<00:12, 5567.79it/s]\u001b[A\n",
            " 58%|█████▊    | 97215/166693 [00:18<00:12, 5522.31it/s]\u001b[A\n",
            " 59%|█████▊    | 97772/166693 [00:18<00:12, 5535.44it/s]\u001b[A\n",
            " 59%|█████▉    | 98354/166693 [00:18<00:12, 5616.93it/s]\u001b[A\n",
            " 59%|█████▉    | 98917/166693 [00:18<00:12, 5558.65it/s]\u001b[A\n",
            " 60%|█████▉    | 99504/166693 [00:18<00:11, 5646.97it/s]\u001b[A\n",
            " 60%|██████    | 100078/166693 [00:18<00:11, 5672.35it/s]\u001b[A\n",
            " 60%|██████    | 100646/166693 [00:18<00:11, 5539.32it/s]\u001b[A\n",
            " 61%|██████    | 101202/166693 [00:18<00:11, 5471.81it/s]\u001b[A\n",
            " 61%|██████    | 101774/166693 [00:18<00:11, 5542.15it/s]\u001b[A\n",
            " 61%|██████▏   | 102330/166693 [00:19<00:11, 5513.45it/s]\u001b[A\n",
            " 62%|██████▏   | 102895/166693 [00:19<00:11, 5551.61it/s]\u001b[A\n",
            " 62%|██████▏   | 103464/166693 [00:19<00:11, 5592.23it/s]\u001b[A\n",
            " 62%|██████▏   | 104024/166693 [00:19<00:11, 5499.43it/s]\u001b[A\n",
            " 63%|██████▎   | 104575/166693 [00:19<00:11, 5481.04it/s]\u001b[A\n",
            " 63%|██████▎   | 105130/166693 [00:19<00:11, 5500.63it/s]\u001b[A\n",
            " 63%|██████▎   | 105689/166693 [00:19<00:11, 5523.45it/s]\u001b[A\n",
            " 64%|██████▎   | 106242/166693 [00:19<00:11, 5344.52it/s]\u001b[A\n",
            " 64%|██████▍   | 106778/166693 [00:19<00:11, 5334.83it/s]\u001b[A\n",
            " 64%|██████▍   | 107325/166693 [00:19<00:11, 5373.79it/s]\u001b[A\n",
            " 65%|██████▍   | 107869/166693 [00:20<00:10, 5390.75it/s]\u001b[A\n",
            " 65%|██████▌   | 108422/166693 [00:20<00:10, 5431.75it/s]\u001b[A\n",
            " 65%|██████▌   | 109001/166693 [00:20<00:10, 5533.58it/s]\u001b[A\n",
            " 66%|██████▌   | 109573/166693 [00:20<00:10, 5588.15it/s]\u001b[A\n",
            " 66%|██████▌   | 110133/166693 [00:20<00:10, 5431.36it/s]\u001b[A\n",
            " 66%|██████▋   | 110678/166693 [00:20<00:10, 5334.87it/s]\u001b[A\n",
            " 67%|██████▋   | 111213/166693 [00:20<00:10, 5162.72it/s]\u001b[A\n",
            " 67%|██████▋   | 111732/166693 [00:20<00:10, 5063.42it/s]\u001b[A\n",
            " 67%|██████▋   | 112241/166693 [00:20<00:10, 5066.34it/s]\u001b[A\n",
            " 68%|██████▊   | 112757/166693 [00:21<00:10, 5094.07it/s]\u001b[A\n",
            " 68%|██████▊   | 113268/166693 [00:21<00:10, 5071.88it/s]\u001b[A\n",
            " 68%|██████▊   | 113803/166693 [00:21<00:10, 5150.78it/s]\u001b[A\n",
            " 69%|██████▊   | 114319/166693 [00:21<00:10, 5139.55it/s]\u001b[A\n",
            " 69%|██████▉   | 114834/166693 [00:21<00:10, 5048.90it/s]\u001b[A\n",
            " 69%|██████▉   | 115340/166693 [00:21<00:10, 4955.91it/s]\u001b[A\n",
            " 70%|██████▉   | 115856/166693 [00:21<00:10, 5013.90it/s]\u001b[A\n",
            " 70%|██████▉   | 116359/166693 [00:21<00:10, 4918.92it/s]\u001b[A\n",
            " 70%|███████   | 116852/166693 [00:21<00:10, 4684.43it/s]\u001b[A\n",
            " 70%|███████   | 117336/166693 [00:21<00:10, 4728.41it/s]\u001b[A\n",
            " 71%|███████   | 117837/166693 [00:22<00:10, 4809.46it/s]\u001b[A\n",
            " 71%|███████   | 118349/166693 [00:22<00:09, 4897.70it/s]\u001b[A\n",
            " 71%|███████▏  | 118864/166693 [00:22<00:09, 4968.95it/s]\u001b[A\n",
            " 72%|███████▏  | 119363/166693 [00:22<00:09, 4904.55it/s]\u001b[A\n",
            " 72%|███████▏  | 119855/166693 [00:22<00:09, 4846.81it/s]\u001b[A\n",
            " 72%|███████▏  | 120368/166693 [00:22<00:09, 4926.93it/s]\u001b[A\n",
            " 73%|███████▎  | 120883/166693 [00:22<00:09, 4991.27it/s]\u001b[A\n",
            " 73%|███████▎  | 121395/166693 [00:22<00:09, 5027.93it/s]\u001b[A\n",
            " 73%|███████▎  | 121899/166693 [00:22<00:08, 5001.42it/s]\u001b[A\n",
            " 73%|███████▎  | 122410/166693 [00:22<00:08, 5030.61it/s]\u001b[A\n",
            " 74%|███████▎  | 122914/166693 [00:23<00:08, 4927.97it/s]\u001b[A\n",
            " 74%|███████▍  | 123408/166693 [00:23<00:08, 4814.09it/s]\u001b[A\n",
            " 74%|███████▍  | 123903/166693 [00:23<00:08, 4851.70it/s]\u001b[A\n",
            " 75%|███████▍  | 124390/166693 [00:23<00:08, 4856.34it/s]\u001b[A\n",
            " 75%|███████▍  | 124890/166693 [00:23<00:08, 4898.12it/s]\u001b[A\n",
            " 75%|███████▌  | 125399/166693 [00:23<00:08, 4953.90it/s]\u001b[A\n",
            " 76%|███████▌  | 125898/166693 [00:23<00:08, 4962.78it/s]\u001b[A\n",
            " 76%|███████▌  | 126411/166693 [00:23<00:08, 5010.75it/s]\u001b[A\n",
            " 76%|███████▌  | 126913/166693 [00:23<00:08, 4959.53it/s]\u001b[A\n",
            " 76%|███████▋  | 127422/166693 [00:24<00:07, 4995.53it/s]\u001b[A\n",
            " 77%|███████▋  | 127922/166693 [00:24<00:07, 4933.78it/s]\u001b[A\n",
            " 77%|███████▋  | 128418/166693 [00:24<00:07, 4940.80it/s]\u001b[A\n",
            " 77%|███████▋  | 128928/166693 [00:24<00:07, 4985.90it/s]\u001b[A\n",
            " 78%|███████▊  | 129453/166693 [00:24<00:07, 5060.36it/s]\u001b[A\n",
            " 78%|███████▊  | 129961/166693 [00:24<00:07, 5065.84it/s]\u001b[A\n",
            " 78%|███████▊  | 130468/166693 [00:24<00:07, 4996.30it/s]\u001b[A\n",
            " 79%|███████▊  | 130969/166693 [00:24<00:07, 4913.60it/s]\u001b[A\n",
            " 79%|███████▉  | 131463/166693 [00:24<00:07, 4918.82it/s]\u001b[A\n",
            " 79%|███████▉  | 131956/166693 [00:24<00:07, 4810.99it/s]\u001b[A\n",
            " 79%|███████▉  | 132438/166693 [00:25<00:07, 4798.16it/s]\u001b[A\n",
            " 80%|███████▉  | 132922/166693 [00:25<00:07, 4808.45it/s]\u001b[A\n",
            " 80%|████████  | 133424/166693 [00:25<00:06, 4868.58it/s]\u001b[A\n",
            " 80%|████████  | 133921/166693 [00:25<00:06, 4896.06it/s]\u001b[A\n",
            " 81%|████████  | 134424/166693 [00:25<00:06, 4935.12it/s]\u001b[A\n",
            " 81%|████████  | 134918/166693 [00:25<00:06, 4882.32it/s]\u001b[A\n",
            " 81%|████████  | 135407/166693 [00:25<00:06, 4876.09it/s]\u001b[A\n",
            " 82%|████████▏ | 135919/166693 [00:25<00:06, 4946.02it/s]\u001b[A\n",
            " 82%|████████▏ | 136422/166693 [00:25<00:06, 4969.44it/s]\u001b[A\n",
            " 82%|████████▏ | 136920/166693 [00:25<00:06, 4857.47it/s]\u001b[A\n",
            " 82%|████████▏ | 137438/166693 [00:26<00:05, 4949.49it/s]\u001b[A\n",
            " 83%|████████▎ | 137971/166693 [00:26<00:05, 5057.22it/s]\u001b[A\n",
            " 83%|████████▎ | 138488/166693 [00:26<00:05, 5088.38it/s]\u001b[A\n",
            " 83%|████████▎ | 138998/166693 [00:26<00:05, 4965.52it/s]\u001b[A\n",
            " 84%|████████▎ | 139496/166693 [00:26<00:05, 4942.36it/s]\u001b[A\n",
            " 84%|████████▍ | 139999/166693 [00:26<00:05, 4968.28it/s]\u001b[A\n",
            " 84%|████████▍ | 140497/166693 [00:26<00:05, 4966.13it/s]\u001b[A\n",
            " 85%|████████▍ | 141007/166693 [00:26<00:05, 5003.30it/s]\u001b[A\n",
            " 85%|████████▍ | 141528/166693 [00:26<00:04, 5061.45it/s]\u001b[A\n",
            " 85%|████████▌ | 142035/166693 [00:26<00:05, 4883.90it/s]\u001b[A\n",
            " 86%|████████▌ | 142526/166693 [00:27<00:04, 4866.02it/s]\u001b[A\n",
            " 86%|████████▌ | 143049/166693 [00:27<00:04, 4968.04it/s]\u001b[A\n",
            " 86%|████████▌ | 143548/166693 [00:27<00:04, 4925.97it/s]\u001b[A\n",
            " 86%|████████▋ | 144064/166693 [00:27<00:04, 4993.57it/s]\u001b[A\n",
            " 87%|████████▋ | 144565/166693 [00:27<00:04, 4997.67it/s]\u001b[A\n",
            " 87%|████████▋ | 145081/166693 [00:27<00:04, 5044.76it/s]\u001b[A\n",
            " 87%|████████▋ | 145596/166693 [00:27<00:04, 5072.92it/s]\u001b[A\n",
            " 88%|████████▊ | 146104/166693 [00:27<00:04, 4986.04it/s]\u001b[A\n",
            " 88%|████████▊ | 146604/166693 [00:27<00:04, 4937.68it/s]\u001b[A\n",
            " 88%|████████▊ | 147099/166693 [00:27<00:03, 4912.13it/s]\u001b[A\n",
            " 89%|████████▊ | 147654/166693 [00:28<00:03, 5086.93it/s]\u001b[A\n",
            " 89%|████████▉ | 148247/166693 [00:28<00:03, 5312.46it/s]\u001b[A\n",
            " 89%|████████▉ | 148811/166693 [00:28<00:03, 5405.49it/s]\u001b[A\n",
            " 90%|████████▉ | 149391/166693 [00:28<00:03, 5516.02it/s]\u001b[A\n",
            " 90%|████████▉ | 149946/166693 [00:28<00:03, 5481.32it/s]\u001b[A\n",
            " 90%|█████████ | 150513/166693 [00:28<00:02, 5536.37it/s]\u001b[A\n",
            " 91%|█████████ | 151102/166693 [00:28<00:02, 5637.72it/s]\u001b[A\n",
            " 91%|█████████ | 151696/166693 [00:28<00:02, 5725.00it/s]\u001b[A\n",
            " 91%|█████████▏| 152298/166693 [00:28<00:02, 5806.95it/s]\u001b[A\n",
            " 92%|█████████▏| 152880/166693 [00:28<00:02, 5599.64it/s]\u001b[A\n",
            " 92%|█████████▏| 153443/166693 [00:29<00:02, 5564.09it/s]\u001b[A\n",
            " 92%|█████████▏| 154002/166693 [00:29<00:02, 5493.25it/s]\u001b[A\n",
            " 93%|█████████▎| 154592/166693 [00:29<00:02, 5607.16it/s]\u001b[A\n",
            " 93%|█████████▎| 155191/166693 [00:29<00:02, 5716.16it/s]\u001b[A\n",
            " 93%|█████████▎| 155766/166693 [00:29<00:01, 5725.07it/s]\u001b[A\n",
            " 94%|█████████▍| 156340/166693 [00:29<00:01, 5727.39it/s]\u001b[A\n",
            " 94%|█████████▍| 156914/166693 [00:29<00:01, 5702.31it/s]\u001b[A\n",
            " 94%|█████████▍| 157514/166693 [00:29<00:01, 5787.51it/s]\u001b[A\n",
            " 95%|█████████▍| 158094/166693 [00:29<00:01, 5787.38it/s]\u001b[A\n",
            " 95%|█████████▌| 158674/166693 [00:30<00:01, 5721.37it/s]\u001b[A\n",
            " 96%|█████████▌| 159258/166693 [00:30<00:01, 5754.76it/s]\u001b[A\n",
            " 96%|█████████▌| 159838/166693 [00:30<00:01, 5767.85it/s]\u001b[A\n",
            " 96%|█████████▌| 160416/166693 [00:30<00:01, 5685.55it/s]\u001b[A\n",
            " 97%|█████████▋| 161006/166693 [00:30<00:00, 5746.14it/s]\u001b[A\n",
            " 97%|█████████▋| 161582/166693 [00:30<00:00, 5701.55it/s]\u001b[A\n",
            " 97%|█████████▋| 162173/166693 [00:30<00:00, 5762.41it/s]\u001b[A\n",
            " 98%|█████████▊| 162777/166693 [00:30<00:00, 5841.68it/s]\u001b[A\n",
            " 98%|█████████▊| 163380/166693 [00:30<00:00, 5893.74it/s]\u001b[A\n",
            " 98%|█████████▊| 163970/166693 [00:30<00:00, 5626.09it/s]\u001b[A\n",
            " 99%|█████████▊| 164536/166693 [00:31<00:00, 5521.72it/s]\u001b[A\n",
            " 99%|█████████▉| 165124/166693 [00:31<00:00, 5616.76it/s]\u001b[A\n",
            " 99%|█████████▉| 165718/166693 [00:31<00:00, 5708.00it/s]\u001b[A\n",
            "100%|██████████| 166693/166693 [00:31<00:00, 5305.03it/s]\n"
          ],
          "name": "stderr"
        }
      ]
    },
    {
      "cell_type": "code",
      "metadata": {
        "id": "D3gp5t6lL4Ae"
      },
      "source": [
        "pd.set_option(\"max_colwidth\", -1)\n",
        "\n",
        "original_train_df_length = len(train_df)\n",
        "train_df = train_df[train_df['search_term_tokens'].notnull()]\n",
        "len(train_df)/original_train_df_length"
      ],
      "execution_count": null,
      "outputs": []
    },
    {
      "cell_type": "code",
      "metadata": {
        "colab": {
          "base_uri": "https://localhost:8080/",
          "height": 193
        },
        "id": "f3eVXii3JfNI",
        "outputId": "9a1c8ce1-6754-46bc-8e00-91708a368a9a"
      },
      "source": [
        "train_df.sample(3)"
      ],
      "execution_count": 50,
      "outputs": [
        {
          "output_type": "execute_result",
          "data": {
            "text/html": [
              "<div>\n",
              "<style scoped>\n",
              "    .dataframe tbody tr th:only-of-type {\n",
              "        vertical-align: middle;\n",
              "    }\n",
              "\n",
              "    .dataframe tbody tr th {\n",
              "        vertical-align: top;\n",
              "    }\n",
              "\n",
              "    .dataframe thead th {\n",
              "        text-align: right;\n",
              "    }\n",
              "</style>\n",
              "<table border=\"1\" class=\"dataframe\">\n",
              "  <thead>\n",
              "    <tr style=\"text-align: right;\">\n",
              "      <th></th>\n",
              "      <th>id</th>\n",
              "      <th>product_uid</th>\n",
              "      <th>product_title</th>\n",
              "      <th>search_term</th>\n",
              "      <th>relevance</th>\n",
              "      <th>my_relevance</th>\n",
              "      <th>my_relevance2</th>\n",
              "      <th>product_title_tokens</th>\n",
              "      <th>search_term_tokens</th>\n",
              "    </tr>\n",
              "  </thead>\n",
              "  <tbody>\n",
              "    <tr>\n",
              "      <th>58288</th>\n",
              "      <td>176171</td>\n",
              "      <td>171947</td>\n",
              "      <td>GE 6.6 cu. ft. Double Oven Electric Range with...</td>\n",
              "      <td>stainless steel electric range and microwave</td>\n",
              "      <td>2.67</td>\n",
              "      <td>0.835</td>\n",
              "      <td>2.67</td>\n",
              "      <td>[ge, #.#, cu, ft., doubl, oven, electr, rang, ...</td>\n",
              "      <td>[stainless, steel, electr, rang, microwav]</td>\n",
              "    </tr>\n",
              "    <tr>\n",
              "      <th>51449</th>\n",
              "      <td>156266</td>\n",
              "      <td>159633</td>\n",
              "      <td>Elkay Lustertone Top Mount Stainless Steel 15 ...</td>\n",
              "      <td>elkay bar sink</td>\n",
              "      <td>3.00</td>\n",
              "      <td>1.000</td>\n",
              "      <td>3.00</td>\n",
              "      <td>[elkay, lusterton, top, mount, stainless, stee...</td>\n",
              "      <td>[elkay, bar, sink]</td>\n",
              "    </tr>\n",
              "    <tr>\n",
              "      <th>14509</th>\n",
              "      <td>44793</td>\n",
              "      <td>111005</td>\n",
              "      <td>LEXAN Thermoclear 48 in. x 96 in. x 1/4 in. Cl...</td>\n",
              "      <td>plasticl panels</td>\n",
              "      <td>2.00</td>\n",
              "      <td>0.500</td>\n",
              "      <td>2.00</td>\n",
              "      <td>[lexan, thermoclear, ##, x, ##, x, #, #, clear...</td>\n",
              "      <td>[plasticl, panel]</td>\n",
              "    </tr>\n",
              "  </tbody>\n",
              "</table>\n",
              "</div>"
            ],
            "text/plain": [
              "           id  ...                          search_term_tokens\n",
              "58288  176171  ...  [stainless, steel, electr, rang, microwav]\n",
              "51449  156266  ...                          [elkay, bar, sink]\n",
              "14509   44793  ...                           [plasticl, panel]\n",
              "\n",
              "[3 rows x 9 columns]"
            ]
          },
          "metadata": {
            "tags": []
          },
          "execution_count": 50
        }
      ]
    },
    {
      "cell_type": "code",
      "metadata": {
        "colab": {
          "base_uri": "https://localhost:8080/"
        },
        "id": "avWAdjfoKyoi",
        "outputId": "9ac603b2-e147-4fc5-e913-045f1be3819f"
      },
      "source": [
        "all_words = [word for words in train_df['search_term_tokens'].tolist() for word in words]\n",
        "all_words.extend([word for words in train_df['product_title_tokens'].tolist() for word in words])\n"
      ],
      "execution_count": 79,
      "outputs": [
        {
          "output_type": "execute_result",
          "data": {
            "text/plain": [
              "(10328, 1055648)"
            ]
          },
          "metadata": {
            "tags": []
          },
          "execution_count": 79
        }
      ]
    },
    {
      "cell_type": "code",
      "metadata": {
        "id": "aoNQJXA_NcFN"
      },
      "source": [
        "WORD_REPLACE_MENT = '<word>'\n",
        "PAD_WORD = \"<pad>\""
      ],
      "execution_count": 80,
      "outputs": []
    },
    {
      "cell_type": "code",
      "metadata": {
        "id": "KyjfyQmxMA28"
      },
      "source": [
        "# from collections import Counter\n",
        "# sentenses = train_df['search_term_tokens'].tolist()\n",
        "# sentenses.extend(train_df['product_title_tokens'].tolist())\n",
        "counts = Counter(all_words)\n"
      ],
      "execution_count": 67,
      "outputs": []
    },
    {
      "cell_type": "code",
      "metadata": {
        "id": "Q0DjFymeMqeK"
      },
      "source": [
        "MIN_WORD_COUNT = 3"
      ],
      "execution_count": 72,
      "outputs": []
    },
    {
      "cell_type": "code",
      "metadata": {
        "colab": {
          "base_uri": "https://localhost:8080/"
        },
        "id": "-MnkT1xzONVQ",
        "outputId": "5326fbfb-ca8d-4b18-b532-6f655068c854"
      },
      "source": [
        "vocab_words = set(all_words)\n",
        "vocab_size_before_threshold = len(vocab_words)\n",
        "vocab_words = {word for word in vocab_words if counts[word] >= MIN_WORD_COUNT}\n",
        "vocab_size_before_threshold, len(vocab_words), len(all_words)"
      ],
      "execution_count": 82,
      "outputs": [
        {
          "output_type": "execute_result",
          "data": {
            "text/plain": [
              "(10328, 10327, 1055648)"
            ]
          },
          "metadata": {
            "tags": []
          },
          "execution_count": 82
        }
      ]
    },
    {
      "cell_type": "code",
      "metadata": {
        "colab": {
          "base_uri": "https://localhost:8080/"
        },
        "id": "xYRLs4MfNRpz",
        "outputId": "e0210c76-55ce-40c8-f2d2-9cb0b27dff43"
      },
      "source": [
        "train_df['product_title_tokens'] = train_df['product_title_tokens'].progress_apply(lambda words: [word if counts[word] >= MIN_WORD_COUNT else WORD_REPLACE_MENT for word in words])"
      ],
      "execution_count": 73,
      "outputs": [
        {
          "output_type": "stream",
          "text": [
            "\n",
            "  0%|          | 0/74047 [00:00<?, ?it/s]\u001b[A\n",
            " 28%|██▊       | 20367/74047 [00:00<00:00, 203664.37it/s]\u001b[A\n",
            " 53%|█████▎    | 38994/74047 [00:00<00:00, 198112.65it/s]\u001b[A\n",
            " 76%|███████▋  | 56466/74047 [00:00<00:00, 190460.82it/s]\u001b[A\n",
            "100%|██████████| 74047/74047 [00:00<00:00, 116211.52it/s]\n"
          ],
          "name": "stderr"
        }
      ]
    },
    {
      "cell_type": "code",
      "metadata": {
        "colab": {
          "base_uri": "https://localhost:8080/"
        },
        "id": "wlitDkeYNk0u",
        "outputId": "4135986a-6100-470b-d80c-9fe47a89c9de"
      },
      "source": [
        "train_df['search_term_tokens'] = train_df['search_term_tokens'].progress_apply(lambda words: [word if counts[word] >= MIN_WORD_COUNT else WORD_REPLACE_MENT for word in words])"
      ],
      "execution_count": 76,
      "outputs": [
        {
          "output_type": "stream",
          "text": [
            "\n",
            "  0%|          | 0/74047 [00:00<?, ?it/s]\u001b[A\n",
            "100%|██████████| 74047/74047 [00:00<00:00, 428675.82it/s]\n"
          ],
          "name": "stderr"
        }
      ]
    },
    {
      "cell_type": "code",
      "metadata": {
        "id": "k_abuT7Gj3Ag",
        "outputId": "f136ce9d-eb63-4994-d888-88f2a2fade76",
        "colab": {
          "base_uri": "https://localhost:8080/",
          "height": 494
        }
      },
      "source": [
        "test_df['product_title_tokens'] = test_df['product_title_tokens'].progress_apply(lambda words: [word if counts[word] >= MIN_WORD_COUNT else WORD_REPLACE_MENT for word in words])\n",
        "test_df['search_term_tokens'] = test_df['search_term_tokens'].progress_apply(lambda words: [word if counts[word] >= MIN_WORD_COUNT else WORD_REPLACE_MENT for word in words])"
      ],
      "execution_count": 198,
      "outputs": [
        {
          "output_type": "stream",
          "text": [
            "\n",
            "  0%|          | 0/166693 [00:00<?, ?it/s]\u001b[A\n",
            " 13%|█▎        | 22453/166693 [00:00<00:00, 224529.68it/s]\u001b[A\n",
            " 27%|██▋       | 45436/166693 [00:00<00:00, 226092.24it/s]\u001b[A\n",
            " 34%|███▍      | 57046/166693 [00:00<00:01, 79816.21it/s] \u001b[A\n",
            " 48%|████▊     | 80205/166693 [00:00<00:00, 99348.57it/s]\u001b[A\n",
            " 61%|██████    | 101667/166693 [00:00<00:00, 118431.06it/s]\u001b[A\n",
            " 75%|███████▍  | 124320/166693 [00:00<00:00, 138216.67it/s]\u001b[A\n",
            "100%|██████████| 166693/166693 [00:01<00:00, 158140.07it/s]\n",
            "\n",
            "  0%|          | 0/166693 [00:00<?, ?it/s]\u001b[A"
          ],
          "name": "stderr"
        },
        {
          "output_type": "error",
          "ename": "TypeError",
          "evalue": "ignored",
          "traceback": [
            "\u001b[0;31m---------------------------------------------------------------------------\u001b[0m",
            "\u001b[0;31mTypeError\u001b[0m                                 Traceback (most recent call last)",
            "\u001b[0;32m<ipython-input-198-8c9c5d70cdf7>\u001b[0m in \u001b[0;36m<module>\u001b[0;34m()\u001b[0m\n\u001b[1;32m      1\u001b[0m \u001b[0mtest_df\u001b[0m\u001b[0;34m[\u001b[0m\u001b[0;34m'product_title_tokens'\u001b[0m\u001b[0;34m]\u001b[0m \u001b[0;34m=\u001b[0m \u001b[0mtest_df\u001b[0m\u001b[0;34m[\u001b[0m\u001b[0;34m'product_title_tokens'\u001b[0m\u001b[0;34m]\u001b[0m\u001b[0;34m.\u001b[0m\u001b[0mprogress_apply\u001b[0m\u001b[0;34m(\u001b[0m\u001b[0;32mlambda\u001b[0m \u001b[0mwords\u001b[0m\u001b[0;34m:\u001b[0m \u001b[0;34m[\u001b[0m\u001b[0mword\u001b[0m \u001b[0;32mif\u001b[0m \u001b[0mcounts\u001b[0m\u001b[0;34m[\u001b[0m\u001b[0mword\u001b[0m\u001b[0;34m]\u001b[0m \u001b[0;34m>=\u001b[0m \u001b[0mMIN_WORD_COUNT\u001b[0m \u001b[0;32melse\u001b[0m \u001b[0mWORD_REPLACE_MENT\u001b[0m \u001b[0;32mfor\u001b[0m \u001b[0mword\u001b[0m \u001b[0;32min\u001b[0m \u001b[0mwords\u001b[0m\u001b[0;34m]\u001b[0m\u001b[0;34m)\u001b[0m\u001b[0;34m\u001b[0m\u001b[0;34m\u001b[0m\u001b[0m\n\u001b[0;32m----> 2\u001b[0;31m \u001b[0mtest_df\u001b[0m\u001b[0;34m[\u001b[0m\u001b[0;34m'search_term_tokens'\u001b[0m\u001b[0;34m]\u001b[0m \u001b[0;34m=\u001b[0m \u001b[0mtest_df\u001b[0m\u001b[0;34m[\u001b[0m\u001b[0;34m'search_term_tokens'\u001b[0m\u001b[0;34m]\u001b[0m\u001b[0;34m.\u001b[0m\u001b[0mprogress_apply\u001b[0m\u001b[0;34m(\u001b[0m\u001b[0;32mlambda\u001b[0m \u001b[0mwords\u001b[0m\u001b[0;34m:\u001b[0m \u001b[0;34m[\u001b[0m\u001b[0mword\u001b[0m \u001b[0;32mif\u001b[0m \u001b[0mcounts\u001b[0m\u001b[0;34m[\u001b[0m\u001b[0mword\u001b[0m\u001b[0;34m]\u001b[0m \u001b[0;34m>=\u001b[0m \u001b[0mMIN_WORD_COUNT\u001b[0m \u001b[0;32melse\u001b[0m \u001b[0mWORD_REPLACE_MENT\u001b[0m \u001b[0;32mfor\u001b[0m \u001b[0mword\u001b[0m \u001b[0;32min\u001b[0m \u001b[0mwords\u001b[0m\u001b[0;34m]\u001b[0m\u001b[0;34m)\u001b[0m\u001b[0;34m\u001b[0m\u001b[0;34m\u001b[0m\u001b[0m\n\u001b[0m",
            "\u001b[0;32m/usr/local/lib/python3.7/dist-packages/tqdm/std.py\u001b[0m in \u001b[0;36minner\u001b[0;34m(df, func, *args, **kwargs)\u001b[0m\n\u001b[1;32m    751\u001b[0m                 \u001b[0;31m# Apply the provided function (in **kwargs)\u001b[0m\u001b[0;34m\u001b[0m\u001b[0;34m\u001b[0m\u001b[0;34m\u001b[0m\u001b[0m\n\u001b[1;32m    752\u001b[0m                 \u001b[0;31m# on the df using our wrapper (which provides bar updating)\u001b[0m\u001b[0;34m\u001b[0m\u001b[0;34m\u001b[0m\u001b[0;34m\u001b[0m\u001b[0m\n\u001b[0;32m--> 753\u001b[0;31m                 \u001b[0mresult\u001b[0m \u001b[0;34m=\u001b[0m \u001b[0mgetattr\u001b[0m\u001b[0;34m(\u001b[0m\u001b[0mdf\u001b[0m\u001b[0;34m,\u001b[0m \u001b[0mdf_function\u001b[0m\u001b[0;34m)\u001b[0m\u001b[0;34m(\u001b[0m\u001b[0mwrapper\u001b[0m\u001b[0;34m,\u001b[0m \u001b[0;34m**\u001b[0m\u001b[0mkwargs\u001b[0m\u001b[0;34m)\u001b[0m\u001b[0;34m\u001b[0m\u001b[0;34m\u001b[0m\u001b[0m\n\u001b[0m\u001b[1;32m    754\u001b[0m \u001b[0;34m\u001b[0m\u001b[0m\n\u001b[1;32m    755\u001b[0m                 \u001b[0;31m# Close bar and return pandas calculation result\u001b[0m\u001b[0;34m\u001b[0m\u001b[0;34m\u001b[0m\u001b[0;34m\u001b[0m\u001b[0m\n",
            "\u001b[0;32m/usr/local/lib/python3.7/dist-packages/pandas/core/series.py\u001b[0m in \u001b[0;36mapply\u001b[0;34m(self, func, convert_dtype, args, **kwds)\u001b[0m\n\u001b[1;32m   4211\u001b[0m             \u001b[0;32melse\u001b[0m\u001b[0;34m:\u001b[0m\u001b[0;34m\u001b[0m\u001b[0;34m\u001b[0m\u001b[0m\n\u001b[1;32m   4212\u001b[0m                 \u001b[0mvalues\u001b[0m \u001b[0;34m=\u001b[0m \u001b[0mself\u001b[0m\u001b[0;34m.\u001b[0m\u001b[0mastype\u001b[0m\u001b[0;34m(\u001b[0m\u001b[0mobject\u001b[0m\u001b[0;34m)\u001b[0m\u001b[0;34m.\u001b[0m\u001b[0m_values\u001b[0m\u001b[0;34m\u001b[0m\u001b[0;34m\u001b[0m\u001b[0m\n\u001b[0;32m-> 4213\u001b[0;31m                 \u001b[0mmapped\u001b[0m \u001b[0;34m=\u001b[0m \u001b[0mlib\u001b[0m\u001b[0;34m.\u001b[0m\u001b[0mmap_infer\u001b[0m\u001b[0;34m(\u001b[0m\u001b[0mvalues\u001b[0m\u001b[0;34m,\u001b[0m \u001b[0mf\u001b[0m\u001b[0;34m,\u001b[0m \u001b[0mconvert\u001b[0m\u001b[0;34m=\u001b[0m\u001b[0mconvert_dtype\u001b[0m\u001b[0;34m)\u001b[0m\u001b[0;34m\u001b[0m\u001b[0;34m\u001b[0m\u001b[0m\n\u001b[0m\u001b[1;32m   4214\u001b[0m \u001b[0;34m\u001b[0m\u001b[0m\n\u001b[1;32m   4215\u001b[0m         \u001b[0;32mif\u001b[0m \u001b[0mlen\u001b[0m\u001b[0;34m(\u001b[0m\u001b[0mmapped\u001b[0m\u001b[0;34m)\u001b[0m \u001b[0;32mand\u001b[0m \u001b[0misinstance\u001b[0m\u001b[0;34m(\u001b[0m\u001b[0mmapped\u001b[0m\u001b[0;34m[\u001b[0m\u001b[0;36m0\u001b[0m\u001b[0;34m]\u001b[0m\u001b[0;34m,\u001b[0m \u001b[0mSeries\u001b[0m\u001b[0;34m)\u001b[0m\u001b[0;34m:\u001b[0m\u001b[0;34m\u001b[0m\u001b[0;34m\u001b[0m\u001b[0m\n",
            "\u001b[0;32mpandas/_libs/lib.pyx\u001b[0m in \u001b[0;36mpandas._libs.lib.map_infer\u001b[0;34m()\u001b[0m\n",
            "\u001b[0;32m/usr/local/lib/python3.7/dist-packages/tqdm/std.py\u001b[0m in \u001b[0;36mwrapper\u001b[0;34m(*args, **kwargs)\u001b[0m\n\u001b[1;32m    747\u001b[0m                     \u001b[0;31m# take a fast or slow code path; so stop when t.total==t.n\u001b[0m\u001b[0;34m\u001b[0m\u001b[0;34m\u001b[0m\u001b[0;34m\u001b[0m\u001b[0m\n\u001b[1;32m    748\u001b[0m                     \u001b[0mt\u001b[0m\u001b[0;34m.\u001b[0m\u001b[0mupdate\u001b[0m\u001b[0;34m(\u001b[0m\u001b[0mn\u001b[0m\u001b[0;34m=\u001b[0m\u001b[0;36m1\u001b[0m \u001b[0;32mif\u001b[0m \u001b[0;32mnot\u001b[0m \u001b[0mt\u001b[0m\u001b[0;34m.\u001b[0m\u001b[0mtotal\u001b[0m \u001b[0;32mor\u001b[0m \u001b[0mt\u001b[0m\u001b[0;34m.\u001b[0m\u001b[0mn\u001b[0m \u001b[0;34m<\u001b[0m \u001b[0mt\u001b[0m\u001b[0;34m.\u001b[0m\u001b[0mtotal\u001b[0m \u001b[0;32melse\u001b[0m \u001b[0;36m0\u001b[0m\u001b[0;34m)\u001b[0m\u001b[0;34m\u001b[0m\u001b[0;34m\u001b[0m\u001b[0m\n\u001b[0;32m--> 749\u001b[0;31m                     \u001b[0;32mreturn\u001b[0m \u001b[0mfunc\u001b[0m\u001b[0;34m(\u001b[0m\u001b[0;34m*\u001b[0m\u001b[0margs\u001b[0m\u001b[0;34m,\u001b[0m \u001b[0;34m**\u001b[0m\u001b[0mkwargs\u001b[0m\u001b[0;34m)\u001b[0m\u001b[0;34m\u001b[0m\u001b[0;34m\u001b[0m\u001b[0m\n\u001b[0m\u001b[1;32m    750\u001b[0m \u001b[0;34m\u001b[0m\u001b[0m\n\u001b[1;32m    751\u001b[0m                 \u001b[0;31m# Apply the provided function (in **kwargs)\u001b[0m\u001b[0;34m\u001b[0m\u001b[0;34m\u001b[0m\u001b[0;34m\u001b[0m\u001b[0m\n",
            "\u001b[0;32m<ipython-input-198-8c9c5d70cdf7>\u001b[0m in \u001b[0;36m<lambda>\u001b[0;34m(words)\u001b[0m\n\u001b[1;32m      1\u001b[0m \u001b[0mtest_df\u001b[0m\u001b[0;34m[\u001b[0m\u001b[0;34m'product_title_tokens'\u001b[0m\u001b[0;34m]\u001b[0m \u001b[0;34m=\u001b[0m \u001b[0mtest_df\u001b[0m\u001b[0;34m[\u001b[0m\u001b[0;34m'product_title_tokens'\u001b[0m\u001b[0;34m]\u001b[0m\u001b[0;34m.\u001b[0m\u001b[0mprogress_apply\u001b[0m\u001b[0;34m(\u001b[0m\u001b[0;32mlambda\u001b[0m \u001b[0mwords\u001b[0m\u001b[0;34m:\u001b[0m \u001b[0;34m[\u001b[0m\u001b[0mword\u001b[0m \u001b[0;32mif\u001b[0m \u001b[0mcounts\u001b[0m\u001b[0;34m[\u001b[0m\u001b[0mword\u001b[0m\u001b[0;34m]\u001b[0m \u001b[0;34m>=\u001b[0m \u001b[0mMIN_WORD_COUNT\u001b[0m \u001b[0;32melse\u001b[0m \u001b[0mWORD_REPLACE_MENT\u001b[0m \u001b[0;32mfor\u001b[0m \u001b[0mword\u001b[0m \u001b[0;32min\u001b[0m \u001b[0mwords\u001b[0m\u001b[0;34m]\u001b[0m\u001b[0;34m)\u001b[0m\u001b[0;34m\u001b[0m\u001b[0;34m\u001b[0m\u001b[0m\n\u001b[0;32m----> 2\u001b[0;31m \u001b[0mtest_df\u001b[0m\u001b[0;34m[\u001b[0m\u001b[0;34m'search_term_tokens'\u001b[0m\u001b[0;34m]\u001b[0m \u001b[0;34m=\u001b[0m \u001b[0mtest_df\u001b[0m\u001b[0;34m[\u001b[0m\u001b[0;34m'search_term_tokens'\u001b[0m\u001b[0;34m]\u001b[0m\u001b[0;34m.\u001b[0m\u001b[0mprogress_apply\u001b[0m\u001b[0;34m(\u001b[0m\u001b[0;32mlambda\u001b[0m \u001b[0mwords\u001b[0m\u001b[0;34m:\u001b[0m \u001b[0;34m[\u001b[0m\u001b[0mword\u001b[0m \u001b[0;32mif\u001b[0m \u001b[0mcounts\u001b[0m\u001b[0;34m[\u001b[0m\u001b[0mword\u001b[0m\u001b[0;34m]\u001b[0m \u001b[0;34m>=\u001b[0m \u001b[0mMIN_WORD_COUNT\u001b[0m \u001b[0;32melse\u001b[0m \u001b[0mWORD_REPLACE_MENT\u001b[0m \u001b[0;32mfor\u001b[0m \u001b[0mword\u001b[0m \u001b[0;32min\u001b[0m \u001b[0mwords\u001b[0m\u001b[0;34m]\u001b[0m\u001b[0;34m)\u001b[0m\u001b[0;34m\u001b[0m\u001b[0;34m\u001b[0m\u001b[0m\n\u001b[0m",
            "\u001b[0;31mTypeError\u001b[0m: 'NoneType' object is not iterable"
          ]
        }
      ]
    },
    {
      "cell_type": "code",
      "metadata": {
        "colab": {
          "base_uri": "https://localhost:8080/",
          "height": 49
        },
        "id": "BV7N4GDYNt70",
        "outputId": "ed0a7d03-2c87-4a3e-c474-6493aa75b9f1"
      },
      "source": [
        "train_df[train_df['product_title_tokens'].map(len) == 0]"
      ],
      "execution_count": 77,
      "outputs": [
        {
          "output_type": "execute_result",
          "data": {
            "text/html": [
              "<div>\n",
              "<style scoped>\n",
              "    .dataframe tbody tr th:only-of-type {\n",
              "        vertical-align: middle;\n",
              "    }\n",
              "\n",
              "    .dataframe tbody tr th {\n",
              "        vertical-align: top;\n",
              "    }\n",
              "\n",
              "    .dataframe thead th {\n",
              "        text-align: right;\n",
              "    }\n",
              "</style>\n",
              "<table border=\"1\" class=\"dataframe\">\n",
              "  <thead>\n",
              "    <tr style=\"text-align: right;\">\n",
              "      <th></th>\n",
              "      <th>id</th>\n",
              "      <th>product_uid</th>\n",
              "      <th>product_title</th>\n",
              "      <th>search_term</th>\n",
              "      <th>relevance</th>\n",
              "      <th>my_relevance</th>\n",
              "      <th>my_relevance2</th>\n",
              "      <th>product_title_tokens</th>\n",
              "      <th>search_term_tokens</th>\n",
              "    </tr>\n",
              "  </thead>\n",
              "  <tbody>\n",
              "  </tbody>\n",
              "</table>\n",
              "</div>"
            ],
            "text/plain": [
              "Empty DataFrame\n",
              "Columns: [id, product_uid, product_title, search_term, relevance, my_relevance, my_relevance2, product_title_tokens, search_term_tokens]\n",
              "Index: []"
            ]
          },
          "metadata": {
            "tags": []
          },
          "execution_count": 77
        }
      ]
    },
    {
      "cell_type": "code",
      "metadata": {
        "colab": {
          "base_uri": "https://localhost:8080/",
          "height": 49
        },
        "id": "9-RIhiikNx0N",
        "outputId": "ca936fff-10bf-4bf4-ad12-62db81096fb2"
      },
      "source": [
        "train_df[train_df['search_term_tokens'].map(len) == 0]"
      ],
      "execution_count": 78,
      "outputs": [
        {
          "output_type": "execute_result",
          "data": {
            "text/html": [
              "<div>\n",
              "<style scoped>\n",
              "    .dataframe tbody tr th:only-of-type {\n",
              "        vertical-align: middle;\n",
              "    }\n",
              "\n",
              "    .dataframe tbody tr th {\n",
              "        vertical-align: top;\n",
              "    }\n",
              "\n",
              "    .dataframe thead th {\n",
              "        text-align: right;\n",
              "    }\n",
              "</style>\n",
              "<table border=\"1\" class=\"dataframe\">\n",
              "  <thead>\n",
              "    <tr style=\"text-align: right;\">\n",
              "      <th></th>\n",
              "      <th>id</th>\n",
              "      <th>product_uid</th>\n",
              "      <th>product_title</th>\n",
              "      <th>search_term</th>\n",
              "      <th>relevance</th>\n",
              "      <th>my_relevance</th>\n",
              "      <th>my_relevance2</th>\n",
              "      <th>product_title_tokens</th>\n",
              "      <th>search_term_tokens</th>\n",
              "    </tr>\n",
              "  </thead>\n",
              "  <tbody>\n",
              "  </tbody>\n",
              "</table>\n",
              "</div>"
            ],
            "text/plain": [
              "Empty DataFrame\n",
              "Columns: [id, product_uid, product_title, search_term, relevance, my_relevance, my_relevance2, product_title_tokens, search_term_tokens]\n",
              "Index: []"
            ]
          },
          "metadata": {
            "tags": []
          },
          "execution_count": 78
        }
      ]
    },
    {
      "cell_type": "code",
      "metadata": {
        "id": "jC-_3NcFN6vt"
      },
      "source": [
        "vocab = {word: index + 2 for (index, word) in enumerate(vocab_words)}\n",
        "vocab[PAD_WORD] = 0 \n",
        "vocab[WORD_REPLACE_MENT] = 1\n",
        "PAD_WORD_ID = vocab[PAD_WORD]"
      ],
      "execution_count": 113,
      "outputs": []
    },
    {
      "cell_type": "code",
      "metadata": {
        "colab": {
          "base_uri": "https://localhost:8080/",
          "height": 281
        },
        "id": "SGydTxu0O58b",
        "outputId": "f35d5951-e95d-4f18-e00d-e354aed4bc8a"
      },
      "source": [
        "import matplotlib.pyplot as plt\n",
        "\n",
        "search_term_lengths = train_df['search_term_tokens'].map(len).tolist()\n",
        "_ = plt.hist(search_term_lengths, bins='auto')  # arguments are passed to np.histogram\n",
        "plt.title(\"Search Term Lengths\")\n",
        "plt.show()"
      ],
      "execution_count": 85,
      "outputs": [
        {
          "output_type": "display_data",
          "data": {
            "image/png": "[encoded data removed]",
            "text/plain": [
              "<Figure size 432x288 with 1 Axes>"
            ]
          },
          "metadata": {
            "tags": [],
            "needs_background": "light"
          }
        }
      ]
    },
    {
      "cell_type": "code",
      "metadata": {
        "colab": {
          "base_uri": "https://localhost:8080/",
          "height": 281
        },
        "id": "hdCgrrWaPKyy",
        "outputId": "f77c7562-a13f-4406-ad4e-fec1eed286be"
      },
      "source": [
        "import matplotlib.pyplot as plt\n",
        "\n",
        "title_lengths = train_df['product_title_tokens'].map(len).tolist()\n",
        "_ = plt.hist(title_lengths, bins='auto')  # arguments are passed to np.histogram\n",
        "plt.title(\"Titles Lengths\")\n",
        "plt.show()"
      ],
      "execution_count": 86,
      "outputs": [
        {
          "output_type": "display_data",
          "data": {
            "image/png": "[encoded data removed]",
            "text/plain": [
              "<Figure size 432x288 with 1 Axes>"
            ]
          },
          "metadata": {
            "tags": [],
            "needs_background": "light"
          }
        }
      ]
    },
    {
      "cell_type": "code",
      "metadata": {
        "id": "935RIRNYPVmH"
      },
      "source": [
        "MAX_SEARCH_TERM_LENGTH = 5\n",
        "MAX_TITLE_LENGTH = 15"
      ],
      "execution_count": 87,
      "outputs": []
    },
    {
      "cell_type": "markdown",
      "metadata": {
        "id": "Zk7ITAnaPU7P"
      },
      "source": [
        ""
      ]
    },
    {
      "cell_type": "code",
      "metadata": {
        "id": "j8fGj-0COjWj"
      },
      "source": [
        "import random\n",
        "import time\n",
        "random.seed(int(time.time()))\n",
        "from torch.utils.data import Dataset,DataLoader\n",
        "import torch\n",
        "from torch import nn, utils\n",
        "import torch.nn.functional as F\n",
        "from torch.autograd import Variable \n",
        "from torch.optim.lr_scheduler import ReduceLROnPlateau\n",
        "\n",
        "import warnings\n",
        "warnings.filterwarnings('ignore')\n",
        "\n",
        "class DatasetLoader(Dataset):\n",
        "\n",
        "    def __init__(self, df, vocab):\n",
        "        self._df = df\n",
        "        self._vocab = vocab\n",
        "\n",
        "    def __len__(self):\n",
        "        return len(self._df)\n",
        "\n",
        "    def _fix_words(self, words_ids, required_size):\n",
        "        if len(words_ids) > required_size:\n",
        "            ids = np.random.choice(len(words_ids), required_size)\n",
        "            words_ids = words_ids[ids]\n",
        "        elif len(words_ids) < required_size:\n",
        "            b = np.zeros(required_size - len(words_ids), dtype=int)\n",
        "            words_ids = np.concatenate((words_ids, b), axis=None)\n",
        "\n",
        "        return words_ids\n",
        "\n",
        "    def __getitem__(self, idx):\n",
        "        row = self._df.iloc[idx]\n",
        "\n",
        "        search_term = np.array([self._vocab[w] for w in row['search_term_tokens']])\n",
        "        search_term_length = min(len(search_term), MAX_SEARCH_TERM_LENGTH)\n",
        "        search_term = self._fix_words(search_term, MAX_SEARCH_TERM_LENGTH)\n",
        "\n",
        "\n",
        "        product_title = np.array([self._vocab[w] for w in row['product_title_tokens']])\n",
        "        product_title_length = min(len(product_title), MAX_SEARCH_TERM_LENGTH)\n",
        "        product_title = self._fix_words(product_title, MAX_TITLE_LENGTH)\n",
        "\n",
        "   \n",
        "\n",
        "        return row['id'], search_term, search_term_length, product_title, product_title_length, row['my_relevance']\n",
        "    \n"
      ],
      "execution_count": 203,
      "outputs": []
    },
    {
      "cell_type": "code",
      "metadata": {
        "id": "NRSLuzN1kqe7",
        "outputId": "1487ff91-7346-4f30-cdbd-ae2ac4343697",
        "colab": {
          "base_uri": "https://localhost:8080/",
          "height": 80
        }
      },
      "source": [
        ""
      ],
      "execution_count": 202,
      "outputs": [
        {
          "output_type": "execute_result",
          "data": {
            "text/html": [
              "<div>\n",
              "<style scoped>\n",
              "    .dataframe tbody tr th:only-of-type {\n",
              "        vertical-align: middle;\n",
              "    }\n",
              "\n",
              "    .dataframe tbody tr th {\n",
              "        vertical-align: top;\n",
              "    }\n",
              "\n",
              "    .dataframe thead th {\n",
              "        text-align: right;\n",
              "    }\n",
              "</style>\n",
              "<table border=\"1\" class=\"dataframe\">\n",
              "  <thead>\n",
              "    <tr style=\"text-align: right;\">\n",
              "      <th></th>\n",
              "      <th>id</th>\n",
              "      <th>product_uid</th>\n",
              "      <th>product_title</th>\n",
              "      <th>search_term</th>\n",
              "      <th>relevance</th>\n",
              "      <th>my_relevance</th>\n",
              "      <th>my_relevance2</th>\n",
              "      <th>product_title_tokens</th>\n",
              "      <th>search_term_tokens</th>\n",
              "    </tr>\n",
              "  </thead>\n",
              "  <tbody>\n",
              "    <tr>\n",
              "      <th>41226</th>\n",
              "      <td>125601</td>\n",
              "      <td>143225</td>\n",
              "      <td>Bosch Fast Spiral Masonry Set (14-Piece)</td>\n",
              "      <td>concrete drill bits</td>\n",
              "      <td>2.67</td>\n",
              "      <td>0.835</td>\n",
              "      <td>2.67</td>\n",
              "      <td>[bosch, fast, spiral, masonri, set, ##, piec]</td>\n",
              "      <td>[concret, drill, bit]</td>\n",
              "    </tr>\n",
              "  </tbody>\n",
              "</table>\n",
              "</div>"
            ],
            "text/plain": [
              "           id  ...     search_term_tokens\n",
              "41226  125601  ...  [concret, drill, bit]\n",
              "\n",
              "[1 rows x 9 columns]"
            ]
          },
          "metadata": {
            "tags": []
          },
          "execution_count": 202
        }
      ]
    },
    {
      "cell_type": "code",
      "metadata": {
        "id": "rTudx3_9QEOw"
      },
      "source": [
        "BATCH_SIZE = 32\n",
        "data_loader = DatasetLoader(train_df[['id', 'product_title_tokens', 'search_term_tokens', 'my_relevance']], vocab)\n",
        "\n",
        "train_data_loader = torch.utils.data.DataLoader(data_loader,\n",
        "                                                 batch_size=BATCH_SIZE, shuffle=True, \n",
        "                                                 num_workers=4,drop_last=False)\n",
        "\n",
        "test_df['my_relevance'] = -1\n",
        "\n",
        "test_loader = DatasetLoader(test_df[['id', 'product_title_tokens', 'search_term_tokens', 'my_relevance']], vocab)\n",
        "\n",
        "test_data_loader = torch.utils.data.DataLoader(test_loader,\n",
        "                                                 batch_size=BATCH_SIZE, shuffle=False, \n",
        "                                                 num_workers=4,drop_last=False)\n"
      ],
      "execution_count": 204,
      "outputs": []
    },
    {
      "cell_type": "code",
      "metadata": {
        "id": "Jg9ZjtvyQYYj"
      },
      "source": [
        "for ids, search_term, search_term_length, product_title, product_title_length, relevance_score in train_data_loader:\n",
        "  break"
      ],
      "execution_count": 205,
      "outputs": []
    },
    {
      "cell_type": "code",
      "metadata": {
        "colab": {
          "base_uri": "https://localhost:8080/"
        },
        "id": "gDYpQzBNRhe3",
        "outputId": "45c06f10-6035-46c9-afe5-890c9dc30c18"
      },
      "source": [
        "search_term.shape, search_term_length.shape , product_title.shape , product_title_length.shape  "
      ],
      "execution_count": 107,
      "outputs": [
        {
          "output_type": "execute_result",
          "data": {
            "text/plain": [
              "(torch.Size([32, 5]), torch.Size([32]), torch.Size([32, 15]), torch.Size([32]))"
            ]
          },
          "metadata": {
            "tags": []
          },
          "execution_count": 107
        }
      ]
    },
    {
      "cell_type": "code",
      "metadata": {
        "id": "dnTv4wTQRn--"
      },
      "source": [
        "class EncoderModel(nn.Module):\n",
        "\n",
        "    def __init__(self, n_vocab):\n",
        "        super(EncoderModel, self).__init__()\n",
        "        self.lstm_size = 100\n",
        "        self.embedding_dim = 300\n",
        "        \n",
        "\n",
        "        self.embedding = nn.Embedding(\n",
        "            num_embeddings=n_vocab,\n",
        "            embedding_dim=self.embedding_dim,\n",
        "        )\n",
        "\n",
        "        self.rnn = nn.GRU(self.embedding_dim, 200, 1, bidirectional=True, batch_first=True)\n",
        "        self.fc1 = nn.Linear(400, 200)\n",
        "        self.fc2 = nn.Linear(200, 100)\n",
        "\n",
        "    def forward(self, x, lengths):\n",
        "\n",
        "        embed = self.embedding(x)\n",
        "            \n",
        "        packed_input = pack_padded_sequence(embed, lengths, batch_first=True, enforce_sorted=False)\n",
        "        \n",
        "        packed_output, hn = self.rnn(packed_input)\n",
        "        output, _ = pad_packed_sequence(packed_output, batch_first=True)\n",
        "        \n",
        "        out_forward = output[range(len(output)), lengths - 1, :self.embedding_dim ]\n",
        "        out_reverse = output[:, 0, self.embedding_dim :]\n",
        "        out = torch.cat((out_forward, out_reverse), 1)\n",
        "        \n",
        "        #out = torch.tanh(out_reduced)\n",
        "        out = self.fc1(out)\n",
        "        out = torch.tanh(out)\n",
        "        out = self.fc2(out)\n",
        "\n",
        "        return out\n",
        "    \n",
        "    def reset_parameters(self):\n",
        "        nn.init.uniform_(self.fc1.weight)\n",
        "        nn.init.uniform_(self.fc2.weight)\n",
        "\n",
        "        for name, param in self.rnn.named_parameters():\n",
        "            if 'weight_ih' in name:\n",
        "                torch.nn.init.xavier_uniform_(param.data)\n",
        "            elif 'weight_hh' in name:\n",
        "                torch.nn.init.orthogonal_(param.data)\n",
        "            elif 'bias' in name:\n",
        "                param.data.fill_(0)\n",
        "        \n",
        "\n",
        "class RelevanceModel(nn.Module):\n",
        "\n",
        "  def __init__(self, n_vocab):\n",
        "    super(RelevanceModel, self).__init__()\n",
        "    self.query_encoder = EncoderModel(n_vocab)#.to(device)\n",
        "    self.title_encoder = EncoderModel(n_vocab)#.to(device)\n",
        "    self.fc = nn.Linear(200, 1)\n",
        "\n",
        "  def  forward(self, queries, titles, queries_lengths, titles_lengths):\n",
        "    encoded_queries = self.query_encoder(queries, queries_lengths)\n",
        "    title_encoded = self.title_encoder(titles, titles_lengths)\n",
        "\n",
        "    out = torch.cat((encoded_queries, title_encoded), 1)\n",
        "    out = torch.tanh(out)\n",
        "\n",
        "  \n",
        "    out = self.fc(out)\n",
        "\n",
        "    return torch.sigmoid(out)\n",
        "\n",
        "  def reset_parameters(self):\n",
        "    nn.init.uniform_(self.fc.weight)\n",
        "    self.query_encoder.reset_parameters()\n",
        "    self.title_encoder.reset_parameters()\n",
        "    \n",
        "\n",
        "# class RelevanceModel(nn.Module):\n",
        "\n",
        "#   def __init__(self, n_vocab):\n",
        "#     super(RelevanceModel, self).__init__()\n",
        "#     self.encoder = EncoderModel(n_vocab)#.to(device)\n",
        "#     #self.title_encoder = EncoderModel(n_vocab)#.to(device)\n",
        "#     self.fc = nn.Linear(200, 1)\n",
        "\n",
        "#   def  forward(self, queries, titles, queries_lengths, titles_lengths):\n",
        "#     encoded_queries = self.encoder(queries, queries_lengths)\n",
        "#     encoded_queries = self.encoder(titles, titles_lengths)\n",
        "\n",
        "#     out = torch.cat((query_encoded, title_encoded), 1).to(device)\n",
        "#     out = torch.tanh(out)\n",
        "\n",
        "  \n",
        "#     out = self.fc(out)\n",
        "\n",
        "#     return torch.sigmoid(out)\n",
        "\n",
        "#   def reset_parameters(self):\n",
        "#     nn.init.uniform_(self.fc.weight)\n",
        "#     self.encoder.reset_parameters()\n",
        "    \n"
      ],
      "execution_count": 191,
      "outputs": []
    },
    {
      "cell_type": "code",
      "metadata": {
        "id": "-VMlZG21ZCK1"
      },
      "source": [
        "\n",
        "for x in model.parameters():\n",
        "  if not x.is_cuda:\n",
        "    print(x) "
      ],
      "execution_count": 164,
      "outputs": []
    },
    {
      "cell_type": "code",
      "metadata": {
        "id": "qFR-SouFR5PB"
      },
      "source": [
        "from torch.nn.utils.rnn import pack_padded_sequence, pad_packed_sequence\n",
        "# query_encoder = EncoderModel(len(vocab))\n",
        "# title_encoder = EncoderModel(len(vocab))\n",
        "\n",
        "# query_encoder.reset_parameters()\n",
        "# title_encoder.reset_parameters()\n",
        "\n",
        "# #search_term, search_term_length, product_title, product_title_length\n",
        "# query_encoded = query_encoder(search_term, search_term_length)\n",
        "# title_encoded = query_encoder(product_title, product_title_length)\n",
        "# torch.cat((query_encoded, title_encoded), 1)"
      ],
      "execution_count": 188,
      "outputs": []
    },
    {
      "cell_type": "code",
      "metadata": {
        "colab": {
          "base_uri": "https://localhost:8080/"
        },
        "id": "CWnKAQe_WQyF",
        "outputId": "3a557d38-7fe9-409c-86d4-b428b2c8414f"
      },
      "source": [
        "device = torch.device('cuda' if torch.cuda.is_available() else 'cpu')\n",
        "device"
      ],
      "execution_count": 133,
      "outputs": [
        {
          "output_type": "execute_result",
          "data": {
            "text/plain": [
              "device(type='cuda')"
            ]
          },
          "metadata": {
            "tags": []
          },
          "execution_count": 133
        }
      ]
    },
    {
      "cell_type": "code",
      "metadata": {
        "id": "VDEK66lCTIt9"
      },
      "source": [
        "model = RelevanceModel(len(vocab))\n",
        "model.reset_parameters()\n",
        "model.to(device)\n",
        "\n",
        "optimizer = torch.optim.Adam(\n",
        "        model.parameters(), lr=0.001)\n",
        "\n",
        "mse_loss  = nn.MSELoss()\n",
        "\n",
        "\n",
        "# model(search_term, product_title, search_term_length,  product_title_length)"
      ],
      "execution_count": 192,
      "outputs": []
    },
    {
      "cell_type": "code",
      "metadata": {
        "colab": {
          "base_uri": "https://localhost:8080/"
        },
        "id": "tJiU_nc8WP8l",
        "outputId": "0deb8191-2282-4ff3-db1b-fa2e4e9e6b2b"
      },
      "source": [
        "device = torch.device('cuda' if torch.cuda.is_available() else 'cpu')\n",
        "device"
      ],
      "execution_count": 149,
      "outputs": [
        {
          "output_type": "execute_result",
          "data": {
            "text/plain": [
              "device(type='cuda')"
            ]
          },
          "metadata": {
            "tags": []
          },
          "execution_count": 149
        }
      ]
    },
    {
      "cell_type": "code",
      "metadata": {
        "colab": {
          "base_uri": "https://localhost:8080/",
          "height": 164
        },
        "id": "tavrNV9AWwNh",
        "outputId": "c48f198b-ba4a-4f14-e314-812a15c2ba7b"
      },
      "source": [
        "# loss.backward"
      ],
      "execution_count": 178,
      "outputs": [
        {
          "output_type": "error",
          "ename": "AttributeError",
          "evalue": "ignored",
          "traceback": [
            "\u001b[0;31m---------------------------------------------------------------------------\u001b[0m",
            "\u001b[0;31mAttributeError\u001b[0m                            Traceback (most recent call last)",
            "\u001b[0;32m<ipython-input-178-2ef94ee018d1>\u001b[0m in \u001b[0;36m<module>\u001b[0;34m()\u001b[0m\n\u001b[0;32m----> 1\u001b[0;31m \u001b[0mloss\u001b[0m\u001b[0;34m.\u001b[0m\u001b[0mbackward\u001b[0m\u001b[0;34m\u001b[0m\u001b[0;34m\u001b[0m\u001b[0m\n\u001b[0m",
            "\u001b[0;31mAttributeError\u001b[0m: 'function' object has no attribute 'backward'"
          ]
        }
      ]
    },
    {
      "cell_type": "code",
      "metadata": {
        "colab": {
          "base_uri": "https://localhost:8080/",
          "height": 1000
        },
        "id": "knnaKV2bWAA8",
        "outputId": "83917873-3114-43df-b175-d0bd2147d800"
      },
      "source": [
        "\n",
        "model.train()\n",
        "\n",
        "for epoc in range(1000):\n",
        "\n",
        "  running_loss = 0.0\n",
        "  counter = 0.0\n",
        "\n",
        "  for ids, search_term, search_term_length, product_title, product_title_length, target_relevance_score in train_data_loader:\n",
        "    search_term = Variable(search_term).to(device)\n",
        "    product_title = Variable(product_title).to(device)\n",
        "    target_relevance_score = Variable(target_relevance_score).float().to(device)\n",
        "\n",
        "    model.zero_grad()\n",
        "\n",
        "    scores = model(search_term, product_title, search_term_length,  product_title_length)\n",
        "    loss = mse_loss(scores, target_relevance_score)\n",
        "\n",
        "    \n",
        "\n",
        "    loss.backward()\n",
        "    optimizer.step()\n",
        "\n",
        "    #nn.utils.clip_grad_norm(model.parameters(), 0.5)\n",
        "    \n",
        "    running_loss += loss.item()\n",
        "    counter = search_term.shape[0]\n",
        "  \n",
        "  print('epoc {} loss {}'.format(epoc, running_loss/counter))\n",
        "\n",
        "\n"
      ],
      "execution_count": 194,
      "outputs": [
        {
          "output_type": "stream",
          "text": [
            "epoc {} loss {} 0 8.18026417998537\n",
            "epoc {} loss {} 1 6.744423832504019\n",
            "epoc {} loss {} 2 6.595475179293463\n",
            "epoc {} loss {} 3 6.178812862764443\n",
            "epoc {} loss {} 4 6.1850681349394785\n",
            "epoc {} loss {} 5 6.187504166797284\n",
            "epoc {} loss {} 6 6.195774588854082\n",
            "epoc {} loss {} 7 6.166055038811699\n",
            "epoc {} loss {} 8 6.166494425446276\n",
            "epoc {} loss {} 9 6.173135533808701\n",
            "epoc {} loss {} 10 6.165904410724198\n",
            "epoc {} loss {} 11 6.166599967847428\n",
            "epoc {} loss {} 12 6.16863685149339\n",
            "epoc {} loss {} 13 6.1767906092347635\n",
            "epoc {} loss {} 14 6.188229101439638\n",
            "epoc {} loss {} 15 6.18884974934401\n",
            "epoc {} loss {} 16 6.037252544755897\n",
            "epoc {} loss {} 17 5.917392993165601\n",
            "epoc {} loss {} 18 5.931993352970289\n",
            "epoc {} loss {} 19 5.927508187269972\n",
            "epoc {} loss {} 20 5.915603622673981\n",
            "epoc {} loss {} 21 5.924302497998841\n",
            "epoc {} loss {} 22 5.928974196254726\n",
            "epoc {} loss {} 23 5.934779988481633\n",
            "epoc {} loss {} 24 5.925739924633695\n",
            "epoc {} loss {} 25 5.922407688693173\n",
            "epoc {} loss {} 26 5.930698613245641\n",
            "epoc {} loss {} 27 5.930883136427691\n",
            "epoc {} loss {} 28 5.925389218474588\n",
            "epoc {} loss {} 29 5.923855235499721\n",
            "epoc {} loss {} 30 5.916894387814306\n",
            "epoc {} loss {} 31 5.921367971767341\n",
            "epoc {} loss {} 32 5.917337171733379\n",
            "epoc {} loss {} 33 5.926494700293387\n",
            "epoc {} loss {} 34 5.908387169602417\n",
            "epoc {} loss {} 35 5.922049978387452\n",
            "epoc {} loss {} 36 5.917754797985958\n",
            "epoc {} loss {} 37 5.920062160419841\n"
          ],
          "name": "stdout"
        },
        {
          "output_type": "error",
          "ename": "KeyboardInterrupt",
          "evalue": "ignored",
          "traceback": [
            "\u001b[0;31m---------------------------------------------------------------------------\u001b[0m",
            "\u001b[0;31mKeyboardInterrupt\u001b[0m                         Traceback (most recent call last)",
            "\u001b[0;32m<ipython-input-194-32a1811d6453>\u001b[0m in \u001b[0;36m<module>\u001b[0;34m()\u001b[0m\n\u001b[1;32m     15\u001b[0m \u001b[0;34m\u001b[0m\u001b[0m\n\u001b[1;32m     16\u001b[0m     \u001b[0mscores\u001b[0m \u001b[0;34m=\u001b[0m \u001b[0mmodel\u001b[0m\u001b[0;34m(\u001b[0m\u001b[0msearch_term\u001b[0m\u001b[0;34m,\u001b[0m \u001b[0mproduct_title\u001b[0m\u001b[0;34m,\u001b[0m \u001b[0msearch_term_length\u001b[0m\u001b[0;34m,\u001b[0m  \u001b[0mproduct_title_length\u001b[0m\u001b[0;34m)\u001b[0m\u001b[0;34m\u001b[0m\u001b[0;34m\u001b[0m\u001b[0m\n\u001b[0;32m---> 17\u001b[0;31m     \u001b[0mloss\u001b[0m \u001b[0;34m=\u001b[0m \u001b[0mmse_loss\u001b[0m\u001b[0;34m(\u001b[0m\u001b[0mscores\u001b[0m\u001b[0;34m,\u001b[0m \u001b[0mtarget_relevance_score\u001b[0m\u001b[0;34m)\u001b[0m\u001b[0;34m\u001b[0m\u001b[0;34m\u001b[0m\u001b[0m\n\u001b[0m\u001b[1;32m     18\u001b[0m \u001b[0;34m\u001b[0m\u001b[0m\n\u001b[1;32m     19\u001b[0m \u001b[0;34m\u001b[0m\u001b[0m\n",
            "\u001b[0;32m/usr/local/lib/python3.7/dist-packages/torch/nn/modules/module.py\u001b[0m in \u001b[0;36m_call_impl\u001b[0;34m(self, *input, **kwargs)\u001b[0m\n\u001b[1;32m   1049\u001b[0m         if not (self._backward_hooks or self._forward_hooks or self._forward_pre_hooks or _global_backward_hooks\n\u001b[1;32m   1050\u001b[0m                 or _global_forward_hooks or _global_forward_pre_hooks):\n\u001b[0;32m-> 1051\u001b[0;31m             \u001b[0;32mreturn\u001b[0m \u001b[0mforward_call\u001b[0m\u001b[0;34m(\u001b[0m\u001b[0;34m*\u001b[0m\u001b[0minput\u001b[0m\u001b[0;34m,\u001b[0m \u001b[0;34m**\u001b[0m\u001b[0mkwargs\u001b[0m\u001b[0;34m)\u001b[0m\u001b[0;34m\u001b[0m\u001b[0;34m\u001b[0m\u001b[0m\n\u001b[0m\u001b[1;32m   1052\u001b[0m         \u001b[0;31m# Do not call functions when jit is used\u001b[0m\u001b[0;34m\u001b[0m\u001b[0;34m\u001b[0m\u001b[0;34m\u001b[0m\u001b[0m\n\u001b[1;32m   1053\u001b[0m         \u001b[0mfull_backward_hooks\u001b[0m\u001b[0;34m,\u001b[0m \u001b[0mnon_full_backward_hooks\u001b[0m \u001b[0;34m=\u001b[0m \u001b[0;34m[\u001b[0m\u001b[0;34m]\u001b[0m\u001b[0;34m,\u001b[0m \u001b[0;34m[\u001b[0m\u001b[0;34m]\u001b[0m\u001b[0;34m\u001b[0m\u001b[0;34m\u001b[0m\u001b[0m\n",
            "\u001b[0;32m/usr/local/lib/python3.7/dist-packages/torch/nn/modules/loss.py\u001b[0m in \u001b[0;36mforward\u001b[0;34m(self, input, target)\u001b[0m\n\u001b[1;32m    526\u001b[0m \u001b[0;34m\u001b[0m\u001b[0m\n\u001b[1;32m    527\u001b[0m     \u001b[0;32mdef\u001b[0m \u001b[0mforward\u001b[0m\u001b[0;34m(\u001b[0m\u001b[0mself\u001b[0m\u001b[0;34m,\u001b[0m \u001b[0minput\u001b[0m\u001b[0;34m:\u001b[0m \u001b[0mTensor\u001b[0m\u001b[0;34m,\u001b[0m \u001b[0mtarget\u001b[0m\u001b[0;34m:\u001b[0m \u001b[0mTensor\u001b[0m\u001b[0;34m)\u001b[0m \u001b[0;34m->\u001b[0m \u001b[0mTensor\u001b[0m\u001b[0;34m:\u001b[0m\u001b[0;34m\u001b[0m\u001b[0;34m\u001b[0m\u001b[0m\n\u001b[0;32m--> 528\u001b[0;31m         \u001b[0;32mreturn\u001b[0m \u001b[0mF\u001b[0m\u001b[0;34m.\u001b[0m\u001b[0mmse_loss\u001b[0m\u001b[0;34m(\u001b[0m\u001b[0minput\u001b[0m\u001b[0;34m,\u001b[0m \u001b[0mtarget\u001b[0m\u001b[0;34m,\u001b[0m \u001b[0mreduction\u001b[0m\u001b[0;34m=\u001b[0m\u001b[0mself\u001b[0m\u001b[0;34m.\u001b[0m\u001b[0mreduction\u001b[0m\u001b[0;34m)\u001b[0m\u001b[0;34m\u001b[0m\u001b[0;34m\u001b[0m\u001b[0m\n\u001b[0m\u001b[1;32m    529\u001b[0m \u001b[0;34m\u001b[0m\u001b[0m\n\u001b[1;32m    530\u001b[0m \u001b[0;34m\u001b[0m\u001b[0m\n",
            "\u001b[0;32m/usr/local/lib/python3.7/dist-packages/torch/nn/functional.py\u001b[0m in \u001b[0;36mmse_loss\u001b[0;34m(input, target, size_average, reduce, reduction)\u001b[0m\n\u001b[1;32m   3088\u001b[0m \u001b[0;34m\u001b[0m\u001b[0m\n\u001b[1;32m   3089\u001b[0m     \u001b[0mexpanded_input\u001b[0m\u001b[0;34m,\u001b[0m \u001b[0mexpanded_target\u001b[0m \u001b[0;34m=\u001b[0m \u001b[0mtorch\u001b[0m\u001b[0;34m.\u001b[0m\u001b[0mbroadcast_tensors\u001b[0m\u001b[0;34m(\u001b[0m\u001b[0minput\u001b[0m\u001b[0;34m,\u001b[0m \u001b[0mtarget\u001b[0m\u001b[0;34m)\u001b[0m\u001b[0;34m\u001b[0m\u001b[0;34m\u001b[0m\u001b[0m\n\u001b[0;32m-> 3090\u001b[0;31m     \u001b[0;32mreturn\u001b[0m \u001b[0mtorch\u001b[0m\u001b[0;34m.\u001b[0m\u001b[0m_C\u001b[0m\u001b[0;34m.\u001b[0m\u001b[0m_nn\u001b[0m\u001b[0;34m.\u001b[0m\u001b[0mmse_loss\u001b[0m\u001b[0;34m(\u001b[0m\u001b[0mexpanded_input\u001b[0m\u001b[0;34m,\u001b[0m \u001b[0mexpanded_target\u001b[0m\u001b[0;34m,\u001b[0m \u001b[0m_Reduction\u001b[0m\u001b[0;34m.\u001b[0m\u001b[0mget_enum\u001b[0m\u001b[0;34m(\u001b[0m\u001b[0mreduction\u001b[0m\u001b[0;34m)\u001b[0m\u001b[0;34m)\u001b[0m\u001b[0;34m\u001b[0m\u001b[0;34m\u001b[0m\u001b[0m\n\u001b[0m\u001b[1;32m   3091\u001b[0m \u001b[0;34m\u001b[0m\u001b[0m\n\u001b[1;32m   3092\u001b[0m \u001b[0;34m\u001b[0m\u001b[0m\n",
            "\u001b[0;31mKeyboardInterrupt\u001b[0m: "
          ]
        }
      ]
    },
    {
      "cell_type": "code",
      "metadata": {
        "id": "Tgvd78qCkW8m"
      },
      "source": [
        "test_data_loader\n",
        "\n",
        "model.train()\n",
        "test_scores = []\n",
        "test_ids =[]\n",
        "for ids, search_term, search_term_length, product_title, product_title_length, target_relevance_score in train_data_loader:\n",
        "  search_term = Variable(search_term).to(device)\n",
        "  product_title = Variable(product_title).to(device)\n",
        "  target_relevance_score = Variable(target_relevance_score).float().to(device)\n",
        "\n",
        "  scores = model(search_term, product_title, search_term_length,  product_title_length)\n",
        "\n",
        "  test_scores.extend(scores.detach().cpu().numpy().flatten().tolist())\n",
        "  test_ids.extend(ids.numpy().tolist())\n",
        "  \n",
        "\n"
      ],
      "execution_count": 216,
      "outputs": []
    },
    {
      "cell_type": "code",
      "metadata": {
        "id": "iYqvaAVNk6pY",
        "outputId": "c6710df8-f3ae-460b-a1af-cab20536d4d2",
        "colab": {
          "base_uri": "https://localhost:8080/"
        }
      },
      "source": [
        "test_scores[0:100]"
      ],
      "execution_count": 219,
      "outputs": [
        {
          "output_type": "execute_result",
          "data": {
            "text/plain": [
              "[0.6715550422668457,\n",
              " 0.6715550422668457,\n",
              " 0.6715550422668457,\n",
              " 0.6715550422668457,\n",
              " 0.6715550422668457,\n",
              " 0.6715550422668457,\n",
              " 0.6715550422668457,\n",
              " 0.6715550422668457,\n",
              " 0.6715550422668457,\n",
              " 0.6715550422668457,\n",
              " 0.6715550422668457,\n",
              " 0.6715550422668457,\n",
              " 0.6715550422668457,\n",
              " 0.0,\n",
              " 0.6715550422668457,\n",
              " 0.6715550422668457,\n",
              " 0.6715550422668457,\n",
              " 0.6715550422668457,\n",
              " 0.6715550422668457,\n",
              " 0.6715550422668457,\n",
              " 0.6715550422668457,\n",
              " 0.6715550422668457,\n",
              " 0.6715550422668457,\n",
              " 0.6715550422668457,\n",
              " 0.6715550422668457,\n",
              " 0.6715550422668457,\n",
              " 0.6715550422668457,\n",
              " 0.6715550422668457,\n",
              " 0.6715550422668457,\n",
              " 0.6715550422668457,\n",
              " 0.6715550422668457,\n",
              " 0.6715550422668457,\n",
              " 0.6715550422668457,\n",
              " 0.6715550422668457,\n",
              " 0.6715550422668457,\n",
              " 0.6715550422668457,\n",
              " 0.6715550422668457,\n",
              " 0.6715550422668457,\n",
              " 0.6715550422668457,\n",
              " 0.6715550422668457,\n",
              " 0.6715550422668457,\n",
              " 0.6715550422668457,\n",
              " 0.6715550422668457,\n",
              " 0.6715550422668457,\n",
              " 0.6715550422668457,\n",
              " 0.6715550422668457,\n",
              " 0.6715550422668457,\n",
              " 0.6715550422668457,\n",
              " 0.6715550422668457,\n",
              " 0.6715550422668457,\n",
              " 0.6715550422668457,\n",
              " 0.6715550422668457,\n",
              " 0.6715550422668457,\n",
              " 0.6715550422668457,\n",
              " 0.6715550422668457,\n",
              " 0.6715550422668457,\n",
              " 0.6715550422668457,\n",
              " 0.6715550422668457,\n",
              " 0.6715550422668457,\n",
              " 0.6715550422668457,\n",
              " 0.6715550422668457,\n",
              " 0.6715550422668457,\n",
              " 0.6715550422668457,\n",
              " 0.6715550422668457,\n",
              " 0.6715550422668457,\n",
              " 0.6715550422668457,\n",
              " 0.0,\n",
              " 0.6715550422668457,\n",
              " 0.6715550422668457,\n",
              " 0.6715550422668457,\n",
              " 0.6715550422668457,\n",
              " 0.6715550422668457,\n",
              " 0.6715550422668457,\n",
              " 0.6715550422668457,\n",
              " 0.6715550422668457,\n",
              " 0.6715550422668457,\n",
              " 0.6715550422668457,\n",
              " 0.6715550422668457,\n",
              " 0.6715550422668457,\n",
              " 0.6715550422668457,\n",
              " 0.6715550422668457,\n",
              " 0.6715550422668457,\n",
              " 0.6715550422668457,\n",
              " 0.6715550422668457,\n",
              " 0.6715550422668457,\n",
              " 0.6715550422668457,\n",
              " 0.6715550422668457,\n",
              " 0.6715550422668457,\n",
              " 0.6715550422668457,\n",
              " 0.6715550422668457,\n",
              " 0.6715550422668457,\n",
              " 0.6715550422668457,\n",
              " 0.6715550422668457,\n",
              " 0.6715550422668457,\n",
              " 0.6715550422668457,\n",
              " 0.6715550422668457,\n",
              " 0.6715550422668457,\n",
              " 0.6715550422668457,\n",
              " 0.6715550422668457,\n",
              " 0.6715550422668457]"
            ]
          },
          "metadata": {
            "tags": []
          },
          "execution_count": 219
        }
      ]
    }
  ]
}