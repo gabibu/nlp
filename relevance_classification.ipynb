{
  "nbformat": 4,
  "nbformat_minor": 0,
  "metadata": {
    "colab": {
      "name": "nlp_final.ipynb",
      "provenance": []
    },
    "kernelspec": {
      "name": "python3",
      "display_name": "Python 3"
    },
    "language_info": {
      "name": "python"
    },
    "accelerator": "GPU"
  },
  "cells": [
    {
      "cell_type": "code",
      "metadata": {
        "id": "Cq7vz0__2J7K",
        "colab": {
          "base_uri": "https://localhost:8080/"
        },
        "outputId": "564b0959-b868-46ec-8d7d-5019409e423c"
      },
      "source": [
        "! pip install -q kaggle\n",
        "!pip install transformers\n",
        "!pip install unidecode\n",
        "!pip install torch\n",
        "!pip install tqdm"
      ],
      "execution_count": 1,
      "outputs": [
        {
          "output_type": "stream",
          "text": [
            "Collecting transformers\n",
            "  Downloading transformers-4.9.1-py3-none-any.whl (2.6 MB)\n",
            "\u001b[K     |████████████████████████████████| 2.6 MB 26.7 MB/s \n",
            "\u001b[?25hRequirement already satisfied: numpy>=1.17 in /usr/local/lib/python3.7/dist-packages (from transformers) (1.19.5)\n",
            "Collecting tokenizers<0.11,>=0.10.1\n",
            "  Downloading tokenizers-0.10.3-cp37-cp37m-manylinux_2_5_x86_64.manylinux1_x86_64.manylinux_2_12_x86_64.manylinux2010_x86_64.whl (3.3 MB)\n",
            "\u001b[K     |████████████████████████████████| 3.3 MB 47.5 MB/s \n",
            "\u001b[?25hRequirement already satisfied: tqdm>=4.27 in /usr/local/lib/python3.7/dist-packages (from transformers) (4.41.1)\n",
            "Requirement already satisfied: packaging in /usr/local/lib/python3.7/dist-packages (from transformers) (21.0)\n",
            "Requirement already satisfied: filelock in /usr/local/lib/python3.7/dist-packages (from transformers) (3.0.12)\n",
            "Collecting huggingface-hub==0.0.12\n",
            "  Downloading huggingface_hub-0.0.12-py3-none-any.whl (37 kB)\n",
            "Requirement already satisfied: importlib-metadata in /usr/local/lib/python3.7/dist-packages (from transformers) (4.6.1)\n",
            "Collecting sacremoses\n",
            "  Downloading sacremoses-0.0.45-py3-none-any.whl (895 kB)\n",
            "\u001b[K     |████████████████████████████████| 895 kB 56.6 MB/s \n",
            "\u001b[?25hRequirement already satisfied: requests in /usr/local/lib/python3.7/dist-packages (from transformers) (2.23.0)\n",
            "Requirement already satisfied: regex!=2019.12.17 in /usr/local/lib/python3.7/dist-packages (from transformers) (2019.12.20)\n",
            "Collecting pyyaml>=5.1\n",
            "  Downloading PyYAML-5.4.1-cp37-cp37m-manylinux1_x86_64.whl (636 kB)\n",
            "\u001b[K     |████████████████████████████████| 636 kB 58.3 MB/s \n",
            "\u001b[?25hRequirement already satisfied: typing-extensions in /usr/local/lib/python3.7/dist-packages (from huggingface-hub==0.0.12->transformers) (3.7.4.3)\n",
            "Requirement already satisfied: pyparsing>=2.0.2 in /usr/local/lib/python3.7/dist-packages (from packaging->transformers) (2.4.7)\n",
            "Requirement already satisfied: zipp>=0.5 in /usr/local/lib/python3.7/dist-packages (from importlib-metadata->transformers) (3.5.0)\n",
            "Requirement already satisfied: certifi>=2017.4.17 in /usr/local/lib/python3.7/dist-packages (from requests->transformers) (2021.5.30)\n",
            "Requirement already satisfied: idna<3,>=2.5 in /usr/local/lib/python3.7/dist-packages (from requests->transformers) (2.10)\n",
            "Requirement already satisfied: chardet<4,>=3.0.2 in /usr/local/lib/python3.7/dist-packages (from requests->transformers) (3.0.4)\n",
            "Requirement already satisfied: urllib3!=1.25.0,!=1.25.1,<1.26,>=1.21.1 in /usr/local/lib/python3.7/dist-packages (from requests->transformers) (1.24.3)\n",
            "Requirement already satisfied: joblib in /usr/local/lib/python3.7/dist-packages (from sacremoses->transformers) (1.0.1)\n",
            "Requirement already satisfied: six in /usr/local/lib/python3.7/dist-packages (from sacremoses->transformers) (1.15.0)\n",
            "Requirement already satisfied: click in /usr/local/lib/python3.7/dist-packages (from sacremoses->transformers) (7.1.2)\n",
            "Installing collected packages: tokenizers, sacremoses, pyyaml, huggingface-hub, transformers\n",
            "  Attempting uninstall: pyyaml\n",
            "    Found existing installation: PyYAML 3.13\n",
            "    Uninstalling PyYAML-3.13:\n",
            "      Successfully uninstalled PyYAML-3.13\n",
            "Successfully installed huggingface-hub-0.0.12 pyyaml-5.4.1 sacremoses-0.0.45 tokenizers-0.10.3 transformers-4.9.1\n",
            "Collecting unidecode\n",
            "  Downloading Unidecode-1.2.0-py2.py3-none-any.whl (241 kB)\n",
            "\u001b[K     |████████████████████████████████| 241 kB 25.7 MB/s \n",
            "\u001b[?25hInstalling collected packages: unidecode\n",
            "Successfully installed unidecode-1.2.0\n",
            "Requirement already satisfied: torch in /usr/local/lib/python3.7/dist-packages (1.9.0+cu102)\n",
            "Requirement already satisfied: typing-extensions in /usr/local/lib/python3.7/dist-packages (from torch) (3.7.4.3)\n",
            "Requirement already satisfied: tqdm in /usr/local/lib/python3.7/dist-packages (4.41.1)\n"
          ],
          "name": "stdout"
        }
      ]
    },
    {
      "cell_type": "code",
      "metadata": {
        "id": "m2H9Z4iZ2XPb",
        "colab": {
          "base_uri": "https://localhost:8080/"
        },
        "outputId": "91a18ae0-64c2-4337-aa4b-433361c36d57"
      },
      "source": [
        "from google.colab import files\n",
        "from tqdm import tqdm\n",
        "tqdm.pandas()"
      ],
      "execution_count": 2,
      "outputs": [
        {
          "output_type": "stream",
          "text": [
            "/usr/local/lib/python3.7/dist-packages/tqdm/std.py:658: FutureWarning: The Panel class is removed from pandas. Accessing it from the top-level namespace will also be removed in the next version\n",
            "  from pandas import Panel\n"
          ],
          "name": "stderr"
        }
      ]
    },
    {
      "cell_type": "code",
      "metadata": {
        "colab": {
          "resources": {
            "http://localhost:8080/nbextensions/google.colab/files.js": {
              "data": "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",
              "ok": true,
              "headers": [
                [
                  "content-type",
                  "application/javascript"
                ]
              ],
              "status": 200,
              "status_text": ""
            }
          },
          "base_uri": "https://localhost:8080/",
          "height": 89
        },
        "id": "h0uiWBjK2jtU",
        "outputId": "239b313b-335f-4840-b325-fecf070b4dd7"
      },
      "source": [
        "files.upload()"
      ],
      "execution_count": 3,
      "outputs": [
        {
          "output_type": "display_data",
          "data": {
            "text/html": [
              "\n",
              "     <input type=\"file\" id=\"files-a7bc1562-32d7-47f7-ac62-6e655451ed45\" name=\"files[]\" multiple disabled\n",
              "        style=\"border:none\" />\n",
              "     <output id=\"result-a7bc1562-32d7-47f7-ac62-6e655451ed45\">\n",
              "      Upload widget is only available when the cell has been executed in the\n",
              "      current browser session. Please rerun this cell to enable.\n",
              "      </output>\n",
              "      <script src=\"/nbextensions/google.colab/files.js\"></script> "
            ],
            "text/plain": [
              "<IPython.core.display.HTML object>"
            ]
          },
          "metadata": {
            "tags": []
          }
        },
        {
          "output_type": "stream",
          "text": [
            "Saving kaggle.json to kaggle.json\n"
          ],
          "name": "stdout"
        },
        {
          "output_type": "execute_result",
          "data": {
            "text/plain": [
              "{'kaggle.json': b'{\"username\":\"gabib3b\",\"key\":\"817d7e169db4cbef867b22907320144c\"}'}"
            ]
          },
          "metadata": {
            "tags": []
          },
          "execution_count": 3
        }
      ]
    },
    {
      "cell_type": "code",
      "metadata": {
        "id": "JYFkqZ-42pXt",
        "colab": {
          "base_uri": "https://localhost:8080/"
        },
        "outputId": "e489b7f3-435f-4d74-9f90-62eb511f6627"
      },
      "source": [
        "! mkdir ~/.kaggle\n",
        "! cp kaggle.json ~/.kaggle/\n",
        "! chmod 600 ~/.kaggle/kaggle.json\n",
        "! kaggle competitions download -c home-depot-product-search-relevance"
      ],
      "execution_count": 4,
      "outputs": [
        {
          "output_type": "stream",
          "text": [
            "Warning: Looks like you're using an outdated API Version, please consider updating (server 1.5.12 / client 1.5.4)\n",
            "Downloading relevance_instructions.docx to /content\n",
            "  0% 0.00/105k [00:00<?, ?B/s]\n",
            "100% 105k/105k [00:00<00:00, 39.2MB/s]\n",
            "Downloading attributes.csv.zip to /content\n",
            " 92% 25.0M/27.2M [00:00<00:00, 63.6MB/s]\n",
            "100% 27.2M/27.2M [00:00<00:00, 108MB/s] \n",
            "Downloading train.csv.zip to /content\n",
            "  0% 0.00/2.51M [00:00<?, ?B/s]\n",
            "100% 2.51M/2.51M [00:00<00:00, 171MB/s]\n",
            "Downloading sample_submission.csv.zip to /content\n",
            "  0% 0.00/227k [00:00<?, ?B/s]\n",
            "100% 227k/227k [00:00<00:00, 73.4MB/s]\n",
            "Downloading product_descriptions.csv.zip to /content\n",
            " 92% 32.0M/34.8M [00:00<00:00, 49.7MB/s]\n",
            "100% 34.8M/34.8M [00:00<00:00, 99.5MB/s]\n",
            "Downloading test.csv.zip to /content\n",
            "  0% 0.00/4.74M [00:00<?, ?B/s]\n",
            "100% 4.74M/4.74M [00:00<00:00, 43.3MB/s]\n"
          ],
          "name": "stdout"
        }
      ]
    },
    {
      "cell_type": "code",
      "metadata": {
        "id": "uc3SPuZR366P",
        "colab": {
          "base_uri": "https://localhost:8080/"
        },
        "outputId": "f7e7fb8f-7753-4997-af82-fe1ee36294cf"
      },
      "source": [
        "import pandas as pd\n",
        "import numpy as np\n",
        "from transformers import BertTokenizer\n",
        "import nltk \n",
        "import unidecode\n",
        "import re\n",
        "nltk.download('punkt')\n",
        "nltk.download('stopwords')\n",
        "from nltk.corpus import stopwords\n",
        "import string"
      ],
      "execution_count": 5,
      "outputs": [
        {
          "output_type": "stream",
          "text": [
            "[nltk_data] Downloading package punkt to /root/nltk_data...\n",
            "[nltk_data]   Unzipping tokenizers/punkt.zip.\n",
            "[nltk_data] Downloading package stopwords to /root/nltk_data...\n",
            "[nltk_data]   Unzipping corpora/stopwords.zip.\n"
          ],
          "name": "stdout"
        }
      ]
    },
    {
      "cell_type": "code",
      "metadata": {
        "colab": {
          "base_uri": "https://localhost:8080/"
        },
        "id": "2FTp4EQn3Ai5",
        "outputId": "a10b63e9-08c0-459a-cd07-b0fbbdc8b4e5"
      },
      "source": [
        "!ls"
      ],
      "execution_count": 6,
      "outputs": [
        {
          "output_type": "stream",
          "text": [
            "attributes.csv.zip\t      relevance_instructions.docx  test.csv.zip\n",
            "kaggle.json\t\t      sample_data\t\t   train.csv.zip\n",
            "product_descriptions.csv.zip  sample_submission.csv.zip\n"
          ],
          "name": "stdout"
        }
      ]
    },
    {
      "cell_type": "code",
      "metadata": {
        "id": "7z5kTCLu3wPp"
      },
      "source": [
        "att_df= pd.read_csv('attributes.csv.zip')\n",
        "desc_df= pd.read_csv('product_descriptions.csv.zip')\n",
        "train_df= pd.read_csv('train.csv.zip', encoding='latin-1')\n",
        "test_df = pd.read_csv('test.csv.zip',encoding='latin-1')\n"
      ],
      "execution_count": 7,
      "outputs": []
    },
    {
      "cell_type": "code",
      "metadata": {
        "id": "GPtCnjkmEgB4"
      },
      "source": [
        "desc_df = desc_df.fillna(0)\n",
        "train_df = train_df.fillna(0)\n",
        "test_df = test_df.fillna(0)\n",
        "att_df = att_df.fillna(0)\n",
        "\n",
        "desc_df['product_uid'] = desc_df['product_uid'].astype(np.int64)\n",
        "train_df['product_uid'] = train_df['product_uid'].astype(np.int64)\n",
        "test_df['product_uid'] = test_df['product_uid'].astype(np.int64)\n",
        "att_df['product_uid'] = att_df['product_uid'].astype(np.int64)"
      ],
      "execution_count": 8,
      "outputs": []
    },
    {
      "cell_type": "code",
      "metadata": {
        "colab": {
          "base_uri": "https://localhost:8080/",
          "height": 111
        },
        "id": "Wc9y_9xh39qp",
        "outputId": "4864f726-aa21-4820-f47f-90ab4183742e"
      },
      "source": [
        "train_df.sample(2)"
      ],
      "execution_count": 9,
      "outputs": [
        {
          "output_type": "execute_result",
          "data": {
            "text/html": [
              "<div>\n",
              "<style scoped>\n",
              "    .dataframe tbody tr th:only-of-type {\n",
              "        vertical-align: middle;\n",
              "    }\n",
              "\n",
              "    .dataframe tbody tr th {\n",
              "        vertical-align: top;\n",
              "    }\n",
              "\n",
              "    .dataframe thead th {\n",
              "        text-align: right;\n",
              "    }\n",
              "</style>\n",
              "<table border=\"1\" class=\"dataframe\">\n",
              "  <thead>\n",
              "    <tr style=\"text-align: right;\">\n",
              "      <th></th>\n",
              "      <th>id</th>\n",
              "      <th>product_uid</th>\n",
              "      <th>product_title</th>\n",
              "      <th>search_term</th>\n",
              "      <th>relevance</th>\n",
              "    </tr>\n",
              "  </thead>\n",
              "  <tbody>\n",
              "    <tr>\n",
              "      <th>26432</th>\n",
              "      <td>81066</td>\n",
              "      <td>123740</td>\n",
              "      <td>WeatherShield 2 in. x 2 in. x 36 in. Wood Pres...</td>\n",
              "      <td>stairs railing pressure treated</td>\n",
              "      <td>2.0</td>\n",
              "    </tr>\n",
              "    <tr>\n",
              "      <th>73485</th>\n",
              "      <td>219754</td>\n",
              "      <td>205162</td>\n",
              "      <td>Lund 60 in. Mid Size Aluminum Single Lid Cross...</td>\n",
              "      <td>single sun beds</td>\n",
              "      <td>2.0</td>\n",
              "    </tr>\n",
              "  </tbody>\n",
              "</table>\n",
              "</div>"
            ],
            "text/plain": [
              "           id  product_uid  ...                      search_term relevance\n",
              "26432   81066       123740  ...  stairs railing pressure treated       2.0\n",
              "73485  219754       205162  ...                  single sun beds       2.0\n",
              "\n",
              "[2 rows x 5 columns]"
            ]
          },
          "metadata": {
            "tags": []
          },
          "execution_count": 9
        }
      ]
    },
    {
      "cell_type": "code",
      "metadata": {
        "id": "AVEuEm1CPBfa"
      },
      "source": [
        ""
      ],
      "execution_count": null,
      "outputs": []
    },
    {
      "cell_type": "code",
      "metadata": {
        "colab": {
          "base_uri": "https://localhost:8080/"
        },
        "id": "LizRelmmMTOO",
        "outputId": "0b32cc69-671f-414e-e785-28d677fefd45"
      },
      "source": [
        "np.min(train_df['relevance'].tolist()), np.max(train_df['relevance'].tolist())"
      ],
      "execution_count": null,
      "outputs": [
        {
          "output_type": "execute_result",
          "data": {
            "text/plain": [
              "(1.0, 3.0)"
            ]
          },
          "metadata": {
            "tags": []
          },
          "execution_count": 11
        }
      ]
    },
    {
      "cell_type": "code",
      "metadata": {
        "colab": {
          "base_uri": "https://localhost:8080/"
        },
        "id": "GQMvnh9G6eUX",
        "outputId": "cca80ae2-e9c4-4179-a233-d7c133294805"
      },
      "source": [
        "sorted(pd.unique(train_df['relevance']).tolist())"
      ],
      "execution_count": null,
      "outputs": [
        {
          "output_type": "execute_result",
          "data": {
            "text/plain": [
              "[1.0, 1.25, 1.33, 1.5, 1.67, 1.75, 2.0, 2.25, 2.33, 2.5, 2.67, 2.75, 3.0]"
            ]
          },
          "metadata": {
            "tags": []
          },
          "execution_count": 12
        }
      ]
    },
    {
      "cell_type": "code",
      "metadata": {
        "id": "EXIjvtz5O6F8"
      },
      "source": [
        "train_df['my_relevance'] = train_df['relevance'].apply(lambda x: (x - 1.0)/2.0)"
      ],
      "execution_count": 10,
      "outputs": []
    },
    {
      "cell_type": "code",
      "metadata": {
        "colab": {
          "base_uri": "https://localhost:8080/"
        },
        "id": "XEsYyEZdPNuC",
        "outputId": "d4a77bbd-214c-4193-cd07-f7f6d8d78873"
      },
      "source": [
        "np.min(train_df['my_relevance'].tolist()), np.max(train_df['my_relevance'].tolist())"
      ],
      "execution_count": 11,
      "outputs": [
        {
          "output_type": "execute_result",
          "data": {
            "text/plain": [
              "(0.0, 1.0)"
            ]
          },
          "metadata": {
            "tags": []
          },
          "execution_count": 11
        }
      ]
    },
    {
      "cell_type": "code",
      "metadata": {
        "id": "pYhPgWl3PQ_7"
      },
      "source": [
        "train_df['my_relevance2'] = train_df['my_relevance'].apply(lambda x: ((x - 0.0)/1.0) * 2.0 + 1)"
      ],
      "execution_count": 12,
      "outputs": []
    },
    {
      "cell_type": "code",
      "metadata": {
        "colab": {
          "base_uri": "https://localhost:8080/",
          "height": 173
        },
        "id": "Lx1rYzOzPHYD",
        "outputId": "ef75ac63-d6bb-46c5-df54-3198c9558a45"
      },
      "source": [
        "train_df[['relevance', 'my_relevance', 'my_relevance2']].sample(4)"
      ],
      "execution_count": null,
      "outputs": [
        {
          "output_type": "execute_result",
          "data": {
            "text/html": [
              "<div>\n",
              "<style scoped>\n",
              "    .dataframe tbody tr th:only-of-type {\n",
              "        vertical-align: middle;\n",
              "    }\n",
              "\n",
              "    .dataframe tbody tr th {\n",
              "        vertical-align: top;\n",
              "    }\n",
              "\n",
              "    .dataframe thead th {\n",
              "        text-align: right;\n",
              "    }\n",
              "</style>\n",
              "<table border=\"1\" class=\"dataframe\">\n",
              "  <thead>\n",
              "    <tr style=\"text-align: right;\">\n",
              "      <th></th>\n",
              "      <th>relevance</th>\n",
              "      <th>my_relevance</th>\n",
              "      <th>my_relevance2</th>\n",
              "    </tr>\n",
              "  </thead>\n",
              "  <tbody>\n",
              "    <tr>\n",
              "      <th>68689</th>\n",
              "      <td>2.67</td>\n",
              "      <td>0.835</td>\n",
              "      <td>2.67</td>\n",
              "    </tr>\n",
              "    <tr>\n",
              "      <th>12142</th>\n",
              "      <td>2.33</td>\n",
              "      <td>0.665</td>\n",
              "      <td>2.33</td>\n",
              "    </tr>\n",
              "    <tr>\n",
              "      <th>74039</th>\n",
              "      <td>2.33</td>\n",
              "      <td>0.665</td>\n",
              "      <td>2.33</td>\n",
              "    </tr>\n",
              "    <tr>\n",
              "      <th>71117</th>\n",
              "      <td>2.33</td>\n",
              "      <td>0.665</td>\n",
              "      <td>2.33</td>\n",
              "    </tr>\n",
              "  </tbody>\n",
              "</table>\n",
              "</div>"
            ],
            "text/plain": [
              "       relevance  my_relevance  my_relevance2\n",
              "68689       2.67         0.835           2.67\n",
              "12142       2.33         0.665           2.33\n",
              "74039       2.33         0.665           2.33\n",
              "71117       2.33         0.665           2.33"
            ]
          },
          "metadata": {
            "tags": []
          },
          "execution_count": 16
        }
      ]
    },
    {
      "cell_type": "code",
      "metadata": {
        "colab": {
          "base_uri": "https://localhost:8080/",
          "height": 297
        },
        "id": "EcIh2Oqq4tQV",
        "outputId": "972b3907-77a9-421c-a771-87cbb5f4ff7a"
      },
      "source": [
        "train_df.describe()"
      ],
      "execution_count": null,
      "outputs": [
        {
          "output_type": "execute_result",
          "data": {
            "text/html": [
              "<div>\n",
              "<style scoped>\n",
              "    .dataframe tbody tr th:only-of-type {\n",
              "        vertical-align: middle;\n",
              "    }\n",
              "\n",
              "    .dataframe tbody tr th {\n",
              "        vertical-align: top;\n",
              "    }\n",
              "\n",
              "    .dataframe thead th {\n",
              "        text-align: right;\n",
              "    }\n",
              "</style>\n",
              "<table border=\"1\" class=\"dataframe\">\n",
              "  <thead>\n",
              "    <tr style=\"text-align: right;\">\n",
              "      <th></th>\n",
              "      <th>id</th>\n",
              "      <th>product_uid</th>\n",
              "      <th>relevance</th>\n",
              "      <th>my_relevance</th>\n",
              "      <th>my_relevance2</th>\n",
              "    </tr>\n",
              "  </thead>\n",
              "  <tbody>\n",
              "    <tr>\n",
              "      <th>count</th>\n",
              "      <td>74067.000000</td>\n",
              "      <td>74067.000000</td>\n",
              "      <td>74067.000000</td>\n",
              "      <td>74067.000000</td>\n",
              "      <td>74067.000000</td>\n",
              "    </tr>\n",
              "    <tr>\n",
              "      <th>mean</th>\n",
              "      <td>112385.709223</td>\n",
              "      <td>142331.911553</td>\n",
              "      <td>2.381634</td>\n",
              "      <td>0.690817</td>\n",
              "      <td>2.381634</td>\n",
              "    </tr>\n",
              "    <tr>\n",
              "      <th>std</th>\n",
              "      <td>64016.573650</td>\n",
              "      <td>30770.774864</td>\n",
              "      <td>0.533984</td>\n",
              "      <td>0.266992</td>\n",
              "      <td>0.533984</td>\n",
              "    </tr>\n",
              "    <tr>\n",
              "      <th>min</th>\n",
              "      <td>2.000000</td>\n",
              "      <td>100001.000000</td>\n",
              "      <td>1.000000</td>\n",
              "      <td>0.000000</td>\n",
              "      <td>1.000000</td>\n",
              "    </tr>\n",
              "    <tr>\n",
              "      <th>25%</th>\n",
              "      <td>57163.500000</td>\n",
              "      <td>115128.500000</td>\n",
              "      <td>2.000000</td>\n",
              "      <td>0.500000</td>\n",
              "      <td>2.000000</td>\n",
              "    </tr>\n",
              "    <tr>\n",
              "      <th>50%</th>\n",
              "      <td>113228.000000</td>\n",
              "      <td>137334.000000</td>\n",
              "      <td>2.330000</td>\n",
              "      <td>0.665000</td>\n",
              "      <td>2.330000</td>\n",
              "    </tr>\n",
              "    <tr>\n",
              "      <th>75%</th>\n",
              "      <td>168275.500000</td>\n",
              "      <td>166883.500000</td>\n",
              "      <td>3.000000</td>\n",
              "      <td>1.000000</td>\n",
              "      <td>3.000000</td>\n",
              "    </tr>\n",
              "    <tr>\n",
              "      <th>max</th>\n",
              "      <td>221473.000000</td>\n",
              "      <td>206650.000000</td>\n",
              "      <td>3.000000</td>\n",
              "      <td>1.000000</td>\n",
              "      <td>3.000000</td>\n",
              "    </tr>\n",
              "  </tbody>\n",
              "</table>\n",
              "</div>"
            ],
            "text/plain": [
              "                  id    product_uid     relevance  my_relevance  my_relevance2\n",
              "count   74067.000000   74067.000000  74067.000000  74067.000000   74067.000000\n",
              "mean   112385.709223  142331.911553      2.381634      0.690817       2.381634\n",
              "std     64016.573650   30770.774864      0.533984      0.266992       0.533984\n",
              "min         2.000000  100001.000000      1.000000      0.000000       1.000000\n",
              "25%     57163.500000  115128.500000      2.000000      0.500000       2.000000\n",
              "50%    113228.000000  137334.000000      2.330000      0.665000       2.330000\n",
              "75%    168275.500000  166883.500000      3.000000      1.000000       3.000000\n",
              "max    221473.000000  206650.000000      3.000000      1.000000       3.000000"
            ]
          },
          "metadata": {
            "tags": []
          },
          "execution_count": 17
        }
      ]
    },
    {
      "cell_type": "code",
      "metadata": {
        "colab": {
          "base_uri": "https://localhost:8080/"
        },
        "id": "n2ZgdzI4DeUR",
        "outputId": "d8350c2f-c3a8-4ef7-a33e-1f61497ea470"
      },
      "source": [
        "train_df.drop_duplicates([\"product_uid\"]).shape[0]/len(train_df)"
      ],
      "execution_count": null,
      "outputs": [
        {
          "output_type": "execute_result",
          "data": {
            "text/plain": [
              "0.7380749861611784"
            ]
          },
          "metadata": {
            "tags": []
          },
          "execution_count": 24
        }
      ]
    },
    {
      "cell_type": "code",
      "metadata": {
        "colab": {
          "base_uri": "https://localhost:8080/"
        },
        "id": "MoiInP_e5LJw",
        "outputId": "c8582c97-1e15-47d3-a821-7272412af794"
      },
      "source": [
        "# pd.merge(train_df, desc_df, how='left', on='product_uid').shape[0]"
      ],
      "execution_count": null,
      "outputs": [
        {
          "output_type": "execute_result",
          "data": {
            "text/plain": [
              "74067"
            ]
          },
          "metadata": {
            "tags": []
          },
          "execution_count": 50
        }
      ]
    },
    {
      "cell_type": "code",
      "metadata": {
        "colab": {
          "base_uri": "https://localhost:8080/"
        },
        "id": "4GSioO4uDVOs",
        "outputId": "92ab16e7-d4c5-4b60-a558-4b1c22e98347"
      },
      "source": [
        "train_df.shape[0]"
      ],
      "execution_count": null,
      "outputs": [
        {
          "output_type": "execute_result",
          "data": {
            "text/plain": [
              "74067"
            ]
          },
          "metadata": {
            "tags": []
          },
          "execution_count": 24
        }
      ]
    },
    {
      "cell_type": "code",
      "metadata": {
        "id": "-VZQCATBHsLL"
      },
      "source": [
        "EMPTY_STRING = ''\n",
        "SPACE = ' '\n",
        "def clean_text(string):\n",
        "  if string is None:\n",
        "    return None\n",
        "\n",
        "  string = string.strip().lower()\n",
        "  string = unidecode.unidecode(string)\n",
        "  string = string.replace(\"'\", EMPTY_STRING)\n",
        "  string = re.sub(r\"\\'n\", SPACE, string)\n",
        "  string = re.sub(r\"\\'s\", \" 's\", string)\n",
        "  string = re.sub(r\"\\'ve\", \" 've\", string)\n",
        "  string = re.sub(r\"n\\'t\", \" n't\", string)\n",
        "  string = re.sub(r\"\\'re\", \" 're\", string)\n",
        "  string = re.sub(r\"\\'d\", \" 'd\", string)\n",
        "  string = re.sub(r\"\\'ll\", \" 'll\", string)\n",
        "  string = re.sub(r\",\", \" , \", string)\n",
        "  string = re.sub(r\"!\", \" ! \", string)\n",
        "  string = re.sub(r\"\\(\", \" ( \", string)\n",
        "  string = re.sub(r\"\\)\", \" ) \", string)\n",
        "  string = re.sub(r\"\\?\", r\" \\? \", string)\n",
        "  string = re.sub(r\"\\s{2,}\", SPACE, string)\n",
        "  string = re.sub(r\" +\", SPACE, string)\n",
        "  string = re.sub(r\"/\", \" / \", string)\n",
        "  string = re.sub(r\"\\|\", \" | \", string)\n",
        "  string = re.sub(r\"-\", \" - \", string)\n",
        "  string = re.sub(r\"\\+\", \" + \", string)\n",
        "  string = re.sub(r\"\\\\\\\\\", SPACE, string)\n",
        "\n",
        "  return string.strip()\n"
      ],
      "execution_count": 13,
      "outputs": []
    },
    {
      "cell_type": "code",
      "metadata": {
        "id": "knD9_juYJh-2"
      },
      "source": [
        "_characters_to_clean = string.punctuation + \"''\"\n",
        "EN_STOP_WORDS = set(stopwords.words('english')) - set(['can', 'no', 'up', 'against', 'after', 'before', 'below'])\n",
        "\n",
        "PUNCTUATIONS = '!\"#$&\\'()*+,-./:;<=>?@[\\\\]^_`{|}~'\n",
        "\n",
        "PUNCTUATIONS_PATTERN = re.compile(\"[{}]+$\".format(re.escape(PUNCTUATIONS)))\n",
        "\n",
        "from nltk.stem.porter import PorterStemmer\n",
        "stemmer = PorterStemmer()\n",
        "\n",
        "def _is_punctuation_only(word: str):\n",
        "    return PUNCTUATIONS_PATTERN.match(word)\n",
        "\n",
        "def filter_ale_punctuation(words):\n",
        "    return [word for word in words if not _is_punctuation_only(word)] if words is not None else None\n",
        "\n",
        "def tokenize(text):\n",
        "  \n",
        "  processed_text = clean_text(text)\n",
        "  tokens = nltk.word_tokenize(processed_text)\n",
        "\n",
        "  \n",
        "  tokens = [stemmer.stem(word) for word in tokens]\n",
        "  tokens = [word for word in tokens if word not in _characters_to_clean and word not in EN_STOP_WORDS]\n",
        "  tokens = filter_ale_punctuation(tokens)\n",
        "  tokens = [re.sub(\"\\d\", \"#\", word) for word in tokens]\n",
        "\n",
        "  return tokens if len(tokens) > 0 else None\n"
      ],
      "execution_count": 14,
      "outputs": []
    },
    {
      "cell_type": "code",
      "metadata": {
        "colab": {
          "base_uri": "https://localhost:8080/"
        },
        "id": "BSXhO_yKJ78V",
        "outputId": "5829e55a-eca5-4e47-9da2-8721fe75f5b3"
      },
      "source": [
        "# tokenize(\"he went home 123 times, before we --gabi op. -;[]\")"
      ],
      "execution_count": null,
      "outputs": [
        {
          "output_type": "execute_result",
          "data": {
            "text/plain": [
              "['went', 'home', '###', 'time', 'befor', 'gabi', 'op']"
            ]
          },
          "metadata": {
            "tags": []
          },
          "execution_count": 40
        }
      ]
    },
    {
      "cell_type": "code",
      "metadata": {
        "colab": {
          "base_uri": "https://localhost:8080/"
        },
        "id": "UWbi3atuLKEU",
        "outputId": "02e326cc-c712-4f1b-e09a-ab0855c64f13"
      },
      "source": [
        ""
      ],
      "execution_count": null,
      "outputs": [
        {
          "output_type": "stream",
          "text": [
            "/usr/local/lib/python3.7/dist-packages/ipykernel_launcher.py:1: FutureWarning: Passing a negative integer is deprecated in version 1.0 and will not be supported in future version. Instead, use None to not limit the column width.\n",
            "  \"\"\"Entry point for launching an IPython kernel.\n"
          ],
          "name": "stderr"
        },
        {
          "output_type": "execute_result",
          "data": {
            "text/plain": [
              "0.9997299742125373"
            ]
          },
          "metadata": {
            "tags": []
          },
          "execution_count": 58
        }
      ]
    },
    {
      "cell_type": "code",
      "metadata": {
        "colab": {
          "base_uri": "https://localhost:8080/"
        },
        "id": "PBmOPW8hJAC7",
        "outputId": "dc097c94-af0e-43a1-f1d8-4a22a2a14558"
      },
      "source": [
        "train_df['product_title_tokens'] = train_df['product_title'].progress_apply(tokenize)"
      ],
      "execution_count": 15,
      "outputs": [
        {
          "output_type": "stream",
          "text": [
            "100%|██████████| 74067/74067 [00:37<00:00, 1979.85it/s]\n"
          ],
          "name": "stderr"
        }
      ]
    },
    {
      "cell_type": "code",
      "metadata": {
        "colab": {
          "base_uri": "https://localhost:8080/"
        },
        "id": "qWEyqUS_JITR",
        "outputId": "fc00dd33-bbf5-4374-b51a-6982bbaa0a6d"
      },
      "source": [
        "train_df['search_term_tokens'] = train_df['search_term'].progress_apply(tokenize)"
      ],
      "execution_count": 16,
      "outputs": [
        {
          "output_type": "stream",
          "text": [
            "100%|██████████| 74067/74067 [00:14<00:00, 5066.85it/s]\n"
          ],
          "name": "stderr"
        }
      ]
    },
    {
      "cell_type": "code",
      "metadata": {
        "colab": {
          "base_uri": "https://localhost:8080/"
        },
        "id": "tlqKW3Pqjosz",
        "outputId": "d5c916e9-c9ac-48dd-95a5-b4b180dc63de"
      },
      "source": [
        "\n",
        "test_df['product_title_tokens'] = test_df['product_title'].progress_apply(tokenize)\n"
      ],
      "execution_count": 17,
      "outputs": [
        {
          "output_type": "stream",
          "text": [
            "100%|██████████| 166693/166693 [01:23<00:00, 1999.15it/s]\n"
          ],
          "name": "stderr"
        }
      ]
    },
    {
      "cell_type": "code",
      "metadata": {
        "colab": {
          "base_uri": "https://localhost:8080/"
        },
        "id": "TGbOT4XBjxm7",
        "outputId": "22499478-49f1-494d-bafa-8ab43648339b"
      },
      "source": [
        "test_df['search_term_tokens'] = test_df['search_term'].progress_apply(tokenize)"
      ],
      "execution_count": 18,
      "outputs": [
        {
          "output_type": "stream",
          "text": [
            "100%|██████████| 166693/166693 [00:32<00:00, 5135.47it/s]\n"
          ],
          "name": "stderr"
        }
      ]
    },
    {
      "cell_type": "code",
      "metadata": {
        "id": "D3gp5t6lL4Ae",
        "colab": {
          "base_uri": "https://localhost:8080/"
        },
        "outputId": "6f42ae8f-0ea8-4fc5-ba5e-1d26edf70afc"
      },
      "source": [
        "pd.set_option(\"max_colwidth\", -1)\n",
        "\n",
        "original_train_df_length = len(train_df)\n",
        "train_df = train_df[train_df['search_term_tokens'].notnull()]\n",
        "len(train_df)/original_train_df_length"
      ],
      "execution_count": 19,
      "outputs": [
        {
          "output_type": "stream",
          "text": [
            "/usr/local/lib/python3.7/dist-packages/ipykernel_launcher.py:1: FutureWarning: Passing a negative integer is deprecated in version 1.0 and will not be supported in future version. Instead, use None to not limit the column width.\n",
            "  \"\"\"Entry point for launching an IPython kernel.\n"
          ],
          "name": "stderr"
        },
        {
          "output_type": "execute_result",
          "data": {
            "text/plain": [
              "0.9997299742125373"
            ]
          },
          "metadata": {
            "tags": []
          },
          "execution_count": 19
        }
      ]
    },
    {
      "cell_type": "code",
      "metadata": {
        "colab": {
          "base_uri": "https://localhost:8080/",
          "height": 227
        },
        "id": "f3eVXii3JfNI",
        "outputId": "606ed97a-b2ec-467c-e23c-2efc6e77f052"
      },
      "source": [
        "train_df.sample(3)"
      ],
      "execution_count": null,
      "outputs": [
        {
          "output_type": "execute_result",
          "data": {
            "text/html": [
              "<div>\n",
              "<style scoped>\n",
              "    .dataframe tbody tr th:only-of-type {\n",
              "        vertical-align: middle;\n",
              "    }\n",
              "\n",
              "    .dataframe tbody tr th {\n",
              "        vertical-align: top;\n",
              "    }\n",
              "\n",
              "    .dataframe thead th {\n",
              "        text-align: right;\n",
              "    }\n",
              "</style>\n",
              "<table border=\"1\" class=\"dataframe\">\n",
              "  <thead>\n",
              "    <tr style=\"text-align: right;\">\n",
              "      <th></th>\n",
              "      <th>id</th>\n",
              "      <th>product_uid</th>\n",
              "      <th>product_title</th>\n",
              "      <th>search_term</th>\n",
              "      <th>relevance</th>\n",
              "      <th>my_relevance</th>\n",
              "      <th>my_relevance2</th>\n",
              "      <th>product_title_tokens</th>\n",
              "      <th>search_term_tokens</th>\n",
              "      <th>relevance_class</th>\n",
              "    </tr>\n",
              "  </thead>\n",
              "  <tbody>\n",
              "    <tr>\n",
              "      <th>20655</th>\n",
              "      <td>63776</td>\n",
              "      <td>117392</td>\n",
              "      <td>Milwaukee Electricians Work Belt</td>\n",
              "      <td>MILWAUKEE TOOL BELT</td>\n",
              "      <td>3.00</td>\n",
              "      <td>1.000</td>\n",
              "      <td>3.00</td>\n",
              "      <td>[milwauke, electrician, work, belt]</td>\n",
              "      <td>[milwauke, tool, belt]</td>\n",
              "      <td>0</td>\n",
              "    </tr>\n",
              "    <tr>\n",
              "      <th>40553</th>\n",
              "      <td>123688</td>\n",
              "      <td>142305</td>\n",
              "      <td>Hedrix 11 oz. Match of 314 Red Cedar Low Lustre Custom Spray Paint (2-Pack)</td>\n",
              "      <td>cedar spray</td>\n",
              "      <td>2.33</td>\n",
              "      <td>0.665</td>\n",
              "      <td>2.33</td>\n",
              "      <td>[hedrix, ##, oz, match, ###, red, cedar, low, lustr, custom, spray, paint, #, pack]</td>\n",
              "      <td>[cedar, spray]</td>\n",
              "      <td>2</td>\n",
              "    </tr>\n",
              "    <tr>\n",
              "      <th>3887</th>\n",
              "      <td>12078</td>\n",
              "      <td>102115</td>\n",
              "      <td>MOEN Banbury Single-Handle Pull-Out Sprayer Kitchen Faucet in Spot Resist Stainless</td>\n",
              "      <td>moen kitchen faucet brambury</td>\n",
              "      <td>2.33</td>\n",
              "      <td>0.665</td>\n",
              "      <td>2.33</td>\n",
              "      <td>[moen, banburi, singl, handl, pull, sprayer, kitchen, faucet, spot, resist, stainless]</td>\n",
              "      <td>[moen, kitchen, faucet, bramburi]</td>\n",
              "      <td>2</td>\n",
              "    </tr>\n",
              "  </tbody>\n",
              "</table>\n",
              "</div>"
            ],
            "text/plain": [
              "           id  product_uid  ...                 search_term_tokens relevance_class\n",
              "20655  63776   117392       ...  [milwauke, tool, belt]             0             \n",
              "40553  123688  142305       ...  [cedar, spray]                     2             \n",
              "3887   12078   102115       ...  [moen, kitchen, faucet, bramburi]  2             \n",
              "\n",
              "[3 rows x 10 columns]"
            ]
          },
          "metadata": {
            "tags": []
          },
          "execution_count": 52
        }
      ]
    },
    {
      "cell_type": "code",
      "metadata": {
        "id": "avWAdjfoKyoi"
      },
      "source": [
        "all_words = [word for words in train_df['search_term_tokens'].tolist() for word in words]\n",
        "all_words.extend([word for words in train_df['product_title_tokens'].tolist() for word in words])\n"
      ],
      "execution_count": 20,
      "outputs": []
    },
    {
      "cell_type": "code",
      "metadata": {
        "id": "aoNQJXA_NcFN"
      },
      "source": [
        "WORD_REPLACE_MENT = '<word>'\n",
        "PAD_WORD = \"<pad>\""
      ],
      "execution_count": 21,
      "outputs": []
    },
    {
      "cell_type": "code",
      "metadata": {
        "id": "KyjfyQmxMA28"
      },
      "source": [
        "from collections import Counter\n",
        "# sentenses = train_df['search_term_tokens'].tolist()\n",
        "# sentenses.extend(train_df['product_title_tokens'].tolist())\n",
        "counts = Counter(all_words)\n"
      ],
      "execution_count": 22,
      "outputs": []
    },
    {
      "cell_type": "code",
      "metadata": {
        "id": "Q0DjFymeMqeK"
      },
      "source": [
        "MIN_WORD_COUNT = 3"
      ],
      "execution_count": 23,
      "outputs": []
    },
    {
      "cell_type": "code",
      "metadata": {
        "colab": {
          "base_uri": "https://localhost:8080/"
        },
        "id": "-MnkT1xzONVQ",
        "outputId": "3452d969-abe9-4985-8192-ce92e4de1864"
      },
      "source": [
        "vocab_words = set(all_words)\n",
        "vocab_size_before_threshold = len(vocab_words)\n",
        "vocab_words = {word for word in vocab_words if counts[word] >= MIN_WORD_COUNT}\n",
        "vocab_size_before_threshold, len(vocab_words), len(all_words)"
      ],
      "execution_count": 24,
      "outputs": [
        {
          "output_type": "execute_result",
          "data": {
            "text/plain": [
              "(16345, 10327, 1055648)"
            ]
          },
          "metadata": {
            "tags": []
          },
          "execution_count": 24
        }
      ]
    },
    {
      "cell_type": "code",
      "metadata": {
        "colab": {
          "base_uri": "https://localhost:8080/"
        },
        "id": "xYRLs4MfNRpz",
        "outputId": "b721b163-f067-497c-f465-306017cd2743"
      },
      "source": [
        "train_df['product_title_tokens'] = train_df['product_title_tokens'].progress_apply(lambda words: [word if word in vocab_words else WORD_REPLACE_MENT for word in words])"
      ],
      "execution_count": 25,
      "outputs": [
        {
          "output_type": "stream",
          "text": [
            "100%|██████████| 74047/74047 [00:00<00:00, 129457.54it/s]\n"
          ],
          "name": "stderr"
        }
      ]
    },
    {
      "cell_type": "code",
      "metadata": {
        "colab": {
          "base_uri": "https://localhost:8080/"
        },
        "id": "wlitDkeYNk0u",
        "outputId": "b6d51314-7441-42b6-e4eb-a2241454cb4b"
      },
      "source": [
        "train_df['search_term_tokens'] = train_df['search_term_tokens'].progress_apply(lambda words: [word if word in vocab_words else WORD_REPLACE_MENT for word in words])"
      ],
      "execution_count": 26,
      "outputs": [
        {
          "output_type": "stream",
          "text": [
            "100%|██████████| 74047/74047 [00:00<00:00, 407605.78it/s]\n"
          ],
          "name": "stderr"
        }
      ]
    },
    {
      "cell_type": "code",
      "metadata": {
        "colab": {
          "base_uri": "https://localhost:8080/"
        },
        "id": "k_abuT7Gj3Ag",
        "outputId": "e46fa123-95a2-4ea3-9cdc-493b9b42a245"
      },
      "source": [
        "test_df['product_title_tokens'] = test_df['product_title_tokens'].progress_apply(lambda words: [word if word in vocab_words else WORD_REPLACE_MENT for word in words])\n",
        "test_df['search_term_tokens'] = test_df['search_term_tokens'].progress_apply(lambda words: [word if word in vocab_words else WORD_REPLACE_MENT for word in words] if words is not None else [])"
      ],
      "execution_count": 27,
      "outputs": [
        {
          "output_type": "stream",
          "text": [
            "100%|██████████| 166693/166693 [00:00<00:00, 190306.80it/s]\n",
            "100%|██████████| 166693/166693 [00:00<00:00, 273935.90it/s]\n"
          ],
          "name": "stderr"
        }
      ]
    },
    {
      "cell_type": "code",
      "metadata": {
        "colab": {
          "base_uri": "https://localhost:8080/",
          "height": 49
        },
        "id": "BV7N4GDYNt70",
        "outputId": "bb0d6f9d-5d98-4b2a-a6e7-043f3385f7eb"
      },
      "source": [
        "train_df[train_df['product_title_tokens'].map(len) == 0]"
      ],
      "execution_count": 28,
      "outputs": [
        {
          "output_type": "execute_result",
          "data": {
            "text/html": [
              "<div>\n",
              "<style scoped>\n",
              "    .dataframe tbody tr th:only-of-type {\n",
              "        vertical-align: middle;\n",
              "    }\n",
              "\n",
              "    .dataframe tbody tr th {\n",
              "        vertical-align: top;\n",
              "    }\n",
              "\n",
              "    .dataframe thead th {\n",
              "        text-align: right;\n",
              "    }\n",
              "</style>\n",
              "<table border=\"1\" class=\"dataframe\">\n",
              "  <thead>\n",
              "    <tr style=\"text-align: right;\">\n",
              "      <th></th>\n",
              "      <th>id</th>\n",
              "      <th>product_uid</th>\n",
              "      <th>product_title</th>\n",
              "      <th>search_term</th>\n",
              "      <th>relevance</th>\n",
              "      <th>my_relevance</th>\n",
              "      <th>my_relevance2</th>\n",
              "      <th>product_title_tokens</th>\n",
              "      <th>search_term_tokens</th>\n",
              "    </tr>\n",
              "  </thead>\n",
              "  <tbody>\n",
              "  </tbody>\n",
              "</table>\n",
              "</div>"
            ],
            "text/plain": [
              "Empty DataFrame\n",
              "Columns: [id, product_uid, product_title, search_term, relevance, my_relevance, my_relevance2, product_title_tokens, search_term_tokens]\n",
              "Index: []"
            ]
          },
          "metadata": {
            "tags": []
          },
          "execution_count": 28
        }
      ]
    },
    {
      "cell_type": "code",
      "metadata": {
        "colab": {
          "base_uri": "https://localhost:8080/",
          "height": 49
        },
        "id": "9-RIhiikNx0N",
        "outputId": "edece3d4-6114-48a4-e96b-0e38a941b52b"
      },
      "source": [
        "train_df[train_df['search_term_tokens'].map(len) == 0]"
      ],
      "execution_count": 29,
      "outputs": [
        {
          "output_type": "execute_result",
          "data": {
            "text/html": [
              "<div>\n",
              "<style scoped>\n",
              "    .dataframe tbody tr th:only-of-type {\n",
              "        vertical-align: middle;\n",
              "    }\n",
              "\n",
              "    .dataframe tbody tr th {\n",
              "        vertical-align: top;\n",
              "    }\n",
              "\n",
              "    .dataframe thead th {\n",
              "        text-align: right;\n",
              "    }\n",
              "</style>\n",
              "<table border=\"1\" class=\"dataframe\">\n",
              "  <thead>\n",
              "    <tr style=\"text-align: right;\">\n",
              "      <th></th>\n",
              "      <th>id</th>\n",
              "      <th>product_uid</th>\n",
              "      <th>product_title</th>\n",
              "      <th>search_term</th>\n",
              "      <th>relevance</th>\n",
              "      <th>my_relevance</th>\n",
              "      <th>my_relevance2</th>\n",
              "      <th>product_title_tokens</th>\n",
              "      <th>search_term_tokens</th>\n",
              "    </tr>\n",
              "  </thead>\n",
              "  <tbody>\n",
              "  </tbody>\n",
              "</table>\n",
              "</div>"
            ],
            "text/plain": [
              "Empty DataFrame\n",
              "Columns: [id, product_uid, product_title, search_term, relevance, my_relevance, my_relevance2, product_title_tokens, search_term_tokens]\n",
              "Index: []"
            ]
          },
          "metadata": {
            "tags": []
          },
          "execution_count": 29
        }
      ]
    },
    {
      "cell_type": "code",
      "metadata": {
        "id": "jC-_3NcFN6vt"
      },
      "source": [
        "vocab = {word: index + 2 for (index, word) in enumerate(vocab_words - {PAD_WORD, WORD_REPLACE_MENT})}\n",
        "vocab[PAD_WORD] = 0 \n",
        "vocab[WORD_REPLACE_MENT] = 1\n",
        "PAD_WORD_ID = vocab[PAD_WORD]"
      ],
      "execution_count": 30,
      "outputs": []
    },
    {
      "cell_type": "code",
      "metadata": {
        "id": "hBWR3ogxzlgr",
        "outputId": "716d1182-421d-431a-ff3f-7b9172624365",
        "colab": {
          "base_uri": "https://localhost:8080/",
          "height": 307
        }
      },
      "source": [
        "!pip install scikit-learn==0.22.2\n",
        "\n"
      ],
      "execution_count": 65,
      "outputs": [
        {
          "output_type": "stream",
          "text": [
            "Collecting scikit-learn==0.22.2\n",
            "  Downloading scikit_learn-0.22.2-cp37-cp37m-manylinux1_x86_64.whl (7.1 MB)\n",
            "\u001b[K     |████████████████████████████████| 7.1 MB 35.6 MB/s \n",
            "\u001b[?25hRequirement already satisfied: joblib>=0.11 in /usr/local/lib/python3.7/dist-packages (from scikit-learn==0.22.2) (1.0.1)\n",
            "Requirement already satisfied: scipy>=0.17.0 in /usr/local/lib/python3.7/dist-packages (from scikit-learn==0.22.2) (1.4.1)\n",
            "Requirement already satisfied: numpy>=1.11.0 in /usr/local/lib/python3.7/dist-packages (from scikit-learn==0.22.2) (1.19.5)\n",
            "Installing collected packages: scikit-learn\n",
            "  Attempting uninstall: scikit-learn\n",
            "    Found existing installation: scikit-learn 0.22.2.post1\n",
            "    Uninstalling scikit-learn-0.22.2.post1:\n",
            "      Successfully uninstalled scikit-learn-0.22.2.post1\n",
            "Successfully installed scikit-learn-0.22.2\n"
          ],
          "name": "stdout"
        },
        {
          "output_type": "display_data",
          "data": {
            "application/vnd.colab-display-data+json": {
              "pip_warning": {
                "packages": [
                  "sklearn"
                ]
              }
            }
          },
          "metadata": {
            "tags": []
          }
        }
      ]
    },
    {
      "cell_type": "code",
      "metadata": {
        "id": "fIrQMC_njbh3",
        "outputId": "66f95889-e06b-4ce5-b12a-514fc82f02f1",
        "colab": {
          "base_uri": "https://localhost:8080/"
        }
      },
      "source": [
        "# len(vocab), torch.max(search_term), type(vocab)\n",
        "# token_id_to_word[10329], vocab['martha'], len(vocab), {x for x in range(0, len(vocab)+1) if x not in token_id_to_word}\n",
        "# {(word, index +2) for (index, word) in enumerate(vocab_words) if index +2 == 7828}\n",
        "from sklearn.utils.class_weight import compute_class_weight\n",
        "classes_weights = compute_class_weight(\"balanced\", classes=train_df.drop_duplicates(['relevance_class'])['relevance_class'].tolist(), y=train_df['relevance_class'].tolist())\n",
        "classes_weights"
      ],
      "execution_count": 71,
      "outputs": [
        {
          "output_type": "execute_result",
          "data": {
            "text/plain": [
              "array([2.97826043e-01, 2.99785425e+02, 3.54709371e-01, 3.74682481e-01,\n",
              "       4.85668748e-01, 2.71363653e+00, 8.41223317e-01, 1.89548189e+00,\n",
              "       1.42398077e+03, 5.17811189e+02, 6.32880342e+02, 1.13918462e+03,\n",
              "       5.17811189e+02])"
            ]
          },
          "metadata": {
            "tags": []
          },
          "execution_count": 71
        }
      ]
    },
    {
      "cell_type": "code",
      "metadata": {
        "id": "4J08IiqM0Yoa",
        "outputId": "b4a8cc0b-04b0-494d-db6a-e7119f3d651b",
        "colab": {
          "base_uri": "https://localhost:8080/"
        }
      },
      "source": [
        ""
      ],
      "execution_count": 72,
      "outputs": [
        {
          "output_type": "execute_result",
          "data": {
            "text/plain": [
              "8"
            ]
          },
          "metadata": {
            "tags": []
          },
          "execution_count": 72
        }
      ]
    },
    {
      "cell_type": "code",
      "metadata": {
        "id": "ysvXuI-DaYNR",
        "colab": {
          "base_uri": "https://localhost:8080/"
        },
        "outputId": "d115dadb-2a7b-4cc7-c187-c64a30298ad1"
      },
      "source": [
        "token_id_to_word = {id: word for (word, id) in vocab.items()}\n",
        "len(token_id_to_word), len(vocab)"
      ],
      "execution_count": 31,
      "outputs": [
        {
          "output_type": "execute_result",
          "data": {
            "text/plain": [
              "(10329, 10329)"
            ]
          },
          "metadata": {
            "tags": []
          },
          "execution_count": 31
        }
      ]
    },
    {
      "cell_type": "code",
      "metadata": {
        "colab": {
          "base_uri": "https://localhost:8080/",
          "height": 299
        },
        "id": "qhr-sK-Ja4hS",
        "outputId": "459d44b4-5c44-4b90-f752-0538c6c9e512"
      },
      "source": [
        "import seaborn as sns\n",
        "\n",
        "sns.histplot(data=train_df, x=\"relevance\")\n"
      ],
      "execution_count": 32,
      "outputs": [
        {
          "output_type": "execute_result",
          "data": {
            "text/plain": [
              "<matplotlib.axes._subplots.AxesSubplot at 0x7f5651f25690>"
            ]
          },
          "metadata": {
            "tags": []
          },
          "execution_count": 32
        },
        {
          "output_type": "display_data",
          "data": {
            "image/png": "[encoded data removed]",
            "text/plain": [
              "<Figure size 432x288 with 1 Axes>"
            ]
          },
          "metadata": {
            "tags": [],
            "needs_background": "light"
          }
        }
      ]
    },
    {
      "cell_type": "code",
      "metadata": {
        "id": "wlXHvpSaxhcv",
        "outputId": "16630ff0-9d90-48b1-e61a-5c0ee22b1429",
        "colab": {
          "base_uri": "https://localhost:8080/"
        }
      },
      "source": [
        ""
      ],
      "execution_count": 60,
      "outputs": [
        {
          "output_type": "execute_result",
          "data": {
            "text/plain": [
              "{0: 32, 5: 32}"
            ]
          },
          "metadata": {
            "tags": []
          },
          "execution_count": 60
        }
      ]
    },
    {
      "cell_type": "code",
      "metadata": {
        "colab": {
          "base_uri": "https://localhost:8080/"
        },
        "id": "Iw3XOMq7ceR4",
        "outputId": "78097660-f900-423b-d74b-7f11fca928e6"
      },
      "source": [
        "relevance_values = pd.unique(train_df['relevance']).tolist()\n",
        "\n",
        "relevance_map = {relevance: index for (index, relevance) in enumerate(relevance_values)}\n",
        "num_of_classes = len(relevance_map)\n",
        "relevance_map, num_of_classes"
      ],
      "execution_count": 33,
      "outputs": [
        {
          "output_type": "execute_result",
          "data": {
            "text/plain": [
              "({1.0: 5,\n",
              "  1.25: 8,\n",
              "  1.33: 7,\n",
              "  1.5: 11,\n",
              "  1.67: 6,\n",
              "  1.75: 10,\n",
              "  2.0: 4,\n",
              "  2.25: 12,\n",
              "  2.33: 2,\n",
              "  2.5: 1,\n",
              "  2.67: 3,\n",
              "  2.75: 9,\n",
              "  3.0: 0},\n",
              " 13)"
            ]
          },
          "metadata": {
            "tags": []
          },
          "execution_count": 33
        }
      ]
    },
    {
      "cell_type": "code",
      "metadata": {
        "colab": {
          "base_uri": "https://localhost:8080/"
        },
        "id": "3HGajw9zcWWT",
        "outputId": "2e0f8d2f-9fd4-4494-ec32-3b8186fb0275"
      },
      "source": [
        "train_df['relevance_class'] = train_df['relevance'].apply(lambda relevance: relevance_map[relevance])\n",
        "pd.unique(train_df['relevance_class'])"
      ],
      "execution_count": 34,
      "outputs": [
        {
          "output_type": "execute_result",
          "data": {
            "text/plain": [
              "array([ 0,  1,  2,  3,  4,  5,  6,  7,  8,  9, 10, 11, 12])"
            ]
          },
          "metadata": {
            "tags": []
          },
          "execution_count": 34
        }
      ]
    },
    {
      "cell_type": "code",
      "metadata": {
        "id": "ccgT0RxIx9xg",
        "outputId": "f510607c-1d31-42a5-b755-dc23499d6e89",
        "colab": {
          "base_uri": "https://localhost:8080/",
          "height": 283
        }
      },
      "source": [
        "ax = sns.countplot(x=\"relevance_class\", data=train_df)"
      ],
      "execution_count": 61,
      "outputs": [
        {
          "output_type": "display_data",
          "data": {
            "image/png": "[encoded data removed]",
            "text/plain": [
              "<Figure size 432x288 with 1 Axes>"
            ]
          },
          "metadata": {
            "tags": [],
            "needs_background": "light"
          }
        }
      ]
    },
    {
      "cell_type": "code",
      "metadata": {
        "id": "1UtpFLaO0eGv"
      },
      "source": [
        ""
      ],
      "execution_count": 75,
      "outputs": []
    },
    {
      "cell_type": "code",
      "metadata": {
        "id": "-cC_PmSZxzpX",
        "outputId": "8fee42d8-53e2-4e5b-c19a-8f227f28b104",
        "colab": {
          "base_uri": "https://localhost:8080/"
        }
      },
      "source": [
        "scores1 =  torch.argmax(scores, dim=1).detach().cpu().numpy().tolist()\n",
        "list(zip(scores1, tt))\n",
        "\n",
        "val_to_c = {}\n",
        "\n",
        "for x in scores1:\n",
        "  if x not in val_to_c:\n",
        "    val_to_c[x] = 0\n",
        "  \n",
        "  val_to_c[x] += 1\n",
        "\n",
        "val_to_c"
      ],
      "execution_count": 62,
      "outputs": [
        {
          "output_type": "execute_result",
          "data": {
            "text/plain": [
              "{0: 32, 5: 32}"
            ]
          },
          "metadata": {
            "tags": []
          },
          "execution_count": 62
        }
      ]
    },
    {
      "cell_type": "code",
      "metadata": {
        "colab": {
          "base_uri": "https://localhost:8080/",
          "height": 281
        },
        "id": "SGydTxu0O58b",
        "outputId": "a322c76e-7387-4e05-b01c-d90c713a42ca"
      },
      "source": [
        "import matplotlib.pyplot as plt\n",
        "\n",
        "search_term_lengths = train_df['search_term_tokens'].map(len).tolist()\n",
        "_ = plt.hist(search_term_lengths, bins='auto')  # arguments are passed to np.histogram\n",
        "plt.title(\"Search Term Lengths\")\n",
        "plt.show()"
      ],
      "execution_count": null,
      "outputs": [
        {
          "output_type": "display_data",
          "data": {
            "image/png": "[encoded data removed]",
            "text/plain": [
              "<Figure size 432x288 with 1 Axes>"
            ]
          },
          "metadata": {
            "tags": [],
            "needs_background": "light"
          }
        }
      ]
    },
    {
      "cell_type": "code",
      "metadata": {
        "colab": {
          "base_uri": "https://localhost:8080/",
          "height": 281
        },
        "id": "hdCgrrWaPKyy",
        "outputId": "4e286de0-73c0-495a-c72e-4a875463e6ae"
      },
      "source": [
        "import matplotlib.pyplot as plt\n",
        "\n",
        "title_lengths = train_df['product_title_tokens'].map(len).tolist()\n",
        "_ = plt.hist(title_lengths, bins='auto')  # arguments are passed to np.histogram\n",
        "plt.title(\"Titles Lengths\")\n",
        "plt.show()"
      ],
      "execution_count": null,
      "outputs": [
        {
          "output_type": "display_data",
          "data": {
            "image/png": "[encoded data removed]",
            "text/plain": [
              "<Figure size 432x288 with 1 Axes>"
            ]
          },
          "metadata": {
            "tags": [],
            "needs_background": "light"
          }
        }
      ]
    },
    {
      "cell_type": "code",
      "metadata": {
        "id": "935RIRNYPVmH"
      },
      "source": [
        "MAX_SEARCH_TERM_LENGTH = 5\n",
        "MAX_TITLE_LENGTH = 15"
      ],
      "execution_count": 35,
      "outputs": []
    },
    {
      "cell_type": "markdown",
      "metadata": {
        "id": "Zk7ITAnaPU7P"
      },
      "source": [
        ""
      ]
    },
    {
      "cell_type": "code",
      "metadata": {
        "id": "j8fGj-0COjWj"
      },
      "source": [
        "import random\n",
        "import time\n",
        "random.seed(int(time.time()))\n",
        "from torch.utils.data import Dataset,DataLoader\n",
        "import torch\n",
        "from torch import nn, utils\n",
        "import torch.nn.functional as F\n",
        "from torch.autograd import Variable \n",
        "from torch.optim.lr_scheduler import ReduceLROnPlateau\n",
        "\n",
        "import warnings\n",
        "warnings.filterwarnings('ignore')\n",
        "\n",
        "class DatasetLoader(Dataset):\n",
        "\n",
        "    def __init__(self, df, vocab):\n",
        "        self._df = df\n",
        "        self._vocab = vocab\n",
        "\n",
        "    def __len__(self):\n",
        "        return len(self._df)\n",
        "\n",
        "    def _fix_words(self, words_ids, required_size):\n",
        "        if len(words_ids) > required_size:\n",
        "            # ids = np.random.choice(len(words_ids), required_size)\n",
        "            words_ids = words_ids[0: required_size]\n",
        "        elif len(words_ids) < required_size:\n",
        "            b = np.zeros(required_size - len(words_ids), dtype=int)\n",
        "            words_ids = np.concatenate((words_ids, b), axis=None)\n",
        "\n",
        "        return words_ids\n",
        "\n",
        "    def __getitem__(self, idx):\n",
        "        row = self._df.iloc[idx]\n",
        "\n",
        "        search_term = np.array([self._vocab[w] for w in row['search_term_tokens']])\n",
        "        search_term_length = min(len(search_term), MAX_SEARCH_TERM_LENGTH)\n",
        "        search_term = self._fix_words(search_term, MAX_SEARCH_TERM_LENGTH)\n",
        "\n",
        "\n",
        "        product_title = np.array([self._vocab[w] for w in row['product_title_tokens']])\n",
        "        product_title_length = min(len(product_title), MAX_TITLE_LENGTH)\n",
        "        product_title = self._fix_words(product_title, MAX_TITLE_LENGTH)\n",
        "\n",
        "   \n",
        "\n",
        "        return row['id'], search_term, search_term_length, product_title, product_title_length, row['my_relevance']\n",
        "    \n"
      ],
      "execution_count": 36,
      "outputs": []
    },
    {
      "cell_type": "code",
      "metadata": {
        "colab": {
          "base_uri": "https://localhost:8080/",
          "height": 80
        },
        "id": "NRSLuzN1kqe7",
        "outputId": "ba0983f5-8570-43ea-e861-db8508f2a2cf"
      },
      "source": [
        "train_df.sample(1)"
      ],
      "execution_count": 37,
      "outputs": [
        {
          "output_type": "execute_result",
          "data": {
            "text/html": [
              "<div>\n",
              "<style scoped>\n",
              "    .dataframe tbody tr th:only-of-type {\n",
              "        vertical-align: middle;\n",
              "    }\n",
              "\n",
              "    .dataframe tbody tr th {\n",
              "        vertical-align: top;\n",
              "    }\n",
              "\n",
              "    .dataframe thead th {\n",
              "        text-align: right;\n",
              "    }\n",
              "</style>\n",
              "<table border=\"1\" class=\"dataframe\">\n",
              "  <thead>\n",
              "    <tr style=\"text-align: right;\">\n",
              "      <th></th>\n",
              "      <th>id</th>\n",
              "      <th>product_uid</th>\n",
              "      <th>product_title</th>\n",
              "      <th>search_term</th>\n",
              "      <th>relevance</th>\n",
              "      <th>my_relevance</th>\n",
              "      <th>my_relevance2</th>\n",
              "      <th>product_title_tokens</th>\n",
              "      <th>search_term_tokens</th>\n",
              "      <th>relevance_class</th>\n",
              "    </tr>\n",
              "  </thead>\n",
              "  <tbody>\n",
              "    <tr>\n",
              "      <th>39411</th>\n",
              "      <td>120234</td>\n",
              "      <td>140656</td>\n",
              "      <td>Tenmat Recessed Light Cover</td>\n",
              "      <td>insulation accessories</td>\n",
              "      <td>1.33</td>\n",
              "      <td>0.165</td>\n",
              "      <td>1.33</td>\n",
              "      <td>[&lt;word&gt;, recess, light, cover]</td>\n",
              "      <td>[insul, accessori]</td>\n",
              "      <td>7</td>\n",
              "    </tr>\n",
              "  </tbody>\n",
              "</table>\n",
              "</div>"
            ],
            "text/plain": [
              "           id  product_uid  ...  search_term_tokens relevance_class\n",
              "39411  120234  140656       ...  [insul, accessori]  7             \n",
              "\n",
              "[1 rows x 10 columns]"
            ]
          },
          "metadata": {
            "tags": []
          },
          "execution_count": 37
        }
      ]
    },
    {
      "cell_type": "code",
      "metadata": {
        "id": "rTudx3_9QEOw",
        "colab": {
          "base_uri": "https://localhost:8080/"
        },
        "outputId": "d6d85854-38df-4dff-bc98-7aa327177c31"
      },
      "source": [
        "BATCH_SIZE = 64\n",
        "train_data_df = train_df[['id', 'product_title_tokens', 'search_term_tokens', 'my_relevance', 'relevance', 'relevance_class']]\n",
        "train_data_df['my_relevance'] = train_data_df['relevance_class']\n",
        "data_loader = DatasetLoader(train_data_df, vocab)\n",
        "\n",
        "train_data_loader = torch.utils.data.DataLoader(data_loader,\n",
        "                                                 batch_size=BATCH_SIZE, shuffle=True, \n",
        "                                                 num_workers=4,drop_last=False)\n",
        "\n",
        "test_df['my_relevance'] = -1\n",
        "\n",
        "test_loader = DatasetLoader(test_df[['id', 'product_title_tokens', 'search_term_tokens', 'my_relevance']], vocab)\n",
        "\n",
        "test_data_loader = torch.utils.data.DataLoader(test_loader,\n",
        "                                                 batch_size=BATCH_SIZE, shuffle=False, \n",
        "                                                 num_workers=4,drop_last=False)\n",
        "\n",
        "len(data_loader)"
      ],
      "execution_count": 38,
      "outputs": [
        {
          "output_type": "execute_result",
          "data": {
            "text/plain": [
              "74047"
            ]
          },
          "metadata": {
            "tags": []
          },
          "execution_count": 38
        }
      ]
    },
    {
      "cell_type": "code",
      "metadata": {
        "id": "Jg9ZjtvyQYYj"
      },
      "source": [
        "for ids, search_term, search_term_length, product_title, product_title_length, relevance_score in train_data_loader:\n",
        "  break"
      ],
      "execution_count": 39,
      "outputs": []
    },
    {
      "cell_type": "code",
      "metadata": {
        "colab": {
          "base_uri": "https://localhost:8080/"
        },
        "id": "MAb7Xrshd-Ap",
        "outputId": "9a2e8992-0571-4ec0-fdb1-79a2e606c199"
      },
      "source": [
        "relevance_score"
      ],
      "execution_count": 40,
      "outputs": [
        {
          "output_type": "execute_result",
          "data": {
            "text/plain": [
              "tensor([0, 0, 4, 4, 5, 0, 3, 7, 3, 4, 3, 4, 2, 2, 7, 0, 0, 2, 2, 3, 2, 6, 0, 5,\n",
              "        4, 4, 6, 0, 3, 0, 6, 2, 3, 2, 2, 4, 0, 2, 6, 2, 7, 2, 4, 0, 0, 3, 3, 5,\n",
              "        4, 2, 0, 4, 0, 0, 0, 2, 2, 4, 3, 0, 7, 3, 0, 6])"
            ]
          },
          "metadata": {
            "tags": []
          },
          "execution_count": 40
        }
      ]
    },
    {
      "cell_type": "code",
      "metadata": {
        "id": "ZaU8p0SBalql",
        "colab": {
          "base_uri": "https://localhost:8080/"
        },
        "outputId": "c3805eba-76d1-4311-dd0b-27ccf16f4f61"
      },
      "source": [
        "[token_id_to_word[x] for x in product_title[4].numpy().tolist()]\n"
      ],
      "execution_count": 41,
      "outputs": [
        {
          "output_type": "execute_result",
          "data": {
            "text/plain": [
              "['huski',\n",
              " '##',\n",
              " 'ft.',\n",
              " 'x',\n",
              " '###',\n",
              " 'ft.',\n",
              " 'black',\n",
              " '#',\n",
              " 'mil',\n",
              " 'polyethylen',\n",
              " 'sheet',\n",
              " '##',\n",
              " 'roll',\n",
              " 'pallet',\n",
              " '<pad>']"
            ]
          },
          "metadata": {
            "tags": []
          },
          "execution_count": 41
        }
      ]
    },
    {
      "cell_type": "code",
      "metadata": {
        "id": "1wcUGHjMcBXu",
        "colab": {
          "base_uri": "https://localhost:8080/"
        },
        "outputId": "9a7ae922-616d-47ea-e062-8b88dd18fbeb"
      },
      "source": [
        "product_title_length[1]"
      ],
      "execution_count": null,
      "outputs": [
        {
          "output_type": "execute_result",
          "data": {
            "text/plain": [
              "tensor(11)"
            ]
          },
          "metadata": {
            "tags": []
          },
          "execution_count": 87
        }
      ]
    },
    {
      "cell_type": "code",
      "metadata": {
        "id": "3PREwU_6bclh",
        "colab": {
          "base_uri": "https://localhost:8080/",
          "height": 97
        },
        "outputId": "7dbc3555-077a-4a02-9e9c-bc9c5cb11af6"
      },
      "source": [
        "train_df[train_df['id'] == ids[4].numpy().item()]"
      ],
      "execution_count": null,
      "outputs": [
        {
          "output_type": "execute_result",
          "data": {
            "text/html": [
              "<div>\n",
              "<style scoped>\n",
              "    .dataframe tbody tr th:only-of-type {\n",
              "        vertical-align: middle;\n",
              "    }\n",
              "\n",
              "    .dataframe tbody tr th {\n",
              "        vertical-align: top;\n",
              "    }\n",
              "\n",
              "    .dataframe thead th {\n",
              "        text-align: right;\n",
              "    }\n",
              "</style>\n",
              "<table border=\"1\" class=\"dataframe\">\n",
              "  <thead>\n",
              "    <tr style=\"text-align: right;\">\n",
              "      <th></th>\n",
              "      <th>id</th>\n",
              "      <th>product_uid</th>\n",
              "      <th>product_title</th>\n",
              "      <th>search_term</th>\n",
              "      <th>relevance</th>\n",
              "      <th>my_relevance</th>\n",
              "      <th>my_relevance2</th>\n",
              "      <th>product_title_tokens</th>\n",
              "      <th>search_term_tokens</th>\n",
              "    </tr>\n",
              "  </thead>\n",
              "  <tbody>\n",
              "    <tr>\n",
              "      <th>41975</th>\n",
              "      <td>127829</td>\n",
              "      <td>144360</td>\n",
              "      <td>GE Profile Advantium 30 in. Electric Wall Oven with Speed Cook and Convection in Stainless Steel</td>\n",
              "      <td>built in oven microwave 30 in</td>\n",
              "      <td>2.33</td>\n",
              "      <td>0.665</td>\n",
              "      <td>2.33</td>\n",
              "      <td>[ge, profil, advantium, ##, electr, wall, oven, speed, cook, convect, stainless, steel]</td>\n",
              "      <td>[built, oven, microwav, ##]</td>\n",
              "    </tr>\n",
              "  </tbody>\n",
              "</table>\n",
              "</div>"
            ],
            "text/plain": [
              "           id  ...           search_term_tokens\n",
              "41975  127829  ...  [built, oven, microwav, ##]\n",
              "\n",
              "[1 rows x 9 columns]"
            ]
          },
          "metadata": {
            "tags": []
          },
          "execution_count": 62
        }
      ]
    },
    {
      "cell_type": "code",
      "metadata": {
        "colab": {
          "base_uri": "https://localhost:8080/"
        },
        "id": "gDYpQzBNRhe3",
        "outputId": "042594dc-8336-4400-eacf-31e36e5d50af"
      },
      "source": [
        "search_term.shape, search_term_length.shape , product_title.shape , product_title_length.shape  "
      ],
      "execution_count": null,
      "outputs": [
        {
          "output_type": "execute_result",
          "data": {
            "text/plain": [
              "(torch.Size([5, 5]), torch.Size([5]), torch.Size([5, 15]), torch.Size([5]))"
            ]
          },
          "metadata": {
            "tags": []
          },
          "execution_count": 63
        }
      ]
    },
    {
      "cell_type": "code",
      "metadata": {
        "id": "dnTv4wTQRn--"
      },
      "source": [
        "class EncoderModel(nn.Module):\n",
        "\n",
        "    def __init__(self, n_vocab):\n",
        "        super(EncoderModel, self).__init__()\n",
        "        self.lstm_size = 100\n",
        "        self.embedding_dim = 300\n",
        "        \n",
        "\n",
        "        self.embedding = nn.Embedding(\n",
        "            num_embeddings=n_vocab,\n",
        "            embedding_dim=self.embedding_dim,\n",
        "        )\n",
        "\n",
        "        self.rnn = nn.LSTM(self.embedding_dim, 300, 1, bidirectional=True, batch_first=True)\n",
        "        self.fc1 = nn.Linear(600, 300)\n",
        "        self.fc2 = nn.Linear(300, 100)\n",
        "\n",
        "    def forward(self, x, lengths):\n",
        "\n",
        "        embed = self.embedding(x)\n",
        "            \n",
        "        packed_input = pack_padded_sequence(embed, lengths, batch_first=True, enforce_sorted=False)\n",
        "        \n",
        "        packed_output, hn = self.rnn(packed_input)\n",
        "        output, _ = pad_packed_sequence(packed_output, batch_first=True)\n",
        "\n",
        "        \n",
        "        out_forward = output[range(len(output)), lengths - 1, :self.embedding_dim ]\n",
        "        out_reverse = output[:, 0, self.embedding_dim :]\n",
        "        out = torch.cat((out_forward, out_reverse), 1)\n",
        "        \n",
        "        #out = torch.tanh(out_reduced)\n",
        "        out = self.fc1(out)\n",
        "        out = torch.tanh(out)\n",
        "        out = self.fc2(out)\n",
        "\n",
        "        return out\n",
        "    \n",
        "    def reset_parameters(self):\n",
        "        nn.init.uniform_(self.fc1.weight)\n",
        "        nn.init.uniform_(self.fc2.weight)\n",
        "\n",
        "        for name, param in self.rnn.named_parameters():\n",
        "            if 'weight_ih' in name:\n",
        "                torch.nn.init.xavier_uniform_(param.data)\n",
        "            elif 'weight_hh' in name:\n",
        "                torch.nn.init.orthogonal_(param.data)\n",
        "            elif 'bias' in name:\n",
        "                param.data.fill_(0)\n",
        "        \n",
        "\n",
        "class RelevanceModel(nn.Module):\n",
        "\n",
        "  def __init__(self, n_vocab, num_of_classes):\n",
        "    super(RelevanceModel, self).__init__()\n",
        "    self.query_encoder = EncoderModel(n_vocab)#.to(device)\n",
        "    self.title_encoder = EncoderModel(n_vocab)#.to(device)\n",
        "    self.fc = nn.Linear(200, num_of_classes)\n",
        "    \n",
        "\n",
        "  def  forward(self, queries, titles, queries_lengths, titles_lengths):\n",
        "    encoded_queries = self.query_encoder(queries, queries_lengths)\n",
        "    title_encoded = self.title_encoder(titles, titles_lengths)\n",
        "\n",
        "    out = torch.cat((encoded_queries, title_encoded), 1)\n",
        "    #out = torch.tanh(out)\n",
        "\n",
        "  \n",
        "    out = self.fc(out)\n",
        "    \n",
        "    return out \n",
        "\n",
        "\n",
        "  def reset_parameters(self):\n",
        "    nn.init.uniform_(self.fc.weight)\n",
        "    self.query_encoder.reset_parameters()\n",
        "    self.title_encoder.reset_parameters()\n",
        "    \n",
        "\n",
        "# class RelevanceModel(nn.Module):\n",
        "\n",
        "#   def __init__(self, n_vocab):\n",
        "#     super(RelevanceModel, self).__init__()\n",
        "#     self.encoder = EncoderModel(n_vocab)#.to(device)\n",
        "#     #self.title_encoder = EncoderModel(n_vocab)#.to(device)\n",
        "#     self.fc = nn.Linear(200, 1)\n",
        "\n",
        "#   def  forward(self, queries, titles, queries_lengths, titles_lengths):\n",
        "#     encoded_queries = self.encoder(queries, queries_lengths)\n",
        "#     encoded_queries = self.encoder(titles, titles_lengths)\n",
        "\n",
        "#     out = torch.cat((query_encoded, title_encoded), 1).to(device)\n",
        "#     out = torch.tanh(out)\n",
        "\n",
        "  \n",
        "#     out = self.fc(out)\n",
        "\n",
        "#     return torch.sigmoid(out)\n",
        "\n",
        "#   def reset_parameters(self):\n",
        "#     nn.init.uniform_(self.fc.weight)\n",
        "#     self.encoder.reset_parameters()\n",
        "    \n"
      ],
      "execution_count": 42,
      "outputs": []
    },
    {
      "cell_type": "code",
      "metadata": {
        "id": "-VMlZG21ZCK1",
        "colab": {
          "base_uri": "https://localhost:8080/"
        },
        "outputId": "e4559ba7-c22e-4aeb-d0b1-039442bf9236"
      },
      "source": [
        "\n",
        "# # for x in model.parameters():\n",
        "# #   if not x.is_cuda:\n",
        "# #     print(x) \n",
        "\n",
        "# # e1 = EncoderModel(len(vocab)).to(device)\n",
        "# # r = e1(product_title.to(device), product_title_length)\n",
        "# output.shape, product_title_length\n",
        "# #output = r \n",
        "\n",
        "# #8\n",
        "# #out_forward = output[range(len(output)), lengths - 1, :self.embedding_dim ]\n",
        "\n",
        "# # output[range(len(output)), product_title_length - 1, :300][0]\n",
        "# product_title_length\n",
        "#output[0][14], product_title_length"
      ],
      "execution_count": null,
      "outputs": [
        {
          "output_type": "execute_result",
          "data": {
            "text/plain": [
              "tensor([14, 12, 10, 15,  8])"
            ]
          },
          "metadata": {
            "tags": []
          },
          "execution_count": 110
        }
      ]
    },
    {
      "cell_type": "code",
      "metadata": {
        "colab": {
          "base_uri": "https://localhost:8080/"
        },
        "id": "mOpN5VHYENQJ",
        "outputId": "5fdb6a9e-27b4-4018-d550-1631392db324"
      },
      "source": [
        "# output[0][13][300:]\n",
        "# output[:, 0, 300 :].shape, output[:, 0,]\n"
      ],
      "execution_count": null,
      "outputs": [
        {
          "output_type": "execute_result",
          "data": {
            "text/plain": [
              "(torch.Size([5, 300]), torch.Size([5, 15, 600]))"
            ]
          },
          "metadata": {
            "tags": []
          },
          "execution_count": 118
        }
      ]
    },
    {
      "cell_type": "code",
      "metadata": {
        "id": "qFR-SouFR5PB"
      },
      "source": [
        "from torch.nn.utils.rnn import pack_padded_sequence, pad_packed_sequence\n",
        "# query_encoder = EncoderModel(len(vocab))\n",
        "# title_encoder = EncoderModel(len(vocab))\n",
        "\n",
        "# query_encoder.reset_parameters()\n",
        "# title_encoder.reset_parameters()\n",
        "\n",
        "# #search_term, search_term_length, product_title, product_title_length\n",
        "# query_encoded = query_encoder(search_term, search_term_length)\n",
        "# title_encoded = query_encoder(product_title, product_title_length)\n",
        "# torch.cat((query_encoded, title_encoded), 1)"
      ],
      "execution_count": 43,
      "outputs": []
    },
    {
      "cell_type": "code",
      "metadata": {
        "colab": {
          "base_uri": "https://localhost:8080/"
        },
        "id": "CWnKAQe_WQyF",
        "outputId": "ba9ba6d3-eb68-45dc-e75d-9ef89c700dd0"
      },
      "source": [
        "device = torch.device('cuda' if torch.cuda.is_available() else 'cpu')\n",
        "device"
      ],
      "execution_count": 44,
      "outputs": [
        {
          "output_type": "execute_result",
          "data": {
            "text/plain": [
              "device(type='cuda')"
            ]
          },
          "metadata": {
            "tags": []
          },
          "execution_count": 44
        }
      ]
    },
    {
      "cell_type": "code",
      "metadata": {
        "id": "VEpPTJGLoi1d"
      },
      "source": [
        ""
      ],
      "execution_count": 44,
      "outputs": []
    },
    {
      "cell_type": "code",
      "metadata": {
        "id": "VDEK66lCTIt9"
      },
      "source": [
        "model = RelevanceModel(len(vocab), num_of_classes)\n",
        "model.reset_parameters()\n",
        "model.to(device)\n",
        "\n",
        "optimizer = torch.optim.Adam(\n",
        "        model.parameters(), lr=0.0005)\n",
        "\n",
        "# criterion  = nn.MSELoss(reduction='sum').to(device)\n",
        "class_weights=torch.tensor(classes_weights,dtype=torch.float)\n",
        "\n",
        "criterion = torch.nn.CrossEntropyLoss(weight = class_weights).to(device)\n",
        "\n",
        "# model(search_term, product_title, search_term_length,  product_title_length)"
      ],
      "execution_count": 77,
      "outputs": []
    },
    {
      "cell_type": "code",
      "metadata": {
        "colab": {
          "base_uri": "https://localhost:8080/"
        },
        "id": "tJiU_nc8WP8l",
        "outputId": "deab6246-765e-41cd-8062-ac8db2feef89"
      },
      "source": [
        "# device = torch.device('cuda' if torch.cuda.is_available() else 'cpu')\n",
        "# device\n",
        "# for ids, search_term, search_term_length, product_title, product_title_length, target_relevance_score in train_data_loader:\n",
        "#   break\n",
        "\n",
        "# search_term = Variable(search_term).to(device)\n",
        "# product_title = Variable(product_title).to(device)\n",
        "# model(search_term, product_title, search_term_length,  product_title_length)\n"
      ],
      "execution_count": null,
      "outputs": [
        {
          "output_type": "execute_result",
          "data": {
            "text/plain": [
              "(10329, tensor(10329), dict)"
            ]
          },
          "metadata": {
            "tags": []
          },
          "execution_count": 100
        }
      ]
    },
    {
      "cell_type": "code",
      "metadata": {
        "id": "knnaKV2bWAA8"
      },
      "source": [
        "\n",
        "model.train()\n",
        "\n",
        "for epoc in range(1000):\n",
        "\n",
        "  running_loss = 0.0\n",
        "  counter = 0.0\n",
        "\n",
        "  for ids, search_term, search_term_length, product_title, product_title_length, target_relevance_score in train_data_loader:\n",
        "    search_term = Variable(search_term).to(device)\n",
        "    product_title = Variable(product_title).to(device)\n",
        "    target_relevance_score = Variable(target_relevance_score).float().to(device)\n",
        "\n",
        "    optimizer.zero_grad()\n",
        "\n",
        "    scores = model(search_term, product_title, search_term_length,  product_title_length)\n",
        "    loss = criterion(scores, target_relevance_score.long())\n",
        "\n",
        "    \n",
        "\n",
        "    loss.backward()\n",
        "    optimizer.step()\n",
        "\n",
        "    #nn.utils.clip_grad_norm(model.parameters(), 0.5)\n",
        "    \n",
        "    running_loss += loss.item()\n",
        "    counter = search_term.shape[0]\n",
        "  #   break\n",
        "  \n",
        "  # break\n",
        "  \n",
        "  print('epoc {} loss {} counter {}'.format(epoc, running_loss/counter, counter))\n",
        "\n",
        "\n"
      ],
      "execution_count": null,
      "outputs": []
    },
    {
      "cell_type": "code",
      "metadata": {
        "id": "j23Rz5eLleqd",
        "colab": {
          "base_uri": "https://localhost:8080/"
        },
        "outputId": "64e845ac-9eea-47db-a8ff-4264f0abd8ac"
      },
      "source": [
        "# mse_loss(scores.view(1, -1), target_relevance_score.view(1, -1))\n",
        "# counter\n",
        "F.softmax(scores, dim=0)[0:2], scores[0:2], target_relevance_score[0:2]"
      ],
      "execution_count": null,
      "outputs": [
        {
          "output_type": "execute_result",
          "data": {
            "text/plain": [
              "(tensor([[0.0156],\n",
              "         [0.0156]], device='cuda:0', grad_fn=<SliceBackward>),\n",
              " tensor([[0.7205],\n",
              "         [0.7205]], device='cuda:0', grad_fn=<SliceBackward>),\n",
              " tensor([0.8350, 0.5000], dtype=torch.float64))"
            ]
          },
          "metadata": {
            "tags": []
          },
          "execution_count": 70
        }
      ]
    },
    {
      "cell_type": "code",
      "metadata": {
        "id": "Tgvd78qCkW8m"
      },
      "source": [
        "\n",
        "\n",
        "model.eval()\n",
        "test_scores = []\n",
        "test_ids =[]\n",
        "tt = []\n",
        "for ids, search_term, search_term_length, product_title, product_title_length, target_relevance_score in train_data_loader:\n",
        "  search_term = Variable(search_term).to(device)\n",
        "  product_title = Variable(product_title).to(device)\n",
        "  \n",
        "\n",
        "  scores = model(search_term, product_title, search_term_length,  product_title_length)\n",
        "\n",
        "  test_scores.extend(scores.detach().cpu().numpy().flatten().tolist())\n",
        "  test_ids.extend(ids.numpy().tolist())\n",
        "  tt.extend(target_relevance_score.numpy().tolist())\n",
        "\n",
        "  break\n",
        "  \n",
        "\n"
      ],
      "execution_count": 49,
      "outputs": []
    },
    {
      "cell_type": "code",
      "metadata": {
        "colab": {
          "base_uri": "https://localhost:8080/"
        },
        "id": "iYqvaAVNk6pY",
        "outputId": "0b326bf0-45da-46e5-d730-301658d24fae"
      },
      "source": [
        ""
      ],
      "execution_count": 59,
      "outputs": [
        {
          "output_type": "execute_result",
          "data": {
            "text/plain": [
              "{0: 32, 5: 32}"
            ]
          },
          "metadata": {
            "tags": []
          },
          "execution_count": 59
        }
      ]
    },
    {
      "cell_type": "code",
      "metadata": {
        "id": "gCkYUGAMgvqF",
        "colab": {
          "base_uri": "https://localhost:8080/"
        },
        "outputId": "fb85fd81-c742-40af-ef85-c75e6b847235"
      },
      "source": [
        "scores.detach().cpu().flatten().numpy().tolist()[17]"
      ],
      "execution_count": null,
      "outputs": [
        {
          "output_type": "execute_result",
          "data": {
            "text/plain": [
              "0.40383392572402954"
            ]
          },
          "metadata": {
            "tags": []
          },
          "execution_count": 59
        }
      ]
    }
  ]
}